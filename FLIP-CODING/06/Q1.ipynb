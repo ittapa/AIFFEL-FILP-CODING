{
 "cells": [
  {
   "cell_type": "markdown",
   "metadata": {},
   "source": [
    "# 완전탐색 - 1.모의고사\n",
    "- https://programmers.co.kr/learn/courses/30/lessons/42840"
   ]
  },
  {
   "cell_type": "markdown",
   "metadata": {},
   "source": [
    "\n",
    "1번 수포자 1,2,3,4,5 반복\n",
    "2번 수포자 2,1,2,3,2,4,2,5 반복\n",
    "3번 수포자 3.3,1,1,2,2,4,4,5,5 반복"
   ]
  },
  {
   "cell_type": "code",
   "execution_count": 30,
   "metadata": {
    "ExecuteTime": {
     "end_time": "2020-09-06T14:19:39.750889Z",
     "start_time": "2020-09-06T14:19:39.743681Z"
    }
   },
   "outputs": [],
   "source": [
    "def solution(answers):\n",
    "    \n",
    "    score=[0,0,0] # 점수 인덱스\n",
    "\n",
    "    # 1번 수포자\n",
    "    p1 = [1,2,3,4,5]\n",
    "    # 2번 수포자\n",
    "    p2 = [2,1,2,3,2,4,2,5]\n",
    "    # 3번 수포자\n",
    "    p3 = [3,3,1,1,2,2,4,4,5,5]\n",
    "    \n",
    "    for idx, a in enumerate(answers):\n",
    "        if p1[idx % 5] == a:\n",
    "            score[0] += 1\n",
    "        \n",
    "        if p2[idx % 8] == a:\n",
    "            score[1] += 1\n",
    "            \n",
    "        if p3[idx % 10] == a:\n",
    "            score[2] += 1\n",
    "            \n",
    "    # 가장 많이 맞힌 사람 번호index 선출\n",
    "    print(score)\n",
    "    answer = []\n",
    "    for idx, s in enumerate(score):\n",
    "        if s == max(score):\n",
    "            answer.append(idx+1)\n",
    "\n",
    "    return answer"
   ]
  },
  {
   "cell_type": "code",
   "execution_count": null,
   "metadata": {},
   "outputs": [],
   "source": []
  },
  {
   "cell_type": "code",
   "execution_count": 31,
   "metadata": {
    "ExecuteTime": {
     "end_time": "2020-09-06T14:19:40.969209Z",
     "start_time": "2020-09-06T14:19:40.963223Z"
    }
   },
   "outputs": [
    {
     "name": "stdout",
     "output_type": "stream",
     "text": [
      "[5, 0, 0]\n"
     ]
    },
    {
     "data": {
      "text/plain": [
       "[1]"
      ]
     },
     "execution_count": 31,
     "metadata": {},
     "output_type": "execute_result"
    }
   ],
   "source": [
    "a1 = [1,2,3,4,5]\n",
    "r1 = solution(a1)\n",
    "r1"
   ]
  },
  {
   "cell_type": "code",
   "execution_count": 32,
   "metadata": {
    "ExecuteTime": {
     "end_time": "2020-09-06T14:19:41.589597Z",
     "start_time": "2020-09-06T14:19:41.583467Z"
    }
   },
   "outputs": [
    {
     "data": {
      "text/plain": [
       "[1, 2, 3, 4, 5, 1, 2, 3, 4, 5, 1, 2, 3, 4, 5]"
      ]
     },
     "execution_count": 32,
     "metadata": {},
     "output_type": "execute_result"
    }
   ],
   "source": [
    "p1 = [1,2,3,4,5] +[1,2,3,4,5]\n",
    "p1 = p1 +[1,2,3,4,5]\n",
    "p1"
   ]
  },
  {
   "cell_type": "code",
   "execution_count": 12,
   "metadata": {
    "ExecuteTime": {
     "end_time": "2020-09-06T14:07:19.072767Z",
     "start_time": "2020-09-06T14:07:19.064288Z"
    }
   },
   "outputs": [
    {
     "data": {
      "text/plain": [
       "4"
      ]
     },
     "execution_count": 12,
     "metadata": {},
     "output_type": "execute_result"
    }
   ],
   "source": [
    "4%5"
   ]
  },
  {
   "cell_type": "code",
   "execution_count": null,
   "metadata": {},
   "outputs": [],
   "source": []
  }
 ],
 "metadata": {
  "kernelspec": {
   "display_name": "Python 3",
   "language": "python",
   "name": "python3"
  },
  "language_info": {
   "codemirror_mode": {
    "name": "ipython",
    "version": 3
   },
   "file_extension": ".py",
   "mimetype": "text/x-python",
   "name": "python",
   "nbconvert_exporter": "python",
   "pygments_lexer": "ipython3",
   "version": "3.7.6"
  },
  "toc": {
   "base_numbering": 1,
   "nav_menu": {},
   "number_sections": true,
   "sideBar": true,
   "skip_h1_title": false,
   "title_cell": "Table of Contents",
   "title_sidebar": "Contents",
   "toc_cell": false,
   "toc_position": {},
   "toc_section_display": true,
   "toc_window_display": false
  },
  "varInspector": {
   "cols": {
    "lenName": 16,
    "lenType": 16,
    "lenVar": 40
   },
   "kernels_config": {
    "python": {
     "delete_cmd_postfix": "",
     "delete_cmd_prefix": "del ",
     "library": "var_list.py",
     "varRefreshCmd": "print(var_dic_list())"
    },
    "r": {
     "delete_cmd_postfix": ") ",
     "delete_cmd_prefix": "rm(",
     "library": "var_list.r",
     "varRefreshCmd": "cat(var_dic_list()) "
    }
   },
   "types_to_exclude": [
    "module",
    "function",
    "builtin_function_or_method",
    "instance",
    "_Feature"
   ],
   "window_display": false
  }
 },
 "nbformat": 4,
 "nbformat_minor": 4
}
