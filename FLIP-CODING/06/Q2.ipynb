{
 "cells": [
  {
   "cell_type": "markdown",
   "metadata": {},
   "source": [
    "# 완전탐색 - 2. 소수 찾기\n",
    "\n",
    "- https://programmers.co.kr/learn/courses/30/lessons/42839"
   ]
  },
  {
   "cell_type": "code",
   "execution_count": null,
   "metadata": {},
   "outputs": [],
   "source": []
  },
  {
   "cell_type": "code",
   "execution_count": 168,
   "metadata": {
    "ExecuteTime": {
     "end_time": "2020-09-06T16:34:56.588449Z",
     "start_time": "2020-09-06T16:34:56.581762Z"
    }
   },
   "outputs": [],
   "source": [
    "import itertools\n",
    "\n",
    "def solution(numbers):\n",
    "    \n",
    "    # 경우의 수 만들기\n",
    "    #permutations 조합\n",
    "    # set으로 중복제거 \n",
    "    numlist = []\n",
    "\n",
    "    for i in range(1, len(numbers)+1):\n",
    "        nl = [list(nl) for nl in itertools.permutations(numbers, i)]\n",
    "        numlist.extend(nl)    \n",
    "    #print(numlist)\n",
    "    \n",
    "    # 조합별 합치고, 숫자로 변환\n",
    "    nums =[]\n",
    "    for num in numlist:\n",
    "        nums.append(int(\"\".join(num)))\n",
    "    \n",
    "    nums = list(set(nums))\n",
    "    # 소수인지 체크 및 카운팅\n",
    "    answer = 0\n",
    "    \n",
    "    print(nums)\n",
    "    for num in nums:\n",
    "        # 1 이아니고 자신-1 까지 수드을 나뉘어서 0이 안 될는 것 체크\n",
    "        flag =0\n",
    "        if num < 2:\n",
    "            continue\n",
    "        for n in range(2, num):\n",
    "            #print(num, n)\n",
    "            if num % n == 0:\n",
    "                flag= 1\n",
    "                break\n",
    "        if flag :\n",
    "            continue\n",
    "            \n",
    "\n",
    "        print(num)      \n",
    "        answer += 1\n",
    "    \n",
    "    return answer"
   ]
  },
  {
   "cell_type": "code",
   "execution_count": 169,
   "metadata": {
    "ExecuteTime": {
     "end_time": "2020-09-06T16:34:57.103599Z",
     "start_time": "2020-09-06T16:34:57.101316Z"
    }
   },
   "outputs": [
    {
     "name": "stdout",
     "output_type": "stream",
     "text": [
      "[1, 71, 17, 7]\n",
      "71\n",
      "17\n",
      "7\n",
      "r1:  3\n"
     ]
    }
   ],
   "source": [
    "n1 = \"17\"\n",
    "r1 = solution(n1)\n",
    "print(\"r1: \",r1)"
   ]
  },
  {
   "cell_type": "code",
   "execution_count": 170,
   "metadata": {
    "ExecuteTime": {
     "end_time": "2020-09-06T16:34:58.129848Z",
     "start_time": "2020-09-06T16:34:58.124541Z"
    }
   },
   "outputs": [
    {
     "name": "stdout",
     "output_type": "stream",
     "text": [
      "[0, 1, 101, 10, 11, 110]\n",
      "101\n",
      "11\n",
      "r2:  2\n"
     ]
    }
   ],
   "source": [
    "\n",
    "\n",
    "n2 = \"011\"\n",
    "r2 = solution(n2)\n",
    "print(\"r2: \", r2)"
   ]
  },
  {
   "cell_type": "code",
   "execution_count": 188,
   "metadata": {
    "ExecuteTime": {
     "end_time": "2020-09-06T16:39:39.116838Z",
     "start_time": "2020-09-06T16:39:39.114006Z"
    }
   },
   "outputs": [
    {
     "data": {
      "text/plain": [
       "[('0', '1'),\n",
       " ('0', '1'),\n",
       " ('0', '1'),\n",
       " ('1', '0'),\n",
       " ('1', '1'),\n",
       " ('1', '1'),\n",
       " ('1', '0'),\n",
       " ('1', '1'),\n",
       " ('1', '1'),\n",
       " ('1', '0'),\n",
       " ('1', '1'),\n",
       " ('1', '1')]"
      ]
     },
     "execution_count": 188,
     "metadata": {},
     "output_type": "execute_result"
    }
   ],
   "source": [
    "from itertools import permutations\n",
    "a = list(permutations(list(\"0111\"),2)) # set으로 중복제거\n",
    "a"
   ]
  },
  {
   "cell_type": "code",
   "execution_count": 183,
   "metadata": {
    "ExecuteTime": {
     "end_time": "2020-09-06T16:38:52.741216Z",
     "start_time": "2020-09-06T16:38:52.735502Z"
    }
   },
   "outputs": [
    {
     "data": {
      "text/plain": [
       "[('0', '1'), ('0', '1'), ('0', '1'), ('1', '1'), ('1', '1'), ('1', '1')]"
      ]
     },
     "execution_count": 183,
     "metadata": {},
     "output_type": "execute_result"
    }
   ],
   "source": [
    "from itertools import combinations\n",
    "a = list(combinations(list(\"0111\"),2)) # set으로 중복제거\n",
    "a"
   ]
  },
  {
   "cell_type": "code",
   "execution_count": 125,
   "metadata": {
    "ExecuteTime": {
     "end_time": "2020-09-06T16:22:15.839587Z",
     "start_time": "2020-09-06T16:22:15.837059Z"
    }
   },
   "outputs": [
    {
     "data": {
      "text/plain": [
       "'101'"
      ]
     },
     "execution_count": 125,
     "metadata": {},
     "output_type": "execute_result"
    }
   ],
   "source": [
    "\"\".join(a[0]) # q붙이기"
   ]
  },
  {
   "cell_type": "code",
   "execution_count": 164,
   "metadata": {
    "ExecuteTime": {
     "end_time": "2020-09-06T16:34:05.087679Z",
     "start_time": "2020-09-06T16:34:05.081517Z"
    }
   },
   "outputs": [
    {
     "data": {
      "text/plain": [
       "[('0', '1', '1'),\n",
       " ('0', '1', '1'),\n",
       " ('1', '0', '1'),\n",
       " ('1', '1', '0'),\n",
       " ('1', '0', '1'),\n",
       " ('1', '1', '0'),\n",
       " '0',\n",
       " '1',\n",
       " '1']"
      ]
     },
     "execution_count": 164,
     "metadata": {},
     "output_type": "execute_result"
    }
   ],
   "source": [
    "a = list(permutations(list(\"011\")))\n",
    "\n",
    "a+[b for b in \"011\"]"
   ]
  },
  {
   "cell_type": "code",
   "execution_count": 163,
   "metadata": {
    "ExecuteTime": {
     "end_time": "2020-09-06T16:33:54.734278Z",
     "start_time": "2020-09-06T16:33:54.728488Z"
    }
   },
   "outputs": [
    {
     "data": {
      "text/plain": [
       "{('0', '1', '1'), ('1', '0', '1'), ('1', '1', '0')}"
      ]
     },
     "execution_count": 163,
     "metadata": {},
     "output_type": "execute_result"
    }
   ],
   "source": [
    "b = set(permutations(list(\"011\")))\n",
    "b"
   ]
  },
  {
   "cell_type": "code",
   "execution_count": 160,
   "metadata": {
    "ExecuteTime": {
     "end_time": "2020-09-06T16:33:39.584207Z",
     "start_time": "2020-09-06T16:33:39.578892Z"
    }
   },
   "outputs": [
    {
     "name": "stdout",
     "output_type": "stream",
     "text": [
      "('1', '0', '1')\n",
      "('0', '1', '1')\n",
      "('1', '1', '0')\n",
      "['101', '011', '110']\n"
     ]
    }
   ],
   "source": [
    "nums =[]\n",
    "for num in a:\n",
    "    print(num)\n",
    "    nums.append(\"\".join(num))\n",
    "\n",
    "print(nums)"
   ]
  },
  {
   "cell_type": "code",
   "execution_count": 161,
   "metadata": {
    "ExecuteTime": {
     "end_time": "2020-09-06T16:33:40.094710Z",
     "start_time": "2020-09-06T16:33:40.090036Z"
    }
   },
   "outputs": [],
   "source": [
    "if 0 : print(1)"
   ]
  },
  {
   "cell_type": "code",
   "execution_count": null,
   "metadata": {},
   "outputs": [],
   "source": []
  }
 ],
 "metadata": {
  "kernelspec": {
   "display_name": "Python 3",
   "language": "python",
   "name": "python3"
  },
  "language_info": {
   "codemirror_mode": {
    "name": "ipython",
    "version": 3
   },
   "file_extension": ".py",
   "mimetype": "text/x-python",
   "name": "python",
   "nbconvert_exporter": "python",
   "pygments_lexer": "ipython3",
   "version": "3.7.6"
  },
  "toc": {
   "base_numbering": 1,
   "nav_menu": {},
   "number_sections": true,
   "sideBar": true,
   "skip_h1_title": false,
   "title_cell": "Table of Contents",
   "title_sidebar": "Contents",
   "toc_cell": false,
   "toc_position": {},
   "toc_section_display": true,
   "toc_window_display": false
  },
  "varInspector": {
   "cols": {
    "lenName": 16,
    "lenType": 16,
    "lenVar": 40
   },
   "kernels_config": {
    "python": {
     "delete_cmd_postfix": "",
     "delete_cmd_prefix": "del ",
     "library": "var_list.py",
     "varRefreshCmd": "print(var_dic_list())"
    },
    "r": {
     "delete_cmd_postfix": ") ",
     "delete_cmd_prefix": "rm(",
     "library": "var_list.r",
     "varRefreshCmd": "cat(var_dic_list()) "
    }
   },
   "types_to_exclude": [
    "module",
    "function",
    "builtin_function_or_method",
    "instance",
    "_Feature"
   ],
   "window_display": false
  }
 },
 "nbformat": 4,
 "nbformat_minor": 4
}
