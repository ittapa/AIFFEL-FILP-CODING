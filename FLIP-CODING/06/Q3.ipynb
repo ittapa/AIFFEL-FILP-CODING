{
 "cells": [
  {
   "cell_type": "markdown",
   "metadata": {
    "ExecuteTime": {
     "end_time": "2020-09-06T16:43:39.574534Z",
     "start_time": "2020-09-06T16:43:39.565798Z"
    }
   },
   "source": [
    "# 완전탐색 - 3. 카펫 \n",
    "\n",
    "- https://programmers.co.kr/learn/courses/30/lessons/42842"
   ]
  },
  {
   "cell_type": "code",
   "execution_count": 31,
   "metadata": {
    "ExecuteTime": {
     "end_time": "2020-09-06T17:04:39.022790Z",
     "start_time": "2020-09-06T17:04:39.016124Z"
    }
   },
   "outputs": [],
   "source": [
    "def solution(brown, yellow):\n",
    "    \n",
    "    #yellow 의 shape\n",
    "    y_sahpe = []\n",
    "    \n",
    "    # 약수들 구하기 / 절반 \n",
    "    # +1 len / +1 yello가 1일때,\n",
    "    for y in range(1, int(yellow/2)+2):\n",
    "        if yellow % y == 0:\n",
    "            y_sahpe.append([y, int(yellow / y)])\n",
    "    print(y_sahpe)\n",
    "    \n",
    "    #누런영역 shape의 가로+2 새로+2가 전체 카펫크기\n",
    "    #전체 카펫 크기에서 누런 영역빼면 갈생영역\n",
    "    for a in y_sahpe :\n",
    "        if (a[0]+2) * (a[1]+2) - yellow == brown:\n",
    "            return [a[1]+2, a[0]+2]\n",
    "       "
   ]
  },
  {
   "cell_type": "code",
   "execution_count": null,
   "metadata": {},
   "outputs": [],
   "source": []
  },
  {
   "cell_type": "code",
   "execution_count": 34,
   "metadata": {
    "ExecuteTime": {
     "end_time": "2020-09-06T17:11:08.221672Z",
     "start_time": "2020-09-06T17:11:08.215558Z"
    }
   },
   "outputs": [
    {
     "name": "stdout",
     "output_type": "stream",
     "text": [
      "[[1, 2], [2, 1]]\n"
     ]
    },
    {
     "data": {
      "text/plain": [
       "[4, 3]"
      ]
     },
     "execution_count": 34,
     "metadata": {},
     "output_type": "execute_result"
    }
   ],
   "source": [
    "b1 =10\n",
    "y1 = 2\n",
    "r1 = solution(b1, y1)\n",
    "r1"
   ]
  },
  {
   "cell_type": "code",
   "execution_count": 35,
   "metadata": {
    "ExecuteTime": {
     "end_time": "2020-09-06T17:11:08.727847Z",
     "start_time": "2020-09-06T17:11:08.721725Z"
    }
   },
   "outputs": [
    {
     "name": "stdout",
     "output_type": "stream",
     "text": [
      "[[1, 1]]\n"
     ]
    },
    {
     "data": {
      "text/plain": [
       "[3, 3]"
      ]
     },
     "execution_count": 35,
     "metadata": {},
     "output_type": "execute_result"
    }
   ],
   "source": [
    "b2 =8\n",
    "y2 =1\n",
    "r2 = solution(b2, y2)\n",
    "r2"
   ]
  },
  {
   "cell_type": "code",
   "execution_count": 36,
   "metadata": {
    "ExecuteTime": {
     "end_time": "2020-09-06T17:11:23.679643Z",
     "start_time": "2020-09-06T17:11:23.673651Z"
    }
   },
   "outputs": [
    {
     "name": "stdout",
     "output_type": "stream",
     "text": [
      "[[1, 24], [2, 12], [3, 8], [4, 6], [6, 4], [8, 3], [12, 2]]\n"
     ]
    },
    {
     "data": {
      "text/plain": [
       "[8, 6]"
      ]
     },
     "execution_count": 36,
     "metadata": {},
     "output_type": "execute_result"
    }
   ],
   "source": [
    "b3 =24\n",
    "y3 =24\n",
    "r3 = solution(b3, y3)\n",
    "r3"
   ]
  },
  {
   "cell_type": "code",
   "execution_count": null,
   "metadata": {},
   "outputs": [],
   "source": []
  }
 ],
 "metadata": {
  "kernelspec": {
   "display_name": "Python 3",
   "language": "python",
   "name": "python3"
  },
  "language_info": {
   "codemirror_mode": {
    "name": "ipython",
    "version": 3
   },
   "file_extension": ".py",
   "mimetype": "text/x-python",
   "name": "python",
   "nbconvert_exporter": "python",
   "pygments_lexer": "ipython3",
   "version": "3.7.6"
  },
  "toc": {
   "base_numbering": 1,
   "nav_menu": {},
   "number_sections": true,
   "sideBar": true,
   "skip_h1_title": false,
   "title_cell": "Table of Contents",
   "title_sidebar": "Contents",
   "toc_cell": false,
   "toc_position": {},
   "toc_section_display": true,
   "toc_window_display": false
  },
  "varInspector": {
   "cols": {
    "lenName": 16,
    "lenType": 16,
    "lenVar": 40
   },
   "kernels_config": {
    "python": {
     "delete_cmd_postfix": "",
     "delete_cmd_prefix": "del ",
     "library": "var_list.py",
     "varRefreshCmd": "print(var_dic_list())"
    },
    "r": {
     "delete_cmd_postfix": ") ",
     "delete_cmd_prefix": "rm(",
     "library": "var_list.r",
     "varRefreshCmd": "cat(var_dic_list()) "
    }
   },
   "types_to_exclude": [
    "module",
    "function",
    "builtin_function_or_method",
    "instance",
    "_Feature"
   ],
   "window_display": false
  }
 },
 "nbformat": 4,
 "nbformat_minor": 4
}
