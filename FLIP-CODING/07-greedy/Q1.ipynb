{
 "cells": [
  {
   "cell_type": "code",
   "execution_count": 88,
   "metadata": {
    "ExecuteTime": {
     "end_time": "2020-09-13T21:42:53.337846Z",
     "start_time": "2020-09-13T21:42:53.331125Z"
    }
   },
   "outputs": [],
   "source": [
    "def solution(n, lost, reserve):\n",
    "    \n",
    "    N = [1] * n\n",
    "    \n",
    "    # 여벌 + 도난 상쇄\n",
    "    for r in reserve.copy():\n",
    "        if r in lost:\n",
    "            lost.remove(r)\n",
    "            reserve.remove(r)\n",
    "    \n",
    "\n",
    "    for idx in lost:\n",
    "        N[idx-1] = 0\n",
    "        # 앞 사람 체크\n",
    "        if idx - 1 in reserve:\n",
    "            reserve.remove(idx-1)\n",
    "            N[idx-1] = 1\n",
    "\n",
    "        # 뒷사람 체크\n",
    "        elif idx +1 in reserve:\n",
    "            reserve.remove(idx+1)\n",
    "            N[idx-1] = 1\n",
    "\n",
    "    return N.count(1)"
   ]
  },
  {
   "cell_type": "code",
   "execution_count": 89,
   "metadata": {
    "ExecuteTime": {
     "end_time": "2020-09-13T21:42:53.845944Z",
     "start_time": "2020-09-13T21:42:53.840927Z"
    }
   },
   "outputs": [],
   "source": [
    "n1 = 5\n",
    "lost1 = [2, 4]\n",
    "reserve1 = [1, 3, 5]"
   ]
  },
  {
   "cell_type": "code",
   "execution_count": 90,
   "metadata": {
    "ExecuteTime": {
     "end_time": "2020-09-13T21:42:54.876411Z",
     "start_time": "2020-09-13T21:42:54.870919Z"
    }
   },
   "outputs": [
    {
     "data": {
      "text/plain": [
       "5"
      ]
     },
     "execution_count": 90,
     "metadata": {},
     "output_type": "execute_result"
    }
   ],
   "source": [
    "r1 = solution(n1, lost1, reserve1)\n",
    "r1"
   ]
  },
  {
   "cell_type": "code",
   "execution_count": 86,
   "metadata": {
    "ExecuteTime": {
     "end_time": "2020-09-13T21:42:07.566862Z",
     "start_time": "2020-09-13T21:42:07.561501Z"
    }
   },
   "outputs": [],
   "source": [
    "n2 = 5\n",
    "lost2 = [2, 4,5]\n",
    "reserve2 = [1,2, 3,3, 5]"
   ]
  },
  {
   "cell_type": "code",
   "execution_count": 87,
   "metadata": {
    "ExecuteTime": {
     "end_time": "2020-09-13T21:42:08.077030Z",
     "start_time": "2020-09-13T21:42:08.071429Z"
    }
   },
   "outputs": [
    {
     "data": {
      "text/plain": [
       "4"
      ]
     },
     "execution_count": 87,
     "metadata": {},
     "output_type": "execute_result"
    }
   ],
   "source": [
    "r2 = solution(n2, lost2, reserve2)\n",
    "r2"
   ]
  },
  {
   "cell_type": "markdown",
   "metadata": {},
   "source": [
    "```\n",
    "테스트 1 〉\t통과 (0.01ms, 10.2MB)\n",
    "테스트 2 〉\t통과 (0.01ms, 10.2MB)\n",
    "테스트 3 〉\t통과 (0.01ms, 10.2MB)\n",
    "테스트 4 〉\t통과 (0.01ms, 10.3MB)\n",
    "테스트 5 〉\t통과 (0.01ms, 10.2MB)\n",
    "테스트 6 〉\t통과 (0.01ms, 10.2MB)\n",
    "테스트 7 〉\t통과 (0.02ms, 10.2MB)\n",
    "테스트 8 〉\t통과 (0.01ms, 10.2MB)\n",
    "테스트 9 〉\t통과 (0.01ms, 10.2MB)\n",
    "테스트 10 〉\t통과 (0.02ms, 10.2MB)\n",
    "테스트 11 〉\t통과 (0.01ms, 10.2MB)\n",
    "테스트 12 〉\t통과 (0.00ms, 10.3MB)\n",
    "```"
   ]
  },
  {
   "cell_type": "code",
   "execution_count": null,
   "metadata": {},
   "outputs": [],
   "source": []
  }
 ],
 "metadata": {
  "kernelspec": {
   "display_name": "Python 3",
   "language": "python",
   "name": "python3"
  },
  "language_info": {
   "codemirror_mode": {
    "name": "ipython",
    "version": 3
   },
   "file_extension": ".py",
   "mimetype": "text/x-python",
   "name": "python",
   "nbconvert_exporter": "python",
   "pygments_lexer": "ipython3",
   "version": "3.7.6"
  },
  "toc": {
   "base_numbering": 1,
   "nav_menu": {},
   "number_sections": true,
   "sideBar": true,
   "skip_h1_title": false,
   "title_cell": "Table of Contents",
   "title_sidebar": "Contents",
   "toc_cell": false,
   "toc_position": {},
   "toc_section_display": true,
   "toc_window_display": false
  },
  "varInspector": {
   "cols": {
    "lenName": 16,
    "lenType": 16,
    "lenVar": 40
   },
   "kernels_config": {
    "python": {
     "delete_cmd_postfix": "",
     "delete_cmd_prefix": "del ",
     "library": "var_list.py",
     "varRefreshCmd": "print(var_dic_list())"
    },
    "r": {
     "delete_cmd_postfix": ") ",
     "delete_cmd_prefix": "rm(",
     "library": "var_list.r",
     "varRefreshCmd": "cat(var_dic_list()) "
    }
   },
   "types_to_exclude": [
    "module",
    "function",
    "builtin_function_or_method",
    "instance",
    "_Feature"
   ],
   "window_display": false
  }
 },
 "nbformat": 4,
 "nbformat_minor": 4
}
