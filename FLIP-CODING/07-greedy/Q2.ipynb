{
 "cells": [
  {
   "cell_type": "markdown",
   "metadata": {},
   "source": [
    "# 1. combinations (시간초과)\n"
   ]
  },
  {
   "cell_type": "code",
   "execution_count": 56,
   "metadata": {
    "ExecuteTime": {
     "end_time": "2020-09-13T22:38:15.600974Z",
     "start_time": "2020-09-13T22:38:15.595515Z"
    }
   },
   "outputs": [],
   "source": [
    "\n",
    "from itertools import combinations\n",
    "def solution(number, k):\n",
    "    \n",
    "    nlist = list(combinations(number, len(number)-k))\n",
    "    \n",
    "    #print (max(nlist))\n",
    "    return \"\".join(max(nlist))"
   ]
  },
  {
   "cell_type": "markdown",
   "metadata": {},
   "source": [
    "```\n",
    "테스트 1 〉\t통과 (0.02ms, 10.1MB)\n",
    "테스트 2 〉\t통과 (127.10ms, 10.1MB)\n",
    "테스트 3 〉\t실패 (시간 초과)\n",
    "테스트 4 〉\t실패 (시간 초과)\n",
    "테스트 5 〉\t실패 (시간 초과)\n",
    "테스트 6 〉\t실패 (시간 초과)\n",
    "테스트 7 〉\t실패 (시간 초과)\n",
    "테스트 8 〉\t실패 (시간 초과)\n",
    "테스트 9 〉\t실패 (시간 초과)\n",
    "테스트 10 〉\t실패 (시간 초과)\n",
    "테스트 11 〉\t통과 (0.01ms, 10.1MB)\n",
    "테스트 12 〉\t통과 (0.01ms, 10.2MB)\n",
    "```"
   ]
  },
  {
   "cell_type": "code",
   "execution_count": 53,
   "metadata": {
    "ExecuteTime": {
     "end_time": "2020-09-13T22:36:41.689613Z",
     "start_time": "2020-09-13T22:36:41.684039Z"
    }
   },
   "outputs": [],
   "source": [
    "\n",
    "n1 = \"1924\"\n",
    "k1 = 2\n"
   ]
  },
  {
   "cell_type": "code",
   "execution_count": 54,
   "metadata": {
    "ExecuteTime": {
     "end_time": "2020-09-13T22:36:43.429464Z",
     "start_time": "2020-09-13T22:36:43.424024Z"
    }
   },
   "outputs": [
    {
     "data": {
      "text/plain": [
       "'94'"
      ]
     },
     "execution_count": 54,
     "metadata": {},
     "output_type": "execute_result"
    }
   ],
   "source": [
    "r1 = solution(n1, k1)\n",
    "r1"
   ]
  },
  {
   "cell_type": "code",
   "execution_count": 55,
   "metadata": {
    "ExecuteTime": {
     "end_time": "2020-09-13T22:36:44.869703Z",
     "start_time": "2020-09-13T22:36:44.864133Z"
    }
   },
   "outputs": [],
   "source": [
    "\n",
    "n2 = \"4177252841\"\n",
    "k2 = 4\n"
   ]
  },
  {
   "cell_type": "code",
   "execution_count": 50,
   "metadata": {
    "ExecuteTime": {
     "end_time": "2020-09-13T21:58:23.987613Z",
     "start_time": "2020-09-13T21:58:23.981251Z"
    }
   },
   "outputs": [
    {
     "name": "stdout",
     "output_type": "stream",
     "text": [
      "('7', '7', '5', '8', '4', '1')\n"
     ]
    },
    {
     "data": {
      "text/plain": [
       "'775841'"
      ]
     },
     "execution_count": 50,
     "metadata": {},
     "output_type": "execute_result"
    }
   ],
   "source": [
    "r2 = solution(n2, k2)\n",
    "r2"
   ]
  },
  {
   "cell_type": "code",
   "execution_count": null,
   "metadata": {},
   "outputs": [],
   "source": []
  }
 ],
 "metadata": {
  "kernelspec": {
   "display_name": "Python 3",
   "language": "python",
   "name": "python3"
  },
  "language_info": {
   "codemirror_mode": {
    "name": "ipython",
    "version": 3
   },
   "file_extension": ".py",
   "mimetype": "text/x-python",
   "name": "python",
   "nbconvert_exporter": "python",
   "pygments_lexer": "ipython3",
   "version": "3.7.6"
  },
  "toc": {
   "base_numbering": 1,
   "nav_menu": {},
   "number_sections": true,
   "sideBar": true,
   "skip_h1_title": false,
   "title_cell": "Table of Contents",
   "title_sidebar": "Contents",
   "toc_cell": false,
   "toc_position": {},
   "toc_section_display": true,
   "toc_window_display": false
  },
  "varInspector": {
   "cols": {
    "lenName": 16,
    "lenType": 16,
    "lenVar": 40
   },
   "kernels_config": {
    "python": {
     "delete_cmd_postfix": "",
     "delete_cmd_prefix": "del ",
     "library": "var_list.py",
     "varRefreshCmd": "print(var_dic_list())"
    },
    "r": {
     "delete_cmd_postfix": ") ",
     "delete_cmd_prefix": "rm(",
     "library": "var_list.r",
     "varRefreshCmd": "cat(var_dic_list()) "
    }
   },
   "types_to_exclude": [
    "module",
    "function",
    "builtin_function_or_method",
    "instance",
    "_Feature"
   ],
   "window_display": false
  }
 },
 "nbformat": 4,
 "nbformat_minor": 4
}
