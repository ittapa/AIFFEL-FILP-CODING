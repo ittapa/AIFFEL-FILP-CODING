{
 "cells": [
  {
   "cell_type": "markdown",
   "metadata": {},
   "source": [
    "# 3번 조이스틱"
   ]
  },
  {
   "cell_type": "code",
   "execution_count": 22,
   "metadata": {
    "ExecuteTime": {
     "end_time": "2020-09-13T22:36:06.059787Z",
     "start_time": "2020-09-13T22:36:06.054088Z"
    }
   },
   "outputs": [],
   "source": [
    "def solution(name):\n",
    "    \n",
    "    ALPHABET =\"ABCDEFGHIJKLMNOPQRSTUVWXYZ\"\n",
    "    answer = 0\n",
    "    \n",
    "    current_p = 0\n",
    "    \n",
    "    not_a_list = for \n",
    "    \n",
    "    r = 'A' * len(name)\n",
    "    \n",
    "    for s in name:\n",
    "        #커서이동 최소이동..\n",
    "        # 이동 방향 찾기.\n",
    "        \n",
    "        #현재 위치에서 제일 가까운 위치 찾기\n",
    "        current_p\n",
    "        \n",
    "        \n",
    "        len(name)\n",
    "        answer+=1\n",
    "        \n",
    "        #알파벳 번호 만큼 카운팅\n",
    "        a_idx = ALPHABET.index(s)\n",
    "        if a_idx <= 13: # +하는게 가까울때\n",
    "            answer = answer+ a_idx\n",
    "        else: # - 하는게 더 까까울때.\n",
    "            answer = answer + 26 - a_idx\n",
    "        \n",
    "    \n",
    "\n",
    "    \n",
    "\n",
    "    return answer -1"
   ]
  },
  {
   "cell_type": "code",
   "execution_count": null,
   "metadata": {},
   "outputs": [],
   "source": []
  },
  {
   "cell_type": "code",
   "execution_count": 23,
   "metadata": {
    "ExecuteTime": {
     "end_time": "2020-09-13T22:36:06.879198Z",
     "start_time": "2020-09-13T22:36:06.874015Z"
    }
   },
   "outputs": [
    {
     "data": {
      "text/plain": [
       "56"
      ]
     },
     "execution_count": 23,
     "metadata": {},
     "output_type": "execute_result"
    }
   ],
   "source": [
    "n1 = \"JEROEN\"\n",
    "r1 = solution(n1)\n",
    "r1\n"
   ]
  },
  {
   "cell_type": "code",
   "execution_count": 24,
   "metadata": {
    "ExecuteTime": {
     "end_time": "2020-09-13T22:36:07.482074Z",
     "start_time": "2020-09-13T22:36:07.478255Z"
    }
   },
   "outputs": [
    {
     "data": {
      "text/plain": [
       "25"
      ]
     },
     "execution_count": 24,
     "metadata": {},
     "output_type": "execute_result"
    }
   ],
   "source": [
    "    \n",
    "ALPHABET =\"ABCDEFGHIJKLMNOPQRSTUVWXYZ\"\n",
    "ALPHABET.index(\"Z\")\n",
    "\n"
   ]
  },
  {
   "cell_type": "code",
   "execution_count": 25,
   "metadata": {
    "ExecuteTime": {
     "end_time": "2020-09-13T22:36:08.307815Z",
     "start_time": "2020-09-13T22:36:08.299075Z"
    }
   },
   "outputs": [
    {
     "data": {
      "text/plain": [
       "26"
      ]
     },
     "execution_count": 25,
     "metadata": {},
     "output_type": "execute_result"
    }
   ],
   "source": [
    "len(ALPHABET)"
   ]
  },
  {
   "cell_type": "code",
   "execution_count": null,
   "metadata": {},
   "outputs": [],
   "source": []
  }
 ],
 "metadata": {
  "kernelspec": {
   "display_name": "Python 3",
   "language": "python",
   "name": "python3"
  },
  "language_info": {
   "codemirror_mode": {
    "name": "ipython",
    "version": 3
   },
   "file_extension": ".py",
   "mimetype": "text/x-python",
   "name": "python",
   "nbconvert_exporter": "python",
   "pygments_lexer": "ipython3",
   "version": "3.7.6"
  },
  "toc": {
   "base_numbering": 1,
   "nav_menu": {},
   "number_sections": true,
   "sideBar": true,
   "skip_h1_title": false,
   "title_cell": "Table of Contents",
   "title_sidebar": "Contents",
   "toc_cell": false,
   "toc_position": {},
   "toc_section_display": true,
   "toc_window_display": false
  },
  "varInspector": {
   "cols": {
    "lenName": 16,
    "lenType": 16,
    "lenVar": 40
   },
   "kernels_config": {
    "python": {
     "delete_cmd_postfix": "",
     "delete_cmd_prefix": "del ",
     "library": "var_list.py",
     "varRefreshCmd": "print(var_dic_list())"
    },
    "r": {
     "delete_cmd_postfix": ") ",
     "delete_cmd_prefix": "rm(",
     "library": "var_list.r",
     "varRefreshCmd": "cat(var_dic_list()) "
    }
   },
   "types_to_exclude": [
    "module",
    "function",
    "builtin_function_or_method",
    "instance",
    "_Feature"
   ],
   "window_display": false
  }
 },
 "nbformat": 4,
 "nbformat_minor": 4
}
