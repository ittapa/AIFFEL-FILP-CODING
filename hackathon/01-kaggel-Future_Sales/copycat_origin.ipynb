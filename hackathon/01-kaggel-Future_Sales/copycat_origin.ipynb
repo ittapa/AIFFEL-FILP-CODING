{
 "cells": [
  {
   "cell_type": "markdown",
   "metadata": {},
   "source": [
    "# Predict Future Sales"
   ]
  },
  {
   "cell_type": "markdown",
   "metadata": {},
   "source": [
    "과거 판매량 데이터를 기반으로 향후 판매량을 예측하는 프로젝트입니다.\n",
    "\n",
    "Data는 아래 링크에서 다운받을 수 있습니다.  \n",
    "https://www.kaggle.com/c/competitive-data-science-predict-future-sales/data\n",
    "\n",
    "아래는 Kaggle에 쓰여있는 Description입니다."
   ]
  },
  {
   "cell_type": "markdown",
   "metadata": {},
   "source": [
    "###  Data Description from Kaggle\n",
    "You are provided with daily historical sales data. The task is to forecast the total amount of products sold in every shop for the test set. Note that the list of shops and products slightly changes every month. Creating a robust model that can handle such situations is part of the challenge.\n",
    "\n",
    "### File descriptions\n",
    "**sales_train.csv** - the training set. Daily historical data from January 2013 to October 2015.  \n",
    "**test.csv** - the test set. You need to forecast the sales for these shops and products for November 2015.  \n",
    "sample_submission.csv - a sample submission file in the correct format.  \n",
    "**items.csv** - supplemental information about the items/products.  \n",
    "**item_categories.csv**  - supplemental information about the items categories.  \n",
    "**shops.csv** - supplemental information about the shops.  \n",
    "### Data fields\n",
    "**ID** - an Id that represents a (Shop, Item) tuple within the test set  \n",
    "**shop_id** - unique identifier of a shop  \n",
    "**item_id** - unique identifier of a product  \n",
    "**item_category_id** - unique identifier of item category  \n",
    "**item_cnt_day** - number of products sold. You are predicting a monthly amount of this measure  \n",
    "**item_price** - current price of an item  \n",
    "**date** - date in format dd/mm/yyyy  \n",
    "**date_block_num** - a consecutive month number, used for convenience. January 2013 is 0, February 2013 is 1,..., October 2015 is 33  \n",
    "**item_name** - name of item  \n",
    "**shop_name** - name of shop  \n",
    "**item_category_name** - name of item category  "
   ]
  },
  {
   "cell_type": "code",
<<<<<<< HEAD
   "execution_count": 1,
=======
   "execution_count": 95,
>>>>>>> 968a5130d0bc3e366a0160ca2555280b9ef6af04
   "metadata": {},
   "outputs": [],
   "source": [
    "import numpy as np\n",
    "import pandas as pd\n",
    "import matplotlib.pyplot as plt\n",
    "import seaborn as sns\n",
    "from sklearn.preprocessing import LabelEncoder\n",
    "import time\n",
    "import itertools\n",
    "import gc\n",
    "import pickle\n",
    "from xgboost import XGBRegressor\n",
    "from xgboost import plot_importance\n",
    "\n",
    "%matplotlib inline"
   ]
  },
  {
   "cell_type": "markdown",
   "metadata": {},
   "source": [
    "## Load Data"
   ]
  },
  {
   "cell_type": "code",
<<<<<<< HEAD
   "execution_count": 2,
=======
   "execution_count": 96,
>>>>>>> 968a5130d0bc3e366a0160ca2555280b9ef6af04
   "metadata": {},
   "outputs": [],
   "source": [
    "df_train = pd.read_csv('data/sales_train.csv')\n",
    "df_test = pd.read_csv('data/test.csv')\n",
    "df_items = pd.read_csv('data/items.csv')\n",
    "df_item_categories = pd.read_csv('data/item_categories.csv')\n",
    "df_shops = pd.read_csv('data/shops.csv')"
   ]
  },
  {
   "cell_type": "code",
<<<<<<< HEAD
   "execution_count": 3,
=======
   "execution_count": 97,
>>>>>>> 968a5130d0bc3e366a0160ca2555280b9ef6af04
   "metadata": {},
   "outputs": [
    {
     "data": {
      "text/html": [
       "<div>\n",
       "<style scoped>\n",
       "    .dataframe tbody tr th:only-of-type {\n",
       "        vertical-align: middle;\n",
       "    }\n",
       "\n",
       "    .dataframe tbody tr th {\n",
       "        vertical-align: top;\n",
       "    }\n",
       "\n",
       "    .dataframe thead th {\n",
       "        text-align: right;\n",
       "    }\n",
       "</style>\n",
       "<table border=\"1\" class=\"dataframe\">\n",
       "  <thead>\n",
       "    <tr style=\"text-align: right;\">\n",
       "      <th></th>\n",
       "      <th>date</th>\n",
       "      <th>date_block_num</th>\n",
       "      <th>shop_id</th>\n",
       "      <th>item_id</th>\n",
       "      <th>item_price</th>\n",
       "      <th>item_cnt_day</th>\n",
       "    </tr>\n",
       "  </thead>\n",
       "  <tbody>\n",
       "    <tr>\n",
       "      <th>0</th>\n",
       "      <td>02.01.2013</td>\n",
       "      <td>0</td>\n",
       "      <td>59</td>\n",
       "      <td>22154</td>\n",
       "      <td>999.0</td>\n",
       "      <td>1.0</td>\n",
       "    </tr>\n",
       "    <tr>\n",
       "      <th>1</th>\n",
       "      <td>03.01.2013</td>\n",
       "      <td>0</td>\n",
       "      <td>25</td>\n",
       "      <td>2552</td>\n",
       "      <td>899.0</td>\n",
       "      <td>1.0</td>\n",
       "    </tr>\n",
       "    <tr>\n",
       "      <th>2</th>\n",
       "      <td>05.01.2013</td>\n",
       "      <td>0</td>\n",
       "      <td>25</td>\n",
       "      <td>2552</td>\n",
       "      <td>899.0</td>\n",
       "      <td>-1.0</td>\n",
       "    </tr>\n",
       "  </tbody>\n",
       "</table>\n",
       "</div>"
      ],
      "text/plain": [
       "         date  date_block_num  shop_id  item_id  item_price  item_cnt_day\n",
       "0  02.01.2013               0       59    22154       999.0           1.0\n",
       "1  03.01.2013               0       25     2552       899.0           1.0\n",
       "2  05.01.2013               0       25     2552       899.0          -1.0"
      ]
     },
<<<<<<< HEAD
     "execution_count": 3,
=======
     "execution_count": 97,
>>>>>>> 968a5130d0bc3e366a0160ca2555280b9ef6af04
     "metadata": {},
     "output_type": "execute_result"
    }
   ],
   "source": [
    "df_train.head(3)"
   ]
  },
  {
   "cell_type": "code",
<<<<<<< HEAD
   "execution_count": 4,
=======
   "execution_count": 98,
>>>>>>> 968a5130d0bc3e366a0160ca2555280b9ef6af04
   "metadata": {},
   "outputs": [
    {
     "data": {
      "text/html": [
       "<div>\n",
       "<style scoped>\n",
       "    .dataframe tbody tr th:only-of-type {\n",
       "        vertical-align: middle;\n",
       "    }\n",
       "\n",
       "    .dataframe tbody tr th {\n",
       "        vertical-align: top;\n",
       "    }\n",
       "\n",
       "    .dataframe thead th {\n",
       "        text-align: right;\n",
       "    }\n",
       "</style>\n",
       "<table border=\"1\" class=\"dataframe\">\n",
       "  <thead>\n",
       "    <tr style=\"text-align: right;\">\n",
       "      <th></th>\n",
       "      <th>date</th>\n",
       "      <th>date_block_num</th>\n",
       "      <th>shop_id</th>\n",
       "      <th>item_id</th>\n",
       "      <th>item_price</th>\n",
       "      <th>item_cnt_day</th>\n",
       "    </tr>\n",
       "  </thead>\n",
       "  <tbody>\n",
       "    <tr>\n",
       "      <th>2935846</th>\n",
       "      <td>14.10.2015</td>\n",
       "      <td>33</td>\n",
       "      <td>25</td>\n",
       "      <td>7459</td>\n",
       "      <td>349.0</td>\n",
       "      <td>1.0</td>\n",
       "    </tr>\n",
       "    <tr>\n",
       "      <th>2935847</th>\n",
       "      <td>22.10.2015</td>\n",
       "      <td>33</td>\n",
       "      <td>25</td>\n",
       "      <td>7440</td>\n",
       "      <td>299.0</td>\n",
       "      <td>1.0</td>\n",
       "    </tr>\n",
       "    <tr>\n",
       "      <th>2935848</th>\n",
       "      <td>03.10.2015</td>\n",
       "      <td>33</td>\n",
       "      <td>25</td>\n",
       "      <td>7460</td>\n",
       "      <td>299.0</td>\n",
       "      <td>1.0</td>\n",
       "    </tr>\n",
       "  </tbody>\n",
       "</table>\n",
       "</div>"
      ],
      "text/plain": [
       "               date  date_block_num  shop_id  item_id  item_price  \\\n",
       "2935846  14.10.2015              33       25     7459       349.0   \n",
       "2935847  22.10.2015              33       25     7440       299.0   \n",
       "2935848  03.10.2015              33       25     7460       299.0   \n",
       "\n",
       "         item_cnt_day  \n",
       "2935846           1.0  \n",
       "2935847           1.0  \n",
       "2935848           1.0  "
      ]
     },
<<<<<<< HEAD
     "execution_count": 4,
=======
     "execution_count": 98,
>>>>>>> 968a5130d0bc3e366a0160ca2555280b9ef6af04
     "metadata": {},
     "output_type": "execute_result"
    }
   ],
   "source": [
    "df_train.tail(3)"
   ]
  },
  {
   "cell_type": "code",
<<<<<<< HEAD
   "execution_count": 5,
=======
   "execution_count": 99,
>>>>>>> 968a5130d0bc3e366a0160ca2555280b9ef6af04
   "metadata": {},
   "outputs": [
    {
     "data": {
      "text/html": [
       "<div>\n",
       "<style scoped>\n",
       "    .dataframe tbody tr th:only-of-type {\n",
       "        vertical-align: middle;\n",
       "    }\n",
       "\n",
       "    .dataframe tbody tr th {\n",
       "        vertical-align: top;\n",
       "    }\n",
       "\n",
       "    .dataframe thead th {\n",
       "        text-align: right;\n",
       "    }\n",
       "</style>\n",
       "<table border=\"1\" class=\"dataframe\">\n",
       "  <thead>\n",
       "    <tr style=\"text-align: right;\">\n",
       "      <th></th>\n",
       "      <th>ID</th>\n",
       "      <th>shop_id</th>\n",
       "      <th>item_id</th>\n",
       "    </tr>\n",
       "  </thead>\n",
       "  <tbody>\n",
       "    <tr>\n",
       "      <th>0</th>\n",
       "      <td>0</td>\n",
       "      <td>5</td>\n",
       "      <td>5037</td>\n",
       "    </tr>\n",
       "    <tr>\n",
       "      <th>1</th>\n",
       "      <td>1</td>\n",
       "      <td>5</td>\n",
       "      <td>5320</td>\n",
       "    </tr>\n",
       "    <tr>\n",
       "      <th>2</th>\n",
       "      <td>2</td>\n",
       "      <td>5</td>\n",
       "      <td>5233</td>\n",
       "    </tr>\n",
       "  </tbody>\n",
       "</table>\n",
       "</div>"
      ],
      "text/plain": [
       "   ID  shop_id  item_id\n",
       "0   0        5     5037\n",
       "1   1        5     5320\n",
       "2   2        5     5233"
      ]
     },
<<<<<<< HEAD
     "execution_count": 5,
=======
     "execution_count": 99,
>>>>>>> 968a5130d0bc3e366a0160ca2555280b9ef6af04
     "metadata": {},
     "output_type": "execute_result"
    }
   ],
   "source": [
    "df_test.head(3)"
   ]
  },
  {
   "cell_type": "code",
<<<<<<< HEAD
   "execution_count": 6,
=======
   "execution_count": 100,
>>>>>>> 968a5130d0bc3e366a0160ca2555280b9ef6af04
   "metadata": {
    "scrolled": false
   },
   "outputs": [
    {
     "data": {
      "text/html": [
       "<div>\n",
       "<style scoped>\n",
       "    .dataframe tbody tr th:only-of-type {\n",
       "        vertical-align: middle;\n",
       "    }\n",
       "\n",
       "    .dataframe tbody tr th {\n",
       "        vertical-align: top;\n",
       "    }\n",
       "\n",
       "    .dataframe thead th {\n",
       "        text-align: right;\n",
       "    }\n",
       "</style>\n",
       "<table border=\"1\" class=\"dataframe\">\n",
       "  <thead>\n",
       "    <tr style=\"text-align: right;\">\n",
       "      <th></th>\n",
       "      <th>item_name</th>\n",
       "      <th>item_id</th>\n",
       "      <th>item_category_id</th>\n",
       "    </tr>\n",
       "  </thead>\n",
       "  <tbody>\n",
       "    <tr>\n",
       "      <th>0</th>\n",
       "      <td>! ВО ВЛАСТИ НАВАЖДЕНИЯ (ПЛАСТ.)         D</td>\n",
       "      <td>0</td>\n",
       "      <td>40</td>\n",
       "    </tr>\n",
       "    <tr>\n",
       "      <th>1</th>\n",
       "      <td>!ABBYY FineReader 12 Professional Edition Full...</td>\n",
       "      <td>1</td>\n",
       "      <td>76</td>\n",
       "    </tr>\n",
       "    <tr>\n",
       "      <th>2</th>\n",
       "      <td>***В ЛУЧАХ СЛАВЫ   (UNV)                    D</td>\n",
       "      <td>2</td>\n",
       "      <td>40</td>\n",
       "    </tr>\n",
       "  </tbody>\n",
       "</table>\n",
       "</div>"
      ],
      "text/plain": [
       "                                           item_name  item_id  \\\n",
       "0          ! ВО ВЛАСТИ НАВАЖДЕНИЯ (ПЛАСТ.)         D        0   \n",
       "1  !ABBYY FineReader 12 Professional Edition Full...        1   \n",
       "2      ***В ЛУЧАХ СЛАВЫ   (UNV)                    D        2   \n",
       "\n",
       "   item_category_id  \n",
       "0                40  \n",
       "1                76  \n",
       "2                40  "
      ]
     },
<<<<<<< HEAD
     "execution_count": 6,
=======
     "execution_count": 100,
>>>>>>> 968a5130d0bc3e366a0160ca2555280b9ef6af04
     "metadata": {},
     "output_type": "execute_result"
    }
   ],
   "source": [
    "df_items.head(3)"
   ]
  },
  {
   "cell_type": "code",
<<<<<<< HEAD
   "execution_count": 7,
=======
   "execution_count": 101,
>>>>>>> 968a5130d0bc3e366a0160ca2555280b9ef6af04
   "metadata": {},
   "outputs": [
    {
     "data": {
      "text/html": [
       "<div>\n",
       "<style scoped>\n",
       "    .dataframe tbody tr th:only-of-type {\n",
       "        vertical-align: middle;\n",
       "    }\n",
       "\n",
       "    .dataframe tbody tr th {\n",
       "        vertical-align: top;\n",
       "    }\n",
       "\n",
       "    .dataframe thead th {\n",
       "        text-align: right;\n",
       "    }\n",
       "</style>\n",
       "<table border=\"1\" class=\"dataframe\">\n",
       "  <thead>\n",
       "    <tr style=\"text-align: right;\">\n",
       "      <th></th>\n",
       "      <th>shop_name</th>\n",
       "      <th>shop_id</th>\n",
       "    </tr>\n",
       "  </thead>\n",
       "  <tbody>\n",
       "    <tr>\n",
       "      <th>0</th>\n",
       "      <td>!Якутск Орджоникидзе, 56 фран</td>\n",
       "      <td>0</td>\n",
       "    </tr>\n",
       "    <tr>\n",
       "      <th>1</th>\n",
       "      <td>!Якутск ТЦ \"Центральный\" фран</td>\n",
       "      <td>1</td>\n",
       "    </tr>\n",
       "    <tr>\n",
       "      <th>2</th>\n",
       "      <td>Адыгея ТЦ \"Мега\"</td>\n",
       "      <td>2</td>\n",
       "    </tr>\n",
       "  </tbody>\n",
       "</table>\n",
       "</div>"
      ],
      "text/plain": [
       "                       shop_name  shop_id\n",
       "0  !Якутск Орджоникидзе, 56 фран        0\n",
       "1  !Якутск ТЦ \"Центральный\" фран        1\n",
       "2               Адыгея ТЦ \"Мега\"        2"
      ]
     },
<<<<<<< HEAD
     "execution_count": 7,
=======
     "execution_count": 101,
>>>>>>> 968a5130d0bc3e366a0160ca2555280b9ef6af04
     "metadata": {},
     "output_type": "execute_result"
    }
   ],
   "source": [
    "df_shops.head(3)"
   ]
  },
  {
   "cell_type": "code",
<<<<<<< HEAD
   "execution_count": null,
   "metadata": {},
   "outputs": [],
   "source": []
  },
  {
   "cell_type": "code",
   "execution_count": 8,
=======
   "execution_count": 102,
>>>>>>> 968a5130d0bc3e366a0160ca2555280b9ef6af04
   "metadata": {},
   "outputs": [
    {
     "name": "stdout",
     "output_type": "stream",
     "text": [
      "<class 'pandas.core.frame.DataFrame'>\n",
      "RangeIndex: 2935849 entries, 0 to 2935848\n",
      "Data columns (total 6 columns):\n",
      " #   Column          Dtype  \n",
      "---  ------          -----  \n",
      " 0   date            object \n",
      " 1   date_block_num  int64  \n",
      " 2   shop_id         int64  \n",
      " 3   item_id         int64  \n",
      " 4   item_price      float64\n",
      " 5   item_cnt_day    float64\n",
      "dtypes: float64(2), int64(3), object(1)\n",
      "memory usage: 134.4+ MB\n"
     ]
    }
   ],
   "source": [
    "df_train.info()"
   ]
  },
  {
   "cell_type": "markdown",
   "metadata": {},
   "source": [
    "## Preliminary Wrangling"
   ]
  },
  {
   "cell_type": "markdown",
   "metadata": {},
   "source": [
    "### 중복 체크"
   ]
  },
  {
   "cell_type": "code",
<<<<<<< HEAD
   "execution_count": 9,
=======
   "execution_count": 103,
>>>>>>> 968a5130d0bc3e366a0160ca2555280b9ef6af04
   "metadata": {},
   "outputs": [
    {
     "data": {
      "text/plain": [
       "(6, 0)"
      ]
     },
<<<<<<< HEAD
     "execution_count": 9,
=======
     "execution_count": 103,
>>>>>>> 968a5130d0bc3e366a0160ca2555280b9ef6af04
     "metadata": {},
     "output_type": "execute_result"
    }
   ],
   "source": [
    "sum(df_train.duplicated()), sum(df_test.duplicated())"
   ]
  },
  {
   "cell_type": "code",
<<<<<<< HEAD
   "execution_count": 10,
=======
   "execution_count": 104,
>>>>>>> 968a5130d0bc3e366a0160ca2555280b9ef6af04
   "metadata": {},
   "outputs": [
    {
     "data": {
      "text/plain": [
       "(0, 0, 0)"
      ]
     },
<<<<<<< HEAD
     "execution_count": 10,
=======
     "execution_count": 104,
>>>>>>> 968a5130d0bc3e366a0160ca2555280b9ef6af04
     "metadata": {},
     "output_type": "execute_result"
    }
   ],
   "source": [
    "sum(df_items.duplicated()), sum(df_item_categories.duplicated()), sum(df_shops.duplicated())"
   ]
  },
  {
   "cell_type": "markdown",
   "metadata": {},
   "source": [
    "df_train에만 중복 행이 6개 있음"
   ]
  },
  {
   "cell_type": "code",
<<<<<<< HEAD
   "execution_count": 11,
=======
   "execution_count": 105,
>>>>>>> 968a5130d0bc3e366a0160ca2555280b9ef6af04
   "metadata": {},
   "outputs": [
    {
     "data": {
      "text/html": [
       "<div>\n",
       "<style scoped>\n",
       "    .dataframe tbody tr th:only-of-type {\n",
       "        vertical-align: middle;\n",
       "    }\n",
       "\n",
       "    .dataframe tbody tr th {\n",
       "        vertical-align: top;\n",
       "    }\n",
       "\n",
       "    .dataframe thead th {\n",
       "        text-align: right;\n",
       "    }\n",
       "</style>\n",
       "<table border=\"1\" class=\"dataframe\">\n",
       "  <thead>\n",
       "    <tr style=\"text-align: right;\">\n",
       "      <th></th>\n",
       "      <th>date</th>\n",
       "      <th>date_block_num</th>\n",
       "      <th>shop_id</th>\n",
       "      <th>item_id</th>\n",
       "      <th>item_price</th>\n",
       "      <th>item_cnt_day</th>\n",
       "    </tr>\n",
       "  </thead>\n",
       "  <tbody>\n",
       "    <tr>\n",
       "      <th>76962</th>\n",
       "      <td>05.01.2013</td>\n",
       "      <td>0</td>\n",
       "      <td>54</td>\n",
       "      <td>20130</td>\n",
       "      <td>149.0</td>\n",
       "      <td>1.0</td>\n",
       "    </tr>\n",
       "    <tr>\n",
       "      <th>1435367</th>\n",
       "      <td>23.02.2014</td>\n",
       "      <td>13</td>\n",
       "      <td>50</td>\n",
       "      <td>3423</td>\n",
       "      <td>999.0</td>\n",
       "      <td>1.0</td>\n",
       "    </tr>\n",
       "    <tr>\n",
       "      <th>1496766</th>\n",
       "      <td>23.03.2014</td>\n",
       "      <td>14</td>\n",
       "      <td>21</td>\n",
       "      <td>3423</td>\n",
       "      <td>999.0</td>\n",
       "      <td>1.0</td>\n",
       "    </tr>\n",
       "    <tr>\n",
       "      <th>1671873</th>\n",
       "      <td>01.05.2014</td>\n",
       "      <td>16</td>\n",
       "      <td>50</td>\n",
       "      <td>3423</td>\n",
       "      <td>999.0</td>\n",
       "      <td>1.0</td>\n",
       "    </tr>\n",
       "    <tr>\n",
       "      <th>1866340</th>\n",
       "      <td>12.07.2014</td>\n",
       "      <td>18</td>\n",
       "      <td>25</td>\n",
       "      <td>3423</td>\n",
       "      <td>999.0</td>\n",
       "      <td>1.0</td>\n",
       "    </tr>\n",
       "    <tr>\n",
       "      <th>2198566</th>\n",
       "      <td>31.12.2014</td>\n",
       "      <td>23</td>\n",
       "      <td>42</td>\n",
       "      <td>21619</td>\n",
       "      <td>499.0</td>\n",
       "      <td>1.0</td>\n",
       "    </tr>\n",
       "  </tbody>\n",
       "</table>\n",
       "</div>"
      ],
      "text/plain": [
       "               date  date_block_num  shop_id  item_id  item_price  \\\n",
       "76962    05.01.2013               0       54    20130       149.0   \n",
       "1435367  23.02.2014              13       50     3423       999.0   \n",
       "1496766  23.03.2014              14       21     3423       999.0   \n",
       "1671873  01.05.2014              16       50     3423       999.0   \n",
       "1866340  12.07.2014              18       25     3423       999.0   \n",
       "2198566  31.12.2014              23       42    21619       499.0   \n",
       "\n",
       "         item_cnt_day  \n",
       "76962             1.0  \n",
       "1435367           1.0  \n",
       "1496766           1.0  \n",
       "1671873           1.0  \n",
       "1866340           1.0  \n",
       "2198566           1.0  "
      ]
     },
<<<<<<< HEAD
     "execution_count": 11,
=======
     "execution_count": 105,
>>>>>>> 968a5130d0bc3e366a0160ca2555280b9ef6af04
     "metadata": {},
     "output_type": "execute_result"
    }
   ],
   "source": [
    "df_train[df_train.duplicated() == True]"
   ]
  },
  {
   "cell_type": "code",
<<<<<<< HEAD
   "execution_count": 12,
=======
   "execution_count": 106,
>>>>>>> 968a5130d0bc3e366a0160ca2555280b9ef6af04
   "metadata": {},
   "outputs": [],
   "source": [
    "# 중복 제거\n",
    "df_train.drop_duplicates(inplace=True)"
   ]
  },
  {
   "cell_type": "code",
<<<<<<< HEAD
   "execution_count": 13,
=======
   "execution_count": 107,
>>>>>>> 968a5130d0bc3e366a0160ca2555280b9ef6af04
   "metadata": {},
   "outputs": [
    {
     "data": {
      "text/plain": [
       "0"
      ]
     },
<<<<<<< HEAD
     "execution_count": 13,
=======
     "execution_count": 107,
>>>>>>> 968a5130d0bc3e366a0160ca2555280b9ef6af04
     "metadata": {},
     "output_type": "execute_result"
    }
   ],
   "source": [
    "# 중복 재확인\n",
    "sum(df_train.duplicated())"
   ]
  },
  {
   "cell_type": "markdown",
   "metadata": {},
   "source": [
    "### Null 체크"
   ]
  },
  {
   "cell_type": "code",
<<<<<<< HEAD
   "execution_count": 14,
=======
   "execution_count": 108,
>>>>>>> 968a5130d0bc3e366a0160ca2555280b9ef6af04
   "metadata": {},
   "outputs": [
    {
     "data": {
      "text/plain": [
       "date              0\n",
       "date_block_num    0\n",
       "shop_id           0\n",
       "item_id           0\n",
       "item_price        0\n",
       "item_cnt_day      0\n",
       "dtype: int64"
      ]
     },
<<<<<<< HEAD
     "execution_count": 14,
=======
     "execution_count": 108,
>>>>>>> 968a5130d0bc3e366a0160ca2555280b9ef6af04
     "metadata": {},
     "output_type": "execute_result"
    }
   ],
   "source": [
    "df_train.isnull().sum()"
   ]
  },
  {
   "cell_type": "code",
<<<<<<< HEAD
   "execution_count": 15,
=======
   "execution_count": 109,
>>>>>>> 968a5130d0bc3e366a0160ca2555280b9ef6af04
   "metadata": {},
   "outputs": [
    {
     "data": {
      "text/plain": [
       "ID         0\n",
       "shop_id    0\n",
       "item_id    0\n",
       "dtype: int64"
      ]
     },
<<<<<<< HEAD
     "execution_count": 15,
=======
     "execution_count": 109,
>>>>>>> 968a5130d0bc3e366a0160ca2555280b9ef6af04
     "metadata": {},
     "output_type": "execute_result"
    }
   ],
   "source": [
    "df_test.isnull().sum()"
   ]
  },
  {
   "cell_type": "markdown",
   "metadata": {},
   "source": [
    "훈련 데이터, 테스트 데이터에 Null값은 없음"
   ]
  },
  {
   "cell_type": "markdown",
   "metadata": {},
   "source": [
    "### Outlier 제거"
   ]
  },
  {
   "cell_type": "code",
<<<<<<< HEAD
   "execution_count": 16,
=======
   "execution_count": 110,
>>>>>>> 968a5130d0bc3e366a0160ca2555280b9ef6af04
   "metadata": {},
   "outputs": [
    {
     "data": {
      "image/png": "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\n",
      "text/plain": [
       "<Figure size 720x216 with 1 Axes>"
      ]
     },
     "metadata": {
      "needs_background": "light"
     },
     "output_type": "display_data"
    },
    {
     "data": {
      "image/png": "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\n",
      "text/plain": [
       "<Figure size 720x216 with 1 Axes>"
      ]
     },
     "metadata": {
      "needs_background": "light"
     },
     "output_type": "display_data"
    }
   ],
   "source": [
    "plt.figure(figsize=(10,3))\n",
    "sns.boxplot(x='item_cnt_day', data=df_train)\n",
    "\n",
    "plt.figure(figsize=(10,3))\n",
    "sns.boxplot(x='item_price', data=df_train);"
   ]
  },
  {
   "cell_type": "markdown",
   "metadata": {},
   "source": [
    "item_cnt_day 500이상, item_price 50,000 이상의 Outlier 제거"
   ]
  },
  {
   "cell_type": "code",
<<<<<<< HEAD
   "execution_count": 17,
=======
   "execution_count": 111,
>>>>>>> 968a5130d0bc3e366a0160ca2555280b9ef6af04
   "metadata": {},
   "outputs": [],
   "source": [
    "df_train = df_train[df_train.item_cnt_day < 500]\n",
    "df_train = df_train[df_train.item_price < 50000]"
   ]
  },
  {
   "cell_type": "code",
<<<<<<< HEAD
   "execution_count": 18,
=======
   "execution_count": 112,
>>>>>>> 968a5130d0bc3e366a0160ca2555280b9ef6af04
   "metadata": {
    "scrolled": false
   },
   "outputs": [
    {
     "data": {
      "image/png": "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\n",
      "text/plain": [
       "<Figure size 720x216 with 1 Axes>"
      ]
     },
     "metadata": {
      "needs_background": "light"
     },
     "output_type": "display_data"
    },
    {
     "data": {
      "image/png": "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\n",
      "text/plain": [
       "<Figure size 720x216 with 1 Axes>"
      ]
     },
     "metadata": {
      "needs_background": "light"
     },
     "output_type": "display_data"
    }
   ],
   "source": [
    "plt.figure(figsize=(10,3))\n",
    "sns.boxplot(x='item_cnt_day', data=df_train)\n",
    "\n",
    "plt.figure(figsize=(10,3))\n",
    "sns.boxplot(x='item_price', data=df_train);"
   ]
  },
  {
   "cell_type": "code",
<<<<<<< HEAD
   "execution_count": 19,
=======
   "execution_count": 113,
>>>>>>> 968a5130d0bc3e366a0160ca2555280b9ef6af04
   "metadata": {
    "scrolled": true
   },
   "outputs": [
    {
     "data": {
      "text/html": [
       "<div>\n",
       "<style scoped>\n",
       "    .dataframe tbody tr th:only-of-type {\n",
       "        vertical-align: middle;\n",
       "    }\n",
       "\n",
       "    .dataframe tbody tr th {\n",
       "        vertical-align: top;\n",
       "    }\n",
       "\n",
       "    .dataframe thead th {\n",
       "        text-align: right;\n",
       "    }\n",
       "</style>\n",
       "<table border=\"1\" class=\"dataframe\">\n",
       "  <thead>\n",
       "    <tr style=\"text-align: right;\">\n",
       "      <th></th>\n",
       "      <th>date_block_num</th>\n",
       "      <th>shop_id</th>\n",
       "      <th>item_id</th>\n",
       "      <th>item_price</th>\n",
       "      <th>item_cnt_day</th>\n",
       "    </tr>\n",
       "  </thead>\n",
       "  <tbody>\n",
       "    <tr>\n",
       "      <th>count</th>\n",
       "      <td>2.935826e+06</td>\n",
       "      <td>2.935826e+06</td>\n",
       "      <td>2.935826e+06</td>\n",
       "      <td>2.935826e+06</td>\n",
       "      <td>2.935826e+06</td>\n",
       "    </tr>\n",
       "    <tr>\n",
       "      <th>mean</th>\n",
       "      <td>1.456986e+01</td>\n",
       "      <td>3.300178e+01</td>\n",
       "      <td>1.019721e+04</td>\n",
       "      <td>8.907121e+02</td>\n",
       "      <td>1.239344e+00</td>\n",
       "    </tr>\n",
       "    <tr>\n",
       "      <th>std</th>\n",
       "      <td>9.422973e+00</td>\n",
       "      <td>1.622696e+01</td>\n",
       "      <td>6.324294e+03</td>\n",
       "      <td>1.719911e+03</td>\n",
       "      <td>1.923299e+00</td>\n",
       "    </tr>\n",
       "    <tr>\n",
       "      <th>min</th>\n",
       "      <td>0.000000e+00</td>\n",
       "      <td>0.000000e+00</td>\n",
       "      <td>0.000000e+00</td>\n",
       "      <td>-1.000000e+00</td>\n",
       "      <td>-2.200000e+01</td>\n",
       "    </tr>\n",
       "    <tr>\n",
       "      <th>25%</th>\n",
       "      <td>7.000000e+00</td>\n",
       "      <td>2.200000e+01</td>\n",
       "      <td>4.476000e+03</td>\n",
       "      <td>2.490000e+02</td>\n",
       "      <td>1.000000e+00</td>\n",
       "    </tr>\n",
       "    <tr>\n",
       "      <th>50%</th>\n",
       "      <td>1.400000e+01</td>\n",
       "      <td>3.100000e+01</td>\n",
       "      <td>9.343000e+03</td>\n",
       "      <td>3.990000e+02</td>\n",
       "      <td>1.000000e+00</td>\n",
       "    </tr>\n",
       "    <tr>\n",
       "      <th>75%</th>\n",
       "      <td>2.300000e+01</td>\n",
       "      <td>4.700000e+01</td>\n",
       "      <td>1.568400e+04</td>\n",
       "      <td>9.990000e+02</td>\n",
       "      <td>1.000000e+00</td>\n",
       "    </tr>\n",
       "    <tr>\n",
       "      <th>max</th>\n",
       "      <td>3.300000e+01</td>\n",
       "      <td>5.900000e+01</td>\n",
       "      <td>2.216900e+04</td>\n",
       "      <td>4.978200e+04</td>\n",
       "      <td>4.800000e+02</td>\n",
       "    </tr>\n",
       "  </tbody>\n",
       "</table>\n",
       "</div>"
      ],
      "text/plain": [
       "       date_block_num       shop_id       item_id    item_price  item_cnt_day\n",
       "count    2.935826e+06  2.935826e+06  2.935826e+06  2.935826e+06  2.935826e+06\n",
       "mean     1.456986e+01  3.300178e+01  1.019721e+04  8.907121e+02  1.239344e+00\n",
       "std      9.422973e+00  1.622696e+01  6.324294e+03  1.719911e+03  1.923299e+00\n",
       "min      0.000000e+00  0.000000e+00  0.000000e+00 -1.000000e+00 -2.200000e+01\n",
       "25%      7.000000e+00  2.200000e+01  4.476000e+03  2.490000e+02  1.000000e+00\n",
       "50%      1.400000e+01  3.100000e+01  9.343000e+03  3.990000e+02  1.000000e+00\n",
       "75%      2.300000e+01  4.700000e+01  1.568400e+04  9.990000e+02  1.000000e+00\n",
       "max      3.300000e+01  5.900000e+01  2.216900e+04  4.978200e+04  4.800000e+02"
      ]
     },
<<<<<<< HEAD
     "execution_count": 19,
=======
     "execution_count": 113,
>>>>>>> 968a5130d0bc3e366a0160ca2555280b9ef6af04
     "metadata": {},
     "output_type": "execute_result"
    }
   ],
   "source": [
    "df_train.describe()"
   ]
  },
  {
   "cell_type": "markdown",
   "metadata": {},
   "source": [
    "item_pirce와 item_cnt_day가 0 미만인 수 제거"
   ]
  },
  {
   "cell_type": "code",
<<<<<<< HEAD
   "execution_count": 20,
=======
   "execution_count": 114,
>>>>>>> 968a5130d0bc3e366a0160ca2555280b9ef6af04
   "metadata": {},
   "outputs": [],
   "source": [
    "df_train = df_train[df_train.item_cnt_day >= 0]\n",
    "df_train = df_train[df_train.item_price >= 0]"
   ]
  },
  {
   "cell_type": "markdown",
   "metadata": {},
   "source": [
    "### Shops name 수정"
   ]
  },
  {
   "cell_type": "code",
<<<<<<< HEAD
   "execution_count": 21,
=======
   "execution_count": 115,
>>>>>>> 968a5130d0bc3e366a0160ca2555280b9ef6af04
   "metadata": {
    "scrolled": true
   },
   "outputs": [
    {
     "data": {
      "text/html": [
       "<div>\n",
       "<style scoped>\n",
       "    .dataframe tbody tr th:only-of-type {\n",
       "        vertical-align: middle;\n",
       "    }\n",
       "\n",
       "    .dataframe tbody tr th {\n",
       "        vertical-align: top;\n",
       "    }\n",
       "\n",
       "    .dataframe thead th {\n",
       "        text-align: right;\n",
       "    }\n",
       "</style>\n",
       "<table border=\"1\" class=\"dataframe\">\n",
       "  <thead>\n",
       "    <tr style=\"text-align: right;\">\n",
       "      <th></th>\n",
       "      <th>shop_name</th>\n",
       "      <th>shop_id</th>\n",
       "    </tr>\n",
       "  </thead>\n",
       "  <tbody>\n",
       "    <tr>\n",
       "      <th>0</th>\n",
       "      <td>!Якутск Орджоникидзе, 56 фран</td>\n",
       "      <td>0</td>\n",
       "    </tr>\n",
       "    <tr>\n",
       "      <th>1</th>\n",
       "      <td>!Якутск ТЦ \"Центральный\" фран</td>\n",
       "      <td>1</td>\n",
       "    </tr>\n",
       "  </tbody>\n",
       "</table>\n",
       "</div>"
      ],
      "text/plain": [
       "                       shop_name  shop_id\n",
       "0  !Якутск Орджоникидзе, 56 фран        0\n",
       "1  !Якутск ТЦ \"Центральный\" фран        1"
      ]
     },
<<<<<<< HEAD
     "execution_count": 21,
=======
     "execution_count": 115,
>>>>>>> 968a5130d0bc3e366a0160ca2555280b9ef6af04
     "metadata": {},
     "output_type": "execute_result"
    }
   ],
   "source": [
    "df_shops.head(2)"
   ]
  },
  {
   "cell_type": "code",
<<<<<<< HEAD
   "execution_count": 22,
=======
   "execution_count": 116,
>>>>>>> 968a5130d0bc3e366a0160ca2555280b9ef6af04
   "metadata": {},
   "outputs": [],
   "source": [
    "df_shops.loc[df_shops.shop_name == 'Сергиев Посад ТЦ \"7Я\"', 'shop_name'] = 'СергиевПосад ТЦ \"7Я\"'"
   ]
  },
  {
   "cell_type": "code",
<<<<<<< HEAD
   "execution_count": 23,
=======
   "execution_count": 117,
>>>>>>> 968a5130d0bc3e366a0160ca2555280b9ef6af04
   "metadata": {},
   "outputs": [],
   "source": [
    " df_shops['city'] = df_shops['shop_name'].str.split(' ').map(lambda x: x[0])"
   ]
  },
  {
   "cell_type": "code",
<<<<<<< HEAD
   "execution_count": 24,
=======
   "execution_count": 118,
>>>>>>> 968a5130d0bc3e366a0160ca2555280b9ef6af04
   "metadata": {},
   "outputs": [
    {
     "data": {
      "text/html": [
       "<div>\n",
       "<style scoped>\n",
       "    .dataframe tbody tr th:only-of-type {\n",
       "        vertical-align: middle;\n",
       "    }\n",
       "\n",
       "    .dataframe tbody tr th {\n",
       "        vertical-align: top;\n",
       "    }\n",
       "\n",
       "    .dataframe thead th {\n",
       "        text-align: right;\n",
       "    }\n",
       "</style>\n",
       "<table border=\"1\" class=\"dataframe\">\n",
       "  <thead>\n",
       "    <tr style=\"text-align: right;\">\n",
       "      <th></th>\n",
       "      <th>shop_name</th>\n",
       "      <th>shop_id</th>\n",
       "      <th>city</th>\n",
       "    </tr>\n",
       "  </thead>\n",
       "  <tbody>\n",
       "    <tr>\n",
       "      <th>0</th>\n",
       "      <td>!Якутск Орджоникидзе, 56 фран</td>\n",
       "      <td>0</td>\n",
       "      <td>!Якутск</td>\n",
       "    </tr>\n",
       "    <tr>\n",
       "      <th>1</th>\n",
       "      <td>!Якутск ТЦ \"Центральный\" фран</td>\n",
       "      <td>1</td>\n",
       "      <td>!Якутск</td>\n",
       "    </tr>\n",
       "  </tbody>\n",
       "</table>\n",
       "</div>"
      ],
      "text/plain": [
       "                       shop_name  shop_id     city\n",
       "0  !Якутск Орджоникидзе, 56 фран        0  !Якутск\n",
       "1  !Якутск ТЦ \"Центральный\" фран        1  !Якутск"
      ]
     },
<<<<<<< HEAD
     "execution_count": 24,
=======
     "execution_count": 118,
>>>>>>> 968a5130d0bc3e366a0160ca2555280b9ef6af04
     "metadata": {},
     "output_type": "execute_result"
    }
   ],
   "source": [
    "df_shops.head(2)"
   ]
  },
  {
   "cell_type": "code",
<<<<<<< HEAD
   "execution_count": 25,
=======
   "execution_count": 119,
>>>>>>> 968a5130d0bc3e366a0160ca2555280b9ef6af04
   "metadata": {},
   "outputs": [],
   "source": [
    "df_shops.loc[df_shops.city == '!Якутск', 'city'] = 'Якутск'"
   ]
  },
  {
   "cell_type": "markdown",
   "metadata": {},
   "source": [
    "수치 데이터가 아닌 문자 데이터는 데이터 분석이 번거롭다. 따라서 문자 데이터를 모두 수치 데이터로 Encoding하는 작업이 필요하다."
   ]
  },
  {
   "cell_type": "markdown",
   "metadata": {},
   "source": [
    "### df_shops Enconding"
   ]
  },
  {
   "cell_type": "code",
<<<<<<< HEAD
   "execution_count": 26,
=======
   "execution_count": 120,
>>>>>>> 968a5130d0bc3e366a0160ca2555280b9ef6af04
   "metadata": {},
   "outputs": [
    {
     "data": {
      "text/plain": [
       "Москва              13\n",
       "Якутск               4\n",
       "Воронеж              3\n",
<<<<<<< HEAD
       "РостовНаДону         3\n",
       "Тюмень               3\n",
       "Красноярск           2\n",
       "Новосибирск          2\n",
       "СПб                  2\n",
       "Казань               2\n",
       "Жуковский            2\n",
       "Н.Новгород           2\n",
       "Самара               2\n",
       "Уфа                  2\n",
       "Вологда              1\n",
       "СергиевПосад         1\n",
       "Курск                1\n",
       "Калуга               1\n",
       "Выездная             1\n",
       "Балашиха             1\n",
       "Сургут               1\n",
       "Чехов                1\n",
       "Интернет-магазин     1\n",
       "Ярославль            1\n",
       "Химки                1\n",
       "Омск                 1\n",
       "Коломна              1\n",
       "Волжский             1\n",
       "Адыгея               1\n",
       "Цифровой             1\n",
       "Мытищи               1\n",
       "Томск                1\n",
       "Name: city, dtype: int64"
      ]
     },
     "execution_count": 26,
=======
       "Тюмень               3\n",
       "РостовНаДону         3\n",
       "Новосибирск          2\n",
       "Красноярск           2\n",
       "Казань               2\n",
       "Самара               2\n",
       "Н.Новгород           2\n",
       "Жуковский            2\n",
       "Уфа                  2\n",
       "СПб                  2\n",
       "Выездная             1\n",
       "Курск                1\n",
       "Балашиха             1\n",
       "Мытищи               1\n",
       "Томск                1\n",
       "Калуга               1\n",
       "Ярославль            1\n",
       "Вологда              1\n",
       "Коломна              1\n",
       "Цифровой             1\n",
       "Чехов                1\n",
       "СергиевПосад         1\n",
       "Интернет-магазин     1\n",
       "Сургут               1\n",
       "Адыгея               1\n",
       "Волжский             1\n",
       "Химки                1\n",
       "Омск                 1\n",
       "Name: city, dtype: int64"
      ]
     },
     "execution_count": 120,
>>>>>>> 968a5130d0bc3e366a0160ca2555280b9ef6af04
     "metadata": {},
     "output_type": "execute_result"
    }
   ],
   "source": [
    "df_shops.city.value_counts()"
   ]
  },
  {
   "cell_type": "code",
<<<<<<< HEAD
   "execution_count": 27,
=======
   "execution_count": 121,
>>>>>>> 968a5130d0bc3e366a0160ca2555280b9ef6af04
   "metadata": {},
   "outputs": [
    {
     "data": {
      "text/html": [
       "<div>\n",
       "<style scoped>\n",
       "    .dataframe tbody tr th:only-of-type {\n",
       "        vertical-align: middle;\n",
       "    }\n",
       "\n",
       "    .dataframe tbody tr th {\n",
       "        vertical-align: top;\n",
       "    }\n",
       "\n",
       "    .dataframe thead th {\n",
       "        text-align: right;\n",
       "    }\n",
       "</style>\n",
       "<table border=\"1\" class=\"dataframe\">\n",
       "  <thead>\n",
       "    <tr style=\"text-align: right;\">\n",
       "      <th></th>\n",
       "      <th>shop_id</th>\n",
       "      <th>city_code</th>\n",
       "    </tr>\n",
       "  </thead>\n",
       "  <tbody>\n",
       "    <tr>\n",
       "      <th>0</th>\n",
       "      <td>0</td>\n",
       "      <td>29</td>\n",
       "    </tr>\n",
       "    <tr>\n",
       "      <th>1</th>\n",
       "      <td>1</td>\n",
       "      <td>29</td>\n",
       "    </tr>\n",
       "    <tr>\n",
       "      <th>2</th>\n",
       "      <td>2</td>\n",
       "      <td>0</td>\n",
       "    </tr>\n",
       "    <tr>\n",
       "      <th>3</th>\n",
       "      <td>3</td>\n",
       "      <td>1</td>\n",
       "    </tr>\n",
       "    <tr>\n",
       "      <th>4</th>\n",
       "      <td>4</td>\n",
       "      <td>2</td>\n",
       "    </tr>\n",
       "  </tbody>\n",
       "</table>\n",
       "</div>"
      ],
      "text/plain": [
       "   shop_id  city_code\n",
       "0        0         29\n",
       "1        1         29\n",
       "2        2          0\n",
       "3        3          1\n",
       "4        4          2"
      ]
     },
<<<<<<< HEAD
     "execution_count": 27,
=======
     "execution_count": 121,
>>>>>>> 968a5130d0bc3e366a0160ca2555280b9ef6af04
     "metadata": {},
     "output_type": "execute_result"
    }
   ],
   "source": [
    "city_encoder = LabelEncoder()\n",
    "df_shops['city_code'] = city_encoder.fit_transform(df_shops['city'])\n",
    "df_shops = df_shops[['shop_id', 'city_code']]\n",
    "df_shops.head()"
   ]
  },
  {
   "cell_type": "markdown",
   "metadata": {},
   "source": [
    "### Item category Encoding"
   ]
  },
  {
   "cell_type": "code",
<<<<<<< HEAD
   "execution_count": 28,
=======
   "execution_count": 122,
>>>>>>> 968a5130d0bc3e366a0160ca2555280b9ef6af04
   "metadata": {},
   "outputs": [
    {
     "data": {
      "text/html": [
       "<div>\n",
       "<style scoped>\n",
       "    .dataframe tbody tr th:only-of-type {\n",
       "        vertical-align: middle;\n",
       "    }\n",
       "\n",
       "    .dataframe tbody tr th {\n",
       "        vertical-align: top;\n",
       "    }\n",
       "\n",
       "    .dataframe thead th {\n",
       "        text-align: right;\n",
       "    }\n",
       "</style>\n",
       "<table border=\"1\" class=\"dataframe\">\n",
       "  <thead>\n",
       "    <tr style=\"text-align: right;\">\n",
       "      <th></th>\n",
       "      <th>item_category_name</th>\n",
       "      <th>item_category_id</th>\n",
       "    </tr>\n",
       "  </thead>\n",
       "  <tbody>\n",
       "    <tr>\n",
       "      <th>0</th>\n",
       "      <td>PC - Гарнитуры/Наушники</td>\n",
       "      <td>0</td>\n",
       "    </tr>\n",
       "    <tr>\n",
       "      <th>1</th>\n",
       "      <td>Аксессуары - PS2</td>\n",
       "      <td>1</td>\n",
       "    </tr>\n",
       "  </tbody>\n",
       "</table>\n",
       "</div>"
      ],
      "text/plain": [
       "        item_category_name  item_category_id\n",
       "0  PC - Гарнитуры/Наушники                 0\n",
       "1         Аксессуары - PS2                 1"
      ]
     },
<<<<<<< HEAD
     "execution_count": 28,
=======
     "execution_count": 122,
>>>>>>> 968a5130d0bc3e366a0160ca2555280b9ef6af04
     "metadata": {},
     "output_type": "execute_result"
    }
   ],
   "source": [
    "df_item_categories.head(2)"
   ]
  },
  {
   "cell_type": "code",
<<<<<<< HEAD
   "execution_count": 29,
=======
   "execution_count": 123,
>>>>>>> 968a5130d0bc3e366a0160ca2555280b9ef6af04
   "metadata": {},
   "outputs": [],
   "source": [
    "type_encoder = LabelEncoder()\n",
    "df_item_categories['split_name'] = df_item_categories['item_category_name'].str.split(' - ')\n",
    "df_item_categories['type'] = df_item_categories['split_name'].map(lambda x: x[0].strip())\n",
    "df_item_categories['type_code'] = type_encoder.fit_transform(df_item_categories['type'])"
   ]
  },
  {
   "cell_type": "code",
<<<<<<< HEAD
   "execution_count": 30,
=======
   "execution_count": 124,
>>>>>>> 968a5130d0bc3e366a0160ca2555280b9ef6af04
   "metadata": {},
   "outputs": [
    {
     "data": {
      "text/html": [
       "<div>\n",
       "<style scoped>\n",
       "    .dataframe tbody tr th:only-of-type {\n",
       "        vertical-align: middle;\n",
       "    }\n",
       "\n",
       "    .dataframe tbody tr th {\n",
       "        vertical-align: top;\n",
       "    }\n",
       "\n",
       "    .dataframe thead th {\n",
       "        text-align: right;\n",
       "    }\n",
       "</style>\n",
       "<table border=\"1\" class=\"dataframe\">\n",
       "  <thead>\n",
       "    <tr style=\"text-align: right;\">\n",
       "      <th></th>\n",
       "      <th>item_category_name</th>\n",
       "      <th>item_category_id</th>\n",
       "      <th>split_name</th>\n",
       "      <th>type</th>\n",
       "      <th>type_code</th>\n",
       "    </tr>\n",
       "  </thead>\n",
       "  <tbody>\n",
       "    <tr>\n",
       "      <th>0</th>\n",
       "      <td>PC - Гарнитуры/Наушники</td>\n",
       "      <td>0</td>\n",
       "      <td>[PC, Гарнитуры/Наушники]</td>\n",
       "      <td>PC</td>\n",
       "      <td>0</td>\n",
       "    </tr>\n",
       "    <tr>\n",
       "      <th>1</th>\n",
       "      <td>Аксессуары - PS2</td>\n",
       "      <td>1</td>\n",
       "      <td>[Аксессуары, PS2]</td>\n",
       "      <td>Аксессуары</td>\n",
       "      <td>1</td>\n",
       "    </tr>\n",
       "  </tbody>\n",
       "</table>\n",
       "</div>"
      ],
      "text/plain": [
       "        item_category_name  item_category_id                split_name  \\\n",
       "0  PC - Гарнитуры/Наушники                 0  [PC, Гарнитуры/Наушники]   \n",
       "1         Аксессуары - PS2                 1         [Аксессуары, PS2]   \n",
       "\n",
       "         type  type_code  \n",
       "0          PC          0  \n",
       "1  Аксессуары          1  "
      ]
     },
<<<<<<< HEAD
     "execution_count": 30,
=======
     "execution_count": 124,
>>>>>>> 968a5130d0bc3e366a0160ca2555280b9ef6af04
     "metadata": {},
     "output_type": "execute_result"
    }
   ],
   "source": [
    "df_item_categories.head(2)"
   ]
  },
  {
   "cell_type": "code",
<<<<<<< HEAD
   "execution_count": 31,
=======
   "execution_count": 125,
>>>>>>> 968a5130d0bc3e366a0160ca2555280b9ef6af04
   "metadata": {},
   "outputs": [],
   "source": [
    "subtype_encoder = LabelEncoder()\n",
    "df_item_categories['subtype'] = df_item_categories['split_name'].map(lambda x: x[1].strip() if len(x) > 1 else x[0].strip())\n",
    "df_item_categories['subtype_code'] = subtype_encoder.fit_transform(df_item_categories['subtype'])\n",
    "df_item_categories = df_item_categories[['item_category_id', 'type_code', 'subtype_code']]"
   ]
  },
  {
   "cell_type": "code",
<<<<<<< HEAD
   "execution_count": 32,
=======
   "execution_count": 126,
>>>>>>> 968a5130d0bc3e366a0160ca2555280b9ef6af04
   "metadata": {
    "scrolled": true
   },
   "outputs": [
    {
     "data": {
      "text/html": [
       "<div>\n",
       "<style scoped>\n",
       "    .dataframe tbody tr th:only-of-type {\n",
       "        vertical-align: middle;\n",
       "    }\n",
       "\n",
       "    .dataframe tbody tr th {\n",
       "        vertical-align: top;\n",
       "    }\n",
       "\n",
       "    .dataframe thead th {\n",
       "        text-align: right;\n",
       "    }\n",
       "</style>\n",
       "<table border=\"1\" class=\"dataframe\">\n",
       "  <thead>\n",
       "    <tr style=\"text-align: right;\">\n",
       "      <th></th>\n",
       "      <th>item_category_id</th>\n",
       "      <th>type_code</th>\n",
       "      <th>subtype_code</th>\n",
       "    </tr>\n",
       "  </thead>\n",
       "  <tbody>\n",
       "    <tr>\n",
       "      <th>0</th>\n",
       "      <td>0</td>\n",
       "      <td>0</td>\n",
       "      <td>31</td>\n",
       "    </tr>\n",
       "    <tr>\n",
       "      <th>1</th>\n",
       "      <td>1</td>\n",
       "      <td>1</td>\n",
       "      <td>11</td>\n",
       "    </tr>\n",
       "  </tbody>\n",
       "</table>\n",
       "</div>"
      ],
      "text/plain": [
       "   item_category_id  type_code  subtype_code\n",
       "0                 0          0            31\n",
       "1                 1          1            11"
      ]
     },
<<<<<<< HEAD
     "execution_count": 32,
=======
     "execution_count": 126,
>>>>>>> 968a5130d0bc3e366a0160ca2555280b9ef6af04
     "metadata": {},
     "output_type": "execute_result"
    }
   ],
   "source": [
    "df_item_categories.head(2)"
   ]
  },
  {
   "cell_type": "markdown",
   "metadata": {},
   "source": [
    "### Item Encoding\n",
    "이미 item_id와 item_category_id가 숫자로 매핑되어 있어 name만 drop해주면 됨"
   ]
  },
  {
   "cell_type": "code",
<<<<<<< HEAD
   "execution_count": 33,
=======
   "execution_count": 127,
>>>>>>> 968a5130d0bc3e366a0160ca2555280b9ef6af04
   "metadata": {},
   "outputs": [],
   "source": [
    "df_items.drop(['item_name'], axis=1, inplace=True)"
   ]
  },
  {
   "cell_type": "code",
<<<<<<< HEAD
   "execution_count": 34,
=======
   "execution_count": 128,
>>>>>>> 968a5130d0bc3e366a0160ca2555280b9ef6af04
   "metadata": {},
   "outputs": [
    {
     "data": {
      "text/html": [
       "<div>\n",
       "<style scoped>\n",
       "    .dataframe tbody tr th:only-of-type {\n",
       "        vertical-align: middle;\n",
       "    }\n",
       "\n",
       "    .dataframe tbody tr th {\n",
       "        vertical-align: top;\n",
       "    }\n",
       "\n",
       "    .dataframe thead th {\n",
       "        text-align: right;\n",
       "    }\n",
       "</style>\n",
       "<table border=\"1\" class=\"dataframe\">\n",
       "  <thead>\n",
       "    <tr style=\"text-align: right;\">\n",
       "      <th></th>\n",
       "      <th>item_id</th>\n",
       "      <th>item_category_id</th>\n",
       "    </tr>\n",
       "  </thead>\n",
       "  <tbody>\n",
       "    <tr>\n",
       "      <th>0</th>\n",
       "      <td>0</td>\n",
       "      <td>40</td>\n",
       "    </tr>\n",
       "    <tr>\n",
       "      <th>1</th>\n",
       "      <td>1</td>\n",
       "      <td>76</td>\n",
       "    </tr>\n",
       "  </tbody>\n",
       "</table>\n",
       "</div>"
      ],
      "text/plain": [
       "   item_id  item_category_id\n",
       "0        0                40\n",
       "1        1                76"
      ]
     },
<<<<<<< HEAD
     "execution_count": 34,
=======
     "execution_count": 128,
>>>>>>> 968a5130d0bc3e366a0160ca2555280b9ef6af04
     "metadata": {},
     "output_type": "execute_result"
    }
   ],
   "source": [
    "df_items.head(2)"
   ]
  },
  {
   "cell_type": "markdown",
   "metadata": {},
   "source": [
    "Encoding된 shops, category, item"
   ]
  },
  {
   "cell_type": "code",
<<<<<<< HEAD
   "execution_count": 35,
=======
   "execution_count": 129,
>>>>>>> 968a5130d0bc3e366a0160ca2555280b9ef6af04
   "metadata": {},
   "outputs": [
    {
     "data": {
      "text/html": [
       "<div>\n",
       "<style scoped>\n",
       "    .dataframe tbody tr th:only-of-type {\n",
       "        vertical-align: middle;\n",
       "    }\n",
       "\n",
       "    .dataframe tbody tr th {\n",
       "        vertical-align: top;\n",
       "    }\n",
       "\n",
       "    .dataframe thead th {\n",
       "        text-align: right;\n",
       "    }\n",
       "</style>\n",
       "<table border=\"1\" class=\"dataframe\">\n",
       "  <thead>\n",
       "    <tr style=\"text-align: right;\">\n",
       "      <th></th>\n",
       "      <th>shop_id</th>\n",
       "      <th>city_code</th>\n",
       "    </tr>\n",
       "  </thead>\n",
       "  <tbody>\n",
       "    <tr>\n",
       "      <th>0</th>\n",
       "      <td>0</td>\n",
       "      <td>29</td>\n",
       "    </tr>\n",
       "    <tr>\n",
       "      <th>1</th>\n",
       "      <td>1</td>\n",
       "      <td>29</td>\n",
       "    </tr>\n",
       "  </tbody>\n",
       "</table>\n",
       "</div>"
      ],
      "text/plain": [
       "   shop_id  city_code\n",
       "0        0         29\n",
       "1        1         29"
      ]
     },
<<<<<<< HEAD
     "execution_count": 35,
=======
     "execution_count": 129,
>>>>>>> 968a5130d0bc3e366a0160ca2555280b9ef6af04
     "metadata": {},
     "output_type": "execute_result"
    }
   ],
   "source": [
    "df_shops.head(2)"
   ]
  },
  {
   "cell_type": "code",
<<<<<<< HEAD
   "execution_count": 36,
=======
   "execution_count": 130,
>>>>>>> 968a5130d0bc3e366a0160ca2555280b9ef6af04
   "metadata": {},
   "outputs": [
    {
     "data": {
      "text/html": [
       "<div>\n",
       "<style scoped>\n",
       "    .dataframe tbody tr th:only-of-type {\n",
       "        vertical-align: middle;\n",
       "    }\n",
       "\n",
       "    .dataframe tbody tr th {\n",
       "        vertical-align: top;\n",
       "    }\n",
       "\n",
       "    .dataframe thead th {\n",
       "        text-align: right;\n",
       "    }\n",
       "</style>\n",
       "<table border=\"1\" class=\"dataframe\">\n",
       "  <thead>\n",
       "    <tr style=\"text-align: right;\">\n",
       "      <th></th>\n",
       "      <th>item_category_id</th>\n",
       "      <th>type_code</th>\n",
       "      <th>subtype_code</th>\n",
       "    </tr>\n",
       "  </thead>\n",
       "  <tbody>\n",
       "    <tr>\n",
       "      <th>0</th>\n",
       "      <td>0</td>\n",
       "      <td>0</td>\n",
       "      <td>31</td>\n",
       "    </tr>\n",
       "    <tr>\n",
       "      <th>1</th>\n",
       "      <td>1</td>\n",
       "      <td>1</td>\n",
       "      <td>11</td>\n",
       "    </tr>\n",
       "  </tbody>\n",
       "</table>\n",
       "</div>"
      ],
      "text/plain": [
       "   item_category_id  type_code  subtype_code\n",
       "0                 0          0            31\n",
       "1                 1          1            11"
      ]
     },
<<<<<<< HEAD
     "execution_count": 36,
=======
     "execution_count": 130,
>>>>>>> 968a5130d0bc3e366a0160ca2555280b9ef6af04
     "metadata": {},
     "output_type": "execute_result"
    }
   ],
   "source": [
    "df_item_categories.head(2)"
   ]
  },
  {
   "cell_type": "code",
<<<<<<< HEAD
   "execution_count": 37,
=======
   "execution_count": 131,
>>>>>>> 968a5130d0bc3e366a0160ca2555280b9ef6af04
   "metadata": {},
   "outputs": [
    {
     "data": {
      "text/html": [
       "<div>\n",
       "<style scoped>\n",
       "    .dataframe tbody tr th:only-of-type {\n",
       "        vertical-align: middle;\n",
       "    }\n",
       "\n",
       "    .dataframe tbody tr th {\n",
       "        vertical-align: top;\n",
       "    }\n",
       "\n",
       "    .dataframe thead th {\n",
       "        text-align: right;\n",
       "    }\n",
       "</style>\n",
       "<table border=\"1\" class=\"dataframe\">\n",
       "  <thead>\n",
       "    <tr style=\"text-align: right;\">\n",
       "      <th></th>\n",
       "      <th>item_id</th>\n",
       "      <th>item_category_id</th>\n",
       "    </tr>\n",
       "  </thead>\n",
       "  <tbody>\n",
       "    <tr>\n",
       "      <th>0</th>\n",
       "      <td>0</td>\n",
       "      <td>40</td>\n",
       "    </tr>\n",
       "    <tr>\n",
       "      <th>1</th>\n",
       "      <td>1</td>\n",
       "      <td>76</td>\n",
       "    </tr>\n",
       "  </tbody>\n",
       "</table>\n",
       "</div>"
      ],
      "text/plain": [
       "   item_id  item_category_id\n",
       "0        0                40\n",
       "1        1                76"
      ]
     },
<<<<<<< HEAD
     "execution_count": 37,
=======
     "execution_count": 131,
>>>>>>> 968a5130d0bc3e366a0160ca2555280b9ef6af04
     "metadata": {},
     "output_type": "execute_result"
    }
   ],
   "source": [
    "df_items.head(2)"
   ]
  },
  {
   "cell_type": "markdown",
   "metadata": {},
   "source": [
    "### df_test shop_id, item_id"
   ]
  },
  {
   "cell_type": "code",
<<<<<<< HEAD
   "execution_count": 38,
=======
   "execution_count": 132,
>>>>>>> 968a5130d0bc3e366a0160ca2555280b9ef6af04
   "metadata": {},
   "outputs": [
    {
     "data": {
      "text/html": [
       "<div>\n",
       "<style scoped>\n",
       "    .dataframe tbody tr th:only-of-type {\n",
       "        vertical-align: middle;\n",
       "    }\n",
       "\n",
       "    .dataframe tbody tr th {\n",
       "        vertical-align: top;\n",
       "    }\n",
       "\n",
       "    .dataframe thead th {\n",
       "        text-align: right;\n",
       "    }\n",
       "</style>\n",
       "<table border=\"1\" class=\"dataframe\">\n",
       "  <thead>\n",
       "    <tr style=\"text-align: right;\">\n",
       "      <th></th>\n",
       "      <th>ID</th>\n",
       "      <th>shop_id</th>\n",
       "      <th>item_id</th>\n",
       "    </tr>\n",
       "  </thead>\n",
       "  <tbody>\n",
       "    <tr>\n",
       "      <th>0</th>\n",
       "      <td>0</td>\n",
       "      <td>5</td>\n",
       "      <td>5037</td>\n",
       "    </tr>\n",
       "    <tr>\n",
       "      <th>1</th>\n",
       "      <td>1</td>\n",
       "      <td>5</td>\n",
       "      <td>5320</td>\n",
       "    </tr>\n",
       "    <tr>\n",
       "      <th>2</th>\n",
       "      <td>2</td>\n",
       "      <td>5</td>\n",
       "      <td>5233</td>\n",
       "    </tr>\n",
       "    <tr>\n",
       "      <th>3</th>\n",
       "      <td>3</td>\n",
       "      <td>5</td>\n",
       "      <td>5232</td>\n",
       "    </tr>\n",
       "    <tr>\n",
       "      <th>4</th>\n",
       "      <td>4</td>\n",
       "      <td>5</td>\n",
       "      <td>5268</td>\n",
       "    </tr>\n",
       "  </tbody>\n",
       "</table>\n",
       "</div>"
      ],
      "text/plain": [
       "   ID  shop_id  item_id\n",
       "0   0        5     5037\n",
       "1   1        5     5320\n",
       "2   2        5     5233\n",
       "3   3        5     5232\n",
       "4   4        5     5268"
      ]
     },
<<<<<<< HEAD
     "execution_count": 38,
=======
     "execution_count": 132,
>>>>>>> 968a5130d0bc3e366a0160ca2555280b9ef6af04
     "metadata": {},
     "output_type": "execute_result"
    }
   ],
   "source": [
    "df_test.head()"
   ]
  },
  {
   "cell_type": "code",
<<<<<<< HEAD
   "execution_count": 39,
=======
   "execution_count": 133,
>>>>>>> 968a5130d0bc3e366a0160ca2555280b9ef6af04
   "metadata": {},
   "outputs": [
    {
     "data": {
      "text/plain": [
       "59    5100\n",
       "16    5100\n",
       "28    5100\n",
       "26    5100\n",
       "25    5100\n",
       "24    5100\n",
       "22    5100\n",
       "21    5100\n",
       "19    5100\n",
       "18    5100\n",
       "15    5100\n",
       "58    5100\n",
       "14    5100\n",
       "12    5100\n",
       "10    5100\n",
       "7     5100\n",
       "6     5100\n",
       "5     5100\n",
       "4     5100\n",
       "3     5100\n",
       "31    5100\n",
       "34    5100\n",
       "35    5100\n",
       "36    5100\n",
       "57    5100\n",
       "56    5100\n",
       "55    5100\n",
       "53    5100\n",
       "52    5100\n",
       "50    5100\n",
       "49    5100\n",
       "48    5100\n",
       "47    5100\n",
       "46    5100\n",
       "45    5100\n",
       "44    5100\n",
       "42    5100\n",
       "41    5100\n",
       "39    5100\n",
       "38    5100\n",
       "37    5100\n",
       "2     5100\n",
       "Name: shop_id, dtype: int64"
      ]
     },
<<<<<<< HEAD
     "execution_count": 39,
=======
     "execution_count": 133,
>>>>>>> 968a5130d0bc3e366a0160ca2555280b9ef6af04
     "metadata": {},
     "output_type": "execute_result"
    }
   ],
   "source": [
    "df_test.shop_id.value_counts()"
   ]
  },
  {
   "cell_type": "code",
<<<<<<< HEAD
   "execution_count": 40,
=======
   "execution_count": 134,
>>>>>>> 968a5130d0bc3e366a0160ca2555280b9ef6af04
   "metadata": {},
   "outputs": [
    {
     "data": {
      "text/plain": [
       "42"
      ]
     },
<<<<<<< HEAD
     "execution_count": 40,
=======
     "execution_count": 134,
>>>>>>> 968a5130d0bc3e366a0160ca2555280b9ef6af04
     "metadata": {},
     "output_type": "execute_result"
    }
   ],
   "source": [
    "len(df_test.shop_id.unique())"
   ]
  },
  {
   "cell_type": "markdown",
   "metadata": {},
   "source": [
    "총 42개의 shop_id가 있으며 각 shop_id마다 5,100개의 item이 있다."
   ]
  },
  {
   "cell_type": "code",
<<<<<<< HEAD
   "execution_count": 41,
=======
   "execution_count": 135,
>>>>>>> 968a5130d0bc3e366a0160ca2555280b9ef6af04
   "metadata": {},
   "outputs": [
    {
     "data": {
      "text/plain": [
       "363"
      ]
     },
<<<<<<< HEAD
     "execution_count": 41,
=======
     "execution_count": 135,
>>>>>>> 968a5130d0bc3e366a0160ca2555280b9ef6af04
     "metadata": {},
     "output_type": "execute_result"
    }
   ],
   "source": [
    "len(set(df_test.item_id) - set(df_train.item_id))"
   ]
  },
  {
   "cell_type": "markdown",
   "metadata": {},
   "source": [
    "df_test에는 있지만 df_train에는 없는 item_id가 총 363개 있다. 이는 df_train에 모든 종류의 item이 있지는 않다는 것을 뜻한다. 363개의 item에 대해서는 0개가 판매된 것으로 예측해야한다."
   ]
  },
  {
   "cell_type": "code",
<<<<<<< HEAD
   "execution_count": 42,
=======
   "execution_count": 136,
>>>>>>> 968a5130d0bc3e366a0160ca2555280b9ef6af04
   "metadata": {},
   "outputs": [
    {
     "data": {
      "text/plain": [
       "True"
      ]
     },
<<<<<<< HEAD
     "execution_count": 42,
=======
     "execution_count": 136,
>>>>>>> 968a5130d0bc3e366a0160ca2555280b9ef6af04
     "metadata": {},
     "output_type": "execute_result"
    }
   ],
   "source": [
    "len(df_test) == 42*5100"
   ]
  },
  {
   "cell_type": "markdown",
   "metadata": {},
   "source": [
    "42개의 shop_id, 5,100개의 item이 있으므로 df_test에는 총 42*5100 = 214,200개의 row가 있다"
   ]
  },
  {
   "cell_type": "markdown",
   "metadata": {},
   "source": [
    "### 'date_block_num', 'shop_id', 'item_id'로 구성된 Matrix 만들기"
   ]
  },
  {
   "cell_type": "code",
<<<<<<< HEAD
   "execution_count": 43,
=======
   "execution_count": 137,
>>>>>>> 968a5130d0bc3e366a0160ca2555280b9ef6af04
   "metadata": {},
   "outputs": [
    {
     "data": {
      "text/plain": [
       "34"
      ]
     },
<<<<<<< HEAD
     "execution_count": 43,
=======
     "execution_count": 137,
>>>>>>> 968a5130d0bc3e366a0160ca2555280b9ef6af04
     "metadata": {},
     "output_type": "execute_result"
    }
   ],
   "source": [
    "num_date_block_num = len(df_train.date_block_num.value_counts())\n",
    "num_date_block_num"
   ]
  },
  {
   "cell_type": "code",
<<<<<<< HEAD
   "execution_count": 44,
=======
   "execution_count": 138,
>>>>>>> 968a5130d0bc3e366a0160ca2555280b9ef6af04
   "metadata": {
    "scrolled": true
   },
   "outputs": [
    {
     "data": {
      "text/plain": [
<<<<<<< HEAD
       "6.614753246307373"
      ]
     },
     "execution_count": 44,
=======
       "6.762845754623413"
      ]
     },
     "execution_count": 138,
>>>>>>> 968a5130d0bc3e366a0160ca2555280b9ef6af04
     "metadata": {},
     "output_type": "execute_result"
    }
   ],
   "source": [
    "ts = time.time()\n",
    "matrix = []\n",
    "cols = ['date_block_num', 'shop_id', 'item_id']\n",
    "for i in range(34):\n",
    "    sales = df_train[df_train.date_block_num == i]\n",
    "    matrix.append(np.array(list(itertools.product([i], sales.shop_id.unique(), sales.item_id.unique())), dtype='int16'))\n",
    "matrix = pd.DataFrame(np.vstack(matrix), columns=cols)\n",
    "# int8 -> Byte (-128 to 127), int16 -> Integer (-32768 to 32767)\n",
    "matrix['date_block_num'] = matrix['date_block_num'].astype(np.int8)\n",
    "matrix['shop_id'] = matrix['shop_id'].astype(np.int8)\n",
    "matrix['item_id'] = matrix['item_id'].astype(np.int16)\n",
    "matrix.sort_values(cols, inplace=True)\n",
    "time.time()-ts"
   ]
  },
  {
   "cell_type": "code",
<<<<<<< HEAD
   "execution_count": 45,
=======
   "execution_count": 139,
>>>>>>> 968a5130d0bc3e366a0160ca2555280b9ef6af04
   "metadata": {
    "scrolled": true
   },
   "outputs": [
    {
     "data": {
      "text/html": [
       "<div>\n",
       "<style scoped>\n",
       "    .dataframe tbody tr th:only-of-type {\n",
       "        vertical-align: middle;\n",
       "    }\n",
       "\n",
       "    .dataframe tbody tr th {\n",
       "        vertical-align: top;\n",
       "    }\n",
       "\n",
       "    .dataframe thead th {\n",
       "        text-align: right;\n",
       "    }\n",
       "</style>\n",
       "<table border=\"1\" class=\"dataframe\">\n",
       "  <thead>\n",
       "    <tr style=\"text-align: right;\">\n",
       "      <th></th>\n",
       "      <th>date_block_num</th>\n",
       "      <th>shop_id</th>\n",
       "      <th>item_id</th>\n",
       "    </tr>\n",
       "  </thead>\n",
       "  <tbody>\n",
       "    <tr>\n",
       "      <th>139168</th>\n",
       "      <td>0</td>\n",
       "      <td>0</td>\n",
       "      <td>19</td>\n",
       "    </tr>\n",
       "    <tr>\n",
       "      <th>141406</th>\n",
       "      <td>0</td>\n",
       "      <td>0</td>\n",
       "      <td>27</td>\n",
       "    </tr>\n",
       "    <tr>\n",
       "      <th>144881</th>\n",
       "      <td>0</td>\n",
       "      <td>0</td>\n",
       "      <td>28</td>\n",
       "    </tr>\n",
       "    <tr>\n",
       "      <th>142572</th>\n",
       "      <td>0</td>\n",
       "      <td>0</td>\n",
       "      <td>29</td>\n",
       "    </tr>\n",
       "    <tr>\n",
       "      <th>138861</th>\n",
       "      <td>0</td>\n",
       "      <td>0</td>\n",
       "      <td>32</td>\n",
       "    </tr>\n",
       "  </tbody>\n",
       "</table>\n",
       "</div>"
      ],
      "text/plain": [
       "        date_block_num  shop_id  item_id\n",
       "139168               0        0       19\n",
       "141406               0        0       27\n",
       "144881               0        0       28\n",
       "142572               0        0       29\n",
       "138861               0        0       32"
      ]
     },
<<<<<<< HEAD
     "execution_count": 45,
=======
     "execution_count": 139,
>>>>>>> 968a5130d0bc3e366a0160ca2555280b9ef6af04
     "metadata": {},
     "output_type": "execute_result"
    }
   ],
   "source": [
    "matrix.head()"
   ]
  },
  {
   "cell_type": "markdown",
   "metadata": {},
   "source": [
    "위 for loop안의 itertools.product 부분이 이해가 안 간다면 아래 참고!"
   ]
  },
  {
   "cell_type": "code",
<<<<<<< HEAD
   "execution_count": 46,
=======
   "execution_count": 140,
>>>>>>> 968a5130d0bc3e366a0160ca2555280b9ef6af04
   "metadata": {},
   "outputs": [],
   "source": [
    "sales = df_train[df_train.date_block_num == 1]"
   ]
  },
  {
   "cell_type": "code",
<<<<<<< HEAD
   "execution_count": 47,
=======
   "execution_count": 141,
>>>>>>> 968a5130d0bc3e366a0160ca2555280b9ef6af04
   "metadata": {
    "scrolled": true
   },
   "outputs": [
    {
     "data": {
      "text/plain": [
       "array([50, 47, 51, 52, 42, 46, 43, 54, 56, 59,  7, 53, 16, 18, 19, 14, 15,\n",
       "       13, 23, 24, 21, 25, 22,  4,  3,  5,  1,  2,  6,  0,  8, 12, 10, 31,\n",
       "       32, 35, 44, 41, 45, 37, 38, 26, 27, 29, 30, 28])"
      ]
     },
<<<<<<< HEAD
     "execution_count": 47,
=======
     "execution_count": 141,
>>>>>>> 968a5130d0bc3e366a0160ca2555280b9ef6af04
     "metadata": {},
     "output_type": "execute_result"
    }
   ],
   "source": [
    "sales.shop_id.unique()"
   ]
  },
  {
   "cell_type": "code",
<<<<<<< HEAD
   "execution_count": 48,
=======
   "execution_count": 142,
>>>>>>> 968a5130d0bc3e366a0160ca2555280b9ef6af04
   "metadata": {},
   "outputs": [
    {
     "data": {
      "text/plain": [
       "array([ 3880,  4128,  4124, ..., 12885, 12791, 13433])"
      ]
     },
<<<<<<< HEAD
     "execution_count": 48,
=======
     "execution_count": 142,
>>>>>>> 968a5130d0bc3e366a0160ca2555280b9ef6af04
     "metadata": {},
     "output_type": "execute_result"
    }
   ],
   "source": [
    "sales.item_id.unique()"
   ]
  },
  {
   "cell_type": "code",
<<<<<<< HEAD
   "execution_count": 49,
=======
   "execution_count": 143,
>>>>>>> 968a5130d0bc3e366a0160ca2555280b9ef6af04
   "metadata": {
    "scrolled": true
   },
   "outputs": [
    {
     "data": {
      "text/plain": [
       "[(1, 50, 3880),\n",
       " (1, 50, 4128),\n",
       " (1, 50, 4124),\n",
       " (1, 50, 3879),\n",
       " (1, 50, 3885),\n",
       " (1, 50, 3950),\n",
       " (1, 50, 4163),\n",
       " (1, 50, 3897),\n",
       " (1, 50, 3941),\n",
       " (1, 50, 3959),\n",
       " (1, 50, 4036),\n",
       " (1, 50, 3983),\n",
       " (1, 50, 3993),\n",
       " (1, 50, 4127),\n",
       " (1, 50, 3890),\n",
       " (1, 50, 4115),\n",
       " (1, 50, 3878),\n",
       " (1, 50, 3834),\n",
       " (1, 50, 3850),\n",
       " (1, 50, 3851),\n",
       " (1, 50, 3788),\n",
       " (1, 50, 3805),\n",
       " (1, 50, 3869),\n",
       " (1, 50, 3870),\n",
       " (1, 50, 3871),\n",
       " (1, 50, 4164),\n",
       " (1, 50, 4244),\n",
       " (1, 50, 4245),\n",
       " (1, 50, 4248),\n",
       " (1, 50, 4249),\n",
       " (1, 50, 4251),\n",
       " (1, 50, 4266),\n",
       " (1, 50, 4092),\n",
       " (1, 50, 4282),\n",
       " (1, 50, 4241),\n",
       " (1, 50, 4227),\n",
       " (1, 50, 4240),\n",
       " (1, 50, 3508),\n",
       " (1, 50, 3328),\n",
       " (1, 50, 3321),\n",
       " (1, 50, 3322),\n",
       " (1, 50, 3360),\n",
       " (1, 50, 3362),\n",
       " (1, 50, 3366),\n",
       " (1, 50, 3367),\n",
       " (1, 50, 3320),\n",
       " (1, 50, 3325),\n",
       " (1, 50, 3326),\n",
       " (1, 50, 3327),\n",
       " (1, 50, 3476),\n",
       " (1, 50, 3702),\n",
       " (1, 50, 3705),\n",
       " (1, 50, 3718),\n",
       " (1, 50, 3698),\n",
       " (1, 50, 3719),\n",
       " (1, 50, 3743),\n",
       " (1, 50, 3745),\n",
       " (1, 50, 3622),\n",
       " (1, 50, 3624),\n",
       " (1, 50, 3693),\n",
       " (1, 50, 3490),\n",
       " (1, 50, 3371),\n",
       " (1, 50, 3533),\n",
       " (1, 50, 3384),\n",
       " (1, 50, 3542),\n",
       " (1, 50, 3554),\n",
       " (1, 50, 3556),\n",
       " (1, 50, 3569),\n",
       " (1, 50, 3676),\n",
       " (1, 50, 3686),\n",
       " (1, 50, 4886),\n",
       " (1, 50, 4307),\n",
       " (1, 50, 4715),\n",
       " (1, 50, 5125),\n",
       " (1, 50, 5189),\n",
       " (1, 50, 5197),\n",
       " (1, 50, 5198),\n",
       " (1, 50, 4982),\n",
       " (1, 50, 5224),\n",
       " (1, 50, 5228),\n",
       " (1, 50, 4712),\n",
       " (1, 50, 5256),\n",
       " (1, 50, 5260),\n",
       " (1, 50, 5261),\n",
       " (1, 50, 4934),\n",
       " (1, 50, 4906),\n",
       " (1, 50, 4688),\n",
       " (1, 50, 4907),\n",
       " (1, 50, 4910),\n",
       " (1, 50, 5262),\n",
       " (1, 50, 5031),\n",
       " (1, 50, 5032),\n",
       " (1, 50, 5033),\n",
       " (1, 50, 5034),\n",
       " (1, 50, 3318),\n",
       " (1, 50, 5287),\n",
       " (1, 50, 5283),\n",
       " (1, 50, 5274),\n",
       " (1, 50, 5275),\n",
       " (1, 50, 5272),\n",
       " (1, 50, 5022),\n",
       " (1, 50, 5273),\n",
       " (1, 50, 4474),\n",
       " (1, 50, 4475),\n",
       " (1, 50, 4481),\n",
       " (1, 50, 4476),\n",
       " (1, 50, 4477),\n",
       " (1, 50, 4482),\n",
       " (1, 50, 4421),\n",
       " (1, 50, 4440),\n",
       " (1, 50, 4485),\n",
       " (1, 50, 4486),\n",
       " (1, 50, 4443),\n",
       " (1, 50, 4445),\n",
       " (1, 50, 4500),\n",
       " (1, 50, 4510),\n",
       " (1, 50, 4723),\n",
       " (1, 50, 4411),\n",
       " (1, 50, 4373),\n",
       " (1, 50, 4309),\n",
       " (1, 50, 4323),\n",
       " (1, 50, 4331),\n",
       " (1, 50, 4332),\n",
       " (1, 50, 4333),\n",
       " (1, 50, 4464),\n",
       " (1, 50, 4366),\n",
       " (1, 50, 4370),\n",
       " (1, 50, 4371),\n",
       " (1, 50, 4372),\n",
       " (1, 50, 4724),\n",
       " (1, 50, 4565),\n",
       " (1, 50, 4809),\n",
       " (1, 50, 4810),\n",
       " (1, 50, 4811),\n",
       " (1, 50, 4823),\n",
       " (1, 50, 4827),\n",
       " (1, 50, 4861),\n",
       " (1, 50, 4651),\n",
       " (1, 50, 4668),\n",
       " (1, 50, 4885),\n",
       " (1, 50, 4735),\n",
       " (1, 50, 4773),\n",
       " (1, 50, 4779),\n",
       " (1, 50, 4780),\n",
       " (1, 50, 4781),\n",
       " (1, 50, 4790),\n",
       " (1, 50, 4791),\n",
       " (1, 50, 4792),\n",
       " (1, 50, 4579),\n",
       " (1, 50, 4800),\n",
       " (1, 50, 4807),\n",
       " (1, 50, 2748),\n",
       " (1, 50, 3314),\n",
       " (1, 50, 2090),\n",
       " (1, 50, 2094),\n",
       " (1, 50, 2099),\n",
       " (1, 50, 2104),\n",
       " (1, 50, 2106),\n",
       " (1, 50, 2108),\n",
       " (1, 50, 2221),\n",
       " (1, 50, 2415),\n",
       " (1, 50, 2417),\n",
       " (1, 50, 2437),\n",
       " (1, 50, 2439),\n",
       " (1, 50, 2084),\n",
       " (1, 50, 2082),\n",
       " (1, 50, 2078),\n",
       " (1, 50, 2281),\n",
       " (1, 50, 2307),\n",
       " (1, 50, 2308),\n",
       " (1, 50, 2309),\n",
       " (1, 50, 2441),\n",
       " (1, 50, 2321),\n",
       " (1, 50, 2319),\n",
       " (1, 50, 2450),\n",
       " (1, 50, 2241),\n",
       " (1, 50, 2461),\n",
       " (1, 50, 2678),\n",
       " (1, 50, 2680),\n",
       " (1, 50, 2682),\n",
       " (1, 50, 2704),\n",
       " (1, 50, 2709),\n",
       " (1, 50, 2719),\n",
       " (1, 50, 2477),\n",
       " (1, 50, 2727),\n",
       " (1, 50, 2746),\n",
       " (1, 50, 2753),\n",
       " (1, 50, 2304),\n",
       " (1, 50, 2449),\n",
       " (1, 50, 2445),\n",
       " (1, 50, 2446),\n",
       " (1, 50, 2447),\n",
       " (1, 50, 2448),\n",
       " (1, 50, 2303),\n",
       " (1, 50, 1777),\n",
       " (1, 50, 1472),\n",
       " (1, 50, 1475),\n",
       " (1, 50, 1481),\n",
       " (1, 50, 1482),\n",
       " (1, 50, 1520),\n",
       " (1, 50, 1523),\n",
       " (1, 50, 1604),\n",
       " (1, 50, 1611),\n",
       " (1, 50, 1790),\n",
       " (1, 50, 1800),\n",
       " (1, 50, 1830),\n",
       " (1, 50, 1471),\n",
       " (1, 50, 1408),\n",
       " (1, 50, 1409),\n",
       " (1, 50, 1407),\n",
       " (1, 50, 1418),\n",
       " (1, 50, 5288),\n",
       " (1, 50, 1420),\n",
       " (1, 50, 1430),\n",
       " (1, 50, 1438),\n",
       " (1, 50, 1305),\n",
       " (1, 50, 1318),\n",
       " (1, 50, 1470),\n",
       " (1, 50, 1871),\n",
       " (1, 50, 1890),\n",
       " (1, 50, 1895),\n",
       " (1, 50, 1904),\n",
       " (1, 50, 1905),\n",
       " (1, 50, 1913),\n",
       " (1, 50, 1915),\n",
       " (1, 50, 1916),\n",
       " (1, 50, 1923),\n",
       " (1, 50, 1931),\n",
       " (1, 50, 1684),\n",
       " (1, 50, 1715),\n",
       " (1, 50, 1741),\n",
       " (1, 50, 1985),\n",
       " (1, 50, 1992),\n",
       " (1, 50, 1763),\n",
       " (1, 50, 1869),\n",
       " (1, 50, 1835),\n",
       " (1, 50, 1832),\n",
       " (1, 50, 1836),\n",
       " (1, 50, 1833),\n",
       " (1, 50, 1824),\n",
       " (1, 50, 1829),\n",
       " (1, 50, 2972),\n",
       " (1, 50, 2973),\n",
       " (1, 50, 2974),\n",
       " (1, 50, 3007),\n",
       " (1, 50, 3019),\n",
       " (1, 50, 3056),\n",
       " (1, 50, 2667),\n",
       " (1, 50, 3076),\n",
       " (1, 50, 3077),\n",
       " (1, 50, 2931),\n",
       " (1, 50, 2934),\n",
       " (1, 50, 2939),\n",
       " (1, 50, 2946),\n",
       " (1, 50, 2956),\n",
       " (1, 50, 2957),\n",
       " (1, 50, 2960),\n",
       " (1, 50, 2967),\n",
       " (1, 50, 3432),\n",
       " (1, 50, 3433),\n",
       " (1, 50, 3434),\n",
       " (1, 50, 3429),\n",
       " (1, 50, 3437),\n",
       " (1, 50, 3438),\n",
       " (1, 50, 3439),\n",
       " (1, 50, 3286),\n",
       " (1, 50, 3470),\n",
       " (1, 50, 3178),\n",
       " (1, 50, 3186),\n",
       " (1, 50, 3187),\n",
       " (1, 50, 3193),\n",
       " (1, 50, 3112),\n",
       " (1, 50, 3140),\n",
       " (1, 50, 3159),\n",
       " (1, 50, 3223),\n",
       " (1, 50, 3253),\n",
       " (1, 50, 3269),\n",
       " (1, 50, 3394),\n",
       " (1, 50, 3417),\n",
       " (1, 50, 3120),\n",
       " (1, 50, 3316),\n",
       " (1, 50, 2750),\n",
       " (1, 50, 2751),\n",
       " (1, 50, 2749),\n",
       " (1, 50, 2509),\n",
       " (1, 50, 2524),\n",
       " (1, 50, 2527),\n",
       " (1, 50, 2533),\n",
       " (1, 50, 2539),\n",
       " (1, 50, 2545),\n",
       " (1, 50, 2546),\n",
       " (1, 50, 2572),\n",
       " (1, 50, 2573),\n",
       " (1, 50, 2754),\n",
       " (1, 50, 2755),\n",
       " (1, 50, 2574),\n",
       " (1, 50, 2854),\n",
       " (1, 50, 2857),\n",
       " (1, 50, 2858),\n",
       " (1, 50, 2920),\n",
       " (1, 50, 2929),\n",
       " (1, 50, 2848),\n",
       " (1, 50, 2804),\n",
       " (1, 50, 2808),\n",
       " (1, 50, 2639),\n",
       " (1, 50, 2833),\n",
       " (1, 50, 2836),\n",
       " (1, 50, 5060),\n",
       " (1, 50, 7912),\n",
       " (1, 50, 5070),\n",
       " (1, 50, 9911),\n",
       " (1, 50, 9913),\n",
       " (1, 50, 9905),\n",
       " (1, 50, 9906),\n",
       " (1, 50, 9940),\n",
       " (1, 50, 9941),\n",
       " (1, 50, 9943),\n",
       " (1, 50, 9945),\n",
       " (1, 50, 9950),\n",
       " (1, 50, 10022),\n",
       " (1, 50, 10039),\n",
       " (1, 50, 10051),\n",
       " (1, 50, 10056),\n",
       " (1, 50, 10092),\n",
       " (1, 50, 10096),\n",
       " (1, 50, 10097),\n",
       " (1, 50, 10111),\n",
       " (1, 50, 10158),\n",
       " (1, 50, 10286),\n",
       " (1, 50, 10563),\n",
       " (1, 50, 9907),\n",
       " (1, 50, 9883),\n",
       " (1, 50, 9871),\n",
       " (1, 50, 9661),\n",
       " (1, 50, 9666),\n",
       " (1, 50, 9673),\n",
       " (1, 50, 9687),\n",
       " (1, 50, 9693),\n",
       " (1, 50, 9713),\n",
       " (1, 50, 9716),\n",
       " (1, 50, 9746),\n",
       " (1, 50, 9753),\n",
       " (1, 50, 10193),\n",
       " (1, 50, 9803),\n",
       " (1, 50, 9807),\n",
       " (1, 50, 9808),\n",
       " (1, 50, 9813),\n",
       " (1, 50, 10230),\n",
       " (1, 50, 9836),\n",
       " (1, 50, 9800),\n",
       " (1, 50, 10725),\n",
       " (1, 50, 10759),\n",
       " (1, 50, 10786),\n",
       " (1, 50, 10788),\n",
       " (1, 50, 10803),\n",
       " (1, 50, 10825),\n",
       " (1, 50, 10849),\n",
       " (1, 50, 10858),\n",
       " (1, 50, 10865),\n",
       " (1, 50, 11305),\n",
       " (1, 50, 10715),\n",
       " (1, 50, 11315),\n",
       " (1, 50, 10886),\n",
       " (1, 50, 10887),\n",
       " (1, 50, 10889),\n",
       " (1, 50, 10891),\n",
       " (1, 50, 10907),\n",
       " (1, 50, 10914),\n",
       " (1, 50, 10917),\n",
       " (1, 50, 10921),\n",
       " (1, 50, 10926),\n",
       " (1, 50, 11321),\n",
       " (1, 50, 9640),\n",
       " (1, 50, 10713),\n",
       " (1, 50, 10537),\n",
       " (1, 50, 10334),\n",
       " (1, 50, 10343),\n",
       " (1, 50, 10347),\n",
       " (1, 50, 10348),\n",
       " (1, 50, 10352),\n",
       " (1, 50, 10391),\n",
       " (1, 50, 10421),\n",
       " (1, 50, 10426),\n",
       " (1, 50, 10627),\n",
       " (1, 50, 10642),\n",
       " (1, 50, 10545),\n",
       " (1, 50, 10643),\n",
       " (1, 50, 10658),\n",
       " (1, 50, 10674),\n",
       " (1, 50, 10679),\n",
       " (1, 50, 10689),\n",
       " (1, 50, 10692),\n",
       " (1, 50, 10526),\n",
       " (1, 50, 10536),\n",
       " (1, 50, 9609),\n",
       " (1, 50, 9604),\n",
       " (1, 50, 9540),\n",
       " (1, 50, 8272),\n",
       " (1, 50, 8278),\n",
       " (1, 50, 8282),\n",
       " (1, 50, 8328),\n",
       " (1, 50, 8388),\n",
       " (1, 50, 8390),\n",
       " (1, 50, 8403),\n",
       " (1, 50, 8418),\n",
       " (1, 50, 8419),\n",
       " (1, 50, 8255),\n",
       " (1, 50, 8425),\n",
       " (1, 50, 8576),\n",
       " (1, 50, 8584),\n",
       " (1, 50, 8587),\n",
       " (1, 50, 8602),\n",
       " (1, 50, 8619),\n",
       " (1, 50, 8621),\n",
       " (1, 50, 8630),\n",
       " (1, 50, 8629),\n",
       " (1, 50, 8643),\n",
       " (1, 50, 8646),\n",
       " (1, 50, 8571),\n",
       " (1, 50, 8655),\n",
       " (1, 50, 8248),\n",
       " (1, 50, 8173),\n",
       " (1, 50, 7979),\n",
       " (1, 50, 7907),\n",
       " (1, 50, 7911),\n",
       " (1, 50, 8242),\n",
       " (1, 50, 8089),\n",
       " (1, 50, 8093),\n",
       " (1, 50, 8132),\n",
       " (1, 50, 8158),\n",
       " (1, 50, 8160),\n",
       " (1, 50, 10927),\n",
       " (1, 50, 8661),\n",
       " (1, 50, 8662),\n",
       " (1, 50, 9001),\n",
       " (1, 50, 9006),\n",
       " (1, 50, 9031),\n",
       " (1, 50, 9336),\n",
       " (1, 50, 9362),\n",
       " (1, 50, 9363),\n",
       " (1, 50, 8980),\n",
       " (1, 50, 9033),\n",
       " (1, 50, 9034),\n",
       " (1, 50, 9043),\n",
       " (1, 50, 9045),\n",
       " (1, 50, 9078),\n",
       " (1, 50, 9153),\n",
       " (1, 50, 9165),\n",
       " (1, 50, 9490),\n",
       " (1, 50, 9507),\n",
       " (1, 50, 8938),\n",
       " (1, 50, 8903),\n",
       " (1, 50, 8667),\n",
       " (1, 50, 8673),\n",
       " (1, 50, 9181),\n",
       " (1, 50, 9184),\n",
       " (1, 50, 8716),\n",
       " (1, 50, 8727),\n",
       " (1, 50, 9192),\n",
       " (1, 50, 8747),\n",
       " (1, 50, 8748),\n",
       " (1, 50, 8749),\n",
       " (1, 50, 8937),\n",
       " (1, 50, 8750),\n",
       " (1, 50, 8764),\n",
       " (1, 50, 8784),\n",
       " (1, 50, 8794),\n",
       " (1, 50, 8854),\n",
       " (1, 50, 8863),\n",
       " (1, 50, 8873),\n",
       " (1, 50, 8879),\n",
       " (1, 50, 8891),\n",
       " (1, 50, 8892),\n",
       " (1, 50, 8751),\n",
       " (1, 50, 10928),\n",
       " (1, 50, 10933),\n",
       " (1, 50, 11964),\n",
       " (1, 50, 11965),\n",
       " (1, 50, 11979),\n",
       " (1, 50, 11981),\n",
       " (1, 50, 11982),\n",
       " (1, 50, 12211),\n",
       " (1, 50, 12016),\n",
       " (1, 50, 12063),\n",
       " (1, 50, 12065),\n",
       " (1, 50, 12095),\n",
       " (1, 50, 12269),\n",
       " (1, 50, 12273),\n",
       " (1, 50, 12275),\n",
       " (1, 50, 12286),\n",
       " (1, 50, 12266),\n",
       " (1, 50, 12250),\n",
       " (1, 50, 11955),\n",
       " (1, 50, 11941),\n",
       " (1, 50, 12184),\n",
       " (1, 50, 11777),\n",
       " (1, 50, 11899),\n",
       " (1, 50, 11909),\n",
       " (1, 50, 12112),\n",
       " (1, 50, 11921),\n",
       " (1, 50, 11928),\n",
       " (1, 50, 12131),\n",
       " (1, 50, 12134),\n",
       " (1, 50, 13071),\n",
       " (1, 50, 12135),\n",
       " (1, 50, 12146),\n",
       " (1, 50, 12168),\n",
       " (1, 50, 12173),\n",
       " (1, 50, 12465),\n",
       " (1, 50, 12472),\n",
       " (1, 50, 12475),\n",
       " (1, 50, 12477),\n",
       " (1, 50, 12520),\n",
       " (1, 50, 12539),\n",
       " (1, 50, 12550),\n",
       " (1, 50, 12552),\n",
       " (1, 50, 13147),\n",
       " (1, 50, 12459),\n",
       " (1, 50, 13156),\n",
       " (1, 50, 13158),\n",
       " (1, 50, 12580),\n",
       " (1, 50, 12628),\n",
       " (1, 50, 12640),\n",
       " (1, 50, 12641),\n",
       " (1, 50, 11776),\n",
       " (1, 50, 13102),\n",
       " (1, 50, 12331),\n",
       " (1, 50, 12352),\n",
       " (1, 50, 12355),\n",
       " (1, 50, 12360),\n",
       " (1, 50, 12361),\n",
       " (1, 50, 12386),\n",
       " (1, 50, 13086),\n",
       " (1, 50, 13100),\n",
       " (1, 50, 13101),\n",
       " (1, 50, 11867),\n",
       " (1, 50, 11709),\n",
       " (1, 50, 11707),\n",
       " (1, 50, 11065),\n",
       " (1, 50, 11067),\n",
       " (1, 50, 11096),\n",
       " (1, 50, 11099),\n",
       " (1, 50, 11106),\n",
       " (1, 50, 11122),\n",
       " (1, 50, 11134),\n",
       " (1, 50, 11151),\n",
       " (1, 50, 11152),\n",
       " (1, 50, 11153),\n",
       " (1, 50, 11149),\n",
       " (1, 50, 11150),\n",
       " (1, 50, 11167),\n",
       " (1, 50, 11172),\n",
       " (1, 50, 11184),\n",
       " (1, 50, 11212),\n",
       " (1, 50, 11222),\n",
       " (1, 50, 11240),\n",
       " (1, 50, 11148),\n",
       " (1, 50, 11064),\n",
       " (1, 50, 10938),\n",
       " (1, 50, 10939),\n",
       " (1, 50, 10967),\n",
       " (1, 50, 11000),\n",
       " (1, 50, 11001),\n",
       " (1, 50, 11030),\n",
       " (1, 50, 11041),\n",
       " (1, 50, 11043),\n",
       " (1, 50, 11060),\n",
       " (1, 50, 10930),\n",
       " (1, 50, 11608),\n",
       " (1, 50, 11609),\n",
       " (1, 50, 11607),\n",
       " (1, 50, 11612),\n",
       " (1, 50, 11618),\n",
       " (1, 50, 11647),\n",
       " (1, 50, 11655),\n",
       " (1, 50, 11661),\n",
       " (1, 50, 11656),\n",
       " (1, 50, 11829),\n",
       " (1, 50, 11673),\n",
       " (1, 50, 11597),\n",
       " (1, 50, 11558),\n",
       " (1, 50, 11244),\n",
       " (1, 50, 11389),\n",
       " (1, 50, 11249),\n",
       " (1, 50, 11251),\n",
       " (1, 50, 11258),\n",
       " (1, 50, 8067),\n",
       " (1, 50, 11580),\n",
       " (1, 50, 11428),\n",
       " (1, 50, 11454),\n",
       " (1, 50, 11456),\n",
       " (1, 50, 11482),\n",
       " (1, 50, 11484),\n",
       " (1, 50, 11487),\n",
       " (1, 50, 11493),\n",
       " (1, 50, 11494),\n",
       " (1, 50, 11506),\n",
       " (1, 50, 11444),\n",
       " (1, 50, 7974),\n",
       " (1, 50, 6187),\n",
       " (1, 50, 6197),\n",
       " (1, 50, 6202),\n",
       " (1, 50, 6206),\n",
       " (1, 50, 6238),\n",
       " (1, 50, 6240),\n",
       " (1, 50, 6412),\n",
       " (1, 50, 6424),\n",
       " (1, 50, 6432),\n",
       " (1, 50, 6451),\n",
       " (1, 50, 6452),\n",
       " (1, 50, 6466),\n",
       " (1, 50, 6468),\n",
       " (1, 50, 6185),\n",
       " (1, 50, 6156),\n",
       " (1, 50, 6005),\n",
       " (1, 50, 6007),\n",
       " (1, 50, 6008),\n",
       " (1, 50, 6072),\n",
       " (1, 50, 6076),\n",
       " (1, 50, 6077),\n",
       " (1, 50, 6093),\n",
       " (1, 50, 6095),\n",
       " (1, 50, 6122),\n",
       " (1, 50, 6144),\n",
       " (1, 50, 6044),\n",
       " (1, 50, 6045),\n",
       " (1, 50, 6155),\n",
       " (1, 50, 6467),\n",
       " (1, 50, 6485),\n",
       " (1, 50, 6488),\n",
       " (1, 50, 6490),\n",
       " (1, 50, 6492),\n",
       " (1, 50, 6587),\n",
       " (1, 50, 6596),\n",
       " (1, 50, 6604),\n",
       " (1, 50, 6608),\n",
       " (1, 50, 6306),\n",
       " (1, 50, 6626),\n",
       " (1, 50, 6635),\n",
       " (1, 50, 6650),\n",
       " (1, 50, 6491),\n",
       " (1, 50, 6000),\n",
       " (1, 50, 6484),\n",
       " (1, 50, 6482),\n",
       " (1, 50, 6475),\n",
       " (1, 50, 6477),\n",
       " (1, 50, 6495),\n",
       " (1, 50, 6478),\n",
       " (1, 50, 6479),\n",
       " (1, 50, 5992),\n",
       " (1, 50, 5522),\n",
       " (1, 50, 5848),\n",
       " (1, 50, 5862),\n",
       " (1, 50, 5868),\n",
       " (1, 50, 5872),\n",
       " (1, 50, 5885),\n",
       " (1, 50, 5892),\n",
       " (1, 50, 5822),\n",
       " (1, 50, 5894),\n",
       " (1, 50, 5895),\n",
       " (1, 50, 5552),\n",
       " (1, 50, 5571),\n",
       " (1, 50, 5572),\n",
       " (1, 50, 5301),\n",
       " (1, 50, 5361),\n",
       " (1, 50, 5364),\n",
       " (1, 50, 5324),\n",
       " (1, 50, 5406),\n",
       " (1, 50, 5340),\n",
       " (1, 50, 5432),\n",
       " (1, 50, 5451),\n",
       " (1, 50, 5500),\n",
       " (1, 50, 5811),\n",
       " (1, 50, 5457),\n",
       " (1, 50, 6652),\n",
       " (1, 50, 5574),\n",
       " (1, 50, 5632),\n",
       " (1, 50, 5635),\n",
       " (1, 50, 5636),\n",
       " (1, 50, 5642),\n",
       " (1, 50, 5643),\n",
       " (1, 50, 5630),\n",
       " (1, 50, 5682),\n",
       " (1, 50, 5680),\n",
       " (1, 50, 5945),\n",
       " (1, 50, 5946),\n",
       " (1, 50, 5629),\n",
       " (1, 50, 5627),\n",
       " (1, 50, 5575),\n",
       " (1, 50, 5576),\n",
       " (1, 50, 5578),\n",
       " (1, 50, 5581),\n",
       " (1, 50, 5583),\n",
       " (1, 50, 5590),\n",
       " (1, 50, 5592),\n",
       " (1, 50, 5594),\n",
       " (1, 50, 5596),\n",
       " (1, 50, 5587),\n",
       " (1, 50, 5612),\n",
       " (1, 50, 6659),\n",
       " (1, 50, 7738),\n",
       " (1, 50, 7737),\n",
       " (1, 50, 7770),\n",
       " (1, 50, 7660),\n",
       " (1, 50, 7814),\n",
       " (1, 50, 7815),\n",
       " (1, 50, 7538),\n",
       " (1, 50, 7820),\n",
       " (1, 50, 7687),\n",
       " (1, 50, 7693),\n",
       " (1, 50, 7695),\n",
       " (1, 50, 7711),\n",
       " (1, 50, 7700),\n",
       " (1, 50, 7707),\n",
       " (1, 50, 7710),\n",
       " (1, 50, 7849),\n",
       " (1, 50, 7678),\n",
       " (1, 50, 7850),\n",
       " (1, 50, 7536),\n",
       " (1, 50, 7533),\n",
       " (1, 50, 7198),\n",
       " (1, 50, 7199),\n",
       " (1, 50, 7245),\n",
       " (1, 50, 7248),\n",
       " (1, 50, 7251),\n",
       " (1, 50, 7276),\n",
       " (1, 50, 7299),\n",
       " (1, 50, 7391),\n",
       " (1, 50, 7396),\n",
       " (1, 50, 7404),\n",
       " (1, 50, 7416),\n",
       " (1, 50, 7419),\n",
       " (1, 50, 7448),\n",
       " (1, 50, 7470),\n",
       " (1, 50, 7500),\n",
       " (1, 50, 7513),\n",
       " (1, 50, 7520),\n",
       " (1, 50, 7527),\n",
       " (1, 50, 7226),\n",
       " (1, 50, 7857),\n",
       " (1, 50, 7860),\n",
       " (1, 50, 7895),\n",
       " (1, 50, 7938),\n",
       " (1, 50, 7945),\n",
       " (1, 50, 7954),\n",
       " (1, 50, 7956),\n",
       " (1, 50, 7905),\n",
       " (1, 50, 7977),\n",
       " (1, 50, 7978),\n",
       " (1, 50, 7894),\n",
       " (1, 50, 7856),\n",
       " (1, 50, 7869),\n",
       " (1, 50, 7734),\n",
       " (1, 50, 7735),\n",
       " (1, 50, 7882),\n",
       " (1, 50, 7893),\n",
       " (1, 50, 7221),\n",
       " (1, 50, 7220),\n",
       " (1, 50, 6721),\n",
       " (1, 50, 6722),\n",
       " (1, 50, 6724),\n",
       " (1, 50, 6727),\n",
       " (1, 50, 6740),\n",
       " (1, 50, 6717),\n",
       " (1, 50, 6755),\n",
       " (1, 50, 6361),\n",
       " (1, 50, 6366),\n",
       " (1, 50, 6777),\n",
       " (1, 50, 6778),\n",
       " (1, 50, 6779),\n",
       " (1, 50, 6904),\n",
       " (1, 50, 6909),\n",
       " (1, 50, 6351),\n",
       " (1, 50, 6660),\n",
       " (1, 50, 6661),\n",
       " (1, 50, 6666),\n",
       " (1, 50, 6668),\n",
       " (1, 50, 6681),\n",
       " (1, 50, 6317),\n",
       " (1, 50, 6699),\n",
       " (1, 50, 6700),\n",
       " (1, 50, 6324),\n",
       " (1, 50, 6708),\n",
       " (1, 50, 6683),\n",
       " (1, 50, 6911),\n",
       " (1, 50, 7082),\n",
       " (1, 50, 7118),\n",
       " (1, 50, 7157),\n",
       " (1, 50, 7169),\n",
       " (1, 50, 7081),\n",
       " (1, 50, 7171),\n",
       " (1, 50, 7218),\n",
       " (1, 50, 6910),\n",
       " (1, 50, 6877),\n",
       " (1, 50, 6916),\n",
       " (1, 50, 6917),\n",
       " (1, 50, 6919),\n",
       " (1, 50, 6820),\n",
       " (1, 50, 6835),\n",
       " (1, 50, 6953),\n",
       " (1, 50, 6857),\n",
       " (1, 50, 1406),\n",
       " (1, 50, 5542),\n",
       " (1, 50, 5922),\n",
       " (1, 50, 5573),\n",
       " (1, 50, 5875),\n",
       " (1, 50, 5871),\n",
       " (1, 50, 5048),\n",
       " (1, 50, 5051),\n",
       " (1, 50, 5052),\n",
       " (1, 50, 5065),\n",
       " (1, 50, 5362),\n",
       " (1, 50, 5306),\n",
       " (1, 50, 5580),\n",
       " (1, 50, 5353),\n",
       " (1, 50, 5357),\n",
       " (1, 50, 5686),\n",
       " (1, 50, 5735),\n",
       " (1, 50, 5750),\n",
       " (1, 50, 5865),\n",
       " (1, 50, 5994),\n",
       " (1, 50, 5998),\n",
       " (1, 50, 6004),\n",
       " (1, 50, 6011),\n",
       " (1, 50, 6019),\n",
       " (1, 50, 6023),\n",
       " (1, 50, 6105),\n",
       " (1, 50, 6123),\n",
       " (1, 50, 6143),\n",
       " (1, 50, 6154),\n",
       " (1, 50, 6373),\n",
       " (1, 50, 5045),\n",
       " (1, 50, 5976),\n",
       " (1, 50, 5591),\n",
       " (1, 50, 5588),\n",
       " (1, 50, 5613),\n",
       " (1, 50, 5641),\n",
       " (1, 50, 5645),\n",
       " (1, 50, 4826),\n",
       " (1, 50, 4828),\n",
       " (1, 50, 4831),\n",
       " (1, 50, 4901),\n",
       " (1, 50, 4532),\n",
       " (1, 50, 4547),\n",
       " (1, 50, 4559),\n",
       " (1, 50, 4564),\n",
       " (1, 50, 4793),\n",
       " (1, 50, 4691),\n",
       " (1, 50, 4960),\n",
       " (1, 50, 5095),\n",
       " (1, 50, 5097),\n",
       " (1, 50, 5110),\n",
       " (1, 50, 5128),\n",
       " (1, 50, 5129),\n",
       " (1, 50, 5132),\n",
       " (1, 50, 5145),\n",
       " (1, 50, 5195),\n",
       " (1, 50, 4989),\n",
       " (1, 50, 4990),\n",
       " (1, 50, 5254),\n",
       " (1, 50, 5178),\n",
       " (1, 50, 6272),\n",
       " (1, 50, 7175),\n",
       " (1, 50, 7196),\n",
       " (1, 50, 7197),\n",
       " (1, 50, 7289),\n",
       " (1, 50, 7290),\n",
       " (1, 50, 7304),\n",
       " (1, 50, 7401),\n",
       " (1, 50, 7418),\n",
       " (1, 50, 7423),\n",
       " (1, 50, 7431),\n",
       " (1, 50, 7489),\n",
       " (1, 50, 7510),\n",
       " (1, 50, 7512),\n",
       " (1, 50, 7519),\n",
       " (1, 50, 7524),\n",
       " (1, 50, 6816),\n",
       " (1, 50, 7064),\n",
       " (1, 50, 7066),\n",
       " (1, 50, 7525),\n",
       " (1, 50, 7946),\n",
       " (1, 50, 8041),\n",
       " (1, 50, 8031),\n",
       " (1, 50, 8032),\n",
       " (1, 50, 8094),\n",
       " (1, 50, 8144),\n",
       " (1, 50, 8195),\n",
       " (1, 50, 8202),\n",
       " (1, 50, 8307),\n",
       " (1, 50, 8324),\n",
       " (1, 50, 7744),\n",
       " (1, 50, 7653),\n",
       " (1, 50, 7654),\n",
       " (1, 50, 7683),\n",
       " (1, 50, 7685),\n",
       " (1, 50, 7696),\n",
       " (1, 50, 7698),\n",
       " (1, 50, 7867),\n",
       " (1, 50, 7875),\n",
       " (1, 50, 6342),\n",
       " (1, 50, 6480),\n",
       " (1, 50, 6483),\n",
       " (1, 50, 6572),\n",
       " (1, 50, 6575),\n",
       " (1, 50, 6576),\n",
       " (1, 50, 6578),\n",
       " (1, 50, 6582),\n",
       " (1, 50, 6584),\n",
       " (1, 50, 6586),\n",
       " (1, 50, 6592),\n",
       " (1, 50, 6593),\n",
       " (1, 50, 6599),\n",
       " (1, 50, 6702),\n",
       " (1, 50, 6594),\n",
       " (1, 50, 6601),\n",
       " (1, 50, 6605),\n",
       " (1, 50, 6606),\n",
       " (1, 50, 6607),\n",
       " (1, 50, 6611),\n",
       " (1, 50, 6612),\n",
       " (1, 50, 6651),\n",
       " (1, 50, 2703),\n",
       " (1, 50, 2718),\n",
       " (1, 50, 2475),\n",
       " (1, 50, 2761),\n",
       " (1, 50, 2416),\n",
       " (1, 50, 2844),\n",
       " (1, 50, 2846),\n",
       " (1, 50, 2853),\n",
       " (1, 50, 2772),\n",
       " (1, 50, 2604),\n",
       " (1, 50, 2607),\n",
       " (1, 50, 1524),\n",
       " (1, 50, 1528),\n",
       " (1, 50, 1782),\n",
       " (1, 50, 1874),\n",
       " (1, 50, 13186),\n",
       " (1, 50, 1889),\n",
       " (1, 50, 1894),\n",
       " (1, 50, 2333),\n",
       " (1, 50, 2252),\n",
       " (1, 50, 2258),\n",
       " (1, 50, 2123),\n",
       " (1, 50, 2195),\n",
       " (1, 50, 1901),\n",
       " (1, 50, 1920),\n",
       " (1, 50, 1921),\n",
       " (1, 50, 1953),\n",
       " (1, 50, 1956),\n",
       " (1, 50, 2068),\n",
       " (1, 50, 1781),\n",
       " (1, 50, 2302),\n",
       " (1, 50, 2330),\n",
       " (1, 50, 3771),\n",
       " (1, 50, 3617),\n",
       " (1, 50, 3505),\n",
       " (1, 50, 3515),\n",
       " (1, 50, 3528),\n",
       " (1, 50, 3561),\n",
       " (1, 50, 3582),\n",
       " (1, 50, 4291),\n",
       " (1, 50, 4420),\n",
       " (1, 50, 4430),\n",
       " (1, 50, 3942),\n",
       " (1, 50, 4229),\n",
       " (1, 50, 3095),\n",
       " (1, 50, 3107),\n",
       " (1, 50, 3209),\n",
       " (1, 50, 3210),\n",
       " (1, 50, 3141),\n",
       " (1, 50, 3158),\n",
       " (1, 50, 2674),\n",
       " (1, 50, 2948),\n",
       " (1, 50, 3046),\n",
       " (1, 50, 3164),\n",
       " (1, 50, 3254),\n",
       " (1, 50, 3317),\n",
       " (1, 50, 3468),\n",
       " (1, 50, 3260),\n",
       " (1, 50, 3427),\n",
       " (1, 50, 3428),\n",
       " (1, 50, 8379),\n",
       " (1, 50, 18633),\n",
       " (1, 50, 18634),\n",
       " (1, 50, 18672),\n",
       " (1, 50, 18690),\n",
       " (1, 50, 18704),\n",
       " (1, 50, 19362),\n",
       " (1, 50, 18748),\n",
       " (1, 50, 19366),\n",
       " (1, 50, 19367),\n",
       " (1, 50, 19369),\n",
       " (1, 50, 18753),\n",
       " (1, 50, 18771),\n",
       " (1, 50, 18825),\n",
       " (1, 50, 18846),\n",
       " (1, 50, 18619),\n",
       " (1, 50, 18617),\n",
       " (1, 50, 18605),\n",
       " ...]"
      ]
     },
<<<<<<< HEAD
     "execution_count": 49,
=======
     "execution_count": 143,
>>>>>>> 968a5130d0bc3e366a0160ca2555280b9ef6af04
     "metadata": {},
     "output_type": "execute_result"
    }
   ],
   "source": [
    "list(itertools.product([1], sales.shop_id.unique(), sales.item_id.unique()))"
   ]
  },
  {
   "cell_type": "markdown",
   "metadata": {},
   "source": [
    "### df_train의 Groupby를 통한 Monthly Sales 구하기\n",
    "df_train에 revenue를 추가한다"
   ]
  },
  {
   "cell_type": "code",
<<<<<<< HEAD
   "execution_count": 50,
=======
   "execution_count": 144,
>>>>>>> 968a5130d0bc3e366a0160ca2555280b9ef6af04
   "metadata": {},
   "outputs": [
    {
     "data": {
      "text/html": [
       "<div>\n",
       "<style scoped>\n",
       "    .dataframe tbody tr th:only-of-type {\n",
       "        vertical-align: middle;\n",
       "    }\n",
       "\n",
       "    .dataframe tbody tr th {\n",
       "        vertical-align: top;\n",
       "    }\n",
       "\n",
       "    .dataframe thead th {\n",
       "        text-align: right;\n",
       "    }\n",
       "</style>\n",
       "<table border=\"1\" class=\"dataframe\">\n",
       "  <thead>\n",
       "    <tr style=\"text-align: right;\">\n",
       "      <th></th>\n",
       "      <th>date</th>\n",
       "      <th>date_block_num</th>\n",
       "      <th>shop_id</th>\n",
       "      <th>item_id</th>\n",
       "      <th>item_price</th>\n",
       "      <th>item_cnt_day</th>\n",
       "    </tr>\n",
       "  </thead>\n",
       "  <tbody>\n",
       "    <tr>\n",
       "      <th>0</th>\n",
       "      <td>02.01.2013</td>\n",
       "      <td>0</td>\n",
       "      <td>59</td>\n",
       "      <td>22154</td>\n",
       "      <td>999.00</td>\n",
       "      <td>1.0</td>\n",
       "    </tr>\n",
       "    <tr>\n",
       "      <th>1</th>\n",
       "      <td>03.01.2013</td>\n",
       "      <td>0</td>\n",
       "      <td>25</td>\n",
       "      <td>2552</td>\n",
       "      <td>899.00</td>\n",
       "      <td>1.0</td>\n",
       "    </tr>\n",
       "    <tr>\n",
       "      <th>3</th>\n",
       "      <td>06.01.2013</td>\n",
       "      <td>0</td>\n",
       "      <td>25</td>\n",
       "      <td>2554</td>\n",
       "      <td>1709.05</td>\n",
       "      <td>1.0</td>\n",
       "    </tr>\n",
       "    <tr>\n",
       "      <th>4</th>\n",
       "      <td>15.01.2013</td>\n",
       "      <td>0</td>\n",
       "      <td>25</td>\n",
       "      <td>2555</td>\n",
       "      <td>1099.00</td>\n",
       "      <td>1.0</td>\n",
       "    </tr>\n",
       "    <tr>\n",
       "      <th>5</th>\n",
       "      <td>10.01.2013</td>\n",
       "      <td>0</td>\n",
       "      <td>25</td>\n",
       "      <td>2564</td>\n",
       "      <td>349.00</td>\n",
       "      <td>1.0</td>\n",
       "    </tr>\n",
       "  </tbody>\n",
       "</table>\n",
       "</div>"
      ],
      "text/plain": [
       "         date  date_block_num  shop_id  item_id  item_price  item_cnt_day\n",
       "0  02.01.2013               0       59    22154      999.00           1.0\n",
       "1  03.01.2013               0       25     2552      899.00           1.0\n",
       "3  06.01.2013               0       25     2554     1709.05           1.0\n",
       "4  15.01.2013               0       25     2555     1099.00           1.0\n",
       "5  10.01.2013               0       25     2564      349.00           1.0"
      ]
     },
<<<<<<< HEAD
     "execution_count": 50,
=======
     "execution_count": 144,
>>>>>>> 968a5130d0bc3e366a0160ca2555280b9ef6af04
     "metadata": {},
     "output_type": "execute_result"
    }
   ],
   "source": [
    "df_train.head()"
   ]
  },
  {
   "cell_type": "code",
<<<<<<< HEAD
   "execution_count": 51,
=======
   "execution_count": 145,
>>>>>>> 968a5130d0bc3e366a0160ca2555280b9ef6af04
   "metadata": {},
   "outputs": [],
   "source": [
    "df_train['revenue'] = df_train['item_price'] * df_train['item_cnt_day']"
   ]
  },
  {
   "cell_type": "code",
<<<<<<< HEAD
   "execution_count": 52,
=======
   "execution_count": 146,
>>>>>>> 968a5130d0bc3e366a0160ca2555280b9ef6af04
   "metadata": {
    "scrolled": true
   },
   "outputs": [
    {
     "data": {
      "text/html": [
       "<div>\n",
       "<style scoped>\n",
       "    .dataframe tbody tr th:only-of-type {\n",
       "        vertical-align: middle;\n",
       "    }\n",
       "\n",
       "    .dataframe tbody tr th {\n",
       "        vertical-align: top;\n",
       "    }\n",
       "\n",
       "    .dataframe thead th {\n",
       "        text-align: right;\n",
       "    }\n",
       "</style>\n",
       "<table border=\"1\" class=\"dataframe\">\n",
       "  <thead>\n",
       "    <tr style=\"text-align: right;\">\n",
       "      <th></th>\n",
       "      <th>date</th>\n",
       "      <th>date_block_num</th>\n",
       "      <th>shop_id</th>\n",
       "      <th>item_id</th>\n",
       "      <th>item_price</th>\n",
       "      <th>item_cnt_day</th>\n",
       "      <th>revenue</th>\n",
       "    </tr>\n",
       "  </thead>\n",
       "  <tbody>\n",
       "    <tr>\n",
       "      <th>0</th>\n",
       "      <td>02.01.2013</td>\n",
       "      <td>0</td>\n",
       "      <td>59</td>\n",
       "      <td>22154</td>\n",
       "      <td>999.00</td>\n",
       "      <td>1.0</td>\n",
       "      <td>999.00</td>\n",
       "    </tr>\n",
       "    <tr>\n",
       "      <th>1</th>\n",
       "      <td>03.01.2013</td>\n",
       "      <td>0</td>\n",
       "      <td>25</td>\n",
       "      <td>2552</td>\n",
       "      <td>899.00</td>\n",
       "      <td>1.0</td>\n",
       "      <td>899.00</td>\n",
       "    </tr>\n",
       "    <tr>\n",
       "      <th>3</th>\n",
       "      <td>06.01.2013</td>\n",
       "      <td>0</td>\n",
       "      <td>25</td>\n",
       "      <td>2554</td>\n",
       "      <td>1709.05</td>\n",
       "      <td>1.0</td>\n",
       "      <td>1709.05</td>\n",
       "    </tr>\n",
       "    <tr>\n",
       "      <th>4</th>\n",
       "      <td>15.01.2013</td>\n",
       "      <td>0</td>\n",
       "      <td>25</td>\n",
       "      <td>2555</td>\n",
       "      <td>1099.00</td>\n",
       "      <td>1.0</td>\n",
       "      <td>1099.00</td>\n",
       "    </tr>\n",
       "    <tr>\n",
       "      <th>5</th>\n",
       "      <td>10.01.2013</td>\n",
       "      <td>0</td>\n",
       "      <td>25</td>\n",
       "      <td>2564</td>\n",
       "      <td>349.00</td>\n",
       "      <td>1.0</td>\n",
       "      <td>349.00</td>\n",
       "    </tr>\n",
       "  </tbody>\n",
       "</table>\n",
       "</div>"
      ],
      "text/plain": [
       "         date  date_block_num  shop_id  item_id  item_price  item_cnt_day  \\\n",
       "0  02.01.2013               0       59    22154      999.00           1.0   \n",
       "1  03.01.2013               0       25     2552      899.00           1.0   \n",
       "3  06.01.2013               0       25     2554     1709.05           1.0   \n",
       "4  15.01.2013               0       25     2555     1099.00           1.0   \n",
       "5  10.01.2013               0       25     2564      349.00           1.0   \n",
       "\n",
       "   revenue  \n",
       "0   999.00  \n",
       "1   899.00  \n",
       "3  1709.05  \n",
       "4  1099.00  \n",
       "5   349.00  "
      ]
     },
<<<<<<< HEAD
     "execution_count": 52,
=======
     "execution_count": 146,
>>>>>>> 968a5130d0bc3e366a0160ca2555280b9ef6af04
     "metadata": {},
     "output_type": "execute_result"
    }
   ],
   "source": [
    "df_train.head()"
   ]
  },
  {
   "cell_type": "markdown",
   "metadata": {},
   "source": [
    "df_train의 Groupby"
   ]
  },
  {
   "cell_type": "code",
<<<<<<< HEAD
   "execution_count": 53,
=======
   "execution_count": 147,
>>>>>>> 968a5130d0bc3e366a0160ca2555280b9ef6af04
   "metadata": {},
   "outputs": [],
   "source": [
    "group = df_train.groupby(['date_block_num', 'shop_id', 'item_id']).agg({'item_cnt_day': ['sum']})"
   ]
  },
  {
   "cell_type": "markdown",
   "metadata": {},
   "source": [
    "Groupby.agg Reference: https://pandas.pydata.org/pandas-docs/version/0.22/generated/pandas.core.groupby.DataFrameGroupBy.agg.html"
   ]
  },
  {
   "cell_type": "code",
<<<<<<< HEAD
   "execution_count": 54,
=======
   "execution_count": 148,
>>>>>>> 968a5130d0bc3e366a0160ca2555280b9ef6af04
   "metadata": {},
   "outputs": [
    {
     "data": {
      "text/html": [
       "<div>\n",
       "<style scoped>\n",
       "    .dataframe tbody tr th:only-of-type {\n",
       "        vertical-align: middle;\n",
       "    }\n",
       "\n",
       "    .dataframe tbody tr th {\n",
       "        vertical-align: top;\n",
       "    }\n",
       "\n",
       "    .dataframe thead tr th {\n",
       "        text-align: left;\n",
       "    }\n",
       "\n",
       "    .dataframe thead tr:last-of-type th {\n",
       "        text-align: right;\n",
       "    }\n",
       "</style>\n",
       "<table border=\"1\" class=\"dataframe\">\n",
       "  <thead>\n",
       "    <tr>\n",
       "      <th></th>\n",
       "      <th></th>\n",
       "      <th></th>\n",
       "      <th>item_cnt_day</th>\n",
       "    </tr>\n",
       "    <tr>\n",
       "      <th></th>\n",
       "      <th></th>\n",
       "      <th></th>\n",
       "      <th>sum</th>\n",
       "    </tr>\n",
       "    <tr>\n",
       "      <th>date_block_num</th>\n",
       "      <th>shop_id</th>\n",
       "      <th>item_id</th>\n",
       "      <th></th>\n",
       "    </tr>\n",
       "  </thead>\n",
       "  <tbody>\n",
       "    <tr>\n",
       "      <th rowspan=\"5\" valign=\"top\">0</th>\n",
       "      <th rowspan=\"5\" valign=\"top\">0</th>\n",
       "      <th>32</th>\n",
       "      <td>6.0</td>\n",
       "    </tr>\n",
       "    <tr>\n",
       "      <th>33</th>\n",
       "      <td>3.0</td>\n",
       "    </tr>\n",
       "    <tr>\n",
       "      <th>35</th>\n",
       "      <td>1.0</td>\n",
       "    </tr>\n",
       "    <tr>\n",
       "      <th>43</th>\n",
       "      <td>1.0</td>\n",
       "    </tr>\n",
       "    <tr>\n",
       "      <th>51</th>\n",
       "      <td>2.0</td>\n",
       "    </tr>\n",
       "  </tbody>\n",
       "</table>\n",
       "</div>"
      ],
      "text/plain": [
       "                               item_cnt_day\n",
       "                                        sum\n",
       "date_block_num shop_id item_id             \n",
       "0              0       32               6.0\n",
       "                       33               3.0\n",
       "                       35               1.0\n",
       "                       43               1.0\n",
       "                       51               2.0"
      ]
     },
<<<<<<< HEAD
     "execution_count": 54,
=======
     "execution_count": 148,
>>>>>>> 968a5130d0bc3e366a0160ca2555280b9ef6af04
     "metadata": {},
     "output_type": "execute_result"
    }
   ],
   "source": [
    "group.head()"
   ]
  },
  {
   "cell_type": "code",
<<<<<<< HEAD
   "execution_count": 55,
=======
   "execution_count": 149,
>>>>>>> 968a5130d0bc3e366a0160ca2555280b9ef6af04
   "metadata": {},
   "outputs": [],
   "source": [
    "group.columns = ['item_cnt_month']"
   ]
  },
  {
   "cell_type": "code",
<<<<<<< HEAD
   "execution_count": 56,
=======
   "execution_count": 150,
>>>>>>> 968a5130d0bc3e366a0160ca2555280b9ef6af04
   "metadata": {},
   "outputs": [
    {
     "data": {
      "text/html": [
       "<div>\n",
       "<style scoped>\n",
       "    .dataframe tbody tr th:only-of-type {\n",
       "        vertical-align: middle;\n",
       "    }\n",
       "\n",
       "    .dataframe tbody tr th {\n",
       "        vertical-align: top;\n",
       "    }\n",
       "\n",
       "    .dataframe thead th {\n",
       "        text-align: right;\n",
       "    }\n",
       "</style>\n",
       "<table border=\"1\" class=\"dataframe\">\n",
       "  <thead>\n",
       "    <tr style=\"text-align: right;\">\n",
       "      <th></th>\n",
       "      <th></th>\n",
       "      <th></th>\n",
       "      <th>item_cnt_month</th>\n",
       "    </tr>\n",
       "    <tr>\n",
       "      <th>date_block_num</th>\n",
       "      <th>shop_id</th>\n",
       "      <th>item_id</th>\n",
       "      <th></th>\n",
       "    </tr>\n",
       "  </thead>\n",
       "  <tbody>\n",
       "    <tr>\n",
       "      <th rowspan=\"5\" valign=\"top\">0</th>\n",
       "      <th rowspan=\"5\" valign=\"top\">0</th>\n",
       "      <th>32</th>\n",
       "      <td>6.0</td>\n",
       "    </tr>\n",
       "    <tr>\n",
       "      <th>33</th>\n",
       "      <td>3.0</td>\n",
       "    </tr>\n",
       "    <tr>\n",
       "      <th>35</th>\n",
       "      <td>1.0</td>\n",
       "    </tr>\n",
       "    <tr>\n",
       "      <th>43</th>\n",
       "      <td>1.0</td>\n",
       "    </tr>\n",
       "    <tr>\n",
       "      <th>51</th>\n",
       "      <td>2.0</td>\n",
       "    </tr>\n",
       "  </tbody>\n",
       "</table>\n",
       "</div>"
      ],
      "text/plain": [
       "                                item_cnt_month\n",
       "date_block_num shop_id item_id                \n",
       "0              0       32                  6.0\n",
       "                       33                  3.0\n",
       "                       35                  1.0\n",
       "                       43                  1.0\n",
       "                       51                  2.0"
      ]
     },
<<<<<<< HEAD
     "execution_count": 56,
=======
     "execution_count": 150,
>>>>>>> 968a5130d0bc3e366a0160ca2555280b9ef6af04
     "metadata": {},
     "output_type": "execute_result"
    }
   ],
   "source": [
    "group.head()"
   ]
  },
  {
   "cell_type": "code",
<<<<<<< HEAD
   "execution_count": 57,
=======
   "execution_count": 151,
>>>>>>> 968a5130d0bc3e366a0160ca2555280b9ef6af04
   "metadata": {},
   "outputs": [],
   "source": [
    "group.reset_index(inplace=True)"
   ]
  },
  {
   "cell_type": "markdown",
   "metadata": {},
   "source": [
    "reset_index reference: https://pandas.pydata.org/pandas-docs/stable/reference/api/pandas.DataFrame.reset_index.html"
   ]
  },
  {
   "cell_type": "code",
<<<<<<< HEAD
   "execution_count": 58,
=======
   "execution_count": 152,
>>>>>>> 968a5130d0bc3e366a0160ca2555280b9ef6af04
   "metadata": {
    "scrolled": true
   },
   "outputs": [
    {
     "data": {
      "text/html": [
       "<div>\n",
       "<style scoped>\n",
       "    .dataframe tbody tr th:only-of-type {\n",
       "        vertical-align: middle;\n",
       "    }\n",
       "\n",
       "    .dataframe tbody tr th {\n",
       "        vertical-align: top;\n",
       "    }\n",
       "\n",
       "    .dataframe thead th {\n",
       "        text-align: right;\n",
       "    }\n",
       "</style>\n",
       "<table border=\"1\" class=\"dataframe\">\n",
       "  <thead>\n",
       "    <tr style=\"text-align: right;\">\n",
       "      <th></th>\n",
       "      <th>date_block_num</th>\n",
       "      <th>shop_id</th>\n",
       "      <th>item_id</th>\n",
       "      <th>item_cnt_month</th>\n",
       "    </tr>\n",
       "  </thead>\n",
       "  <tbody>\n",
       "    <tr>\n",
       "      <th>0</th>\n",
       "      <td>0</td>\n",
       "      <td>0</td>\n",
       "      <td>32</td>\n",
       "      <td>6.0</td>\n",
       "    </tr>\n",
       "    <tr>\n",
       "      <th>1</th>\n",
       "      <td>0</td>\n",
       "      <td>0</td>\n",
       "      <td>33</td>\n",
       "      <td>3.0</td>\n",
       "    </tr>\n",
       "    <tr>\n",
       "      <th>2</th>\n",
       "      <td>0</td>\n",
       "      <td>0</td>\n",
       "      <td>35</td>\n",
       "      <td>1.0</td>\n",
       "    </tr>\n",
       "    <tr>\n",
       "      <th>3</th>\n",
       "      <td>0</td>\n",
       "      <td>0</td>\n",
       "      <td>43</td>\n",
       "      <td>1.0</td>\n",
       "    </tr>\n",
       "    <tr>\n",
       "      <th>4</th>\n",
       "      <td>0</td>\n",
       "      <td>0</td>\n",
       "      <td>51</td>\n",
       "      <td>2.0</td>\n",
       "    </tr>\n",
       "  </tbody>\n",
       "</table>\n",
       "</div>"
      ],
      "text/plain": [
       "   date_block_num  shop_id  item_id  item_cnt_month\n",
       "0               0        0       32             6.0\n",
       "1               0        0       33             3.0\n",
       "2               0        0       35             1.0\n",
       "3               0        0       43             1.0\n",
       "4               0        0       51             2.0"
      ]
     },
<<<<<<< HEAD
     "execution_count": 58,
=======
     "execution_count": 152,
>>>>>>> 968a5130d0bc3e366a0160ca2555280b9ef6af04
     "metadata": {},
     "output_type": "execute_result"
    }
   ],
   "source": [
    "group.head()"
   ]
  },
  {
   "cell_type": "markdown",
   "metadata": {},
   "source": [
    "marix와 group을 merge한다"
   ]
  },
  {
   "cell_type": "code",
<<<<<<< HEAD
   "execution_count": 59,
=======
   "execution_count": 153,
>>>>>>> 968a5130d0bc3e366a0160ca2555280b9ef6af04
   "metadata": {},
   "outputs": [
    {
     "data": {
      "text/html": [
       "<div>\n",
       "<style scoped>\n",
       "    .dataframe tbody tr th:only-of-type {\n",
       "        vertical-align: middle;\n",
       "    }\n",
       "\n",
       "    .dataframe tbody tr th {\n",
       "        vertical-align: top;\n",
       "    }\n",
       "\n",
       "    .dataframe thead th {\n",
       "        text-align: right;\n",
       "    }\n",
       "</style>\n",
       "<table border=\"1\" class=\"dataframe\">\n",
       "  <thead>\n",
       "    <tr style=\"text-align: right;\">\n",
       "      <th></th>\n",
       "      <th>date_block_num</th>\n",
       "      <th>shop_id</th>\n",
       "      <th>item_id</th>\n",
       "    </tr>\n",
       "  </thead>\n",
       "  <tbody>\n",
       "    <tr>\n",
       "      <th>139168</th>\n",
       "      <td>0</td>\n",
       "      <td>0</td>\n",
       "      <td>19</td>\n",
       "    </tr>\n",
       "    <tr>\n",
       "      <th>141406</th>\n",
       "      <td>0</td>\n",
       "      <td>0</td>\n",
       "      <td>27</td>\n",
       "    </tr>\n",
       "    <tr>\n",
       "      <th>144881</th>\n",
       "      <td>0</td>\n",
       "      <td>0</td>\n",
       "      <td>28</td>\n",
       "    </tr>\n",
       "    <tr>\n",
       "      <th>142572</th>\n",
       "      <td>0</td>\n",
       "      <td>0</td>\n",
       "      <td>29</td>\n",
       "    </tr>\n",
       "    <tr>\n",
       "      <th>138861</th>\n",
       "      <td>0</td>\n",
       "      <td>0</td>\n",
       "      <td>32</td>\n",
       "    </tr>\n",
       "  </tbody>\n",
       "</table>\n",
       "</div>"
      ],
      "text/plain": [
       "        date_block_num  shop_id  item_id\n",
       "139168               0        0       19\n",
       "141406               0        0       27\n",
       "144881               0        0       28\n",
       "142572               0        0       29\n",
       "138861               0        0       32"
      ]
     },
<<<<<<< HEAD
     "execution_count": 59,
=======
     "execution_count": 153,
>>>>>>> 968a5130d0bc3e366a0160ca2555280b9ef6af04
     "metadata": {},
     "output_type": "execute_result"
    }
   ],
   "source": [
    "matrix.head()"
   ]
  },
  {
   "cell_type": "code",
<<<<<<< HEAD
   "execution_count": 60,
=======
   "execution_count": 154,
>>>>>>> 968a5130d0bc3e366a0160ca2555280b9ef6af04
   "metadata": {},
   "outputs": [],
   "source": [
    "matrix = pd.merge(matrix, group, how='left')"
   ]
  },
  {
   "cell_type": "code",
<<<<<<< HEAD
   "execution_count": 61,
=======
   "execution_count": 155,
>>>>>>> 968a5130d0bc3e366a0160ca2555280b9ef6af04
   "metadata": {},
   "outputs": [
    {
     "data": {
      "text/html": [
       "<div>\n",
       "<style scoped>\n",
       "    .dataframe tbody tr th:only-of-type {\n",
       "        vertical-align: middle;\n",
       "    }\n",
       "\n",
       "    .dataframe tbody tr th {\n",
       "        vertical-align: top;\n",
       "    }\n",
       "\n",
       "    .dataframe thead th {\n",
       "        text-align: right;\n",
       "    }\n",
       "</style>\n",
       "<table border=\"1\" class=\"dataframe\">\n",
       "  <thead>\n",
       "    <tr style=\"text-align: right;\">\n",
       "      <th></th>\n",
       "      <th>date_block_num</th>\n",
       "      <th>shop_id</th>\n",
       "      <th>item_id</th>\n",
       "      <th>item_cnt_month</th>\n",
       "    </tr>\n",
       "  </thead>\n",
       "  <tbody>\n",
       "    <tr>\n",
       "      <th>0</th>\n",
       "      <td>0</td>\n",
       "      <td>0</td>\n",
       "      <td>19</td>\n",
       "      <td>NaN</td>\n",
       "    </tr>\n",
       "    <tr>\n",
       "      <th>1</th>\n",
       "      <td>0</td>\n",
       "      <td>0</td>\n",
       "      <td>27</td>\n",
       "      <td>NaN</td>\n",
       "    </tr>\n",
       "    <tr>\n",
       "      <th>2</th>\n",
       "      <td>0</td>\n",
       "      <td>0</td>\n",
       "      <td>28</td>\n",
       "      <td>NaN</td>\n",
       "    </tr>\n",
       "    <tr>\n",
       "      <th>3</th>\n",
       "      <td>0</td>\n",
       "      <td>0</td>\n",
       "      <td>29</td>\n",
       "      <td>NaN</td>\n",
       "    </tr>\n",
       "    <tr>\n",
       "      <th>4</th>\n",
       "      <td>0</td>\n",
       "      <td>0</td>\n",
       "      <td>32</td>\n",
       "      <td>6.0</td>\n",
       "    </tr>\n",
       "  </tbody>\n",
       "</table>\n",
       "</div>"
      ],
      "text/plain": [
       "   date_block_num  shop_id  item_id  item_cnt_month\n",
       "0               0        0       19             NaN\n",
       "1               0        0       27             NaN\n",
       "2               0        0       28             NaN\n",
       "3               0        0       29             NaN\n",
       "4               0        0       32             6.0"
      ]
     },
<<<<<<< HEAD
     "execution_count": 61,
=======
     "execution_count": 155,
>>>>>>> 968a5130d0bc3e366a0160ca2555280b9ef6af04
     "metadata": {},
     "output_type": "execute_result"
    }
   ],
   "source": [
    "matrix.head()"
   ]
  },
  {
   "cell_type": "code",
<<<<<<< HEAD
   "execution_count": 62,
=======
   "execution_count": 156,
>>>>>>> 968a5130d0bc3e366a0160ca2555280b9ef6af04
   "metadata": {},
   "outputs": [],
   "source": [
    "matrix['item_cnt_month'] = (matrix['item_cnt_month'].fillna(0).clip(0, 30).astype(np.float16))"
   ]
  },
  {
   "cell_type": "markdown",
   "metadata": {},
   "source": [
    "NaN은 0으로 바꾸고, 범위를 0과 30사이로 정한다. 30이 넘어가는 수는 그다지 많지 않기 때문에 예측의 정확성을 위해 범위를 지정해준다. 타입도 float16으로 바꾼다."
   ]
  },
  {
   "cell_type": "code",
<<<<<<< HEAD
   "execution_count": 63,
=======
   "execution_count": 157,
>>>>>>> 968a5130d0bc3e366a0160ca2555280b9ef6af04
   "metadata": {
    "scrolled": true
   },
   "outputs": [
    {
     "data": {
      "text/html": [
       "<div>\n",
       "<style scoped>\n",
       "    .dataframe tbody tr th:only-of-type {\n",
       "        vertical-align: middle;\n",
       "    }\n",
       "\n",
       "    .dataframe tbody tr th {\n",
       "        vertical-align: top;\n",
       "    }\n",
       "\n",
       "    .dataframe thead th {\n",
       "        text-align: right;\n",
       "    }\n",
       "</style>\n",
       "<table border=\"1\" class=\"dataframe\">\n",
       "  <thead>\n",
       "    <tr style=\"text-align: right;\">\n",
       "      <th></th>\n",
       "      <th>date_block_num</th>\n",
       "      <th>shop_id</th>\n",
       "      <th>item_id</th>\n",
       "      <th>item_cnt_month</th>\n",
       "    </tr>\n",
       "  </thead>\n",
       "  <tbody>\n",
       "    <tr>\n",
       "      <th>0</th>\n",
       "      <td>0</td>\n",
       "      <td>0</td>\n",
       "      <td>19</td>\n",
       "      <td>0.0</td>\n",
       "    </tr>\n",
       "    <tr>\n",
       "      <th>1</th>\n",
       "      <td>0</td>\n",
       "      <td>0</td>\n",
       "      <td>27</td>\n",
       "      <td>0.0</td>\n",
       "    </tr>\n",
       "    <tr>\n",
       "      <th>2</th>\n",
       "      <td>0</td>\n",
       "      <td>0</td>\n",
       "      <td>28</td>\n",
       "      <td>0.0</td>\n",
       "    </tr>\n",
       "    <tr>\n",
       "      <th>3</th>\n",
       "      <td>0</td>\n",
       "      <td>0</td>\n",
       "      <td>29</td>\n",
       "      <td>0.0</td>\n",
       "    </tr>\n",
       "    <tr>\n",
       "      <th>4</th>\n",
       "      <td>0</td>\n",
       "      <td>0</td>\n",
       "      <td>32</td>\n",
       "      <td>6.0</td>\n",
       "    </tr>\n",
       "  </tbody>\n",
       "</table>\n",
       "</div>"
      ],
      "text/plain": [
       "   date_block_num  shop_id  item_id  item_cnt_month\n",
       "0               0        0       19             0.0\n",
       "1               0        0       27             0.0\n",
       "2               0        0       28             0.0\n",
       "3               0        0       29             0.0\n",
       "4               0        0       32             6.0"
      ]
     },
<<<<<<< HEAD
     "execution_count": 63,
=======
     "execution_count": 157,
>>>>>>> 968a5130d0bc3e366a0160ca2555280b9ef6af04
     "metadata": {},
     "output_type": "execute_result"
    }
   ],
   "source": [
    "matrix.head()"
   ]
  },
  {
   "cell_type": "markdown",
   "metadata": {},
   "source": [
    "이제 matrx에는 모든 date_block_num, shop_id, tiem_id에 따른 월별 판매량이 저장되어 있다."
   ]
  },
  {
   "cell_type": "markdown",
   "metadata": {},
   "source": [
    "### Matrix에 테스트 데이터 붙이기"
   ]
  },
  {
   "cell_type": "code",
<<<<<<< HEAD
   "execution_count": 64,
=======
   "execution_count": 158,
>>>>>>> 968a5130d0bc3e366a0160ca2555280b9ef6af04
   "metadata": {},
   "outputs": [
    {
     "data": {
      "text/html": [
       "<div>\n",
       "<style scoped>\n",
       "    .dataframe tbody tr th:only-of-type {\n",
       "        vertical-align: middle;\n",
       "    }\n",
       "\n",
       "    .dataframe tbody tr th {\n",
       "        vertical-align: top;\n",
       "    }\n",
       "\n",
       "    .dataframe thead th {\n",
       "        text-align: right;\n",
       "    }\n",
       "</style>\n",
       "<table border=\"1\" class=\"dataframe\">\n",
       "  <thead>\n",
       "    <tr style=\"text-align: right;\">\n",
       "      <th></th>\n",
       "      <th>ID</th>\n",
       "      <th>shop_id</th>\n",
       "      <th>item_id</th>\n",
       "    </tr>\n",
       "  </thead>\n",
       "  <tbody>\n",
       "    <tr>\n",
       "      <th>0</th>\n",
       "      <td>0</td>\n",
       "      <td>5</td>\n",
       "      <td>5037</td>\n",
       "    </tr>\n",
       "    <tr>\n",
       "      <th>1</th>\n",
       "      <td>1</td>\n",
       "      <td>5</td>\n",
       "      <td>5320</td>\n",
       "    </tr>\n",
       "  </tbody>\n",
       "</table>\n",
       "</div>"
      ],
      "text/plain": [
       "   ID  shop_id  item_id\n",
       "0   0        5     5037\n",
       "1   1        5     5320"
      ]
     },
<<<<<<< HEAD
     "execution_count": 64,
=======
     "execution_count": 158,
>>>>>>> 968a5130d0bc3e366a0160ca2555280b9ef6af04
     "metadata": {},
     "output_type": "execute_result"
    }
   ],
   "source": [
    "df_test.head(2)"
   ]
  },
  {
   "cell_type": "code",
<<<<<<< HEAD
   "execution_count": 65,
=======
   "execution_count": 159,
>>>>>>> 968a5130d0bc3e366a0160ca2555280b9ef6af04
   "metadata": {},
   "outputs": [],
   "source": [
    "df_test['date_block_num'] = 34\n",
    "df_test['date_block_num'] = df_test['date_block_num'].astype(np.int8)\n",
    "df_test['shop_id'] = df_test['shop_id'].astype(np.int8)\n",
    "df_test['item_id'] = df_test['item_id'].astype(np.int16)"
   ]
  },
  {
   "cell_type": "code",
<<<<<<< HEAD
   "execution_count": 66,
=======
   "execution_count": 160,
>>>>>>> 968a5130d0bc3e366a0160ca2555280b9ef6af04
   "metadata": {},
   "outputs": [
    {
     "data": {
      "text/html": [
       "<div>\n",
       "<style scoped>\n",
       "    .dataframe tbody tr th:only-of-type {\n",
       "        vertical-align: middle;\n",
       "    }\n",
       "\n",
       "    .dataframe tbody tr th {\n",
       "        vertical-align: top;\n",
       "    }\n",
       "\n",
       "    .dataframe thead th {\n",
       "        text-align: right;\n",
       "    }\n",
       "</style>\n",
       "<table border=\"1\" class=\"dataframe\">\n",
       "  <thead>\n",
       "    <tr style=\"text-align: right;\">\n",
       "      <th></th>\n",
       "      <th>ID</th>\n",
       "      <th>shop_id</th>\n",
       "      <th>item_id</th>\n",
       "      <th>date_block_num</th>\n",
       "    </tr>\n",
       "  </thead>\n",
       "  <tbody>\n",
       "    <tr>\n",
       "      <th>0</th>\n",
       "      <td>0</td>\n",
       "      <td>5</td>\n",
       "      <td>5037</td>\n",
       "      <td>34</td>\n",
       "    </tr>\n",
       "    <tr>\n",
       "      <th>1</th>\n",
       "      <td>1</td>\n",
       "      <td>5</td>\n",
       "      <td>5320</td>\n",
       "      <td>34</td>\n",
       "    </tr>\n",
       "  </tbody>\n",
       "</table>\n",
       "</div>"
      ],
      "text/plain": [
       "   ID  shop_id  item_id  date_block_num\n",
       "0   0        5     5037              34\n",
       "1   1        5     5320              34"
      ]
     },
<<<<<<< HEAD
     "execution_count": 66,
=======
     "execution_count": 160,
>>>>>>> 968a5130d0bc3e366a0160ca2555280b9ef6af04
     "metadata": {},
     "output_type": "execute_result"
    }
   ],
   "source": [
    "df_test.head(2)"
   ]
  },
  {
   "cell_type": "code",
<<<<<<< HEAD
   "execution_count": 67,
=======
   "execution_count": 161,
>>>>>>> 968a5130d0bc3e366a0160ca2555280b9ef6af04
   "metadata": {
    "scrolled": true
   },
   "outputs": [
    {
     "data": {
      "text/html": [
       "<div>\n",
       "<style scoped>\n",
       "    .dataframe tbody tr th:only-of-type {\n",
       "        vertical-align: middle;\n",
       "    }\n",
       "\n",
       "    .dataframe tbody tr th {\n",
       "        vertical-align: top;\n",
       "    }\n",
       "\n",
       "    .dataframe thead th {\n",
       "        text-align: right;\n",
       "    }\n",
       "</style>\n",
       "<table border=\"1\" class=\"dataframe\">\n",
       "  <thead>\n",
       "    <tr style=\"text-align: right;\">\n",
       "      <th></th>\n",
       "      <th>date_block_num</th>\n",
       "      <th>shop_id</th>\n",
       "      <th>item_id</th>\n",
       "      <th>item_cnt_month</th>\n",
       "      <th>ID</th>\n",
       "    </tr>\n",
       "  </thead>\n",
       "  <tbody>\n",
       "    <tr>\n",
       "      <th>0</th>\n",
       "      <td>0</td>\n",
       "      <td>0</td>\n",
       "      <td>19</td>\n",
       "      <td>0.0</td>\n",
       "      <td>0.0</td>\n",
       "    </tr>\n",
       "    <tr>\n",
       "      <th>1</th>\n",
       "      <td>0</td>\n",
       "      <td>0</td>\n",
       "      <td>27</td>\n",
       "      <td>0.0</td>\n",
       "      <td>0.0</td>\n",
       "    </tr>\n",
       "    <tr>\n",
       "      <th>2</th>\n",
       "      <td>0</td>\n",
       "      <td>0</td>\n",
       "      <td>28</td>\n",
       "      <td>0.0</td>\n",
       "      <td>0.0</td>\n",
       "    </tr>\n",
       "    <tr>\n",
       "      <th>3</th>\n",
       "      <td>0</td>\n",
       "      <td>0</td>\n",
       "      <td>29</td>\n",
       "      <td>0.0</td>\n",
       "      <td>0.0</td>\n",
       "    </tr>\n",
       "    <tr>\n",
       "      <th>4</th>\n",
       "      <td>0</td>\n",
       "      <td>0</td>\n",
       "      <td>32</td>\n",
       "      <td>6.0</td>\n",
       "      <td>0.0</td>\n",
       "    </tr>\n",
       "  </tbody>\n",
       "</table>\n",
       "</div>"
      ],
      "text/plain": [
       "   date_block_num  shop_id  item_id  item_cnt_month   ID\n",
       "0               0        0       19             0.0  0.0\n",
       "1               0        0       27             0.0  0.0\n",
       "2               0        0       28             0.0  0.0\n",
       "3               0        0       29             0.0  0.0\n",
       "4               0        0       32             6.0  0.0"
      ]
     },
<<<<<<< HEAD
     "execution_count": 67,
=======
     "execution_count": 161,
>>>>>>> 968a5130d0bc3e366a0160ca2555280b9ef6af04
     "metadata": {},
     "output_type": "execute_result"
    }
   ],
   "source": [
    "matrix = pd.concat([matrix, df_test], ignore_index=True, sort=False, keys=cols)\n",
    "matrix.fillna(0, inplace=True) # for 34 month\n",
    "matrix.head()"
   ]
  },
  {
   "cell_type": "code",
<<<<<<< HEAD
   "execution_count": 68,
=======
   "execution_count": 162,
>>>>>>> 968a5130d0bc3e366a0160ca2555280b9ef6af04
   "metadata": {},
   "outputs": [
    {
     "data": {
      "text/html": [
       "<div>\n",
       "<style scoped>\n",
       "    .dataframe tbody tr th:only-of-type {\n",
       "        vertical-align: middle;\n",
       "    }\n",
       "\n",
       "    .dataframe tbody tr th {\n",
       "        vertical-align: top;\n",
       "    }\n",
       "\n",
       "    .dataframe thead th {\n",
       "        text-align: right;\n",
       "    }\n",
       "</style>\n",
       "<table border=\"1\" class=\"dataframe\">\n",
       "  <thead>\n",
       "    <tr style=\"text-align: right;\">\n",
       "      <th></th>\n",
       "      <th>date_block_num</th>\n",
       "      <th>shop_id</th>\n",
       "      <th>item_id</th>\n",
       "      <th>item_cnt_month</th>\n",
       "      <th>ID</th>\n",
       "    </tr>\n",
       "  </thead>\n",
       "  <tbody>\n",
       "    <tr>\n",
       "      <th>11098655</th>\n",
       "      <td>34</td>\n",
       "      <td>45</td>\n",
       "      <td>18454</td>\n",
       "      <td>0.0</td>\n",
       "      <td>214195.0</td>\n",
       "    </tr>\n",
       "    <tr>\n",
       "      <th>11098656</th>\n",
       "      <td>34</td>\n",
       "      <td>45</td>\n",
       "      <td>16188</td>\n",
       "      <td>0.0</td>\n",
       "      <td>214196.0</td>\n",
       "    </tr>\n",
       "    <tr>\n",
       "      <th>11098657</th>\n",
       "      <td>34</td>\n",
       "      <td>45</td>\n",
       "      <td>15757</td>\n",
       "      <td>0.0</td>\n",
       "      <td>214197.0</td>\n",
       "    </tr>\n",
       "    <tr>\n",
       "      <th>11098658</th>\n",
       "      <td>34</td>\n",
       "      <td>45</td>\n",
       "      <td>19648</td>\n",
       "      <td>0.0</td>\n",
       "      <td>214198.0</td>\n",
       "    </tr>\n",
       "    <tr>\n",
       "      <th>11098659</th>\n",
       "      <td>34</td>\n",
       "      <td>45</td>\n",
       "      <td>969</td>\n",
       "      <td>0.0</td>\n",
       "      <td>214199.0</td>\n",
       "    </tr>\n",
       "  </tbody>\n",
       "</table>\n",
       "</div>"
      ],
      "text/plain": [
       "          date_block_num  shop_id  item_id  item_cnt_month        ID\n",
       "11098655              34       45    18454             0.0  214195.0\n",
       "11098656              34       45    16188             0.0  214196.0\n",
       "11098657              34       45    15757             0.0  214197.0\n",
       "11098658              34       45    19648             0.0  214198.0\n",
       "11098659              34       45      969             0.0  214199.0"
      ]
     },
<<<<<<< HEAD
     "execution_count": 68,
=======
     "execution_count": 162,
>>>>>>> 968a5130d0bc3e366a0160ca2555280b9ef6af04
     "metadata": {},
     "output_type": "execute_result"
    }
   ],
   "source": [
    "matrix.tail()"
   ]
  },
  {
   "cell_type": "markdown",
   "metadata": {},
   "source": [
    "### matrix에 df_shops, df_items, df_item_categories merge하기\n",
    "겹치는 column을 기준으로 df_shops, df_items, df_item_categories를 matrix에 merge시킨다"
   ]
  },
  {
   "cell_type": "code",
<<<<<<< HEAD
   "execution_count": 69,
=======
   "execution_count": 163,
>>>>>>> 968a5130d0bc3e366a0160ca2555280b9ef6af04
   "metadata": {},
   "outputs": [],
   "source": [
    "matrix = pd.merge(matrix, df_shops, on=['shop_id'], how='left')\n",
    "matrix = pd.merge(matrix, df_items, on=['item_id'], how='left')\n",
    "matrix = pd.merge(matrix, df_item_categories, on=['item_category_id'], how='left')\n",
    "matrix['city_code'] = matrix['city_code'].astype(np.int8)\n",
    "matrix['item_category_id'] = matrix['item_category_id'].astype(np.int8)\n",
    "matrix['type_code'] = matrix['type_code'].astype(np.int8)\n",
    "matrix['subtype_code'] = matrix['subtype_code'].astype(np.int8)"
   ]
  },
  {
   "cell_type": "code",
<<<<<<< HEAD
   "execution_count": 70,
=======
   "execution_count": 164,
>>>>>>> 968a5130d0bc3e366a0160ca2555280b9ef6af04
   "metadata": {
    "scrolled": false
   },
   "outputs": [
    {
     "data": {
      "text/html": [
       "<div>\n",
       "<style scoped>\n",
       "    .dataframe tbody tr th:only-of-type {\n",
       "        vertical-align: middle;\n",
       "    }\n",
       "\n",
       "    .dataframe tbody tr th {\n",
       "        vertical-align: top;\n",
       "    }\n",
       "\n",
       "    .dataframe thead th {\n",
       "        text-align: right;\n",
       "    }\n",
       "</style>\n",
       "<table border=\"1\" class=\"dataframe\">\n",
       "  <thead>\n",
       "    <tr style=\"text-align: right;\">\n",
       "      <th></th>\n",
       "      <th>date_block_num</th>\n",
       "      <th>shop_id</th>\n",
       "      <th>item_id</th>\n",
       "      <th>item_cnt_month</th>\n",
       "      <th>ID</th>\n",
       "      <th>city_code</th>\n",
       "      <th>item_category_id</th>\n",
       "      <th>type_code</th>\n",
       "      <th>subtype_code</th>\n",
       "    </tr>\n",
       "  </thead>\n",
       "  <tbody>\n",
       "    <tr>\n",
       "      <th>0</th>\n",
       "      <td>0</td>\n",
       "      <td>0</td>\n",
       "      <td>19</td>\n",
       "      <td>0.0</td>\n",
       "      <td>0.0</td>\n",
       "      <td>29</td>\n",
       "      <td>40</td>\n",
       "      <td>11</td>\n",
       "      <td>6</td>\n",
       "    </tr>\n",
       "    <tr>\n",
       "      <th>1</th>\n",
       "      <td>0</td>\n",
       "      <td>0</td>\n",
       "      <td>27</td>\n",
       "      <td>0.0</td>\n",
       "      <td>0.0</td>\n",
       "      <td>29</td>\n",
       "      <td>19</td>\n",
       "      <td>5</td>\n",
       "      <td>12</td>\n",
       "    </tr>\n",
       "    <tr>\n",
       "      <th>2</th>\n",
       "      <td>0</td>\n",
       "      <td>0</td>\n",
       "      <td>28</td>\n",
       "      <td>0.0</td>\n",
       "      <td>0.0</td>\n",
       "      <td>29</td>\n",
       "      <td>30</td>\n",
       "      <td>8</td>\n",
       "      <td>57</td>\n",
       "    </tr>\n",
       "    <tr>\n",
       "      <th>3</th>\n",
       "      <td>0</td>\n",
       "      <td>0</td>\n",
       "      <td>29</td>\n",
       "      <td>0.0</td>\n",
       "      <td>0.0</td>\n",
       "      <td>29</td>\n",
       "      <td>23</td>\n",
       "      <td>5</td>\n",
       "      <td>18</td>\n",
       "    </tr>\n",
       "    <tr>\n",
       "      <th>4</th>\n",
       "      <td>0</td>\n",
       "      <td>0</td>\n",
       "      <td>32</td>\n",
       "      <td>6.0</td>\n",
       "      <td>0.0</td>\n",
       "      <td>29</td>\n",
       "      <td>40</td>\n",
       "      <td>11</td>\n",
       "      <td>6</td>\n",
       "    </tr>\n",
       "  </tbody>\n",
       "</table>\n",
       "</div>"
      ],
      "text/plain": [
       "   date_block_num  shop_id  item_id  item_cnt_month   ID  city_code  \\\n",
       "0               0        0       19             0.0  0.0         29   \n",
       "1               0        0       27             0.0  0.0         29   \n",
       "2               0        0       28             0.0  0.0         29   \n",
       "3               0        0       29             0.0  0.0         29   \n",
       "4               0        0       32             6.0  0.0         29   \n",
       "\n",
       "   item_category_id  type_code  subtype_code  \n",
       "0                40         11             6  \n",
       "1                19          5            12  \n",
       "2                30          8            57  \n",
       "3                23          5            18  \n",
       "4                40         11             6  "
      ]
     },
<<<<<<< HEAD
     "execution_count": 70,
=======
     "execution_count": 164,
>>>>>>> 968a5130d0bc3e366a0160ca2555280b9ef6af04
     "metadata": {},
     "output_type": "execute_result"
    }
   ],
   "source": [
    "matrix.head()"
   ]
  },
  {
   "cell_type": "code",
<<<<<<< HEAD
   "execution_count": 71,
=======
   "execution_count": 165,
>>>>>>> 968a5130d0bc3e366a0160ca2555280b9ef6af04
   "metadata": {},
   "outputs": [
    {
     "data": {
      "text/html": [
       "<div>\n",
       "<style scoped>\n",
       "    .dataframe tbody tr th:only-of-type {\n",
       "        vertical-align: middle;\n",
       "    }\n",
       "\n",
       "    .dataframe tbody tr th {\n",
       "        vertical-align: top;\n",
       "    }\n",
       "\n",
       "    .dataframe thead th {\n",
       "        text-align: right;\n",
       "    }\n",
       "</style>\n",
       "<table border=\"1\" class=\"dataframe\">\n",
       "  <thead>\n",
       "    <tr style=\"text-align: right;\">\n",
       "      <th></th>\n",
       "      <th>date_block_num</th>\n",
       "      <th>shop_id</th>\n",
       "      <th>item_id</th>\n",
       "      <th>item_cnt_month</th>\n",
       "      <th>ID</th>\n",
       "      <th>city_code</th>\n",
       "      <th>item_category_id</th>\n",
       "      <th>type_code</th>\n",
       "      <th>subtype_code</th>\n",
       "    </tr>\n",
       "  </thead>\n",
       "  <tbody>\n",
       "    <tr>\n",
       "      <th>0</th>\n",
       "      <td>0</td>\n",
       "      <td>0</td>\n",
       "      <td>19</td>\n",
       "      <td>0.0</td>\n",
       "      <td>0.0</td>\n",
       "      <td>29</td>\n",
       "      <td>40</td>\n",
       "      <td>11</td>\n",
       "      <td>6</td>\n",
       "    </tr>\n",
       "    <tr>\n",
       "      <th>1</th>\n",
       "      <td>0</td>\n",
       "      <td>0</td>\n",
       "      <td>27</td>\n",
       "      <td>0.0</td>\n",
       "      <td>0.0</td>\n",
       "      <td>29</td>\n",
       "      <td>19</td>\n",
       "      <td>5</td>\n",
       "      <td>12</td>\n",
       "    </tr>\n",
       "    <tr>\n",
       "      <th>2</th>\n",
       "      <td>0</td>\n",
       "      <td>0</td>\n",
       "      <td>28</td>\n",
       "      <td>0.0</td>\n",
       "      <td>0.0</td>\n",
       "      <td>29</td>\n",
       "      <td>30</td>\n",
       "      <td>8</td>\n",
       "      <td>57</td>\n",
       "    </tr>\n",
       "    <tr>\n",
       "      <th>3</th>\n",
       "      <td>0</td>\n",
       "      <td>0</td>\n",
       "      <td>29</td>\n",
       "      <td>0.0</td>\n",
       "      <td>0.0</td>\n",
       "      <td>29</td>\n",
       "      <td>23</td>\n",
       "      <td>5</td>\n",
       "      <td>18</td>\n",
       "    </tr>\n",
       "    <tr>\n",
       "      <th>4</th>\n",
       "      <td>0</td>\n",
       "      <td>0</td>\n",
       "      <td>32</td>\n",
       "      <td>6.0</td>\n",
       "      <td>0.0</td>\n",
       "      <td>29</td>\n",
       "      <td>40</td>\n",
       "      <td>11</td>\n",
       "      <td>6</td>\n",
       "    </tr>\n",
       "    <tr>\n",
       "      <th>...</th>\n",
       "      <td>...</td>\n",
       "      <td>...</td>\n",
       "      <td>...</td>\n",
       "      <td>...</td>\n",
       "      <td>...</td>\n",
       "      <td>...</td>\n",
       "      <td>...</td>\n",
       "      <td>...</td>\n",
       "      <td>...</td>\n",
       "    </tr>\n",
       "    <tr>\n",
       "      <th>364945</th>\n",
       "      <td>0</td>\n",
       "      <td>59</td>\n",
       "      <td>22149</td>\n",
       "      <td>0.0</td>\n",
       "      <td>0.0</td>\n",
       "      <td>30</td>\n",
       "      <td>40</td>\n",
       "      <td>11</td>\n",
       "      <td>6</td>\n",
       "    </tr>\n",
       "    <tr>\n",
       "      <th>364946</th>\n",
       "      <td>0</td>\n",
       "      <td>59</td>\n",
       "      <td>22151</td>\n",
       "      <td>2.0</td>\n",
       "      <td>0.0</td>\n",
       "      <td>30</td>\n",
       "      <td>40</td>\n",
       "      <td>11</td>\n",
       "      <td>6</td>\n",
       "    </tr>\n",
       "    <tr>\n",
       "      <th>364947</th>\n",
       "      <td>0</td>\n",
       "      <td>59</td>\n",
       "      <td>22154</td>\n",
       "      <td>1.0</td>\n",
       "      <td>0.0</td>\n",
       "      <td>30</td>\n",
       "      <td>37</td>\n",
       "      <td>11</td>\n",
       "      <td>1</td>\n",
       "    </tr>\n",
       "    <tr>\n",
       "      <th>364948</th>\n",
       "      <td>0</td>\n",
       "      <td>59</td>\n",
       "      <td>22160</td>\n",
       "      <td>0.0</td>\n",
       "      <td>0.0</td>\n",
       "      <td>30</td>\n",
       "      <td>40</td>\n",
       "      <td>11</td>\n",
       "      <td>6</td>\n",
       "    </tr>\n",
       "    <tr>\n",
       "      <th>364949</th>\n",
       "      <td>0</td>\n",
       "      <td>59</td>\n",
       "      <td>22168</td>\n",
       "      <td>0.0</td>\n",
       "      <td>0.0</td>\n",
       "      <td>30</td>\n",
       "      <td>62</td>\n",
       "      <td>14</td>\n",
       "      <td>30</td>\n",
       "    </tr>\n",
       "  </tbody>\n",
       "</table>\n",
       "<p>364950 rows × 9 columns</p>\n",
       "</div>"
      ],
      "text/plain": [
       "        date_block_num  shop_id  item_id  item_cnt_month   ID  city_code  \\\n",
       "0                    0        0       19             0.0  0.0         29   \n",
       "1                    0        0       27             0.0  0.0         29   \n",
       "2                    0        0       28             0.0  0.0         29   \n",
       "3                    0        0       29             0.0  0.0         29   \n",
       "4                    0        0       32             6.0  0.0         29   \n",
       "...                ...      ...      ...             ...  ...        ...   \n",
       "364945               0       59    22149             0.0  0.0         30   \n",
       "364946               0       59    22151             2.0  0.0         30   \n",
       "364947               0       59    22154             1.0  0.0         30   \n",
       "364948               0       59    22160             0.0  0.0         30   \n",
       "364949               0       59    22168             0.0  0.0         30   \n",
       "\n",
       "        item_category_id  type_code  subtype_code  \n",
       "0                     40         11             6  \n",
       "1                     19          5            12  \n",
       "2                     30          8            57  \n",
       "3                     23          5            18  \n",
       "4                     40         11             6  \n",
       "...                  ...        ...           ...  \n",
       "364945                40         11             6  \n",
       "364946                40         11             6  \n",
       "364947                37         11             1  \n",
       "364948                40         11             6  \n",
       "364949                62         14            30  \n",
       "\n",
       "[364950 rows x 9 columns]"
      ]
     },
<<<<<<< HEAD
     "execution_count": 71,
=======
     "execution_count": 165,
>>>>>>> 968a5130d0bc3e366a0160ca2555280b9ef6af04
     "metadata": {},
     "output_type": "execute_result"
    }
   ],
   "source": [
    "matrix[matrix['date_block_num'] == 0]"
   ]
  },
  {
   "cell_type": "markdown",
   "metadata": {},
   "source": [
    "### Matrix에 Target lags 추가\n",
    "item_cnt_month_i는 i달 전의 동일 shop, 동일 제품의 판매량을 말한다."
   ]
  },
  {
   "cell_type": "code",
<<<<<<< HEAD
   "execution_count": 72,
=======
   "execution_count": 166,
>>>>>>> 968a5130d0bc3e366a0160ca2555280b9ef6af04
   "metadata": {},
   "outputs": [],
   "source": [
    "def lag_feature(df, lags, col):\n",
    "    tmp = df[['date_block_num','shop_id','item_id',col]]\n",
    "    for i in lags:\n",
    "        shifted = tmp.copy()\n",
    "        shifted.columns = ['date_block_num','shop_id','item_id', col+'_lag_'+str(i)]\n",
    "        shifted['date_block_num'] += i\n",
    "        df = pd.merge(df, shifted, on=['date_block_num','shop_id','item_id'], how='left')\n",
    "    return df"
   ]
  },
  {
   "cell_type": "code",
<<<<<<< HEAD
   "execution_count": 73,
=======
   "execution_count": 167,
>>>>>>> 968a5130d0bc3e366a0160ca2555280b9ef6af04
   "metadata": {},
   "outputs": [],
   "source": [
    "matrix = lag_feature(matrix, [1,2,3,6,12], 'item_cnt_month')"
   ]
  },
  {
   "cell_type": "markdown",
   "metadata": {},
   "source": [
    "### Mean encoded features"
   ]
  },
  {
   "cell_type": "code",
<<<<<<< HEAD
   "execution_count": 74,
=======
   "execution_count": 168,
>>>>>>> 968a5130d0bc3e366a0160ca2555280b9ef6af04
   "metadata": {},
   "outputs": [],
   "source": [
    "group = matrix.groupby(['date_block_num']).agg({'item_cnt_month': ['mean']})\n",
    "group.columns = ['date_avg_item_cnt']"
   ]
  },
  {
   "cell_type": "code",
<<<<<<< HEAD
   "execution_count": 75,
=======
   "execution_count": 169,
>>>>>>> 968a5130d0bc3e366a0160ca2555280b9ef6af04
   "metadata": {},
   "outputs": [
    {
     "data": {
      "text/html": [
       "<div>\n",
       "<style scoped>\n",
       "    .dataframe tbody tr th:only-of-type {\n",
       "        vertical-align: middle;\n",
       "    }\n",
       "\n",
       "    .dataframe tbody tr th {\n",
       "        vertical-align: top;\n",
       "    }\n",
       "\n",
       "    .dataframe thead th {\n",
       "        text-align: right;\n",
       "    }\n",
       "</style>\n",
       "<table border=\"1\" class=\"dataframe\">\n",
       "  <thead>\n",
       "    <tr style=\"text-align: right;\">\n",
       "      <th></th>\n",
       "      <th>date_avg_item_cnt</th>\n",
       "    </tr>\n",
       "    <tr>\n",
       "      <th>date_block_num</th>\n",
       "      <th></th>\n",
       "    </tr>\n",
       "  </thead>\n",
       "  <tbody>\n",
       "    <tr>\n",
       "      <th>0</th>\n",
       "      <td>0.354980</td>\n",
       "    </tr>\n",
       "    <tr>\n",
       "      <th>1</th>\n",
       "      <td>0.333008</td>\n",
       "    </tr>\n",
       "    <tr>\n",
       "      <th>2</th>\n",
       "      <td>0.367432</td>\n",
       "    </tr>\n",
       "    <tr>\n",
       "      <th>3</th>\n",
       "      <td>0.287354</td>\n",
       "    </tr>\n",
       "    <tr>\n",
       "      <th>4</th>\n",
       "      <td>0.270996</td>\n",
       "    </tr>\n",
       "  </tbody>\n",
       "</table>\n",
       "</div>"
      ],
      "text/plain": [
       "                date_avg_item_cnt\n",
       "date_block_num                   \n",
       "0                        0.354980\n",
       "1                        0.333008\n",
       "2                        0.367432\n",
       "3                        0.287354\n",
       "4                        0.270996"
      ]
     },
<<<<<<< HEAD
     "execution_count": 75,
=======
     "execution_count": 169,
>>>>>>> 968a5130d0bc3e366a0160ca2555280b9ef6af04
     "metadata": {},
     "output_type": "execute_result"
    }
   ],
   "source": [
    "group.head()"
   ]
  },
  {
   "cell_type": "code",
<<<<<<< HEAD
   "execution_count": 76,
=======
   "execution_count": 170,
>>>>>>> 968a5130d0bc3e366a0160ca2555280b9ef6af04
   "metadata": {},
   "outputs": [],
   "source": [
    "group.reset_index(inplace=True)"
   ]
  },
  {
   "cell_type": "code",
<<<<<<< HEAD
   "execution_count": 77,
=======
   "execution_count": 171,
>>>>>>> 968a5130d0bc3e366a0160ca2555280b9ef6af04
   "metadata": {
    "scrolled": true
   },
   "outputs": [
    {
     "data": {
      "text/html": [
       "<div>\n",
       "<style scoped>\n",
       "    .dataframe tbody tr th:only-of-type {\n",
       "        vertical-align: middle;\n",
       "    }\n",
       "\n",
       "    .dataframe tbody tr th {\n",
       "        vertical-align: top;\n",
       "    }\n",
       "\n",
       "    .dataframe thead th {\n",
       "        text-align: right;\n",
       "    }\n",
       "</style>\n",
       "<table border=\"1\" class=\"dataframe\">\n",
       "  <thead>\n",
       "    <tr style=\"text-align: right;\">\n",
       "      <th></th>\n",
       "      <th>date_block_num</th>\n",
       "      <th>date_avg_item_cnt</th>\n",
       "    </tr>\n",
       "  </thead>\n",
       "  <tbody>\n",
       "    <tr>\n",
       "      <th>0</th>\n",
       "      <td>0</td>\n",
       "      <td>0.354980</td>\n",
       "    </tr>\n",
       "    <tr>\n",
       "      <th>1</th>\n",
       "      <td>1</td>\n",
       "      <td>0.333008</td>\n",
       "    </tr>\n",
       "    <tr>\n",
       "      <th>2</th>\n",
       "      <td>2</td>\n",
       "      <td>0.367432</td>\n",
       "    </tr>\n",
       "    <tr>\n",
       "      <th>3</th>\n",
       "      <td>3</td>\n",
       "      <td>0.287354</td>\n",
       "    </tr>\n",
       "    <tr>\n",
       "      <th>4</th>\n",
       "      <td>4</td>\n",
       "      <td>0.270996</td>\n",
       "    </tr>\n",
       "  </tbody>\n",
       "</table>\n",
       "</div>"
      ],
      "text/plain": [
       "   date_block_num  date_avg_item_cnt\n",
       "0               0           0.354980\n",
       "1               1           0.333008\n",
       "2               2           0.367432\n",
       "3               3           0.287354\n",
       "4               4           0.270996"
      ]
     },
<<<<<<< HEAD
     "execution_count": 77,
=======
     "execution_count": 171,
>>>>>>> 968a5130d0bc3e366a0160ca2555280b9ef6af04
     "metadata": {},
     "output_type": "execute_result"
    }
   ],
   "source": [
    "group.head()"
   ]
  },
  {
   "cell_type": "markdown",
   "metadata": {},
   "source": [
    "matrix에 월 평균 판매 수량 (date_avg_item_cnt) 추가하기"
   ]
  },
  {
   "cell_type": "code",
<<<<<<< HEAD
   "execution_count": 78,
=======
   "execution_count": 172,
>>>>>>> 968a5130d0bc3e366a0160ca2555280b9ef6af04
   "metadata": {
    "scrolled": false
   },
   "outputs": [
    {
     "data": {
      "text/html": [
       "<div>\n",
       "<style scoped>\n",
       "    .dataframe tbody tr th:only-of-type {\n",
       "        vertical-align: middle;\n",
       "    }\n",
       "\n",
       "    .dataframe tbody tr th {\n",
       "        vertical-align: top;\n",
       "    }\n",
       "\n",
       "    .dataframe thead th {\n",
       "        text-align: right;\n",
       "    }\n",
       "</style>\n",
       "<table border=\"1\" class=\"dataframe\">\n",
       "  <thead>\n",
       "    <tr style=\"text-align: right;\">\n",
       "      <th></th>\n",
       "      <th>date_block_num</th>\n",
       "      <th>shop_id</th>\n",
       "      <th>item_id</th>\n",
       "      <th>item_cnt_month</th>\n",
       "      <th>ID</th>\n",
       "      <th>city_code</th>\n",
       "      <th>item_category_id</th>\n",
       "      <th>type_code</th>\n",
       "      <th>subtype_code</th>\n",
       "      <th>item_cnt_month_lag_1</th>\n",
       "      <th>item_cnt_month_lag_2</th>\n",
       "      <th>item_cnt_month_lag_3</th>\n",
       "      <th>item_cnt_month_lag_6</th>\n",
       "      <th>item_cnt_month_lag_12</th>\n",
       "      <th>date_avg_item_cnt</th>\n",
       "    </tr>\n",
       "  </thead>\n",
       "  <tbody>\n",
       "    <tr>\n",
       "      <th>0</th>\n",
       "      <td>0</td>\n",
       "      <td>0</td>\n",
       "      <td>19</td>\n",
       "      <td>0.0</td>\n",
       "      <td>0.0</td>\n",
       "      <td>29</td>\n",
       "      <td>40</td>\n",
       "      <td>11</td>\n",
       "      <td>6</td>\n",
       "      <td>NaN</td>\n",
       "      <td>NaN</td>\n",
       "      <td>NaN</td>\n",
       "      <td>NaN</td>\n",
       "      <td>NaN</td>\n",
       "      <td>0.35498</td>\n",
       "    </tr>\n",
       "    <tr>\n",
       "      <th>1</th>\n",
       "      <td>0</td>\n",
       "      <td>0</td>\n",
       "      <td>27</td>\n",
       "      <td>0.0</td>\n",
       "      <td>0.0</td>\n",
       "      <td>29</td>\n",
       "      <td>19</td>\n",
       "      <td>5</td>\n",
       "      <td>12</td>\n",
       "      <td>NaN</td>\n",
       "      <td>NaN</td>\n",
       "      <td>NaN</td>\n",
       "      <td>NaN</td>\n",
       "      <td>NaN</td>\n",
       "      <td>0.35498</td>\n",
       "    </tr>\n",
       "    <tr>\n",
       "      <th>2</th>\n",
       "      <td>0</td>\n",
       "      <td>0</td>\n",
       "      <td>28</td>\n",
       "      <td>0.0</td>\n",
       "      <td>0.0</td>\n",
       "      <td>29</td>\n",
       "      <td>30</td>\n",
       "      <td>8</td>\n",
       "      <td>57</td>\n",
       "      <td>NaN</td>\n",
       "      <td>NaN</td>\n",
       "      <td>NaN</td>\n",
       "      <td>NaN</td>\n",
       "      <td>NaN</td>\n",
       "      <td>0.35498</td>\n",
       "    </tr>\n",
       "    <tr>\n",
       "      <th>3</th>\n",
       "      <td>0</td>\n",
       "      <td>0</td>\n",
       "      <td>29</td>\n",
       "      <td>0.0</td>\n",
       "      <td>0.0</td>\n",
       "      <td>29</td>\n",
       "      <td>23</td>\n",
       "      <td>5</td>\n",
       "      <td>18</td>\n",
       "      <td>NaN</td>\n",
       "      <td>NaN</td>\n",
       "      <td>NaN</td>\n",
       "      <td>NaN</td>\n",
       "      <td>NaN</td>\n",
       "      <td>0.35498</td>\n",
       "    </tr>\n",
       "    <tr>\n",
       "      <th>4</th>\n",
       "      <td>0</td>\n",
       "      <td>0</td>\n",
       "      <td>32</td>\n",
       "      <td>6.0</td>\n",
       "      <td>0.0</td>\n",
       "      <td>29</td>\n",
       "      <td>40</td>\n",
       "      <td>11</td>\n",
       "      <td>6</td>\n",
       "      <td>NaN</td>\n",
       "      <td>NaN</td>\n",
       "      <td>NaN</td>\n",
       "      <td>NaN</td>\n",
       "      <td>NaN</td>\n",
       "      <td>0.35498</td>\n",
       "    </tr>\n",
       "  </tbody>\n",
       "</table>\n",
       "</div>"
      ],
      "text/plain": [
       "   date_block_num  shop_id  item_id  item_cnt_month   ID  city_code  \\\n",
       "0               0        0       19             0.0  0.0         29   \n",
       "1               0        0       27             0.0  0.0         29   \n",
       "2               0        0       28             0.0  0.0         29   \n",
       "3               0        0       29             0.0  0.0         29   \n",
       "4               0        0       32             6.0  0.0         29   \n",
       "\n",
       "   item_category_id  type_code  subtype_code  item_cnt_month_lag_1  \\\n",
       "0                40         11             6                   NaN   \n",
       "1                19          5            12                   NaN   \n",
       "2                30          8            57                   NaN   \n",
       "3                23          5            18                   NaN   \n",
       "4                40         11             6                   NaN   \n",
       "\n",
       "   item_cnt_month_lag_2  item_cnt_month_lag_3  item_cnt_month_lag_6  \\\n",
       "0                   NaN                   NaN                   NaN   \n",
       "1                   NaN                   NaN                   NaN   \n",
       "2                   NaN                   NaN                   NaN   \n",
       "3                   NaN                   NaN                   NaN   \n",
       "4                   NaN                   NaN                   NaN   \n",
       "\n",
       "   item_cnt_month_lag_12  date_avg_item_cnt  \n",
       "0                    NaN            0.35498  \n",
       "1                    NaN            0.35498  \n",
       "2                    NaN            0.35498  \n",
       "3                    NaN            0.35498  \n",
       "4                    NaN            0.35498  "
      ]
     },
<<<<<<< HEAD
     "execution_count": 78,
=======
     "execution_count": 172,
>>>>>>> 968a5130d0bc3e366a0160ca2555280b9ef6af04
     "metadata": {},
     "output_type": "execute_result"
    }
   ],
   "source": [
    "matrix = pd.merge(matrix, group, on=['date_block_num'], how='left')\n",
    "matrix['date_avg_item_cnt'] = matrix['date_avg_item_cnt'].astype(np.float16)\n",
    "matrix.head()"
   ]
  },
  {
   "cell_type": "markdown",
   "metadata": {},
   "source": [
    "matrix에 월 평균 판매 수량에 대한 1달 lag 추가하기"
   ]
  },
  {
   "cell_type": "code",
<<<<<<< HEAD
   "execution_count": 79,
=======
   "execution_count": 173,
>>>>>>> 968a5130d0bc3e366a0160ca2555280b9ef6af04
   "metadata": {},
   "outputs": [],
   "source": [
    "matrix = lag_feature(matrix, [1], 'date_avg_item_cnt')"
   ]
  },
  {
   "cell_type": "code",
<<<<<<< HEAD
   "execution_count": 80,
=======
   "execution_count": 174,
>>>>>>> 968a5130d0bc3e366a0160ca2555280b9ef6af04
   "metadata": {},
   "outputs": [
    {
     "data": {
      "text/html": [
       "<div>\n",
       "<style scoped>\n",
       "    .dataframe tbody tr th:only-of-type {\n",
       "        vertical-align: middle;\n",
       "    }\n",
       "\n",
       "    .dataframe tbody tr th {\n",
       "        vertical-align: top;\n",
       "    }\n",
       "\n",
       "    .dataframe thead th {\n",
       "        text-align: right;\n",
       "    }\n",
       "</style>\n",
       "<table border=\"1\" class=\"dataframe\">\n",
       "  <thead>\n",
       "    <tr style=\"text-align: right;\">\n",
       "      <th></th>\n",
       "      <th>date_block_num</th>\n",
       "      <th>shop_id</th>\n",
       "      <th>item_id</th>\n",
       "      <th>item_cnt_month</th>\n",
       "      <th>ID</th>\n",
       "      <th>city_code</th>\n",
       "      <th>item_category_id</th>\n",
       "      <th>type_code</th>\n",
       "      <th>subtype_code</th>\n",
       "      <th>item_cnt_month_lag_1</th>\n",
       "      <th>item_cnt_month_lag_2</th>\n",
       "      <th>item_cnt_month_lag_3</th>\n",
       "      <th>item_cnt_month_lag_6</th>\n",
       "      <th>item_cnt_month_lag_12</th>\n",
       "      <th>date_avg_item_cnt</th>\n",
       "      <th>date_avg_item_cnt_lag_1</th>\n",
       "    </tr>\n",
       "  </thead>\n",
       "  <tbody>\n",
       "    <tr>\n",
       "      <th>11098655</th>\n",
       "      <td>34</td>\n",
       "      <td>45</td>\n",
       "      <td>18454</td>\n",
       "      <td>0.0</td>\n",
       "      <td>214195.0</td>\n",
       "      <td>20</td>\n",
       "      <td>55</td>\n",
       "      <td>13</td>\n",
       "      <td>4</td>\n",
       "      <td>1.0</td>\n",
       "      <td>0.0</td>\n",
       "      <td>0.0</td>\n",
       "      <td>0.0</td>\n",
       "      <td>NaN</td>\n",
       "      <td>0.0</td>\n",
       "      <td>0.266846</td>\n",
       "    </tr>\n",
       "    <tr>\n",
       "      <th>11098656</th>\n",
       "      <td>34</td>\n",
       "      <td>45</td>\n",
       "      <td>16188</td>\n",
       "      <td>0.0</td>\n",
       "      <td>214196.0</td>\n",
       "      <td>20</td>\n",
       "      <td>64</td>\n",
       "      <td>14</td>\n",
       "      <td>44</td>\n",
       "      <td>0.0</td>\n",
       "      <td>0.0</td>\n",
       "      <td>NaN</td>\n",
       "      <td>NaN</td>\n",
       "      <td>NaN</td>\n",
       "      <td>0.0</td>\n",
       "      <td>0.266846</td>\n",
       "    </tr>\n",
       "    <tr>\n",
       "      <th>11098657</th>\n",
       "      <td>34</td>\n",
       "      <td>45</td>\n",
       "      <td>15757</td>\n",
       "      <td>0.0</td>\n",
       "      <td>214197.0</td>\n",
       "      <td>20</td>\n",
       "      <td>55</td>\n",
       "      <td>13</td>\n",
       "      <td>4</td>\n",
       "      <td>0.0</td>\n",
       "      <td>0.0</td>\n",
       "      <td>0.0</td>\n",
       "      <td>0.0</td>\n",
       "      <td>0.0</td>\n",
       "      <td>0.0</td>\n",
       "      <td>0.266846</td>\n",
       "    </tr>\n",
       "    <tr>\n",
       "      <th>11098658</th>\n",
       "      <td>34</td>\n",
       "      <td>45</td>\n",
       "      <td>19648</td>\n",
       "      <td>0.0</td>\n",
       "      <td>214198.0</td>\n",
       "      <td>20</td>\n",
       "      <td>40</td>\n",
       "      <td>11</td>\n",
       "      <td>6</td>\n",
       "      <td>0.0</td>\n",
       "      <td>0.0</td>\n",
       "      <td>0.0</td>\n",
       "      <td>0.0</td>\n",
       "      <td>NaN</td>\n",
       "      <td>0.0</td>\n",
       "      <td>0.266846</td>\n",
       "    </tr>\n",
       "    <tr>\n",
       "      <th>11098659</th>\n",
       "      <td>34</td>\n",
       "      <td>45</td>\n",
       "      <td>969</td>\n",
       "      <td>0.0</td>\n",
       "      <td>214199.0</td>\n",
       "      <td>20</td>\n",
       "      <td>37</td>\n",
       "      <td>11</td>\n",
       "      <td>1</td>\n",
       "      <td>0.0</td>\n",
       "      <td>0.0</td>\n",
       "      <td>0.0</td>\n",
       "      <td>0.0</td>\n",
       "      <td>0.0</td>\n",
       "      <td>0.0</td>\n",
       "      <td>0.266846</td>\n",
       "    </tr>\n",
       "  </tbody>\n",
       "</table>\n",
       "</div>"
      ],
      "text/plain": [
       "          date_block_num  shop_id  item_id  item_cnt_month        ID  \\\n",
       "11098655              34       45    18454             0.0  214195.0   \n",
       "11098656              34       45    16188             0.0  214196.0   \n",
       "11098657              34       45    15757             0.0  214197.0   \n",
       "11098658              34       45    19648             0.0  214198.0   \n",
       "11098659              34       45      969             0.0  214199.0   \n",
       "\n",
       "          city_code  item_category_id  type_code  subtype_code  \\\n",
       "11098655         20                55         13             4   \n",
       "11098656         20                64         14            44   \n",
       "11098657         20                55         13             4   \n",
       "11098658         20                40         11             6   \n",
       "11098659         20                37         11             1   \n",
       "\n",
       "          item_cnt_month_lag_1  item_cnt_month_lag_2  item_cnt_month_lag_3  \\\n",
       "11098655                   1.0                   0.0                   0.0   \n",
       "11098656                   0.0                   0.0                   NaN   \n",
       "11098657                   0.0                   0.0                   0.0   \n",
       "11098658                   0.0                   0.0                   0.0   \n",
       "11098659                   0.0                   0.0                   0.0   \n",
       "\n",
       "          item_cnt_month_lag_6  item_cnt_month_lag_12  date_avg_item_cnt  \\\n",
       "11098655                   0.0                    NaN                0.0   \n",
       "11098656                   NaN                    NaN                0.0   \n",
       "11098657                   0.0                    0.0                0.0   \n",
       "11098658                   0.0                    NaN                0.0   \n",
       "11098659                   0.0                    0.0                0.0   \n",
       "\n",
       "          date_avg_item_cnt_lag_1  \n",
       "11098655                 0.266846  \n",
       "11098656                 0.266846  \n",
       "11098657                 0.266846  \n",
       "11098658                 0.266846  \n",
       "11098659                 0.266846  "
      ]
     },
<<<<<<< HEAD
     "execution_count": 80,
=======
     "execution_count": 174,
>>>>>>> 968a5130d0bc3e366a0160ca2555280b9ef6af04
     "metadata": {},
     "output_type": "execute_result"
    }
   ],
   "source": [
    "matrix.tail()"
   ]
  },
  {
   "cell_type": "code",
<<<<<<< HEAD
   "execution_count": 81,
=======
   "execution_count": 175,
>>>>>>> 968a5130d0bc3e366a0160ca2555280b9ef6af04
   "metadata": {
    "scrolled": true
   },
   "outputs": [
    {
     "data": {
      "text/html": [
       "<div>\n",
       "<style scoped>\n",
       "    .dataframe tbody tr th:only-of-type {\n",
       "        vertical-align: middle;\n",
       "    }\n",
       "\n",
       "    .dataframe tbody tr th {\n",
       "        vertical-align: top;\n",
       "    }\n",
       "\n",
       "    .dataframe thead th {\n",
       "        text-align: right;\n",
       "    }\n",
       "</style>\n",
       "<table border=\"1\" class=\"dataframe\">\n",
       "  <thead>\n",
       "    <tr style=\"text-align: right;\">\n",
       "      <th></th>\n",
       "      <th>date_block_num</th>\n",
       "      <th>shop_id</th>\n",
       "      <th>item_id</th>\n",
       "      <th>item_cnt_month</th>\n",
       "      <th>ID</th>\n",
       "      <th>city_code</th>\n",
       "      <th>item_category_id</th>\n",
       "      <th>type_code</th>\n",
       "      <th>subtype_code</th>\n",
       "      <th>item_cnt_month_lag_1</th>\n",
       "      <th>item_cnt_month_lag_2</th>\n",
       "      <th>item_cnt_month_lag_3</th>\n",
       "      <th>item_cnt_month_lag_6</th>\n",
       "      <th>item_cnt_month_lag_12</th>\n",
       "      <th>date_avg_item_cnt_lag_1</th>\n",
       "    </tr>\n",
       "  </thead>\n",
       "  <tbody>\n",
       "    <tr>\n",
       "      <th>11098655</th>\n",
       "      <td>34</td>\n",
       "      <td>45</td>\n",
       "      <td>18454</td>\n",
       "      <td>0.0</td>\n",
       "      <td>214195.0</td>\n",
       "      <td>20</td>\n",
       "      <td>55</td>\n",
       "      <td>13</td>\n",
       "      <td>4</td>\n",
       "      <td>1.0</td>\n",
       "      <td>0.0</td>\n",
       "      <td>0.0</td>\n",
       "      <td>0.0</td>\n",
       "      <td>NaN</td>\n",
       "      <td>0.266846</td>\n",
       "    </tr>\n",
       "    <tr>\n",
       "      <th>11098656</th>\n",
       "      <td>34</td>\n",
       "      <td>45</td>\n",
       "      <td>16188</td>\n",
       "      <td>0.0</td>\n",
       "      <td>214196.0</td>\n",
       "      <td>20</td>\n",
       "      <td>64</td>\n",
       "      <td>14</td>\n",
       "      <td>44</td>\n",
       "      <td>0.0</td>\n",
       "      <td>0.0</td>\n",
       "      <td>NaN</td>\n",
       "      <td>NaN</td>\n",
       "      <td>NaN</td>\n",
       "      <td>0.266846</td>\n",
       "    </tr>\n",
       "    <tr>\n",
       "      <th>11098657</th>\n",
       "      <td>34</td>\n",
       "      <td>45</td>\n",
       "      <td>15757</td>\n",
       "      <td>0.0</td>\n",
       "      <td>214197.0</td>\n",
       "      <td>20</td>\n",
       "      <td>55</td>\n",
       "      <td>13</td>\n",
       "      <td>4</td>\n",
       "      <td>0.0</td>\n",
       "      <td>0.0</td>\n",
       "      <td>0.0</td>\n",
       "      <td>0.0</td>\n",
       "      <td>0.0</td>\n",
       "      <td>0.266846</td>\n",
       "    </tr>\n",
       "    <tr>\n",
       "      <th>11098658</th>\n",
       "      <td>34</td>\n",
       "      <td>45</td>\n",
       "      <td>19648</td>\n",
       "      <td>0.0</td>\n",
       "      <td>214198.0</td>\n",
       "      <td>20</td>\n",
       "      <td>40</td>\n",
       "      <td>11</td>\n",
       "      <td>6</td>\n",
       "      <td>0.0</td>\n",
       "      <td>0.0</td>\n",
       "      <td>0.0</td>\n",
       "      <td>0.0</td>\n",
       "      <td>NaN</td>\n",
       "      <td>0.266846</td>\n",
       "    </tr>\n",
       "    <tr>\n",
       "      <th>11098659</th>\n",
       "      <td>34</td>\n",
       "      <td>45</td>\n",
       "      <td>969</td>\n",
       "      <td>0.0</td>\n",
       "      <td>214199.0</td>\n",
       "      <td>20</td>\n",
       "      <td>37</td>\n",
       "      <td>11</td>\n",
       "      <td>1</td>\n",
       "      <td>0.0</td>\n",
       "      <td>0.0</td>\n",
       "      <td>0.0</td>\n",
       "      <td>0.0</td>\n",
       "      <td>0.0</td>\n",
       "      <td>0.266846</td>\n",
       "    </tr>\n",
       "  </tbody>\n",
       "</table>\n",
       "</div>"
      ],
      "text/plain": [
       "          date_block_num  shop_id  item_id  item_cnt_month        ID  \\\n",
       "11098655              34       45    18454             0.0  214195.0   \n",
       "11098656              34       45    16188             0.0  214196.0   \n",
       "11098657              34       45    15757             0.0  214197.0   \n",
       "11098658              34       45    19648             0.0  214198.0   \n",
       "11098659              34       45      969             0.0  214199.0   \n",
       "\n",
       "          city_code  item_category_id  type_code  subtype_code  \\\n",
       "11098655         20                55         13             4   \n",
       "11098656         20                64         14            44   \n",
       "11098657         20                55         13             4   \n",
       "11098658         20                40         11             6   \n",
       "11098659         20                37         11             1   \n",
       "\n",
       "          item_cnt_month_lag_1  item_cnt_month_lag_2  item_cnt_month_lag_3  \\\n",
       "11098655                   1.0                   0.0                   0.0   \n",
       "11098656                   0.0                   0.0                   NaN   \n",
       "11098657                   0.0                   0.0                   0.0   \n",
       "11098658                   0.0                   0.0                   0.0   \n",
       "11098659                   0.0                   0.0                   0.0   \n",
       "\n",
       "          item_cnt_month_lag_6  item_cnt_month_lag_12  date_avg_item_cnt_lag_1  \n",
       "11098655                   0.0                    NaN                 0.266846  \n",
       "11098656                   NaN                    NaN                 0.266846  \n",
       "11098657                   0.0                    0.0                 0.266846  \n",
       "11098658                   0.0                    NaN                 0.266846  \n",
       "11098659                   0.0                    0.0                 0.266846  "
      ]
     },
<<<<<<< HEAD
     "execution_count": 81,
=======
     "execution_count": 175,
>>>>>>> 968a5130d0bc3e366a0160ca2555280b9ef6af04
     "metadata": {},
     "output_type": "execute_result"
    }
   ],
   "source": [
    "matrix.drop(['date_avg_item_cnt'], axis=1, inplace=True)\n",
    "matrix.tail()"
   ]
  },
  {
   "cell_type": "markdown",
   "metadata": {},
   "source": [
    "#### 여러가지 조합으로 lag 추가하기"
   ]
  },
  {
   "cell_type": "markdown",
   "metadata": {},
   "source": [
    "matrix에 월별 item별 평균 판매 수량(date_item_avg_item_cnt) lag 추가하기"
   ]
  },
  {
   "cell_type": "code",
<<<<<<< HEAD
   "execution_count": 82,
=======
   "execution_count": 176,
>>>>>>> 968a5130d0bc3e366a0160ca2555280b9ef6af04
   "metadata": {},
   "outputs": [],
   "source": [
    "group = matrix.groupby(['date_block_num', 'item_id']).agg({'item_cnt_month': ['mean']})\n",
    "group.columns = ['date_item_avg_item_cnt']\n",
    "group.reset_index(inplace=True)\n",
    "\n",
    "matrix = pd.merge(matrix, group, on=['date_block_num', 'item_id'], how='left')\n",
    "matrix['date_item_avg_item_cnt'] = matrix['date_item_avg_item_cnt'].astype(np.float16)\n",
    "matrix = lag_feature(matrix, [1,2,3,6,12], 'date_item_avg_item_cnt')\n",
    "matrix.drop(['date_item_avg_item_cnt'], axis=1, inplace=True)"
   ]
  },
  {
   "cell_type": "markdown",
   "metadata": {},
   "source": [
    "matrix에 월별, shop_id별 평균 판매 수량(date_shop_avg_item_cnt) lag 추가하기"
   ]
  },
  {
   "cell_type": "code",
<<<<<<< HEAD
   "execution_count": 83,
=======
   "execution_count": null,
>>>>>>> 968a5130d0bc3e366a0160ca2555280b9ef6af04
   "metadata": {},
   "outputs": [],
   "source": [
    "group = matrix.groupby(['date_block_num', 'shop_id']).agg({'item_cnt_month': ['mean']})\n",
    "group.columns = [ 'date_shop_avg_item_cnt' ]\n",
    "group.reset_index(inplace=True)\n",
    "\n",
    "matrix = pd.merge(matrix, group, on=['date_block_num','shop_id'], how='left')\n",
    "matrix['date_shop_avg_item_cnt'] = matrix['date_shop_avg_item_cnt'].astype(np.float16)\n",
    "matrix = lag_feature(matrix, [1,2,3,6,12], 'date_shop_avg_item_cnt')\n",
    "matrix.drop(['date_shop_avg_item_cnt'], axis=1, inplace=True)"
   ]
  },
  {
   "cell_type": "markdown",
   "metadata": {},
   "source": [
    "matrix에 월별 category별 평균 판매 수량(date_cat_avg_item_cnt) lag 추가하기"
   ]
  },
  {
   "cell_type": "code",
<<<<<<< HEAD
   "execution_count": 84,
=======
   "execution_count": null,
>>>>>>> 968a5130d0bc3e366a0160ca2555280b9ef6af04
   "metadata": {},
   "outputs": [],
   "source": [
    "group = matrix.groupby(['date_block_num', 'item_category_id']).agg({'item_cnt_month': ['mean']})\n",
    "group.columns = ['date_cat_avg_item_cnt']\n",
    "group.reset_index(inplace=True)\n",
    "\n",
    "matrix = pd.merge(matrix, group, on=['date_block_num', 'item_category_id'], how='left')\n",
    "matrix['date_cat_avg_item_cnt'] = matrix['date_cat_avg_item_cnt'].astype(np.float16)\n",
    "matrix = lag_feature(matrix, [1], 'date_cat_avg_item_cnt')\n",
    "matrix.drop(['date_cat_avg_item_cnt'], axis=1, inplace=True)"
   ]
  },
  {
   "cell_type": "markdown",
   "metadata": {},
   "source": [
    "matrix에 월별 shop별, category별 평균 판매 수량(date_shop_cat_avg_item_cnt) lag 추가하기"
   ]
  },
  {
   "cell_type": "code",
<<<<<<< HEAD
   "execution_count": 85,
=======
   "execution_count": null,
>>>>>>> 968a5130d0bc3e366a0160ca2555280b9ef6af04
   "metadata": {},
   "outputs": [],
   "source": [
    "group = matrix.groupby(['date_block_num', 'shop_id', 'item_category_id']).agg({'item_cnt_month': ['mean']})\n",
    "group.columns = ['date_shop_cat_avg_item_cnt']\n",
    "group.reset_index(inplace=True)\n",
    "\n",
    "matrix = pd.merge(matrix, group, on=['date_block_num', 'shop_id', 'item_category_id'], how='left')\n",
    "matrix['date_shop_cat_avg_item_cnt'] = matrix['date_shop_cat_avg_item_cnt'].astype(np.float16)\n",
    "matrix = lag_feature(matrix, [1], 'date_shop_cat_avg_item_cnt')\n",
    "matrix.drop(['date_shop_cat_avg_item_cnt'], axis=1, inplace=True)"
   ]
  },
  {
   "cell_type": "markdown",
   "metadata": {},
   "source": [
    "matrix에 월별 shop별, type_code별 평균 판매 수량(date_shop_type_avg_item_cnt) lag 추가하기"
   ]
  },
  {
   "cell_type": "code",
<<<<<<< HEAD
   "execution_count": 86,
=======
   "execution_count": null,
>>>>>>> 968a5130d0bc3e366a0160ca2555280b9ef6af04
   "metadata": {},
   "outputs": [],
   "source": [
    "group = matrix.groupby(['date_block_num', 'shop_id', 'type_code']).agg({'item_cnt_month': ['mean']})\n",
    "group.columns = ['date_shop_type_avg_item_cnt']\n",
    "group.reset_index(inplace=True)\n",
    "\n",
    "matrix = pd.merge(matrix, group, on=['date_block_num', 'shop_id', 'type_code'], how='left')\n",
    "matrix['date_shop_type_avg_item_cnt'] = matrix['date_shop_type_avg_item_cnt'].astype(np.float16)\n",
    "matrix = lag_feature(matrix, [1], 'date_shop_type_avg_item_cnt')\n",
    "matrix.drop(['date_shop_type_avg_item_cnt'], axis=1, inplace=True)"
   ]
  },
  {
   "cell_type": "markdown",
   "metadata": {},
   "source": [
    "matrix에 월별 shop별, subtype_code별 평균 판매 수량(date_shop_subtype_avg_item_cnt) lag 추가하기"
   ]
  },
  {
   "cell_type": "code",
<<<<<<< HEAD
   "execution_count": 87,
=======
   "execution_count": null,
>>>>>>> 968a5130d0bc3e366a0160ca2555280b9ef6af04
   "metadata": {},
   "outputs": [],
   "source": [
    "group = matrix.groupby(['date_block_num', 'shop_id', 'subtype_code']).agg({'item_cnt_month': ['mean']})\n",
    "group.columns = ['date_shop_subtype_avg_item_cnt']\n",
    "group.reset_index(inplace=True)\n",
    "\n",
    "matrix = pd.merge(matrix, group, on=['date_block_num', 'shop_id', 'subtype_code'], how='left')\n",
    "matrix['date_shop_subtype_avg_item_cnt'] = matrix['date_shop_subtype_avg_item_cnt'].astype(np.float16)\n",
    "matrix = lag_feature(matrix, [1], 'date_shop_subtype_avg_item_cnt')\n",
    "matrix.drop(['date_shop_subtype_avg_item_cnt'], axis=1, inplace=True)"
   ]
  },
  {
   "cell_type": "markdown",
   "metadata": {},
   "source": [
    "matrix에 월별 city_code별 평균 판매 수량(date_city_avg_item_cnt) lag 추가하기"
   ]
  },
  {
   "cell_type": "code",
<<<<<<< HEAD
   "execution_count": 88,
=======
   "execution_count": null,
>>>>>>> 968a5130d0bc3e366a0160ca2555280b9ef6af04
   "metadata": {},
   "outputs": [],
   "source": [
    "group = matrix.groupby(['date_block_num', 'city_code']).agg({'item_cnt_month': ['mean']})\n",
    "group.columns = [ 'date_city_avg_item_cnt' ]\n",
    "group.reset_index(inplace=True)\n",
    "\n",
    "matrix = pd.merge(matrix, group, on=['date_block_num', 'city_code'], how='left')\n",
    "matrix['date_city_avg_item_cnt'] = matrix['date_city_avg_item_cnt'].astype(np.float16)\n",
    "matrix = lag_feature(matrix, [1], 'date_city_avg_item_cnt')\n",
    "matrix.drop(['date_city_avg_item_cnt'], axis=1, inplace=True)"
   ]
  },
  {
   "cell_type": "markdown",
   "metadata": {},
   "source": [
    "matrix에 월별 item별, city_code별 평균 판매 수량(date_item_city_avg_item_cnt) lag 추가하기"
   ]
  },
  {
   "cell_type": "code",
<<<<<<< HEAD
   "execution_count": 89,
=======
   "execution_count": null,
>>>>>>> 968a5130d0bc3e366a0160ca2555280b9ef6af04
   "metadata": {},
   "outputs": [],
   "source": [
    "group = matrix.groupby(['date_block_num', 'item_id', 'city_code']).agg({'item_cnt_month': ['mean']})\n",
    "group.columns = [ 'date_item_city_avg_item_cnt' ]\n",
    "group.reset_index(inplace=True)\n",
    "\n",
    "matrix = pd.merge(matrix, group, on=['date_block_num', 'item_id', 'city_code'], how='left')\n",
    "matrix['date_item_city_avg_item_cnt'] = matrix['date_item_city_avg_item_cnt'].astype(np.float16)\n",
    "matrix = lag_feature(matrix, [1], 'date_item_city_avg_item_cnt')\n",
    "matrix.drop(['date_item_city_avg_item_cnt'], axis=1, inplace=True)"
   ]
  },
  {
   "cell_type": "markdown",
   "metadata": {},
   "source": [
    "matrix에 월별 type_code별 평균 판매 수량(date_type_avg_item_cnt) lag 추가하기"
   ]
  },
  {
   "cell_type": "code",
<<<<<<< HEAD
   "execution_count": 90,
=======
   "execution_count": null,
>>>>>>> 968a5130d0bc3e366a0160ca2555280b9ef6af04
   "metadata": {},
   "outputs": [],
   "source": [
    "group = matrix.groupby(['date_block_num', 'type_code']).agg({'item_cnt_month': ['mean']})\n",
    "group.columns = [ 'date_type_avg_item_cnt' ]\n",
    "group.reset_index(inplace=True)\n",
    "\n",
    "matrix = pd.merge(matrix, group, on=['date_block_num', 'type_code'], how='left')\n",
    "matrix['date_type_avg_item_cnt'] = matrix['date_type_avg_item_cnt'].astype(np.float16)\n",
    "matrix = lag_feature(matrix, [1], 'date_type_avg_item_cnt')\n",
    "matrix.drop(['date_type_avg_item_cnt'], axis=1, inplace=True)"
   ]
  },
  {
   "cell_type": "markdown",
   "metadata": {},
   "source": [
    "matrix에 월별 subtype_code별 평균 판매 수량(date_subtype_avg_item_cnt) lag 추가하기"
   ]
  },
  {
   "cell_type": "code",
<<<<<<< HEAD
   "execution_count": 91,
=======
   "execution_count": null,
>>>>>>> 968a5130d0bc3e366a0160ca2555280b9ef6af04
   "metadata": {},
   "outputs": [],
   "source": [
    "group = matrix.groupby(['date_block_num', 'subtype_code']).agg({'item_cnt_month': ['mean']})\n",
    "group.columns = [ 'date_subtype_avg_item_cnt' ]\n",
    "group.reset_index(inplace=True)\n",
    "\n",
    "matrix = pd.merge(matrix, group, on=['date_block_num', 'subtype_code'], how='left')\n",
    "matrix['date_subtype_avg_item_cnt'] = matrix['date_subtype_avg_item_cnt'].astype(np.float16)\n",
    "matrix = lag_feature(matrix, [1], 'date_subtype_avg_item_cnt')\n",
    "matrix.drop(['date_subtype_avg_item_cnt'], axis=1, inplace=True)"
   ]
  },
  {
   "cell_type": "markdown",
   "metadata": {},
   "source": [
    "### Trend Features\n",
    "지난 6개월 간의 가격 변동폭을 살펴본다"
   ]
  },
  {
   "cell_type": "markdown",
   "metadata": {},
   "source": [
    "Matrix에 item_id별 평균 가격 추가"
   ]
  },
  {
   "cell_type": "code",
<<<<<<< HEAD
   "execution_count": 92,
=======
   "execution_count": null,
>>>>>>> 968a5130d0bc3e366a0160ca2555280b9ef6af04
   "metadata": {
    "scrolled": true
   },
   "outputs": [],
   "source": [
    "group = df_train.groupby(['item_id']).agg({'item_price': ['mean']})\n",
    "group.columns = ['item_avg_item_price']\n",
    "group.reset_index(inplace=True)\n",
    "matrix = pd.merge(matrix, group, on=['item_id'], how='left')\n",
    "matrix['item_avg_item_price'] = matrix['item_avg_item_price'].astype(np.float16)"
   ]
  },
  {
   "cell_type": "markdown",
   "metadata": {},
   "source": [
    "Matrix에 월별 item_id별 평균 가격 추가"
   ]
  },
  {
   "cell_type": "code",
<<<<<<< HEAD
   "execution_count": 93,
=======
   "execution_count": null,
>>>>>>> 968a5130d0bc3e366a0160ca2555280b9ef6af04
   "metadata": {},
   "outputs": [],
   "source": [
    "group = df_train.groupby(['date_block_num', 'item_id']).agg({'item_price': ['mean']})\n",
    "group.columns = ['date_item_avg_item_price']\n",
    "group.reset_index(inplace=True)\n",
    "matrix = pd.merge(matrix, group, on=['date_block_num', 'item_id'], how='left')\n",
    "matrix['date_item_avg_item_price'] = matrix['date_item_avg_item_price'].astype(np.float16)"
   ]
  },
  {
   "cell_type": "markdown",
   "metadata": {},
   "source": [
    "Matrix에 해당 월별 item_id별 평균 가격이 어떤 가격 트렌드를 가지고 있는지 (delta_price_lag) 구하기"
   ]
  },
  {
   "cell_type": "code",
<<<<<<< HEAD
   "execution_count": 94,
=======
   "execution_count": null,
>>>>>>> 968a5130d0bc3e366a0160ca2555280b9ef6af04
   "metadata": {},
   "outputs": [],
   "source": [
    "lags = [1, 2, 3, 4, 5, 6]\n",
    "matrix = lag_feature(matrix, lags, 'date_item_avg_item_price')\n",
    "for lag in lags:\n",
    "    matrix['delta_price_lag_'+str(lag)] = \\\n",
    "    (matrix['date_item_avg_item_price_lag_'+str(lag)] - matrix['item_avg_item_price']) / matrix['item_avg_item_price']"
   ]
  },
  {
   "cell_type": "code",
<<<<<<< HEAD
   "execution_count": 95,
=======
   "execution_count": null,
>>>>>>> 968a5130d0bc3e366a0160ca2555280b9ef6af04
   "metadata": {},
   "outputs": [],
   "source": [
    "def select_trend(row):\n",
    "    for lag in lags:\n",
    "        if row['delta_price_lag_'+str(lag)]:\n",
    "            return row['delta_price_lag_'+str(lag)]\n",
    "    return 0\n",
    "matrix['delta_price_lag'] = matrix.apply(select_trend, axis=1)\n",
    "matrix['delta_price_lag'] = matrix['delta_price_lag'].astype(np.float16)\n",
    "matrix['delta_price_lag'].fillna(0, inplace=True)"
   ]
  },
  {
   "cell_type": "markdown",
   "metadata": {},
   "source": [
    "delta_price_lag를 구했으므로 필요없는 feature는 drop"
   ]
  },
  {
   "cell_type": "code",
<<<<<<< HEAD
   "execution_count": 96,
=======
   "execution_count": null,
>>>>>>> 968a5130d0bc3e366a0160ca2555280b9ef6af04
   "metadata": {},
   "outputs": [],
   "source": [
    "features_to_drop = ['item_avg_item_price', 'date_item_avg_item_price']\n",
    "for i in lags:\n",
    "    features_to_drop += ['date_item_avg_item_price_lag_'+str(i)]\n",
    "    features_to_drop += ['delta_price_lag_'+str(i)]"
   ]
  },
  {
   "cell_type": "code",
<<<<<<< HEAD
   "execution_count": 97,
=======
   "execution_count": null,
>>>>>>> 968a5130d0bc3e366a0160ca2555280b9ef6af04
   "metadata": {},
   "outputs": [],
   "source": [
    "matrix.drop(features_to_drop, axis=1, inplace=True)"
   ]
  },
  {
   "cell_type": "markdown",
   "metadata": {},
   "source": [
    "shop revenue trend를 살펴본다"
   ]
  },
  {
   "cell_type": "code",
<<<<<<< HEAD
   "execution_count": 98,
=======
   "execution_count": null,
>>>>>>> 968a5130d0bc3e366a0160ca2555280b9ef6af04
   "metadata": {},
   "outputs": [],
   "source": [
    "group = df_train.groupby(['date_block_num', 'shop_id']).agg({'revenue': ['sum']})\n",
    "group.columns = ['date_shop_revenue']\n",
    "group.reset_index(inplace=True)\n",
    "matrix = pd.merge(matrix, group, on=['date_block_num', 'shop_id'], how='left')\n",
    "matrix['date_shop_revenue'] = matrix['date_shop_revenue'].astype(np.float32)"
   ]
  },
  {
   "cell_type": "code",
<<<<<<< HEAD
   "execution_count": 99,
=======
   "execution_count": null,
>>>>>>> 968a5130d0bc3e366a0160ca2555280b9ef6af04
   "metadata": {},
   "outputs": [],
   "source": [
    "group = group.groupby(['shop_id']).agg({'date_shop_revenue': ['mean']})\n",
    "group.columns = ['shop_avg_revenue']\n",
    "group.reset_index(inplace=True)"
   ]
  },
  {
   "cell_type": "code",
<<<<<<< HEAD
   "execution_count": 100,
=======
   "execution_count": null,
>>>>>>> 968a5130d0bc3e366a0160ca2555280b9ef6af04
   "metadata": {},
   "outputs": [],
   "source": [
    "matrix = pd.merge(matrix, group, on=['shop_id'], how='left')\n",
    "matrix['shop_avg_revenue'] = matrix['shop_avg_revenue'].astype(np.float32)"
   ]
  },
  {
   "cell_type": "code",
<<<<<<< HEAD
   "execution_count": 101,
=======
   "execution_count": null,
>>>>>>> 968a5130d0bc3e366a0160ca2555280b9ef6af04
   "metadata": {},
   "outputs": [],
   "source": [
    "matrix['delta_revenue'] = (matrix['date_shop_revenue'] - matrix['shop_avg_revenue']) / matrix['shop_avg_revenue']\n",
    "matrix['delta_revenue'] = matrix['delta_revenue'].astype(np.float16)"
   ]
  },
  {
   "cell_type": "code",
<<<<<<< HEAD
   "execution_count": 102,
=======
   "execution_count": null,
>>>>>>> 968a5130d0bc3e366a0160ca2555280b9ef6af04
   "metadata": {},
   "outputs": [],
   "source": [
    "matrix = lag_feature(matrix, [1], 'delta_revenue')"
   ]
  },
  {
   "cell_type": "code",
<<<<<<< HEAD
   "execution_count": 103,
=======
   "execution_count": null,
>>>>>>> 968a5130d0bc3e366a0160ca2555280b9ef6af04
   "metadata": {},
   "outputs": [],
   "source": [
    "matrix.drop(['date_shop_revenue', 'shop_avg_revenue', 'delta_revenue'], axis=1, inplace=True)"
   ]
  },
  {
   "cell_type": "markdown",
   "metadata": {},
   "source": [
    "### Special Features"
   ]
  },
  {
   "cell_type": "markdown",
   "metadata": {},
   "source": [
    "date_block_num를 기반으로 month를 도출한다"
   ]
  },
  {
   "cell_type": "code",
<<<<<<< HEAD
   "execution_count": 104,
=======
   "execution_count": null,
>>>>>>> 968a5130d0bc3e366a0160ca2555280b9ef6af04
   "metadata": {},
   "outputs": [],
   "source": [
    "matrix['month'] = matrix['date_block_num'] % 12"
   ]
  },
  {
   "cell_type": "markdown",
   "metadata": {},
   "source": [
    "월별 일수를 matrix에 추가한다"
   ]
  },
  {
   "cell_type": "code",
<<<<<<< HEAD
   "execution_count": 105,
=======
   "execution_count": null,
>>>>>>> 968a5130d0bc3e366a0160ca2555280b9ef6af04
   "metadata": {},
   "outputs": [],
   "source": [
    "days = pd.Series([31, 28, 31, 30, 31, 30, 31, 31, 30, 31, 30, 31])\n",
    "matrix['days'] = matrix['month'].map(days).astype(np.int8)"
   ]
  },
  {
   "cell_type": "code",
<<<<<<< HEAD
   "execution_count": 106,
   "metadata": {},
   "outputs": [
    {
     "data": {
      "text/html": [
       "<div>\n",
       "<style scoped>\n",
       "    .dataframe tbody tr th:only-of-type {\n",
       "        vertical-align: middle;\n",
       "    }\n",
       "\n",
       "    .dataframe tbody tr th {\n",
       "        vertical-align: top;\n",
       "    }\n",
       "\n",
       "    .dataframe thead th {\n",
       "        text-align: right;\n",
       "    }\n",
       "</style>\n",
       "<table border=\"1\" class=\"dataframe\">\n",
       "  <thead>\n",
       "    <tr style=\"text-align: right;\">\n",
       "      <th></th>\n",
       "      <th>date_block_num</th>\n",
       "      <th>shop_id</th>\n",
       "      <th>item_id</th>\n",
       "      <th>item_cnt_month</th>\n",
       "      <th>ID</th>\n",
       "      <th>city_code</th>\n",
       "      <th>item_category_id</th>\n",
       "      <th>type_code</th>\n",
       "      <th>subtype_code</th>\n",
       "      <th>item_cnt_month_lag_1</th>\n",
       "      <th>...</th>\n",
       "      <th>date_shop_type_avg_item_cnt_lag_1</th>\n",
       "      <th>date_shop_subtype_avg_item_cnt_lag_1</th>\n",
       "      <th>date_city_avg_item_cnt_lag_1</th>\n",
       "      <th>date_item_city_avg_item_cnt_lag_1</th>\n",
       "      <th>date_type_avg_item_cnt_lag_1</th>\n",
       "      <th>date_subtype_avg_item_cnt_lag_1</th>\n",
       "      <th>delta_price_lag</th>\n",
       "      <th>delta_revenue_lag_1</th>\n",
       "      <th>month</th>\n",
       "      <th>days</th>\n",
       "    </tr>\n",
       "  </thead>\n",
       "  <tbody>\n",
       "    <tr>\n",
       "      <th>0</th>\n",
       "      <td>0</td>\n",
       "      <td>0</td>\n",
       "      <td>19</td>\n",
       "      <td>0.0</td>\n",
       "      <td>0.0</td>\n",
       "      <td>29</td>\n",
       "      <td>40</td>\n",
       "      <td>11</td>\n",
       "      <td>6</td>\n",
       "      <td>NaN</td>\n",
       "      <td>...</td>\n",
       "      <td>NaN</td>\n",
       "      <td>NaN</td>\n",
       "      <td>NaN</td>\n",
       "      <td>NaN</td>\n",
       "      <td>NaN</td>\n",
       "      <td>NaN</td>\n",
       "      <td>0.0</td>\n",
       "      <td>NaN</td>\n",
       "      <td>0</td>\n",
       "      <td>31</td>\n",
       "    </tr>\n",
       "    <tr>\n",
       "      <th>1</th>\n",
       "      <td>0</td>\n",
       "      <td>0</td>\n",
       "      <td>27</td>\n",
       "      <td>0.0</td>\n",
       "      <td>0.0</td>\n",
       "      <td>29</td>\n",
       "      <td>19</td>\n",
       "      <td>5</td>\n",
       "      <td>12</td>\n",
       "      <td>NaN</td>\n",
       "      <td>...</td>\n",
       "      <td>NaN</td>\n",
       "      <td>NaN</td>\n",
       "      <td>NaN</td>\n",
       "      <td>NaN</td>\n",
       "      <td>NaN</td>\n",
       "      <td>NaN</td>\n",
       "      <td>0.0</td>\n",
       "      <td>NaN</td>\n",
       "      <td>0</td>\n",
       "      <td>31</td>\n",
       "    </tr>\n",
       "    <tr>\n",
       "      <th>2</th>\n",
       "      <td>0</td>\n",
       "      <td>0</td>\n",
       "      <td>28</td>\n",
       "      <td>0.0</td>\n",
       "      <td>0.0</td>\n",
       "      <td>29</td>\n",
       "      <td>30</td>\n",
       "      <td>8</td>\n",
       "      <td>57</td>\n",
       "      <td>NaN</td>\n",
       "      <td>...</td>\n",
       "      <td>NaN</td>\n",
       "      <td>NaN</td>\n",
       "      <td>NaN</td>\n",
       "      <td>NaN</td>\n",
       "      <td>NaN</td>\n",
       "      <td>NaN</td>\n",
       "      <td>0.0</td>\n",
       "      <td>NaN</td>\n",
       "      <td>0</td>\n",
       "      <td>31</td>\n",
       "    </tr>\n",
       "    <tr>\n",
       "      <th>3</th>\n",
       "      <td>0</td>\n",
       "      <td>0</td>\n",
       "      <td>29</td>\n",
       "      <td>0.0</td>\n",
       "      <td>0.0</td>\n",
       "      <td>29</td>\n",
       "      <td>23</td>\n",
       "      <td>5</td>\n",
       "      <td>18</td>\n",
       "      <td>NaN</td>\n",
       "      <td>...</td>\n",
       "      <td>NaN</td>\n",
       "      <td>NaN</td>\n",
       "      <td>NaN</td>\n",
       "      <td>NaN</td>\n",
       "      <td>NaN</td>\n",
       "      <td>NaN</td>\n",
       "      <td>0.0</td>\n",
       "      <td>NaN</td>\n",
       "      <td>0</td>\n",
       "      <td>31</td>\n",
       "    </tr>\n",
       "    <tr>\n",
       "      <th>4</th>\n",
       "      <td>0</td>\n",
       "      <td>0</td>\n",
       "      <td>32</td>\n",
       "      <td>6.0</td>\n",
       "      <td>0.0</td>\n",
       "      <td>29</td>\n",
       "      <td>40</td>\n",
       "      <td>11</td>\n",
       "      <td>6</td>\n",
       "      <td>NaN</td>\n",
       "      <td>...</td>\n",
       "      <td>NaN</td>\n",
       "      <td>NaN</td>\n",
       "      <td>NaN</td>\n",
       "      <td>NaN</td>\n",
       "      <td>NaN</td>\n",
       "      <td>NaN</td>\n",
       "      <td>0.0</td>\n",
       "      <td>NaN</td>\n",
       "      <td>0</td>\n",
       "      <td>31</td>\n",
       "    </tr>\n",
       "  </tbody>\n",
       "</table>\n",
       "<p>5 rows × 37 columns</p>\n",
       "</div>"
      ],
      "text/plain": [
       "   date_block_num  shop_id  item_id  item_cnt_month   ID  city_code  \\\n",
       "0               0        0       19             0.0  0.0         29   \n",
       "1               0        0       27             0.0  0.0         29   \n",
       "2               0        0       28             0.0  0.0         29   \n",
       "3               0        0       29             0.0  0.0         29   \n",
       "4               0        0       32             6.0  0.0         29   \n",
       "\n",
       "   item_category_id  type_code  subtype_code  item_cnt_month_lag_1  ...  \\\n",
       "0                40         11             6                   NaN  ...   \n",
       "1                19          5            12                   NaN  ...   \n",
       "2                30          8            57                   NaN  ...   \n",
       "3                23          5            18                   NaN  ...   \n",
       "4                40         11             6                   NaN  ...   \n",
       "\n",
       "   date_shop_type_avg_item_cnt_lag_1  date_shop_subtype_avg_item_cnt_lag_1  \\\n",
       "0                                NaN                                   NaN   \n",
       "1                                NaN                                   NaN   \n",
       "2                                NaN                                   NaN   \n",
       "3                                NaN                                   NaN   \n",
       "4                                NaN                                   NaN   \n",
       "\n",
       "   date_city_avg_item_cnt_lag_1  date_item_city_avg_item_cnt_lag_1  \\\n",
       "0                           NaN                                NaN   \n",
       "1                           NaN                                NaN   \n",
       "2                           NaN                                NaN   \n",
       "3                           NaN                                NaN   \n",
       "4                           NaN                                NaN   \n",
       "\n",
       "   date_type_avg_item_cnt_lag_1  date_subtype_avg_item_cnt_lag_1  \\\n",
       "0                           NaN                              NaN   \n",
       "1                           NaN                              NaN   \n",
       "2                           NaN                              NaN   \n",
       "3                           NaN                              NaN   \n",
       "4                           NaN                              NaN   \n",
       "\n",
       "   delta_price_lag  delta_revenue_lag_1  month  days  \n",
       "0              0.0                  NaN      0    31  \n",
       "1              0.0                  NaN      0    31  \n",
       "2              0.0                  NaN      0    31  \n",
       "3              0.0                  NaN      0    31  \n",
       "4              0.0                  NaN      0    31  \n",
       "\n",
       "[5 rows x 37 columns]"
      ]
     },
     "execution_count": 106,
     "metadata": {},
     "output_type": "execute_result"
    }
   ],
=======
   "execution_count": null,
   "metadata": {},
   "outputs": [],
>>>>>>> 968a5130d0bc3e366a0160ca2555280b9ef6af04
   "source": [
    "matrix.head()"
   ]
  },
  {
   "cell_type": "markdown",
   "metadata": {},
   "source": [
    "마지막 판매가 있고 나서부터 지난 개월 수 (shop-item pair별, item별)"
   ]
  },
  {
   "cell_type": "code",
<<<<<<< HEAD
   "execution_count": 107,
=======
   "execution_count": null,
>>>>>>> 968a5130d0bc3e366a0160ca2555280b9ef6af04
   "metadata": {},
   "outputs": [],
   "source": [
    "# shop-item pari별\n",
    "cache = {}\n",
    "matrix['item_shop_last_sale'] = -1\n",
    "matrix['item_shop_last_sale'] = matrix['item_shop_last_sale'].astype(np.int8)\n",
    "\n",
    "for index, row in matrix.iterrows():\n",
    "    key = str(row.item_id) + ' ' + str(row.shop_id)\n",
    "    if key not in cache:\n",
    "        if row.item_cnt_month != 0:\n",
    "            cache[key] = row.date_block_num\n",
    "    else:\n",
    "        last_date_block_num = cache[key]\n",
    "        matrix.at[index, 'item_shop_last_sale'] = row.date_block_num - last_date_block_num\n",
    "        cache[key] = row.date_block_num"
   ]
  },
  {
   "cell_type": "code",
<<<<<<< HEAD
   "execution_count": 108,
=======
   "execution_count": null,
>>>>>>> 968a5130d0bc3e366a0160ca2555280b9ef6af04
   "metadata": {},
   "outputs": [],
   "source": [
    "# item별\n",
    "cache = {}\n",
    "matrix['item_last_sale'] = -1\n",
    "matrix['item_last_sale'] = matrix['item_last_sale'].astype(np.int8)\n",
    "\n",
    "for index, row in matrix.iterrows():\n",
    "    key = row.item_id\n",
    "    if key not in cache:\n",
    "        if row.item_cnt_month != 0:\n",
    "            cache[key] = row.date_block_num\n",
    "    else:\n",
    "        last_date_block_num = cache[key]\n",
    "        if row.date_block_num > last_date_block_num:\n",
    "            matrix.at[index, 'item_last_sale'] = row.date_block_num - last_date_block_num\n",
    "            cache[key] = row.date_block_num"
   ]
  },
  {
   "cell_type": "markdown",
   "metadata": {},
   "source": [
    "첫번째 판매 후 지난 개월 수 (shop-item pair, item pair 별)"
   ]
  },
  {
   "cell_type": "code",
<<<<<<< HEAD
   "execution_count": 109,
   "metadata": {},
   "outputs": [
    {
     "data": {
      "text/plain": [
       "<pandas.core.groupby.generic.SeriesGroupBy object at 0x7f102b510fd0>"
      ]
     },
     "execution_count": 109,
     "metadata": {},
     "output_type": "execute_result"
    }
   ],
=======
   "execution_count": null,
   "metadata": {},
   "outputs": [],
>>>>>>> 968a5130d0bc3e366a0160ca2555280b9ef6af04
   "source": [
    "matrix.groupby(['item_id','shop_id'])['date_block_num']"
   ]
  },
  {
   "cell_type": "code",
<<<<<<< HEAD
   "execution_count": 110,
   "metadata": {},
   "outputs": [
    {
     "data": {
      "text/plain": [
       "0            0\n",
       "1            0\n",
       "2            0\n",
       "3            0\n",
       "4            0\n",
       "            ..\n",
       "11098655    11\n",
       "11098656     2\n",
       "11098657    34\n",
       "11098658    11\n",
       "11098659    17\n",
       "Name: date_block_num, Length: 11098660, dtype: int8"
      ]
     },
     "execution_count": 110,
     "metadata": {},
     "output_type": "execute_result"
    }
   ],
=======
   "execution_count": null,
   "metadata": {},
   "outputs": [],
>>>>>>> 968a5130d0bc3e366a0160ca2555280b9ef6af04
   "source": [
    "matrix['date_block_num'] - matrix.groupby(['item_id', 'shop_id'])['date_block_num'].transform('min')"
   ]
  },
  {
   "cell_type": "code",
<<<<<<< HEAD
   "execution_count": 111,
=======
   "execution_count": null,
>>>>>>> 968a5130d0bc3e366a0160ca2555280b9ef6af04
   "metadata": {},
   "outputs": [],
   "source": [
    "matrix['item_shop_first_sale'] = matrix['date_block_num'] - matrix.groupby(['item_id', 'shop_id'])['date_block_num'].transform('min')"
   ]
  },
  {
   "cell_type": "code",
<<<<<<< HEAD
   "execution_count": 112,
=======
   "execution_count": null,
>>>>>>> 968a5130d0bc3e366a0160ca2555280b9ef6af04
   "metadata": {},
   "outputs": [],
   "source": [
    "matrix['item_first_sale'] = matrix['date_block_num'] - matrix.groupby('item_id')['date_block_num'].transform('min')"
   ]
  },
  {
   "cell_type": "code",
<<<<<<< HEAD
   "execution_count": 113,
   "metadata": {},
   "outputs": [
    {
     "data": {
      "text/html": [
       "<div>\n",
       "<style scoped>\n",
       "    .dataframe tbody tr th:only-of-type {\n",
       "        vertical-align: middle;\n",
       "    }\n",
       "\n",
       "    .dataframe tbody tr th {\n",
       "        vertical-align: top;\n",
       "    }\n",
       "\n",
       "    .dataframe thead th {\n",
       "        text-align: right;\n",
       "    }\n",
       "</style>\n",
       "<table border=\"1\" class=\"dataframe\">\n",
       "  <thead>\n",
       "    <tr style=\"text-align: right;\">\n",
       "      <th></th>\n",
       "      <th>date_block_num</th>\n",
       "      <th>shop_id</th>\n",
       "      <th>item_id</th>\n",
       "      <th>item_cnt_month</th>\n",
       "      <th>ID</th>\n",
       "      <th>city_code</th>\n",
       "      <th>item_category_id</th>\n",
       "      <th>type_code</th>\n",
       "      <th>subtype_code</th>\n",
       "      <th>item_cnt_month_lag_1</th>\n",
       "      <th>...</th>\n",
       "      <th>date_type_avg_item_cnt_lag_1</th>\n",
       "      <th>date_subtype_avg_item_cnt_lag_1</th>\n",
       "      <th>delta_price_lag</th>\n",
       "      <th>delta_revenue_lag_1</th>\n",
       "      <th>month</th>\n",
       "      <th>days</th>\n",
       "      <th>item_shop_last_sale</th>\n",
       "      <th>item_last_sale</th>\n",
       "      <th>item_shop_first_sale</th>\n",
       "      <th>item_first_sale</th>\n",
       "    </tr>\n",
       "  </thead>\n",
       "  <tbody>\n",
       "    <tr>\n",
       "      <th>0</th>\n",
       "      <td>0</td>\n",
       "      <td>0</td>\n",
       "      <td>19</td>\n",
       "      <td>0.0</td>\n",
       "      <td>0.0</td>\n",
       "      <td>29</td>\n",
       "      <td>40</td>\n",
       "      <td>11</td>\n",
       "      <td>6</td>\n",
       "      <td>NaN</td>\n",
       "      <td>...</td>\n",
       "      <td>NaN</td>\n",
       "      <td>NaN</td>\n",
       "      <td>0.0</td>\n",
       "      <td>NaN</td>\n",
       "      <td>0</td>\n",
       "      <td>31</td>\n",
       "      <td>-1</td>\n",
       "      <td>-1</td>\n",
       "      <td>0</td>\n",
       "      <td>0</td>\n",
       "    </tr>\n",
       "    <tr>\n",
       "      <th>1</th>\n",
       "      <td>0</td>\n",
       "      <td>0</td>\n",
       "      <td>27</td>\n",
       "      <td>0.0</td>\n",
       "      <td>0.0</td>\n",
       "      <td>29</td>\n",
       "      <td>19</td>\n",
       "      <td>5</td>\n",
       "      <td>12</td>\n",
       "      <td>NaN</td>\n",
       "      <td>...</td>\n",
       "      <td>NaN</td>\n",
       "      <td>NaN</td>\n",
       "      <td>0.0</td>\n",
       "      <td>NaN</td>\n",
       "      <td>0</td>\n",
       "      <td>31</td>\n",
       "      <td>-1</td>\n",
       "      <td>-1</td>\n",
       "      <td>0</td>\n",
       "      <td>0</td>\n",
       "    </tr>\n",
       "    <tr>\n",
       "      <th>2</th>\n",
       "      <td>0</td>\n",
       "      <td>0</td>\n",
       "      <td>28</td>\n",
       "      <td>0.0</td>\n",
       "      <td>0.0</td>\n",
       "      <td>29</td>\n",
       "      <td>30</td>\n",
       "      <td>8</td>\n",
       "      <td>57</td>\n",
       "      <td>NaN</td>\n",
       "      <td>...</td>\n",
       "      <td>NaN</td>\n",
       "      <td>NaN</td>\n",
       "      <td>0.0</td>\n",
       "      <td>NaN</td>\n",
       "      <td>0</td>\n",
       "      <td>31</td>\n",
       "      <td>-1</td>\n",
       "      <td>-1</td>\n",
       "      <td>0</td>\n",
       "      <td>0</td>\n",
       "    </tr>\n",
       "    <tr>\n",
       "      <th>3</th>\n",
       "      <td>0</td>\n",
       "      <td>0</td>\n",
       "      <td>29</td>\n",
       "      <td>0.0</td>\n",
       "      <td>0.0</td>\n",
       "      <td>29</td>\n",
       "      <td>23</td>\n",
       "      <td>5</td>\n",
       "      <td>18</td>\n",
       "      <td>NaN</td>\n",
       "      <td>...</td>\n",
       "      <td>NaN</td>\n",
       "      <td>NaN</td>\n",
       "      <td>0.0</td>\n",
       "      <td>NaN</td>\n",
       "      <td>0</td>\n",
       "      <td>31</td>\n",
       "      <td>-1</td>\n",
       "      <td>-1</td>\n",
       "      <td>0</td>\n",
       "      <td>0</td>\n",
       "    </tr>\n",
       "    <tr>\n",
       "      <th>4</th>\n",
       "      <td>0</td>\n",
       "      <td>0</td>\n",
       "      <td>32</td>\n",
       "      <td>6.0</td>\n",
       "      <td>0.0</td>\n",
       "      <td>29</td>\n",
       "      <td>40</td>\n",
       "      <td>11</td>\n",
       "      <td>6</td>\n",
       "      <td>NaN</td>\n",
       "      <td>...</td>\n",
       "      <td>NaN</td>\n",
       "      <td>NaN</td>\n",
       "      <td>0.0</td>\n",
       "      <td>NaN</td>\n",
       "      <td>0</td>\n",
       "      <td>31</td>\n",
       "      <td>-1</td>\n",
       "      <td>-1</td>\n",
       "      <td>0</td>\n",
       "      <td>0</td>\n",
       "    </tr>\n",
       "  </tbody>\n",
       "</table>\n",
       "<p>5 rows × 41 columns</p>\n",
       "</div>"
      ],
      "text/plain": [
       "   date_block_num  shop_id  item_id  item_cnt_month   ID  city_code  \\\n",
       "0               0        0       19             0.0  0.0         29   \n",
       "1               0        0       27             0.0  0.0         29   \n",
       "2               0        0       28             0.0  0.0         29   \n",
       "3               0        0       29             0.0  0.0         29   \n",
       "4               0        0       32             6.0  0.0         29   \n",
       "\n",
       "   item_category_id  type_code  subtype_code  item_cnt_month_lag_1  ...  \\\n",
       "0                40         11             6                   NaN  ...   \n",
       "1                19          5            12                   NaN  ...   \n",
       "2                30          8            57                   NaN  ...   \n",
       "3                23          5            18                   NaN  ...   \n",
       "4                40         11             6                   NaN  ...   \n",
       "\n",
       "   date_type_avg_item_cnt_lag_1  date_subtype_avg_item_cnt_lag_1  \\\n",
       "0                           NaN                              NaN   \n",
       "1                           NaN                              NaN   \n",
       "2                           NaN                              NaN   \n",
       "3                           NaN                              NaN   \n",
       "4                           NaN                              NaN   \n",
       "\n",
       "   delta_price_lag  delta_revenue_lag_1  month  days  item_shop_last_sale  \\\n",
       "0              0.0                  NaN      0    31                   -1   \n",
       "1              0.0                  NaN      0    31                   -1   \n",
       "2              0.0                  NaN      0    31                   -1   \n",
       "3              0.0                  NaN      0    31                   -1   \n",
       "4              0.0                  NaN      0    31                   -1   \n",
       "\n",
       "   item_last_sale  item_shop_first_sale  item_first_sale  \n",
       "0              -1                     0                0  \n",
       "1              -1                     0                0  \n",
       "2              -1                     0                0  \n",
       "3              -1                     0                0  \n",
       "4              -1                     0                0  \n",
       "\n",
       "[5 rows x 41 columns]"
      ]
     },
     "execution_count": 113,
     "metadata": {},
     "output_type": "execute_result"
    }
   ],
=======
   "execution_count": null,
   "metadata": {},
   "outputs": [],
>>>>>>> 968a5130d0bc3e366a0160ca2555280b9ef6af04
   "source": [
    "matrix.head()"
   ]
  },
  {
   "cell_type": "markdown",
   "metadata": {},
   "source": [
    "### Final preparations"
   ]
  },
  {
   "cell_type": "markdown",
   "metadata": {},
   "source": [
    "lag를 12까지 사용했으므로 첫 12달은 drop한다"
   ]
  },
  {
   "cell_type": "code",
<<<<<<< HEAD
   "execution_count": 114,
=======
   "execution_count": null,
>>>>>>> 968a5130d0bc3e366a0160ca2555280b9ef6af04
   "metadata": {},
   "outputs": [],
   "source": [
    "matrix = matrix[matrix.date_block_num > 11]"
   ]
  },
  {
   "cell_type": "code",
<<<<<<< HEAD
   "execution_count": 115,
   "metadata": {},
   "outputs": [
    {
     "name": "stderr",
     "output_type": "stream",
     "text": [
      "/home/aiffel0042/anaconda3/envs/aiffel/lib/python3.7/site-packages/pandas/core/generic.py:6245: SettingWithCopyWarning: \n",
      "A value is trying to be set on a copy of a slice from a DataFrame\n",
      "\n",
      "See the caveats in the documentation: https://pandas.pydata.org/pandas-docs/stable/user_guide/indexing.html#returning-a-view-versus-a-copy\n",
      "  self._update_inplace(new_data)\n"
     ]
    }
   ],
=======
   "execution_count": null,
   "metadata": {},
   "outputs": [],
>>>>>>> 968a5130d0bc3e366a0160ca2555280b9ef6af04
   "source": [
    "def fill_na(df):\n",
    "    for col in df.columns:\n",
    "        if ('_lag_' in col) & (df[col].isnull().any()):\n",
    "            if ('item_cnt' in col):\n",
    "                df[col].fillna(0, inplace=True)\n",
    "    return df\n",
    "\n",
    "matrix = fill_na(matrix)"
   ]
  },
  {
   "cell_type": "code",
<<<<<<< HEAD
   "execution_count": 116,
   "metadata": {},
   "outputs": [
    {
     "data": {
      "text/plain": [
       "Index(['date_block_num', 'shop_id', 'item_id', 'item_cnt_month', 'ID',\n",
       "       'city_code', 'item_category_id', 'type_code', 'subtype_code',\n",
       "       'item_cnt_month_lag_1', 'item_cnt_month_lag_2', 'item_cnt_month_lag_3',\n",
       "       'item_cnt_month_lag_6', 'item_cnt_month_lag_12',\n",
       "       'date_avg_item_cnt_lag_1', 'date_item_avg_item_cnt_lag_1',\n",
       "       'date_item_avg_item_cnt_lag_2', 'date_item_avg_item_cnt_lag_3',\n",
       "       'date_item_avg_item_cnt_lag_6', 'date_item_avg_item_cnt_lag_12',\n",
       "       'date_shop_avg_item_cnt_lag_1', 'date_shop_avg_item_cnt_lag_2',\n",
       "       'date_shop_avg_item_cnt_lag_3', 'date_shop_avg_item_cnt_lag_6',\n",
       "       'date_shop_avg_item_cnt_lag_12', 'date_cat_avg_item_cnt_lag_1',\n",
       "       'date_shop_cat_avg_item_cnt_lag_1', 'date_shop_type_avg_item_cnt_lag_1',\n",
       "       'date_shop_subtype_avg_item_cnt_lag_1', 'date_city_avg_item_cnt_lag_1',\n",
       "       'date_item_city_avg_item_cnt_lag_1', 'date_type_avg_item_cnt_lag_1',\n",
       "       'date_subtype_avg_item_cnt_lag_1', 'delta_price_lag',\n",
       "       'delta_revenue_lag_1', 'month', 'days', 'item_shop_last_sale',\n",
       "       'item_last_sale', 'item_shop_first_sale', 'item_first_sale'],\n",
       "      dtype='object')"
      ]
     },
     "execution_count": 116,
     "metadata": {},
     "output_type": "execute_result"
    }
   ],
=======
   "execution_count": null,
   "metadata": {},
   "outputs": [],
>>>>>>> 968a5130d0bc3e366a0160ca2555280b9ef6af04
   "source": [
    "matrix.columns"
   ]
  },
  {
   "cell_type": "code",
<<<<<<< HEAD
   "execution_count": 117,
   "metadata": {},
   "outputs": [
    {
     "name": "stdout",
     "output_type": "stream",
     "text": [
      "<class 'pandas.core.frame.DataFrame'>\n",
      "Int64Index: 6619816 entries, 4478844 to 11098659\n",
      "Data columns (total 41 columns):\n",
      " #   Column                                Dtype  \n",
      "---  ------                                -----  \n",
      " 0   date_block_num                        int8   \n",
      " 1   shop_id                               int8   \n",
      " 2   item_id                               int16  \n",
      " 3   item_cnt_month                        float16\n",
      " 4   ID                                    float64\n",
      " 5   city_code                             int8   \n",
      " 6   item_category_id                      int8   \n",
      " 7   type_code                             int8   \n",
      " 8   subtype_code                          int8   \n",
      " 9   item_cnt_month_lag_1                  float16\n",
      " 10  item_cnt_month_lag_2                  float16\n",
      " 11  item_cnt_month_lag_3                  float16\n",
      " 12  item_cnt_month_lag_6                  float16\n",
      " 13  item_cnt_month_lag_12                 float16\n",
      " 14  date_avg_item_cnt_lag_1               float16\n",
      " 15  date_item_avg_item_cnt_lag_1          float16\n",
      " 16  date_item_avg_item_cnt_lag_2          float16\n",
      " 17  date_item_avg_item_cnt_lag_3          float16\n",
      " 18  date_item_avg_item_cnt_lag_6          float16\n",
      " 19  date_item_avg_item_cnt_lag_12         float16\n",
      " 20  date_shop_avg_item_cnt_lag_1          float16\n",
      " 21  date_shop_avg_item_cnt_lag_2          float16\n",
      " 22  date_shop_avg_item_cnt_lag_3          float16\n",
      " 23  date_shop_avg_item_cnt_lag_6          float16\n",
      " 24  date_shop_avg_item_cnt_lag_12         float16\n",
      " 25  date_cat_avg_item_cnt_lag_1           float16\n",
      " 26  date_shop_cat_avg_item_cnt_lag_1      float16\n",
      " 27  date_shop_type_avg_item_cnt_lag_1     float16\n",
      " 28  date_shop_subtype_avg_item_cnt_lag_1  float16\n",
      " 29  date_city_avg_item_cnt_lag_1          float16\n",
      " 30  date_item_city_avg_item_cnt_lag_1     float16\n",
      " 31  date_type_avg_item_cnt_lag_1          float16\n",
      " 32  date_subtype_avg_item_cnt_lag_1       float16\n",
      " 33  delta_price_lag                       float16\n",
      " 34  delta_revenue_lag_1                   float16\n",
      " 35  month                                 int8   \n",
      " 36  days                                  int8   \n",
      " 37  item_shop_last_sale                   int8   \n",
      " 38  item_last_sale                        int8   \n",
      " 39  item_shop_first_sale                  int8   \n",
      " 40  item_first_sale                       int8   \n",
      "dtypes: float16(27), float64(1), int16(1), int8(12)\n",
      "memory usage: 530.3 MB\n"
     ]
    }
   ],
=======
   "execution_count": null,
   "metadata": {},
   "outputs": [],
>>>>>>> 968a5130d0bc3e366a0160ca2555280b9ef6af04
   "source": [
    "matrix.info()"
   ]
  },
  {
   "cell_type": "code",
<<<<<<< HEAD
   "execution_count": 118,
=======
   "execution_count": null,
>>>>>>> 968a5130d0bc3e366a0160ca2555280b9ef6af04
   "metadata": {},
   "outputs": [],
   "source": [
    "matrix.to_pickle('data.pkl')\n",
    "del matrix\n",
    "del cache\n",
    "del group\n",
    "del df_items\n",
    "del df_shops\n",
    "del df_item_categories\n",
    "del df_train\n",
    "# 가비지 콜렉팅\n",
    "gc.collect();"
   ]
  },
  {
   "cell_type": "markdown",
   "metadata": {},
   "source": [
    "### Part 2, xgboost"
   ]
  },
  {
   "cell_type": "code",
<<<<<<< HEAD
   "execution_count": 119,
=======
   "execution_count": null,
>>>>>>> 968a5130d0bc3e366a0160ca2555280b9ef6af04
   "metadata": {},
   "outputs": [],
   "source": [
    "data = pd.read_pickle('data.pkl')"
   ]
  },
  {
   "cell_type": "code",
<<<<<<< HEAD
   "execution_count": 120,
=======
   "execution_count": null,
>>>>>>> 968a5130d0bc3e366a0160ca2555280b9ef6af04
   "metadata": {},
   "outputs": [],
   "source": [
    "data = data[[\n",
    "    'date_block_num',\n",
    "    'shop_id',\n",
    "    'item_id',\n",
    "    'item_cnt_month',\n",
    "    'city_code',\n",
    "    'item_category_id',\n",
    "    'type_code',\n",
    "    'subtype_code',\n",
    "    'item_cnt_month_lag_1',\n",
    "    'item_cnt_month_lag_2',\n",
    "    'item_cnt_month_lag_3',\n",
    "    'item_cnt_month_lag_6',\n",
    "    'item_cnt_month_lag_12',\n",
    "    'date_avg_item_cnt_lag_1',\n",
    "    'date_item_avg_item_cnt_lag_1',\n",
    "    'date_item_avg_item_cnt_lag_2',\n",
    "    'date_item_avg_item_cnt_lag_3',\n",
    "    'date_item_avg_item_cnt_lag_6',\n",
    "    'date_item_avg_item_cnt_lag_12',\n",
    "    'date_shop_avg_item_cnt_lag_1',\n",
    "    'date_shop_avg_item_cnt_lag_2',\n",
    "    'date_shop_avg_item_cnt_lag_3',\n",
    "    'date_shop_avg_item_cnt_lag_6',\n",
    "    'date_shop_avg_item_cnt_lag_12',\n",
    "    'date_cat_avg_item_cnt_lag_1',\n",
    "    'date_shop_cat_avg_item_cnt_lag_1',\n",
    "    #'date_shop_type_avg_item_cnt_lag_1',\n",
    "    #'date_shop_subtype_avg_item_cnt_lag_1',\n",
    "    'date_city_avg_item_cnt_lag_1',\n",
    "    'date_item_city_avg_item_cnt_lag_1',\n",
    "    #'date_type_avg_item_cnt_lag_1',\n",
    "    #'date_subtype_avg_item_cnt_lag_1',\n",
    "    'delta_price_lag',\n",
    "    'month',\n",
    "    'days',\n",
    "    'item_shop_last_sale',\n",
    "    'item_last_sale',\n",
    "    'item_shop_first_sale',\n",
    "    'item_first_sale',\n",
    "]]"
   ]
  },
  {
   "cell_type": "markdown",
   "metadata": {},
   "source": [
    "date_block_num 13~32까지는 훈련 데이터, 33은 검증 데이터, 34는 테스트 데이터"
   ]
  },
  {
   "cell_type": "code",
<<<<<<< HEAD
   "execution_count": 121,
=======
   "execution_count": null,
>>>>>>> 968a5130d0bc3e366a0160ca2555280b9ef6af04
   "metadata": {},
   "outputs": [],
   "source": [
    "X_train = data[data.date_block_num < 33].drop(['item_cnt_month'], axis=1)\n",
    "Y_train = data[data.date_block_num < 33]['item_cnt_month']\n",
    "X_valid = data[data.date_block_num == 33].drop(['item_cnt_month'], axis=1)\n",
    "Y_valid = data[data.date_block_num == 33]['item_cnt_month']\n",
    "X_test = data[data.date_block_num == 34].drop(['item_cnt_month'], axis=1)"
   ]
  },
  {
   "cell_type": "code",
<<<<<<< HEAD
   "execution_count": 122,
=======
   "execution_count": null,
>>>>>>> 968a5130d0bc3e366a0160ca2555280b9ef6af04
   "metadata": {},
   "outputs": [],
   "source": [
    "del data\n",
    "gc.collect();"
   ]
  },
  {
   "cell_type": "code",
<<<<<<< HEAD
   "execution_count": 123,
   "metadata": {},
   "outputs": [
    {
     "name": "stdout",
     "output_type": "stream",
     "text": [
      "[18:38:39] WARNING: /home/conda/feedstock_root/build_artifacts/xgboost_1593723605503/work/src/gbm/gbtree.cc:139: Tree method is automatically selected to be 'approx' for faster speed. To use old behavior (exact greedy algorithm on single machine), set tree_method to 'exact'.\n",
      "[0]\tvalidation_0-rmse:1.17542\tvalidation_1-rmse:1.17808\n",
      "Multiple eval metrics have been passed: 'validation_1-rmse' will be used for early stopping.\n",
      "\n",
      "Will train until validation_1-rmse hasn't improved in 10 rounds.\n",
      "[1]\tvalidation_0-rmse:1.07620\tvalidation_1-rmse:1.10597\n",
      "[2]\tvalidation_0-rmse:1.01740\tvalidation_1-rmse:1.07123\n",
      "[3]\tvalidation_0-rmse:0.98344\tvalidation_1-rmse:1.05075\n",
      "[4]\tvalidation_0-rmse:0.96247\tvalidation_1-rmse:1.04027\n",
      "[5]\tvalidation_0-rmse:0.95021\tvalidation_1-rmse:1.03447\n",
      "[6]\tvalidation_0-rmse:0.94206\tvalidation_1-rmse:1.03044\n",
      "[7]\tvalidation_0-rmse:0.93634\tvalidation_1-rmse:1.02665\n",
      "[8]\tvalidation_0-rmse:0.93040\tvalidation_1-rmse:1.02599\n",
      "[9]\tvalidation_0-rmse:0.92722\tvalidation_1-rmse:1.02512\n",
      "[10]\tvalidation_0-rmse:0.92364\tvalidation_1-rmse:1.02387\n",
      "[11]\tvalidation_0-rmse:0.92160\tvalidation_1-rmse:1.02344\n",
      "[12]\tvalidation_0-rmse:0.91912\tvalidation_1-rmse:1.02322\n",
      "[13]\tvalidation_0-rmse:0.91737\tvalidation_1-rmse:1.02304\n",
      "[14]\tvalidation_0-rmse:0.91619\tvalidation_1-rmse:1.02243\n",
      "[15]\tvalidation_0-rmse:0.91510\tvalidation_1-rmse:1.02268\n",
      "[16]\tvalidation_0-rmse:0.91370\tvalidation_1-rmse:1.02240\n",
      "[17]\tvalidation_0-rmse:0.91177\tvalidation_1-rmse:1.02180\n",
      "[18]\tvalidation_0-rmse:0.90877\tvalidation_1-rmse:1.01782\n",
      "[19]\tvalidation_0-rmse:0.90692\tvalidation_1-rmse:1.01776\n",
      "[20]\tvalidation_0-rmse:0.90544\tvalidation_1-rmse:1.01682\n",
      "[21]\tvalidation_0-rmse:0.90493\tvalidation_1-rmse:1.01689\n",
      "[22]\tvalidation_0-rmse:0.90074\tvalidation_1-rmse:1.02189\n",
      "[23]\tvalidation_0-rmse:0.89977\tvalidation_1-rmse:1.02288\n",
      "[24]\tvalidation_0-rmse:0.89862\tvalidation_1-rmse:1.02229\n",
      "[25]\tvalidation_0-rmse:0.89737\tvalidation_1-rmse:1.02391\n",
      "[26]\tvalidation_0-rmse:0.89685\tvalidation_1-rmse:1.02402\n",
      "[27]\tvalidation_0-rmse:0.89554\tvalidation_1-rmse:1.02462\n",
      "[28]\tvalidation_0-rmse:0.89469\tvalidation_1-rmse:1.02587\n",
      "[29]\tvalidation_0-rmse:0.89334\tvalidation_1-rmse:1.02652\n",
      "[30]\tvalidation_0-rmse:0.89253\tvalidation_1-rmse:1.02636\n",
      "Stopping. Best iteration:\n",
      "[20]\tvalidation_0-rmse:0.90544\tvalidation_1-rmse:1.01682\n",
      "\n"
     ]
    },
    {
     "data": {
      "text/plain": [
       "XGBRegressor(base_score=0.5, booster='gbtree', colsample_bylevel=1,\n",
       "             colsample_bynode=1, colsample_bytree=0.8, eta=0.3, gamma=0,\n",
       "             gpu_id=-1, importance_type='gain', interaction_constraints='',\n",
       "             learning_rate=0.300000012, max_delta_step=0, max_depth=8,\n",
       "             min_child_weight=300, missing=nan, monotone_constraints='()',\n",
       "             n_estimators=1000, n_jobs=0, num_parallel_tree=1, random_state=42,\n",
       "             reg_alpha=0, reg_lambda=1, scale_pos_weight=1, seed=42,\n",
       "             subsample=0.8, tree_method='approx', validate_parameters=1,\n",
       "             verbosity=None)"
      ]
     },
     "execution_count": 123,
     "metadata": {},
     "output_type": "execute_result"
    }
   ],
=======
   "execution_count": null,
   "metadata": {},
   "outputs": [],
>>>>>>> 968a5130d0bc3e366a0160ca2555280b9ef6af04
   "source": [
    "model = XGBRegressor(\n",
    "    max_depth=8,\n",
    "    n_estimators=1000,\n",
    "    min_child_weight=300, \n",
    "    colsample_bytree=0.8, \n",
    "    subsample=0.8, \n",
    "    eta=0.3,    \n",
    "    seed=42)\n",
    "\n",
    "model.fit(\n",
    "    X_train, \n",
    "    Y_train, \n",
    "    eval_metric=\"rmse\", \n",
    "    eval_set=[(X_train, Y_train), (X_valid, Y_valid)], \n",
    "    verbose=True, \n",
    "    early_stopping_rounds = 10)"
   ]
  },
  {
   "cell_type": "code",
<<<<<<< HEAD
   "execution_count": 124,
=======
   "execution_count": null,
>>>>>>> 968a5130d0bc3e366a0160ca2555280b9ef6af04
   "metadata": {},
   "outputs": [],
   "source": [
    "Y_pred = model.predict(X_valid).clip(0, 20)\n",
    "Y_test = model.predict(X_test).clip(0, 20)"
   ]
  },
  {
   "cell_type": "markdown",
   "metadata": {},
   "source": [
    "Submission file"
   ]
  },
  {
   "cell_type": "code",
<<<<<<< HEAD
   "execution_count": 125,
=======
   "execution_count": null,
>>>>>>> 968a5130d0bc3e366a0160ca2555280b9ef6af04
   "metadata": {},
   "outputs": [],
   "source": [
    "submission = pd.DataFrame({\n",
    "    \"ID\": df_test.index, \n",
    "    \"item_cnt_month\": Y_test\n",
    "})\n",
    "submission.to_csv('xgb_submission.csv', index=False)\n",
    "\n",
    "# save predictions for an ensemble\n",
    "pickle.dump(Y_pred, open('xgb_train.pickle', 'wb'))\n",
    "pickle.dump(Y_test, open('xgb_test.pickle', 'wb'))"
   ]
  },
  {
   "cell_type": "markdown",
   "metadata": {},
   "source": [
    "Plot Feature importance"
   ]
  },
  {
   "cell_type": "code",
<<<<<<< HEAD
   "execution_count": 127,
   "metadata": {},
   "outputs": [
    {
     "data": {
      "text/plain": [
       "<matplotlib.axes._subplots.AxesSubplot at 0x7f1029344e10>"
      ]
     },
     "execution_count": 127,
     "metadata": {},
     "output_type": "execute_result"
    },
    {
     "data": {
      "image/png": "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\n",
      "text/plain": [
       "<Figure size 720x1008 with 1 Axes>"
      ]
     },
     "metadata": {
      "needs_background": "light"
     },
     "output_type": "display_data"
    }
   ],
=======
   "execution_count": null,
   "metadata": {},
   "outputs": [],
>>>>>>> 968a5130d0bc3e366a0160ca2555280b9ef6af04
   "source": [
    "fig, ax = plt.subplots(1, 1, figsize=(10,14))\n",
    "plot_importance(model, ax=ax)"
   ]
  },
  {
   "cell_type": "markdown",
   "metadata": {},
   "source": [
    "Score: 0.92009"
   ]
  },
  {
   "cell_type": "code",
<<<<<<< HEAD
   "execution_count": 129,
   "metadata": {},
   "outputs": [
    {
     "name": "stdout",
     "output_type": "stream",
     "text": [
      "3\n"
     ]
    }
   ],
   "source": [
    "a=3\n",
    "print(a)"
   ]
  },
  {
   "cell_type": "code",
=======
>>>>>>> 968a5130d0bc3e366a0160ca2555280b9ef6af04
   "execution_count": null,
   "metadata": {},
   "outputs": [],
   "source": []
  }
 ],
 "metadata": {
  "kernelspec": {
   "display_name": "Python 3",
   "language": "python",
   "name": "python3"
  },
  "language_info": {
   "codemirror_mode": {
    "name": "ipython",
    "version": 3
   },
   "file_extension": ".py",
   "mimetype": "text/x-python",
   "name": "python",
   "nbconvert_exporter": "python",
   "pygments_lexer": "ipython3",
   "version": "3.7.6"
  }
 },
 "nbformat": 4,
 "nbformat_minor": 2
}
