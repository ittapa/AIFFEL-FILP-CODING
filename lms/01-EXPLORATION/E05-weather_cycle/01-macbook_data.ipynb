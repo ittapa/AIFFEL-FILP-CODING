{
 "cells": [
  {
   "cell_type": "code",
   "execution_count": null,
   "metadata": {},
   "outputs": [],
   "source": [
    "\n",
    "\n",
    "\n"
   ]
  },
  {
   "cell_type": "markdown",
   "metadata": {},
   "source": [
    "## 중고 노트북 가격 에측."
   ]
  },
  {
   "cell_type": "code",
   "execution_count": 1,
   "metadata": {
    "ExecuteTime": {
     "end_time": "2020-08-11T00:22:23.532001Z",
     "start_time": "2020-08-11T00:22:23.530093Z"
    }
   },
   "outputs": [],
   "source": [
    "#library import"
   ]
  },
  {
   "cell_type": "code",
   "execution_count": 15,
   "metadata": {
    "ExecuteTime": {
     "end_time": "2020-08-11T00:34:33.583239Z",
     "start_time": "2020-08-11T00:34:33.566262Z"
    }
   },
   "outputs": [],
   "source": [
    "from IPython.display import display, Image\n",
    "import pandas as pd \n",
    "\n",
    "import matplotlib.pyplot as plt\n",
    "import matplotlib.font_manager as fm\n",
    "\n",
    "%matplotlib inline\n",
    "%config InlineBackend.figure_format = 'retina'\n",
    "\n",
    "# font set\n",
    "font_path = '/home/aiffel0042/anaconda3/envs/aiffel/lib/python3.7/site-packages/matplotlib/mpl-data/fonts/ttf/NanumGothic.ttf'\n",
    "fontprop = fm.FontProperties(fname=font_path, size=18)\n",
    "\n"
   ]
  },
  {
   "cell_type": "code",
   "execution_count": 16,
   "metadata": {
    "ExecuteTime": {
     "end_time": "2020-08-11T00:34:36.680286Z",
     "start_time": "2020-08-11T00:34:36.670915Z"
    }
   },
   "outputs": [
    {
     "name": "stdout",
     "output_type": "stream",
     "text": [
      "(80, 2)\n"
     ]
    },
    {
     "data": {
      "text/html": [
       "<div>\n",
       "<style scoped>\n",
       "    .dataframe tbody tr th:only-of-type {\n",
       "        vertical-align: middle;\n",
       "    }\n",
       "\n",
       "    .dataframe tbody tr th {\n",
       "        vertical-align: top;\n",
       "    }\n",
       "\n",
       "    .dataframe thead th {\n",
       "        text-align: right;\n",
       "    }\n",
       "</style>\n",
       "<table border=\"1\" class=\"dataframe\">\n",
       "  <thead>\n",
       "    <tr style=\"text-align: right;\">\n",
       "      <th></th>\n",
       "      <th>used_years</th>\n",
       "      <th>price</th>\n",
       "    </tr>\n",
       "  </thead>\n",
       "  <tbody>\n",
       "    <tr>\n",
       "      <th>0</th>\n",
       "      <td>2.65</td>\n",
       "      <td>175</td>\n",
       "    </tr>\n",
       "    <tr>\n",
       "      <th>1</th>\n",
       "      <td>3.80</td>\n",
       "      <td>63</td>\n",
       "    </tr>\n",
       "    <tr>\n",
       "      <th>2</th>\n",
       "      <td>0.95</td>\n",
       "      <td>273</td>\n",
       "    </tr>\n",
       "    <tr>\n",
       "      <th>3</th>\n",
       "      <td>4.50</td>\n",
       "      <td>133</td>\n",
       "    </tr>\n",
       "    <tr>\n",
       "      <th>4</th>\n",
       "      <td>4.45</td>\n",
       "      <td>106</td>\n",
       "    </tr>\n",
       "  </tbody>\n",
       "</table>\n",
       "</div>"
      ],
      "text/plain": [
       "   used_years  price\n",
       "0        2.65    175\n",
       "1        3.80     63\n",
       "2        0.95    273\n",
       "3        4.50    133\n",
       "4        4.45    106"
      ]
     },
     "execution_count": 16,
     "metadata": {},
     "output_type": "execute_result"
    }
   ],
   "source": [
    "macbook = pd.read_csv('./macbook_data/macbook.csv')\n",
    "print(macbook.shape)\n",
    "macbook.head()"
   ]
  },
  {
   "cell_type": "code",
   "execution_count": 17,
   "metadata": {
    "ExecuteTime": {
     "end_time": "2020-08-11T00:34:37.458937Z",
     "start_time": "2020-08-11T00:34:37.348955Z"
    }
   },
   "outputs": [
    {
     "data": {
      "image/png": "[encoded data removed]",
      "text/plain": [
       "<Figure size 432x288 with 1 Axes>"
      ]
     },
     "metadata": {
      "image/png": {
       "height": 248,
       "width": 375
      },
      "needs_background": "light"
     },
     "output_type": "display_data"
    }
   ],
   "source": [
    "# \n",
    "plt.scatter(macbook['used_years'], macbook['price'])\n",
    "plt.show()\n"
   ]
  },
  {
   "cell_type": "code",
   "execution_count": 22,
   "metadata": {
    "ExecuteTime": {
     "end_time": "2020-08-11T00:44:18.411735Z",
     "start_time": "2020-08-11T00:44:18.403467Z"
    }
   },
   "outputs": [
    {
     "data": {
      "text/plain": [
       "array([[ 1.        , -0.78972238],\n",
       "       [-0.78972238,  1.        ]])"
      ]
     },
     "execution_count": 22,
     "metadata": {},
     "output_type": "execute_result"
    }
   ],
   "source": [
    "import numpy as np\n",
    "\n",
    "# np.corrcoef(x, y)를 사용합니다. 피어슨 상관계수 값을 계산해준다.\n",
    "np.corrcoef(macbook['used_years'], macbook['price'])"
   ]
  },
  {
   "cell_type": "markdown",
   "metadata": {},
   "source": [
    "- 상관관계\n",
    "![f](./imgs/00-c_d.png)"
   ]
  },
  {
   "cell_type": "code",
   "execution_count": 24,
   "metadata": {
    "ExecuteTime": {
     "end_time": "2020-08-11T00:49:51.375595Z",
     "start_time": "2020-08-11T00:49:51.366032Z"
    }
   },
   "outputs": [
    {
     "data": {
      "text/plain": [
       "array([2.65, 3.8 , 0.95, 4.5 , 4.45, 2.7 , 3.05, 2.25, 2.3 , 1.85, 1.5 ,\n",
       "       0.95, 2.6 , 0.55, 2.05, 0.75, 3.95, 2.8 , 2.05, 1.15, 1.35, 3.35,\n",
       "       1.35, 2.45, 2.4 , 0.1 , 3.45, 2.35, 0.7 , 1.05, 1.75, 4.1 , 4.5 ,\n",
       "       4.  , 2.  , 2.45, 2.5 , 2.1 , 3.  , 4.05, 2.7 , 2.15, 3.3 , 2.4 ,\n",
       "       2.85, 1.65, 1.55, 2.15, 3.4 , 1.55, 0.8 , 2.95, 2.4 , 1.4 , 1.65,\n",
       "       2.25, 3.85, 3.9 , 4.6 , 2.35, 4.05, 1.2 , 1.95, 1.6 , 2.  , 1.8 ,\n",
       "       3.75, 3.65, 2.35, 2.2 , 1.  , 4.15, 1.1 , 1.55, 2.95, 1.5 , 1.65,\n",
       "       1.1 , 3.25, 0.75])"
      ]
     },
     "execution_count": 24,
     "metadata": {},
     "output_type": "execute_result"
    }
   ],
   "source": [
    "# x, y, model 만들기\n",
    "# 사용연수x 로 가격 y 예측하기....함수.\n",
    "\n",
    "x = macbook['used_years'].values\n",
    "x"
   ]
  },
  {
   "cell_type": "code",
   "execution_count": 26,
   "metadata": {
    "ExecuteTime": {
     "end_time": "2020-08-11T00:50:15.066295Z",
     "start_time": "2020-08-11T00:50:15.063561Z"
    }
   },
   "outputs": [
    {
     "data": {
      "text/plain": [
       "array([175,  63, 273, 133, 106, 115, 177, 248, 198, 219, 163, 290, 162,\n",
       "       217, 188, 282, 106, 106, 208, 306, 232, 168, 209, 196, 217, 256,\n",
       "       121, 216, 260, 277, 216,   9,  94, 116, 165, 197, 205, 262, 121,\n",
       "        77, 174, 251, 197, 234, 124, 183, 190, 261, 170, 170, 233, 169,\n",
       "       168, 176, 221, 202, 123, 115, 161, 229,  76, 255, 154, 185, 222,\n",
       "       188, 142, 165, 209, 276, 308,  57, 258, 151, 142, 184, 191, 251,\n",
       "       131, 303])"
      ]
     },
     "execution_count": 26,
     "metadata": {},
     "output_type": "execute_result"
    }
   ],
   "source": [
    "y = macbook['price'].values\n",
    "y"
   ]
  },
  {
   "cell_type": "code",
   "execution_count": 31,
   "metadata": {
    "ExecuteTime": {
     "end_time": "2020-08-11T00:52:58.419801Z",
     "start_time": "2020-08-11T00:52:58.414786Z"
    }
   },
   "outputs": [
    {
     "data": {
      "text/plain": [
       "11"
      ]
     },
     "execution_count": 31,
     "metadata": {},
     "output_type": "execute_result"
    }
   ],
   "source": [
    "#model\n",
    "\n",
    "def model(x,w,b):\n",
    "    y=w*x+b \n",
    "    return y\n",
    "model(x=5,w=2,b=1)"
   ]
  },
  {
   "cell_type": "code",
   "execution_count": 34,
   "metadata": {
    "ExecuteTime": {
     "end_time": "2020-08-11T01:00:42.387467Z",
     "start_time": "2020-08-11T01:00:42.383660Z"
    }
   },
   "outputs": [
    {
     "data": {
      "text/plain": [
       "20"
      ]
     },
     "execution_count": 34,
     "metadata": {},
     "output_type": "execute_result"
    }
   ],
   "source": [
    "# training\n",
    "# 최적의 매개변수 : 파리미터 찾기, 가중치 \n",
    "'''\n",
    "es)\n",
    "사용연수가 2년인 맥북의 중고가: 100만 원\n",
    "사용연수가 5년인 맥북의 중고가: 40만 원\n",
    "\n",
    "100 = w * 2 + b \n",
    "40 = w * 5 +b\n",
    "w = 40-b/5\n",
    "b = 140\n",
    "w= -20\n",
    "\n",
    "6년된 노트북 가격은\n",
    "'''\n",
    "model(x=6,w=-20,b=140)\n",
    "\n",
    "\n"
   ]
  },
  {
   "cell_type": "code",
   "execution_count": 41,
   "metadata": {
    "ExecuteTime": {
     "end_time": "2020-08-11T01:05:47.746945Z",
     "start_time": "2020-08-11T01:05:47.648540Z"
    }
   },
   "outputs": [
    {
     "name": "stdout",
     "output_type": "stream",
     "text": [
      "[0. 1. 2. 3. 4. 5. 6. 7. 8.]\n"
     ]
    },
    {
     "data": {
      "image/png": "[encoded data removed]",
      "text/plain": [
       "<Figure size 432x288 with 1 Axes>"
      ]
     },
     "metadata": {
      "image/png": {
       "height": 248,
       "width": 377
      },
      "needs_background": "light"
     },
     "output_type": "display_data"
    }
   ],
   "source": [
    "# x축, y축 그리기\n",
    "plt.axvline(x=0, c='black')\n",
    "plt.axhline(y=0, c='black')\n",
    "\n",
    "# y = wx + b 일차함수 그리기\n",
    "x = np.linspace(0, 8, 9)\n",
    "print(x)\n",
    "y = model(x, w=-20, b=140) # y = -20x + 140\n",
    "plt.plot(y)\n",
    "\n",
    "# 나의 (x, y) 점 찍기\n",
    "x_data = [2, 5, 6]\n",
    "y_data = [100, 40, 20]\n",
    "plt.scatter(x_data, y_data, c='g', s=50) # c 마커의 색상. s는 마커의 지름 또는 반지름 인듯.\n",
    "\n",
    "plt.show()"
   ]
  },
  {
   "cell_type": "code",
   "execution_count": null,
   "metadata": {},
   "outputs": [],
   "source": [
    "## 손실함수\n",
    "'''\n",
    "\n",
    "\n",
    "\n",
    "'''"
   ]
  },
  {
   "cell_type": "code",
   "execution_count": 42,
   "metadata": {
    "ExecuteTime": {
     "end_time": "2020-08-11T01:10:05.665294Z",
     "start_time": "2020-08-11T01:10:05.662637Z"
    }
   },
   "outputs": [],
   "source": [
    "# w b 값 임의 로 설정...\n",
    "w = 3.1\n",
    "b = 2.3"
   ]
  },
  {
   "cell_type": "code",
   "execution_count": 45,
   "metadata": {
    "ExecuteTime": {
     "end_time": "2020-08-11T01:11:33.335451Z",
     "start_time": "2020-08-11T01:11:33.248286Z"
    }
   },
   "outputs": [
    {
     "data": {
      "image/png": "[encoded data removed]",
      "text/plain": [
       "<Figure size 432x288 with 1 Axes>"
      ]
     },
     "metadata": {
      "image/png": {
       "height": 248,
       "width": 375
      },
      "needs_background": "light"
     },
     "output_type": "display_data"
    }
   ],
   "source": [
    "x = np.linspace(0,5,6)\n",
    "y = model(x,w,b) \n",
    "plt.plot(y, c='r') # \n",
    "\n",
    "plt.scatter(macbook['used_years'], macbook['price'])\n",
    "plt.show()"
   ]
  },
  {
   "cell_type": "code",
   "execution_count": 47,
   "metadata": {
    "ExecuteTime": {
     "end_time": "2020-08-11T01:12:02.394354Z",
     "start_time": "2020-08-11T01:12:02.390300Z"
    }
   },
   "outputs": [
    {
     "data": {
      "text/plain": [
       "array([2.65, 3.8 , 0.95, 4.5 , 4.45, 2.7 , 3.05, 2.25, 2.3 , 1.85, 1.5 ,\n",
       "       0.95, 2.6 , 0.55, 2.05, 0.75, 3.95, 2.8 , 2.05, 1.15, 1.35, 3.35,\n",
       "       1.35, 2.45, 2.4 , 0.1 , 3.45, 2.35, 0.7 , 1.05, 1.75, 4.1 , 4.5 ,\n",
       "       4.  , 2.  , 2.45, 2.5 , 2.1 , 3.  , 4.05, 2.7 , 2.15, 3.3 , 2.4 ,\n",
       "       2.85, 1.65, 1.55, 2.15, 3.4 , 1.55, 0.8 , 2.95, 2.4 , 1.4 , 1.65,\n",
       "       2.25, 3.85, 3.9 , 4.6 , 2.35, 4.05, 1.2 , 1.95, 1.6 , 2.  , 1.8 ,\n",
       "       3.75, 3.65, 2.35, 2.2 , 1.  , 4.15, 1.1 , 1.55, 2.95, 1.5 , 1.65,\n",
       "       1.1 , 3.25, 0.75])"
      ]
     },
     "execution_count": 47,
     "metadata": {},
     "output_type": "execute_result"
    }
   ],
   "source": [
    "x= macbook[\"used_years\"].values\n",
    "x"
   ]
  },
  {
   "cell_type": "code",
   "execution_count": 48,
   "metadata": {
    "ExecuteTime": {
     "end_time": "2020-08-11T01:12:52.035824Z",
     "start_time": "2020-08-11T01:12:52.029041Z"
    }
   },
   "outputs": [
    {
     "data": {
      "text/plain": [
       "array([10.515, 14.08 ,  5.245, 16.25 , 16.095, 10.67 , 11.755,  9.275,\n",
       "        9.43 ,  8.035,  6.95 ,  5.245, 10.36 ,  4.005,  8.655,  4.625,\n",
       "       14.545, 10.98 ,  8.655,  5.865,  6.485, 12.685,  6.485,  9.895,\n",
       "        9.74 ,  2.61 , 12.995,  9.585,  4.47 ,  5.555,  7.725, 15.01 ,\n",
       "       16.25 , 14.7  ,  8.5  ,  9.895, 10.05 ,  8.81 , 11.6  , 14.855,\n",
       "       10.67 ,  8.965, 12.53 ,  9.74 , 11.135,  7.415,  7.105,  8.965,\n",
       "       12.84 ,  7.105,  4.78 , 11.445,  9.74 ,  6.64 ,  7.415,  9.275,\n",
       "       14.235, 14.39 , 16.56 ,  9.585, 14.855,  6.02 ,  8.345,  7.26 ,\n",
       "        8.5  ,  7.88 , 13.925, 13.615,  9.585,  9.12 ,  5.4  , 15.165,\n",
       "        5.71 ,  7.105, 11.445,  6.95 ,  7.415,  5.71 , 12.375,  4.625])"
      ]
     },
     "execution_count": 48,
     "metadata": {},
     "output_type": "execute_result"
    }
   ],
   "source": [
    "prediction = model(x,w,b)\n",
    "prediction"
   ]
  },
  {
   "cell_type": "code",
   "execution_count": 49,
   "metadata": {
    "ExecuteTime": {
     "end_time": "2020-08-11T01:13:16.376277Z",
     "start_time": "2020-08-11T01:13:16.365388Z"
    }
   },
   "outputs": [
    {
     "data": {
      "text/html": [
       "<div>\n",
       "<style scoped>\n",
       "    .dataframe tbody tr th:only-of-type {\n",
       "        vertical-align: middle;\n",
       "    }\n",
       "\n",
       "    .dataframe tbody tr th {\n",
       "        vertical-align: top;\n",
       "    }\n",
       "\n",
       "    .dataframe thead th {\n",
       "        text-align: right;\n",
       "    }\n",
       "</style>\n",
       "<table border=\"1\" class=\"dataframe\">\n",
       "  <thead>\n",
       "    <tr style=\"text-align: right;\">\n",
       "      <th></th>\n",
       "      <th>used_years</th>\n",
       "      <th>price</th>\n",
       "      <th>prediction</th>\n",
       "    </tr>\n",
       "  </thead>\n",
       "  <tbody>\n",
       "    <tr>\n",
       "      <th>0</th>\n",
       "      <td>2.65</td>\n",
       "      <td>175</td>\n",
       "      <td>10.515</td>\n",
       "    </tr>\n",
       "    <tr>\n",
       "      <th>1</th>\n",
       "      <td>3.80</td>\n",
       "      <td>63</td>\n",
       "      <td>14.080</td>\n",
       "    </tr>\n",
       "    <tr>\n",
       "      <th>2</th>\n",
       "      <td>0.95</td>\n",
       "      <td>273</td>\n",
       "      <td>5.245</td>\n",
       "    </tr>\n",
       "    <tr>\n",
       "      <th>3</th>\n",
       "      <td>4.50</td>\n",
       "      <td>133</td>\n",
       "      <td>16.250</td>\n",
       "    </tr>\n",
       "    <tr>\n",
       "      <th>4</th>\n",
       "      <td>4.45</td>\n",
       "      <td>106</td>\n",
       "      <td>16.095</td>\n",
       "    </tr>\n",
       "  </tbody>\n",
       "</table>\n",
       "</div>"
      ],
      "text/plain": [
       "   used_years  price  prediction\n",
       "0        2.65    175      10.515\n",
       "1        3.80     63      14.080\n",
       "2        0.95    273       5.245\n",
       "3        4.50    133      16.250\n",
       "4        4.45    106      16.095"
      ]
     },
     "execution_count": 49,
     "metadata": {},
     "output_type": "execute_result"
    }
   ],
   "source": [
    "# 실제 값과 예측 값 비교\n",
    "macbook['prediction'] = prediction\n",
    "macbook.head()"
   ]
  },
  {
   "cell_type": "code",
   "execution_count": 50,
   "metadata": {
    "ExecuteTime": {
     "end_time": "2020-08-11T01:13:45.255941Z",
     "start_time": "2020-08-11T01:13:45.239223Z"
    }
   },
   "outputs": [
    {
     "data": {
      "text/html": [
       "<div>\n",
       "<style scoped>\n",
       "    .dataframe tbody tr th:only-of-type {\n",
       "        vertical-align: middle;\n",
       "    }\n",
       "\n",
       "    .dataframe tbody tr th {\n",
       "        vertical-align: top;\n",
       "    }\n",
       "\n",
       "    .dataframe thead th {\n",
       "        text-align: right;\n",
       "    }\n",
       "</style>\n",
       "<table border=\"1\" class=\"dataframe\">\n",
       "  <thead>\n",
       "    <tr style=\"text-align: right;\">\n",
       "      <th></th>\n",
       "      <th>used_years</th>\n",
       "      <th>price</th>\n",
       "      <th>prediction</th>\n",
       "      <th>error</th>\n",
       "    </tr>\n",
       "  </thead>\n",
       "  <tbody>\n",
       "    <tr>\n",
       "      <th>0</th>\n",
       "      <td>2.65</td>\n",
       "      <td>175</td>\n",
       "      <td>10.515</td>\n",
       "      <td>164.485</td>\n",
       "    </tr>\n",
       "    <tr>\n",
       "      <th>1</th>\n",
       "      <td>3.80</td>\n",
       "      <td>63</td>\n",
       "      <td>14.080</td>\n",
       "      <td>48.920</td>\n",
       "    </tr>\n",
       "    <tr>\n",
       "      <th>2</th>\n",
       "      <td>0.95</td>\n",
       "      <td>273</td>\n",
       "      <td>5.245</td>\n",
       "      <td>267.755</td>\n",
       "    </tr>\n",
       "    <tr>\n",
       "      <th>3</th>\n",
       "      <td>4.50</td>\n",
       "      <td>133</td>\n",
       "      <td>16.250</td>\n",
       "      <td>116.750</td>\n",
       "    </tr>\n",
       "    <tr>\n",
       "      <th>4</th>\n",
       "      <td>4.45</td>\n",
       "      <td>106</td>\n",
       "      <td>16.095</td>\n",
       "      <td>89.905</td>\n",
       "    </tr>\n",
       "  </tbody>\n",
       "</table>\n",
       "</div>"
      ],
      "text/plain": [
       "   used_years  price  prediction    error\n",
       "0        2.65    175      10.515  164.485\n",
       "1        3.80     63      14.080   48.920\n",
       "2        0.95    273       5.245  267.755\n",
       "3        4.50    133      16.250  116.750\n",
       "4        4.45    106      16.095   89.905"
      ]
     },
     "execution_count": 50,
     "metadata": {},
     "output_type": "execute_result"
    }
   ],
   "source": [
    "# 실제값과 예측값 간의 오차 ...\n",
    "macbook['error'] = macbook['price'] - macbook['prediction']\n",
    "macbook.head()"
   ]
  },
  {
   "cell_type": "markdown",
   "metadata": {
    "ExecuteTime": {
     "end_time": "2020-08-11T01:23:40.137679Z",
     "start_time": "2020-08-11T01:23:40.134241Z"
    }
   },
   "source": [
    "### 손실함수\n",
    "- \n",
    "- MAE : Mean Absolute Error, 오차의 절댓값의 평균   \n",
    "- MSE : Mean Squared Error, 오차의 제곱의 평균   \n",
    "- RMSE : Root Mean Squared Error, MSE의 제곱근   \n",
    "- R-squared : Coefficient of Determination, 결정 계수\n"
   ]
  },
  {
   "cell_type": "code",
   "execution_count": 75,
   "metadata": {
    "ExecuteTime": {
     "end_time": "2020-08-11T01:37:03.334360Z",
     "start_time": "2020-08-11T01:37:03.325452Z"
    }
   },
   "outputs": [],
   "source": [
    "# rmase 함수 구현\n",
    "\n",
    "def RMSE(a,b):\n",
    "    mse = ((a-b)**2).mean() # 두 값의 차를 제곱후 평균\n",
    "    rmse = mse ** 0.5 # 제곱근.\n",
    "    return rmse\n"
   ]
  },
  {
   "cell_type": "code",
   "execution_count": 76,
   "metadata": {
    "ExecuteTime": {
     "end_time": "2020-08-11T01:37:03.521393Z",
     "start_time": "2020-08-11T01:37:03.518677Z"
    }
   },
   "outputs": [
    {
     "name": "stdout",
     "output_type": "stream",
     "text": [
      "[10.515 14.08   5.245 16.25  16.095 10.67  11.755  9.275  9.43   8.035\n",
      "  6.95   5.245 10.36   4.005  8.655  4.625 14.545 10.98   8.655  5.865\n",
      "  6.485 12.685  6.485  9.895  9.74   2.61  12.995  9.585  4.47   5.555\n",
      "  7.725 15.01  16.25  14.7    8.5    9.895 10.05   8.81  11.6   14.855\n",
      " 10.67   8.965 12.53   9.74  11.135  7.415  7.105  8.965 12.84   7.105\n",
      "  4.78  11.445  9.74   6.64   7.415  9.275 14.235 14.39  16.56   9.585\n",
      " 14.855  6.02   8.345  7.26   8.5    7.88  13.925 13.615  9.585  9.12\n",
      "  5.4   15.165  5.71   7.105 11.445  6.95   7.415  5.71  12.375  4.625]\n"
     ]
    }
   ],
   "source": [
    "x = macbook[\"used_years\"].values\n",
    "y = macbook[\"price\"].values\n",
    "\n",
    "predictions = model(x, w, b)\n",
    "print(predictions)"
   ]
  },
  {
   "cell_type": "code",
   "execution_count": 77,
   "metadata": {
    "ExecuteTime": {
     "end_time": "2020-08-11T01:37:03.681730Z",
     "start_time": "2020-08-11T01:37:03.678906Z"
    }
   },
   "outputs": [
    {
     "data": {
      "text/plain": [
       "188.81322969819274"
      ]
     },
     "execution_count": 77,
     "metadata": {},
     "output_type": "execute_result"
    }
   ],
   "source": [
    "## 예측값들과 실제값들을 rmse로 오차..\n",
    "rmse = RMSE(predictions,y)\n",
    "rmse"
   ]
  },
  {
   "cell_type": "code",
   "execution_count": 90,
   "metadata": {
    "ExecuteTime": {
     "end_time": "2020-08-11T02:01:30.665220Z",
     "start_time": "2020-08-11T02:01:30.653632Z"
    }
   },
   "outputs": [],
   "source": [
    "# 손실 함수 정의\n",
    "def loss(x,w,b,y):\n",
    "    predictions = model(x,w,b) # model을 통해 예측 결과들 도출\n",
    "    L = RMSE(predictions, y) # 예측 값과 실제 값들을 비교해서 손실 계산\n",
    "    return L"
   ]
  },
  {
   "cell_type": "markdown",
   "metadata": {
    "ExecuteTime": {
     "end_time": "2020-08-11T01:36:38.950592Z",
     "start_time": "2020-08-11T01:36:38.833575Z"
    }
   },
   "source": [
    "### 기울기와 경사 하강법\n",
    "![f](./imgs/01-loss_graph.png)"
   ]
  },
  {
   "cell_type": "markdown",
   "metadata": {},
   "source": [
    "#### w 의 기울기를 구한다. (음수-w up / 양수-w down) 구분\n",
    "```w′=w−ηg  ```\n",
    "- w′ : 새로운 `w`\n",
    "- w : 현재 `w`\n",
    "- η: 얼마나 업데이트를 할 지를 결정하는 상수 (학습률)\n",
    "- g: 기울기, 또는 그래디언트\n"
   ]
  },
  {
   "cell_type": "code",
   "execution_count": 91,
   "metadata": {
    "ExecuteTime": {
     "end_time": "2020-08-11T02:01:31.172559Z",
     "start_time": "2020-08-11T02:01:31.166701Z"
    }
   },
   "outputs": [],
   "source": [
    "# gradient fn 정의: <기울기를 구하는 함수.\n",
    "# 0.0001 △x \n",
    "def gradient(x,w,b,y):\n",
    "    dw = (loss(x,w+0.0001,b,y)- loss(x,w,b,y)) / 0.0001\n",
    "    db = (loss(x,w,b+0.0001,y) - loss(x,w,b,y)) / 0.0001\n",
    "    return dw, db"
   ]
  },
  {
   "cell_type": "markdown",
   "metadata": {
    "ExecuteTime": {
     "end_time": "2020-08-11T01:51:26.717858Z",
     "start_time": "2020-08-11T01:51:26.709323Z"
    }
   },
   "source": [
    "#### 하이퍼 파라미터\n",
    "-학습률 learning rate"
   ]
  },
  {
   "cell_type": "code",
   "execution_count": 92,
   "metadata": {
    "ExecuteTime": {
     "end_time": "2020-08-11T02:01:31.502045Z",
     "start_time": "2020-08-11T02:01:31.500430Z"
    }
   },
   "outputs": [],
   "source": [
    "LEARNING_RATE = 1"
   ]
  },
  {
   "cell_type": "markdown",
   "metadata": {},
   "source": [
    "### 모델 최적화\n",
    "- x,y 입력,정답 데이터 준비\n",
    "- w,b 랜덤하게 지정\n",
    "- 모델 예측 시행, 예측,정답 비교 손실 함수 계산\n",
    "- 기울기 계산\n",
    "- 계산된 기울기로 w , b 업데이트 \n",
    "-위 과정 3~5번 반복 손실이 충분히 줄어들때까지 반복\n"
   ]
  },
  {
   "cell_type": "code",
   "execution_count": 93,
   "metadata": {
    "ExecuteTime": {
     "end_time": "2020-08-11T02:01:31.866980Z",
     "start_time": "2020-08-11T02:01:31.865043Z"
    }
   },
   "outputs": [],
   "source": [
    "# 입력 데이터 정답데이터 set\n",
    "x = macbook[\"used_years\"].values\n",
    "y = macbook[\"price\"].values\n"
   ]
  },
  {
   "cell_type": "code",
   "execution_count": 94,
   "metadata": {
    "ExecuteTime": {
     "end_time": "2020-08-11T02:01:32.047119Z",
     "start_time": "2020-08-11T02:01:32.044328Z"
    }
   },
   "outputs": [
    {
     "data": {
      "text/plain": [
       "(3.1, 2.3)"
      ]
     },
     "execution_count": 94,
     "metadata": {},
     "output_type": "execute_result"
    }
   ],
   "source": [
    "# 가중치 값들 랜덤한 값 지정 \n",
    "w = 3.1\n",
    "b= 2.3\n",
    "w, b"
   ]
  },
  {
   "cell_type": "code",
   "execution_count": 95,
   "metadata": {
    "ExecuteTime": {
     "end_time": "2020-08-11T02:01:32.206533Z",
     "start_time": "2020-08-11T02:01:32.204837Z"
    }
   },
   "outputs": [],
   "source": [
    "# 손실 값 들을 담을 빈 리스트 생성\n",
    "losses = []"
   ]
  },
  {
   "cell_type": "code",
   "execution_count": 96,
   "metadata": {
    "ExecuteTime": {
     "end_time": "2020-08-11T02:01:32.534032Z",
     "start_time": "2020-08-11T02:01:32.407278Z"
    }
   },
   "outputs": [
    {
     "name": "stdout",
     "output_type": "stream",
     "text": [
      "Iteration 100 : Loss 108.0080\n",
      "Iteration 200 : Loss 94.5709\n",
      "Iteration 300 : Loss 81.8560\n",
      "Iteration 400 : Loss 70.1799\n",
      "Iteration 500 : Loss 59.9778\n",
      "Iteration 600 : Loss 51.7475\n",
      "Iteration 700 : Loss 45.8356\n",
      "Iteration 800 : Loss 42.1474\n",
      "Iteration 900 : Loss 40.1357\n",
      "Iteration 1000 : Loss 39.1420\n",
      "Iteration 1100 : Loss 38.6793\n",
      "Iteration 1200 : Loss 38.4703\n",
      "Iteration 1300 : Loss 38.3772\n",
      "Iteration 1400 : Loss 38.3360\n",
      "Iteration 1500 : Loss 38.3179\n",
      "Iteration 1600 : Loss 38.3099\n",
      "Iteration 1700 : Loss 38.3064\n",
      "Iteration 1800 : Loss 38.3048\n",
      "Iteration 1900 : Loss 38.3041\n",
      "Iteration 2000 : Loss 38.3038\n"
     ]
    }
   ],
   "source": [
    "#  손실함수 게산 반복 시행\n",
    "for i in range(1, 2001): # 2천번\n",
    "    dw, db = gradient(x,w,b,y) # w, b 기울기 도출\n",
    "    w -= LEARNING_RATE*dw # w 업데이트\n",
    "    b -= LEARNING_RATE*db # b 업데이트\n",
    "    L = loss(x,w,b,y) # loss 값 도출\n",
    "    losses.append(L) #loss 값 기록\n",
    "    \n",
    "    #100번째 마다 출력. \n",
    "    if i % 100 == 0:\n",
    "        print('Iteration %d : Loss %0.4f' % (i, L))   \n",
    "    \n",
    "    "
   ]
  },
  {
   "cell_type": "code",
   "execution_count": 97,
   "metadata": {
    "ExecuteTime": {
     "end_time": "2020-08-11T02:02:10.741915Z",
     "start_time": "2020-08-11T02:02:10.635870Z"
    }
   },
   "outputs": [
    {
     "data": {
      "image/png": "[encoded data removed]",
      "text/plain": [
       "<Figure size 432x288 with 1 Axes>"
      ]
     },
     "metadata": {
      "image/png": {
       "height": 248,
       "width": 375
      },
      "needs_background": "light"
     },
     "output_type": "display_data"
    }
   ],
   "source": [
    "# loss 값 그래프로 확인하기\n",
    "plt.plot(losses)\n",
    "plt.show()"
   ]
  },
  {
   "cell_type": "code",
   "execution_count": 98,
   "metadata": {
    "ExecuteTime": {
     "end_time": "2020-08-11T02:02:51.385820Z",
     "start_time": "2020-08-11T02:02:51.382487Z"
    }
   },
   "outputs": [
    {
     "data": {
      "text/plain": [
       "(-44.92756090768412, 293.0815786721102)"
      ]
     },
     "execution_count": 98,
     "metadata": {},
     "output_type": "execute_result"
    }
   ],
   "source": [
    "# 현재 업데이트 된 w와 b\n",
    "w, b"
   ]
  },
  {
   "cell_type": "code",
   "execution_count": 101,
   "metadata": {
    "ExecuteTime": {
     "end_time": "2020-08-11T02:04:17.486337Z",
     "start_time": "2020-08-11T02:04:17.382435Z"
    }
   },
   "outputs": [
    {
     "data": {
      "image/png": "[encoded data removed]",
      "text/plain": [
       "<Figure size 432x288 with 1 Axes>"
      ]
     },
     "metadata": {
      "image/png": {
       "height": 248,
       "width": 375
      },
      "needs_background": "light"
     },
     "output_type": "display_data"
    }
   ],
   "source": [
    "# 학습이 완료된 모델 일차함수를 산포도에 그려넣기\n",
    "# 모델에 넣을 x 값들 준비\n",
    "x = np.linspace(0, 5, 6)\n",
    "\n",
    "# x, w, b를 모델에 넣어 y값 출력\n",
    "y = model(x, w, b)\n",
    "\n",
    "# 일차함수 y 그리기\n",
    "plt.plot(y, c=\"r\")\n",
    "\n",
    "# 원본 데이터 점찍기\n",
    "plt.scatter(macbook['used_years'], macbook['price'])\n",
    "plt.show()"
   ]
  },
  {
   "cell_type": "markdown",
   "metadata": {
    "ExecuteTime": {
     "end_time": "2020-08-11T02:05:25.328830Z",
     "start_time": "2020-08-11T02:05:25.326735Z"
    }
   },
   "source": [
    "### TEST"
   ]
  },
  {
   "cell_type": "code",
   "execution_count": 104,
   "metadata": {
    "ExecuteTime": {
     "end_time": "2020-08-11T02:07:33.237087Z",
     "start_time": "2020-08-11T02:07:33.228142Z"
    }
   },
   "outputs": [
    {
     "name": "stdout",
     "output_type": "stream",
     "text": [
      "(20, 2)\n"
     ]
    },
    {
     "data": {
      "text/html": [
       "<div>\n",
       "<style scoped>\n",
       "    .dataframe tbody tr th:only-of-type {\n",
       "        vertical-align: middle;\n",
       "    }\n",
       "\n",
       "    .dataframe tbody tr th {\n",
       "        vertical-align: top;\n",
       "    }\n",
       "\n",
       "    .dataframe thead th {\n",
       "        text-align: right;\n",
       "    }\n",
       "</style>\n",
       "<table border=\"1\" class=\"dataframe\">\n",
       "  <thead>\n",
       "    <tr style=\"text-align: right;\">\n",
       "      <th></th>\n",
       "      <th>used_years</th>\n",
       "      <th>price</th>\n",
       "    </tr>\n",
       "  </thead>\n",
       "  <tbody>\n",
       "    <tr>\n",
       "      <th>0</th>\n",
       "      <td>1.20</td>\n",
       "      <td>203</td>\n",
       "    </tr>\n",
       "    <tr>\n",
       "      <th>1</th>\n",
       "      <td>1.85</td>\n",
       "      <td>206</td>\n",
       "    </tr>\n",
       "    <tr>\n",
       "      <th>2</th>\n",
       "      <td>2.40</td>\n",
       "      <td>191</td>\n",
       "    </tr>\n",
       "    <tr>\n",
       "      <th>3</th>\n",
       "      <td>2.85</td>\n",
       "      <td>164</td>\n",
       "    </tr>\n",
       "    <tr>\n",
       "      <th>4</th>\n",
       "      <td>3.05</td>\n",
       "      <td>176</td>\n",
       "    </tr>\n",
       "  </tbody>\n",
       "</table>\n",
       "</div>"
      ],
      "text/plain": [
       "   used_years  price\n",
       "0        1.20    203\n",
       "1        1.85    206\n",
       "2        2.40    191\n",
       "3        2.85    164\n",
       "4        3.05    176"
      ]
     },
     "execution_count": 104,
     "metadata": {},
     "output_type": "execute_result"
    }
   ],
   "source": [
    "#학습하지 않은 test 데이터 import\n",
    "test = pd.read_csv(\"./macbook_data/macbook_test.csv\")\n",
    "print(test.shape)\n",
    "test.head()\n",
    "\n"
   ]
  },
  {
   "cell_type": "code",
   "execution_count": 105,
   "metadata": {
    "ExecuteTime": {
     "end_time": "2020-08-11T02:08:29.836963Z",
     "start_time": "2020-08-11T02:08:29.831878Z"
    }
   },
   "outputs": [],
   "source": [
    "# x, y 분리\n",
    "test_x = test['used_years'].values\n",
    "test_y = test['price'].values\n"
   ]
  },
  {
   "cell_type": "code",
   "execution_count": 108,
   "metadata": {
    "ExecuteTime": {
     "end_time": "2020-08-11T02:10:20.898196Z",
     "start_time": "2020-08-11T02:10:20.888825Z"
    }
   },
   "outputs": [
    {
     "data": {
      "text/html": [
       "<div>\n",
       "<style scoped>\n",
       "    .dataframe tbody tr th:only-of-type {\n",
       "        vertical-align: middle;\n",
       "    }\n",
       "\n",
       "    .dataframe tbody tr th {\n",
       "        vertical-align: top;\n",
       "    }\n",
       "\n",
       "    .dataframe thead th {\n",
       "        text-align: right;\n",
       "    }\n",
       "</style>\n",
       "<table border=\"1\" class=\"dataframe\">\n",
       "  <thead>\n",
       "    <tr style=\"text-align: right;\">\n",
       "      <th></th>\n",
       "      <th>used_years</th>\n",
       "      <th>price</th>\n",
       "      <th>prediction</th>\n",
       "    </tr>\n",
       "  </thead>\n",
       "  <tbody>\n",
       "    <tr>\n",
       "      <th>0</th>\n",
       "      <td>1.20</td>\n",
       "      <td>203</td>\n",
       "      <td>239.168506</td>\n",
       "    </tr>\n",
       "    <tr>\n",
       "      <th>1</th>\n",
       "      <td>1.85</td>\n",
       "      <td>206</td>\n",
       "      <td>209.965591</td>\n",
       "    </tr>\n",
       "    <tr>\n",
       "      <th>2</th>\n",
       "      <td>2.40</td>\n",
       "      <td>191</td>\n",
       "      <td>185.255432</td>\n",
       "    </tr>\n",
       "    <tr>\n",
       "      <th>3</th>\n",
       "      <td>2.85</td>\n",
       "      <td>164</td>\n",
       "      <td>165.038030</td>\n",
       "    </tr>\n",
       "    <tr>\n",
       "      <th>4</th>\n",
       "      <td>3.05</td>\n",
       "      <td>176</td>\n",
       "      <td>156.052518</td>\n",
       "    </tr>\n",
       "    <tr>\n",
       "      <th>5</th>\n",
       "      <td>3.35</td>\n",
       "      <td>136</td>\n",
       "      <td>142.574250</td>\n",
       "    </tr>\n",
       "    <tr>\n",
       "      <th>6</th>\n",
       "      <td>2.55</td>\n",
       "      <td>133</td>\n",
       "      <td>178.516298</td>\n",
       "    </tr>\n",
       "    <tr>\n",
       "      <th>7</th>\n",
       "      <td>2.60</td>\n",
       "      <td>181</td>\n",
       "      <td>176.269920</td>\n",
       "    </tr>\n",
       "    <tr>\n",
       "      <th>8</th>\n",
       "      <td>2.50</td>\n",
       "      <td>181</td>\n",
       "      <td>180.762676</td>\n",
       "    </tr>\n",
       "    <tr>\n",
       "      <th>9</th>\n",
       "      <td>3.10</td>\n",
       "      <td>86</td>\n",
       "      <td>153.806140</td>\n",
       "    </tr>\n",
       "    <tr>\n",
       "      <th>10</th>\n",
       "      <td>2.70</td>\n",
       "      <td>171</td>\n",
       "      <td>171.777164</td>\n",
       "    </tr>\n",
       "    <tr>\n",
       "      <th>11</th>\n",
       "      <td>3.40</td>\n",
       "      <td>253</td>\n",
       "      <td>140.327872</td>\n",
       "    </tr>\n",
       "    <tr>\n",
       "      <th>12</th>\n",
       "      <td>1.30</td>\n",
       "      <td>263</td>\n",
       "      <td>234.675749</td>\n",
       "    </tr>\n",
       "    <tr>\n",
       "      <th>13</th>\n",
       "      <td>1.80</td>\n",
       "      <td>129</td>\n",
       "      <td>212.211969</td>\n",
       "    </tr>\n",
       "    <tr>\n",
       "      <th>14</th>\n",
       "      <td>3.10</td>\n",
       "      <td>135</td>\n",
       "      <td>153.806140</td>\n",
       "    </tr>\n",
       "    <tr>\n",
       "      <th>15</th>\n",
       "      <td>1.55</td>\n",
       "      <td>236</td>\n",
       "      <td>223.443859</td>\n",
       "    </tr>\n",
       "    <tr>\n",
       "      <th>16</th>\n",
       "      <td>1.80</td>\n",
       "      <td>206</td>\n",
       "      <td>212.211969</td>\n",
       "    </tr>\n",
       "    <tr>\n",
       "      <th>17</th>\n",
       "      <td>3.55</td>\n",
       "      <td>203</td>\n",
       "      <td>133.588737</td>\n",
       "    </tr>\n",
       "    <tr>\n",
       "      <th>18</th>\n",
       "      <td>3.40</td>\n",
       "      <td>96</td>\n",
       "      <td>140.327872</td>\n",
       "    </tr>\n",
       "    <tr>\n",
       "      <th>19</th>\n",
       "      <td>2.50</td>\n",
       "      <td>115</td>\n",
       "      <td>180.762676</td>\n",
       "    </tr>\n",
       "  </tbody>\n",
       "</table>\n",
       "</div>"
      ],
      "text/plain": [
       "    used_years  price  prediction\n",
       "0         1.20    203  239.168506\n",
       "1         1.85    206  209.965591\n",
       "2         2.40    191  185.255432\n",
       "3         2.85    164  165.038030\n",
       "4         3.05    176  156.052518\n",
       "5         3.35    136  142.574250\n",
       "6         2.55    133  178.516298\n",
       "7         2.60    181  176.269920\n",
       "8         2.50    181  180.762676\n",
       "9         3.10     86  153.806140\n",
       "10        2.70    171  171.777164\n",
       "11        3.40    253  140.327872\n",
       "12        1.30    263  234.675749\n",
       "13        1.80    129  212.211969\n",
       "14        3.10    135  153.806140\n",
       "15        1.55    236  223.443859\n",
       "16        1.80    206  212.211969\n",
       "17        3.55    203  133.588737\n",
       "18        3.40     96  140.327872\n",
       "19        2.50    115  180.762676"
      ]
     },
     "execution_count": 108,
     "metadata": {},
     "output_type": "execute_result"
    }
   ],
   "source": [
    "# 훈련된 모델로 예측 값\n",
    "prediction = model(test_x,w,b)\n",
    "# 가져온 data 에 붙이기\n",
    "test['prediction'] = prediction\n",
    "test"
   ]
  },
  {
   "cell_type": "code",
   "execution_count": 109,
   "metadata": {
    "ExecuteTime": {
     "end_time": "2020-08-11T02:11:10.388618Z",
     "start_time": "2020-08-11T02:11:10.376357Z"
    }
   },
   "outputs": [
    {
     "data": {
      "text/html": [
       "<div>\n",
       "<style scoped>\n",
       "    .dataframe tbody tr th:only-of-type {\n",
       "        vertical-align: middle;\n",
       "    }\n",
       "\n",
       "    .dataframe tbody tr th {\n",
       "        vertical-align: top;\n",
       "    }\n",
       "\n",
       "    .dataframe thead th {\n",
       "        text-align: right;\n",
       "    }\n",
       "</style>\n",
       "<table border=\"1\" class=\"dataframe\">\n",
       "  <thead>\n",
       "    <tr style=\"text-align: right;\">\n",
       "      <th></th>\n",
       "      <th>used_years</th>\n",
       "      <th>price</th>\n",
       "      <th>prediction</th>\n",
       "      <th>error</th>\n",
       "    </tr>\n",
       "  </thead>\n",
       "  <tbody>\n",
       "    <tr>\n",
       "      <th>0</th>\n",
       "      <td>1.20</td>\n",
       "      <td>203</td>\n",
       "      <td>239.168506</td>\n",
       "      <td>-36.168506</td>\n",
       "    </tr>\n",
       "    <tr>\n",
       "      <th>1</th>\n",
       "      <td>1.85</td>\n",
       "      <td>206</td>\n",
       "      <td>209.965591</td>\n",
       "      <td>-3.965591</td>\n",
       "    </tr>\n",
       "    <tr>\n",
       "      <th>2</th>\n",
       "      <td>2.40</td>\n",
       "      <td>191</td>\n",
       "      <td>185.255432</td>\n",
       "      <td>5.744568</td>\n",
       "    </tr>\n",
       "    <tr>\n",
       "      <th>3</th>\n",
       "      <td>2.85</td>\n",
       "      <td>164</td>\n",
       "      <td>165.038030</td>\n",
       "      <td>-1.038030</td>\n",
       "    </tr>\n",
       "    <tr>\n",
       "      <th>4</th>\n",
       "      <td>3.05</td>\n",
       "      <td>176</td>\n",
       "      <td>156.052518</td>\n",
       "      <td>19.947482</td>\n",
       "    </tr>\n",
       "    <tr>\n",
       "      <th>5</th>\n",
       "      <td>3.35</td>\n",
       "      <td>136</td>\n",
       "      <td>142.574250</td>\n",
       "      <td>-6.574250</td>\n",
       "    </tr>\n",
       "    <tr>\n",
       "      <th>6</th>\n",
       "      <td>2.55</td>\n",
       "      <td>133</td>\n",
       "      <td>178.516298</td>\n",
       "      <td>-45.516298</td>\n",
       "    </tr>\n",
       "    <tr>\n",
       "      <th>7</th>\n",
       "      <td>2.60</td>\n",
       "      <td>181</td>\n",
       "      <td>176.269920</td>\n",
       "      <td>4.730080</td>\n",
       "    </tr>\n",
       "    <tr>\n",
       "      <th>8</th>\n",
       "      <td>2.50</td>\n",
       "      <td>181</td>\n",
       "      <td>180.762676</td>\n",
       "      <td>0.237324</td>\n",
       "    </tr>\n",
       "    <tr>\n",
       "      <th>9</th>\n",
       "      <td>3.10</td>\n",
       "      <td>86</td>\n",
       "      <td>153.806140</td>\n",
       "      <td>-67.806140</td>\n",
       "    </tr>\n",
       "    <tr>\n",
       "      <th>10</th>\n",
       "      <td>2.70</td>\n",
       "      <td>171</td>\n",
       "      <td>171.777164</td>\n",
       "      <td>-0.777164</td>\n",
       "    </tr>\n",
       "    <tr>\n",
       "      <th>11</th>\n",
       "      <td>3.40</td>\n",
       "      <td>253</td>\n",
       "      <td>140.327872</td>\n",
       "      <td>112.672128</td>\n",
       "    </tr>\n",
       "    <tr>\n",
       "      <th>12</th>\n",
       "      <td>1.30</td>\n",
       "      <td>263</td>\n",
       "      <td>234.675749</td>\n",
       "      <td>28.324251</td>\n",
       "    </tr>\n",
       "    <tr>\n",
       "      <th>13</th>\n",
       "      <td>1.80</td>\n",
       "      <td>129</td>\n",
       "      <td>212.211969</td>\n",
       "      <td>-83.211969</td>\n",
       "    </tr>\n",
       "    <tr>\n",
       "      <th>14</th>\n",
       "      <td>3.10</td>\n",
       "      <td>135</td>\n",
       "      <td>153.806140</td>\n",
       "      <td>-18.806140</td>\n",
       "    </tr>\n",
       "    <tr>\n",
       "      <th>15</th>\n",
       "      <td>1.55</td>\n",
       "      <td>236</td>\n",
       "      <td>223.443859</td>\n",
       "      <td>12.556141</td>\n",
       "    </tr>\n",
       "    <tr>\n",
       "      <th>16</th>\n",
       "      <td>1.80</td>\n",
       "      <td>206</td>\n",
       "      <td>212.211969</td>\n",
       "      <td>-6.211969</td>\n",
       "    </tr>\n",
       "    <tr>\n",
       "      <th>17</th>\n",
       "      <td>3.55</td>\n",
       "      <td>203</td>\n",
       "      <td>133.588737</td>\n",
       "      <td>69.411263</td>\n",
       "    </tr>\n",
       "    <tr>\n",
       "      <th>18</th>\n",
       "      <td>3.40</td>\n",
       "      <td>96</td>\n",
       "      <td>140.327872</td>\n",
       "      <td>-44.327872</td>\n",
       "    </tr>\n",
       "    <tr>\n",
       "      <th>19</th>\n",
       "      <td>2.50</td>\n",
       "      <td>115</td>\n",
       "      <td>180.762676</td>\n",
       "      <td>-65.762676</td>\n",
       "    </tr>\n",
       "  </tbody>\n",
       "</table>\n",
       "</div>"
      ],
      "text/plain": [
       "    used_years  price  prediction       error\n",
       "0         1.20    203  239.168506  -36.168506\n",
       "1         1.85    206  209.965591   -3.965591\n",
       "2         2.40    191  185.255432    5.744568\n",
       "3         2.85    164  165.038030   -1.038030\n",
       "4         3.05    176  156.052518   19.947482\n",
       "5         3.35    136  142.574250   -6.574250\n",
       "6         2.55    133  178.516298  -45.516298\n",
       "7         2.60    181  176.269920    4.730080\n",
       "8         2.50    181  180.762676    0.237324\n",
       "9         3.10     86  153.806140  -67.806140\n",
       "10        2.70    171  171.777164   -0.777164\n",
       "11        3.40    253  140.327872  112.672128\n",
       "12        1.30    263  234.675749   28.324251\n",
       "13        1.80    129  212.211969  -83.211969\n",
       "14        3.10    135  153.806140  -18.806140\n",
       "15        1.55    236  223.443859   12.556141\n",
       "16        1.80    206  212.211969   -6.211969\n",
       "17        3.55    203  133.588737   69.411263\n",
       "18        3.40     96  140.327872  -44.327872\n",
       "19        2.50    115  180.762676  -65.762676"
      ]
     },
     "execution_count": 109,
     "metadata": {},
     "output_type": "execute_result"
    }
   ],
   "source": [
    "# 오차 값도 붙이기\n",
    "test['error'] = test['price']- test['prediction']\n",
    "test"
   ]
  },
  {
   "cell_type": "code",
   "execution_count": 111,
   "metadata": {
    "ExecuteTime": {
     "end_time": "2020-08-11T02:12:02.967285Z",
     "start_time": "2020-08-11T02:12:02.955737Z"
    }
   },
   "outputs": [
    {
     "data": {
      "text/plain": [
       "45.03918284717212"
      ]
     },
     "execution_count": 111,
     "metadata": {},
     "output_type": "execute_result"
    }
   ],
   "source": [
    "# 손실함수 값.\n",
    "#rmse = ((test['error'] ** 2).sum() / len(test)) ** 0.5\n",
    "rmse = (test['error']**2).mean()**0.5\n",
    "rmse"
   ]
  },
  {
   "cell_type": "code",
   "execution_count": 113,
   "metadata": {
    "ExecuteTime": {
     "end_time": "2020-08-11T02:13:34.850151Z",
     "start_time": "2020-08-11T02:13:34.763819Z"
    }
   },
   "outputs": [
    {
     "data": {
      "image/png": "[encoded data removed]",
      "text/plain": [
       "<Figure size 432x288 with 1 Axes>"
      ]
     },
     "metadata": {
      "image/png": {
       "height": 248,
       "width": 375
      },
      "needs_background": "light"
     },
     "output_type": "display_data"
    }
   ],
   "source": [
    "# 그래프로 ~~~~test data\n",
    "\n",
    "# 훈련된 모델로 일차 함수 긋기\n",
    "x = np.linspace(0, 5, 6)\n",
    "y = model(x, w, b)\n",
    "plt.plot(y, c=\"r\")\n",
    "\n",
    "# 실제 데이터 값\n",
    "plt.scatter(test['used_years'], test['price']) # 파랑\n",
    "\n",
    "# 모델이 예측한 값\n",
    "plt.scatter(test['used_years'], test['prediction']) # 주황\n",
    "plt.show()"
   ]
  },
  {
   "cell_type": "code",
   "execution_count": null,
   "metadata": {},
   "outputs": [],
   "source": []
  }
 ],
 "metadata": {
  "kernelspec": {
   "display_name": "Python 3",
   "language": "python",
   "name": "python3"
  },
  "language_info": {
   "codemirror_mode": {
    "name": "ipython",
    "version": 3
   },
   "file_extension": ".py",
   "mimetype": "text/x-python",
   "name": "python",
   "nbconvert_exporter": "python",
   "pygments_lexer": "ipython3",
   "version": "3.7.6"
  },
  "toc": {
   "base_numbering": 1,
   "nav_menu": {},
   "number_sections": true,
   "sideBar": true,
   "skip_h1_title": false,
   "title_cell": "Table of Contents",
   "title_sidebar": "Contents",
   "toc_cell": false,
   "toc_position": {
    "height": "calc(100% - 180px)",
    "left": "10px",
    "top": "150px",
    "width": "200.54px"
   },
   "toc_section_display": true,
   "toc_window_display": true
  },
  "varInspector": {
   "cols": {
    "lenName": 16,
    "lenType": 16,
    "lenVar": 40
   },
   "kernels_config": {
    "python": {
     "delete_cmd_postfix": "",
     "delete_cmd_prefix": "del ",
     "library": "var_list.py",
     "varRefreshCmd": "print(var_dic_list())"
    },
    "r": {
     "delete_cmd_postfix": ") ",
     "delete_cmd_prefix": "rm(",
     "library": "var_list.r",
     "varRefreshCmd": "cat(var_dic_list()) "
    }
   },
   "types_to_exclude": [
    "module",
    "function",
    "builtin_function_or_method",
    "instance",
    "_Feature"
   ],
   "window_display": false
  }
 },
 "nbformat": 4,
 "nbformat_minor": 4
}
