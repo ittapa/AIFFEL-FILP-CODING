{
 "cells": [
  {
   "cell_type": "markdown",
   "metadata": {},
   "source": [
    "# 프로젝트 Movielnes 영화 추천실습\n",
    "   \n",
    "     \n",
    "        \n",
    "        \n",
    "\n",
    "``` wget http://files.grouplens.org/datasets/movielens/ml-1m.zip```"
   ]
  },
  {
   "cell_type": "markdown",
   "metadata": {},
   "source": [
    "## libaryry import"
   ]
  },
  {
   "cell_type": "code",
   "execution_count": 2,
   "metadata": {
    "ExecuteTime": {
     "end_time": "2020-08-19T09:48:36.168517Z",
     "start_time": "2020-08-19T09:48:35.828478Z"
    }
   },
   "outputs": [],
   "source": [
    "import os\n",
    "import pandas as pd \n",
    "import numpy as np\n",
    "from scipy.sparse import csr_matrix\n",
    "from implicit.als import AlternatingLeastSquares"
   ]
  },
  {
   "cell_type": "code",
   "execution_count": null,
   "metadata": {},
   "outputs": [],
   "source": []
  },
  {
   "cell_type": "markdown",
   "metadata": {},
   "source": [
    "## data improt\n"
   ]
  },
  {
   "cell_type": "code",
   "execution_count": 3,
   "metadata": {
    "ExecuteTime": {
     "end_time": "2020-08-19T09:48:39.631219Z",
     "start_time": "2020-08-19T09:48:36.561672Z"
    }
   },
   "outputs": [
    {
     "data": {
      "text/html": [
       "<div>\n",
       "<style scoped>\n",
       "    .dataframe tbody tr th:only-of-type {\n",
       "        vertical-align: middle;\n",
       "    }\n",
       "\n",
       "    .dataframe tbody tr th {\n",
       "        vertical-align: top;\n",
       "    }\n",
       "\n",
       "    .dataframe thead th {\n",
       "        text-align: right;\n",
       "    }\n",
       "</style>\n",
       "<table border=\"1\" class=\"dataframe\">\n",
       "  <thead>\n",
       "    <tr style=\"text-align: right;\">\n",
       "      <th></th>\n",
       "      <th>user_id</th>\n",
       "      <th>movie_id</th>\n",
       "      <th>rating</th>\n",
       "      <th>timestamp</th>\n",
       "    </tr>\n",
       "  </thead>\n",
       "  <tbody>\n",
       "    <tr>\n",
       "      <th>0</th>\n",
       "      <td>1</td>\n",
       "      <td>1193</td>\n",
       "      <td>5</td>\n",
       "      <td>978300760</td>\n",
       "    </tr>\n",
       "    <tr>\n",
       "      <th>1</th>\n",
       "      <td>1</td>\n",
       "      <td>661</td>\n",
       "      <td>3</td>\n",
       "      <td>978302109</td>\n",
       "    </tr>\n",
       "    <tr>\n",
       "      <th>2</th>\n",
       "      <td>1</td>\n",
       "      <td>914</td>\n",
       "      <td>3</td>\n",
       "      <td>978301968</td>\n",
       "    </tr>\n",
       "    <tr>\n",
       "      <th>3</th>\n",
       "      <td>1</td>\n",
       "      <td>3408</td>\n",
       "      <td>4</td>\n",
       "      <td>978300275</td>\n",
       "    </tr>\n",
       "    <tr>\n",
       "      <th>4</th>\n",
       "      <td>1</td>\n",
       "      <td>2355</td>\n",
       "      <td>5</td>\n",
       "      <td>978824291</td>\n",
       "    </tr>\n",
       "  </tbody>\n",
       "</table>\n",
       "</div>"
      ],
      "text/plain": [
       "   user_id  movie_id  rating  timestamp\n",
       "0        1      1193       5  978300760\n",
       "1        1       661       3  978302109\n",
       "2        1       914       3  978301968\n",
       "3        1      3408       4  978300275\n",
       "4        1      2355       5  978824291"
      ]
     },
     "execution_count": 3,
     "metadata": {},
     "output_type": "execute_result"
    }
   ],
   "source": [
    "#rating_file_path=os.getenv('HOME') + '/aiffel/AIFFEL_LSG/lms/E07-Recommender_sys/data/ml-1m/ratings.dat'\n",
    "rating_file_path= './data/ml-1m/ratings.dat'\n",
    "ratings_cols = ['user_id', 'movie_id', 'rating', 'timestamp']\n",
    "ratings = pd.read_csv(rating_file_path, sep='::', names=ratings_cols, engine='python')\n",
    "orginal_data_size = len(ratings)\n",
    "ratings.head()"
   ]
  },
  {
   "cell_type": "code",
   "execution_count": null,
   "metadata": {},
   "outputs": [],
   "source": []
  },
  {
   "cell_type": "markdown",
   "metadata": {
    "ExecuteTime": {
     "end_time": "2020-08-18T07:10:24.584646Z",
     "start_time": "2020-08-18T07:10:24.582452Z"
    }
   },
   "source": [
    "## data preprocessing"
   ]
  },
  {
   "cell_type": "code",
   "execution_count": 4,
   "metadata": {
    "ExecuteTime": {
     "end_time": "2020-08-19T09:48:39.664690Z",
     "start_time": "2020-08-19T09:48:39.645356Z"
    },
    "code_folding": []
   },
   "outputs": [
    {
     "name": "stdout",
     "output_type": "stream",
     "text": [
      "orginal_data_size: 1000209, filtered_data_size: 836478\n",
      "Ratio of Remaining Data is 83.63%\n"
     ]
    }
   ],
   "source": [
    "# 3점 이상만 남깁니다.\n",
    "ratings = ratings[ratings['rating']>=3]\n",
    "filtered_data_size = len(ratings)\n",
    "\n",
    "\n",
    "\n",
    "print(f'orginal_data_size: {orginal_data_size}, filtered_data_size: {filtered_data_size}')\n",
    "print(f'Ratio of Remaining Data is {filtered_data_size / orginal_data_size:.2%}')"
   ]
  },
  {
   "cell_type": "code",
   "execution_count": 5,
   "metadata": {
    "ExecuteTime": {
     "end_time": "2020-08-19T09:48:39.688622Z",
     "start_time": "2020-08-19T09:48:39.678332Z"
    },
    "code_folding": []
   },
   "outputs": [],
   "source": [
    "# rating 컬럼의 이름을 count로 바꿉니다.\n",
    "ratings.rename(columns={'rating':'count'}, inplace=True)\n"
   ]
  },
  {
   "cell_type": "code",
   "execution_count": 6,
   "metadata": {
    "ExecuteTime": {
     "end_time": "2020-08-19T09:48:39.710794Z",
     "start_time": "2020-08-19T09:48:39.703926Z"
    }
   },
   "outputs": [
    {
     "data": {
      "text/html": [
       "<div>\n",
       "<style scoped>\n",
       "    .dataframe tbody tr th:only-of-type {\n",
       "        vertical-align: middle;\n",
       "    }\n",
       "\n",
       "    .dataframe tbody tr th {\n",
       "        vertical-align: top;\n",
       "    }\n",
       "\n",
       "    .dataframe thead th {\n",
       "        text-align: right;\n",
       "    }\n",
       "</style>\n",
       "<table border=\"1\" class=\"dataframe\">\n",
       "  <thead>\n",
       "    <tr style=\"text-align: right;\">\n",
       "      <th></th>\n",
       "      <th>user_id</th>\n",
       "      <th>movie_id</th>\n",
       "      <th>count</th>\n",
       "      <th>timestamp</th>\n",
       "    </tr>\n",
       "  </thead>\n",
       "  <tbody>\n",
       "    <tr>\n",
       "      <th>0</th>\n",
       "      <td>1</td>\n",
       "      <td>1193</td>\n",
       "      <td>5</td>\n",
       "      <td>978300760</td>\n",
       "    </tr>\n",
       "    <tr>\n",
       "      <th>1</th>\n",
       "      <td>1</td>\n",
       "      <td>661</td>\n",
       "      <td>3</td>\n",
       "      <td>978302109</td>\n",
       "    </tr>\n",
       "    <tr>\n",
       "      <th>2</th>\n",
       "      <td>1</td>\n",
       "      <td>914</td>\n",
       "      <td>3</td>\n",
       "      <td>978301968</td>\n",
       "    </tr>\n",
       "    <tr>\n",
       "      <th>3</th>\n",
       "      <td>1</td>\n",
       "      <td>3408</td>\n",
       "      <td>4</td>\n",
       "      <td>978300275</td>\n",
       "    </tr>\n",
       "    <tr>\n",
       "      <th>4</th>\n",
       "      <td>1</td>\n",
       "      <td>2355</td>\n",
       "      <td>5</td>\n",
       "      <td>978824291</td>\n",
       "    </tr>\n",
       "    <tr>\n",
       "      <th>...</th>\n",
       "      <td>...</td>\n",
       "      <td>...</td>\n",
       "      <td>...</td>\n",
       "      <td>...</td>\n",
       "    </tr>\n",
       "    <tr>\n",
       "      <th>1000203</th>\n",
       "      <td>6040</td>\n",
       "      <td>1090</td>\n",
       "      <td>3</td>\n",
       "      <td>956715518</td>\n",
       "    </tr>\n",
       "    <tr>\n",
       "      <th>1000205</th>\n",
       "      <td>6040</td>\n",
       "      <td>1094</td>\n",
       "      <td>5</td>\n",
       "      <td>956704887</td>\n",
       "    </tr>\n",
       "    <tr>\n",
       "      <th>1000206</th>\n",
       "      <td>6040</td>\n",
       "      <td>562</td>\n",
       "      <td>5</td>\n",
       "      <td>956704746</td>\n",
       "    </tr>\n",
       "    <tr>\n",
       "      <th>1000207</th>\n",
       "      <td>6040</td>\n",
       "      <td>1096</td>\n",
       "      <td>4</td>\n",
       "      <td>956715648</td>\n",
       "    </tr>\n",
       "    <tr>\n",
       "      <th>1000208</th>\n",
       "      <td>6040</td>\n",
       "      <td>1097</td>\n",
       "      <td>4</td>\n",
       "      <td>956715569</td>\n",
       "    </tr>\n",
       "  </tbody>\n",
       "</table>\n",
       "<p>836478 rows × 4 columns</p>\n",
       "</div>"
      ],
      "text/plain": [
       "         user_id  movie_id  count  timestamp\n",
       "0              1      1193      5  978300760\n",
       "1              1       661      3  978302109\n",
       "2              1       914      3  978301968\n",
       "3              1      3408      4  978300275\n",
       "4              1      2355      5  978824291\n",
       "...          ...       ...    ...        ...\n",
       "1000203     6040      1090      3  956715518\n",
       "1000205     6040      1094      5  956704887\n",
       "1000206     6040       562      5  956704746\n",
       "1000207     6040      1096      4  956715648\n",
       "1000208     6040      1097      4  956715569\n",
       "\n",
       "[836478 rows x 4 columns]"
      ]
     },
     "execution_count": 6,
     "metadata": {},
     "output_type": "execute_result"
    }
   ],
   "source": [
    "ratings"
   ]
  },
  {
   "cell_type": "code",
   "execution_count": 7,
   "metadata": {
    "ExecuteTime": {
     "end_time": "2020-08-19T09:48:39.733780Z",
     "start_time": "2020-08-19T09:48:39.724134Z"
    }
   },
   "outputs": [
    {
     "data": {
      "text/html": [
       "<div>\n",
       "<style scoped>\n",
       "    .dataframe tbody tr th:only-of-type {\n",
       "        vertical-align: middle;\n",
       "    }\n",
       "\n",
       "    .dataframe tbody tr th {\n",
       "        vertical-align: top;\n",
       "    }\n",
       "\n",
       "    .dataframe thead th {\n",
       "        text-align: right;\n",
       "    }\n",
       "</style>\n",
       "<table border=\"1\" class=\"dataframe\">\n",
       "  <thead>\n",
       "    <tr style=\"text-align: right;\">\n",
       "      <th></th>\n",
       "      <th>user_id</th>\n",
       "      <th>movie_id</th>\n",
       "      <th>count</th>\n",
       "    </tr>\n",
       "  </thead>\n",
       "  <tbody>\n",
       "    <tr>\n",
       "      <th>1000198</th>\n",
       "      <td>6040</td>\n",
       "      <td>2021</td>\n",
       "      <td>3</td>\n",
       "    </tr>\n",
       "    <tr>\n",
       "      <th>1000199</th>\n",
       "      <td>6040</td>\n",
       "      <td>2022</td>\n",
       "      <td>5</td>\n",
       "    </tr>\n",
       "    <tr>\n",
       "      <th>1000200</th>\n",
       "      <td>6040</td>\n",
       "      <td>2028</td>\n",
       "      <td>5</td>\n",
       "    </tr>\n",
       "    <tr>\n",
       "      <th>1000201</th>\n",
       "      <td>6040</td>\n",
       "      <td>1080</td>\n",
       "      <td>4</td>\n",
       "    </tr>\n",
       "    <tr>\n",
       "      <th>1000202</th>\n",
       "      <td>6040</td>\n",
       "      <td>1089</td>\n",
       "      <td>4</td>\n",
       "    </tr>\n",
       "    <tr>\n",
       "      <th>1000203</th>\n",
       "      <td>6040</td>\n",
       "      <td>1090</td>\n",
       "      <td>3</td>\n",
       "    </tr>\n",
       "    <tr>\n",
       "      <th>1000205</th>\n",
       "      <td>6040</td>\n",
       "      <td>1094</td>\n",
       "      <td>5</td>\n",
       "    </tr>\n",
       "    <tr>\n",
       "      <th>1000206</th>\n",
       "      <td>6040</td>\n",
       "      <td>562</td>\n",
       "      <td>5</td>\n",
       "    </tr>\n",
       "    <tr>\n",
       "      <th>1000207</th>\n",
       "      <td>6040</td>\n",
       "      <td>1096</td>\n",
       "      <td>4</td>\n",
       "    </tr>\n",
       "    <tr>\n",
       "      <th>1000208</th>\n",
       "      <td>6040</td>\n",
       "      <td>1097</td>\n",
       "      <td>4</td>\n",
       "    </tr>\n",
       "  </tbody>\n",
       "</table>\n",
       "</div>"
      ],
      "text/plain": [
       "         user_id  movie_id  count\n",
       "1000198     6040      2021      3\n",
       "1000199     6040      2022      5\n",
       "1000200     6040      2028      5\n",
       "1000201     6040      1080      4\n",
       "1000202     6040      1089      4\n",
       "1000203     6040      1090      3\n",
       "1000205     6040      1094      5\n",
       "1000206     6040       562      5\n",
       "1000207     6040      1096      4\n",
       "1000208     6040      1097      4"
      ]
     },
     "execution_count": 7,
     "metadata": {},
     "output_type": "execute_result"
    }
   ],
   "source": [
    "# 사용하는 컬럼만 남겨줍니다.\n",
    "using_cols = ['user_id', 'movie_id', 'count']\n",
    "data = ratings[using_cols]\n",
    "data.tail(10)"
   ]
  },
  {
   "cell_type": "code",
   "execution_count": 8,
   "metadata": {
    "ExecuteTime": {
     "end_time": "2020-08-19T09:48:39.769507Z",
     "start_time": "2020-08-19T09:48:39.751684Z"
    }
   },
   "outputs": [
    {
     "data": {
      "text/html": [
       "<div>\n",
       "<style scoped>\n",
       "    .dataframe tbody tr th:only-of-type {\n",
       "        vertical-align: middle;\n",
       "    }\n",
       "\n",
       "    .dataframe tbody tr th {\n",
       "        vertical-align: top;\n",
       "    }\n",
       "\n",
       "    .dataframe thead th {\n",
       "        text-align: right;\n",
       "    }\n",
       "</style>\n",
       "<table border=\"1\" class=\"dataframe\">\n",
       "  <thead>\n",
       "    <tr style=\"text-align: right;\">\n",
       "      <th></th>\n",
       "      <th>movie_id</th>\n",
       "      <th>title</th>\n",
       "      <th>genre</th>\n",
       "    </tr>\n",
       "  </thead>\n",
       "  <tbody>\n",
       "    <tr>\n",
       "      <th>3873</th>\n",
       "      <td>3943</td>\n",
       "      <td>Bamboozled (2000)</td>\n",
       "      <td>Comedy</td>\n",
       "    </tr>\n",
       "    <tr>\n",
       "      <th>3874</th>\n",
       "      <td>3944</td>\n",
       "      <td>Bootmen (2000)</td>\n",
       "      <td>Comedy|Drama</td>\n",
       "    </tr>\n",
       "    <tr>\n",
       "      <th>3875</th>\n",
       "      <td>3945</td>\n",
       "      <td>Digimon: The Movie (2000)</td>\n",
       "      <td>Adventure|Animation|Children's</td>\n",
       "    </tr>\n",
       "    <tr>\n",
       "      <th>3876</th>\n",
       "      <td>3946</td>\n",
       "      <td>Get Carter (2000)</td>\n",
       "      <td>Action|Drama|Thriller</td>\n",
       "    </tr>\n",
       "    <tr>\n",
       "      <th>3877</th>\n",
       "      <td>3947</td>\n",
       "      <td>Get Carter (1971)</td>\n",
       "      <td>Thriller</td>\n",
       "    </tr>\n",
       "    <tr>\n",
       "      <th>3878</th>\n",
       "      <td>3948</td>\n",
       "      <td>Meet the Parents (2000)</td>\n",
       "      <td>Comedy</td>\n",
       "    </tr>\n",
       "    <tr>\n",
       "      <th>3879</th>\n",
       "      <td>3949</td>\n",
       "      <td>Requiem for a Dream (2000)</td>\n",
       "      <td>Drama</td>\n",
       "    </tr>\n",
       "    <tr>\n",
       "      <th>3880</th>\n",
       "      <td>3950</td>\n",
       "      <td>Tigerland (2000)</td>\n",
       "      <td>Drama</td>\n",
       "    </tr>\n",
       "    <tr>\n",
       "      <th>3881</th>\n",
       "      <td>3951</td>\n",
       "      <td>Two Family House (2000)</td>\n",
       "      <td>Drama</td>\n",
       "    </tr>\n",
       "    <tr>\n",
       "      <th>3882</th>\n",
       "      <td>3952</td>\n",
       "      <td>Contender, The (2000)</td>\n",
       "      <td>Drama|Thriller</td>\n",
       "    </tr>\n",
       "  </tbody>\n",
       "</table>\n",
       "</div>"
      ],
      "text/plain": [
       "      movie_id                       title                           genre\n",
       "3873      3943           Bamboozled (2000)                          Comedy\n",
       "3874      3944              Bootmen (2000)                    Comedy|Drama\n",
       "3875      3945   Digimon: The Movie (2000)  Adventure|Animation|Children's\n",
       "3876      3946           Get Carter (2000)           Action|Drama|Thriller\n",
       "3877      3947           Get Carter (1971)                        Thriller\n",
       "3878      3948     Meet the Parents (2000)                          Comedy\n",
       "3879      3949  Requiem for a Dream (2000)                           Drama\n",
       "3880      3950            Tigerland (2000)                           Drama\n",
       "3881      3951     Two Family House (2000)                           Drama\n",
       "3882      3952       Contender, The (2000)                  Drama|Thriller"
      ]
     },
     "execution_count": 8,
     "metadata": {},
     "output_type": "execute_result"
    }
   ],
   "source": [
    "# 영화 제목을 보기 위해 메타 데이터를 읽어옵니다.\n",
    "#movie_file_path=os.getenv('HOME') + '/aiffel/AIFFEL_LSG/lms/E07-Recommender_sys/data/ml-1m/movies.dat'\n",
    "movie_file_path= './data/ml-1m/movies.dat'\n",
    "cols = ['movie_id', 'title', 'genre'] \n",
    "movies = pd.read_csv(movie_file_path, sep='::', names=cols, engine='python')\n",
    "movies.tail(10)"
   ]
  },
  {
   "cell_type": "code",
   "execution_count": 9,
   "metadata": {
    "ExecuteTime": {
     "end_time": "2020-08-19T09:48:39.815530Z",
     "start_time": "2020-08-19T09:48:39.790060Z"
    }
   },
   "outputs": [
    {
     "data": {
      "text/html": [
       "<div>\n",
       "<style scoped>\n",
       "    .dataframe tbody tr th:only-of-type {\n",
       "        vertical-align: middle;\n",
       "    }\n",
       "\n",
       "    .dataframe tbody tr th {\n",
       "        vertical-align: top;\n",
       "    }\n",
       "\n",
       "    .dataframe thead th {\n",
       "        text-align: right;\n",
       "    }\n",
       "</style>\n",
       "<table border=\"1\" class=\"dataframe\">\n",
       "  <thead>\n",
       "    <tr style=\"text-align: right;\">\n",
       "      <th></th>\n",
       "      <th>user_id</th>\n",
       "      <th>gender</th>\n",
       "      <th>age</th>\n",
       "      <th>occupation</th>\n",
       "      <th>Zip-code</th>\n",
       "    </tr>\n",
       "  </thead>\n",
       "  <tbody>\n",
       "    <tr>\n",
       "      <th>6030</th>\n",
       "      <td>6031</td>\n",
       "      <td>F</td>\n",
       "      <td>18</td>\n",
       "      <td>0</td>\n",
       "      <td>45123</td>\n",
       "    </tr>\n",
       "    <tr>\n",
       "      <th>6031</th>\n",
       "      <td>6032</td>\n",
       "      <td>M</td>\n",
       "      <td>45</td>\n",
       "      <td>7</td>\n",
       "      <td>55108</td>\n",
       "    </tr>\n",
       "    <tr>\n",
       "      <th>6032</th>\n",
       "      <td>6033</td>\n",
       "      <td>M</td>\n",
       "      <td>50</td>\n",
       "      <td>13</td>\n",
       "      <td>78232</td>\n",
       "    </tr>\n",
       "    <tr>\n",
       "      <th>6033</th>\n",
       "      <td>6034</td>\n",
       "      <td>M</td>\n",
       "      <td>25</td>\n",
       "      <td>14</td>\n",
       "      <td>94117</td>\n",
       "    </tr>\n",
       "    <tr>\n",
       "      <th>6034</th>\n",
       "      <td>6035</td>\n",
       "      <td>F</td>\n",
       "      <td>25</td>\n",
       "      <td>1</td>\n",
       "      <td>78734</td>\n",
       "    </tr>\n",
       "    <tr>\n",
       "      <th>6035</th>\n",
       "      <td>6036</td>\n",
       "      <td>F</td>\n",
       "      <td>25</td>\n",
       "      <td>15</td>\n",
       "      <td>32603</td>\n",
       "    </tr>\n",
       "    <tr>\n",
       "      <th>6036</th>\n",
       "      <td>6037</td>\n",
       "      <td>F</td>\n",
       "      <td>45</td>\n",
       "      <td>1</td>\n",
       "      <td>76006</td>\n",
       "    </tr>\n",
       "    <tr>\n",
       "      <th>6037</th>\n",
       "      <td>6038</td>\n",
       "      <td>F</td>\n",
       "      <td>56</td>\n",
       "      <td>1</td>\n",
       "      <td>14706</td>\n",
       "    </tr>\n",
       "    <tr>\n",
       "      <th>6038</th>\n",
       "      <td>6039</td>\n",
       "      <td>F</td>\n",
       "      <td>45</td>\n",
       "      <td>0</td>\n",
       "      <td>01060</td>\n",
       "    </tr>\n",
       "    <tr>\n",
       "      <th>6039</th>\n",
       "      <td>6040</td>\n",
       "      <td>M</td>\n",
       "      <td>25</td>\n",
       "      <td>6</td>\n",
       "      <td>11106</td>\n",
       "    </tr>\n",
       "  </tbody>\n",
       "</table>\n",
       "</div>"
      ],
      "text/plain": [
       "      user_id gender  age  occupation Zip-code\n",
       "6030     6031      F   18           0    45123\n",
       "6031     6032      M   45           7    55108\n",
       "6032     6033      M   50          13    78232\n",
       "6033     6034      M   25          14    94117\n",
       "6034     6035      F   25           1    78734\n",
       "6035     6036      F   25          15    32603\n",
       "6036     6037      F   45           1    76006\n",
       "6037     6038      F   56           1    14706\n",
       "6038     6039      F   45           0    01060\n",
       "6039     6040      M   25           6    11106"
      ]
     },
     "execution_count": 9,
     "metadata": {},
     "output_type": "execute_result"
    }
   ],
   "source": [
    "# 유저 이름을 보기 위해 메타 데이터를 읽어옵니다.\n",
    "#movie_file_path=os.getenv('HOME') + '/aiffel/AIFFEL_LSG/lms/E07-Recommender_sys/data/ml-1m/movies.dat'\n",
    "users_file_path= './data/ml-1m/users.dat'\n",
    "users_cols = ['user_id', 'gender', 'age','occupation','Zip-code' ] \n",
    "users = pd.read_csv(users_file_path, sep='::', names=users_cols, engine='python')\n",
    "users.tail(10)"
   ]
  },
  {
   "cell_type": "code",
   "execution_count": 10,
   "metadata": {
    "ExecuteTime": {
     "end_time": "2020-08-19T09:48:39.858312Z",
     "start_time": "2020-08-19T09:48:39.849422Z"
    }
   },
   "outputs": [
    {
     "data": {
      "text/html": [
       "<div>\n",
       "<style scoped>\n",
       "    .dataframe tbody tr th:only-of-type {\n",
       "        vertical-align: middle;\n",
       "    }\n",
       "\n",
       "    .dataframe tbody tr th {\n",
       "        vertical-align: top;\n",
       "    }\n",
       "\n",
       "    .dataframe thead th {\n",
       "        text-align: right;\n",
       "    }\n",
       "</style>\n",
       "<table border=\"1\" class=\"dataframe\">\n",
       "  <thead>\n",
       "    <tr style=\"text-align: right;\">\n",
       "      <th></th>\n",
       "      <th>movie_id</th>\n",
       "      <th>title</th>\n",
       "    </tr>\n",
       "  </thead>\n",
       "  <tbody>\n",
       "    <tr>\n",
       "      <th>0</th>\n",
       "      <td>1</td>\n",
       "      <td>Toy Story (1995)</td>\n",
       "    </tr>\n",
       "    <tr>\n",
       "      <th>1</th>\n",
       "      <td>2</td>\n",
       "      <td>Jumanji (1995)</td>\n",
       "    </tr>\n",
       "    <tr>\n",
       "      <th>2</th>\n",
       "      <td>3</td>\n",
       "      <td>Grumpier Old Men (1995)</td>\n",
       "    </tr>\n",
       "    <tr>\n",
       "      <th>3</th>\n",
       "      <td>4</td>\n",
       "      <td>Waiting to Exhale (1995)</td>\n",
       "    </tr>\n",
       "    <tr>\n",
       "      <th>4</th>\n",
       "      <td>5</td>\n",
       "      <td>Father of the Bride Part II (1995)</td>\n",
       "    </tr>\n",
       "    <tr>\n",
       "      <th>...</th>\n",
       "      <td>...</td>\n",
       "      <td>...</td>\n",
       "    </tr>\n",
       "    <tr>\n",
       "      <th>3878</th>\n",
       "      <td>3948</td>\n",
       "      <td>Meet the Parents (2000)</td>\n",
       "    </tr>\n",
       "    <tr>\n",
       "      <th>3879</th>\n",
       "      <td>3949</td>\n",
       "      <td>Requiem for a Dream (2000)</td>\n",
       "    </tr>\n",
       "    <tr>\n",
       "      <th>3880</th>\n",
       "      <td>3950</td>\n",
       "      <td>Tigerland (2000)</td>\n",
       "    </tr>\n",
       "    <tr>\n",
       "      <th>3881</th>\n",
       "      <td>3951</td>\n",
       "      <td>Two Family House (2000)</td>\n",
       "    </tr>\n",
       "    <tr>\n",
       "      <th>3882</th>\n",
       "      <td>3952</td>\n",
       "      <td>Contender, The (2000)</td>\n",
       "    </tr>\n",
       "  </tbody>\n",
       "</table>\n",
       "<p>3883 rows × 2 columns</p>\n",
       "</div>"
      ],
      "text/plain": [
       "      movie_id                               title\n",
       "0            1                    Toy Story (1995)\n",
       "1            2                      Jumanji (1995)\n",
       "2            3             Grumpier Old Men (1995)\n",
       "3            4            Waiting to Exhale (1995)\n",
       "4            5  Father of the Bride Part II (1995)\n",
       "...        ...                                 ...\n",
       "3878      3948             Meet the Parents (2000)\n",
       "3879      3949          Requiem for a Dream (2000)\n",
       "3880      3950                    Tigerland (2000)\n",
       "3881      3951             Two Family House (2000)\n",
       "3882      3952               Contender, The (2000)\n",
       "\n",
       "[3883 rows x 2 columns]"
      ]
     },
     "execution_count": 10,
     "metadata": {},
     "output_type": "execute_result"
    }
   ],
   "source": [
    "#user_unique = data['user_id'].unique()\n",
    "movie_names = movies[['movie_id','title']]\n",
    "movie_names\n",
    "\n",
    "#movie_title = {val:idx for idx, val in movies['movie_id'].data,movies['title'].data}\n",
    "# 유저, 아티스트 indexing 하는 코드 idx는 index의 약자입니다.\n",
    "#user_to_idx = {v:k for k,v in users.items()}\n",
    "#movie_to_idx = {v:k for k,v in  enumerate(artist_unique)}"
   ]
  },
  {
   "cell_type": "code",
   "execution_count": 11,
   "metadata": {
    "ExecuteTime": {
     "end_time": "2020-08-19T09:48:39.930383Z",
     "start_time": "2020-08-19T09:48:39.898925Z"
    }
   },
   "outputs": [
    {
     "data": {
      "text/plain": [
       "user_id        6039\n",
       "movie_id       3628\n",
       "count             3\n",
       "timestamp    412911\n",
       "dtype: int64"
      ]
     },
     "execution_count": 11,
     "metadata": {},
     "output_type": "execute_result"
    }
   ],
   "source": [
    "ratings.nunique()"
   ]
  },
  {
   "cell_type": "markdown",
   "metadata": {
    "ExecuteTime": {
     "end_time": "2020-08-18T07:17:32.628937Z",
     "start_time": "2020-08-18T07:17:32.623182Z"
    }
   },
   "source": [
    "## data <분석\n",
    "- ratings에 있는 유니크한 영화 개수\n",
    "- rating에 있는 유니크한 사용자 수\n",
    "- 가장 인기있는 영화 30개(인기순)"
   ]
  },
  {
   "cell_type": "code",
   "execution_count": 12,
   "metadata": {
    "ExecuteTime": {
     "end_time": "2020-08-19T09:48:39.976073Z",
     "start_time": "2020-08-19T09:48:39.969016Z"
    }
   },
   "outputs": [
    {
     "data": {
      "text/plain": [
       "3628"
      ]
     },
     "execution_count": 12,
     "metadata": {},
     "output_type": "execute_result"
    }
   ],
   "source": [
    "# 영화 개수\n",
    "data['movie_id'].nunique()"
   ]
  },
  {
   "cell_type": "code",
   "execution_count": 13,
   "metadata": {
    "ExecuteTime": {
     "end_time": "2020-08-19T09:48:40.019005Z",
     "start_time": "2020-08-19T09:48:40.012023Z"
    }
   },
   "outputs": [
    {
     "data": {
      "text/plain": [
       "6039"
      ]
     },
     "execution_count": 13,
     "metadata": {},
     "output_type": "execute_result"
    }
   ],
   "source": [
    "# 사용자 수\n",
    "data['user_id'].nunique()"
   ]
  },
  {
   "cell_type": "code",
   "execution_count": 14,
   "metadata": {
    "ExecuteTime": {
     "end_time": "2020-08-19T09:48:40.280967Z",
     "start_time": "2020-08-19T09:48:40.265401Z"
    }
   },
   "outputs": [
    {
     "data": {
      "text/plain": [
       "movie_id\n",
       "2858    3211\n",
       "260     2910\n",
       "1196    2885\n",
       "1210    2716\n",
       "2028    2561\n",
       "589     2509\n",
       "593     2498\n",
       "1198    2473\n",
       "1270    2460\n",
       "2571    2434\n",
       "480     2413\n",
       "2762    2385\n",
       "608     2371\n",
       "110     2314\n",
       "1580    2297\n",
       "527     2257\n",
       "1197    2252\n",
       "2396    2213\n",
       "1617    2210\n",
       "318     2194\n",
       "858     2167\n",
       "1265    2121\n",
       "1097    2102\n",
       "2997    2066\n",
       "2716    2051\n",
       "296     2030\n",
       "356     2022\n",
       "1240    2019\n",
       "1       2000\n",
       "457     1941\n",
       "Name: user_id, dtype: int64"
      ]
     },
     "execution_count": 14,
     "metadata": {},
     "output_type": "execute_result"
    }
   ],
   "source": [
    "# 가장 인기 있는 영화 30개 인기수\n",
    "#TODO movie id 와 movies title 매핑\n",
    "movie_count= data.groupby('movie_id')['user_id'].count()\n",
    "#movie_count['movie_id'].map(movies.get).dropna()\n",
    "#print(movies[movies['movie_id'] == 2858]['title'])   movies[movie_count['movie_id'] == movies['movie_id']]['title']\n",
    "movie_count.sort_values(ascending=False).head(30)"
   ]
  },
  {
   "cell_type": "code",
   "execution_count": 15,
   "metadata": {
    "ExecuteTime": {
     "end_time": "2020-08-19T09:48:40.515974Z",
     "start_time": "2020-08-19T09:48:40.512747Z"
    }
   },
   "outputs": [
    {
     "name": "stdout",
     "output_type": "stream",
     "text": [
      "2789    American Beauty (1999)\n",
      "Name: title, dtype: object\n"
     ]
    }
   ],
   "source": [
    "print(movies[movies['movie_id'] == 2858]['title']) "
   ]
  },
  {
   "cell_type": "markdown",
   "metadata": {},
   "source": [
    "## data add \n",
    "- 내가 선호하는 영화 5가지 골라서 rating 추가\n"
   ]
  },
  {
   "cell_type": "code",
   "execution_count": 16,
   "metadata": {
    "ExecuteTime": {
     "end_time": "2020-08-19T09:48:41.309880Z",
     "start_time": "2020-08-19T09:48:41.303211Z"
    }
   },
   "outputs": [
    {
     "data": {
      "text/html": [
       "<div>\n",
       "<style scoped>\n",
       "    .dataframe tbody tr th:only-of-type {\n",
       "        vertical-align: middle;\n",
       "    }\n",
       "\n",
       "    .dataframe tbody tr th {\n",
       "        vertical-align: top;\n",
       "    }\n",
       "\n",
       "    .dataframe thead th {\n",
       "        text-align: right;\n",
       "    }\n",
       "</style>\n",
       "<table border=\"1\" class=\"dataframe\">\n",
       "  <thead>\n",
       "    <tr style=\"text-align: right;\">\n",
       "      <th></th>\n",
       "      <th>movie_id</th>\n",
       "      <th>title</th>\n",
       "      <th>genre</th>\n",
       "    </tr>\n",
       "  </thead>\n",
       "  <tbody>\n",
       "    <tr>\n",
       "      <th>8</th>\n",
       "      <td>9</td>\n",
       "      <td>Sudden Death (1995)</td>\n",
       "      <td>Action</td>\n",
       "    </tr>\n",
       "    <tr>\n",
       "      <th>19</th>\n",
       "      <td>20</td>\n",
       "      <td>Money Train (1995)</td>\n",
       "      <td>Action</td>\n",
       "    </tr>\n",
       "    <tr>\n",
       "      <th>70</th>\n",
       "      <td>71</td>\n",
       "      <td>Fair Game (1995)</td>\n",
       "      <td>Action</td>\n",
       "    </tr>\n",
       "    <tr>\n",
       "      <th>143</th>\n",
       "      <td>145</td>\n",
       "      <td>Bad Boys (1995)</td>\n",
       "      <td>Action</td>\n",
       "    </tr>\n",
       "    <tr>\n",
       "      <th>202</th>\n",
       "      <td>204</td>\n",
       "      <td>Under Siege 2: Dark Territory (1995)</td>\n",
       "      <td>Action</td>\n",
       "    </tr>\n",
       "    <tr>\n",
       "      <th>224</th>\n",
       "      <td>227</td>\n",
       "      <td>Drop Zone (1994)</td>\n",
       "      <td>Action</td>\n",
       "    </tr>\n",
       "    <tr>\n",
       "      <th>248</th>\n",
       "      <td>251</td>\n",
       "      <td>Hunted, The (1995)</td>\n",
       "      <td>Action</td>\n",
       "    </tr>\n",
       "    <tr>\n",
       "      <th>312</th>\n",
       "      <td>315</td>\n",
       "      <td>Specialist, The (1994)</td>\n",
       "      <td>Action</td>\n",
       "    </tr>\n",
       "    <tr>\n",
       "      <th>380</th>\n",
       "      <td>384</td>\n",
       "      <td>Bad Company (1995)</td>\n",
       "      <td>Action</td>\n",
       "    </tr>\n",
       "    <tr>\n",
       "      <th>389</th>\n",
       "      <td>393</td>\n",
       "      <td>Street Fighter (1994)</td>\n",
       "      <td>Action</td>\n",
       "    </tr>\n",
       "  </tbody>\n",
       "</table>\n",
       "</div>"
      ],
      "text/plain": [
       "     movie_id                                 title   genre\n",
       "8           9                   Sudden Death (1995)  Action\n",
       "19         20                    Money Train (1995)  Action\n",
       "70         71                      Fair Game (1995)  Action\n",
       "143       145                       Bad Boys (1995)  Action\n",
       "202       204  Under Siege 2: Dark Territory (1995)  Action\n",
       "224       227                      Drop Zone (1994)  Action\n",
       "248       251                    Hunted, The (1995)  Action\n",
       "312       315                Specialist, The (1994)  Action\n",
       "380       384                    Bad Company (1995)  Action\n",
       "389       393                 Street Fighter (1994)  Action"
      ]
     },
     "execution_count": 16,
     "metadata": {},
     "output_type": "execute_result"
    }
   ],
   "source": [
    "movies[movies[\"genre\"]== \"Action\"].head(10)\n",
    "#movies[movies[\"genre\"]== \"Drama\"].head(30)"
   ]
  },
  {
   "cell_type": "code",
   "execution_count": 17,
   "metadata": {
    "ExecuteTime": {
     "end_time": "2020-08-19T09:48:41.683496Z",
     "start_time": "2020-08-19T09:48:41.679102Z"
    }
   },
   "outputs": [
    {
     "data": {
      "text/plain": [
       "380    384\n",
       "Name: movie_id, dtype: int64"
      ]
     },
     "execution_count": 17,
     "metadata": {},
     "output_type": "execute_result"
    }
   ],
   "source": [
    "\n",
    "movies[movies['title']=='Bad Company (1995)']['movie_id']\n"
   ]
  },
  {
   "cell_type": "code",
   "execution_count": 18,
   "metadata": {
    "ExecuteTime": {
     "end_time": "2020-08-19T09:48:42.483970Z",
     "start_time": "2020-08-19T09:48:42.470937Z"
    }
   },
   "outputs": [
    {
     "name": "stdout",
     "output_type": "stream",
     "text": [
      "Bad Company (1995)\n",
      "Street Fighter (1994)\n",
      "Bad Boys (1995)\n",
      "Sudden Death (1995)\n",
      "Fair Game (1995)\n",
      "\n",
      "\n",
      "384\n",
      "393\n",
      "145\n",
      "9\n",
      "71\n"
     ]
    }
   ],
   "source": [
    "my_favorite = ['Bad Company (1995)' , \n",
    "               'Street Fighter (1994)' ,\n",
    "               'Bad Boys (1995)' ,\n",
    "               'Sudden Death (1995)' ,\n",
    "               'Fair Game (1995)']\n",
    "my_favorite_id= [384, 393, 145, 9, 71 ]\n",
    "\n",
    "# id --> title조회\n",
    "for m in my_favorite_id:\n",
    "    a = movies[movies['movie_id']==m]['title']\n",
    "    print(np.array(a.tolist())[0])\n",
    "\n",
    "print('\\n')\n",
    "\n",
    "# title --> id 조회\n",
    "for m in my_favorite:\n",
    "    a = movies[movies['title']==m]['movie_id']\n",
    "    print(np.array(a.tolist())[0])"
   ]
  },
  {
   "cell_type": "code",
   "execution_count": 19,
   "metadata": {
    "ExecuteTime": {
     "end_time": "2020-08-19T09:48:43.393758Z",
     "start_time": "2020-08-19T09:48:43.386983Z"
    }
   },
   "outputs": [
    {
     "data": {
      "text/html": [
       "<div>\n",
       "<style scoped>\n",
       "    .dataframe tbody tr th:only-of-type {\n",
       "        vertical-align: middle;\n",
       "    }\n",
       "\n",
       "    .dataframe tbody tr th {\n",
       "        vertical-align: top;\n",
       "    }\n",
       "\n",
       "    .dataframe thead th {\n",
       "        text-align: right;\n",
       "    }\n",
       "</style>\n",
       "<table border=\"1\" class=\"dataframe\">\n",
       "  <thead>\n",
       "    <tr style=\"text-align: right;\">\n",
       "      <th></th>\n",
       "      <th>user_id</th>\n",
       "      <th>movie_id</th>\n",
       "      <th>count</th>\n",
       "    </tr>\n",
       "  </thead>\n",
       "  <tbody>\n",
       "    <tr>\n",
       "      <th>0</th>\n",
       "      <td>1</td>\n",
       "      <td>1193</td>\n",
       "      <td>5</td>\n",
       "    </tr>\n",
       "    <tr>\n",
       "      <th>1</th>\n",
       "      <td>1</td>\n",
       "      <td>661</td>\n",
       "      <td>3</td>\n",
       "    </tr>\n",
       "    <tr>\n",
       "      <th>2</th>\n",
       "      <td>1</td>\n",
       "      <td>914</td>\n",
       "      <td>3</td>\n",
       "    </tr>\n",
       "    <tr>\n",
       "      <th>3</th>\n",
       "      <td>1</td>\n",
       "      <td>3408</td>\n",
       "      <td>4</td>\n",
       "    </tr>\n",
       "    <tr>\n",
       "      <th>4</th>\n",
       "      <td>1</td>\n",
       "      <td>2355</td>\n",
       "      <td>5</td>\n",
       "    </tr>\n",
       "    <tr>\n",
       "      <th>...</th>\n",
       "      <td>...</td>\n",
       "      <td>...</td>\n",
       "      <td>...</td>\n",
       "    </tr>\n",
       "    <tr>\n",
       "      <th>1000203</th>\n",
       "      <td>6040</td>\n",
       "      <td>1090</td>\n",
       "      <td>3</td>\n",
       "    </tr>\n",
       "    <tr>\n",
       "      <th>1000205</th>\n",
       "      <td>6040</td>\n",
       "      <td>1094</td>\n",
       "      <td>5</td>\n",
       "    </tr>\n",
       "    <tr>\n",
       "      <th>1000206</th>\n",
       "      <td>6040</td>\n",
       "      <td>562</td>\n",
       "      <td>5</td>\n",
       "    </tr>\n",
       "    <tr>\n",
       "      <th>1000207</th>\n",
       "      <td>6040</td>\n",
       "      <td>1096</td>\n",
       "      <td>4</td>\n",
       "    </tr>\n",
       "    <tr>\n",
       "      <th>1000208</th>\n",
       "      <td>6040</td>\n",
       "      <td>1097</td>\n",
       "      <td>4</td>\n",
       "    </tr>\n",
       "  </tbody>\n",
       "</table>\n",
       "<p>836478 rows × 3 columns</p>\n",
       "</div>"
      ],
      "text/plain": [
       "         user_id  movie_id  count\n",
       "0              1      1193      5\n",
       "1              1       661      3\n",
       "2              1       914      3\n",
       "3              1      3408      4\n",
       "4              1      2355      5\n",
       "...          ...       ...    ...\n",
       "1000203     6040      1090      3\n",
       "1000205     6040      1094      5\n",
       "1000206     6040       562      5\n",
       "1000207     6040      1096      4\n",
       "1000208     6040      1097      4\n",
       "\n",
       "[836478 rows x 3 columns]"
      ]
     },
     "execution_count": 19,
     "metadata": {},
     "output_type": "execute_result"
    }
   ],
   "source": [
    "data"
   ]
  },
  {
   "cell_type": "code",
   "execution_count": 20,
   "metadata": {
    "ExecuteTime": {
     "end_time": "2020-08-19T09:48:44.487400Z",
     "start_time": "2020-08-19T09:48:44.480661Z"
    }
   },
   "outputs": [
    {
     "data": {
      "text/html": [
       "<div>\n",
       "<style scoped>\n",
       "    .dataframe tbody tr th:only-of-type {\n",
       "        vertical-align: middle;\n",
       "    }\n",
       "\n",
       "    .dataframe tbody tr th {\n",
       "        vertical-align: top;\n",
       "    }\n",
       "\n",
       "    .dataframe thead th {\n",
       "        text-align: right;\n",
       "    }\n",
       "</style>\n",
       "<table border=\"1\" class=\"dataframe\">\n",
       "  <thead>\n",
       "    <tr style=\"text-align: right;\">\n",
       "      <th></th>\n",
       "      <th>user_id</th>\n",
       "      <th>movie_id</th>\n",
       "      <th>count</th>\n",
       "      <th>timestamp</th>\n",
       "    </tr>\n",
       "  </thead>\n",
       "  <tbody>\n",
       "    <tr>\n",
       "      <th>0</th>\n",
       "      <td>1</td>\n",
       "      <td>1193</td>\n",
       "      <td>5</td>\n",
       "      <td>978300760</td>\n",
       "    </tr>\n",
       "    <tr>\n",
       "      <th>1</th>\n",
       "      <td>1</td>\n",
       "      <td>661</td>\n",
       "      <td>3</td>\n",
       "      <td>978302109</td>\n",
       "    </tr>\n",
       "    <tr>\n",
       "      <th>2</th>\n",
       "      <td>1</td>\n",
       "      <td>914</td>\n",
       "      <td>3</td>\n",
       "      <td>978301968</td>\n",
       "    </tr>\n",
       "    <tr>\n",
       "      <th>3</th>\n",
       "      <td>1</td>\n",
       "      <td>3408</td>\n",
       "      <td>4</td>\n",
       "      <td>978300275</td>\n",
       "    </tr>\n",
       "    <tr>\n",
       "      <th>4</th>\n",
       "      <td>1</td>\n",
       "      <td>2355</td>\n",
       "      <td>5</td>\n",
       "      <td>978824291</td>\n",
       "    </tr>\n",
       "    <tr>\n",
       "      <th>...</th>\n",
       "      <td>...</td>\n",
       "      <td>...</td>\n",
       "      <td>...</td>\n",
       "      <td>...</td>\n",
       "    </tr>\n",
       "    <tr>\n",
       "      <th>1000203</th>\n",
       "      <td>6040</td>\n",
       "      <td>1090</td>\n",
       "      <td>3</td>\n",
       "      <td>956715518</td>\n",
       "    </tr>\n",
       "    <tr>\n",
       "      <th>1000205</th>\n",
       "      <td>6040</td>\n",
       "      <td>1094</td>\n",
       "      <td>5</td>\n",
       "      <td>956704887</td>\n",
       "    </tr>\n",
       "    <tr>\n",
       "      <th>1000206</th>\n",
       "      <td>6040</td>\n",
       "      <td>562</td>\n",
       "      <td>5</td>\n",
       "      <td>956704746</td>\n",
       "    </tr>\n",
       "    <tr>\n",
       "      <th>1000207</th>\n",
       "      <td>6040</td>\n",
       "      <td>1096</td>\n",
       "      <td>4</td>\n",
       "      <td>956715648</td>\n",
       "    </tr>\n",
       "    <tr>\n",
       "      <th>1000208</th>\n",
       "      <td>6040</td>\n",
       "      <td>1097</td>\n",
       "      <td>4</td>\n",
       "      <td>956715569</td>\n",
       "    </tr>\n",
       "  </tbody>\n",
       "</table>\n",
       "<p>836478 rows × 4 columns</p>\n",
       "</div>"
      ],
      "text/plain": [
       "         user_id  movie_id  count  timestamp\n",
       "0              1      1193      5  978300760\n",
       "1              1       661      3  978302109\n",
       "2              1       914      3  978301968\n",
       "3              1      3408      4  978300275\n",
       "4              1      2355      5  978824291\n",
       "...          ...       ...    ...        ...\n",
       "1000203     6040      1090      3  956715518\n",
       "1000205     6040      1094      5  956704887\n",
       "1000206     6040       562      5  956704746\n",
       "1000207     6040      1096      4  956715648\n",
       "1000208     6040      1097      4  956715569\n",
       "\n",
       "[836478 rows x 4 columns]"
      ]
     },
     "execution_count": 20,
     "metadata": {},
     "output_type": "execute_result"
    }
   ],
   "source": [
    "ratings"
   ]
  },
  {
   "cell_type": "code",
   "execution_count": 21,
   "metadata": {
    "ExecuteTime": {
     "end_time": "2020-08-19T09:48:44.864274Z",
     "start_time": "2020-08-19T09:48:44.837078Z"
    }
   },
   "outputs": [
    {
     "data": {
      "text/html": [
       "<div>\n",
       "<style scoped>\n",
       "    .dataframe tbody tr th:only-of-type {\n",
       "        vertical-align: middle;\n",
       "    }\n",
       "\n",
       "    .dataframe tbody tr th {\n",
       "        vertical-align: top;\n",
       "    }\n",
       "\n",
       "    .dataframe thead th {\n",
       "        text-align: right;\n",
       "    }\n",
       "</style>\n",
       "<table border=\"1\" class=\"dataframe\">\n",
       "  <thead>\n",
       "    <tr style=\"text-align: right;\">\n",
       "      <th></th>\n",
       "      <th>user_id</th>\n",
       "      <th>movie_id</th>\n",
       "      <th>count</th>\n",
       "    </tr>\n",
       "  </thead>\n",
       "  <tbody>\n",
       "    <tr>\n",
       "      <th>1000203</th>\n",
       "      <td>6040</td>\n",
       "      <td>1090</td>\n",
       "      <td>3</td>\n",
       "    </tr>\n",
       "    <tr>\n",
       "      <th>1000205</th>\n",
       "      <td>6040</td>\n",
       "      <td>1094</td>\n",
       "      <td>5</td>\n",
       "    </tr>\n",
       "    <tr>\n",
       "      <th>1000206</th>\n",
       "      <td>6040</td>\n",
       "      <td>562</td>\n",
       "      <td>5</td>\n",
       "    </tr>\n",
       "    <tr>\n",
       "      <th>1000207</th>\n",
       "      <td>6040</td>\n",
       "      <td>1096</td>\n",
       "      <td>4</td>\n",
       "    </tr>\n",
       "    <tr>\n",
       "      <th>1000208</th>\n",
       "      <td>6040</td>\n",
       "      <td>1097</td>\n",
       "      <td>4</td>\n",
       "    </tr>\n",
       "    <tr>\n",
       "      <th>0</th>\n",
       "      <td>6041</td>\n",
       "      <td>384</td>\n",
       "      <td>4</td>\n",
       "    </tr>\n",
       "    <tr>\n",
       "      <th>1</th>\n",
       "      <td>6041</td>\n",
       "      <td>393</td>\n",
       "      <td>4</td>\n",
       "    </tr>\n",
       "    <tr>\n",
       "      <th>2</th>\n",
       "      <td>6041</td>\n",
       "      <td>145</td>\n",
       "      <td>4</td>\n",
       "    </tr>\n",
       "    <tr>\n",
       "      <th>3</th>\n",
       "      <td>6041</td>\n",
       "      <td>9</td>\n",
       "      <td>4</td>\n",
       "    </tr>\n",
       "    <tr>\n",
       "      <th>4</th>\n",
       "      <td>6041</td>\n",
       "      <td>71</td>\n",
       "      <td>4</td>\n",
       "    </tr>\n",
       "  </tbody>\n",
       "</table>\n",
       "</div>"
      ],
      "text/plain": [
       "         user_id  movie_id  count\n",
       "1000203     6040      1090      3\n",
       "1000205     6040      1094      5\n",
       "1000206     6040       562      5\n",
       "1000207     6040      1096      4\n",
       "1000208     6040      1097      4\n",
       "0           6041       384      4\n",
       "1           6041       393      4\n",
       "2           6041       145      4\n",
       "3           6041         9      4\n",
       "4           6041        71      4"
      ]
     },
     "execution_count": 21,
     "metadata": {},
     "output_type": "execute_result"
    }
   ],
   "source": [
    " \n",
    "\n",
    "\n",
    "my_playlist = pd.DataFrame({'user_id': [6041]*5, \n",
    "                            'movie_id':my_favorite_id, \n",
    "                            'count':4})\n",
    "\n",
    "if not data.isin({'user_id':['6041']})['user_id'].any(): \n",
    "    data = data.append(my_playlist)                           # 위에 임의로 만든 my_favorite 데이터를 추가해 줍니다. \n",
    "#data = data.append(my_playlist)     \n",
    "data.tail(10)"
   ]
  },
  {
   "cell_type": "code",
   "execution_count": 22,
   "metadata": {
    "ExecuteTime": {
     "end_time": "2020-08-19T09:48:47.156178Z",
     "start_time": "2020-08-19T09:48:46.087845Z"
    }
   },
   "outputs": [],
   "source": [
    "data[[\"user_id\",\"movie_id\",\"count\"]].to_csv(\"test2.csv\")"
   ]
  },
  {
   "cell_type": "code",
   "execution_count": 23,
   "metadata": {
    "ExecuteTime": {
     "end_time": "2020-08-19T09:48:47.205028Z",
     "start_time": "2020-08-19T09:48:47.198554Z"
    }
   },
   "outputs": [
    {
     "data": {
      "text/plain": [
       "6040"
      ]
     },
     "execution_count": 23,
     "metadata": {},
     "output_type": "execute_result"
    }
   ],
   "source": [
    "data['user_id'].nunique()\n",
    "# 1명 추가 됨..."
   ]
  },
  {
   "cell_type": "code",
   "execution_count": 24,
   "metadata": {
    "ExecuteTime": {
     "end_time": "2020-08-19T09:48:47.266037Z",
     "start_time": "2020-08-19T09:48:47.250838Z"
    }
   },
   "outputs": [
    {
     "data": {
      "text/plain": [
       "user_id     6040\n",
       "movie_id    3628\n",
       "count          3\n",
       "dtype: int64"
      ]
     },
     "execution_count": 24,
     "metadata": {},
     "output_type": "execute_result"
    }
   ],
   "source": [
    "data.nunique()"
   ]
  },
  {
   "cell_type": "code",
   "execution_count": 25,
   "metadata": {
    "ExecuteTime": {
     "end_time": "2020-08-19T09:48:47.883454Z",
     "start_time": "2020-08-19T09:48:47.871366Z"
    }
   },
   "outputs": [
    {
     "data": {
      "text/plain": [
       "user_id     0\n",
       "movie_id    0\n",
       "count       0\n",
       "dtype: int64"
      ]
     },
     "execution_count": 25,
     "metadata": {},
     "output_type": "execute_result"
    }
   ],
   "source": [
    "#data['user_id'].isnull().values.sum()\n",
    "#data['movie_id'].isnull().values.sum()\n",
    "data.isnull().sum()"
   ]
  },
  {
   "cell_type": "markdown",
   "metadata": {
    "ExecuteTime": {
     "end_time": "2020-08-18T07:18:21.976773Z",
     "start_time": "2020-08-18T07:18:21.975086Z"
    }
   },
   "source": [
    "## csr matrix "
   ]
  },
  {
   "cell_type": "code",
   "execution_count": 26,
   "metadata": {
    "ExecuteTime": {
     "end_time": "2020-08-19T09:48:51.664660Z",
     "start_time": "2020-08-19T09:48:51.656079Z"
    }
   },
   "outputs": [],
   "source": [
    "#from scipy.sparse import csr_matrix\n",
    "\n",
    "\n",
    "num_user = data['user_id'].nunique()\n",
    "num_movie = data['movie_id'].nunique()\n",
    "\n",
    "\n",
    "\n"
   ]
  },
  {
   "cell_type": "code",
   "execution_count": 27,
   "metadata": {
    "ExecuteTime": {
     "end_time": "2020-08-19T09:48:54.135773Z",
     "start_time": "2020-08-19T09:48:53.545498Z"
    }
   },
   "outputs": [
    {
     "name": "stdout",
     "output_type": "stream",
     "text": [
      "6037\n",
      "user_id column indexing OK!!\n",
      "movie column indexing ok!!\n"
     ]
    },
    {
     "data": {
      "text/html": [
       "<div>\n",
       "<style scoped>\n",
       "    .dataframe tbody tr th:only-of-type {\n",
       "        vertical-align: middle;\n",
       "    }\n",
       "\n",
       "    .dataframe tbody tr th {\n",
       "        vertical-align: top;\n",
       "    }\n",
       "\n",
       "    .dataframe thead th {\n",
       "        text-align: right;\n",
       "    }\n",
       "</style>\n",
       "<table border=\"1\" class=\"dataframe\">\n",
       "  <thead>\n",
       "    <tr style=\"text-align: right;\">\n",
       "      <th></th>\n",
       "      <th>user_id</th>\n",
       "      <th>movie_id</th>\n",
       "      <th>count</th>\n",
       "    </tr>\n",
       "  </thead>\n",
       "  <tbody>\n",
       "    <tr>\n",
       "      <th>1000203</th>\n",
       "      <td>6038</td>\n",
       "      <td>1030</td>\n",
       "      <td>3</td>\n",
       "    </tr>\n",
       "    <tr>\n",
       "      <th>1000205</th>\n",
       "      <td>6038</td>\n",
       "      <td>986</td>\n",
       "      <td>5</td>\n",
       "    </tr>\n",
       "    <tr>\n",
       "      <th>1000206</th>\n",
       "      <td>6038</td>\n",
       "      <td>311</td>\n",
       "      <td>5</td>\n",
       "    </tr>\n",
       "    <tr>\n",
       "      <th>1000207</th>\n",
       "      <td>6038</td>\n",
       "      <td>142</td>\n",
       "      <td>4</td>\n",
       "    </tr>\n",
       "    <tr>\n",
       "      <th>1000208</th>\n",
       "      <td>6038</td>\n",
       "      <td>26</td>\n",
       "      <td>4</td>\n",
       "    </tr>\n",
       "    <tr>\n",
       "      <th>0</th>\n",
       "      <td>6039</td>\n",
       "      <td>2256</td>\n",
       "      <td>4</td>\n",
       "    </tr>\n",
       "    <tr>\n",
       "      <th>1</th>\n",
       "      <td>6039</td>\n",
       "      <td>2115</td>\n",
       "      <td>4</td>\n",
       "    </tr>\n",
       "    <tr>\n",
       "      <th>2</th>\n",
       "      <td>6039</td>\n",
       "      <td>2054</td>\n",
       "      <td>4</td>\n",
       "    </tr>\n",
       "    <tr>\n",
       "      <th>3</th>\n",
       "      <td>6039</td>\n",
       "      <td>1941</td>\n",
       "      <td>4</td>\n",
       "    </tr>\n",
       "    <tr>\n",
       "      <th>4</th>\n",
       "      <td>6039</td>\n",
       "      <td>2109</td>\n",
       "      <td>4</td>\n",
       "    </tr>\n",
       "  </tbody>\n",
       "</table>\n",
       "</div>"
      ],
      "text/plain": [
       "         user_id  movie_id  count\n",
       "1000203     6038      1030      3\n",
       "1000205     6038       986      5\n",
       "1000206     6038       311      5\n",
       "1000207     6038       142      4\n",
       "1000208     6038        26      4\n",
       "0           6039      2256      4\n",
       "1           6039      2115      4\n",
       "2           6039      2054      4\n",
       "3           6039      1941      4\n",
       "4           6039      2109      4"
      ]
     },
     "execution_count": 27,
     "metadata": {},
     "output_type": "execute_result"
    }
   ],
   "source": [
    "#index ####################################################################\n",
    "\n",
    "#고유한 유저, 영화를 찾아내는 코드\n",
    "user_unique = data['user_id'].unique()\n",
    "movie_unique = data['movie_id'].unique()\n",
    "\n",
    "# 유저, 영화 indexing 하는 코드.\n",
    "user_to_idx = {v : k for k, v in enumerate(user_unique)}\n",
    "movie_to_idx = {v : k for k, v in enumerate(movie_unique)}\n",
    "\n",
    "# 인덱싱 제대로 되었는지 확인\n",
    "print(user_to_idx[6039])\n",
    "\n",
    "temp_user_data = data['user_id'].map(user_to_idx.get)#.dropna()\n",
    "\n",
    "if len(temp_user_data) == len(data):\n",
    "    print('user_id column indexing OK!!')\n",
    "    data['user_id'] = temp_user_data\n",
    "else:\n",
    "    print('user_id column indexing fail')\n",
    "    \n",
    "temp_movie_data = data['movie_id'].map(movie_to_idx.get)#.dropna()\n",
    "if len(temp_movie_data) == len(data):\n",
    "    print('movie column indexing ok!!')\n",
    "    data['movie_id'] = temp_movie_data\n",
    "else:\n",
    "    print('movie column indexing fail')\n",
    "\n",
    "data.tail(10)\n",
    "\n",
    "\n"
   ]
  },
  {
   "cell_type": "code",
   "execution_count": 28,
   "metadata": {
    "ExecuteTime": {
     "end_time": "2020-08-19T09:49:01.823709Z",
     "start_time": "2020-08-19T09:49:01.820791Z"
    }
   },
   "outputs": [],
   "source": [
    "#\n",
    "for idx in enumerate(movie_to_idx):\n",
    "    if idx == movie_to_idx.get(idx):\n",
    "        print (idx)"
   ]
  },
  {
   "cell_type": "code",
   "execution_count": 149,
   "metadata": {
    "ExecuteTime": {
     "end_time": "2020-08-19T08:28:09.228294Z",
     "start_time": "2020-08-19T08:28:09.194285Z"
    }
   },
   "outputs": [
    {
     "name": "stdout",
     "output_type": "stream",
     "text": [
      "6040 3628\n",
      "<class 'int'>\n"
     ]
    },
    {
     "data": {
      "text/plain": [
       "<6050x3955 sparse matrix of type '<class 'numpy.int64'>'\n",
       "\twith 836483 stored elements in Compressed Sparse Row format>"
      ]
     },
     "execution_count": 149,
     "metadata": {},
     "output_type": "execute_result"
    }
   ],
   "source": [
    "print(num_user, num_movie)\n",
    "# print(data2['count'].shape)\n",
    "\n",
    "# print(type(data))\n",
    "print(type(num_user))\n",
    "# print(type(data2.user_id))\n",
    "# print(type(data2['count']))\n",
    "csr_data = csr_matrix((data['count'], (data.user_id, data.movie_id)), shape= (num_user, num_movie)) \n",
    "#csr_data = csr_matrix((data['count'], (data.user_id, data.movie_id)), shape= (6050, 3955))\n",
    "csr_data"
   ]
  },
  {
   "cell_type": "code",
   "execution_count": 150,
   "metadata": {
    "ExecuteTime": {
     "end_time": "2020-08-19T08:28:09.242221Z",
     "start_time": "2020-08-19T08:28:09.229127Z"
    }
   },
   "outputs": [
    {
     "data": {
      "text/plain": [
       "user_id     6040\n",
       "movie_id    3628\n",
       "count          3\n",
       "dtype: int64"
      ]
     },
     "execution_count": 150,
     "metadata": {},
     "output_type": "execute_result"
    }
   ],
   "source": [
    "data.nunique()"
   ]
  },
  {
   "cell_type": "code",
   "execution_count": null,
   "metadata": {},
   "outputs": [],
   "source": []
  },
  {
   "cell_type": "markdown",
   "metadata": {},
   "source": [
    "## als_model = AlternatingLeastSquares 모델 훈련"
   ]
  },
  {
   "cell_type": "code",
   "execution_count": 151,
   "metadata": {
    "ExecuteTime": {
     "end_time": "2020-08-19T08:28:09.245395Z",
     "start_time": "2020-08-19T08:28:09.243143Z"
    }
   },
   "outputs": [],
   "source": [
    "# Implicit AlternatingLeastSquares 모델의 선언\n",
    "os.environ['OPENBLAS_NUM_THREADS']='1'\n",
    "os.environ['KMP_DUPLICATE_LIB_OK']='True'\n",
    "os.environ['MKL_NUM_THREADS']='1'\n",
    "\n",
    "als_model = AlternatingLeastSquares(factors=100, regularization=0.01, use_gpu=False, iterations=15, dtype=np.float32)"
   ]
  },
  {
   "cell_type": "code",
   "execution_count": 152,
   "metadata": {
    "ExecuteTime": {
     "end_time": "2020-08-19T08:28:09.250149Z",
     "start_time": "2020-08-19T08:28:09.246235Z"
    }
   },
   "outputs": [
    {
     "data": {
      "text/plain": [
       "<3955x6050 sparse matrix of type '<class 'numpy.int64'>'\n",
       "\twith 836483 stored elements in Compressed Sparse Column format>"
      ]
     },
     "execution_count": 152,
     "metadata": {},
     "output_type": "execute_result"
    }
   ],
   "source": [
    "# als 모델은 input으로 (item X user 꼴의 matrix를 받기 때문에 Transpose해줍니다.)\n",
    "csr_data_transpose = csr_data.T\n",
    "csr_data_transpose"
   ]
  },
  {
   "cell_type": "code",
   "execution_count": 153,
   "metadata": {
    "ExecuteTime": {
     "end_time": "2020-08-19T08:28:10.074140Z",
     "start_time": "2020-08-19T08:28:09.250917Z"
    }
   },
   "outputs": [
    {
     "data": {
      "application/vnd.jupyter.widget-view+json": {
       "model_id": "ecec822df1f245ec99db8eebd046e513",
       "version_major": 2,
       "version_minor": 0
      },
      "text/plain": [
       "HBox(children=(FloatProgress(value=0.0, max=15.0), HTML(value='')))"
      ]
     },
     "metadata": {},
     "output_type": "display_data"
    },
    {
     "name": "stdout",
     "output_type": "stream",
     "text": [
      "\n"
     ]
    }
   ],
   "source": [
    "# 모델 훈련\n",
    "als_model.fit(csr_data_transpose)"
   ]
  },
  {
   "cell_type": "markdown",
   "metadata": {},
   "source": [
    "## 선호도 파악"
   ]
  },
  {
   "cell_type": "code",
   "execution_count": 154,
   "metadata": {
    "ExecuteTime": {
     "end_time": "2020-08-19T08:28:10.089598Z",
     "start_time": "2020-08-19T08:28:10.075511Z"
    }
   },
   "outputs": [
    {
     "name": "stdout",
     "output_type": "stream",
     "text": [
      "[-0.05710668  0.22750214  0.2722711   0.03485942  0.14750381  0.4164791\n",
      " -0.19536044 -0.190876    0.26535752 -0.28242546 -0.12498345 -0.4197336\n",
      "  0.21837421  0.31551751  0.1394324   0.04765859  0.16862766 -0.18272439\n",
      "  0.09028581 -0.09651048 -0.20890188  0.1396397  -0.23149715 -0.10154201\n",
      " -0.3941115  -0.14933783 -0.1631806  -0.0859261  -0.26226723 -0.24894582\n",
      " -0.31982568 -0.2983636   0.48518836 -0.14566465  0.0901081  -0.00900921\n",
      " -0.09509514 -0.33249992 -0.18580529 -0.28945425  0.14716382 -0.09902316\n",
      "  0.250647    0.14332214  0.5242003   0.28738865  0.32168564 -0.03431356\n",
      "  0.04538621  0.31282684  0.09055667 -0.0474662   0.24868783 -0.09329617\n",
      "  0.02534539  0.19777808 -0.04706057  0.15038654  0.01642139  0.12044958\n",
      " -0.01699697  0.4931224  -0.05015451 -0.17842464 -0.03999742  0.17153154\n",
      "  0.08245417 -0.11186646  0.14121546  0.02940539 -0.27041373  0.03732961\n",
      "  0.04665237 -0.1821335   0.10630115 -0.1845696  -0.14185382 -0.127251\n",
      " -0.0641429   0.03323484 -0.7650244  -0.03469595 -0.16377153  0.21102767\n",
      " -0.02257022  0.03735068 -0.03564873 -0.18602148  0.13977629  0.09352985\n",
      " -0.05081979 -0.05169018  0.23190083 -0.07690782  0.3312077  -0.02482877\n",
      "  0.27515042  0.30950978 -0.13355619  0.471076  ]\n"
     ]
    }
   ],
   "source": [
    "# 나의 선호도\n",
    "me_idx = 6041\n",
    "me_vector  = als_model.user_factors[me_idx]\n",
    "print(me_vector)\n"
   ]
  },
  {
   "cell_type": "code",
   "execution_count": 155,
   "metadata": {
    "ExecuteTime": {
     "end_time": "2020-08-19T08:28:10.125360Z",
     "start_time": "2020-08-19T08:28:10.093373Z"
    }
   },
   "outputs": [
    {
     "name": "stdout",
     "output_type": "stream",
     "text": [
      "[ 2.16249912e-03  6.51787315e-03  7.96318147e-03  5.72506338e-03\n",
      "  6.85767783e-03  6.79405918e-03  2.75673950e-03  3.69561999e-03\n",
      "  1.12469215e-02 -6.80002943e-03  2.89966865e-03 -4.25504567e-03\n",
      "  4.46897605e-03  9.71207116e-03  5.32678934e-03  3.33890319e-03\n",
      "  9.04870126e-03  7.34148023e-04  4.94223367e-03  1.96936168e-03\n",
      " -5.59547078e-03  9.53859650e-03 -4.50107874e-03 -6.40060636e-04\n",
      " -3.17147584e-03  2.17674766e-04  4.34645079e-03 -1.48398531e-05\n",
      " -4.64025798e-04  2.55532097e-03 -1.73040270e-03 -2.26214644e-03\n",
      "  9.24530160e-03  3.13587044e-03  9.75881424e-03  3.54054011e-03\n",
      "  1.19706721e-03 -4.08997666e-03 -1.36903406e-03 -3.18350765e-04\n",
      "  7.40229012e-03  3.24121793e-03  7.88124092e-03  8.40932317e-03\n",
      "  6.43409509e-03  9.55925044e-03  6.67330809e-03 -2.47083459e-04\n",
      "  1.86836021e-03  7.38879433e-03  1.81538588e-03  6.02815766e-03\n",
      "  2.04537273e-03  4.19569341e-03  1.48406171e-03  1.16649922e-02\n",
      "  2.56033032e-03  2.49447301e-03  3.05926194e-03  6.56989543e-03\n",
      "  3.15997377e-03  9.28951055e-03 -4.51764185e-03  6.21704618e-04\n",
      "  6.40737731e-03  1.04910377e-02  3.27467290e-03  1.18272880e-03\n",
      "  7.08852522e-03  7.10252114e-03 -5.94619894e-03  7.13967066e-03\n",
      "  6.40192488e-03  6.22893265e-03  8.74954276e-03  8.99753533e-04\n",
      " -3.36756138e-03  3.61683429e-03  1.52713634e-04 -3.05266673e-04\n",
      " -7.39034126e-03  2.00145599e-03  1.04331886e-02  6.57278672e-03\n",
      "  4.81106472e-05  7.45890010e-03  3.52258584e-03  1.81746390e-03\n",
      "  2.19480926e-03  6.95910724e-03  1.47941115e-03 -3.91113223e-04\n",
      "  6.29530009e-03 -2.72505172e-03  1.07378457e-02  3.08364816e-03\n",
      "  7.99434929e-05  6.35516969e-03  5.65206166e-03  1.12443715e-02]\n"
     ]
    },
    {
     "data": {
      "text/plain": [
       "0.075593196"
      ]
     },
     "execution_count": 155,
     "metadata": {},
     "output_type": "execute_result"
    }
   ],
   "source": [
    "#'Fair Game (1995)'  idx 71 선호도   movie_names\n",
    "fg_idx = 71\n",
    "fg_vector = als_model.item_factors[fg_idx]\n",
    "print(fg_vector)\n",
    "\n",
    "np.dot(me_vector, fg_vector)"
   ]
  },
  {
   "cell_type": "code",
   "execution_count": 156,
   "metadata": {
    "ExecuteTime": {
     "end_time": "2020-08-19T08:28:10.138410Z",
     "start_time": "2020-08-19T08:28:10.126863Z"
    }
   },
   "outputs": [
    {
     "name": "stdout",
     "output_type": "stream",
     "text": [
      "[ 0.00093874  0.00734859  0.00277833  0.00159643  0.0055576   0.00747156\n",
      "  0.00054147  0.00278453  0.00549914 -0.00703289  0.00308854 -0.00827643\n",
      "  0.00321859  0.00645012  0.00251858  0.0034711   0.00629672 -0.00686235\n",
      "  0.00425294 -0.00022205 -0.002049    0.00072898 -0.00368968  0.00287623\n",
      "  0.00349327  0.0002234   0.00464785 -0.00221567 -0.00375902 -0.00265387\n",
      " -0.00290103 -0.00068598  0.00849719  0.00256318  0.00787104  0.00161155\n",
      "  0.00022458 -0.00247918 -0.00127723  0.00333749  0.00454649  0.00055018\n",
      "  0.00171565  0.00030839  0.01155572  0.00229516  0.00919427 -0.00042413\n",
      "  0.00148278  0.00627162  0.00499428 -0.00249652 -0.00198571  0.00452554\n",
      " -0.00164888  0.00114933  0.00948388  0.001827    0.00358298  0.0100385\n",
      "  0.00319368  0.00420433  0.00092989  0.00345489  0.00668054  0.00535919\n",
      " -0.00061639  0.0035068   0.0009507   0.00199616 -0.00308597 -0.00168376\n",
      "  0.00212234  0.00418817  0.00706855  0.00084256 -0.00140264  0.00085571\n",
      "  0.00186892  0.00321782 -0.00369159 -0.00111578  0.00099498  0.00789605\n",
      " -0.00179801  0.00363201  0.00204708 -0.00108973  0.00356792  0.00525335\n",
      "  0.00107744 -0.00060295  0.00416369  0.00653806  0.00461212  0.00043351\n",
      "  0.00220532  0.00216982  0.0030178   0.00696641]\n"
     ]
    },
    {
     "data": {
      "text/plain": [
       "0.052702717"
      ]
     },
     "execution_count": 156,
     "metadata": {},
     "output_type": "execute_result"
    }
   ],
   "source": [
    "#'Street Fighter (1994)' , idx 393 선호도   movie_names\n",
    "sf_idx = 393\n",
    "sf_vector = als_model.item_factors[sf_idx]\n",
    "print(sf_vector)\n",
    "\n",
    "np.dot(me_vector, sf_vector)\n"
   ]
  },
  {
   "cell_type": "code",
   "execution_count": 157,
   "metadata": {
    "ExecuteTime": {
     "end_time": "2020-08-19T08:28:10.152875Z",
     "start_time": "2020-08-19T08:28:10.139547Z"
    }
   },
   "outputs": [
    {
     "name": "stdout",
     "output_type": "stream",
     "text": [
      "[ 2.32755439e-03  8.39417148e-03  2.60543567e-03  9.97536257e-03\n",
      "  4.76756878e-03  3.55004221e-02 -2.13647517e-03 -2.12619896e-03\n",
      "  1.43300975e-02  6.05126191e-03 -2.81346584e-04  1.64092577e-03\n",
      "  9.57981683e-03  9.37282946e-03 -1.67393161e-03  5.77872479e-03\n",
      "  2.15783686e-04  6.87429701e-06  7.58644380e-03 -4.71430685e-04\n",
      " -6.51970832e-03  1.35070831e-02  4.32438712e-04  2.53723422e-03\n",
      " -1.20627573e-02 -2.54196092e-03 -1.58593375e-02  8.28288123e-03\n",
      " -3.42318392e-03 -5.42579079e-03 -6.46894518e-03  2.51105218e-03\n",
      "  2.61445791e-02  1.79670204e-03  5.24540991e-03 -4.55267320e-04\n",
      " -8.38393695e-04 -5.96646406e-03 -1.40377060e-02 -8.30661133e-03\n",
      "  8.26576352e-03  8.26054905e-03  1.88006405e-02  3.60372523e-03\n",
      "  2.26271581e-02  7.76474597e-03  1.71331894e-02  2.05242112e-02\n",
      "  8.87964386e-03  1.38467969e-02  9.10131447e-03  4.99355432e-04\n",
      "  1.17477933e-02 -1.51719963e-02  1.46522038e-02  5.74465189e-03\n",
      "  1.62627688e-03  2.58269031e-02 -1.99094275e-03 -7.73148425e-03\n",
      "  6.50695246e-03  2.41055507e-02  1.58658266e-04 -9.35434271e-03\n",
      " -1.06667578e-02  2.53067212e-03  1.02174440e-02 -1.85913732e-03\n",
      "  1.08951963e-02  2.34400318e-03 -1.01367747e-02  1.34931738e-02\n",
      "  1.10288449e-02 -1.05821444e-02  8.04415438e-03 -1.11165876e-02\n",
      "  6.29886519e-03 -6.50925655e-03  1.41587725e-03  1.60981975e-02\n",
      " -1.96969826e-02  2.12441105e-02 -5.13853692e-03  2.21321974e-02\n",
      "  9.46915802e-03 -1.04180686e-02 -3.74377263e-03  2.03203829e-03\n",
      "  5.18433237e-03  7.39817321e-03  7.43162166e-03  1.09618008e-02\n",
      "  1.87736135e-02  4.56081092e-04  1.01679517e-02 -1.16911973e-03\n",
      "  2.75568571e-02  1.91544555e-02  3.73825850e-03  2.04028506e-02]\n"
     ]
    },
    {
     "data": {
      "text/plain": [
       "0.17437297"
      ]
     },
     "execution_count": 157,
     "metadata": {},
     "output_type": "execute_result"
    }
   ],
   "source": [
    "#'Bad Boys' , idx 393 선호도   movie_names\n",
    "bb_idx = 145\n",
    "bb_vector = als_model.item_factors[bb_idx]\n",
    "print(bb_vector)\n",
    "\n",
    "np.dot(me_vector, bb_vector)\n",
    "# my_favorite = ['Bad Company (1995)' , \n",
    "#                'Street Fighter (1994)' ,\n",
    "#                'Bad Boys' ,\n",
    "#                'Sudden Death (1995)' ,\n",
    "#                'Fair Game (1995)']\n",
    "# my_favorite_id= [384, 393, 145, 9, 71 ]"
   ]
  },
  {
   "cell_type": "markdown",
   "metadata": {},
   "source": [
    "## 유사 영화 추천"
   ]
  },
  {
   "cell_type": "code",
   "execution_count": 158,
   "metadata": {
    "ExecuteTime": {
     "end_time": "2020-08-19T08:28:10.170922Z",
     "start_time": "2020-08-19T08:28:10.154732Z"
    }
   },
   "outputs": [
    {
     "data": {
      "text/plain": [
       "[(71, 0.056457765),\n",
       " (544, 0.048570935),\n",
       " (1744, 0.04845251),\n",
       " (548, 0.048448354),\n",
       " (1626, 0.048133466),\n",
       " (1004, 0.04812112),\n",
       " (20, 0.046849713),\n",
       " (1497, 0.04676573),\n",
       " (3165, 0.046566322),\n",
       " (1869, 0.04650586),\n",
       " (990, 0.046472967),\n",
       " (694, 0.046243593),\n",
       " (1604, 0.046098005),\n",
       " (2835, 0.046009857),\n",
       " (886, 0.045923125)]"
      ]
     },
     "execution_count": 158,
     "metadata": {},
     "output_type": "execute_result"
    }
   ],
   "source": [
    "#'Fair Game (1995)'  idx 71 선호도   movie_names\n",
    "fg_idx = 71\n",
    "similar_movies = als_model.similar_items(fg_idx, N=15)\n",
    "similar_movies"
   ]
  },
  {
   "cell_type": "code",
   "execution_count": 159,
   "metadata": {
    "ExecuteTime": {
     "end_time": "2020-08-19T08:28:10.219697Z",
     "start_time": "2020-08-19T08:28:10.176843Z"
    }
   },
   "outputs": [
    {
     "name": "stdout",
     "output_type": "stream",
     "text": [
      "               title   genre\n",
      "70  Fair Game (1995)  Action\n",
      "                        title   genre\n",
      "540  Striking Distance (1993)  Action\n",
      "                 title                      genre\n",
      "1693  Firestorm (1998)  Action|Adventure|Thriller\n",
      "                        title   genre\n",
      "544  Terminal Velocity (1994)  Action\n",
      "                       title                  genre\n",
      "1583  Fire Down Below (1997)  Action|Drama|Thriller\n",
      "                       title            genre\n",
      "991  Glimmer Man, The (1996)  Action|Thriller\n",
      "                 title   genre\n",
      "19  Money Train (1995)  Action\n",
      "                   title   genre\n",
      "1465  Double Team (1997)  Action\n",
      "                     title         genre\n",
      "3096  Boiling Point (1993)  Action|Drama\n",
      "                 title            genre\n",
      "1800  Black Dog (1998)  Action|Thriller\n",
      "                   title                      genre\n",
      "978  Maximum Risk (1996)  Action|Adventure|Thriller\n",
      "                      title   genre\n",
      "685  Substitute, The (1996)  Action\n",
      "                   title          genre\n",
      "1563  Money Talks (1997)  Action|Comedy\n",
      "                    title            genre\n",
      "2766  Chill Factor (1999)  Action|Thriller\n",
      "                  title   genre\n",
      "874  Bulletproof (1996)  Action\n"
     ]
    }
   ],
   "source": [
    "# title 매칭\n",
    "for m in similar_movies:\n",
    "    print(movies[movies['movie_id']==m[0]][['title','genre']])"
   ]
  },
  {
   "cell_type": "code",
   "execution_count": null,
   "metadata": {},
   "outputs": [],
   "source": []
  },
  {
   "cell_type": "markdown",
   "metadata": {},
   "source": [
    "## 좋아할 만한 영화 추천"
   ]
  },
  {
   "cell_type": "code",
   "execution_count": 160,
   "metadata": {
    "ExecuteTime": {
     "end_time": "2020-08-19T08:28:10.233039Z",
     "start_time": "2020-08-19T08:28:10.225001Z"
    }
   },
   "outputs": [
    {
     "data": {
      "text/plain": [
       "[(204, 0.10826999),\n",
       " (434, 0.103550516),\n",
       " (20, 0.09599974),\n",
       " (44, 0.094451934),\n",
       " (1385, 0.09306033),\n",
       " (464, 0.092892736),\n",
       " (886, 0.09147255),\n",
       " (1769, 0.091011696),\n",
       " (1866, 0.09079138),\n",
       " (548, 0.09023849),\n",
       " (423, 0.0898376),\n",
       " (1004, 0.08698315),\n",
       " (2808, 0.085617915),\n",
       " (315, 0.08448044),\n",
       " (996, 0.08430076),\n",
       " (1382, 0.08364885),\n",
       " (511, 0.082483545),\n",
       " (694, 0.08188057),\n",
       " (3444, 0.081383266),\n",
       " (1047, 0.08135515)]"
      ]
     },
     "execution_count": 160,
     "metadata": {},
     "output_type": "execute_result"
    }
   ],
   "source": [
    "#  \n",
    "me_idx = 6041\n",
    "# recommend에서는 user*item CSR Matrix를 받습니다.\n",
    "movie_recommended = als_model.recommend(me_idx, csr_data, N=20, filter_already_liked_items=True)\n",
    "movie_recommended"
   ]
  },
  {
   "cell_type": "code",
   "execution_count": 161,
   "metadata": {
    "ExecuteTime": {
     "end_time": "2020-08-19T08:28:10.291710Z",
     "start_time": "2020-08-19T08:28:10.234793Z"
    }
   },
   "outputs": [
    {
     "name": "stdout",
     "output_type": "stream",
     "text": [
      "                                    title   genre\n",
      "202  Under Siege 2: Dark Territory (1995)  Action\n",
      "                  title                   genre\n",
      "430  Cliffhanger (1993)  Action|Adventure|Crime\n",
      "                 title   genre\n",
      "19  Money Train (1995)  Action\n",
      "                   title             genre\n",
      "43  Mortal Kombat (1995)  Action|Adventure\n",
      "                   title   genre\n",
      "1364  Under Siege (1992)  Action\n",
      "                  title                            genre\n",
      "460  Hard Target (1993)  Action|Adventure|Crime|Thriller\n",
      "                  title   genre\n",
      "874  Bulletproof (1996)  Action\n",
      "                                title            genre\n",
      "1713  Replacement Killers, The (1998)  Action|Thriller\n",
      "                    title          genre\n",
      "1797  Big Hit, The (1998)  Action|Comedy\n",
      "                        title   genre\n",
      "544  Terminal Velocity (1994)  Action\n",
      "                 title            genre\n",
      "419  Blown Away (1994)  Action|Thriller\n",
      "                       title            genre\n",
      "991  Glimmer Man, The (1996)  Action|Thriller\n",
      "                         title          genre\n",
      "2739  Universal Soldier (1992)  Action|Sci-Fi\n",
      "                      title   genre\n",
      "312  Specialist, The (1994)  Action\n",
      "                        title                 genre\n",
      "983  Last Man Standing (1996)  Action|Drama|Western\n",
      "                        title         genre\n",
      "1361  Marked for Death (1990)  Action|Drama\n",
      "                   title         genre\n",
      "507  Program, The (1993)  Action|Drama\n",
      "                      title   genre\n",
      "685  Substitute, The (1996)  Action\n",
      "                  title   genre\n",
      "3375  Bloodsport (1988)  Action\n",
      "                                title            genre\n",
      "1034  Long Kiss Goodnight, The (1996)  Action|Thriller\n"
     ]
    }
   ],
   "source": [
    "## 변환\n",
    "a = []\n",
    "# title \n",
    "for m in movie_recommended:\n",
    "    a.append(movies[movies['movie_id']==m[0]]['title'])\n",
    "    print(movies[movies['movie_id']==m[0]][['title','genre']])"
   ]
  },
  {
   "cell_type": "markdown",
   "metadata": {
    "ExecuteTime": {
     "end_time": "2020-08-18T11:29:30.235094Z",
     "start_time": "2020-08-18T11:29:30.233222Z"
    }
   },
   "source": [
    "## 코멘트....\n",
    "- 주입한 데이터를 액션영화 5개만을 골라서 입력해서 그런지 유사 영화와 추천영화의 장르가 전부 액션으로 나왔다."
   ]
  },
  {
   "cell_type": "code",
   "execution_count": null,
   "metadata": {},
   "outputs": [],
   "source": []
  },
  {
   "cell_type": "code",
   "execution_count": null,
   "metadata": {},
   "outputs": [],
   "source": []
  },
  {
   "cell_type": "code",
   "execution_count": null,
   "metadata": {},
   "outputs": [],
   "source": []
  }
 ],
 "metadata": {
  "kernelspec": {
   "display_name": "Python 3",
   "language": "python",
   "name": "python3"
  },
  "language_info": {
   "codemirror_mode": {
    "name": "ipython",
    "version": 3
   },
   "file_extension": ".py",
   "mimetype": "text/x-python",
   "name": "python",
   "nbconvert_exporter": "python",
   "pygments_lexer": "ipython3",
   "version": "3.7.6"
  },
  "toc": {
   "base_numbering": 1,
   "nav_menu": {},
   "number_sections": true,
   "sideBar": true,
   "skip_h1_title": false,
   "title_cell": "Table of Contents",
   "title_sidebar": "Contents",
   "toc_cell": false,
   "toc_position": {
    "height": "707px",
    "left": "0px",
    "top": "50px",
    "width": "334.188px"
   },
   "toc_section_display": true,
   "toc_window_display": true
  },
  "varInspector": {
   "cols": {
    "lenName": 16,
    "lenType": 16,
    "lenVar": 40
   },
   "kernels_config": {
    "python": {
     "delete_cmd_postfix": "",
     "delete_cmd_prefix": "del ",
     "library": "var_list.py",
     "varRefreshCmd": "print(var_dic_list())"
    },
    "r": {
     "delete_cmd_postfix": ") ",
     "delete_cmd_prefix": "rm(",
     "library": "var_list.r",
     "varRefreshCmd": "cat(var_dic_list()) "
    }
   },
   "types_to_exclude": [
    "module",
    "function",
    "builtin_function_or_method",
    "instance",
    "_Feature"
   ],
   "window_display": false
  }
 },
 "nbformat": 4,
 "nbformat_minor": 4
}
