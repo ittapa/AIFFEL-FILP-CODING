{
 "cells": [
  {
   "cell_type": "markdown",
   "metadata": {},
   "source": [
    "# project : song Lyrics \n"
   ]
  },
  {
   "cell_type": "code",
   "execution_count": null,
   "metadata": {},
   "outputs": [],
   "source": []
  },
  {
   "cell_type": "markdown",
   "metadata": {
    "ExecuteTime": {
     "end_time": "2020-09-08T07:52:27.726209Z",
     "start_time": "2020-09-08T07:52:27.724772Z"
    }
   },
   "source": [
    "## data download"
   ]
  },
  {
   "cell_type": "code",
   "execution_count": 3,
   "metadata": {
    "ExecuteTime": {
     "end_time": "2020-09-08T07:53:00.231161Z",
     "start_time": "2020-09-08T07:52:58.744498Z"
    }
   },
   "outputs": [
    {
     "name": "stdout",
     "output_type": "stream",
     "text": [
      "--2020-09-08 16:52:58--  https://aiffelstaticprd.blob.core.windows.net/media/documents/song_lyrics.zip\n",
      "Resolving aiffelstaticprd.blob.core.windows.net (aiffelstaticprd.blob.core.windows.net)... 52.239.148.4\n",
      "접속 aiffelstaticprd.blob.core.windows.net (aiffelstaticprd.blob.core.windows.net)|52.239.148.4|:443... 접속됨.\n",
      "HTTP request sent, awaiting response... 200 OK\n",
      "Length: 2101791 (2.0M) [application/zip]\n",
      "Saving to: ‘song_lyrics.zip’\n",
      "\n",
      "song_lyrics.zip     100%[===================>]   2.00M  1.86MB/s    in 1.1s    \n",
      "\n",
      "2020-09-08 16:53:00 (1.86 MB/s) - ‘song_lyrics.zip’ saved [2101791/2101791]\n",
      "\n",
      "/bin/bash: uzip: 명령어를 찾을 수 없음\n"
     ]
    }
   ],
   "source": [
    "#!wget https://aiffelstaticprd.blob.core.windows.net/media/documents/song_lyrics.zip\n"
   ]
  },
  {
   "cell_type": "markdown",
   "metadata": {},
   "source": [
    "## library "
   ]
  },
  {
   "cell_type": "code",
   "execution_count": 1,
   "metadata": {
    "ExecuteTime": {
     "end_time": "2020-09-10T02:00:10.471024Z",
     "start_time": "2020-09-10T02:00:09.177185Z"
    }
   },
   "outputs": [],
   "source": [
    "import glob\n",
    "import os\n",
    "\n",
    "import re                  # 정규표현식을 위한 Regex 지원 모듈 (문장 데이터를 정돈하기 위해) \n",
    "import numpy as np         # 변환된 문장 데이터(행렬)을 편하게 처리하기 위해\n",
    "import tensorflow as tf    # 대망의 텐서플로우!\n",
    "from sklearn.model_selection import train_test_split\n",
    "\n"
   ]
  },
  {
   "cell_type": "markdown",
   "metadata": {},
   "source": [
    "## data import \n"
   ]
  },
  {
   "cell_type": "code",
   "execution_count": 2,
   "metadata": {
    "ExecuteTime": {
     "end_time": "2020-09-10T02:00:10.500381Z",
     "start_time": "2020-09-10T02:00:10.474731Z"
    }
   },
   "outputs": [
    {
     "name": "stdout",
     "output_type": "stream",
     "text": [
      "데이터 크기: 187088\n",
      "Examples:\n",
      " ['The Cat in the Hat', 'By Dr. Seuss', 'The sun did not shine.']\n"
     ]
    }
   ],
   "source": [
    "txt_file_path = os.getenv('HOME')+'/aiffel/AIFFEL_LSG/lms/01-EXPLORATION/E11-language_model/data/song_lyrics/*'\n",
    "\n",
    "txt_list = glob.glob(txt_file_path)\n",
    "\n",
    "raw_corpus = []\n",
    "\n",
    "# 여러개의 txt 파일을 모두 읽어서 raw_corpus 에 담습니다.\n",
    "for txt_file in txt_list:\n",
    "    with open(txt_file, \"r\") as f:\n",
    "        raw = f.read().splitlines()\n",
    "        raw_corpus.extend(raw)\n",
    "\n",
    "print(\"데이터 크기:\", len(raw_corpus))\n",
    "print(\"Examples:\\n\", raw_corpus[:3])"
   ]
  },
  {
   "cell_type": "code",
   "execution_count": null,
   "metadata": {},
   "outputs": [],
   "source": []
  },
  {
   "cell_type": "markdown",
   "metadata": {},
   "source": [
    "## data 정제"
   ]
  },
  {
   "cell_type": "code",
   "execution_count": 3,
   "metadata": {
    "ExecuteTime": {
     "end_time": "2020-09-10T02:00:12.706245Z",
     "start_time": "2020-09-10T02:00:12.704561Z"
    }
   },
   "outputs": [],
   "source": [
    "### "
   ]
  },
  {
   "cell_type": "code",
   "execution_count": 4,
   "metadata": {
    "ExecuteTime": {
     "end_time": "2020-09-10T02:00:13.357989Z",
     "start_time": "2020-09-10T02:00:13.354559Z"
    }
   },
   "outputs": [
    {
     "name": "stdout",
     "output_type": "stream",
     "text": [
      "<start> this is sample sentence . <end>\n"
     ]
    }
   ],
   "source": [
    "# 정규표현식 활용\n",
    "def preprocess_sentence(sentence):\n",
    "    sentence = sentence.lower().strip()       # 소문자로 바꾸고 양쪽 공백을 삭제\n",
    "  \n",
    "    # 아래 3단계를 거쳐 sentence는 스페이스 1개를 delimeter로 하는 소문자 단어 시퀀스로 바뀝니다.\n",
    "    sentence = re.sub(r\"([?.!,¿])\", r\" \\1 \", sentence)        # 패턴의 특수문자를 만나면 특수문자 양쪽에 공백을 추가\n",
    "    sentence = re.sub(r'[\" \"]+', \" \", sentence)                  # 공백 패턴을 만나면 스페이스 1개로 치환\n",
    "    sentence = re.sub(r\"[^a-zA-Z?.!,¿]+\", \" \", sentence)  # a-zA-Z?.!,¿ 패턴을 제외한 모든 문자(공백문자까지도)를 스페이스 1개로 치환\n",
    "\n",
    "    sentence = sentence.strip()\n",
    "\n",
    "    sentence = '<start> ' + sentence + ' <end>'      # 이전 스텝에서 본 것처럼 문장 앞뒤로 <start>와 <end>를 단어처럼 붙여 줍니다\n",
    "    \n",
    "    return sentence\n",
    "\n",
    "print(preprocess_sentence(\"This @_is ;;;sample        sentence.\"))   # 이 문장이 어떻게 필터링되는지 확인해 보세요."
   ]
  },
  {
   "cell_type": "code",
   "execution_count": null,
   "metadata": {
    "ExecuteTime": {
     "end_time": "2020-09-08T08:20:48.133872Z",
     "start_time": "2020-09-08T08:20:48.132358Z"
    }
   },
   "outputs": [],
   "source": []
  },
  {
   "cell_type": "code",
   "execution_count": 5,
   "metadata": {
    "ExecuteTime": {
     "end_time": "2020-09-10T02:00:17.261556Z",
     "start_time": "2020-09-10T02:00:15.788656Z"
    }
   },
   "outputs": [
    {
     "data": {
      "text/plain": [
       "['<start> the cat in the hat <end>',\n",
       " '<start> by dr . seuss <end>',\n",
       " '<start> the sun did not shine . <end>',\n",
       " '<start> it was too wet to play . <end>',\n",
       " '<start> so we sat in the house <end>',\n",
       " '<start> all that cold cold wet day . <end>',\n",
       " '<start> i sat there with sally . <end>',\n",
       " '<start> we sat there we two . <end>',\n",
       " '<start> and i said how i wish <end>',\n",
       " '<start> we had something to do ! <end>']"
      ]
     },
     "execution_count": 5,
     "metadata": {},
     "output_type": "execute_result"
    }
   ],
   "source": [
    "corpus = []\n",
    "\n",
    "for sentence in raw_corpus:\n",
    "    if len(sentence) == 0: continue\n",
    "    if sentence[-1] == \":\": continue\n",
    "        \n",
    "    corpus.append(preprocess_sentence(sentence))\n",
    "        \n",
    "corpus[:10]"
   ]
  },
  {
   "cell_type": "code",
   "execution_count": 6,
   "metadata": {
    "ExecuteTime": {
     "end_time": "2020-09-10T02:00:20.765750Z",
     "start_time": "2020-09-10T02:00:18.112488Z"
    }
   },
   "outputs": [
    {
     "name": "stdout",
     "output_type": "stream",
     "text": [
      "[[   2    6  903 ...    0    0    0]\n",
      " [   2  122 2584 ...    0    0    0]\n",
      " [   2    6  304 ...    0    0    0]\n",
      " ...\n",
      " [ 673   27    6 ...    6  189    3]\n",
      " [   2  673   27 ...    0    0    0]\n",
      " [   2  673   27 ...    0    0    0]] <keras_preprocessing.text.Tokenizer object at 0x7f27a8354d10>\n"
     ]
    }
   ],
   "source": [
    "#tf keras txt tokenizer\n",
    "def tokenize(corpus):\n",
    "    # 텐서플로우에서 제공하는 Tokenizer 패키지를 생성\n",
    "    tokenizer = tf.keras.preprocessing.text.Tokenizer(\n",
    "        num_words=12000,  # 전체 단어의 개수 \n",
    "        filters=' ',    # 별도로 전처리 로직을 추가할 수 있습니다. 이번에는 사용하지 않겠습니다.\n",
    "        oov_token=\"<unk>\"  # out-of-vocabulary, 사전에 없었던 단어는 어떤 토큰으로 대체할지\n",
    "    )\n",
    "    tokenizer.fit_on_texts(corpus)   # 우리가 구축한 corpus로부터 Tokenizer가 사전을 자동구축하게 됩니다.\n",
    "\n",
    "    # 이후 tokenizer를 활용하여 모델에 입력할 데이터셋을 구축하게 됩니다.\n",
    "    tensor = tokenizer.texts_to_sequences(corpus)   # tokenizer는 구축한 사전으로부터 corpus를 해석해 Tensor로 변환합니다.\n",
    "\n",
    "    # 입력 데이터의 시퀀스 길이를 일정하게 맞추기 위한 padding  메소드를 제공합니다.\n",
    "    # maxlen의 디폴트값은 None입니다. 이 경우 corpus의 가장 긴 문장을 기준으로 시퀀스 길이가 맞춰집니다.\n",
    "    tensor = tf.keras.preprocessing.sequence.pad_sequences(tensor, padding='post', maxlen=15) \n",
    "\n",
    "    print(tensor,tokenizer)\n",
    "    return tensor, tokenizer\n",
    "\n",
    "tensor, tokenizer = tokenize(corpus)"
   ]
  },
  {
   "cell_type": "code",
   "execution_count": 7,
   "metadata": {
    "ExecuteTime": {
     "end_time": "2020-09-10T02:00:20.820330Z",
     "start_time": "2020-09-10T02:00:20.817924Z"
    }
   },
   "outputs": [
    {
     "name": "stdout",
     "output_type": "stream",
     "text": [
      "[[   2    6  903   14    6 1350    3    0    0    0]\n",
      " [   2  122 2584   20    1    3    0    0    0    0]\n",
      " [   2    6  304  166   70  559   20    3    0    0]]\n"
     ]
    }
   ],
   "source": [
    "print(tensor[:3, :10])"
   ]
  },
  {
   "cell_type": "code",
   "execution_count": 8,
   "metadata": {
    "ExecuteTime": {
     "end_time": "2020-09-10T02:00:20.873810Z",
     "start_time": "2020-09-10T02:00:20.870232Z"
    }
   },
   "outputs": [
    {
     "name": "stdout",
     "output_type": "stream",
     "text": [
      "1 : <unk>\n",
      "2 : <start>\n",
      "3 : <end>\n",
      "4 : ,\n",
      "5 : i\n",
      "6 : the\n",
      "7 : you\n",
      "8 : and\n",
      "9 : a\n",
      "10 : to\n"
     ]
    }
   ],
   "source": [
    "for idx in tokenizer.index_word:\n",
    "    print(idx, \":\", tokenizer.index_word[idx])\n",
    "\n",
    "    if idx >= 10: break"
   ]
  },
  {
   "cell_type": "code",
   "execution_count": null,
   "metadata": {
    "ExecuteTime": {
     "end_time": "2020-09-10T01:47:33.030131Z",
     "start_time": "2020-09-10T01:47:33.027395Z"
    }
   },
   "outputs": [],
   "source": []
  },
  {
   "cell_type": "code",
   "execution_count": null,
   "metadata": {},
   "outputs": [],
   "source": []
  },
  {
   "cell_type": "code",
   "execution_count": 26,
   "metadata": {
    "ExecuteTime": {
     "end_time": "2020-09-10T02:06:17.528080Z",
     "start_time": "2020-09-10T02:06:17.447559Z"
    }
   },
   "outputs": [
    {
     "data": {
      "text/plain": [
       "<BatchDataset shapes: ((256, 14), (256, 14)), types: (tf.int32, tf.int32)>"
      ]
     },
     "execution_count": 26,
     "metadata": {},
     "output_type": "execute_result"
    }
   ],
   "source": [
    "BUFFER_SIZE = len(src_input)\n",
    "BATCH_SIZE = 256\n",
    "steps_per_epoch = len(src_input) // BATCH_SIZE\n",
    "\n",
    "VOCAB_SIZE = tokenizer.num_words + 1    # tokenizer가 구축한 단어사전 내 7000개와, 여기 포함되지 않은 0:<pad>를 포함하여 7001개\n",
    "\n",
    "dataset = tf.data.Dataset.from_tensor_slices((src_input, tgt_input)).shuffle(BUFFER_SIZE)\n",
    "dataset = dataset.batch(BATCH_SIZE, drop_remainder=True)\n",
    "dataset"
   ]
  },
  {
   "cell_type": "markdown",
   "metadata": {
    "ExecuteTime": {
     "end_time": "2020-09-10T01:55:42.338843Z",
     "start_time": "2020-09-10T01:55:42.337113Z"
    }
   },
   "source": [
    "### ????????????????"
   ]
  },
  {
   "cell_type": "code",
   "execution_count": 14,
   "metadata": {
    "ExecuteTime": {
     "end_time": "2020-09-10T02:02:55.833187Z",
     "start_time": "2020-09-10T02:02:55.604278Z"
    }
   },
   "outputs": [
    {
     "name": "stdout",
     "output_type": "stream",
     "text": [
      "[   2    6  903   14    6 1350    3    0    0    0    0    0    0    0\n",
      "    0]\n"
     ]
    }
   ],
   "source": [
    "\n",
    "# tensors = []\n",
    "\n",
    "# for i in range(len(tensor)):\n",
    "#     if tensor[i][1] == tensor[i][2]: continue\n",
    "#     if tensor[i][2] == tensor[i][3]: continue\n",
    "#     tensors.append(tensor[i,:])\n",
    "\n",
    "# print(tensors[0])"
   ]
  },
  {
   "cell_type": "code",
   "execution_count": 15,
   "metadata": {
    "ExecuteTime": {
     "end_time": "2020-09-10T02:03:04.848165Z",
     "start_time": "2020-09-10T02:03:04.801792Z"
    }
   },
   "outputs": [],
   "source": [
    "tensors = np.array(tensors)"
   ]
  },
  {
   "cell_type": "markdown",
   "metadata": {},
   "source": [
    "### 소스문장 타켓문장 생성"
   ]
  },
  {
   "cell_type": "code",
   "execution_count": 19,
   "metadata": {
    "ExecuteTime": {
     "end_time": "2020-09-10T02:04:00.892118Z",
     "start_time": "2020-09-10T02:04:00.889707Z"
    }
   },
   "outputs": [
    {
     "name": "stdout",
     "output_type": "stream",
     "text": [
      "[   2    6  903   14    6 1350    3    0    0    0    0    0    0    0]\n",
      "[   6  903   14    6 1350    3    0    0    0    0    0    0    0    0]\n"
     ]
    }
   ],
   "source": [
    "src_input = tensor[:, :-1]  # tensor에서 마지막 토큰을 잘라내서 소스 문장을 생성합니다. 마지막 토큰은 <END>가 아니라 <pad>일 가능성이 높습니다.\n",
    "tgt_input = tensor[:, 1:]    # tensor에서 <START>를 잘라내서 타겟 문장을 생성합니다.\n",
    "\n",
    "print(src_input[0])\n",
    "print(tgt_input[0])"
   ]
  },
  {
   "cell_type": "code",
   "execution_count": null,
   "metadata": {},
   "outputs": [],
   "source": []
  },
  {
   "cell_type": "markdown",
   "metadata": {},
   "source": [
    "## 평가데이터셋 분리\n",
    "- tokenize() 함수로 데이터를 Tensor로 변환한 후, sklearn 모듈의 train_test_split() 함수를 사용해 훈련 데이터와 평가 데이터를 분리하도록 하겠습니다. 단어장의 크기는 12,000 이상으로 설정하세요! 총 데이터의 20%를 평가 데이터셋으로 사용해 주세요!\n",
    "\n"
   ]
  },
  {
   "cell_type": "code",
   "execution_count": 20,
   "metadata": {
    "ExecuteTime": {
     "end_time": "2020-09-10T02:04:02.511315Z",
     "start_time": "2020-09-10T02:04:02.494450Z"
    }
   },
   "outputs": [],
   "source": [
    "enc_train, enc_val, dec_train, dec_val = train_test_split(src_input, tgt_input, test_size=0.2)"
   ]
  },
  {
   "cell_type": "code",
   "execution_count": null,
   "metadata": {},
   "outputs": [],
   "source": []
  },
  {
   "cell_type": "code",
   "execution_count": 21,
   "metadata": {
    "ExecuteTime": {
     "end_time": "2020-09-10T02:04:03.305762Z",
     "start_time": "2020-09-10T02:04:03.303623Z"
    }
   },
   "outputs": [
    {
     "name": "stdout",
     "output_type": "stream",
     "text": [
      "Source Train: (140599, 14)\n",
      "Target Train: (140599, 14)\n"
     ]
    }
   ],
   "source": [
    "print(\"Source Train:\", enc_train.shape)\n",
    "print(\"Target Train:\", dec_train.shape)"
   ]
  },
  {
   "cell_type": "markdown",
   "metadata": {},
   "source": [
    "out:\n",
    "\n",
    "Source Train: (124960, 14)   \n",
    "Target Train: (124960, 14)   "
   ]
  },
  {
   "cell_type": "code",
   "execution_count": null,
   "metadata": {},
   "outputs": [],
   "source": []
  },
  {
   "cell_type": "markdown",
   "metadata": {},
   "source": [
    "## 인공지능 만들기\n",
    "- 모델의 Embedding Size와 Hidden Size를 조절하며 10 Epoch 안에 val_loss 값을 2.2 수준으로 줄일 수 있는 모델을 설계하세요! (Loss는 아래 제시된 Loss 함수를 그대로 사용!)"
   ]
  },
  {
   "cell_type": "code",
   "execution_count": 22,
   "metadata": {
    "ExecuteTime": {
     "end_time": "2020-09-10T02:05:23.506451Z",
     "start_time": "2020-09-10T02:05:23.504384Z"
    }
   },
   "outputs": [
    {
     "data": {
      "text/plain": [
       "12000"
      ]
     },
     "execution_count": 22,
     "metadata": {},
     "output_type": "execute_result"
    }
   ],
   "source": [
    "tokenizer.num_words"
   ]
  },
  {
   "cell_type": "markdown",
   "metadata": {
    "ExecuteTime": {
     "start_time": "2020-09-10T01:57:59.300Z"
    }
   },
   "source": [
    "### model"
   ]
  },
  {
   "cell_type": "code",
   "execution_count": 23,
   "metadata": {
    "ExecuteTime": {
     "end_time": "2020-09-10T02:05:30.245670Z",
     "start_time": "2020-09-10T02:05:30.116470Z"
    }
   },
   "outputs": [],
   "source": [
    "class TextGenerator(tf.keras.Model):\n",
    "    def __init__(self, vocab_size, embedding_size, hidden_size):\n",
    "        super(TextGenerator, self).__init__()\n",
    "        \n",
    "        self.embedding = tf.keras.layers.Embedding(vocab_size, embedding_size)\n",
    "        self.rnn_1 = tf.keras.layers.LSTM(hidden_size, return_sequences=True)\n",
    "        self.rnn_2 = tf.keras.layers.LSTM(hidden_size, return_sequences=True)\n",
    "        self.linear = tf.keras.layers.Dense(vocab_size)\n",
    "        \n",
    "    def call(self, x):\n",
    "        out = self.embedding(x)\n",
    "        out = self.rnn_1(out)\n",
    "        out = self.rnn_2(out)\n",
    "        out = self.linear(out)\n",
    "        \n",
    "        return out\n",
    "    \n",
    "embedding_size = 256\n",
    "hidden_size = 1024\n",
    "model = TextGenerator(tokenizer.num_words + 1, embedding_size , hidden_size)"
   ]
  },
  {
   "cell_type": "code",
   "execution_count": 27,
   "metadata": {
    "ExecuteTime": {
     "end_time": "2020-09-10T02:06:25.563660Z",
     "start_time": "2020-09-10T02:06:21.147194Z"
    }
   },
   "outputs": [
    {
     "data": {
      "text/plain": [
       "<tf.Tensor: shape=(256, 14, 12001), dtype=float32, numpy=\n",
       "array([[[ 1.3199903e-04,  2.9871066e-04,  4.9130249e-05, ...,\n",
       "         -1.5502221e-04,  2.1695627e-05, -1.8319429e-04],\n",
       "        [ 2.4767886e-04,  4.2349991e-04,  2.7915981e-04, ...,\n",
       "         -3.7004409e-04,  1.0434317e-06, -2.9595874e-04],\n",
       "        [ 4.3099205e-04,  6.6848111e-04,  5.0609163e-04, ...,\n",
       "         -4.3093206e-04,  8.5963416e-05, -4.8015080e-04],\n",
       "        ...,\n",
       "        [ 2.6365180e-05, -1.6809209e-03,  1.8648523e-03, ...,\n",
       "          6.0892315e-04,  1.4180929e-03, -1.4180611e-03],\n",
       "        [-2.3654150e-04, -1.8829730e-03,  1.9569884e-03, ...,\n",
       "          7.4189540e-04,  1.6371636e-03, -1.5288084e-03],\n",
       "        [-4.9706950e-04, -1.9820037e-03,  2.0157106e-03, ...,\n",
       "          8.7420532e-04,  1.8487130e-03, -1.5979615e-03]],\n",
       "\n",
       "       [[ 1.3199903e-04,  2.9871066e-04,  4.9130249e-05, ...,\n",
       "         -1.5502221e-04,  2.1695627e-05, -1.8319429e-04],\n",
       "        [ 2.1680405e-04,  7.6040736e-04,  3.1068514e-05, ...,\n",
       "          1.2495695e-04, -9.9819183e-05, -3.6571661e-04],\n",
       "        [ 2.7131714e-04,  8.6887850e-04, -3.1581392e-05, ...,\n",
       "          2.0504907e-04, -1.4228522e-04, -4.0232445e-04],\n",
       "        ...,\n",
       "        [-6.6287583e-04, -1.3536101e-03,  9.6898834e-04, ...,\n",
       "          1.3538561e-03,  1.8538054e-04, -4.4014351e-04],\n",
       "        [-8.1274693e-04, -1.5821888e-03,  1.1178992e-03, ...,\n",
       "          1.4221391e-03,  5.9056364e-04, -6.2315160e-04],\n",
       "        [-9.6993311e-04, -1.7102832e-03,  1.2459246e-03, ...,\n",
       "          1.4865418e-03,  9.6898631e-04, -7.7188772e-04]],\n",
       "\n",
       "       [[ 1.3199903e-04,  2.9871066e-04,  4.9130249e-05, ...,\n",
       "         -1.5502221e-04,  2.1695627e-05, -1.8319429e-04],\n",
       "        [ 2.5280737e-04,  3.2845821e-04,  1.6370637e-04, ...,\n",
       "         -1.2208246e-04, -1.3569370e-04, -2.6110825e-04],\n",
       "        [ 3.3596079e-04,  7.3593030e-05,  3.4771604e-04, ...,\n",
       "         -4.4413478e-04,  2.3916396e-05, -7.2799943e-05],\n",
       "        ...,\n",
       "        [-2.4254638e-05, -1.0235232e-03,  6.7984813e-04, ...,\n",
       "          1.9684720e-03,  8.5978897e-04,  4.0832613e-04],\n",
       "        [-2.5314579e-04, -1.2349732e-03,  8.1107364e-04, ...,\n",
       "          1.9477158e-03,  1.1412005e-03,  6.8716574e-05],\n",
       "        [-4.9738138e-04, -1.3659666e-03,  9.2669867e-04, ...,\n",
       "          1.9223107e-03,  1.4208569e-03, -2.2382832e-04]],\n",
       "\n",
       "       ...,\n",
       "\n",
       "       [[ 1.3199903e-04,  2.9871066e-04,  4.9130249e-05, ...,\n",
       "         -1.5502221e-04,  2.1695627e-05, -1.8319429e-04],\n",
       "        [ 3.4759971e-04,  6.7664235e-04, -1.9877344e-04, ...,\n",
       "         -8.1993676e-05,  4.1627893e-05,  1.0286348e-04],\n",
       "        [ 6.1294204e-04,  8.8759867e-04, -5.8878394e-04, ...,\n",
       "         -3.5816550e-04,  6.9333044e-05,  5.3020596e-04],\n",
       "        ...,\n",
       "        [ 4.7076071e-04,  9.9998806e-04, -1.0312968e-03, ...,\n",
       "         -6.5357657e-05,  4.0714172e-04,  1.1738599e-03],\n",
       "        [ 3.4866421e-04,  6.0156372e-04, -7.0599007e-04, ...,\n",
       "          2.2578209e-04,  4.0295874e-04,  8.8224979e-04],\n",
       "        [ 2.1644312e-04,  3.3337998e-05, -2.8258533e-04, ...,\n",
       "          4.7777776e-04,  4.7745986e-04,  5.3399627e-04]],\n",
       "\n",
       "       [[ 1.3199903e-04,  2.9871066e-04,  4.9130249e-05, ...,\n",
       "         -1.5502221e-04,  2.1695627e-05, -1.8319429e-04],\n",
       "        [ 2.4681151e-04,  2.9930880e-04,  1.0169670e-04, ...,\n",
       "         -1.6814361e-04, -7.1311297e-05, -2.1737393e-04],\n",
       "        [ 3.2602894e-04,  5.0747697e-04,  6.0535742e-05, ...,\n",
       "         -1.8402543e-04, -9.5000330e-05, -5.8253616e-04],\n",
       "        ...,\n",
       "        [-1.0559906e-03, -1.1617512e-03,  1.5631234e-03, ...,\n",
       "          1.3186869e-03,  1.6884170e-03, -1.6578060e-03],\n",
       "        [-1.2345853e-03, -1.1755218e-03,  1.6298858e-03, ...,\n",
       "          1.4319511e-03,  1.9229170e-03, -1.6276884e-03],\n",
       "        [-1.3966139e-03, -1.1469730e-03,  1.6770756e-03, ...,\n",
       "          1.5321177e-03,  2.1347862e-03, -1.5804807e-03]],\n",
       "\n",
       "       [[ 1.3199903e-04,  2.9871066e-04,  4.9130249e-05, ...,\n",
       "         -1.5502221e-04,  2.1695627e-05, -1.8319429e-04],\n",
       "        [ 2.2406137e-04,  1.7511824e-04,  2.4280466e-04, ...,\n",
       "         -2.1665072e-04,  1.7767094e-04, -2.8374017e-04],\n",
       "        [ 2.5550614e-04,  1.1874691e-04,  4.1468925e-04, ...,\n",
       "         -1.2881527e-04, -1.5725345e-04, -1.8597023e-04],\n",
       "        ...,\n",
       "        [-2.3471750e-04, -1.2518652e-04, -2.4691317e-04, ...,\n",
       "          2.0036451e-03, -1.5205833e-03, -2.6755742e-04],\n",
       "        [-3.3399276e-04, -3.2980746e-04, -1.8003049e-04, ...,\n",
       "          2.0472121e-03, -1.2193070e-03, -5.6599663e-04],\n",
       "        [-4.0847564e-04, -6.7860121e-04, -1.6563177e-05, ...,\n",
       "          1.9581995e-03, -8.5637532e-04, -8.6535554e-04]]], dtype=float32)>"
      ]
     },
     "execution_count": 27,
     "metadata": {},
     "output_type": "execute_result"
    }
   ],
   "source": [
    "for src_sample, tgt_sample in dataset.take(1): break\n",
    "model(src_sample)"
   ]
  },
  {
   "cell_type": "code",
   "execution_count": 28,
   "metadata": {
    "ExecuteTime": {
     "end_time": "2020-09-10T02:06:25.624407Z",
     "start_time": "2020-09-10T02:06:25.620762Z"
    }
   },
   "outputs": [
    {
     "name": "stdout",
     "output_type": "stream",
     "text": [
      "Model: \"text_generator\"\n",
      "_________________________________________________________________\n",
      "Layer (type)                 Output Shape              Param #   \n",
      "=================================================================\n",
      "embedding (Embedding)        multiple                  3072256   \n",
      "_________________________________________________________________\n",
      "lstm (LSTM)                  multiple                  5246976   \n",
      "_________________________________________________________________\n",
      "lstm_1 (LSTM)                multiple                  8392704   \n",
      "_________________________________________________________________\n",
      "dense (Dense)                multiple                  12301025  \n",
      "=================================================================\n",
      "Total params: 29,012,961\n",
      "Trainable params: 29,012,961\n",
      "Non-trainable params: 0\n",
      "_________________________________________________________________\n"
     ]
    }
   ],
   "source": [
    "model.summary()"
   ]
  },
  {
   "cell_type": "markdown",
   "metadata": {},
   "source": [
    "### loss & optimizer"
   ]
  },
  {
   "cell_type": "code",
   "execution_count": 29,
   "metadata": {
    "ExecuteTime": {
     "end_time": "2020-09-10T02:06:29.502068Z",
     "start_time": "2020-09-10T02:06:29.500015Z"
    }
   },
   "outputs": [],
   "source": [
    "#Loss\n",
    "\n",
    "loss = tf.keras.losses.SparseCategoricalCrossentropy(\n",
    "    from_logits=True, reduction='none')\n",
    "\n",
    "optimizer = tf.keras.optimizers.Adam()"
   ]
  },
  {
   "cell_type": "code",
   "execution_count": null,
   "metadata": {},
   "outputs": [],
   "source": []
  },
  {
   "cell_type": "markdown",
   "metadata": {},
   "source": [
    "### 훈련"
   ]
  },
  {
   "cell_type": "code",
   "execution_count": 31,
   "metadata": {
    "ExecuteTime": {
     "end_time": "2020-09-10T02:33:58.862447Z",
     "start_time": "2020-09-10T02:07:56.857857Z"
    }
   },
   "outputs": [
    {
     "name": "stdout",
     "output_type": "stream",
     "text": [
      "Epoch 1/10\n",
      "4394/4394 [==============================] - 155s 35ms/step - loss: 3.3282\n",
      "Epoch 2/10\n",
      "4394/4394 [==============================] - 156s 35ms/step - loss: 2.8995\n",
      "Epoch 3/10\n",
      "4394/4394 [==============================] - 155s 35ms/step - loss: 2.6284\n",
      "Epoch 4/10\n",
      "4394/4394 [==============================] - 156s 36ms/step - loss: 2.3922\n",
      "Epoch 5/10\n",
      "4394/4394 [==============================] - 156s 36ms/step - loss: 2.1840\n",
      "Epoch 6/10\n",
      "4394/4394 [==============================] - 156s 36ms/step - loss: 2.0002\n",
      "Epoch 7/10\n",
      "4394/4394 [==============================] - 157s 36ms/step - loss: 1.8361\n",
      "Epoch 8/10\n",
      "4394/4394 [==============================] - 156s 36ms/step - loss: 1.6892\n",
      "Epoch 9/10\n",
      "4394/4394 [==============================] - 157s 36ms/step - loss: 1.5572\n",
      "Epoch 10/10\n",
      "4394/4394 [==============================] - 156s 36ms/step - loss: 1.4409\n"
     ]
    },
    {
     "data": {
      "text/plain": [
       "<tensorflow.python.keras.callbacks.History at 0x7f279857a390>"
      ]
     },
     "execution_count": 31,
     "metadata": {},
     "output_type": "execute_result"
    }
   ],
   "source": [
    "model.compile(loss=loss, optimizer=optimizer)\n",
    "model.fit(enc_train, dec_train, epochs=10)"
   ]
  },
  {
   "cell_type": "code",
   "execution_count": null,
   "metadata": {},
   "outputs": [],
   "source": []
  },
  {
   "cell_type": "markdown",
   "metadata": {},
   "source": [
    "## 평가"
   ]
  },
  {
   "cell_type": "code",
   "execution_count": 32,
   "metadata": {
    "ExecuteTime": {
     "end_time": "2020-09-10T02:34:06.249346Z",
     "start_time": "2020-09-10T02:34:06.244474Z"
    }
   },
   "outputs": [],
   "source": [
    "def generate_text(model, tokenizer, init_sentence=\"<start>\", max_len=20):\n",
    "    # 테스트를 위해서 입력받은 init_sentence도 일단 텐서로 변환합니다.\n",
    "    test_input = tokenizer.texts_to_sequences([init_sentence])\n",
    "    test_tensor = tf.convert_to_tensor(test_input, dtype=tf.int64)\n",
    "    end_token = tokenizer.word_index[\"<end>\"]\n",
    "\n",
    "    # 텍스트를 실제로 생성할때는 루프를 돌면서 단어 하나씩 생성해야 합니다. \n",
    "    while True:\n",
    "        predict = model(test_tensor)  # 입력받은 문장의 텐서를 입력합니다. \n",
    "        predict_word = tf.argmax(tf.nn.softmax(predict, axis=-1), axis=-1)[:, -1]   # 우리 모델이 예측한 마지막 단어가 바로 새롭게 생성한 단어가 됩니다. \n",
    "\n",
    "        # 우리 모델이 새롭게 예측한 단어를 입력 문장의 뒤에 붙여 줍니다. \n",
    "        test_tensor = tf.concat([test_tensor, \n",
    "\t\t\t\t\t\t\t\t\t\t\t\t\t\t\t\t tf.expand_dims(predict_word, axis=0)], axis=-1)\n",
    "\n",
    "        # 우리 모델이 <END>를 예측했거나, max_len에 도달하지 않았다면  while 루프를 또 돌면서 다음 단어를 예측해야 합니다.\n",
    "        if predict_word.numpy()[0] == end_token: break\n",
    "        if test_tensor.shape[1] >= max_len: break\n",
    "\n",
    "    generated = \"\"\n",
    "    # 생성된 tensor 안에 있는 word index를 tokenizer.index_word 사전을 통해 실제 단어로 하나씩 변환합니다. \n",
    "    for word_index in test_tensor[0].numpy():\n",
    "        generated += tokenizer.index_word[word_index] + \" \"\n",
    "\n",
    "    return generated   # 이것이 최종적으로 모델이 생성한 자연어 문장입니다.\n",
    "\n"
   ]
  },
  {
   "cell_type": "code",
   "execution_count": 34,
   "metadata": {
    "ExecuteTime": {
     "end_time": "2020-09-10T02:34:26.419517Z",
     "start_time": "2020-09-10T02:34:26.389624Z"
    }
   },
   "outputs": [
    {
     "data": {
      "text/plain": [
       "'<start> i love you <end> '"
      ]
     },
     "execution_count": 34,
     "metadata": {},
     "output_type": "execute_result"
    }
   ],
   "source": [
    "generate_text(model, tokenizer, init_sentence=\"<start> i love\", max_len=20)"
   ]
  },
  {
   "cell_type": "code",
   "execution_count": 36,
   "metadata": {
    "ExecuteTime": {
     "end_time": "2020-09-10T02:36:25.069350Z",
     "start_time": "2020-09-10T02:36:25.050969Z"
    }
   },
   "outputs": [
    {
     "data": {
      "text/plain": [
       "'<start> i am the walrus <end> '"
      ]
     },
     "execution_count": 36,
     "metadata": {},
     "output_type": "execute_result"
    }
   ],
   "source": [
    "generate_text(model, tokenizer, init_sentence=\"<start> i am\", max_len=20)"
   ]
  },
  {
   "cell_type": "code",
   "execution_count": 37,
   "metadata": {
    "ExecuteTime": {
     "end_time": "2020-09-10T02:37:10.488247Z",
     "start_time": "2020-09-10T02:37:10.417404Z"
    }
   },
   "outputs": [
    {
     "data": {
      "text/plain": [
       "'<start> show me the target so i can t wait to fight <end> '"
      ]
     },
     "execution_count": 37,
     "metadata": {},
     "output_type": "execute_result"
    }
   ],
   "source": [
    "generate_text(model, tokenizer, init_sentence=\"<start> show me the \", max_len=20)"
   ]
  },
  {
   "cell_type": "code",
   "execution_count": 39,
   "metadata": {
    "ExecuteTime": {
     "end_time": "2020-09-10T02:38:11.736792Z",
     "start_time": "2020-09-10T02:38:11.708448Z"
    }
   },
   "outputs": [
    {
     "data": {
      "text/plain": [
       "'<start> i hate the way you lie <end> '"
      ]
     },
     "execution_count": 39,
     "metadata": {},
     "output_type": "execute_result"
    }
   ],
   "source": [
    "generate_text(model, tokenizer, init_sentence=\"<start> i hate \", max_len=20)"
   ]
  },
  {
   "cell_type": "code",
   "execution_count": null,
   "metadata": {},
   "outputs": [],
   "source": []
  }
 ],
 "metadata": {
  "kernelspec": {
   "display_name": "Python 3",
   "language": "python",
   "name": "python3"
  },
  "language_info": {
   "codemirror_mode": {
    "name": "ipython",
    "version": 3
   },
   "file_extension": ".py",
   "mimetype": "text/x-python",
   "name": "python",
   "nbconvert_exporter": "python",
   "pygments_lexer": "ipython3",
   "version": "3.7.6"
  },
  "toc": {
   "base_numbering": 1,
   "nav_menu": {},
   "number_sections": true,
   "sideBar": true,
   "skip_h1_title": false,
   "title_cell": "Table of Contents",
   "title_sidebar": "Contents",
   "toc_cell": false,
   "toc_position": {},
   "toc_section_display": true,
   "toc_window_display": true
  },
  "varInspector": {
   "cols": {
    "lenName": 16,
    "lenType": 16,
    "lenVar": 40
   },
   "kernels_config": {
    "python": {
     "delete_cmd_postfix": "",
     "delete_cmd_prefix": "del ",
     "library": "var_list.py",
     "varRefreshCmd": "print(var_dic_list())"
    },
    "r": {
     "delete_cmd_postfix": ") ",
     "delete_cmd_prefix": "rm(",
     "library": "var_list.r",
     "varRefreshCmd": "cat(var_dic_list()) "
    }
   },
   "types_to_exclude": [
    "module",
    "function",
    "builtin_function_or_method",
    "instance",
    "_Feature"
   ],
   "window_display": false
  }
 },
 "nbformat": 4,
 "nbformat_minor": 4
}
