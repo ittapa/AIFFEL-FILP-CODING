{
 "cells": [
  {
   "cell_type": "markdown",
   "metadata": {
    "ExecuteTime": {
     "end_time": "2020-09-15T09:11:01.937628Z",
     "start_time": "2020-09-15T09:11:01.935838Z"
    }
   },
   "source": [
    "# 카메라 웹 어플 만들기ㅡ\n"
   ]
  },
  {
   "cell_type": "markdown",
   "metadata": {
    "ExecuteTime": {
     "end_time": "2020-09-15T09:11:07.286067Z",
     "start_time": "2020-09-15T09:11:07.284270Z"
    }
   },
   "source": [
    "## html 문서 작성 기초\n",
    "- index file create"
   ]
  },
  {
   "cell_type": "code",
   "execution_count": null,
   "metadata": {},
   "outputs": [],
   "source": []
  },
  {
   "cell_type": "markdown",
   "metadata": {
    "ExecuteTime": {
     "end_time": "2020-09-15T09:11:27.679659Z",
     "start_time": "2020-09-15T09:11:27.677996Z"
    }
   },
   "source": [
    "## python web 듸워보기\n",
    "``` python3 -m http.server 8080 ```"
   ]
  },
  {
   "cell_type": "markdown",
   "metadata": {},
   "source": [
    "## js"
   ]
  },
  {
   "cell_type": "markdown",
   "metadata": {},
   "source": [
    "```\n",
    "<script>\n",
    "  alert('Start!');\n",
    "  button = document.querySelector('button');\n",
    "  function alertClick() {\n",
    "    alert('Click!');\n",
    "  };\n",
    "  button.onclick = alertClick;\n",
    "</script>\n",
    "```\n",
    "\n",
    "```\n",
    "<script src = \"**.js\"/>\n",
    "\n",
    "```"
   ]
  },
  {
   "cell_type": "markdown",
   "metadata": {},
   "source": [
    "## tfj.js\n"
   ]
  },
  {
   "cell_type": "markdown",
   "metadata": {},
   "source": [
    "- import library\n",
    "```\n",
    "<script src=\"https://cdn.jsdelivr.net/npm/@tensorflow/tfjs@1.0.1\"></script>\n",
    "```\n",
    "```\n",
    "tensor1 = tf.tensor2d([[1, 2], [3, 4]]);\n",
    "tensor2 = tf.tensor2d([[1, 1], [1, 1]]);\n",
    "tensor1.add(tensor2).print();\n",
    "```"
   ]
  },
  {
   "cell_type": "markdown",
   "metadata": {},
   "source": [
    "## mobilenet 활용"
   ]
  },
  {
   "cell_type": "markdown",
   "metadata": {
    "ExecuteTime": {
     "end_time": "2020-09-15T09:18:59.675611Z",
     "start_time": "2020-09-15T09:18:59.673242Z"
    }
   },
   "source": [
    "- 이미지 분류(image classification)용으로 제공되는, ImageNet 데이터를 학습한 MobileNet을 사용\n",
    "```\n",
    "<script src=\"https://cdn.jsdelivr.net/npm/@tensorflow-models/mobilenet@1.0.0\"></script>\n",
    "```\n"
   ]
  },
  {
   "cell_type": "code",
   "execution_count": 5,
   "metadata": {
    "ExecuteTime": {
     "end_time": "2020-09-15T09:23:00.615564Z",
     "start_time": "2020-09-15T09:23:00.051819Z"
    }
   },
   "outputs": [
    {
     "name": "stdout",
     "output_type": "stream",
     "text": [
      "--2020-09-15 18:23:00--  https://aiffelstaticprd.blob.core.windows.net/media/original_images/cat.jpg\n",
      "Resolving aiffelstaticprd.blob.core.windows.net (aiffelstaticprd.blob.core.windows.net)... 52.239.148.4\n",
      "접속 aiffelstaticprd.blob.core.windows.net (aiffelstaticprd.blob.core.windows.net)|52.239.148.4|:443... 접속됨.\n",
      "HTTP request sent, awaiting response... 200 OK\n",
      "Length: 85418 (83K) [image/jpeg]\n",
      "Saving to: ‘cat.jpg’\n",
      "\n",
      "cat.jpg             100%[===================>]  83.42K  --.-KB/s    in 0.02s   \n",
      "\n",
      "2020-09-15 18:23:00 (3.91 MB/s) - ‘cat.jpg’ saved [85418/85418]\n",
      "\n",
      "--2020-09-15 18:23:00--  https://aiffelstaticprd.blob.core.windows.net/media/original_images/cat2.jpg\n",
      "Resolving aiffelstaticprd.blob.core.windows.net (aiffelstaticprd.blob.core.windows.net)... 52.239.148.4\n",
      "접속 aiffelstaticprd.blob.core.windows.net (aiffelstaticprd.blob.core.windows.net)|52.239.148.4|:443... 접속됨.\n",
      "HTTP request sent, awaiting response... 200 OK\n",
      "Length: 32014 (31K) [image/jpeg]\n",
      "Saving to: ‘cat2.jpg’\n",
      "\n",
      "cat2.jpg            100%[===================>]  31.26K  --.-KB/s    in 0.005s  \n",
      "\n",
      "2020-09-15 18:23:00 (6.29 MB/s) - ‘cat2.jpg’ saved [32014/32014]\n",
      "\n"
     ]
    }
   ],
   "source": [
    "# 이미지 다운로드\n",
    "#!wget https://aiffelstaticprd.blob.core.windows.net/media/original_images/cat.jpg\n",
    "#!wget https://aiffelstaticprd.blob.core.windows.net/media/original_images/cat2.jpg\n",
    "#!mv cat.jpg cat2.jpg ./imgs/"
   ]
  },
  {
   "cell_type": "markdown",
   "metadata": {},
   "source": [
    "\n",
    "- 이미지 추가\n",
    "```\n",
    "<img src = \"./imgs/cat.jpg\"\">\n",
    "```"
   ]
  },
  {
   "cell_type": "markdown",
   "metadata": {},
   "source": [
    "#\n",
    "```\n",
    "\n",
    "\n",
    "img = document.querySelector('img');\n",
    "mobilenet.load().then(model => {\n",
    "  model.classify(img).then(predictions => {\n",
    "    alert(predictions[0].className + ': ' + predictions[0].probability);\n",
    "    console.log(predictions);\n",
    "  });\n",
    "});\n",
    "\n",
    "```\n",
    "\n",
    "\n",
    "```\n",
    "img = document.querySelector('img');\n",
    "function classifyCallback(predictions) {\n",
    "  alert(predictions[0].className + ': ' + predictions[0].probability);\n",
    "  console.log(predictions);\n",
    "}\n",
    "function loadCallback(model) {\n",
    "  model.classify(img).then(classifyCallback);\n",
    "}\n",
    "mobilenet.load().then(loadCallback);\n",
    "\n",
    "```"
   ]
  },
  {
   "cell_type": "code",
   "execution_count": null,
   "metadata": {},
   "outputs": [],
   "source": []
  },
  {
   "cell_type": "code",
   "execution_count": null,
   "metadata": {},
   "outputs": [],
   "source": []
  }
 ],
 "metadata": {
  "kernelspec": {
   "display_name": "Python 3",
   "language": "python",
   "name": "python3"
  },
  "language_info": {
   "codemirror_mode": {
    "name": "ipython",
    "version": 3
   },
   "file_extension": ".py",
   "mimetype": "text/x-python",
   "name": "python",
   "nbconvert_exporter": "python",
   "pygments_lexer": "ipython3",
   "version": "3.7.6"
  },
  "toc": {
   "base_numbering": 1,
   "nav_menu": {},
   "number_sections": true,
   "sideBar": true,
   "skip_h1_title": false,
   "title_cell": "Table of Contents",
   "title_sidebar": "Contents",
   "toc_cell": false,
   "toc_position": {},
   "toc_section_display": true,
   "toc_window_display": false
  },
  "varInspector": {
   "cols": {
    "lenName": 16,
    "lenType": 16,
    "lenVar": 40
   },
   "kernels_config": {
    "python": {
     "delete_cmd_postfix": "",
     "delete_cmd_prefix": "del ",
     "library": "var_list.py",
     "varRefreshCmd": "print(var_dic_list())"
    },
    "r": {
     "delete_cmd_postfix": ") ",
     "delete_cmd_prefix": "rm(",
     "library": "var_list.r",
     "varRefreshCmd": "cat(var_dic_list()) "
    }
   },
   "types_to_exclude": [
    "module",
    "function",
    "builtin_function_or_method",
    "instance",
    "_Feature"
   ],
   "window_display": false
  }
 },
 "nbformat": 4,
 "nbformat_minor": 4
}
