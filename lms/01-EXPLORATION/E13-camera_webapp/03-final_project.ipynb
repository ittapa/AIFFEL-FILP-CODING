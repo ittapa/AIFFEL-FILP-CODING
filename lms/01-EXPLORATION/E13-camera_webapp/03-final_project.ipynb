{
 "cells": [
  {
   "cell_type": "markdown",
   "metadata": {},
   "source": [
    "#  프로젝트: Face2Emoji 모바일 웹앱`"
   ]
  },
  {
   "cell_type": "code",
   "execution_count": null,
   "metadata": {},
   "outputs": [],
   "source": []
  },
  {
   "cell_type": "markdown",
   "metadata": {
    "ExecuteTime": {
     "end_time": "2020-09-16T06:19:11.933225Z",
     "start_time": "2020-09-16T06:19:11.930813Z"
    }
   },
   "source": [
    "## data downloanm\n",
    "- https://www.kaggle.com/ahmedmoorsy/facial-expression"
   ]
  },
  {
   "cell_type": "code",
   "execution_count": null,
   "metadata": {},
   "outputs": [],
   "source": []
  },
  {
   "cell_type": "markdown",
   "metadata": {},
   "source": [
    "## data set 구성\n",
    "- emotion / pixels / usage \n",
    "    - emotion : 감정번호\n",
    "    - pixcels: 얼굴 흑백 픽셀값\n",
    "    - usage : 사용 용도 ( Training, PublicTest, PrivateTest,80%, 10%, 10%)\n",
    "        "
   ]
  },
  {
   "cell_type": "markdown",
   "metadata": {},
   "source": [
    "## library import"
   ]
  },
  {
   "cell_type": "code",
   "execution_count": 7,
   "metadata": {
    "ExecuteTime": {
     "end_time": "2020-09-16T06:28:09.275283Z",
     "start_time": "2020-09-16T06:28:07.320178Z"
    }
   },
   "outputs": [],
   "source": [
    "import numpy as np\n",
    "import tqdm\n",
    "import os\n",
    "\n",
    "from matplotlib import pyplot as plt\n",
    "\n",
    "import tensorflow as tf"
   ]
  },
  {
   "cell_type": "markdown",
   "metadata": {},
   "source": [
    "## data import\n",
    "- privateTest => evaluation data use / etc train data\n",
    "- pixels column  x / emotion column  y\n",
    "- pixel size 48x48, grayscals 0 ~255, 흑백\n"
   ]
  },
  {
   "cell_type": "code",
   "execution_count": 4,
   "metadata": {
    "ExecuteTime": {
     "end_time": "2020-09-16T06:24:47.423675Z",
     "start_time": "2020-09-16T06:24:20.686526Z"
    }
   },
   "outputs": [
    {
     "name": "stderr",
     "output_type": "stream",
     "text": [
      "100%|██████████| 35887/35887 [00:26<00:00, 1365.18it/s]"
     ]
    },
    {
     "name": "stdout",
     "output_type": "stream",
     "text": [
      "train : 32298, eval :3589\n"
     ]
    },
    {
     "name": "stderr",
     "output_type": "stream",
     "text": [
      "\n"
     ]
    }
   ],
   "source": [
    "train_x = []\n",
    "train_y = []\n",
    "eval_x = []\n",
    "eval_y = []\n",
    "\n",
    "csv_path = os.getenv('HOME')+'/aiffel/AIFFEL_LSG/lms/01-EXPLORATION/E13-camera_webapp/data/fer2013.csv'\n",
    "\n",
    "with open(csv_path) as f:\n",
    "  for line in tqdm.tqdm(f.read().splitlines()[1:]):\n",
    "    emotion, pixels, usage = line.split(',')\n",
    "    \n",
    "    x = np.array(pixels.split(' ')).astype(float).reshape(48, 48, 1) / 255\n",
    "    y = int(emotion)\n",
    "\n",
    "    if usage == 'PrivateTest':\n",
    "      eval_x.append(x)\n",
    "      eval_y.append(y)\n",
    "    else:\n",
    "      train_x.append(x)\n",
    "      train_y.append(y)\n",
    "\n",
    "print('train : {}, eval :{}'.format(len(train_x), len(eval_x)))"
   ]
  },
  {
   "cell_type": "code",
   "execution_count": 6,
   "metadata": {
    "ExecuteTime": {
     "end_time": "2020-09-16T06:25:33.661420Z",
     "start_time": "2020-09-16T06:25:33.570661Z"
    }
   },
   "outputs": [
    {
     "name": "stdout",
     "output_type": "stream",
     "text": [
      "Angry\n"
     ]
    },
    {
     "data": {
      "text/plain": [
       "<matplotlib.image.AxesImage at 0x7fa49fbea4d0>"
      ]
     },
     "execution_count": 6,
     "metadata": {},
     "output_type": "execute_result"
    },
    {
     "data": {
      "image/png": "[encoded data removed]",
      "text/plain": [
       "<Figure size 432x288 with 1 Axes>"
      ]
     },
     "metadata": {
      "needs_background": "light"
     },
     "output_type": "display_data"
    }
   ],
   "source": [
    "## data check\n",
    "\n",
    "# y label\n",
    "LABELS = ['Angry', 'Disgust', 'Fear', 'Happy', 'Sad', 'Surprise', 'Neutral']\n",
    "\n",
    "print(LABELS[train_y[0]])\n",
    "plt.imshow(train_x[0].reshape([48, 48]), cmap='gray')"
   ]
  },
  {
   "cell_type": "code",
   "execution_count": null,
   "metadata": {},
   "outputs": [],
   "source": []
  },
  {
   "cell_type": "markdown",
   "metadata": {},
   "source": [
    "## MobileNet model \n",
    "- keras 에서 제공\n",
    "- https://keras.io/applications/#mobilenetv2"
   ]
  },
  {
   "cell_type": "code",
   "execution_count": 9,
   "metadata": {
    "ExecuteTime": {
     "end_time": "2020-09-16T06:45:41.187220Z",
     "start_time": "2020-09-16T06:31:43.801147Z"
    }
   },
   "outputs": [
    {
     "name": "stdout",
     "output_type": "stream",
     "text": [
      "Epoch 1/100\n",
      "64/64 [==============================] - 96s 2s/step - loss: 1.8224 - categorical_accuracy: 0.2491 - val_loss: 1.9313 - val_categorical_accuracy: 0.1744\n",
      "Epoch 2/100\n",
      "64/64 [==============================] - 7s 102ms/step - loss: 1.6712 - categorical_accuracy: 0.3325 - val_loss: 1.9194 - val_categorical_accuracy: 0.1744\n",
      "Epoch 3/100\n",
      "64/64 [==============================] - 7s 103ms/step - loss: 1.5501 - categorical_accuracy: 0.3931 - val_loss: 1.9120 - val_categorical_accuracy: 0.1744\n",
      "Epoch 4/100\n",
      "64/64 [==============================] - 7s 102ms/step - loss: 1.4610 - categorical_accuracy: 0.4336 - val_loss: 1.9145 - val_categorical_accuracy: 0.1744\n",
      "Epoch 5/100\n",
      "64/64 [==============================] - 7s 102ms/step - loss: 1.3889 - categorical_accuracy: 0.4671 - val_loss: 1.9184 - val_categorical_accuracy: 0.1744\n",
      "Epoch 6/100\n",
      "64/64 [==============================] - 7s 102ms/step - loss: 1.3250 - categorical_accuracy: 0.4963 - val_loss: 1.9212 - val_categorical_accuracy: 0.1744\n",
      "Epoch 7/100\n",
      "64/64 [==============================] - 7s 105ms/step - loss: 1.2576 - categorical_accuracy: 0.5197 - val_loss: 1.9377 - val_categorical_accuracy: 0.1744\n",
      "Epoch 8/100\n",
      "64/64 [==============================] - 7s 106ms/step - loss: 1.2005 - categorical_accuracy: 0.5455 - val_loss: 1.9356 - val_categorical_accuracy: 0.1744\n",
      "Epoch 9/100\n",
      "64/64 [==============================] - 7s 105ms/step - loss: 1.1422 - categorical_accuracy: 0.5719 - val_loss: 1.9494 - val_categorical_accuracy: 0.1744\n",
      "Epoch 10/100\n",
      "64/64 [==============================] - 7s 103ms/step - loss: 1.1033 - categorical_accuracy: 0.5889 - val_loss: 1.9523 - val_categorical_accuracy: 0.1744\n",
      "Epoch 11/100\n",
      "64/64 [==============================] - 7s 104ms/step - loss: 1.0504 - categorical_accuracy: 0.6088 - val_loss: 1.9660 - val_categorical_accuracy: 0.1744\n",
      "Epoch 12/100\n",
      "64/64 [==============================] - 7s 104ms/step - loss: 0.9904 - categorical_accuracy: 0.6346 - val_loss: 1.9586 - val_categorical_accuracy: 0.1744\n",
      "Epoch 13/100\n",
      "64/64 [==============================] - 7s 103ms/step - loss: 0.9204 - categorical_accuracy: 0.6638 - val_loss: 1.9588 - val_categorical_accuracy: 0.1744\n",
      "Epoch 14/100\n",
      "64/64 [==============================] - 7s 104ms/step - loss: 0.8500 - categorical_accuracy: 0.6895 - val_loss: 1.9668 - val_categorical_accuracy: 0.1744\n",
      "Epoch 15/100\n",
      "64/64 [==============================] - 7s 103ms/step - loss: 0.8331 - categorical_accuracy: 0.6956 - val_loss: 1.9955 - val_categorical_accuracy: 0.1744\n",
      "Epoch 16/100\n",
      "64/64 [==============================] - 7s 104ms/step - loss: 0.7918 - categorical_accuracy: 0.7142 - val_loss: 1.9984 - val_categorical_accuracy: 0.1744\n",
      "Epoch 17/100\n",
      "64/64 [==============================] - 7s 105ms/step - loss: 0.7237 - categorical_accuracy: 0.7365 - val_loss: 1.9988 - val_categorical_accuracy: 0.1744\n",
      "Epoch 18/100\n",
      "64/64 [==============================] - 7s 103ms/step - loss: 0.6594 - categorical_accuracy: 0.7614 - val_loss: 2.0215 - val_categorical_accuracy: 0.1744\n",
      "Epoch 19/100\n",
      "64/64 [==============================] - 7s 104ms/step - loss: 0.6492 - categorical_accuracy: 0.7670 - val_loss: 2.0359 - val_categorical_accuracy: 0.1744\n",
      "Epoch 20/100\n",
      "64/64 [==============================] - 7s 104ms/step - loss: 0.5684 - categorical_accuracy: 0.7980 - val_loss: 2.0487 - val_categorical_accuracy: 0.1744\n",
      "Epoch 21/100\n",
      "64/64 [==============================] - 7s 104ms/step - loss: 0.5440 - categorical_accuracy: 0.8054 - val_loss: 2.0587 - val_categorical_accuracy: 0.1744\n",
      "Epoch 22/100\n",
      "64/64 [==============================] - 7s 105ms/step - loss: 0.5166 - categorical_accuracy: 0.8128 - val_loss: 2.0855 - val_categorical_accuracy: 0.1744\n",
      "Epoch 23/100\n",
      "64/64 [==============================] - 7s 104ms/step - loss: 0.4965 - categorical_accuracy: 0.8225 - val_loss: 2.1167 - val_categorical_accuracy: 0.1744\n",
      "Epoch 24/100\n",
      "64/64 [==============================] - 7s 104ms/step - loss: 0.4636 - categorical_accuracy: 0.8332 - val_loss: 2.1218 - val_categorical_accuracy: 0.1744\n",
      "Epoch 25/100\n",
      "64/64 [==============================] - 7s 104ms/step - loss: 0.4336 - categorical_accuracy: 0.8438 - val_loss: 2.1550 - val_categorical_accuracy: 0.1744\n",
      "Epoch 26/100\n",
      "64/64 [==============================] - 7s 104ms/step - loss: 0.3757 - categorical_accuracy: 0.8662 - val_loss: 2.1923 - val_categorical_accuracy: 0.1744\n",
      "Epoch 27/100\n",
      "64/64 [==============================] - 7s 104ms/step - loss: 0.3667 - categorical_accuracy: 0.8685 - val_loss: 2.2255 - val_categorical_accuracy: 0.1744\n",
      "Epoch 28/100\n",
      "64/64 [==============================] - 7s 105ms/step - loss: 0.3778 - categorical_accuracy: 0.8649 - val_loss: 2.2571 - val_categorical_accuracy: 0.1744\n",
      "Epoch 29/100\n",
      "64/64 [==============================] - 7s 104ms/step - loss: 0.3979 - categorical_accuracy: 0.8563 - val_loss: 2.2568 - val_categorical_accuracy: 0.1744\n",
      "Epoch 30/100\n",
      "64/64 [==============================] - 7s 104ms/step - loss: 0.3062 - categorical_accuracy: 0.8900 - val_loss: 2.2257 - val_categorical_accuracy: 0.1744\n",
      "Epoch 31/100\n",
      "64/64 [==============================] - 7s 104ms/step - loss: 0.3000 - categorical_accuracy: 0.8940 - val_loss: 2.2481 - val_categorical_accuracy: 0.1744\n",
      "Epoch 32/100\n",
      "64/64 [==============================] - 7s 104ms/step - loss: 0.2460 - categorical_accuracy: 0.9129 - val_loss: 2.2980 - val_categorical_accuracy: 0.1744\n",
      "Epoch 33/100\n",
      "64/64 [==============================] - 7s 104ms/step - loss: 0.3115 - categorical_accuracy: 0.8891 - val_loss: 2.2915 - val_categorical_accuracy: 0.1744\n",
      "Epoch 34/100\n",
      "64/64 [==============================] - 7s 105ms/step - loss: 0.3347 - categorical_accuracy: 0.8823 - val_loss: 2.3342 - val_categorical_accuracy: 0.1744\n",
      "Epoch 35/100\n",
      "64/64 [==============================] - 7s 104ms/step - loss: 0.2788 - categorical_accuracy: 0.9023 - val_loss: 2.3645 - val_categorical_accuracy: 0.1744\n",
      "Epoch 36/100\n",
      "64/64 [==============================] - 7s 104ms/step - loss: 0.2687 - categorical_accuracy: 0.9036 - val_loss: 2.4064 - val_categorical_accuracy: 0.1744\n",
      "Epoch 37/100\n",
      "64/64 [==============================] - 7s 105ms/step - loss: 0.2581 - categorical_accuracy: 0.9095 - val_loss: 2.4275 - val_categorical_accuracy: 0.1744\n",
      "Epoch 38/100\n",
      "64/64 [==============================] - 7s 104ms/step - loss: 0.2146 - categorical_accuracy: 0.9250 - val_loss: 2.4119 - val_categorical_accuracy: 0.1744\n",
      "Epoch 39/100\n",
      "64/64 [==============================] - 7s 104ms/step - loss: 0.1957 - categorical_accuracy: 0.9314 - val_loss: 2.4578 - val_categorical_accuracy: 0.1744\n",
      "Epoch 40/100\n",
      "64/64 [==============================] - 7s 103ms/step - loss: 0.1986 - categorical_accuracy: 0.9310 - val_loss: 2.5025 - val_categorical_accuracy: 0.1744\n",
      "Epoch 41/100\n",
      "64/64 [==============================] - 7s 104ms/step - loss: 0.2272 - categorical_accuracy: 0.9220 - val_loss: 2.5287 - val_categorical_accuracy: 0.1744\n",
      "Epoch 42/100\n",
      "64/64 [==============================] - 7s 105ms/step - loss: 0.2253 - categorical_accuracy: 0.9213 - val_loss: 2.5041 - val_categorical_accuracy: 0.1744\n",
      "Epoch 43/100\n",
      "64/64 [==============================] - 7s 104ms/step - loss: 0.1970 - categorical_accuracy: 0.9307 - val_loss: 2.5402 - val_categorical_accuracy: 0.1744\n",
      "Epoch 44/100\n",
      "64/64 [==============================] - 7s 104ms/step - loss: 0.2328 - categorical_accuracy: 0.9187 - val_loss: 2.4833 - val_categorical_accuracy: 0.1744\n",
      "Epoch 45/100\n",
      "64/64 [==============================] - 7s 105ms/step - loss: 0.1480 - categorical_accuracy: 0.9490 - val_loss: 2.4556 - val_categorical_accuracy: 0.1744\n",
      "Epoch 46/100\n",
      "64/64 [==============================] - 7s 104ms/step - loss: 0.1354 - categorical_accuracy: 0.9542 - val_loss: 2.5525 - val_categorical_accuracy: 0.1744\n",
      "Epoch 47/100\n",
      "64/64 [==============================] - 7s 105ms/step - loss: 0.1567 - categorical_accuracy: 0.9468 - val_loss: 2.4599 - val_categorical_accuracy: 0.1744\n",
      "Epoch 48/100\n",
      "64/64 [==============================] - 7s 104ms/step - loss: 0.1253 - categorical_accuracy: 0.9574 - val_loss: 2.6231 - val_categorical_accuracy: 0.1744\n",
      "Epoch 49/100\n",
      "64/64 [==============================] - 7s 105ms/step - loss: 0.2064 - categorical_accuracy: 0.9282 - val_loss: 2.4856 - val_categorical_accuracy: 0.1744\n"
     ]
    },
    {
     "name": "stdout",
     "output_type": "stream",
     "text": [
      "Epoch 50/100\n",
      "64/64 [==============================] - 7s 104ms/step - loss: 0.1553 - categorical_accuracy: 0.9451 - val_loss: 2.5242 - val_categorical_accuracy: 0.1744\n",
      "Epoch 51/100\n",
      "64/64 [==============================] - 6s 101ms/step - loss: 0.1292 - categorical_accuracy: 0.9563 - val_loss: 2.5874 - val_categorical_accuracy: 0.1744\n",
      "Epoch 52/100\n",
      "64/64 [==============================] - 7s 105ms/step - loss: 0.1264 - categorical_accuracy: 0.9559 - val_loss: 2.5977 - val_categorical_accuracy: 0.1744\n",
      "Epoch 53/100\n",
      "64/64 [==============================] - 7s 106ms/step - loss: 0.0868 - categorical_accuracy: 0.9717 - val_loss: 2.6483 - val_categorical_accuracy: 0.1744\n",
      "Epoch 54/100\n",
      "64/64 [==============================] - 7s 104ms/step - loss: 0.1681 - categorical_accuracy: 0.9421 - val_loss: 2.5890 - val_categorical_accuracy: 0.1744\n",
      "Epoch 55/100\n",
      "64/64 [==============================] - 7s 106ms/step - loss: 0.1681 - categorical_accuracy: 0.9430 - val_loss: 2.6022 - val_categorical_accuracy: 0.1783\n",
      "Epoch 56/100\n",
      "64/64 [==============================] - 7s 105ms/step - loss: 0.2203 - categorical_accuracy: 0.9244 - val_loss: 2.7336 - val_categorical_accuracy: 0.1819\n",
      "Epoch 57/100\n",
      "64/64 [==============================] - 7s 108ms/step - loss: 0.1462 - categorical_accuracy: 0.9495 - val_loss: 2.6610 - val_categorical_accuracy: 0.1747\n",
      "Epoch 58/100\n",
      "64/64 [==============================] - 7s 107ms/step - loss: 0.1196 - categorical_accuracy: 0.9591 - val_loss: 2.7032 - val_categorical_accuracy: 0.1641\n",
      "Epoch 59/100\n",
      "64/64 [==============================] - 7s 105ms/step - loss: 0.1212 - categorical_accuracy: 0.9590 - val_loss: 2.6901 - val_categorical_accuracy: 0.1897\n",
      "Epoch 60/100\n",
      "64/64 [==============================] - 7s 106ms/step - loss: 0.0926 - categorical_accuracy: 0.9699 - val_loss: 2.7335 - val_categorical_accuracy: 0.1691\n",
      "Epoch 61/100\n",
      "64/64 [==============================] - 7s 106ms/step - loss: 0.1182 - categorical_accuracy: 0.9584 - val_loss: 2.6967 - val_categorical_accuracy: 0.1658\n",
      "Epoch 62/100\n",
      "64/64 [==============================] - 7s 107ms/step - loss: 0.1397 - categorical_accuracy: 0.9528 - val_loss: 2.4982 - val_categorical_accuracy: 0.1861\n",
      "Epoch 63/100\n",
      "64/64 [==============================] - 7s 106ms/step - loss: 0.1597 - categorical_accuracy: 0.9458 - val_loss: 2.8847 - val_categorical_accuracy: 0.1658\n",
      "Epoch 64/100\n",
      "64/64 [==============================] - 7s 107ms/step - loss: 0.1136 - categorical_accuracy: 0.9609 - val_loss: 2.8564 - val_categorical_accuracy: 0.1833\n",
      "Epoch 65/100\n",
      "64/64 [==============================] - 7s 106ms/step - loss: 0.1358 - categorical_accuracy: 0.9550 - val_loss: 2.7365 - val_categorical_accuracy: 0.1847\n",
      "Epoch 66/100\n",
      "64/64 [==============================] - 7s 107ms/step - loss: 0.0699 - categorical_accuracy: 0.9763 - val_loss: 3.2254 - val_categorical_accuracy: 0.1672\n",
      "Epoch 67/100\n",
      "64/64 [==============================] - 7s 105ms/step - loss: 0.1449 - categorical_accuracy: 0.9500 - val_loss: 3.0969 - val_categorical_accuracy: 0.1872\n",
      "Epoch 68/100\n",
      "64/64 [==============================] - 7s 106ms/step - loss: 0.1588 - categorical_accuracy: 0.9436 - val_loss: 2.8736 - val_categorical_accuracy: 0.1886\n",
      "Epoch 69/100\n",
      "64/64 [==============================] - 7s 107ms/step - loss: 0.1196 - categorical_accuracy: 0.9578 - val_loss: 3.1468 - val_categorical_accuracy: 0.1736\n",
      "Epoch 70/100\n",
      "64/64 [==============================] - 7s 107ms/step - loss: 0.0889 - categorical_accuracy: 0.9689 - val_loss: 2.8251 - val_categorical_accuracy: 0.2056\n",
      "Epoch 71/100\n",
      "64/64 [==============================] - 7s 106ms/step - loss: 0.1144 - categorical_accuracy: 0.9605 - val_loss: 2.9291 - val_categorical_accuracy: 0.2028\n",
      "Epoch 72/100\n",
      "64/64 [==============================] - 7s 107ms/step - loss: 0.0888 - categorical_accuracy: 0.9697 - val_loss: 2.9674 - val_categorical_accuracy: 0.2126\n",
      "Epoch 73/100\n",
      "64/64 [==============================] - 7s 107ms/step - loss: 0.2023 - categorical_accuracy: 0.9295 - val_loss: 2.7699 - val_categorical_accuracy: 0.2558\n",
      "Epoch 74/100\n",
      "64/64 [==============================] - 7s 107ms/step - loss: 0.1526 - categorical_accuracy: 0.9471 - val_loss: 3.0688 - val_categorical_accuracy: 0.2533\n",
      "Epoch 75/100\n",
      "64/64 [==============================] - 7s 108ms/step - loss: 0.1661 - categorical_accuracy: 0.9420 - val_loss: 3.0238 - val_categorical_accuracy: 0.2750\n",
      "Epoch 76/100\n",
      "64/64 [==============================] - 7s 106ms/step - loss: 0.2707 - categorical_accuracy: 0.9056 - val_loss: 2.9457 - val_categorical_accuracy: 0.2909\n",
      "Epoch 77/100\n",
      "64/64 [==============================] - 7s 106ms/step - loss: 0.1233 - categorical_accuracy: 0.9567 - val_loss: 2.9862 - val_categorical_accuracy: 0.3126\n",
      "Epoch 78/100\n",
      "64/64 [==============================] - 7s 108ms/step - loss: 0.1183 - categorical_accuracy: 0.9592 - val_loss: 3.2909 - val_categorical_accuracy: 0.3263\n",
      "Epoch 79/100\n",
      "64/64 [==============================] - 7s 107ms/step - loss: 0.0695 - categorical_accuracy: 0.9764 - val_loss: 3.5802 - val_categorical_accuracy: 0.2992\n",
      "Epoch 80/100\n",
      "64/64 [==============================] - 7s 106ms/step - loss: 0.0811 - categorical_accuracy: 0.9719 - val_loss: 3.3351 - val_categorical_accuracy: 0.3408\n",
      "Epoch 81/100\n",
      "64/64 [==============================] - 7s 107ms/step - loss: 0.0601 - categorical_accuracy: 0.9790 - val_loss: 3.6453 - val_categorical_accuracy: 0.3257\n",
      "Epoch 82/100\n",
      "64/64 [==============================] - 7s 105ms/step - loss: 0.1232 - categorical_accuracy: 0.9588 - val_loss: 3.5868 - val_categorical_accuracy: 0.3775\n",
      "Epoch 83/100\n",
      "64/64 [==============================] - 7s 105ms/step - loss: 0.1453 - categorical_accuracy: 0.9509 - val_loss: 3.7196 - val_categorical_accuracy: 0.3831\n",
      "Epoch 84/100\n",
      "64/64 [==============================] - 7s 106ms/step - loss: 0.1059 - categorical_accuracy: 0.9630 - val_loss: 3.7328 - val_categorical_accuracy: 0.3870\n",
      "Epoch 85/100\n",
      "64/64 [==============================] - 7s 106ms/step - loss: 0.1026 - categorical_accuracy: 0.9650 - val_loss: 3.8413 - val_categorical_accuracy: 0.4079\n",
      "Epoch 86/100\n",
      "64/64 [==============================] - 7s 106ms/step - loss: 0.1718 - categorical_accuracy: 0.9404 - val_loss: 4.4039 - val_categorical_accuracy: 0.4032\n",
      "Epoch 87/100\n",
      "64/64 [==============================] - 7s 105ms/step - loss: 0.1595 - categorical_accuracy: 0.9445 - val_loss: 4.1578 - val_categorical_accuracy: 0.4182\n",
      "Epoch 88/100\n",
      "64/64 [==============================] - 7s 105ms/step - loss: 0.1206 - categorical_accuracy: 0.9593 - val_loss: 4.3438 - val_categorical_accuracy: 0.4021\n",
      "Epoch 89/100\n",
      "64/64 [==============================] - 7s 105ms/step - loss: 0.0871 - categorical_accuracy: 0.9703 - val_loss: 4.6088 - val_categorical_accuracy: 0.4001\n",
      "Epoch 90/100\n",
      "64/64 [==============================] - 7s 105ms/step - loss: 0.0835 - categorical_accuracy: 0.9712 - val_loss: 4.1303 - val_categorical_accuracy: 0.4143\n",
      "Epoch 91/100\n",
      "64/64 [==============================] - 7s 105ms/step - loss: 0.0802 - categorical_accuracy: 0.9721 - val_loss: 4.6050 - val_categorical_accuracy: 0.4054\n",
      "Epoch 92/100\n",
      "64/64 [==============================] - 7s 105ms/step - loss: 0.1248 - categorical_accuracy: 0.9571 - val_loss: 5.8637 - val_categorical_accuracy: 0.4054\n",
      "Epoch 93/100\n",
      "64/64 [==============================] - 7s 105ms/step - loss: 0.1073 - categorical_accuracy: 0.9633 - val_loss: 4.8809 - val_categorical_accuracy: 0.4232\n",
      "Epoch 94/100\n",
      "64/64 [==============================] - 7s 105ms/step - loss: 0.1335 - categorical_accuracy: 0.9550 - val_loss: 4.8840 - val_categorical_accuracy: 0.4280\n",
      "Epoch 95/100\n",
      "64/64 [==============================] - 7s 105ms/step - loss: 0.1219 - categorical_accuracy: 0.9572 - val_loss: 5.0637 - val_categorical_accuracy: 0.4324\n",
      "Epoch 96/100\n",
      "64/64 [==============================] - 7s 105ms/step - loss: 0.1057 - categorical_accuracy: 0.9632 - val_loss: 5.2294 - val_categorical_accuracy: 0.4238\n",
      "Epoch 97/100\n",
      "64/64 [==============================] - 7s 105ms/step - loss: 0.1019 - categorical_accuracy: 0.9666 - val_loss: 5.2523 - val_categorical_accuracy: 0.4238\n",
      "Epoch 98/100\n",
      "64/64 [==============================] - 7s 105ms/step - loss: 0.1165 - categorical_accuracy: 0.9598 - val_loss: 5.3180 - val_categorical_accuracy: 0.4101\n"
     ]
    },
    {
     "name": "stdout",
     "output_type": "stream",
     "text": [
      "Epoch 99/100\n",
      "64/64 [==============================] - 7s 104ms/step - loss: 0.0600 - categorical_accuracy: 0.9793 - val_loss: 5.4192 - val_categorical_accuracy: 0.4004\n",
      "Epoch 100/100\n",
      "64/64 [==============================] - 7s 106ms/step - loss: 0.1132 - categorical_accuracy: 0.9609 - val_loss: 5.2346 - val_categorical_accuracy: 0.4146\n"
     ]
    },
    {
     "data": {
      "text/plain": [
       "<tensorflow.python.keras.callbacks.History at 0x7fa3947abb90>"
      ]
     },
     "execution_count": 9,
     "metadata": {},
     "output_type": "execute_result"
    }
   ],
   "source": [
    "# model 선언 \n",
    "model = tf.keras.applications.MobileNetV2(\n",
    "    input_shape=(48,48,1),\n",
    "    weights=None,\n",
    "    classes=7 # emotion label 들...\n",
    "    \n",
    "#     alpha=1.0,\n",
    "#     include_top=True,\n",
    "#     weights=\"imagenet\",\n",
    "#     input_tensor=None,\n",
    "#     pooling=None,\n",
    "#     classes=1000,\n",
    "#     classifier_activation=\"softmax\",\n",
    "#     **kwargs\n",
    ")\n",
    "\n",
    "# model.compile\n",
    "model.compile(optimizer=tf.keras.optimizers.Adam(),\n",
    "              loss=tf.keras.losses.CategoricalCrossentropy(),\n",
    "              metrics=[tf.keras.metrics.CategoricalAccuracy()])\n",
    "\n",
    "#model.fit\n",
    "model.fit(np.stack(train_x), \n",
    "          tf.keras.utils.to_categorical(train_y),\n",
    "          epochs=100,\n",
    "          batch_size=512,\n",
    "          validation_data=(np.stack(eval_x),\n",
    "                           tf.keras.utils.to_categorical(eval_y)))"
   ]
  },
  {
   "cell_type": "markdown",
   "metadata": {},
   "source": [
    "## trained model => tensoflow.js 형식으로\n",
    "- HDF5(.h5) 형식"
   ]
  },
  {
   "cell_type": "code",
   "execution_count": 10,
   "metadata": {
    "ExecuteTime": {
     "end_time": "2020-09-16T06:46:05.363909Z",
     "start_time": "2020-09-16T06:46:05.050221Z"
    }
   },
   "outputs": [],
   "source": [
    "model_path = os.getenv('HOME')+'/aiffel/AIFFEL_LSG/lms/01-EXPLORATION/E13-camera_webapp/model.h5'\n",
    "model.save(model_path)"
   ]
  },
  {
   "cell_type": "code",
   "execution_count": null,
   "metadata": {},
   "outputs": [],
   "source": []
  },
  {
   "cell_type": "code",
   "execution_count": null,
   "metadata": {},
   "outputs": [],
   "source": []
  }
 ],
 "metadata": {
  "kernelspec": {
   "display_name": "Python 3",
   "language": "python",
   "name": "python3"
  },
  "language_info": {
   "codemirror_mode": {
    "name": "ipython",
    "version": 3
   },
   "file_extension": ".py",
   "mimetype": "text/x-python",
   "name": "python",
   "nbconvert_exporter": "python",
   "pygments_lexer": "ipython3",
   "version": "3.7.6"
  },
  "toc": {
   "base_numbering": 1,
   "nav_menu": {},
   "number_sections": true,
   "sideBar": true,
   "skip_h1_title": false,
   "title_cell": "Table of Contents",
   "title_sidebar": "Contents",
   "toc_cell": false,
   "toc_position": {},
   "toc_section_display": true,
   "toc_window_display": false
  },
  "varInspector": {
   "cols": {
    "lenName": 16,
    "lenType": 16,
    "lenVar": 40
   },
   "kernels_config": {
    "python": {
     "delete_cmd_postfix": "",
     "delete_cmd_prefix": "del ",
     "library": "var_list.py",
     "varRefreshCmd": "print(var_dic_list())"
    },
    "r": {
     "delete_cmd_postfix": ") ",
     "delete_cmd_prefix": "rm(",
     "library": "var_list.r",
     "varRefreshCmd": "cat(var_dic_list()) "
    }
   },
   "types_to_exclude": [
    "module",
    "function",
    "builtin_function_or_method",
    "instance",
    "_Feature"
   ],
   "window_display": false
  }
 },
 "nbformat": 4,
 "nbformat_minor": 4
}
