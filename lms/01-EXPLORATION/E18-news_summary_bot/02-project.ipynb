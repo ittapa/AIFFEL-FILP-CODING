{
 "cells": [
  {
   "cell_type": "markdown",
   "metadata": {},
   "source": [
    "# 뉴스기사 요약해보기"
   ]
  },
  {
   "cell_type": "code",
   "execution_count": null,
   "metadata": {},
   "outputs": [],
   "source": []
  },
  {
   "cell_type": "markdown",
   "metadata": {
    "ExecuteTime": {
     "end_time": "2020-10-13T09:41:21.804098Z",
     "start_time": "2020-10-13T09:41:21.799038Z"
    }
   },
   "source": [
    "## library import"
   ]
  },
  {
   "cell_type": "code",
   "execution_count": 1,
   "metadata": {
    "ExecuteTime": {
     "end_time": "2020-10-17T04:44:23.286157Z",
     "start_time": "2020-10-17T04:44:20.577446Z"
    }
   },
   "outputs": [
    {
     "name": "stderr",
     "output_type": "stream",
     "text": [
      "[nltk_data] Downloading package stopwords to\n",
      "[nltk_data]     /home/aiffel0042/nltk_data...\n",
      "[nltk_data]   Package stopwords is already up-to-date!\n"
     ]
    }
   ],
   "source": [
    "import nltk\n",
    "nltk.download('stopwords') # 불용어\n",
    "\n",
    "import numpy as np\n",
    "import pandas as pd\n",
    "import os\n",
    "import re\n",
    "import matplotlib.pyplot as plt\n",
    "from nltk.corpus import stopwords\n",
    "from bs4 import BeautifulSoup \n",
    "from tensorflow.keras.preprocessing.text import Tokenizer \n",
    "from tensorflow.keras.preprocessing.sequence import pad_sequences\n",
    "import urllib.request"
   ]
  },
  {
   "cell_type": "code",
   "execution_count": null,
   "metadata": {},
   "outputs": [],
   "source": []
  },
  {
   "cell_type": "markdown",
   "metadata": {},
   "source": [
    "## 데이터 수집\n",
    "- 데이터는 아래 링크에 있는 뉴스 기사 데이터(newssummarymore.csv)를 사용하세요.\n",
    "- sunnysai12345/News_Summary\n",
    "\n"
   ]
  },
  {
   "cell_type": "code",
   "execution_count": 2,
   "metadata": {
    "ExecuteTime": {
     "end_time": "2020-10-17T04:44:31.487484Z",
     "start_time": "2020-10-17T04:44:23.295373Z"
    }
   },
   "outputs": [],
   "source": [
    "\n",
    "import urllib.request\n",
    "urllib.request.urlretrieve(\"https://raw.githubusercontent.com/sunnysai12345/News_Summary/master/news_summary_more.csv\", filename=\"news_summary_more.csv\")\n",
    "data = pd.read_csv('news_summary_more.csv', encoding='iso-8859-1')\n"
   ]
  },
  {
   "cell_type": "code",
   "execution_count": 3,
   "metadata": {
    "ExecuteTime": {
     "end_time": "2020-10-17T04:44:31.513848Z",
     "start_time": "2020-10-17T04:44:31.503970Z"
    }
   },
   "outputs": [
    {
     "data": {
      "text/html": [
       "<div>\n",
       "<style scoped>\n",
       "    .dataframe tbody tr th:only-of-type {\n",
       "        vertical-align: middle;\n",
       "    }\n",
       "\n",
       "    .dataframe tbody tr th {\n",
       "        vertical-align: top;\n",
       "    }\n",
       "\n",
       "    .dataframe thead th {\n",
       "        text-align: right;\n",
       "    }\n",
       "</style>\n",
       "<table border=\"1\" class=\"dataframe\">\n",
       "  <thead>\n",
       "    <tr style=\"text-align: right;\">\n",
       "      <th></th>\n",
       "      <th>headlines</th>\n",
       "      <th>text</th>\n",
       "    </tr>\n",
       "  </thead>\n",
       "  <tbody>\n",
       "    <tr>\n",
       "      <th>7899</th>\n",
       "      <td>J&amp;K records 76.9% turnout in 6th phase of panc...</td>\n",
       "      <td>Jammu and Kashmir on Saturday recorded a total...</td>\n",
       "    </tr>\n",
       "    <tr>\n",
       "      <th>94895</th>\n",
       "      <td>Uber admits it found one Waymo document on emp...</td>\n",
       "      <td>Uber has admitted that it found one of the doc...</td>\n",
       "    </tr>\n",
       "    <tr>\n",
       "      <th>27916</th>\n",
       "      <td>India reach second spot in ICC T20I team rankings</td>\n",
       "      <td>Following their thrashing of Ireland in the tw...</td>\n",
       "    </tr>\n",
       "    <tr>\n",
       "      <th>24595</th>\n",
       "      <td>Flipkart to shut eBay India, open new refurbis...</td>\n",
       "      <td>Flipkart, which acquired eBay India last year,...</td>\n",
       "    </tr>\n",
       "    <tr>\n",
       "      <th>83640</th>\n",
       "      <td>ED attaches assets worth Ã¢ÂÂ¹55 crore in Noi...</td>\n",
       "      <td>Enforcement Directorate (ED) on Friday attache...</td>\n",
       "    </tr>\n",
       "    <tr>\n",
       "      <th>19126</th>\n",
       "      <td>Feel deliberately sidelined by mainstream dire...</td>\n",
       "      <td>Actor Ranvir Shorey has said that he feels he ...</td>\n",
       "    </tr>\n",
       "    <tr>\n",
       "      <th>40334</th>\n",
       "      <td>I have been a nicotine addict since the age of...</td>\n",
       "      <td>Actor Ranbir Kapoor has revealed that he has b...</td>\n",
       "    </tr>\n",
       "    <tr>\n",
       "      <th>33134</th>\n",
       "      <td>Pak hands over Indian who mistakenly crossed b...</td>\n",
       "      <td>A 23-year-old Indian man, who had mistakenly e...</td>\n",
       "    </tr>\n",
       "    <tr>\n",
       "      <th>29755</th>\n",
       "      <td>WhatsApp msg about Jet Airways giving 2 free t...</td>\n",
       "      <td>A fake message about Jet Airways giving away t...</td>\n",
       "    </tr>\n",
       "    <tr>\n",
       "      <th>78278</th>\n",
       "      <td>Government panel to consider Air India debt wr...</td>\n",
       "      <td>The Aviation Ministry and the Department of In...</td>\n",
       "    </tr>\n",
       "  </tbody>\n",
       "</table>\n",
       "</div>"
      ],
      "text/plain": [
       "                                               headlines  \\\n",
       "7899   J&K records 76.9% turnout in 6th phase of panc...   \n",
       "94895  Uber admits it found one Waymo document on emp...   \n",
       "27916  India reach second spot in ICC T20I team rankings   \n",
       "24595  Flipkart to shut eBay India, open new refurbis...   \n",
       "83640  ED attaches assets worth Ã¢ÂÂ¹55 crore in Noi...   \n",
       "19126  Feel deliberately sidelined by mainstream dire...   \n",
       "40334  I have been a nicotine addict since the age of...   \n",
       "33134  Pak hands over Indian who mistakenly crossed b...   \n",
       "29755  WhatsApp msg about Jet Airways giving 2 free t...   \n",
       "78278  Government panel to consider Air India debt wr...   \n",
       "\n",
       "                                                    text  \n",
       "7899   Jammu and Kashmir on Saturday recorded a total...  \n",
       "94895  Uber has admitted that it found one of the doc...  \n",
       "27916  Following their thrashing of Ireland in the tw...  \n",
       "24595  Flipkart, which acquired eBay India last year,...  \n",
       "83640  Enforcement Directorate (ED) on Friday attache...  \n",
       "19126  Actor Ranvir Shorey has said that he feels he ...  \n",
       "40334  Actor Ranbir Kapoor has revealed that he has b...  \n",
       "33134  A 23-year-old Indian man, who had mistakenly e...  \n",
       "29755  A fake message about Jet Airways giving away t...  \n",
       "78278  The Aviation Ministry and the Department of In...  "
      ]
     },
     "execution_count": 3,
     "metadata": {},
     "output_type": "execute_result"
    }
   ],
   "source": [
    "data.sample(10)"
   ]
  },
  {
   "cell_type": "code",
   "execution_count": null,
   "metadata": {},
   "outputs": [],
   "source": []
  },
  {
   "cell_type": "code",
   "execution_count": null,
   "metadata": {},
   "outputs": [],
   "source": []
  },
  {
   "cell_type": "markdown",
   "metadata": {},
   "source": [
    "## data pre-processing"
   ]
  },
  {
   "cell_type": "markdown",
   "metadata": {},
   "source": [
    "### 중복 제거"
   ]
  },
  {
   "cell_type": "code",
   "execution_count": 4,
   "metadata": {
    "ExecuteTime": {
     "end_time": "2020-10-17T04:44:52.942188Z",
     "start_time": "2020-10-17T04:44:52.831865Z"
    }
   },
   "outputs": [
    {
     "name": "stdout",
     "output_type": "stream",
     "text": [
      "Text 열에서 중복을 배제한 유일한 샘플의 수 : 98360\n",
      "Summary 열에서 중복을 배제한 유일한 샘플의 수 : 98280\n"
     ]
    }
   ],
   "source": [
    "print('Text 열에서 중복을 배제한 유일한 샘플의 수 :', data['text'].nunique())\n",
    "print('Summary 열에서 중복을 배제한 유일한 샘플의 수 :', data['headlines'].nunique())"
   ]
  },
  {
   "cell_type": "code",
   "execution_count": 5,
   "metadata": {
    "ExecuteTime": {
     "end_time": "2020-10-17T04:44:53.357319Z",
     "start_time": "2020-10-17T04:44:53.278060Z"
    }
   },
   "outputs": [
    {
     "name": "stdout",
     "output_type": "stream",
     "text": [
      "전체 샘플수 : 98360\n"
     ]
    }
   ],
   "source": [
    "data.drop_duplicates(subset = ['text'], inplace = True) # 중복제거\n",
    "print('전체 샘플수 :',(len(data)))"
   ]
  },
  {
   "cell_type": "markdown",
   "metadata": {},
   "source": [
    "### 널값 제거"
   ]
  },
  {
   "cell_type": "code",
   "execution_count": 6,
   "metadata": {
    "ExecuteTime": {
     "end_time": "2020-10-17T04:44:54.163767Z",
     "start_time": "2020-10-17T04:44:54.151628Z"
    }
   },
   "outputs": [
    {
     "name": "stdout",
     "output_type": "stream",
     "text": [
      "headlines    0\n",
      "text         0\n",
      "dtype: int64\n"
     ]
    }
   ],
   "source": [
    "print(data.isnull().sum())"
   ]
  },
  {
   "cell_type": "code",
   "execution_count": 7,
   "metadata": {
    "ExecuteTime": {
     "end_time": "2020-10-17T04:44:54.512013Z",
     "start_time": "2020-10-17T04:44:54.492573Z"
    }
   },
   "outputs": [
    {
     "name": "stdout",
     "output_type": "stream",
     "text": [
      "전체 샘플수 : 98360\n"
     ]
    }
   ],
   "source": [
    " # 없음..\n",
    "# null 값 제거\n",
    "data.dropna(axis = 0, inplace = True)\n",
    "print('전체 샘플수 :',(len(data)))"
   ]
  },
  {
   "cell_type": "markdown",
   "metadata": {
    "ExecuteTime": {
     "end_time": "2020-10-15T08:00:02.443574Z",
     "start_time": "2020-10-15T08:00:02.441343Z"
    }
   },
   "source": [
    "### 텍스트 정규화"
   ]
  },
  {
   "cell_type": "code",
   "execution_count": 12,
   "metadata": {
    "ExecuteTime": {
     "end_time": "2020-10-17T04:51:14.352492Z",
     "start_time": "2020-10-17T04:51:14.344422Z"
    }
   },
   "outputs": [
    {
     "name": "stdout",
     "output_type": "stream",
     "text": [
      "정규화 사전의 수:  120\n"
     ]
    }
   ],
   "source": [
    "### 텍스트 정규화...\n",
    "\n",
    "contractions = {\"ain't\": \"is not\", \"aren't\": \"are not\",\"can't\": \"cannot\", \"'cause\": \"because\", \"could've\": \"could have\", \"couldn't\": \"could not\",\n",
    "                           \"didn't\": \"did not\",  \"doesn't\": \"does not\", \"don't\": \"do not\", \"hadn't\": \"had not\", \"hasn't\": \"has not\", \"haven't\": \"have not\",\n",
    "                           \"he'd\": \"he would\",\"he'll\": \"he will\", \"he's\": \"he is\", \"how'd\": \"how did\", \"how'd'y\": \"how do you\", \"how'll\": \"how will\", \"how's\": \"how is\",\n",
    "                           \"I'd\": \"I would\", \"I'd've\": \"I would have\", \"I'll\": \"I will\", \"I'll've\": \"I will have\",\"I'm\": \"I am\", \"I've\": \"I have\", \"i'd\": \"i would\",\n",
    "                           \"i'd've\": \"i would have\", \"i'll\": \"i will\",  \"i'll've\": \"i will have\",\"i'm\": \"i am\", \"i've\": \"i have\", \"isn't\": \"is not\", \"it'd\": \"it would\",\n",
    "                           \"it'd've\": \"it would have\", \"it'll\": \"it will\", \"it'll've\": \"it will have\",\"it's\": \"it is\", \"let's\": \"let us\", \"ma'am\": \"madam\",\n",
    "                           \"mayn't\": \"may not\", \"might've\": \"might have\",\"mightn't\": \"might not\",\"mightn't've\": \"might not have\", \"must've\": \"must have\",\n",
    "                           \"mustn't\": \"must not\", \"mustn't've\": \"must not have\", \"needn't\": \"need not\", \"needn't've\": \"need not have\",\"o'clock\": \"of the clock\",\n",
    "                           \"oughtn't\": \"ought not\", \"oughtn't've\": \"ought not have\", \"shan't\": \"shall not\", \"sha'n't\": \"shall not\", \"shan't've\": \"shall not have\",\n",
    "                           \"she'd\": \"she would\", \"she'd've\": \"she would have\", \"she'll\": \"she will\", \"she'll've\": \"she will have\", \"she's\": \"she is\",\n",
    "                           \"should've\": \"should have\", \"shouldn't\": \"should not\", \"shouldn't've\": \"should not have\", \"so've\": \"so have\",\"so's\": \"so as\",\n",
    "                           \"this's\": \"this is\",\"that'd\": \"that would\", \"that'd've\": \"that would have\", \"that's\": \"that is\", \"there'd\": \"there would\",\n",
    "                           \"there'd've\": \"there would have\", \"there's\": \"there is\", \"here's\": \"here is\",\"they'd\": \"they would\", \"they'd've\": \"they would have\",\n",
    "                           \"they'll\": \"they will\", \"they'll've\": \"they will have\", \"they're\": \"they are\", \"they've\": \"they have\", \"to've\": \"to have\",\n",
    "                           \"wasn't\": \"was not\", \"we'd\": \"we would\", \"we'd've\": \"we would have\", \"we'll\": \"we will\", \"we'll've\": \"we will have\", \"we're\": \"we are\",\n",
    "                           \"we've\": \"we have\", \"weren't\": \"were not\", \"what'll\": \"what will\", \"what'll've\": \"what will have\", \"what're\": \"what are\",\n",
    "                           \"what's\": \"what is\", \"what've\": \"what have\", \"when's\": \"when is\", \"when've\": \"when have\", \"where'd\": \"where did\", \"where's\": \"where is\",\n",
    "                           \"where've\": \"where have\", \"who'll\": \"who will\", \"who'll've\": \"who will have\", \"who's\": \"who is\", \"who've\": \"who have\",\n",
    "                           \"why's\": \"why is\", \"why've\": \"why have\", \"will've\": \"will have\", \"won't\": \"will not\", \"won't've\": \"will not have\",\n",
    "                           \"would've\": \"would have\", \"wouldn't\": \"would not\", \"wouldn't've\": \"would not have\", \"y'all\": \"you all\",\n",
    "                           \"y'all'd\": \"you all would\",\"y'all'd've\": \"you all would have\",\"y'all're\": \"you all are\",\"y'all've\": \"you all have\",\n",
    "                           \"you'd\": \"you would\", \"you'd've\": \"you would have\", \"you'll\": \"you will\", \"you'll've\": \"you will have\",\n",
    "                           \"you're\": \"you are\", \"you've\": \"you have\"}\n",
    "\n",
    "print(\"정규화 사전의 수: \",len(contractions))"
   ]
  },
  {
   "cell_type": "code",
   "execution_count": null,
   "metadata": {},
   "outputs": [],
   "source": []
  },
  {
   "cell_type": "markdown",
   "metadata": {},
   "source": [
    "### 불용어 "
   ]
  },
  {
   "cell_type": "code",
   "execution_count": 13,
   "metadata": {
    "ExecuteTime": {
     "end_time": "2020-10-17T04:51:16.409164Z",
     "start_time": "2020-10-17T04:51:16.406265Z"
    }
   },
   "outputs": [
    {
     "name": "stdout",
     "output_type": "stream",
     "text": [
      "불용어 개수 : 179\n",
      "['i', 'me', 'my', 'myself', 'we', 'our', 'ours', 'ourselves', 'you', \"you're\", \"you've\", \"you'll\", \"you'd\", 'your', 'yours', 'yourself', 'yourselves', 'he', 'him', 'his', 'himself', 'she', \"she's\", 'her', 'hers', 'herself', 'it', \"it's\", 'its', 'itself', 'they', 'them', 'their', 'theirs', 'themselves', 'what', 'which', 'who', 'whom', 'this', 'that', \"that'll\", 'these', 'those', 'am', 'is', 'are', 'was', 'were', 'be', 'been', 'being', 'have', 'has', 'had', 'having', 'do', 'does', 'did', 'doing', 'a', 'an', 'the', 'and', 'but', 'if', 'or', 'because', 'as', 'until', 'while', 'of', 'at', 'by', 'for', 'with', 'about', 'against', 'between', 'into', 'through', 'during', 'before', 'after', 'above', 'below', 'to', 'from', 'up', 'down', 'in', 'out', 'on', 'off', 'over', 'under', 'again', 'further', 'then', 'once', 'here', 'there', 'when', 'where', 'why', 'how', 'all', 'any', 'both', 'each', 'few', 'more', 'most', 'other', 'some', 'such', 'no', 'nor', 'not', 'only', 'own', 'same', 'so', 'than', 'too', 'very', 's', 't', 'can', 'will', 'just', 'don', \"don't\", 'should', \"should've\", 'now', 'd', 'll', 'm', 'o', 're', 've', 'y', 'ain', 'aren', \"aren't\", 'couldn', \"couldn't\", 'didn', \"didn't\", 'doesn', \"doesn't\", 'hadn', \"hadn't\", 'hasn', \"hasn't\", 'haven', \"haven't\", 'isn', \"isn't\", 'ma', 'mightn', \"mightn't\", 'mustn', \"mustn't\", 'needn', \"needn't\", 'shan', \"shan't\", 'shouldn', \"shouldn't\", 'wasn', \"wasn't\", 'weren', \"weren't\", 'won', \"won't\", 'wouldn', \"wouldn't\"]\n"
     ]
    }
   ],
   "source": [
    "print('불용어 개수 :', len(stopwords.words('english') ))\n",
    "print(stopwords.words('english'))"
   ]
  },
  {
   "cell_type": "code",
   "execution_count": null,
   "metadata": {},
   "outputs": [],
   "source": []
  },
  {
   "cell_type": "markdown",
   "metadata": {},
   "source": [
    "### 전처리 함수(소문자, 태그제거, 특수문자 제거, 중복문자, 불용어, 정규화)"
   ]
  },
  {
   "cell_type": "code",
   "execution_count": 14,
   "metadata": {
    "ExecuteTime": {
     "end_time": "2020-10-17T04:51:18.133364Z",
     "start_time": "2020-10-17T04:51:18.114504Z"
    }
   },
   "outputs": [],
   "source": [
    "#데이터 전처리 함수\n",
    "def preprocess_sentence(sentence, remove_stopwords=True):\n",
    "    sentence = sentence.lower() # 텍스트 소문자화\n",
    "    sentence = BeautifulSoup(sentence, \"lxml\").text # <br />, <a href = ...> 등의 html 태그 제거\n",
    "    sentence = re.sub(r'\\([^)]*\\)', '', sentence) # 괄호로 닫힌 문자열 (...) 제거 Ex) my husband (and myself!) for => my husband for\n",
    "    sentence = re.sub('\"','', sentence) # 쌍따옴표 \" 제거\n",
    "    sentence = ' '.join([contractions[t] if t in contractions else t for t in sentence.split(\" \")]) # 약어 정규화\n",
    "    sentence = re.sub(r\"'s\\b\",\"\",sentence) # 소유격 제거. Ex) roland's -> roland\n",
    "    sentence = re.sub(\"[^a-zA-Z]\", \" \", sentence) # 영어 외 문자(숫자, 특수문자 등) 공백으로 변환\n",
    "    sentence = re.sub('[m]{2,}', 'mm', sentence) # m이 3개 이상이면 2개로 변경. Ex) ummmmmmm yeah -> umm yeah\n",
    "    \n",
    "    # 불용어 제거 (Text)\n",
    "    if remove_stopwords:\n",
    "        tokens = ' '.join(word for word in sentence.split() if not word in stopwords.words('english') if len(word) > 1)\n",
    "    # 불용어 미제거 (Summary)\n",
    "    else:\n",
    "        tokens = ' '.join(word for word in sentence.split() if len(word) > 1)\n",
    "    return tokens"
   ]
  },
  {
   "cell_type": "code",
   "execution_count": null,
   "metadata": {},
   "outputs": [],
   "source": []
  },
  {
   "cell_type": "markdown",
   "metadata": {},
   "source": [
    "### 전처리 실행"
   ]
  },
  {
   "cell_type": "code",
   "execution_count": null,
   "metadata": {
    "ExecuteTime": {
     "start_time": "2020-10-17T04:51:20.269Z"
    }
   },
   "outputs": [],
   "source": [
    "#text\n",
    "\n",
    "clean_text = []\n",
    "\n",
    "\n",
    "for s in data['text']:\n",
    "    clean_text.append(preprocess_sentence(s))\n",
    "\n",
    "# 전처리 후 출력\n",
    "clean_text[:5]"
   ]
  },
  {
   "cell_type": "code",
   "execution_count": null,
   "metadata": {
    "ExecuteTime": {
     "end_time": "2020-10-17T04:51:08.450392Z",
     "start_time": "2020-10-17T04:44:58.110Z"
    }
   },
   "outputs": [],
   "source": [
    "# headline\n",
    "# 불용어 전처리 하지 않음...\n",
    "\n",
    "clean_headline = []\n",
    "\n",
    "\n",
    "for s in data['headlines']:\n",
    "    clean_headline.append(preprocess_sentence(s, False))\n",
    "\n",
    "clean_headline[:5]"
   ]
  },
  {
   "cell_type": "code",
   "execution_count": null,
   "metadata": {},
   "outputs": [],
   "source": []
  },
  {
   "cell_type": "code",
   "execution_count": null,
   "metadata": {
    "ExecuteTime": {
     "start_time": "2020-10-17T04:53:20.955Z"
    }
   },
   "outputs": [],
   "source": [
    "### 널값 다시 체크\n",
    "data.isnull().sum()\n",
    "\n",
    "## 널값 업넹..\n",
    "# data.dropna(axis=0, inplace=True)\n",
    "# print('전체 샘플수 :',(len(data)))#데이터 전처리 함수"
   ]
  },
  {
   "cell_type": "markdown",
   "metadata": {},
   "source": [
    "### data 최대 길이 지정 및 잘라내기"
   ]
  },
  {
   "cell_type": "code",
   "execution_count": null,
   "metadata": {
    "ExecuteTime": {
     "end_time": "2020-10-17T04:51:08.455053Z",
     "start_time": "2020-10-17T04:44:58.963Z"
    }
   },
   "outputs": [],
   "source": [
    "# 길이 분포 출력\n",
    "import matplotlib.pyplot as plt\n",
    "\n",
    "text_len = [len(s.split()) for s in data['text']]\n",
    "summary_len = [len(s.split()) for s in data['headlines']]\n",
    "\n",
    "print('텍스트의 최소 길이 : {}'.format(np.min(text_len)))\n",
    "print('텍스트의 최대 길이 : {}'.format(np.max(text_len)))\n",
    "print('텍스트의 평균 길이 : {}'.format(np.mean(text_len)))\n",
    "print('g헤드라인의 최소 길이 : {}'.format(np.min(summary_len)))\n",
    "print('헤드라인의 최대 길이 : {}'.format(np.max(summary_len)))\n",
    "print('헤드라인의 평균 길이 : {}'.format(np.mean(summary_len)))\n",
    "\n",
    "plt.subplot(1,2,1)\n",
    "plt.boxplot(summary_len)\n",
    "plt.title('Summary')\n",
    "plt.subplot(1,2,2)\n",
    "plt.boxplot(text_len)\n",
    "plt.title('Text')\n",
    "plt.tight_layout()\n",
    "plt.show()\n",
    "\n",
    "plt.title('headline')\n",
    "plt.hist(summary_len, bins = 40)\n",
    "plt.xlabel('length of samples')\n",
    "plt.ylabel('number of samples')\n",
    "plt.show()\n",
    "\n",
    "plt.title('Text')\n",
    "plt.hist(text_len, bins = 40)\n",
    "plt.xlabel('length of samples')\n",
    "plt.ylabel('number of samples')\n",
    "plt.show()"
   ]
  },
  {
   "cell_type": "code",
   "execution_count": null,
   "metadata": {
    "ExecuteTime": {
     "end_time": "2020-10-17T04:51:08.456761Z",
     "start_time": "2020-10-17T04:44:59.640Z"
    }
   },
   "outputs": [],
   "source": [
    "## 최대 길이 지정.\n",
    "\n",
    "text_max_len = 65\n",
    "summary_max_len = 12"
   ]
  },
  {
   "cell_type": "code",
   "execution_count": null,
   "metadata": {
    "ExecuteTime": {
     "end_time": "2020-10-17T04:51:08.458426Z",
     "start_time": "2020-10-17T04:44:59.960Z"
    }
   },
   "outputs": [],
   "source": [
    "## 최대길이로 잘랏을때 비중. 계산해보기."
   ]
  },
  {
   "cell_type": "code",
   "execution_count": null,
   "metadata": {
    "ExecuteTime": {
     "end_time": "2020-10-17T04:51:08.460230Z",
     "start_time": "2020-10-17T04:45:00.252Z"
    }
   },
   "outputs": [],
   "source": [
    "def below_threshold_len(max_len, nested_list):\n",
    "  cnt = 0\n",
    "  for s in nested_list:\n",
    "    if(len(s.split()) <= max_len):\n",
    "        cnt = cnt + 1\n",
    "  print('전체 샘플 중 길이가 %s 이하인 샘플의 비율: %s'%(max_len, (cnt / len(nested_list))))"
   ]
  },
  {
   "cell_type": "code",
   "execution_count": null,
   "metadata": {
    "ExecuteTime": {
     "end_time": "2020-10-17T04:51:08.461865Z",
     "start_time": "2020-10-17T04:45:00.609Z"
    }
   },
   "outputs": [],
   "source": [
    "below_threshold_len(text_max_len, data['text'])\n",
    "below_threshold_len(summary_max_len,  data['headlines'])"
   ]
  },
  {
   "cell_type": "code",
   "execution_count": null,
   "metadata": {
    "ExecuteTime": {
     "end_time": "2020-10-17T04:51:08.463701Z",
     "start_time": "2020-10-17T04:45:00.995Z"
    }
   },
   "outputs": [],
   "source": [
    "### 잘라내기\n"
   ]
  },
  {
   "cell_type": "code",
   "execution_count": null,
   "metadata": {
    "ExecuteTime": {
     "end_time": "2020-10-17T04:51:08.465404Z",
     "start_time": "2020-10-17T04:45:01.943Z"
    }
   },
   "outputs": [],
   "source": [
    "data = data[data['text'].apply(lambda x: len(x.split()) <= text_max_len)]\n",
    "data = data[data['headlines'].apply(lambda x: len(x.split()) <= summary_max_len)]\n",
    "print('전체 샘플수 :',(len(data)))"
   ]
  },
  {
   "cell_type": "markdown",
   "metadata": {},
   "source": [
    "### 시작 끝 토큰 추가하기"
   ]
  },
  {
   "cell_type": "code",
   "execution_count": null,
   "metadata": {
    "ExecuteTime": {
     "end_time": "2020-10-17T04:51:08.468215Z",
     "start_time": "2020-10-17T04:45:02.832Z"
    }
   },
   "outputs": [],
   "source": [
    "#요약 데이터에는 시작 토큰과 종료 토큰을 추가한다.\n",
    "data['decoder_input'] = data['headlines'].apply(lambda x : 'sostoken '+ x)\n",
    "data['decoder_target'] = data['headlines'].apply(lambda x : x + ' eostoken')\n",
    "data.head()"
   ]
  },
  {
   "cell_type": "code",
   "execution_count": null,
   "metadata": {
    "ExecuteTime": {
     "end_time": "2020-10-17T04:51:08.469853Z",
     "start_time": "2020-10-17T04:45:03.258Z"
    }
   },
   "outputs": [],
   "source": [
    "encoder_input = np.array(data['text']) # 인코더의 입력\n",
    "decoder_input = np.array(data['decoder_input']) # 디코더의 입력\n",
    "decoder_target = np.array(data['decoder_target']) # 디코더의 레이블"
   ]
  },
  {
   "cell_type": "markdown",
   "metadata": {},
   "source": [
    "### data set 분리"
   ]
  },
  {
   "cell_type": "code",
   "execution_count": null,
   "metadata": {
    "ExecuteTime": {
     "end_time": "2020-10-17T04:51:08.472013Z",
     "start_time": "2020-10-17T04:45:04.137Z"
    }
   },
   "outputs": [],
   "source": [
    "# 랜덤 서플 ...\n",
    "indices = np.arange(encoder_input.shape[0])\n",
    "np.random.shuffle(indices)\n",
    "print(indices)"
   ]
  },
  {
   "cell_type": "code",
   "execution_count": null,
   "metadata": {
    "ExecuteTime": {
     "end_time": "2020-10-17T04:51:08.473905Z",
     "start_time": "2020-10-17T04:45:04.538Z"
    }
   },
   "outputs": [],
   "source": [
    "#섞어\n",
    "encoder_input = encoder_input[indices]\n",
    "decoder_input = decoder_input[indices]\n",
    "decoder_target = decoder_target[indices]"
   ]
  },
  {
   "cell_type": "code",
   "execution_count": null,
   "metadata": {
    "ExecuteTime": {
     "end_time": "2020-10-17T04:51:08.475498Z",
     "start_time": "2020-10-17T04:45:04.946Z"
    }
   },
   "outputs": [],
   "source": [
    "# 8:2로 분리\n",
    "\n",
    "n_of_val = int(len(encoder_input)*0.2)\n",
    "print('테스트 데이터의 수 :',n_of_val)"
   ]
  },
  {
   "cell_type": "code",
   "execution_count": null,
   "metadata": {
    "ExecuteTime": {
     "end_time": "2020-10-17T04:51:08.477225Z",
     "start_time": "2020-10-17T04:45:05.441Z"
    }
   },
   "outputs": [],
   "source": [
    "encoder_input_train = encoder_input[:-n_of_val]\n",
    "decoder_input_train = decoder_input[:-n_of_val]\n",
    "decoder_target_train = decoder_target[:-n_of_val]\n",
    "\n",
    "encoder_input_test = encoder_input[-n_of_val:]\n",
    "decoder_input_test = decoder_input[-n_of_val:]\n",
    "decoder_target_test = decoder_target[-n_of_val:]\n",
    "\n",
    "print('훈련 데이터의 개수 :', len(encoder_input_train))\n",
    "print('훈련 레이블의 개수 :',len(decoder_input_train))\n",
    "print('테스트 데이터의 개수 :',len(encoder_input_test))\n",
    "print('테스트 레이블의 개수 :',len(decoder_input_test))"
   ]
  },
  {
   "cell_type": "code",
   "execution_count": null,
   "metadata": {},
   "outputs": [],
   "source": []
  },
  {
   "cell_type": "markdown",
   "metadata": {},
   "source": [
    "### 정수인코딩"
   ]
  },
  {
   "cell_type": "code",
   "execution_count": null,
   "metadata": {},
   "outputs": [],
   "source": []
  },
  {
   "cell_type": "code",
   "execution_count": null,
   "metadata": {
    "ExecuteTime": {
     "end_time": "2020-10-17T04:51:08.478758Z",
     "start_time": "2020-10-17T04:45:06.999Z"
    }
   },
   "outputs": [],
   "source": [
    "src_tokenizer = Tokenizer() # 토크나이저 정의\n",
    "src_tokenizer.fit_on_texts(encoder_input_train) # 입력된 데이터로부터 단어 집합 생성"
   ]
  },
  {
   "cell_type": "code",
   "execution_count": null,
   "metadata": {},
   "outputs": [],
   "source": [
    "\n"
   ]
  },
  {
   "cell_type": "code",
   "execution_count": 30,
   "metadata": {
    "ExecuteTime": {
     "end_time": "2020-10-16T01:50:49.200708Z",
     "start_time": "2020-10-16T01:50:49.172264Z"
    }
   },
   "outputs": [
    {
     "name": "stdout",
     "output_type": "stream",
     "text": [
      "단어 집합(vocabulary)의 크기 : 90531\n",
      "등장 빈도가 6번 이하인 희귀 단어의 수: 65959\n",
      "단어 집합에서 희귀 단어를 제외시킬 경우의 단어 집합의 크기 24572\n",
      "단어 집합에서 희귀 단어의 비율: 72.85791607294739\n",
      "전체 등장 빈도에서 희귀 단어 등장 빈도 비율: 2.7739412189686457\n"
     ]
    }
   ],
   "source": [
    "## 등장 획수가 7회 미만인 단어들의 비중\n",
    "\n",
    "threshold = 7\n",
    "total_cnt = len(src_tokenizer.word_index) # 단어의 수\n",
    "rare_cnt = 0 # 등장 빈도수가 threshold보다 작은 단어의 개수를 카운트\n",
    "total_freq = 0 # 훈련 데이터의 전체 단어 빈도수 총 합\n",
    "rare_freq = 0 # 등장 빈도수가 threshold보다 작은 단어의 등장 빈도수의 총 합\n",
    "\n",
    "# 단어와 빈도수의 쌍(pair)을 key와 value로 받는다.\n",
    "for key, value in src_tokenizer.word_counts.items():\n",
    "    total_freq = total_freq + value\n",
    "\n",
    "    # 단어의 등장 빈도수가 threshold보다 작으면\n",
    "    if(value < threshold):\n",
    "        rare_cnt = rare_cnt + 1\n",
    "        rare_freq = rare_freq + value\n",
    "\n",
    "print('단어 집합(vocabulary)의 크기 :',total_cnt)\n",
    "print('등장 빈도가 %s번 이하인 희귀 단어의 수: %s'%(threshold - 1, rare_cnt))\n",
    "print('단어 집합에서 희귀 단어를 제외시킬 경우의 단어 집합의 크기 %s'%(total_cnt - rare_cnt))\n",
    "print(\"단어 집합에서 희귀 단어의 비율:\", (rare_cnt / total_cnt)*100)\n",
    "print(\"전체 등장 빈도에서 희귀 단어 등장 빈도 비율:\", (rare_freq / total_freq)*100)"
   ]
  },
  {
   "cell_type": "code",
   "execution_count": 32,
   "metadata": {
    "ExecuteTime": {
     "end_time": "2020-10-16T02:01:26.677262Z",
     "start_time": "2020-10-16T02:01:26.675675Z"
    }
   },
   "outputs": [],
   "source": [
    "## 토크나이저 재정의"
   ]
  },
  {
   "cell_type": "code",
   "execution_count": 31,
   "metadata": {
    "ExecuteTime": {
     "end_time": "2020-10-16T02:01:04.174753Z",
     "start_time": "2020-10-16T02:01:01.295551Z"
    }
   },
   "outputs": [],
   "source": [
    "src_vocab = 25000\n",
    "src_tokenizer = Tokenizer(num_words = src_vocab) # 단어 집합의 크기를 8,000으로 제한\n",
    "src_tokenizer.fit_on_texts(encoder_input_train) # 단어 집합 재생성."
   ]
  },
  {
   "cell_type": "code",
   "execution_count": 33,
   "metadata": {
    "ExecuteTime": {
     "end_time": "2020-10-16T02:01:39.619442Z",
     "start_time": "2020-10-16T02:01:37.225843Z"
    }
   },
   "outputs": [
    {
     "name": "stdout",
     "output_type": "stream",
     "text": [
      "[[676, 4522, 984, 4331, 1741, 2444, 2725, 587, 1104, 11719, 8, 10, 132, 13, 100, 403, 9, 2813, 16, 7121, 865, 190, 2, 35, 16020, 2, 649, 1, 1086, 89, 180, 2042, 143, 676, 1506, 6, 865, 26, 30, 9915, 176, 3147, 8023, 7032, 16, 351, 699, 5394, 2, 25, 1, 117, 2629, 627, 4, 1, 746, 89], [447, 299, 58, 1676, 2394, 1136, 8, 10, 11, 21, 13, 1538, 2, 1411, 7, 1052, 190, 2, 423, 2, 423, 12021, 1, 52, 83, 181, 427, 747, 1, 1323, 13, 347, 20, 21, 8, 1666, 4, 340, 1136, 33, 225, 826, 4023, 373, 9556, 423, 2, 423, 12021, 115, 1329, 1, 17366, 6, 16021, 2, 2307, 1, 1490, 6738], [1, 2359, 212, 5, 40, 884, 7, 120, 10, 21, 78, 20079, 10105, 67, 57, 11207, 92, 1, 365, 218, 2490, 5, 52, 9087, 4, 674, 490, 5245, 5, 3, 1833, 1459, 8940, 1, 456, 2529, 481, 121, 18, 1, 52, 163, 7, 122, 11, 21, 23, 818, 3697, 20080, 15, 6381, 67, 57, 4, 1, 172, 723, 5, 1, 786, 1749]]\n"
     ]
    }
   ],
   "source": [
    "## 전환\n",
    "\n",
    "# 텍스트 시퀀스를 정수 시퀀스로 변환\n",
    "encoder_input_train = src_tokenizer.texts_to_sequences(encoder_input_train) \n",
    "encoder_input_test = src_tokenizer.texts_to_sequences(encoder_input_test)\n",
    "\n",
    "#잘 진행되었는지 샘플 출력\n",
    "print(encoder_input_train[:3])"
   ]
  },
  {
   "cell_type": "code",
   "execution_count": 34,
   "metadata": {
    "ExecuteTime": {
     "end_time": "2020-10-16T02:01:57.730303Z",
     "start_time": "2020-10-16T02:01:57.727204Z"
    }
   },
   "outputs": [],
   "source": [
    "## headline은"
   ]
  },
  {
   "cell_type": "code",
   "execution_count": 35,
   "metadata": {
    "ExecuteTime": {
     "end_time": "2020-10-16T02:01:59.989176Z",
     "start_time": "2020-10-16T02:01:59.226071Z"
    }
   },
   "outputs": [],
   "source": [
    "tar_tokenizer = Tokenizer()\n",
    "tar_tokenizer.fit_on_texts(decoder_input_train)"
   ]
  },
  {
   "cell_type": "code",
   "execution_count": 36,
   "metadata": {
    "ExecuteTime": {
     "end_time": "2020-10-16T02:02:14.103068Z",
     "start_time": "2020-10-16T02:02:14.077751Z"
    }
   },
   "outputs": [
    {
     "name": "stdout",
     "output_type": "stream",
     "text": [
      "단어 집합(vocabulary)의 크기 : 40448\n",
      "등장 빈도가 5번 이하인 희귀 단어의 수: 29269\n",
      "단어 집합에서 희귀 단어를 제외시킬 경우의 단어 집합의 크기 11179\n",
      "단어 집합에서 희귀 단어의 비율: 72.36204509493672\n",
      "전체 등장 빈도에서 희귀 단어 등장 빈도 비율: 6.316033296789654\n"
     ]
    }
   ],
   "source": [
    "threshold = 6\n",
    "total_cnt = len(tar_tokenizer.word_index) # 단어의 수\n",
    "rare_cnt = 0 # 등장 빈도수가 threshold보다 작은 단어의 개수를 카운트\n",
    "total_freq = 0 # 훈련 데이터의 전체 단어 빈도수 총 합\n",
    "rare_freq = 0 # 등장 빈도수가 threshold보다 작은 단어의 등장 빈도수의 총 합\n",
    "\n",
    "# 단어와 빈도수의 쌍(pair)을 key와 value로 받는다.\n",
    "for key, value in tar_tokenizer.word_counts.items():\n",
    "    total_freq = total_freq + value\n",
    "\n",
    "    # 단어의 등장 빈도수가 threshold보다 작으면\n",
    "    if(value < threshold):\n",
    "        rare_cnt = rare_cnt + 1\n",
    "        rare_freq = rare_freq + value\n",
    "\n",
    "print('단어 집합(vocabulary)의 크기 :',total_cnt)\n",
    "print('등장 빈도가 %s번 이하인 희귀 단어의 수: %s'%(threshold - 1, rare_cnt))\n",
    "print('단어 집합에서 희귀 단어를 제외시킬 경우의 단어 집합의 크기 %s'%(total_cnt - rare_cnt))\n",
    "print(\"단어 집합에서 희귀 단어의 비율:\", (rare_cnt / total_cnt)*100)\n",
    "print(\"전체 등장 빈도에서 희귀 단어 등장 빈도 비율:\", (rare_freq / total_freq)*100)"
   ]
  },
  {
   "cell_type": "code",
   "execution_count": 37,
   "metadata": {
    "ExecuteTime": {
     "end_time": "2020-10-16T02:02:30.212756Z",
     "start_time": "2020-10-16T02:02:26.887287Z"
    }
   },
   "outputs": [
    {
     "name": "stdout",
     "output_type": "stream",
     "text": [
      "input\n",
      "input  [[1, 277, 1105, 3, 1106, 1542, 57, 250, 1143], [1, 2026, 3, 1266, 1752, 7, 434, 988, 24], [1, 390, 3, 8680, 50, 31, 97, 676, 4, 2278], [1, 4123, 6, 3800, 10204, 6, 647, 721, 5615], [1, 4266, 1411, 443, 572, 3115, 4124, 3589, 3, 200, 111, 624, 384]]\n",
      "target\n",
      "decoder  [[277, 1105, 3, 1106, 1542, 57, 250, 1143, 2], [2026, 3, 1266, 1752, 7, 434, 988, 24, 2], [390, 3, 8680, 50, 31, 97, 676, 4, 2278, 2], [4123, 6, 3800, 10204, 6, 647, 721, 5615, 2], [4266, 1411, 443, 572, 3115, 4124, 3589, 3, 200, 111, 624, 384, 2]]\n"
     ]
    }
   ],
   "source": [
    "tar_vocab = 11000\n",
    "tar_tokenizer = Tokenizer(num_words = tar_vocab) \n",
    "tar_tokenizer.fit_on_texts(decoder_input_train)\n",
    "tar_tokenizer.fit_on_texts(decoder_target_train)\n",
    "\n",
    "# 텍스트 시퀀스를 정수 시퀀스로 변환\n",
    "decoder_input_train = tar_tokenizer.texts_to_sequences(decoder_input_train) \n",
    "decoder_target_train = tar_tokenizer.texts_to_sequences(decoder_target_train)\n",
    "decoder_input_test = tar_tokenizer.texts_to_sequences(decoder_input_test)\n",
    "decoder_target_test = tar_tokenizer.texts_to_sequences(decoder_target_test)\n",
    "\n",
    "#잘 변환되었는지 확인\n",
    "print('input')\n",
    "print('input ',decoder_input_train[:5])\n",
    "print('target')\n",
    "print('decoder ',decoder_target_train[:5])"
   ]
  },
  {
   "cell_type": "code",
   "execution_count": null,
   "metadata": {},
   "outputs": [],
   "source": []
  },
  {
   "cell_type": "code",
   "execution_count": 38,
   "metadata": {
    "ExecuteTime": {
     "end_time": "2020-10-16T02:02:46.369701Z",
     "start_time": "2020-10-16T02:02:46.086246Z"
    }
   },
   "outputs": [
    {
     "name": "stdout",
     "output_type": "stream",
     "text": [
      "삭제할 훈련 데이터의 개수 : 0\n",
      "삭제할 테스트 데이터의 개수 : 0\n",
      "훈련 데이터의 개수 : 76863\n",
      "훈련 레이블의 개수 : 76863\n",
      "테스트 데이터의 개수 : 19215\n",
      "테스트 레이블의 개수 : 19215\n"
     ]
    }
   ],
   "source": [
    "drop_train = [index for index, sentence in enumerate(decoder_input_train) if len(sentence) == 1]\n",
    "drop_test = [index for index, sentence in enumerate(decoder_input_test) if len(sentence) == 1]\n",
    "\n",
    "print('삭제할 훈련 데이터의 개수 :',len(drop_train))\n",
    "print('삭제할 테스트 데이터의 개수 :',len(drop_test))\n",
    "\n",
    "encoder_input_train = np.delete(encoder_input_train, drop_train, axis=0)\n",
    "decoder_input_train = np.delete(decoder_input_train, drop_train, axis=0)\n",
    "decoder_target_train = np.delete(decoder_target_train, drop_train, axis=0)\n",
    "\n",
    "encoder_input_test = np.delete(encoder_input_test, drop_test, axis=0)\n",
    "decoder_input_test = np.delete(decoder_input_test, drop_test, axis=0)\n",
    "decoder_target_test = np.delete(decoder_target_test, drop_test, axis=0)\n",
    "\n",
    "print('훈련 데이터의 개수 :', len(encoder_input_train))\n",
    "print('훈련 레이블의 개수 :',len(decoder_input_train))\n",
    "print('테스트 데이터의 개수 :',len(encoder_input_test))\n",
    "print('테스트 레이블의 개수 :',len(decoder_input_test))"
   ]
  },
  {
   "cell_type": "code",
   "execution_count": null,
   "metadata": {},
   "outputs": [],
   "source": []
  },
  {
   "cell_type": "markdown",
   "metadata": {},
   "source": [
    "### 패딩"
   ]
  },
  {
   "cell_type": "code",
   "execution_count": 39,
   "metadata": {
    "ExecuteTime": {
     "end_time": "2020-10-16T02:03:05.628469Z",
     "start_time": "2020-10-16T02:03:04.606603Z"
    }
   },
   "outputs": [],
   "source": [
    "encoder_input_train = pad_sequences(encoder_input_train, maxlen = text_max_len, padding='post')\n",
    "encoder_input_test = pad_sequences(encoder_input_test, maxlen = text_max_len, padding='post')\n",
    "decoder_input_train = pad_sequences(decoder_input_train, maxlen = summary_max_len, padding='post')\n",
    "decoder_target_train = pad_sequences(decoder_target_train, maxlen = summary_max_len, padding='post')\n",
    "decoder_input_test = pad_sequences(decoder_input_test, maxlen = summary_max_len, padding='post')\n",
    "decoder_target_test = pad_sequences(decoder_target_test, maxlen = summary_max_len, padding='post')"
   ]
  },
  {
   "cell_type": "code",
   "execution_count": null,
   "metadata": {},
   "outputs": [],
   "source": []
  },
  {
   "cell_type": "code",
   "execution_count": null,
   "metadata": {},
   "outputs": [],
   "source": []
  },
  {
   "cell_type": "markdown",
   "metadata": {},
   "source": [
    "## 모델"
   ]
  },
  {
   "cell_type": "code",
   "execution_count": 40,
   "metadata": {
    "ExecuteTime": {
     "end_time": "2020-10-16T02:08:02.407354Z",
     "start_time": "2020-10-16T02:08:01.289615Z"
    }
   },
   "outputs": [
    {
     "name": "stdout",
     "output_type": "stream",
     "text": [
      "WARNING:tensorflow:Layer lstm will not use cuDNN kernel since it doesn't meet the cuDNN kernel criteria. It will use generic GPU kernel as fallback when running on GPU\n",
      "WARNING:tensorflow:Layer lstm_1 will not use cuDNN kernel since it doesn't meet the cuDNN kernel criteria. It will use generic GPU kernel as fallback when running on GPU\n",
      "WARNING:tensorflow:Layer lstm_2 will not use cuDNN kernel since it doesn't meet the cuDNN kernel criteria. It will use generic GPU kernel as fallback when running on GPU\n"
     ]
    }
   ],
   "source": [
    "from tensorflow.keras.layers import Input, LSTM, Embedding, Dense, Concatenate\n",
    "from tensorflow.keras.models import Model\n",
    "from tensorflow.keras.callbacks import EarlyStopping, ModelCheckpoint\n",
    "\n",
    "\n",
    "# 인코더 설계 시작\n",
    "embedding_dim = 128\n",
    "hidden_size = 256\n",
    "\n",
    "# 인코더\n",
    "encoder_inputs = Input(shape=(text_max_len,))\n",
    "\n",
    "# 인코더의 임베딩 층\n",
    "enc_emb = Embedding(src_vocab, embedding_dim)(encoder_inputs)\n",
    "\n",
    "# 인코더의 LSTM 1\n",
    "encoder_lstm1 = LSTM(hidden_size, return_sequences=True, return_state=True ,dropout = 0.4, recurrent_dropout = 0.4)\n",
    "encoder_output1, state_h1, state_c1 = encoder_lstm1(enc_emb)\n",
    "\n",
    "# 인코더의 LSTM 2\n",
    "encoder_lstm2 = LSTM(hidden_size, return_sequences=True, return_state=True, dropout=0.4, recurrent_dropout=0.4)\n",
    "encoder_output2, state_h2, state_c2 = encoder_lstm2(encoder_output1)\n",
    "\n",
    "# 인코더의 LSTM 3\n",
    "encoder_lstm3 = LSTM(hidden_size, return_state=True, return_sequences=True, dropout=0.4, recurrent_dropout=0.4)\n",
    "encoder_outputs, state_h, state_c= encoder_lstm3(encoder_output2)"
   ]
  },
  {
   "cell_type": "code",
   "execution_count": 41,
   "metadata": {
    "ExecuteTime": {
     "end_time": "2020-10-16T02:08:13.984399Z",
     "start_time": "2020-10-16T02:08:13.870080Z"
    }
   },
   "outputs": [
    {
     "name": "stdout",
     "output_type": "stream",
     "text": [
      "WARNING:tensorflow:Layer lstm_3 will not use cuDNN kernel since it doesn't meet the cuDNN kernel criteria. It will use generic GPU kernel as fallback when running on GPU\n"
     ]
    }
   ],
   "source": [
    "# 디코더 설계\n",
    "\n",
    "decoder_inputs = Input(shape=(None,))\n",
    "\n",
    "# 디코더의 임베딩 층\n",
    "dec_emb_layer = Embedding(tar_vocab, embedding_dim)\n",
    "dec_emb = dec_emb_layer(decoder_inputs)\n",
    "\n",
    "# 디코더의 LSTM\n",
    "decoder_lstm = LSTM(hidden_size, return_sequences = True, return_state = True, dropout = 0.4, recurrent_dropout=0.2)\n",
    "decoder_outputs, _, _ = decoder_lstm(dec_emb, initial_state = [state_h, state_c])"
   ]
  },
  {
   "cell_type": "code",
   "execution_count": 42,
   "metadata": {
    "ExecuteTime": {
     "end_time": "2020-10-16T02:08:20.558220Z",
     "start_time": "2020-10-16T02:08:20.530151Z"
    }
   },
   "outputs": [
    {
     "name": "stdout",
     "output_type": "stream",
     "text": [
      "Model: \"functional_1\"\n",
      "__________________________________________________________________________________________________\n",
      "Layer (type)                    Output Shape         Param #     Connected to                     \n",
      "==================================================================================================\n",
      "input_1 (InputLayer)            [(None, 65)]         0                                            \n",
      "__________________________________________________________________________________________________\n",
      "embedding (Embedding)           (None, 65, 128)      3200000     input_1[0][0]                    \n",
      "__________________________________________________________________________________________________\n",
      "lstm (LSTM)                     [(None, 65, 256), (N 394240      embedding[0][0]                  \n",
      "__________________________________________________________________________________________________\n",
      "input_2 (InputLayer)            [(None, None)]       0                                            \n",
      "__________________________________________________________________________________________________\n",
      "lstm_1 (LSTM)                   [(None, 65, 256), (N 525312      lstm[0][0]                       \n",
      "__________________________________________________________________________________________________\n",
      "embedding_1 (Embedding)         (None, None, 128)    1408000     input_2[0][0]                    \n",
      "__________________________________________________________________________________________________\n",
      "lstm_2 (LSTM)                   [(None, 65, 256), (N 525312      lstm_1[0][0]                     \n",
      "__________________________________________________________________________________________________\n",
      "lstm_3 (LSTM)                   [(None, None, 256),  394240      embedding_1[0][0]                \n",
      "                                                                 lstm_2[0][1]                     \n",
      "                                                                 lstm_2[0][2]                     \n",
      "__________________________________________________________________________________________________\n",
      "dense (Dense)                   (None, None, 11000)  2827000     lstm_3[0][0]                     \n",
      "==================================================================================================\n",
      "Total params: 9,274,104\n",
      "Trainable params: 9,274,104\n",
      "Non-trainable params: 0\n",
      "__________________________________________________________________________________________________\n"
     ]
    }
   ],
   "source": [
    "# 디코더의 출력층\n",
    "decoder_softmax_layer = Dense(tar_vocab, activation = 'softmax')\n",
    "decoder_softmax_outputs = decoder_softmax_layer(decoder_outputs) \n",
    "\n",
    "# 모델 정의\n",
    "model = Model([encoder_inputs, decoder_inputs], decoder_softmax_outputs)\n",
    "model.summary()"
   ]
  },
  {
   "cell_type": "code",
   "execution_count": null,
   "metadata": {},
   "outputs": [],
   "source": []
  },
  {
   "cell_type": "code",
   "execution_count": null,
   "metadata": {},
   "outputs": [],
   "source": []
  },
  {
   "cell_type": "markdown",
   "metadata": {},
   "source": [
    "## 어텐션 매커니즘"
   ]
  },
  {
   "cell_type": "code",
   "execution_count": 44,
   "metadata": {
    "ExecuteTime": {
     "end_time": "2020-10-16T02:08:34.009534Z",
     "start_time": "2020-10-16T02:08:33.540186Z"
    }
   },
   "outputs": [],
   "source": [
    "urllib.request.urlretrieve(\"https://raw.githubusercontent.com/thushv89/attention_keras/master/src/layers/attention.py\", filename=\"attention.py\")\n",
    "from attention import AttentionLayer"
   ]
  },
  {
   "cell_type": "code",
   "execution_count": 45,
   "metadata": {
    "ExecuteTime": {
     "end_time": "2020-10-16T02:08:37.447199Z",
     "start_time": "2020-10-16T02:08:37.145853Z"
    }
   },
   "outputs": [
    {
     "name": "stdout",
     "output_type": "stream",
     "text": [
      "Model: \"functional_3\"\n",
      "__________________________________________________________________________________________________\n",
      "Layer (type)                    Output Shape         Param #     Connected to                     \n",
      "==================================================================================================\n",
      "input_1 (InputLayer)            [(None, 65)]         0                                            \n",
      "__________________________________________________________________________________________________\n",
      "embedding (Embedding)           (None, 65, 128)      3200000     input_1[0][0]                    \n",
      "__________________________________________________________________________________________________\n",
      "lstm (LSTM)                     [(None, 65, 256), (N 394240      embedding[0][0]                  \n",
      "__________________________________________________________________________________________________\n",
      "input_2 (InputLayer)            [(None, None)]       0                                            \n",
      "__________________________________________________________________________________________________\n",
      "lstm_1 (LSTM)                   [(None, 65, 256), (N 525312      lstm[0][0]                       \n",
      "__________________________________________________________________________________________________\n",
      "embedding_1 (Embedding)         (None, None, 128)    1408000     input_2[0][0]                    \n",
      "__________________________________________________________________________________________________\n",
      "lstm_2 (LSTM)                   [(None, 65, 256), (N 525312      lstm_1[0][0]                     \n",
      "__________________________________________________________________________________________________\n",
      "lstm_3 (LSTM)                   [(None, None, 256),  394240      embedding_1[0][0]                \n",
      "                                                                 lstm_2[0][1]                     \n",
      "                                                                 lstm_2[0][2]                     \n",
      "__________________________________________________________________________________________________\n",
      "attention_layer (AttentionLayer ((None, None, 256),  131328      lstm_2[0][0]                     \n",
      "                                                                 lstm_3[0][0]                     \n",
      "__________________________________________________________________________________________________\n",
      "concat_layer (Concatenate)      (None, None, 512)    0           lstm_3[0][0]                     \n",
      "                                                                 attention_layer[0][0]            \n",
      "__________________________________________________________________________________________________\n",
      "dense_1 (Dense)                 (None, None, 11000)  5643000     concat_layer[0][0]               \n",
      "==================================================================================================\n",
      "Total params: 12,221,432\n",
      "Trainable params: 12,221,432\n",
      "Non-trainable params: 0\n",
      "__________________________________________________________________________________________________\n"
     ]
    }
   ],
   "source": [
    "# 어텐션 층(어텐션 함수)\n",
    "attn_layer = AttentionLayer(name='attention_layer')\n",
    "# 인코더와 디코더의 모든 time step의 hidden state를 어텐션 층에 전달하고 결과를 리턴\n",
    "attn_out, attn_states = attn_layer([encoder_outputs, decoder_outputs])\n",
    "\n",
    "# 어텐션의 결과와 디코더의 hidden state들을 연결\n",
    "decoder_concat_input = Concatenate(axis = -1, name='concat_layer')([decoder_outputs, attn_out])\n",
    "\n",
    "# 디코더의 출력층\n",
    "decoder_softmax_layer = Dense(tar_vocab, activation='softmax')\n",
    "decoder_softmax_outputs = decoder_softmax_layer(decoder_concat_input)\n",
    "\n",
    "# 모델 정의\n",
    "model = Model([encoder_inputs, decoder_inputs], decoder_softmax_outputs)\n",
    "model.summary()"
   ]
  },
  {
   "cell_type": "markdown",
   "metadata": {},
   "source": [
    "## 모델 훈련"
   ]
  },
  {
   "cell_type": "code",
   "execution_count": 46,
   "metadata": {
    "ExecuteTime": {
     "end_time": "2020-10-16T03:09:59.779521Z",
     "start_time": "2020-10-16T02:08:53.230342Z"
    }
   },
   "outputs": [
    {
     "name": "stdout",
     "output_type": "stream",
     "text": [
      "Epoch 1/50\n",
      "301/301 [==============================] - 131s 435ms/step - loss: 5.8828 - val_loss: 5.4755\n",
      "Epoch 2/50\n",
      "301/301 [==============================] - 129s 430ms/step - loss: 5.3031 - val_loss: 5.0685\n",
      "Epoch 3/50\n",
      "301/301 [==============================] - 130s 432ms/step - loss: 4.9263 - val_loss: 4.7771\n",
      "Epoch 4/50\n",
      "301/301 [==============================] - 130s 432ms/step - loss: 4.6554 - val_loss: 4.5805\n",
      "Epoch 5/50\n",
      "301/301 [==============================] - 130s 433ms/step - loss: 4.4345 - val_loss: 4.4273\n",
      "Epoch 6/50\n",
      "301/301 [==============================] - 130s 433ms/step - loss: 4.2508 - val_loss: 4.3020\n",
      "Epoch 7/50\n",
      "301/301 [==============================] - 130s 431ms/step - loss: 4.0938 - val_loss: 4.1944\n",
      "Epoch 8/50\n",
      "301/301 [==============================] - 130s 433ms/step - loss: 3.9572 - val_loss: 4.1101\n",
      "Epoch 9/50\n",
      "301/301 [==============================] - 131s 434ms/step - loss: 3.8368 - val_loss: 4.0352\n",
      "Epoch 10/50\n",
      "301/301 [==============================] - 130s 431ms/step - loss: 3.7293 - val_loss: 3.9787\n",
      "Epoch 11/50\n",
      "301/301 [==============================] - 133s 441ms/step - loss: 3.6319 - val_loss: 3.9223\n",
      "Epoch 12/50\n",
      "301/301 [==============================] - 131s 434ms/step - loss: 3.5479 - val_loss: 3.8855\n",
      "Epoch 13/50\n",
      "301/301 [==============================] - 130s 433ms/step - loss: 3.4691 - val_loss: 3.8551\n",
      "Epoch 14/50\n",
      "301/301 [==============================] - 131s 434ms/step - loss: 3.3986 - val_loss: 3.8334\n",
      "Epoch 15/50\n",
      "301/301 [==============================] - 132s 440ms/step - loss: 3.3292 - val_loss: 3.8070\n",
      "Epoch 16/50\n",
      "301/301 [==============================] - 130s 431ms/step - loss: 3.2662 - val_loss: 3.7785\n",
      "Epoch 17/50\n",
      "301/301 [==============================] - 130s 433ms/step - loss: 3.2084 - val_loss: 3.7528\n",
      "Epoch 18/50\n",
      "301/301 [==============================] - 130s 431ms/step - loss: 3.1552 - val_loss: 3.7392\n",
      "Epoch 19/50\n",
      "301/301 [==============================] - 130s 431ms/step - loss: 3.1024 - val_loss: 3.7218\n",
      "Epoch 20/50\n",
      "301/301 [==============================] - 130s 431ms/step - loss: 3.0554 - val_loss: 3.7163\n",
      "Epoch 21/50\n",
      "301/301 [==============================] - 130s 433ms/step - loss: 3.0103 - val_loss: 3.7007\n",
      "Epoch 22/50\n",
      "301/301 [==============================] - 131s 434ms/step - loss: 2.9642 - val_loss: 3.6858\n",
      "Epoch 23/50\n",
      "301/301 [==============================] - 130s 431ms/step - loss: 2.9239 - val_loss: 3.6836\n",
      "Epoch 24/50\n",
      "301/301 [==============================] - 130s 430ms/step - loss: 2.8856 - val_loss: 3.6734\n",
      "Epoch 25/50\n",
      "301/301 [==============================] - 130s 431ms/step - loss: 2.8469 - val_loss: 3.6574\n",
      "Epoch 26/50\n",
      "301/301 [==============================] - 130s 430ms/step - loss: 2.8165 - val_loss: 3.6495\n",
      "Epoch 27/50\n",
      "301/301 [==============================] - 130s 431ms/step - loss: 2.7887 - val_loss: 3.6579\n",
      "Epoch 28/50\n",
      "301/301 [==============================] - 130s 433ms/step - loss: 2.7608 - val_loss: 3.6510\n",
      "Epoch 00028: early stopping\n"
     ]
    }
   ],
   "source": [
    "model.compile(optimizer='rmsprop', loss='sparse_categorical_crossentropy')\n",
    "es = EarlyStopping(monitor='val_loss', mode='min', verbose=1, patience = 2)\n",
    "history = model.fit(x = [encoder_input_train, decoder_input_train], y = decoder_target_train, \\\n",
    "          validation_data = ([encoder_input_test, decoder_input_test], decoder_target_test),\n",
    "          batch_size = 256, callbacks=[es], epochs = 50)"
   ]
  },
  {
   "cell_type": "code",
   "execution_count": 47,
   "metadata": {
    "ExecuteTime": {
     "end_time": "2020-10-16T03:10:00.029176Z",
     "start_time": "2020-10-16T03:09:59.934691Z"
    }
   },
   "outputs": [
    {
     "data": {
      "image/png": "[encoded data removed]",
      "text/plain": [
       "<Figure size 432x288 with 1 Axes>"
      ]
     },
     "metadata": {
      "needs_background": "light"
     },
     "output_type": "display_data"
    }
   ],
   "source": [
    "plt.plot(history.history['loss'], label='train')\n",
    "plt.plot(history.history['val_loss'], label='test')\n",
    "plt.legend()\n",
    "plt.show()"
   ]
  },
  {
   "cell_type": "code",
   "execution_count": null,
   "metadata": {},
   "outputs": [],
   "source": []
  },
  {
   "cell_type": "markdown",
   "metadata": {},
   "source": [
    "## 인퍼런스 모델 구현"
   ]
  },
  {
   "cell_type": "code",
   "execution_count": 54,
   "metadata": {
    "ExecuteTime": {
     "end_time": "2020-10-16T03:10:48.141268Z",
     "start_time": "2020-10-16T03:10:48.139524Z"
    }
   },
   "outputs": [],
   "source": [
    "src_index_to_word = src_tokenizer.index_word # 원문 단어 집합에서 정수 -> 단어를 얻음\n",
    "tar_word_to_index = tar_tokenizer.word_index # 요약 단어 집합에서 단어 -> 정수를 얻음\n",
    "tar_index_to_word = tar_tokenizer.index_word # 요약 단어 집합에서 정수 -> 단어를 얻음ㅊ"
   ]
  },
  {
   "cell_type": "code",
   "execution_count": 55,
   "metadata": {
    "ExecuteTime": {
     "end_time": "2020-10-16T03:10:48.426213Z",
     "start_time": "2020-10-16T03:10:48.325919Z"
    }
   },
   "outputs": [],
   "source": [
    "# 인코더 설계\n",
    "encoder_model = Model(inputs=encoder_inputs, outputs=[encoder_outputs, state_h, state_c])\n",
    "\n",
    "# 이전 시점의 상태들을 저장하는 텐서\n",
    "decoder_state_input_h = Input(shape=(hidden_size,))\n",
    "decoder_state_input_c = Input(shape=(hidden_size,))\n",
    "\n",
    "dec_emb2 = dec_emb_layer(decoder_inputs)\n",
    "# 문장의 다음 단어를 예측하기 위해서 초기 상태(initial_state)를 이전 시점의 상태로 사용. 이는 뒤의 함수 decode_sequence()에 구현\n",
    "# 훈련 과정에서와 달리 LSTM의 리턴하는 은닉 상태와 셀 상태인 state_h와 state_c를 버리지 않음.\n",
    "decoder_outputs2, state_h2, state_c2 = decoder_lstm(dec_emb2, initial_state=[decoder_state_input_h, decoder_state_input_c])"
   ]
  },
  {
   "cell_type": "code",
   "execution_count": 56,
   "metadata": {
    "ExecuteTime": {
     "end_time": "2020-10-16T03:10:48.693425Z",
     "start_time": "2020-10-16T03:10:48.612860Z"
    }
   },
   "outputs": [],
   "source": [
    "# 어텐션 함수\n",
    "decoder_hidden_state_input = Input(shape=(text_max_len, hidden_size))\n",
    "attn_out_inf, attn_states_inf = attn_layer([decoder_hidden_state_input, decoder_outputs2])\n",
    "decoder_inf_concat = Concatenate(axis=-1, name='concat')([decoder_outputs2, attn_out_inf])\n",
    "\n",
    "# 디코더의 출력층\n",
    "decoder_outputs2 = decoder_softmax_layer(decoder_inf_concat) \n",
    "\n",
    "# 최종 디코더 모델\n",
    "decoder_model = Model(\n",
    "    [decoder_inputs] + [decoder_hidden_state_input,decoder_state_input_h, decoder_state_input_c],\n",
    "    [decoder_outputs2] + [state_h2, state_c2])"
   ]
  },
  {
   "cell_type": "code",
   "execution_count": 57,
   "metadata": {
    "ExecuteTime": {
     "end_time": "2020-10-16T03:10:48.883140Z",
     "start_time": "2020-10-16T03:10:48.878819Z"
    }
   },
   "outputs": [],
   "source": [
    "def decode_sequence(input_seq):\n",
    "    # 입력으로부터 인코더의 상태를 얻음\n",
    "    e_out, e_h, e_c = encoder_model.predict(input_seq)\n",
    "\n",
    "     # <SOS>에 해당하는 토큰 생성\n",
    "    target_seq = np.zeros((1,1))\n",
    "    target_seq[0, 0] = tar_word_to_index['sostoken']\n",
    "\n",
    "    stop_condition = False\n",
    "    decoded_sentence = ''\n",
    "    while not stop_condition: # stop_condition이 True가 될 때까지 루프 반복\n",
    "\n",
    "        output_tokens, h, c = decoder_model.predict([target_seq] + [e_out, e_h, e_c])\n",
    "        sampled_token_index = np.argmax(output_tokens[0, -1, :])\n",
    "        sampled_token = tar_index_to_word[sampled_token_index]\n",
    "\n",
    "        if(sampled_token!='eostoken'):\n",
    "            decoded_sentence += ' '+sampled_token\n",
    "\n",
    "        #  <eos>에 도달하거나 최대 길이를 넘으면 중단.\n",
    "        if (sampled_token == 'eostoken'  or len(decoded_sentence.split()) >= (summary_max_len-1)):\n",
    "            stop_condition = True\n",
    "\n",
    "        # 길이가 1인 타겟 시퀀스를 업데이트\n",
    "        target_seq = np.zeros((1,1))\n",
    "        target_seq[0, 0] = sampled_token_index\n",
    "\n",
    "        # 상태를 업데이트 합니다.\n",
    "        e_h, e_c = h, c\n",
    "\n",
    "    return decoded_sentence"
   ]
  },
  {
   "cell_type": "code",
   "execution_count": null,
   "metadata": {},
   "outputs": [],
   "source": []
  },
  {
   "cell_type": "markdown",
   "metadata": {},
   "source": [
    "## model test - 실제결과  요약문 비교"
   ]
  },
  {
   "cell_type": "code",
   "execution_count": 58,
   "metadata": {
    "ExecuteTime": {
     "end_time": "2020-10-16T03:10:49.092187Z",
     "start_time": "2020-10-16T03:10:49.088690Z"
    }
   },
   "outputs": [],
   "source": [
    "# 원문의 정수 시퀀스를 텍스트 시퀀스로 변환\n",
    "def seq2text(input_seq):\n",
    "    temp=''\n",
    "    for i in input_seq:\n",
    "        if(i!=0):\n",
    "            temp = temp + src_index_to_word[i]+' '\n",
    "    return temp\n",
    "\n",
    "# 요약문의 정수 시퀀스를 텍스트 시퀀스로 변환\n",
    "def seq2summary(input_seq):\n",
    "    temp=''\n",
    "    for i in input_seq:\n",
    "        if((i!=0 and i!=tar_word_to_index['sostoken']) and i!=tar_word_to_index['eostoken']):\n",
    "            temp = temp + tar_index_to_word[i] + ' '\n",
    "    return temp"
   ]
  },
  {
   "cell_type": "code",
   "execution_count": 59,
   "metadata": {
    "ExecuteTime": {
     "end_time": "2020-10-16T03:11:05.611964Z",
     "start_time": "2020-10-16T03:10:49.279650Z"
    }
   },
   "outputs": [
    {
     "name": "stdout",
     "output_type": "stream",
     "text": [
      "원문 : a man in rajasthan's udaipur blew himself up with dynamite on sunday using a after his wife left him following an argument five days ago according to reports we have sent the body for post mortem we are investigating the matter police officials said police suspect that the victim who worked at a mine arranged the dynamite from his workplace \n",
      "실제 요약 : man blows himself up with after wife leaves him \n",
      "예측 요약 :  man kills wife for wife in front of his wife\n",
      "\n",
      "\n",
      "원문 : the national green tribunal on friday directed the central pollution control board cpcb to collect samples of alleged poop falling from the sky and determine whether they are human or bird excreta this comes after a retired army official alleged that planes were dumping faeces in his neighbourhood near delhi airport notably airlines face fines for dumping human waste mid air \n",
      "실제 요약 : asked to check if poop falling from sky is human \n",
      "예측 요약 :  ngt orders of cameras to avoid food\n",
      "\n",
      "\n",
      "원문 : russia may restrict the operations of us media organisations in the country the foreign ministry said on sunday we have never used russian law in relation to foreign as a lever of pressure or censorship or some kind of political influence the ministry added this comes in response to alleged us pressure on russian news agencies rt and \n",
      "실제 요약 : russia warns it may restrict us media \n",
      "예측 요약 :  us foreign secy warns russia on us sanctions\n",
      "\n",
      "\n",
      "원문 : sanjay dutt charged ã¢ââ¹10 crore for his biopic 'sanju' along with a portion of the profits as per reports only then producer vidhu vinod chopra and director rajkumar hirani were given access to his life said reports dutt reportedly also made sure some aspects of his life including his relationships with actresses who are married now won't be depicted onscreen \n",
      "실제 요약 : sanjay dutt charged ã¢ââ¹10 cr for his biopic 'sanju' reports \n",
      "예측 요약 :  dutt to play ã¢ââ¹100 crore in biopic report\n",
      "\n",
      "\n",
      "원문 : chinese ride sharing giant and uber rival didi chuxing is reportedly considering a 6 billion funding led by existing investor softbank if completed the funding would be the single largest for a chinese technology startup on record the funding could however dilute the stakes of the other existing backers such as apple and tencent \n",
      "실제 요약 : uber rival didi considering to raise 6 bn led by softbank \n",
      "예측 요약 :  uber's rival rival raises 1 billion\n",
      "\n",
      "\n",
      "원문 : after signing chris gayle for his base price of ã¢ââ¹2 crore ipl side kings xi punjab shared a picture of the jamaican wearing a turban on instagram looks like is already ready for his punjab visit the caption read gayle had earlier represented kolkata knight riders and royal challengers bangalore in the ipl \n",
      "실제 요약 : kings xi punjab share pic of chris gayle turban \n",
      "예측 요약 :  gayle takes unsold in ipl match for ipl match\n",
      "\n",
      "\n",
      "원문 : leaders of the association of south east asian nations asean have called for and in the south china sea in a joint statement issued on sunday this comes amid expansion of china's defence capabilities in the sea southeast asian states including the philippines vietnam and malaysia among others dispute china's territorial claims over the sea \n",
      "실제 요약 : asean countries urge non in south china sea \n",
      "예측 요약 :  india conducts joint joint joint joint drills over china sea\n",
      "\n",
      "\n",
      "원문 : india is the third most targeted country for phishing scams according to the quarterly fraud report for january march period phishing accounted for 48 of all cyber attacks and the us canada and brazil were the other top countries targeted by phishing further mobile app fraud transactions increased over 600 in past three years the report added \n",
      "실제 요약 : india 3rd most targeted country for scams report \n",
      "예측 요약 :  india most in india report\n",
      "\n",
      "\n",
      "원문 : a case has been registered against actor pawan kalyan for making allegations against some telugu news channels the matter pertains to the news channels airing a particular video of actress sri reddy abusing kalyan the complainant said though the channels had muted the abusive word kalyan tweeted a doctored video without any censor the channel had committed the crime \n",
      "실제 요약 : case registered against pawan kalyan over \n",
      "예측 요약 :  fir against actor for alleged news on tv show\n",
      "\n",
      "\n",
      "원문 : the indian railways has signed a memorandum of understanding with the maharashtra government to set up a ã¢ââ¹600 crore metro coach factory in latur district the project will provide direct employment to 15 000 people and will create around 60 000 indirect job opportunities cm devendra fadnavis said the metro coaches manufactured in the factory will reportedly also be exported to other countries \n",
      "실제 요약 : govt to set up ã¢ââ¹600 crore metro coach factory in maharashtra \n",
      "예측 요약 :  railways to get special status for farmers in maharashtra\n",
      "\n",
      "\n",
      "원문 : after singer sona mohapatra criticised sonu nigam for supporting anu malik amid metoo allegations and his comments on pakistani singers sonu said the respectable lady vomiting on twitter is the wife of someone i consider very close to me although she has forgotten the relationship i'd like to maintain decorum he added sonu further said sona should choose her words with conscience \n",
      "실제 요약 : lady on twitter sonu after criticism \n",
      "예측 요약 :  aamir criticises why he is a woman in india sona\n",
      "\n",
      "\n",
      "원문 : the world's largest package delivery company united parcel service has been ordered to pay 247 million ã¢ââ¹1 600 crore in penalties over illegal shipping of large amounts of cigarettes in new york since 2010 the company has been accused of shipping over 6 83 000 cartons of cigarettes to unlicensed retailers and residences ups is going to appeal the decision \n",
      "실제 요약 : parcel service fined ã¢ââ¹1 600 crore for smuggling cigarettes \n",
      "예측 요약 :  world's largest milk found in ã¢ââ¹1 crore\n",
      "\n",
      "\n",
      "원문 : after choosing india to pioneer its blood donation feature facebook has said that over 40 lakh indians have signed up as blood donors on the site the feature which connects the needy with the nearby blood donors will be launched in bangladesh next year the feature also allows organisations to create voluntary blood donation events and notify nearby donors \n",
      "실제 요약 : 40 lakh indians have to donate blood on facebook \n",
      "예측 요약 :  google to pay medical patients to patients\n",
      "\n",
      "\n",
      "원문 : low visibility caused by dense fog in lucknow and surrounding areas led to the collision of 10 cars on the lucknow agra expressway in unnao district on monday the police said that over 12 people were injured in the accident last month a collision of 23 cars caused by dense fog on the agra noida yamuna expressway killed one \n",
      "실제 요약 : 10 cars up on lucknow agra expressway \n",
      "예측 요약 :  3 vehicles in up after accident collides with accident\n",
      "\n",
      "\n",
      "원문 : prime minister narendra modi today said the size of the indian economy will double to 5 trillion by 2022 with the manufacturing and agriculture industry contributing 1 trillion each he added that the indian economy will grow at a rate exceeding 8 he was speaking at the foundation laying ceremony of the india international convention and expo centre in delhi \n",
      "실제 요약 : size of indian economy will reach 5 tn by 2022 pm modi \n",
      "예측 요약 :  gdp to increase in economy by 2022 pm modi\n",
      "\n",
      "\n",
      "원문 : silicon valley venture capital firm sequoia capital is in the early stages of raising 5 6 billion for a third global growth fund according to reports the venture capital firm is looking to raise more money in the wake of disruption from softbank's 100 billion vision fund reports added the fundraising is expected to start in the first quarter of 2018 \n",
      "실제 요약 : sequoia capital seeks up to for new global fund report \n",
      "예측 요약 :  sequoia raises 2 5 bn in global fund for startups\n",
      "\n",
      "\n",
      "원문 : the cases of drink driving in delhi on new year's eve doubled as compared to 2016 the police have said this year a total of 1 people were penalised by delhi police for drunken driving before and after midnight compared to such offenders last year majority of the offenders were youngsters in their early twenties and thirties an officer said \n",
      "실제 요약 : drink driving cases in delhi double on compared to 2016 \n",
      "예측 요약 :  delhi police to have more than delhi police\n",
      "\n",
      "\n",
      "원문 : netflix has changed the english translation of the word used for former prime minister rajiv gandhi in the subtitles of its show 'sacred games' the company's lawyer told court the company said it has changed the word used in the subtitles from to a congress man had filed a complaint against the show but later withdrew it \n",
      "실제 요약 : changed in netflix on sacred games row \n"
     ]
    },
    {
     "name": "stdout",
     "output_type": "stream",
     "text": [
      "예측 요약 :  netflix takes dig at pm modi's residence in mp\n",
      "\n",
      "\n",
      "원문 : from indonesia who claimed to be 146 years old died in a hospital recently according to documents he was born in december however he was not recognised as the longest living human being as indonesia started recording births only in 1900 all ten of his siblings his four wives and his children as per reports \n",
      "실제 요약 : man who claimed to be years old dies \n",
      "예측 요약 :  indonesian family dies after being dies aged 85\n",
      "\n",
      "\n",
      "원문 : after the congress jd s alliance sought to stop the swearing in ceremony of bjp's bs yeddyurappa as karnataka's chief minister the supreme court agreed to hear the petition at 1 45 am this comes after karnataka governor vajubhai vala invited the bjp which emerged as the single largest party to form the government yeddyurappa was given 15 days to prove the bjp's majority \n",
      "실제 요약 : hear cong jd s petition on k'taka polls at 1 45 am \n",
      "예측 요약 :  bjp to karnataka cm to k'taka cm for k'taka polls\n",
      "\n",
      "\n",
      "원문 : irish airline ryanair has proposed a ban on sale of alcohol in bars and restaurants before 10 am in airports and limiting number of drinks sold per boarding pass to two this comes after spike in alcohol related arrests at uk airports or in the air which increased over 50 to a total of arrests from february 2016 to 2017 \n",
      "실제 요약 : airline proposes alcohol limit over more drunk arrests \n",
      "예측 요약 :  airline bans selling flights from trains\n",
      "\n",
      "\n",
      "원문 : a 22 year old intern alexandra black was mauled to death by a lion at a private wildlife sanctuary in north carolina us on sunday the lion was shot and killed after the incident officials said alexandra had graduated from the indiana state university and had taken up an at the sanctuary around two weeks back \n",
      "실제 요약 : lion escapes locked area kills 22 year old intern in us \n",
      "예측 요약 :  indian origin man dies after being hit by a\n",
      "\n",
      "\n",
      "원문 : david warner who has been banned for life from holding a leadership position in australian cricket over the ball tampering scandal is set to lead in the global t20 canada the 31 year old will replace dwayne bravo who has pulled out of the rest of the tournament warner has scored six runs in three matches in the tournament so far \n",
      "실제 요약 : warner who can never lead an aus side to captain in canada \n",
      "예측 요약 :  david warner to play in india in england\n",
      "\n",
      "\n",
      "원문 : shankar mahadevan who has been awarded padma shri has said a lot of my music has been created with my two partners and so i would consider them as equal recipients of this i don't know if i'm worthy of this but yeah i definitely feel happy he added shankar further said that he feels humbled and honoured \n",
      "실제 요약 : i consider as equal of padma shri shankar \n",
      "예측 요약 :  dwayne gupta is a lot of the book sridevi\n",
      "\n",
      "\n",
      "원문 : actor ranveer singh gatecrashed a wedding in mumbai and surprised the couple after he approached the and wished them the wedding was taking place at the same hotel where ranveer was promoting his upcoming film 'simmba' in a video the actor can be seen being welcomed to the wedding and posing for photographs with the guests \n",
      "실제 요약 : ranveer singh wedding in mumbai wishes the couple \n",
      "예측 요약 :  ranveer singh attend mumbai wedding ceremony\n",
      "\n",
      "\n",
      "원문 : apple on wednesday announced that it will contribute 350 billion to the economy of the united states over the next five years and create over 20 000 new jobs the figure does not include apple's ongoing tax payments the tax revenues generated from employees' wages and product sales further the company will pay 38 billion in tax on its overseas cash \n",
      "실제 요약 : apple pledges 350 billion to us economy over next 5 years \n",
      "예측 요약 :  apple may cut out of 1 billion in trade deal\n",
      "\n",
      "\n",
      "원문 : russian robot named and its updated version took part in a rap battle at technological facility in moscow last week during the battle the newer robot said i am a ferrari sports car and you are just an old the robots are named after mathematician alan turing and world wide web inventor tim berners lee \n",
      "실제 요약 : russian robots take part in a rap battle \n",
      "예측 요약 :  iss firm shares of road\n",
      "\n",
      "\n",
      "원문 : sri lanka's supreme court has overruled president maithripala dissolution of parliament and ordered a halt to preparations for snap elections on january 5 2019 sirisena had earlier sacked pm ranil wickremesinghe and replaced him with former president mahinda rajapaksa wickremesinghe said he'll prove his majority in the parliament which should open on wednesday \n",
      "실제 요약 : sri lanka top court overturns prez order to sack parliament \n",
      "예측 요약 :  sri lanka prez blocks parliament to contest elections\n",
      "\n",
      "\n",
      "원문 : reacting to china's displeasure over tibetan spiritual leader dalai lama's visit to bihar congress leader shashi tharoor on tuesday said we are not recognising him as a political leader but as a spiritual leader so china's stand is irrelevant if we want to invite a major buddhist leader to a conference then it's our privilege he added \n",
      "실제 요약 : we recognise dalai lama as spiritual leader tharoor \n",
      "예측 요약 :  tharoor says he is not a hindu leader\n",
      "\n",
      "\n",
      "원문 : dera sacha sauda chief gurmeet ram rahim singh grows vegetables in jail and earns a fixed salary of ã¢ââ¹20 daily for doing jobs inside the rohtak jail adding that ram rahim might be good in skilled jobs dgp jails kp singh said that is the only job he is allowed at present given his restrictions inside the jail \n",
      "실제 요약 : ram rahim earns ã¢ââ¹20 daily growing vegetables in jail \n",
      "예측 요약 :  ram rahim offers to jail for ram rahim's jail\n",
      "\n",
      "\n",
      "원문 : goa police has filed a charge sheet against four employees in a case filed against them after union minister smriti irani's complaint the accused were arrested in 2015 after irani alleged that a hidden camera was installed to snoop on customers in a goa store's trial room top company officials had no role in the affair police said \n",
      "실제 요약 : 4 staff booked for after complaint \n",
      "예측 요약 :  fir against minister over false allegations against him\n",
      "\n",
      "\n",
      "원문 : congress president rahul gandhi on wednesday referred to the rafale deal as the 'great rafale and demanded a joint parliamentary committee to investigate the alleged misappropriation in the deal problem is your supreme leader is protecting his friend this may be tweeted rahul this comes after finance minister arun jaitley posed 15 questions to congress on the deal \n",
      "실제 요약 : rahul demands joint parliamentary panel to probe rafale deal \n",
      "예측 요약 :  rahul gandhi is a rafale deal rahul gandhi\n",
      "\n",
      "\n",
      "원문 : cosmetics giant has introduced a sized wearable uv sensor called at ces 2018 which can track sun exposure via an app uv sense a battery free electronic sensor is nfc enabled which allows users to retrieve the data collected using the app the sensor that comes with can be pasted on one's or sunglasses \n",
      "실제 요약 : sized uv sensor to track sun exposure made \n",
      "예측 요약 :  smart which can be made from user's\n",
      "\n",
      "\n",
      "원문 : industrialist gautam adani group issued defamation notice against the economic and political weekly a 50 year old weekly academic journal the case relates to a story by on how the government allegedly bent rules for the group with regard to which led to it earning tax refund worth ã¢ââ¹500 crore the notice claimed the story was misleading and derogatory \n",
      "실제 요약 : adani files defamation case on tax refund story \n",
      "예측 요약 :  adani files complaint against adani over unpaid dues\n",
      "\n",
      "\n",
      "원문 : the us national security agency targeted bitcoin users around the world classified documents released by whistleblower edward snowden have revealed the nsa may also have amassed information from bitcoin users' computers the documents stated a memo from the intelligence agency also revealed that the nsa collected password information and internet activity of several other bitcoin users \n",
      "실제 요약 : us intel targeted bitcoin users globally snowden \n",
      "예측 요약 :  hackers threaten bitcoin to be probed\n",
      "\n",
      "\n",
      "원문 : the city of osaka has officially recognised a same sex couple as foster parents becoming the first japanese city to do so government officials said on wednesday a teenage boy has been living under their care since february they had to undergo lectures training scrutiny and a screening by the city's social welfare panel before they were certified nn \n",
      "실제 요약 : japan accepts same sex couple as parents for 1st time \n"
     ]
    },
    {
     "name": "stdout",
     "output_type": "stream",
     "text": [
      "예측 요약 :  gay couple sex with sex with women in uk\n",
      "\n",
      "\n",
      "원문 : actress neha dhupia has said that some people upon her for wearing loose clothes and gaining weight before she announced her pregnancy she added for me it doesnã¢âât matter what other people think of you as long as you are healthy neha who's expecting her first child with husband angad bedi announced her pregnancy three months after marriage n \n",
      "실제 요약 : i was for weight gain loose clothes neha \n",
      "예측 요약 :  i am not wearing pregnancy neha on pregnancy row\n",
      "\n",
      "\n",
      "원문 : russian president vladimir putin has invited north korean leader kim jong un to attend the eastern economic forum in russia in september putin extended the invitation as kim yong nam the head of the of north korea's supreme people's assembly met the russian president earlier this week russian foreign minister sergei lavrov had met kim jong un in north korea last month \n",
      "실제 요약 : putin invites north korea's kim jong un to russia \n",
      "예측 요약 :  putin kim jong un meet to meet n korea summit\n",
      "\n",
      "\n",
      "원문 : two women including a district congress leader were found dead on sunday in a house in uttar pradesh's ballia the women were hit on the head with iron rods and there was no evidence of theft police said the bodies have been sent for postmortem and the motive behind the murder will be clear soon police added \n",
      "실제 요약 : two women including a congress leader found dead in up \n",
      "예측 요약 :  4 women dead in mp over death of tree in up\n",
      "\n",
      "\n",
      "원문 : union minister ashwini choubey on wednesday slammed congress leader shashi tharoor calling him and asked him to clarify whether he was an indian or a this comes after tharoor asked if bjp had started a taliban in hinduism expressing outrage after bjp said he should be deported to pakistan over his hindu pakistan remark \n",
      "실제 요약 : tharoor must if he's indian or minister \n",
      "예측 요약 :  tharoor slams tharoor for calling him\n",
      "\n",
      "\n",
      "원문 : electric vehicle maker tesla has remotely increased the range of its cars in florida usa to help hurricane irma victims evacuate tesla uses a battery in the version of its model s and model x vehicles but locks it on the software side after the range upgrade vehicles reportedly ran an additional 48 2 km on a single charge \n",
      "실제 요약 : tesla increases car range in us to help hurricane evacuation \n",
      "예측 요약 :  tesla cars cars to be stolen from us parking in us\n",
      "\n",
      "\n",
      "원문 : filmmaker karan johar made his acting debut in 1989 science fiction television serial which aired on doordarshan the serial which was meant for children starred johar as a school boy while actress urmila and filmmaker ashutosh gowariker featured in recurring roles johar who turned 45 on thursday won the filmfare award for his directorial debut kuch kuch hota hai \n",
      "실제 요약 : karan johar in fi serial on doordarshan \n",
      "예측 요약 :  johar karan johar attend his school reality show\n",
      "\n",
      "\n",
      "원문 : south africa captain faf du plessis took to instagram to share a picture of himself kissing pacer kagiso rabada on his forehead during a match this is what you get when you become the number 1 fast bowler in the world a massive kiss du plessis wrote commenting on the picture the pacer wrote my girlfriend is complaining \n",
      "실제 요약 : sa captain posts pic kissing rabada after pacer becomes no 1 \n",
      "예측 요약 :  sa captain posts pic with his batsman to batting him\n",
      "\n",
      "\n",
      "원문 : activist sharmila married her longtime partner british citizen desmond coutinho in tamil nadu's in the presence of several friends no family members of either sharmila or coutinho were present when they signed official documents at office the 45 year old 'iron lady of ended a 16 year long fast in 2016 contested and lost manipur assembly polls this year \n",
      "실제 요약 : activist sharmila marries british man \n",
      "예측 요약 :  nun jailed for mass tamil nadu road reports\n",
      "\n",
      "\n",
      "원문 : uk police have confirmed identities of the three attackers who killed seven people in terrorist attacks on london bridge last week as butt and a british citizen born in pakistan is believed to have led the trio of terrorists all three were shot dead by the police eight minutes after the attack started \n",
      "실제 요약 : all three london bridge attackers identified \n",
      "예측 요약 :  manchester attack on london attack\n",
      "\n",
      "\n",
      "원문 : philippine president rodrigo duterte has ordered the country's police and soldiers not to cooperate in investigations into his war on drugs last month the international criminal court started an investigation into allegations of crimes against humanity committed by duterte since he began anti drugs war in 1988 nearly 4 000 people have been killed in the war since duterte became the president \n",
      "실제 요약 : don't in drug war probe philippine prez to cops \n",
      "예측 요약 :  philippine prez duterte threatens to drugs war\n",
      "\n",
      "\n",
      "원문 : the air intelligence unit of mumbai customs arrested four passengers at mumbai's chhatrapati shivaji maharaj international airport on saturday with over 6 5 kilograms of gold worth ã¢ââ¹1 86 crore an indian national travelling from bangkok to dubai was caught while handing over the gold to the three other passengers \n",
      "실제 요약 : gold worth ã¢ââ¹1 86 crore seized at mumbai airport 4 arrested \n",
      "예측 요약 :  mumbai airport held at delhi airport\n",
      "\n",
      "\n",
      "원문 : india's e commerce firms amazon seller services and flipkart are reportedly lobbying the government to scrap the draft e commerce policy which recommends strict restrictions on online retail including on discounts the retailers have urged the government to instead consider fresh regulations in the e commerce sector the two firms were not part of the panel that came up with the policy \n",
      "실제 요약 : amazon flipkart ask govt to not restrict discounts report \n",
      "예측 요약 :  amazon seeks e commerce firms to stop e commerce firms\n",
      "\n",
      "\n",
      "원문 : the narendra modi government has unearthed ã¢ââ¹1 37 lakh crore worth of tax evasion money in the last three years according to official data the government agencies have conducted a total of 23 searches and surveys in this regard simultaneously criminal were launched in 2 814 cases and 3 persons were placed under arrest the government added \n",
      "실제 요약 : govt detected ã¢ââ¹1 37 lakh crore of tax evasion in 3 years \n",
      "예측 요약 :  pm modi announces ã¢ââ¹1 000 crore in note ban scam\n",
      "\n",
      "\n",
      "원문 : the bjp leaders in meghalaya who quit to register their protest against the centre's ban on cattle sale for slaughter in animal markets are set to hold a beef festival on saturday evening nearly 5 000 cadres from the garo hills have also quit the bjp in the last few days to protest against the same \n",
      "실제 요약 : meghalaya bjp leaders who quit last week to hold beef fest \n",
      "예측 요약 :  bjp protests in tripura amid protests sale of cow slaughter\n",
      "\n",
      "\n"
     ]
    }
   ],
   "source": [
    "for i in range(50, 100):\n",
    "    print(\"원문 :\", seq2text(encoder_input_test[i]))\n",
    "    print(\"실제 요약 :\", seq2summary(decoder_input_test[i]))\n",
    "    print(\"예측 요약 :\", decode_sequence(encoder_input_test[i].reshape(1, text_max_len)))\n",
    "    print(\"\\n\")"
   ]
  },
  {
   "cell_type": "code",
   "execution_count": null,
   "metadata": {},
   "outputs": [],
   "source": []
  },
  {
   "cell_type": "markdown",
   "metadata": {},
   "source": [
    "## Summa을 이용해서 추출적 요약해보기"
   ]
  },
  {
   "cell_type": "code",
   "execution_count": null,
   "metadata": {},
   "outputs": [],
   "source": []
  },
  {
   "cell_type": "code",
   "execution_count": 60,
   "metadata": {
    "ExecuteTime": {
     "end_time": "2020-10-16T03:12:21.255567Z",
     "start_time": "2020-10-16T03:12:21.253874Z"
    }
   },
   "outputs": [],
   "source": [
    "import requests\n",
    "from summa.summarizer import summarize"
   ]
  },
  {
   "cell_type": "code",
   "execution_count": 61,
   "metadata": {
    "ExecuteTime": {
     "end_time": "2020-10-16T03:12:21.690967Z",
     "start_time": "2020-10-16T03:12:21.689329Z"
    }
   },
   "outputs": [],
   "source": [
    "#text = requests.get('http://rare-technologies.com/the_matrix_synopsis.txt').text\n"
   ]
  },
  {
   "cell_type": "code",
   "execution_count": 68,
   "metadata": {
    "ExecuteTime": {
     "end_time": "2020-10-16T03:23:37.068612Z",
     "start_time": "2020-10-16T03:23:37.043522Z"
    }
   },
   "outputs": [
    {
     "name": "stdout",
     "output_type": "stream",
     "text": [
      "원문 : a man in rajasthan's udaipur blew himself up with dynamite on sunday using a after his wife left him following an argument five days ago according to reports we have sent the body for post mortem we are investigating the matter police officials said police suspect that the victim who worked at a mine arranged the dynamite from his workplace \n",
      "실제 요약 : man blows himself up with after wife leaves him \n",
      "summarize 요약 : \n",
      "원문 : the national green tribunal on friday directed the central pollution control board cpcb to collect samples of alleged poop falling from the sky and determine whether they are human or bird excreta this comes after a retired army official alleged that planes were dumping faeces in his neighbourhood near delhi airport notably airlines face fines for dumping human waste mid air \n",
      "실제 요약 : asked to check if poop falling from sky is human \n",
      "summarize 요약 : \n",
      "원문 : russia may restrict the operations of us media organisations in the country the foreign ministry said on sunday we have never used russian law in relation to foreign as a lever of pressure or censorship or some kind of political influence the ministry added this comes in response to alleged us pressure on russian news agencies rt and \n",
      "실제 요약 : russia warns it may restrict us media \n",
      "summarize 요약 : \n",
      "원문 : sanjay dutt charged ã¢ââ¹10 crore for his biopic 'sanju' along with a portion of the profits as per reports only then producer vidhu vinod chopra and director rajkumar hirani were given access to his life said reports dutt reportedly also made sure some aspects of his life including his relationships with actresses who are married now won't be depicted onscreen \n",
      "실제 요약 : sanjay dutt charged ã¢ââ¹10 cr for his biopic 'sanju' reports \n",
      "summarize 요약 : \n",
      "원문 : chinese ride sharing giant and uber rival didi chuxing is reportedly considering a 6 billion funding led by existing investor softbank if completed the funding would be the single largest for a chinese technology startup on record the funding could however dilute the stakes of the other existing backers such as apple and tencent \n",
      "실제 요약 : uber rival didi considering to raise 6 bn led by softbank \n",
      "summarize 요약 : \n",
      "원문 : after signing chris gayle for his base price of ã¢ââ¹2 crore ipl side kings xi punjab shared a picture of the jamaican wearing a turban on instagram looks like is already ready for his punjab visit the caption read gayle had earlier represented kolkata knight riders and royal challengers bangalore in the ipl \n",
      "실제 요약 : kings xi punjab share pic of chris gayle turban \n",
      "summarize 요약 : \n",
      "원문 : leaders of the association of south east asian nations asean have called for and in the south china sea in a joint statement issued on sunday this comes amid expansion of china's defence capabilities in the sea southeast asian states including the philippines vietnam and malaysia among others dispute china's territorial claims over the sea \n",
      "실제 요약 : asean countries urge non in south china sea \n",
      "summarize 요약 : \n",
      "원문 : india is the third most targeted country for phishing scams according to the quarterly fraud report for january march period phishing accounted for 48 of all cyber attacks and the us canada and brazil were the other top countries targeted by phishing further mobile app fraud transactions increased over 600 in past three years the report added \n",
      "실제 요약 : india 3rd most targeted country for scams report \n",
      "summarize 요약 : \n",
      "원문 : a case has been registered against actor pawan kalyan for making allegations against some telugu news channels the matter pertains to the news channels airing a particular video of actress sri reddy abusing kalyan the complainant said though the channels had muted the abusive word kalyan tweeted a doctored video without any censor the channel had committed the crime \n",
      "실제 요약 : case registered against pawan kalyan over \n",
      "summarize 요약 : \n",
      "원문 : the indian railways has signed a memorandum of understanding with the maharashtra government to set up a ã¢ââ¹600 crore metro coach factory in latur district the project will provide direct employment to 15 000 people and will create around 60 000 indirect job opportunities cm devendra fadnavis said the metro coaches manufactured in the factory will reportedly also be exported to other countries \n",
      "실제 요약 : govt to set up ã¢ââ¹600 crore metro coach factory in maharashtra \n",
      "summarize 요약 : \n"
     ]
    }
   ],
   "source": [
    "\n",
    "\n",
    "for i in range(50, 60):\n",
    "    print(\"원문 :\", seq2text(encoder_input_test[i]))\n",
    "    print(\"실제 요약 :\", seq2summary(decoder_input_test[i]))\n",
    "    print(\"summarize 요약 :\",summarize(seq2text(encoder_input_test[i]), ratio=0.005))"
   ]
  },
  {
   "cell_type": "code",
   "execution_count": 66,
   "metadata": {
    "ExecuteTime": {
     "end_time": "2020-10-16T03:22:55.465457Z",
     "start_time": "2020-10-16T03:22:55.462915Z"
    }
   },
   "outputs": [
    {
     "data": {
      "text/plain": [
       "array([[  53,  140,  477, ...,    0,    0,    0],\n",
       "       [2067,    5,   29, ...,    0,    0,    0],\n",
       "       [  95,  157, 1190, ...,    0,    0,    0],\n",
       "       ...,\n",
       "       [ 114, 1927, 4228, ...,    0,    0,    0],\n",
       "       [7680,    8, 1657, ...,    0,    0,    0],\n",
       "       [1525,  393, 1295, ...,    0,    0,    0]], dtype=int32)"
      ]
     },
     "execution_count": 66,
     "metadata": {},
     "output_type": "execute_result"
    }
   ],
   "source": [
    "encoder_input_test"
   ]
  },
  {
   "cell_type": "code",
   "execution_count": null,
   "metadata": {},
   "outputs": [],
   "source": []
  },
  {
   "cell_type": "code",
   "execution_count": null,
   "metadata": {},
   "outputs": [],
   "source": []
  },
  {
   "cell_type": "code",
   "execution_count": null,
   "metadata": {},
   "outputs": [],
   "source": []
  },
  {
   "cell_type": "code",
   "execution_count": null,
   "metadata": {},
   "outputs": [],
   "source": []
  },
  {
   "cell_type": "code",
   "execution_count": null,
   "metadata": {},
   "outputs": [],
   "source": []
  },
  {
   "cell_type": "code",
   "execution_count": null,
   "metadata": {},
   "outputs": [],
   "source": []
  },
  {
   "cell_type": "code",
   "execution_count": null,
   "metadata": {},
   "outputs": [],
   "source": []
  },
  {
   "cell_type": "code",
   "execution_count": null,
   "metadata": {},
   "outputs": [],
   "source": []
  },
  {
   "cell_type": "code",
   "execution_count": null,
   "metadata": {},
   "outputs": [],
   "source": []
  },
  {
   "cell_type": "code",
   "execution_count": null,
   "metadata": {},
   "outputs": [],
   "source": []
  }
 ],
 "metadata": {
  "kernelspec": {
   "display_name": "Python 3",
   "language": "python",
   "name": "python3"
  },
  "language_info": {
   "codemirror_mode": {
    "name": "ipython",
    "version": 3
   },
   "file_extension": ".py",
   "mimetype": "text/x-python",
   "name": "python",
   "nbconvert_exporter": "python",
   "pygments_lexer": "ipython3",
   "version": "3.7.6"
  },
  "toc": {
   "base_numbering": 1,
   "nav_menu": {},
   "number_sections": true,
   "sideBar": true,
   "skip_h1_title": false,
   "title_cell": "Table of Contents",
   "title_sidebar": "Contents",
   "toc_cell": false,
   "toc_position": {
    "height": "calc(100% - 180px)",
    "left": "10px",
    "top": "150px",
    "width": "383.997px"
   },
   "toc_section_display": true,
   "toc_window_display": true
  },
  "varInspector": {
   "cols": {
    "lenName": 16,
    "lenType": 16,
    "lenVar": 40
   },
   "kernels_config": {
    "python": {
     "delete_cmd_postfix": "",
     "delete_cmd_prefix": "del ",
     "library": "var_list.py",
     "varRefreshCmd": "print(var_dic_list())"
    },
    "r": {
     "delete_cmd_postfix": ") ",
     "delete_cmd_prefix": "rm(",
     "library": "var_list.r",
     "varRefreshCmd": "cat(var_dic_list()) "
    }
   },
   "types_to_exclude": [
    "module",
    "function",
    "builtin_function_or_method",
    "instance",
    "_Feature"
   ],
   "window_display": false
  }
 },
 "nbformat": 4,
 "nbformat_minor": 4
}
