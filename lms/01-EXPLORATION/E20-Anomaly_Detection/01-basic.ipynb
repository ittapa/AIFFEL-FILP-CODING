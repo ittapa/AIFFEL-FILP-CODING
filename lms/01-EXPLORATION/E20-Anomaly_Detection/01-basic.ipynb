{
 "cells": [
  {
   "cell_type": "markdown",
   "metadata": {},
   "source": [
    "# 이상치 탐색, 처리"
   ]
  },
  {
   "cell_type": "code",
   "execution_count": null,
   "metadata": {},
   "outputs": [],
   "source": []
  },
  {
   "cell_type": "code",
   "execution_count": null,
   "metadata": {},
   "outputs": [],
   "source": []
  },
  {
   "cell_type": "markdown",
   "metadata": {},
   "source": [
    "## kospi data "
   ]
  },
  {
   "cell_type": "markdown",
   "metadata": {},
   "source": [
    "## library install"
   ]
  },
  {
   "cell_type": "code",
   "execution_count": 1,
   "metadata": {
    "ExecuteTime": {
     "end_time": "2020-10-26T07:00:20.799848Z",
     "start_time": "2020-10-26T07:00:20.797921Z"
    }
   },
   "outputs": [],
   "source": [
    "#!pip install requests"
   ]
  },
  {
   "cell_type": "markdown",
   "metadata": {},
   "source": [
    "## data donwload"
   ]
  },
  {
   "cell_type": "code",
   "execution_count": 16,
   "metadata": {
    "ExecuteTime": {
     "end_time": "2020-10-26T07:51:47.067616Z",
     "start_time": "2020-10-26T07:51:46.292262Z"
    }
   },
   "outputs": [],
   "source": [
    "import requests\n",
    "import os\n",
    "\n",
    "# 아래 url은 yahoo finance 서버에 우리나라 코스피 데이터를 요청하는 주소입니다.\n",
    "url = \"https://query1.finance.yahoo.com/v7/finance/download/%5EKS11?period1=867715200&period2=1597276800&interval=1d&events=history\"\n",
    "\n",
    "# 데이터를 요청하고 그 결과를 response로 받습니다.\n",
    "response = requests.get(url)\n",
    "\n",
    "csv_file = os.getenv('HOME')+'/aiffel/AIFFEL_LSG/lms/01-EXPLORATION/E20-Anomaly_Detection/kospi/kospi.csv'\n",
    "\n",
    "# response 의 컨텐츠를 csv로 저장합니다.\n",
    "with open(csv_file, \"w\") as fp:  \n",
    "    fp.write(response.text)"
   ]
  },
  {
   "cell_type": "markdown",
   "metadata": {},
   "source": [
    "## data import"
   ]
  },
  {
   "cell_type": "code",
   "execution_count": 17,
   "metadata": {
    "ExecuteTime": {
     "end_time": "2020-10-26T07:51:47.104018Z",
     "start_time": "2020-10-26T07:51:47.085502Z"
    }
   },
   "outputs": [
    {
     "data": {
      "text/html": [
       "<div>\n",
       "<style scoped>\n",
       "    .dataframe tbody tr th:only-of-type {\n",
       "        vertical-align: middle;\n",
       "    }\n",
       "\n",
       "    .dataframe tbody tr th {\n",
       "        vertical-align: top;\n",
       "    }\n",
       "\n",
       "    .dataframe thead th {\n",
       "        text-align: right;\n",
       "    }\n",
       "</style>\n",
       "<table border=\"1\" class=\"dataframe\">\n",
       "  <thead>\n",
       "    <tr style=\"text-align: right;\">\n",
       "      <th></th>\n",
       "      <th>Date</th>\n",
       "      <th>Open</th>\n",
       "      <th>High</th>\n",
       "      <th>Low</th>\n",
       "      <th>Close</th>\n",
       "      <th>Adj Close</th>\n",
       "      <th>Volume</th>\n",
       "    </tr>\n",
       "  </thead>\n",
       "  <tbody>\n",
       "    <tr>\n",
       "      <th>0</th>\n",
       "      <td>1997-07-01</td>\n",
       "      <td>744.979980</td>\n",
       "      <td>760.520020</td>\n",
       "      <td>744.669983</td>\n",
       "      <td>758.030029</td>\n",
       "      <td>758.030029</td>\n",
       "      <td>0.0</td>\n",
       "    </tr>\n",
       "    <tr>\n",
       "      <th>1</th>\n",
       "      <td>1997-07-02</td>\n",
       "      <td>763.390015</td>\n",
       "      <td>777.289978</td>\n",
       "      <td>763.390015</td>\n",
       "      <td>777.289978</td>\n",
       "      <td>777.289978</td>\n",
       "      <td>0.0</td>\n",
       "    </tr>\n",
       "  </tbody>\n",
       "</table>\n",
       "</div>"
      ],
      "text/plain": [
       "         Date        Open        High         Low       Close   Adj Close  \\\n",
       "0  1997-07-01  744.979980  760.520020  744.669983  758.030029  758.030029   \n",
       "1  1997-07-02  763.390015  777.289978  763.390015  777.289978  777.289978   \n",
       "\n",
       "   Volume  \n",
       "0     0.0  \n",
       "1     0.0  "
      ]
     },
     "execution_count": 17,
     "metadata": {},
     "output_type": "execute_result"
    }
   ],
   "source": [
    "# 저장한 csv를 읽어옵니다.\n",
    "import pandas as pd\n",
    "df = pd.read_csv(csv_file)\n",
    "df.head(2)"
   ]
  },
  {
   "cell_type": "markdown",
   "metadata": {},
   "source": [
    "## 전처리"
   ]
  },
  {
   "cell_type": "code",
   "execution_count": 18,
   "metadata": {
    "ExecuteTime": {
     "end_time": "2020-10-26T07:51:47.128455Z",
     "start_time": "2020-10-26T07:51:47.122214Z"
    }
   },
   "outputs": [
    {
     "data": {
      "text/plain": [
       "Date           0\n",
       "Open         150\n",
       "High         150\n",
       "Low          150\n",
       "Close        150\n",
       "Adj Close    150\n",
       "Volume       150\n",
       "dtype: int64"
      ]
     },
     "execution_count": 18,
     "metadata": {},
     "output_type": "execute_result"
    }
   ],
   "source": [
    "# 날짜데이터를 Datetime 형식으로 바꿔줍니다.\n",
    "df.loc[:,'Date'] = pd.to_datetime(df.Date)\n",
    "\n",
    "# 데이터의 정합성을 확인합니다\n",
    "df.isna().sum()"
   ]
  },
  {
   "cell_type": "code",
   "execution_count": 19,
   "metadata": {
    "ExecuteTime": {
     "end_time": "2020-10-26T07:51:47.153591Z",
     "start_time": "2020-10-26T07:51:47.148355Z"
    }
   },
   "outputs": [
    {
     "name": "stdout",
     "output_type": "stream",
     "text": [
      "삭제 전 데이터 길이(일자수): 5842\n",
      "삭제 후 데이터 길이(일자수): 5692\n"
     ]
    },
    {
     "data": {
      "text/plain": [
       "Date         0\n",
       "Open         0\n",
       "High         0\n",
       "Low          0\n",
       "Close        0\n",
       "Adj Close    0\n",
       "Volume       0\n",
       "dtype: int64"
      ]
     },
     "execution_count": 19,
     "metadata": {},
     "output_type": "execute_result"
    }
   ],
   "source": [
    "## 결측치 숙청\n",
    "print(\"삭제 전 데이터 길이(일자수):\",len(df))\n",
    "df = df.dropna(axis=0).reset_index(drop=True)\n",
    "\n",
    "print(\"삭제 후 데이터 길이(일자수):\",len(df))\n",
    "df.isna().sum()\n"
   ]
  },
  {
   "cell_type": "markdown",
   "metadata": {},
   "source": [
    "## 그래프"
   ]
  },
  {
   "cell_type": "code",
   "execution_count": 20,
   "metadata": {
    "ExecuteTime": {
     "end_time": "2020-10-26T07:51:47.326235Z",
     "start_time": "2020-10-26T07:51:47.170054Z"
    }
   },
   "outputs": [
    {
     "data": {
      "image/png": "[encoded data removed]",
      "text/plain": [
       "<Figure size 864x360 with 1 Axes>"
      ]
     },
     "metadata": {
      "needs_background": "light"
     },
     "output_type": "display_data"
    }
   ],
   "source": [
    "import matplotlib.pyplot as plt\n",
    "from matplotlib.pylab import rcParams\n",
    "\n",
    "plt.rcParams[\"figure.figsize\"] = (12,5)\n",
    "# Line Graph by matplotlib with wide-form DataFrame\n",
    "\n",
    "plt.plot(df.Date, df.Close, marker='s', color='r')\n",
    "plt.plot(df.Date, df.High, marker='o', color='g')\n",
    "plt.plot(df.Date, df.Low, marker='*', color='b')\n",
    "plt.plot(df.Date, df.Open, marker='+', color='y')\n",
    "\n",
    "plt.title('KOSPI ', fontsize=20) \n",
    "plt.ylabel('Stock', fontsize=14)\n",
    "plt.xlabel('Date', fontsize=14)\n",
    "plt.legend(['Close', 'High', 'Low', 'Open'], fontsize=12, loc='best')\n",
    "\n",
    "plt.show()"
   ]
  },
  {
   "cell_type": "code",
   "execution_count": 21,
   "metadata": {
    "ExecuteTime": {
     "end_time": "2020-10-26T07:51:47.344521Z",
     "start_time": "2020-10-26T07:51:47.342886Z"
    }
   },
   "outputs": [],
   "source": [
    "##"
   ]
  },
  {
   "cell_type": "code",
   "execution_count": 22,
   "metadata": {
    "ExecuteTime": {
     "end_time": "2020-10-26T07:51:47.368136Z",
     "start_time": "2020-10-26T07:51:47.360849Z"
    }
   },
   "outputs": [
    {
     "data": {
      "text/html": [
       "<div>\n",
       "<style scoped>\n",
       "    .dataframe tbody tr th:only-of-type {\n",
       "        vertical-align: middle;\n",
       "    }\n",
       "\n",
       "    .dataframe tbody tr th {\n",
       "        vertical-align: top;\n",
       "    }\n",
       "\n",
       "    .dataframe thead th {\n",
       "        text-align: right;\n",
       "    }\n",
       "</style>\n",
       "<table border=\"1\" class=\"dataframe\">\n",
       "  <thead>\n",
       "    <tr style=\"text-align: right;\">\n",
       "      <th></th>\n",
       "      <th>Date</th>\n",
       "      <th>Open</th>\n",
       "      <th>High</th>\n",
       "      <th>Low</th>\n",
       "      <th>Close</th>\n",
       "      <th>Adj Close</th>\n",
       "      <th>Volume</th>\n",
       "    </tr>\n",
       "  </thead>\n",
       "  <tbody>\n",
       "    <tr>\n",
       "      <th>5620</th>\n",
       "      <td>2020-05-06</td>\n",
       "      <td>1919.449951</td>\n",
       "      <td>1928.76001</td>\n",
       "      <td>19025.550781</td>\n",
       "      <td>1928.76001</td>\n",
       "      <td>1928.76001</td>\n",
       "      <td>1082200.0</td>\n",
       "    </tr>\n",
       "  </tbody>\n",
       "</table>\n",
       "</div>"
      ],
      "text/plain": [
       "           Date         Open        High           Low       Close  \\\n",
       "5620 2020-05-06  1919.449951  1928.76001  19025.550781  1928.76001   \n",
       "\n",
       "       Adj Close     Volume  \n",
       "5620  1928.76001  1082200.0  "
      ]
     },
     "execution_count": 22,
     "metadata": {},
     "output_type": "execute_result"
    }
   ],
   "source": [
    "# 하한가가 상한가 보다 높은 경우 서칭\n",
    "df.loc[df.Low > df.High]"
   ]
  },
  {
   "cell_type": "markdown",
   "metadata": {},
   "source": [
    "## outlier / novelties 구분\n",
    "\n",
    "- outlier 숙청바앙ㄴ\n",
    "+ 참값으로 대체하거나\n",
    "+ 보간으로 대체하거나\n",
    "+ 삭제해야 합니다."
   ]
  },
  {
   "cell_type": "code",
   "execution_count": 23,
   "metadata": {
    "ExecuteTime": {
     "end_time": "2020-10-26T07:51:47.392841Z",
     "start_time": "2020-10-26T07:51:47.384403Z"
    }
   },
   "outputs": [
    {
     "data": {
      "text/html": [
       "<div>\n",
       "<style scoped>\n",
       "    .dataframe tbody tr th:only-of-type {\n",
       "        vertical-align: middle;\n",
       "    }\n",
       "\n",
       "    .dataframe tbody tr th {\n",
       "        vertical-align: top;\n",
       "    }\n",
       "\n",
       "    .dataframe thead th {\n",
       "        text-align: right;\n",
       "    }\n",
       "</style>\n",
       "<table border=\"1\" class=\"dataframe\">\n",
       "  <thead>\n",
       "    <tr style=\"text-align: right;\">\n",
       "      <th></th>\n",
       "      <th>Date</th>\n",
       "      <th>Open</th>\n",
       "      <th>High</th>\n",
       "      <th>Low</th>\n",
       "      <th>Close</th>\n",
       "      <th>Adj Close</th>\n",
       "      <th>Volume</th>\n",
       "    </tr>\n",
       "  </thead>\n",
       "  <tbody>\n",
       "  </tbody>\n",
       "</table>\n",
       "</div>"
      ],
      "text/plain": [
       "Empty DataFrame\n",
       "Columns: [Date, Open, High, Low, Close, Adj Close, Volume]\n",
       "Index: []"
      ]
     },
     "execution_count": 23,
     "metadata": {},
     "output_type": "execute_result"
    }
   ],
   "source": [
    "## 주식 데이터의 경우 제공 업체가 여럿 있기에 지도 학습으로 비교 가능.\n",
    "## 카카오 주식 데이터로 대체\n",
    "\n",
    "# 카카오 주식차트 결과로 대체합니다. \n",
    "df.loc[df.Date == '2020-05-06', 'Low'] = 1903 \n",
    "\n",
    "# 비정상데이터가 제거되었는지 다시 확인해 봅니다.\n",
    "df.loc[df.Low>df.High]\n"
   ]
  },
  {
   "cell_type": "markdown",
   "metadata": {},
   "source": [
    "### novelties 특이치\n",
    "\n",
    "- 정상적인 수집과정에 의한 이상치 의미"
   ]
  },
  {
   "cell_type": "markdown",
   "metadata": {},
   "source": [
    "## recap"
   ]
  },
  {
   "cell_type": "markdown",
   "metadata": {
    "ExecuteTime": {
     "end_time": "2020-10-26T07:13:25.097232Z",
     "start_time": "2020-10-26T07:13:25.094009Z"
    }
   },
   "source": [
    "![](./img/01.png)\n",
    "- 이상치Anomailies = 극단치Outlier + 특이치Novelites\n",
    "- 극단치는 제거해야 모형에 좋습니다.\n",
    "- 특이치는 남겨둬야 모형에 좋습니다."
   ]
  },
  {
   "cell_type": "markdown",
   "metadata": {},
   "source": []
  },
  {
   "cell_type": "markdown",
   "metadata": {},
   "source": [
    "## z_text 정규분포"
   ]
  },
  {
   "cell_type": "code",
   "execution_count": 24,
   "metadata": {
    "ExecuteTime": {
     "end_time": "2020-10-26T07:51:47.514857Z",
     "start_time": "2020-10-26T07:51:47.410192Z"
    }
   },
   "outputs": [
    {
     "data": {
      "image/png": "[encoded data removed]",
      "text/plain": [
       "<Figure size 648x432 with 1 Axes>"
      ]
     },
     "metadata": {
      "needs_background": "light"
     },
     "output_type": "display_data"
    }
   ],
   "source": [
    "%matplotlib inline\n",
    "from scipy.stats import norm\n",
    "import numpy as np\n",
    "import matplotlib.pyplot as plt\n",
    "x = np.arange(-5, 5, 0.001)\n",
    "y = norm.pdf(x,0,1) \n",
    "# 평균이 0이고, 표준편차가 1인 정규분포를 그립니다.\n",
    "\n",
    "# build the plot\n",
    "fig, ax = plt.subplots(figsize=(9,6))\n",
    "ax.fill_between(x,y,0, alpha=0.3, color='b')\n",
    "ax.set_xlim([-4,4])\n",
    "ax.set_title('normal distribution')\n",
    "plt.show()"
   ]
  },
  {
   "cell_type": "code",
   "execution_count": 25,
   "metadata": {
    "ExecuteTime": {
     "end_time": "2020-10-26T07:51:47.832913Z",
     "start_time": "2020-10-26T07:51:47.531120Z"
    }
   },
   "outputs": [
    {
     "data": {
      "image/png": "[encoded data removed]",
      "text/plain": [
       "<Figure size 648x432 with 1 Axes>"
      ]
     },
     "metadata": {
      "needs_background": "light"
     },
     "output_type": "display_data"
    }
   ],
   "source": [
    "## 주식데이터 분포 확인 - 종가\n",
    "fig, ax = plt.subplots(figsize=(9,6))\n",
    "_ = plt.hist(df.Close, 100, density=True, alpha=0.75)"
   ]
  },
  {
   "cell_type": "code",
   "execution_count": 26,
   "metadata": {
    "ExecuteTime": {
     "end_time": "2020-10-26T07:51:47.855606Z",
     "start_time": "2020-10-26T07:51:47.850720Z"
    }
   },
   "outputs": [
    {
     "name": "stdout",
     "output_type": "stream",
     "text": [
      "0.0\n"
     ]
    }
   ],
   "source": [
    "from statsmodels.stats.weightstats import ztest\n",
    "_, p = ztest(df.Close)\n",
    "print(p)\n",
    "\n",
    "# p 값이 0.5 에 가깝지 않음...."
   ]
  },
  {
   "cell_type": "code",
   "execution_count": 27,
   "metadata": {
    "ExecuteTime": {
     "end_time": "2020-10-26T07:55:31.317297Z",
     "start_time": "2020-10-26T07:55:31.315147Z"
    }
   },
   "outputs": [],
   "source": [
    "##\n"
   ]
  },
  {
   "cell_type": "code",
   "execution_count": null,
   "metadata": {},
   "outputs": [],
   "source": []
  },
  {
   "cell_type": "markdown",
   "metadata": {},
   "source": [
    "# 코스피 종가 데이터 분석"
   ]
  },
  {
   "cell_type": "code",
   "execution_count": 28,
   "metadata": {
    "ExecuteTime": {
     "end_time": "2020-10-26T07:55:41.842104Z",
     "start_time": "2020-10-26T07:55:40.251429Z"
    }
   },
   "outputs": [
    {
     "name": "stdout",
     "output_type": "stream",
     "text": [
      "Requirement already satisfied: statsmodels in /home/aiffel0042/anaconda3/envs/aiffel/lib/python3.7/site-packages (0.11.1)\n",
      "Requirement already satisfied: pandas>=0.21 in /home/aiffel0042/anaconda3/envs/aiffel/lib/python3.7/site-packages (from statsmodels) (1.0.5)\n",
      "Requirement already satisfied: patsy>=0.5 in /home/aiffel0042/anaconda3/envs/aiffel/lib/python3.7/site-packages (from statsmodels) (0.5.1)\n",
      "Requirement already satisfied: numpy>=1.14 in /home/aiffel0042/anaconda3/envs/aiffel/lib/python3.7/site-packages (from statsmodels) (1.18.5)\n",
      "Requirement already satisfied: scipy>=1.0 in /home/aiffel0042/anaconda3/envs/aiffel/lib/python3.7/site-packages (from statsmodels) (1.4.1)\n",
      "Requirement already satisfied: python-dateutil>=2.6.1 in /home/aiffel0042/anaconda3/envs/aiffel/lib/python3.7/site-packages (from pandas>=0.21->statsmodels) (2.8.1)\n",
      "Requirement already satisfied: pytz>=2017.2 in /home/aiffel0042/anaconda3/envs/aiffel/lib/python3.7/site-packages (from pandas>=0.21->statsmodels) (2020.1)\n",
      "Requirement already satisfied: six in /home/aiffel0042/anaconda3/envs/aiffel/lib/python3.7/site-packages (from patsy>=0.5->statsmodels) (1.15.0)\n"
     ]
    }
   ],
   "source": [
    "!pip install statsmodels"
   ]
  },
  {
   "cell_type": "code",
   "execution_count": 29,
   "metadata": {
    "ExecuteTime": {
     "end_time": "2020-10-26T07:56:21.564847Z",
     "start_time": "2020-10-26T07:56:21.199802Z"
    },
    "scrolled": true
   },
   "outputs": [
    {
     "data": {
      "image/png": "[encoded data removed]",
      "text/plain": [
       "<Figure size 432x288 with 4 Axes>"
      ]
     },
     "metadata": {
      "needs_background": "light"
     },
     "output_type": "display_data"
    }
   ],
   "source": [
    "from statsmodels.tsa.seasonal import seasonal_decompose\n",
    "result = seasonal_decompose(df.Close, model='additive', two_sided=True, \n",
    "                            period=50, extrapolate_trend='freq') # 계절적 성분 50일로 가정\n",
    "result.plot()\n",
    "plt.show()"
   ]
  },
  {
   "cell_type": "code",
   "execution_count": 30,
   "metadata": {
    "ExecuteTime": {
     "end_time": "2020-10-26T07:57:29.649315Z",
     "start_time": "2020-10-26T07:57:29.069604Z"
    }
   },
   "outputs": [
    {
     "data": {
      "image/png": "[encoded data removed]",
      "text/plain": [
       "<Figure size 864x648 with 4 Axes>"
      ]
     },
     "metadata": {
      "needs_background": "light"
     },
     "output_type": "display_data"
    }
   ],
   "source": [
    "#그래프가 너무 작아서 안보인다면\n",
    "\n",
    "fig, axes = plt.subplots(ncols=1, nrows=4, sharex=True, figsize=(12,9))\n",
    "result.observed.plot(ax=axes[0], legend=False)\n",
    "axes[0].set_ylabel('Observed')\n",
    "result.trend.plot(ax=axes[1], legend=False)\n",
    "axes[1].set_ylabel('Trend')\n",
    "result.seasonal.plot(ax=axes[2], legend=False)\n",
    "axes[2].set_ylabel('Seasonal')\n",
    "result.resid.plot(ax=axes[3], legend=False)\n",
    "axes[3].set_ylabel('Residual')\n",
    "plt.show()\n"
   ]
  },
  {
   "cell_type": "code",
   "execution_count": 31,
   "metadata": {
    "ExecuteTime": {
     "end_time": "2020-10-26T07:58:18.491237Z",
     "start_time": "2020-10-26T07:58:18.385814Z"
    }
   },
   "outputs": [
    {
     "data": {
      "text/plain": [
       "<matplotlib.axes._subplots.AxesSubplot at 0x7f9ae15060d0>"
      ]
     },
     "execution_count": 31,
     "metadata": {},
     "output_type": "execute_result"
    },
    {
     "data": {
      "image/png": "[encoded data removed]",
      "text/plain": [
       "<Figure size 432x288 with 1 Axes>"
      ]
     },
     "metadata": {
      "needs_background": "light"
     },
     "output_type": "display_data"
    }
   ],
   "source": [
    "# seasonal 성분은 너무 빼곡하게 보이네요. 다시 확인해보겠습니다.\n",
    "result.seasonal[:100].plot()\n",
    "#-8 에서 10 사이를 주기적으로 반복하는게 보이네요."
   ]
  },
  {
   "cell_type": "code",
   "execution_count": 32,
   "metadata": {
    "ExecuteTime": {
     "end_time": "2020-10-26T08:00:12.572370Z",
     "start_time": "2020-10-26T08:00:12.395770Z"
    }
   },
   "outputs": [
    {
     "data": {
      "image/png": "[encoded data removed]",
      "text/plain": [
       "<Figure size 648x432 with 1 Axes>"
      ]
     },
     "metadata": {
      "needs_background": "light"
     },
     "output_type": "display_data"
    }
   ],
   "source": [
    "# residual graph\n",
    "fig, ax = plt.subplots(figsize=(9,6))\n",
    "_ = plt.hist(result.resid, 100, density=True, alpha=0.75)"
   ]
  },
  {
   "cell_type": "code",
   "execution_count": 33,
   "metadata": {
    "ExecuteTime": {
     "end_time": "2020-10-26T08:02:14.700698Z",
     "start_time": "2020-10-26T08:02:14.690645Z"
    }
   },
   "outputs": [
    {
     "name": "stdout",
     "output_type": "stream",
     "text": [
      "-0.6804023554131796 0.4962497300226193\n"
     ]
    }
   ],
   "source": [
    "r = result.resid.values\n",
    "st, p = ztest(r)\n",
    "print(st,p)"
   ]
  },
  {
   "cell_type": "markdown",
   "metadata": {},
   "source": [
    "## 신뢰구간으로 이상치 찾기"
   ]
  },
  {
   "cell_type": "code",
   "execution_count": 34,
   "metadata": {
    "ExecuteTime": {
     "end_time": "2020-10-26T08:09:09.802684Z",
     "start_time": "2020-10-26T08:09:09.794177Z"
    }
   },
   "outputs": [
    {
     "name": "stdout",
     "output_type": "stream",
     "text": [
      "평균: -0.3595321143716522 표준편차: 39.8661527194307\n",
      "이상치 갯수: 71\n"
     ]
    }
   ],
   "source": [
    "# 평균과 표준편차 출력\n",
    "mu, std = result.resid.mean(), result.resid.std()\n",
    "print(\"평균:\", mu, \"표준편차:\", std)\n",
    "\n",
    "# 3-sigma(표준편차)를 기준으로 이상치 판단\n",
    "print(\"이상치 갯수:\", len(result.resid[(result.resid>mu+3*std)|(result.resid<mu-3*std)]))"
   ]
  },
  {
   "cell_type": "code",
   "execution_count": 35,
   "metadata": {
    "ExecuteTime": {
     "end_time": "2020-10-26T08:10:25.445258Z",
     "start_time": "2020-10-26T08:10:25.436164Z"
    }
   },
   "outputs": [
    {
     "data": {
      "text/plain": [
       "2475   2007-07-20\n",
       "2476   2007-07-23\n",
       "2477   2007-07-24\n",
       "2478   2007-07-25\n",
       "2493   2007-08-16\n",
       "          ...    \n",
       "5595   2020-03-26\n",
       "5596   2020-03-27\n",
       "5597   2020-03-30\n",
       "5599   2020-04-01\n",
       "5642   2020-06-05\n",
       "Name: Date, Length: 71, dtype: datetime64[ns]"
      ]
     },
     "execution_count": 35,
     "metadata": {},
     "output_type": "execute_result"
    }
   ],
   "source": [
    "df.Date[result.resid[\n",
    "    (result.resid>mu+3*std)|(result.resid<mu-3*std)].index]"
   ]
  },
  {
   "cell_type": "markdown",
   "metadata": {},
   "source": [
    "## 클러스터링"
   ]
  },
  {
   "cell_type": "markdown",
   "metadata": {},
   "source": [
    "### kmeasn"
   ]
  },
  {
   "cell_type": "code",
   "execution_count": 36,
   "metadata": {
    "ExecuteTime": {
     "end_time": "2020-10-26T08:16:23.807436Z",
     "start_time": "2020-10-26T08:16:23.767966Z"
    }
   },
   "outputs": [
    {
     "data": {
      "text/html": [
       "<div>\n",
       "<style scoped>\n",
       "    .dataframe tbody tr th:only-of-type {\n",
       "        vertical-align: middle;\n",
       "    }\n",
       "\n",
       "    .dataframe tbody tr th {\n",
       "        vertical-align: top;\n",
       "    }\n",
       "\n",
       "    .dataframe thead th {\n",
       "        text-align: right;\n",
       "    }\n",
       "</style>\n",
       "<table border=\"1\" class=\"dataframe\">\n",
       "  <thead>\n",
       "    <tr style=\"text-align: right;\">\n",
       "      <th></th>\n",
       "      <th>Open</th>\n",
       "      <th>High</th>\n",
       "      <th>Low</th>\n",
       "      <th>Close</th>\n",
       "      <th>Volume</th>\n",
       "    </tr>\n",
       "  </thead>\n",
       "  <tbody>\n",
       "    <tr>\n",
       "      <th>count</th>\n",
       "      <td>5692.000000</td>\n",
       "      <td>5692.000000</td>\n",
       "      <td>5692.000000</td>\n",
       "      <td>5692.000000</td>\n",
       "      <td>5.692000e+03</td>\n",
       "    </tr>\n",
       "    <tr>\n",
       "      <th>mean</th>\n",
       "      <td>1463.295208</td>\n",
       "      <td>1472.280870</td>\n",
       "      <td>1452.027319</td>\n",
       "      <td>1462.541972</td>\n",
       "      <td>4.329729e+06</td>\n",
       "    </tr>\n",
       "    <tr>\n",
       "      <th>std</th>\n",
       "      <td>624.964914</td>\n",
       "      <td>625.522910</td>\n",
       "      <td>623.305110</td>\n",
       "      <td>624.550682</td>\n",
       "      <td>9.936646e+06</td>\n",
       "    </tr>\n",
       "    <tr>\n",
       "      <th>min</th>\n",
       "      <td>313.251601</td>\n",
       "      <td>317.456402</td>\n",
       "      <td>309.410898</td>\n",
       "      <td>313.594600</td>\n",
       "      <td>0.000000e+00</td>\n",
       "    </tr>\n",
       "    <tr>\n",
       "      <th>25%</th>\n",
       "      <td>829.229831</td>\n",
       "      <td>836.772549</td>\n",
       "      <td>819.689776</td>\n",
       "      <td>828.144798</td>\n",
       "      <td>3.367350e+05</td>\n",
       "    </tr>\n",
       "    <tr>\n",
       "      <th>50%</th>\n",
       "      <td>1650.375197</td>\n",
       "      <td>1658.997451</td>\n",
       "      <td>1638.522701</td>\n",
       "      <td>1650.718854</td>\n",
       "      <td>4.346625e+05</td>\n",
       "    </tr>\n",
       "    <tr>\n",
       "      <th>75%</th>\n",
       "      <td>1994.399103</td>\n",
       "      <td>2000.893924</td>\n",
       "      <td>1983.265902</td>\n",
       "      <td>1992.919778</td>\n",
       "      <td>6.528442e+05</td>\n",
       "    </tr>\n",
       "    <tr>\n",
       "      <th>max</th>\n",
       "      <td>2507.482712</td>\n",
       "      <td>2517.003208</td>\n",
       "      <td>2493.430989</td>\n",
       "      <td>2503.484602</td>\n",
       "      <td>4.516467e+07</td>\n",
       "    </tr>\n",
       "  </tbody>\n",
       "</table>\n",
       "</div>"
      ],
      "text/plain": [
       "              Open         High          Low        Close        Volume\n",
       "count  5692.000000  5692.000000  5692.000000  5692.000000  5.692000e+03\n",
       "mean   1463.295208  1472.280870  1452.027319  1462.541972  4.329729e+06\n",
       "std     624.964914   625.522910   623.305110   624.550682  9.936646e+06\n",
       "min     313.251601   317.456402   309.410898   313.594600  0.000000e+00\n",
       "25%     829.229831   836.772549   819.689776   828.144798  3.367350e+05\n",
       "50%    1650.375197  1658.997451  1638.522701  1650.718854  4.346625e+05\n",
       "75%    1994.399103  2000.893924  1983.265902  1992.919778  6.528442e+05\n",
       "max    2507.482712  2517.003208  2493.430989  2503.484602  4.516467e+07"
      ]
     },
     "execution_count": 36,
     "metadata": {},
     "output_type": "execute_result"
    }
   ],
   "source": [
    "# Open, High, Low, Close, Volume 5가지 데이터를 모두 사\n",
    "# 데이터 전처리\n",
    "def my_decompose(df, features, freq=50):\n",
    "    trend = pd.DataFrame()\n",
    "    seasonal = pd.DataFrame()\n",
    "    resid = pd.DataFrame()\n",
    "    \n",
    "    # 사용할 feature 마다 decompose 를 수행합니다.\n",
    "    for f in features:\n",
    "        # decompose\n",
    "        result = seasonal_decompose(df[f], \n",
    "                                    model='additive', period=freq, extrapolate_trend=freq)\n",
    "        \n",
    "        trend[f] = result.trend.values\n",
    "        seasonal[f] = result.seasonal.values\n",
    "        resid[f] = result.resid.values\n",
    "        \n",
    "    return trend, seasonal, resid\n",
    "\n",
    "# 각 변수별 트렌드/계절적/잔차\n",
    "tdf, sdf, rdf = my_decompose(df, features=['Open','High','Low','Close','Volume'])\n",
    "tdf.describe()\n",
    "    \n",
    "    "
   ]
  },
  {
   "cell_type": "code",
   "execution_count": 37,
   "metadata": {
    "ExecuteTime": {
     "end_time": "2020-10-26T08:16:32.869371Z",
     "start_time": "2020-10-26T08:16:32.850318Z"
    }
   },
   "outputs": [
    {
     "data": {
      "text/html": [
       "<div>\n",
       "<style scoped>\n",
       "    .dataframe tbody tr th:only-of-type {\n",
       "        vertical-align: middle;\n",
       "    }\n",
       "\n",
       "    .dataframe tbody tr th {\n",
       "        vertical-align: top;\n",
       "    }\n",
       "\n",
       "    .dataframe thead th {\n",
       "        text-align: right;\n",
       "    }\n",
       "</style>\n",
       "<table border=\"1\" class=\"dataframe\">\n",
       "  <thead>\n",
       "    <tr style=\"text-align: right;\">\n",
       "      <th></th>\n",
       "      <th>Open</th>\n",
       "      <th>High</th>\n",
       "      <th>Low</th>\n",
       "      <th>Close</th>\n",
       "      <th>Volume</th>\n",
       "    </tr>\n",
       "  </thead>\n",
       "  <tbody>\n",
       "    <tr>\n",
       "      <th>count</th>\n",
       "      <td>5692.000000</td>\n",
       "      <td>5692.000000</td>\n",
       "      <td>5692.000000</td>\n",
       "      <td>5692.000000</td>\n",
       "      <td>5.692000e+03</td>\n",
       "    </tr>\n",
       "    <tr>\n",
       "      <th>mean</th>\n",
       "      <td>-0.401850</td>\n",
       "      <td>-0.380359</td>\n",
       "      <td>-0.398749</td>\n",
       "      <td>-0.374020</td>\n",
       "      <td>-1.954065e+02</td>\n",
       "    </tr>\n",
       "    <tr>\n",
       "      <th>std</th>\n",
       "      <td>39.589372</td>\n",
       "      <td>38.056752</td>\n",
       "      <td>40.809778</td>\n",
       "      <td>39.872618</td>\n",
       "      <td>8.934869e+06</td>\n",
       "    </tr>\n",
       "    <tr>\n",
       "      <th>min</th>\n",
       "      <td>-394.565789</td>\n",
       "      <td>-376.338461</td>\n",
       "      <td>-411.696607</td>\n",
       "      <td>-421.422951</td>\n",
       "      <td>-2.263667e+07</td>\n",
       "    </tr>\n",
       "    <tr>\n",
       "      <th>25%</th>\n",
       "      <td>-21.485369</td>\n",
       "      <td>-21.030832</td>\n",
       "      <td>-21.286770</td>\n",
       "      <td>-21.477541</td>\n",
       "      <td>-2.797035e+04</td>\n",
       "    </tr>\n",
       "    <tr>\n",
       "      <th>50%</th>\n",
       "      <td>1.389063</td>\n",
       "      <td>1.204421</td>\n",
       "      <td>1.788349</td>\n",
       "      <td>1.088418</td>\n",
       "      <td>1.945293e+05</td>\n",
       "    </tr>\n",
       "    <tr>\n",
       "      <th>75%</th>\n",
       "      <td>22.442679</td>\n",
       "      <td>21.891495</td>\n",
       "      <td>23.113944</td>\n",
       "      <td>22.650363</td>\n",
       "      <td>3.611476e+05</td>\n",
       "    </tr>\n",
       "    <tr>\n",
       "      <th>max</th>\n",
       "      <td>166.548008</td>\n",
       "      <td>151.359456</td>\n",
       "      <td>168.724502</td>\n",
       "      <td>163.663209</td>\n",
       "      <td>3.950393e+08</td>\n",
       "    </tr>\n",
       "  </tbody>\n",
       "</table>\n",
       "</div>"
      ],
      "text/plain": [
       "              Open         High          Low        Close        Volume\n",
       "count  5692.000000  5692.000000  5692.000000  5692.000000  5.692000e+03\n",
       "mean     -0.401850    -0.380359    -0.398749    -0.374020 -1.954065e+02\n",
       "std      39.589372    38.056752    40.809778    39.872618  8.934869e+06\n",
       "min    -394.565789  -376.338461  -411.696607  -421.422951 -2.263667e+07\n",
       "25%     -21.485369   -21.030832   -21.286770   -21.477541 -2.797035e+04\n",
       "50%       1.389063     1.204421     1.788349     1.088418  1.945293e+05\n",
       "75%      22.442679    21.891495    23.113944    22.650363  3.611476e+05\n",
       "max     166.548008   151.359456   168.724502   163.663209  3.950393e+08"
      ]
     },
     "execution_count": 37,
     "metadata": {},
     "output_type": "execute_result"
    }
   ],
   "source": [
    "rdf.describe()"
   ]
  },
  {
   "cell_type": "code",
   "execution_count": null,
   "metadata": {},
   "outputs": [],
   "source": [
    "# volumne 데이터 단위가 크기 때문에\n"
   ]
  },
  {
   "cell_type": "code",
   "execution_count": 39,
   "metadata": {
    "ExecuteTime": {
     "end_time": "2020-10-26T08:17:45.737539Z",
     "start_time": "2020-10-26T08:17:45.730177Z"
    }
   },
   "outputs": [
    {
     "name": "stdout",
     "output_type": "stream",
     "text": [
      "[  -0.40184982   -0.38035856   -0.39874878   -0.37402025 -195.40645742]\n"
     ]
    },
    {
     "data": {
      "text/plain": [
       "array([[-2.11078435e+00, -1.81469803e+00, -2.05551226e+00,\n",
       "        -1.78975878e+00,  2.10763080e-02],\n",
       "       [-1.57245471e+00, -1.31620670e+00, -1.54326110e+00,\n",
       "        -1.29206209e+00,  3.44552935e-03],\n",
       "       [-1.16743672e+00, -1.15447694e+00, -1.25272255e+00,\n",
       "        -1.24664060e+00, -1.95018959e-04],\n",
       "       ...,\n",
       "       [ 1.40187705e+00,  2.03518846e+00,  1.80321776e+00,\n",
       "         2.10596922e+00,  6.12871509e-02],\n",
       "       [ 1.72956122e+00,  1.93639106e+00,  1.59747384e+00,\n",
       "         2.26635573e+00,  3.75265169e-02],\n",
       "       [ 2.56782539e+00,  2.43952406e+00,  1.89411956e+00,\n",
       "         2.24061341e+00,  1.51850684e-02]])"
      ]
     },
     "execution_count": 39,
     "metadata": {},
     "output_type": "execute_result"
    }
   ],
   "source": [
    "# 표준정규화\n",
    "from sklearn.preprocessing import StandardScaler\n",
    "\n",
    "scaler = StandardScaler()\n",
    "scaler.fit(rdf)\n",
    "print(scaler.mean_)\n",
    "norm_rdf = scaler.transform(rdf)\n",
    "norm_rdf"
   ]
  },
  {
   "cell_type": "markdown",
   "metadata": {
    "ExecuteTime": {
     "end_time": "2020-10-26T08:17:54.595869Z",
     "start_time": "2020-10-26T08:17:54.593585Z"
    }
   },
   "source": [
    "## K-means 와 DBSCAN\n",
    "- k-means 와 DBSCAN 은 대표적인 unsupervised clustering 알고리즘이에요.\n",
    "- 입력된 데이터들을 유사한 몇개의 그룹으로 분류해줍니다.\n",
    "- k-means 은 몇개의 그룹으로 묶는지 지정할 수 있는 반면, DBSCAN은 지정할 수 없어요."
   ]
  },
  {
   "cell_type": "markdown",
   "metadata": {
    "ExecuteTime": {
     "end_time": "2020-10-26T08:18:31.049200Z",
     "start_time": "2020-10-26T08:18:31.047569Z"
    }
   },
   "source": [
    "## k-means 로 이상치 탐색"
   ]
  },
  {
   "cell_type": "code",
   "execution_count": 44,
   "metadata": {
    "ExecuteTime": {
     "end_time": "2020-10-26T08:18:55.393113Z",
     "start_time": "2020-10-26T08:18:55.245929Z"
    }
   },
   "outputs": [
    {
     "name": "stdout",
     "output_type": "stream",
     "text": [
      "[1 1 1 ... 0 0 0]\n"
     ]
    }
   ],
   "source": [
    "from sklearn.cluster import KMeans\n",
    "\n",
    "kmeans = KMeans(n_clusters=2, random_state=0).fit(norm_rdf)\n",
    "print(kmeans.labels_) # 분류된 라벨은 이렇게 kemans.labels_ 로 확인합니다."
   ]
  },
  {
   "cell_type": "code",
   "execution_count": 45,
   "metadata": {
    "ExecuteTime": {
     "end_time": "2020-10-26T08:19:19.177524Z",
     "start_time": "2020-10-26T08:19:19.170878Z"
    }
   },
   "outputs": [
    {
     "name": "stdout",
     "output_type": "stream",
     "text": [
      "[0 1]\n",
      "[3258 2434]\n"
     ]
    }
   ],
   "source": [
    "# 라벨은 몇번 그룹인지 뜻합니다. \n",
    "# return_counts=True 를 해서 몇개의 샘플이 몇번 그룹에 할당되었는지 확인해요\n",
    "lbl, cnt = np.unique(kmeans.labels_,return_counts=True) \n",
    "print(lbl) # 0번 그룹, 1번 그룹으로 나뉘어졌네요\n",
    "print(cnt)"
   ]
  },
  {
   "cell_type": "code",
   "execution_count": 46,
   "metadata": {
    "ExecuteTime": {
     "end_time": "2020-10-26T08:20:27.683846Z",
     "start_time": "2020-10-26T08:20:27.378248Z"
    }
   },
   "outputs": [
    {
     "data": {
      "text/plain": [
       "['group:0-count:1002',\n",
       " 'group:1-count:535',\n",
       " 'group:2-count:47',\n",
       " 'group:3-count:2',\n",
       " 'group:4-count:336',\n",
       " 'group:5-count:868',\n",
       " 'group:6-count:210',\n",
       " 'group:7-count:820',\n",
       " 'group:8-count:8',\n",
       " 'group:9-count:142',\n",
       " 'group:10-count:1007',\n",
       " 'group:11-count:55',\n",
       " 'group:12-count:2',\n",
       " 'group:13-count:591',\n",
       " 'group:14-count:67']"
      ]
     },
     "execution_count": 46,
     "metadata": {},
     "output_type": "execute_result"
    }
   ],
   "source": [
    "from sklearn.cluster import KMeans\n",
    "\n",
    "kmeans = KMeans(n_clusters=15, random_state=0).fit(norm_rdf)\n",
    "lbl, cnt = np.unique(kmeans.labels_,return_counts=True,)\n",
    "['group:{}-count:{}'.format(group, count) for group, count in zip(lbl, cnt)]"
   ]
  },
  {
   "cell_type": "code",
   "execution_count": 47,
   "metadata": {
    "ExecuteTime": {
     "end_time": "2020-10-26T08:21:18.573581Z",
     "start_time": "2020-10-26T08:21:18.562458Z"
    }
   },
   "outputs": [
    {
     "data": {
      "text/html": [
       "<div>\n",
       "<style scoped>\n",
       "    .dataframe tbody tr th:only-of-type {\n",
       "        vertical-align: middle;\n",
       "    }\n",
       "\n",
       "    .dataframe tbody tr th {\n",
       "        vertical-align: top;\n",
       "    }\n",
       "\n",
       "    .dataframe thead th {\n",
       "        text-align: right;\n",
       "    }\n",
       "</style>\n",
       "<table border=\"1\" class=\"dataframe\">\n",
       "  <thead>\n",
       "    <tr style=\"text-align: right;\">\n",
       "      <th></th>\n",
       "      <th>Date</th>\n",
       "      <th>Open</th>\n",
       "      <th>High</th>\n",
       "      <th>Low</th>\n",
       "      <th>Close</th>\n",
       "      <th>Adj Close</th>\n",
       "      <th>Volume</th>\n",
       "    </tr>\n",
       "  </thead>\n",
       "  <tbody>\n",
       "    <tr>\n",
       "      <th>0</th>\n",
       "      <td>1997-07-01</td>\n",
       "      <td>744.979980</td>\n",
       "      <td>760.520020</td>\n",
       "      <td>744.669983</td>\n",
       "      <td>758.030029</td>\n",
       "      <td>758.030029</td>\n",
       "      <td>0.0</td>\n",
       "    </tr>\n",
       "    <tr>\n",
       "      <th>27</th>\n",
       "      <td>1997-08-08</td>\n",
       "      <td>745.969971</td>\n",
       "      <td>752.010010</td>\n",
       "      <td>745.909973</td>\n",
       "      <td>752.010010</td>\n",
       "      <td>752.010010</td>\n",
       "      <td>0.0</td>\n",
       "    </tr>\n",
       "    <tr>\n",
       "      <th>41</th>\n",
       "      <td>1997-08-29</td>\n",
       "      <td>714.969971</td>\n",
       "      <td>718.609985</td>\n",
       "      <td>704.270020</td>\n",
       "      <td>704.270020</td>\n",
       "      <td>704.270020</td>\n",
       "      <td>0.0</td>\n",
       "    </tr>\n",
       "    <tr>\n",
       "      <th>46</th>\n",
       "      <td>1997-09-05</td>\n",
       "      <td>688.039978</td>\n",
       "      <td>701.359985</td>\n",
       "      <td>686.989990</td>\n",
       "      <td>700.919983</td>\n",
       "      <td>700.919983</td>\n",
       "      <td>0.0</td>\n",
       "    </tr>\n",
       "    <tr>\n",
       "      <th>47</th>\n",
       "      <td>1997-09-08</td>\n",
       "      <td>703.460022</td>\n",
       "      <td>703.650024</td>\n",
       "      <td>696.049988</td>\n",
       "      <td>697.979980</td>\n",
       "      <td>697.979980</td>\n",
       "      <td>0.0</td>\n",
       "    </tr>\n",
       "    <tr>\n",
       "      <th>...</th>\n",
       "      <td>...</td>\n",
       "      <td>...</td>\n",
       "      <td>...</td>\n",
       "      <td>...</td>\n",
       "      <td>...</td>\n",
       "      <td>...</td>\n",
       "      <td>...</td>\n",
       "    </tr>\n",
       "    <tr>\n",
       "      <th>5649</th>\n",
       "      <td>2020-06-16</td>\n",
       "      <td>2091.090088</td>\n",
       "      <td>2138.080078</td>\n",
       "      <td>2079.020020</td>\n",
       "      <td>2138.050049</td>\n",
       "      <td>2138.050049</td>\n",
       "      <td>973300.0</td>\n",
       "    </tr>\n",
       "    <tr>\n",
       "      <th>5653</th>\n",
       "      <td>2020-06-22</td>\n",
       "      <td>2126.379883</td>\n",
       "      <td>2142.879883</td>\n",
       "      <td>2122.100098</td>\n",
       "      <td>2126.729980</td>\n",
       "      <td>2126.729980</td>\n",
       "      <td>789400.0</td>\n",
       "    </tr>\n",
       "    <tr>\n",
       "      <th>5654</th>\n",
       "      <td>2020-06-23</td>\n",
       "      <td>2149.129883</td>\n",
       "      <td>2158.149902</td>\n",
       "      <td>2110.510010</td>\n",
       "      <td>2131.239990</td>\n",
       "      <td>2131.239990</td>\n",
       "      <td>917600.0</td>\n",
       "    </tr>\n",
       "    <tr>\n",
       "      <th>5677</th>\n",
       "      <td>2020-07-24</td>\n",
       "      <td>2196.729980</td>\n",
       "      <td>2219.570068</td>\n",
       "      <td>2195.489990</td>\n",
       "      <td>2200.439941</td>\n",
       "      <td>2200.439941</td>\n",
       "      <td>1001000.0</td>\n",
       "    </tr>\n",
       "    <tr>\n",
       "      <th>5686</th>\n",
       "      <td>2020-08-06</td>\n",
       "      <td>2322.639893</td>\n",
       "      <td>2352.479980</td>\n",
       "      <td>2322.639893</td>\n",
       "      <td>2342.610107</td>\n",
       "      <td>2342.610107</td>\n",
       "      <td>797000.0</td>\n",
       "    </tr>\n",
       "  </tbody>\n",
       "</table>\n",
       "<p>1151 rows × 7 columns</p>\n",
       "</div>"
      ],
      "text/plain": [
       "           Date         Open         High          Low        Close  \\\n",
       "0    1997-07-01   744.979980   760.520020   744.669983   758.030029   \n",
       "27   1997-08-08   745.969971   752.010010   745.909973   752.010010   \n",
       "41   1997-08-29   714.969971   718.609985   704.270020   704.270020   \n",
       "46   1997-09-05   688.039978   701.359985   686.989990   700.919983   \n",
       "47   1997-09-08   703.460022   703.650024   696.049988   697.979980   \n",
       "...         ...          ...          ...          ...          ...   \n",
       "5649 2020-06-16  2091.090088  2138.080078  2079.020020  2138.050049   \n",
       "5653 2020-06-22  2126.379883  2142.879883  2122.100098  2126.729980   \n",
       "5654 2020-06-23  2149.129883  2158.149902  2110.510010  2131.239990   \n",
       "5677 2020-07-24  2196.729980  2219.570068  2195.489990  2200.439941   \n",
       "5686 2020-08-06  2322.639893  2352.479980  2322.639893  2342.610107   \n",
       "\n",
       "        Adj Close     Volume  \n",
       "0      758.030029        0.0  \n",
       "27     752.010010        0.0  \n",
       "41     704.270020        0.0  \n",
       "46     700.919983        0.0  \n",
       "47     697.979980        0.0  \n",
       "...           ...        ...  \n",
       "5649  2138.050049   973300.0  \n",
       "5653  2126.729980   789400.0  \n",
       "5654  2131.239990   917600.0  \n",
       "5677  2200.439941  1001000.0  \n",
       "5686  2342.610107   797000.0  \n",
       "\n",
       "[1151 rows x 7 columns]"
      ]
     },
     "execution_count": 47,
     "metadata": {},
     "output_type": "execute_result"
    }
   ],
   "source": [
    "# 꼭 여러분들의 분류 결과에서 특이 그룹으로 분류된 그룹 번호로 바꿔 주세요. \n",
    "df[(kmeans.labels_==3)|(kmeans.labels_==9)|(kmeans.labels_==10)]"
   ]
  },
  {
   "cell_type": "code",
   "execution_count": 48,
   "metadata": {
    "ExecuteTime": {
     "end_time": "2020-10-26T08:21:32.403420Z",
     "start_time": "2020-10-26T08:21:32.385716Z"
    }
   },
   "outputs": [
    {
     "data": {
      "text/html": [
       "<div>\n",
       "<style scoped>\n",
       "    .dataframe tbody tr th:only-of-type {\n",
       "        vertical-align: middle;\n",
       "    }\n",
       "\n",
       "    .dataframe tbody tr th {\n",
       "        vertical-align: top;\n",
       "    }\n",
       "\n",
       "    .dataframe thead th {\n",
       "        text-align: right;\n",
       "    }\n",
       "</style>\n",
       "<table border=\"1\" class=\"dataframe\">\n",
       "  <thead>\n",
       "    <tr style=\"text-align: right;\">\n",
       "      <th></th>\n",
       "      <th>Open</th>\n",
       "      <th>High</th>\n",
       "      <th>Low</th>\n",
       "      <th>Close</th>\n",
       "      <th>Adj Close</th>\n",
       "      <th>Volume</th>\n",
       "    </tr>\n",
       "  </thead>\n",
       "  <tbody>\n",
       "    <tr>\n",
       "      <th>count</th>\n",
       "      <td>5692.000000</td>\n",
       "      <td>5692.000000</td>\n",
       "      <td>5692.000000</td>\n",
       "      <td>5692.000000</td>\n",
       "      <td>5692.000000</td>\n",
       "      <td>5.692000e+03</td>\n",
       "    </tr>\n",
       "    <tr>\n",
       "      <th>mean</th>\n",
       "      <td>1462.901104</td>\n",
       "      <td>1471.908189</td>\n",
       "      <td>1451.636816</td>\n",
       "      <td>1462.175989</td>\n",
       "      <td>1462.175989</td>\n",
       "      <td>4.329776e+06</td>\n",
       "    </tr>\n",
       "    <tr>\n",
       "      <th>std</th>\n",
       "      <td>627.457157</td>\n",
       "      <td>627.898094</td>\n",
       "      <td>625.928464</td>\n",
       "      <td>627.087928</td>\n",
       "      <td>627.087928</td>\n",
       "      <td>1.351615e+07</td>\n",
       "    </tr>\n",
       "    <tr>\n",
       "      <th>min</th>\n",
       "      <td>283.410004</td>\n",
       "      <td>291.010010</td>\n",
       "      <td>277.369995</td>\n",
       "      <td>280.000000</td>\n",
       "      <td>280.000000</td>\n",
       "      <td>0.000000e+00</td>\n",
       "    </tr>\n",
       "    <tr>\n",
       "      <th>25%</th>\n",
       "      <td>827.972473</td>\n",
       "      <td>836.750000</td>\n",
       "      <td>815.689987</td>\n",
       "      <td>826.737503</td>\n",
       "      <td>826.737503</td>\n",
       "      <td>3.126000e+05</td>\n",
       "    </tr>\n",
       "    <tr>\n",
       "      <th>50%</th>\n",
       "      <td>1652.270019</td>\n",
       "      <td>1658.365051</td>\n",
       "      <td>1633.690002</td>\n",
       "      <td>1646.915039</td>\n",
       "      <td>1646.915039</td>\n",
       "      <td>4.103000e+05</td>\n",
       "    </tr>\n",
       "    <tr>\n",
       "      <th>75%</th>\n",
       "      <td>1999.605011</td>\n",
       "      <td>2006.892517</td>\n",
       "      <td>1988.862488</td>\n",
       "      <td>1997.255005</td>\n",
       "      <td>1997.255005</td>\n",
       "      <td>6.145500e+05</td>\n",
       "    </tr>\n",
       "    <tr>\n",
       "      <th>max</th>\n",
       "      <td>2590.409912</td>\n",
       "      <td>2607.100098</td>\n",
       "      <td>2587.550049</td>\n",
       "      <td>2598.189941</td>\n",
       "      <td>2598.189941</td>\n",
       "      <td>4.071570e+08</td>\n",
       "    </tr>\n",
       "  </tbody>\n",
       "</table>\n",
       "</div>"
      ],
      "text/plain": [
       "              Open         High          Low        Close    Adj Close  \\\n",
       "count  5692.000000  5692.000000  5692.000000  5692.000000  5692.000000   \n",
       "mean   1462.901104  1471.908189  1451.636816  1462.175989  1462.175989   \n",
       "std     627.457157   627.898094   625.928464   627.087928   627.087928   \n",
       "min     283.410004   291.010010   277.369995   280.000000   280.000000   \n",
       "25%     827.972473   836.750000   815.689987   826.737503   826.737503   \n",
       "50%    1652.270019  1658.365051  1633.690002  1646.915039  1646.915039   \n",
       "75%    1999.605011  2006.892517  1988.862488  1997.255005  1997.255005   \n",
       "max    2590.409912  2607.100098  2587.550049  2598.189941  2598.189941   \n",
       "\n",
       "             Volume  \n",
       "count  5.692000e+03  \n",
       "mean   4.329776e+06  \n",
       "std    1.351615e+07  \n",
       "min    0.000000e+00  \n",
       "25%    3.126000e+05  \n",
       "50%    4.103000e+05  \n",
       "75%    6.145500e+05  \n",
       "max    4.071570e+08  "
      ]
     },
     "execution_count": 48,
     "metadata": {},
     "output_type": "execute_result"
    }
   ],
   "source": [
    "df.describe()"
   ]
  },
  {
   "cell_type": "code",
   "execution_count": 49,
   "metadata": {
    "ExecuteTime": {
     "end_time": "2020-10-26T08:21:37.022106Z",
     "start_time": "2020-10-26T08:21:37.010546Z"
    }
   },
   "outputs": [
    {
     "data": {
      "text/html": [
       "<div>\n",
       "<style scoped>\n",
       "    .dataframe tbody tr th:only-of-type {\n",
       "        vertical-align: middle;\n",
       "    }\n",
       "\n",
       "    .dataframe tbody tr th {\n",
       "        vertical-align: top;\n",
       "    }\n",
       "\n",
       "    .dataframe thead th {\n",
       "        text-align: right;\n",
       "    }\n",
       "</style>\n",
       "<table border=\"1\" class=\"dataframe\">\n",
       "  <thead>\n",
       "    <tr style=\"text-align: right;\">\n",
       "      <th></th>\n",
       "      <th>Date</th>\n",
       "      <th>Open</th>\n",
       "      <th>High</th>\n",
       "      <th>Low</th>\n",
       "      <th>Close</th>\n",
       "      <th>Adj Close</th>\n",
       "      <th>Volume</th>\n",
       "    </tr>\n",
       "  </thead>\n",
       "  <tbody>\n",
       "    <tr>\n",
       "      <th>1660</th>\n",
       "      <td>2004-04-09</td>\n",
       "      <td>910.479980</td>\n",
       "      <td>910.479980</td>\n",
       "      <td>901.239990</td>\n",
       "      <td>905.440002</td>\n",
       "      <td>905.440002</td>\n",
       "      <td>352200.0</td>\n",
       "    </tr>\n",
       "    <tr>\n",
       "      <th>1661</th>\n",
       "      <td>2004-04-12</td>\n",
       "      <td>905.440002</td>\n",
       "      <td>926.070007</td>\n",
       "      <td>905.440002</td>\n",
       "      <td>918.859985</td>\n",
       "      <td>918.859985</td>\n",
       "      <td>366200.0</td>\n",
       "    </tr>\n",
       "    <tr>\n",
       "      <th>1662</th>\n",
       "      <td>2004-04-13</td>\n",
       "      <td>925.190002</td>\n",
       "      <td>927.669983</td>\n",
       "      <td>916.200012</td>\n",
       "      <td>917.630005</td>\n",
       "      <td>917.630005</td>\n",
       "      <td>469000.0</td>\n",
       "    </tr>\n",
       "    <tr>\n",
       "      <th>1663</th>\n",
       "      <td>2004-04-14</td>\n",
       "      <td>909.950012</td>\n",
       "      <td>919.380005</td>\n",
       "      <td>907.359985</td>\n",
       "      <td>916.309998</td>\n",
       "      <td>916.309998</td>\n",
       "      <td>407157000.0</td>\n",
       "    </tr>\n",
       "    <tr>\n",
       "      <th>1664</th>\n",
       "      <td>2004-04-16</td>\n",
       "      <td>903.840027</td>\n",
       "      <td>908.719971</td>\n",
       "      <td>897.729980</td>\n",
       "      <td>898.880005</td>\n",
       "      <td>898.880005</td>\n",
       "      <td>391800.0</td>\n",
       "    </tr>\n",
       "    <tr>\n",
       "      <th>1665</th>\n",
       "      <td>2004-04-19</td>\n",
       "      <td>900.479980</td>\n",
       "      <td>902.099976</td>\n",
       "      <td>891.270020</td>\n",
       "      <td>902.099976</td>\n",
       "      <td>902.099976</td>\n",
       "      <td>476200.0</td>\n",
       "    </tr>\n",
       "    <tr>\n",
       "      <th>1666</th>\n",
       "      <td>2004-04-20</td>\n",
       "      <td>909.909973</td>\n",
       "      <td>919.130005</td>\n",
       "      <td>902.469971</td>\n",
       "      <td>918.900024</td>\n",
       "      <td>918.900024</td>\n",
       "      <td>456800.0</td>\n",
       "    </tr>\n",
       "    <tr>\n",
       "      <th>1667</th>\n",
       "      <td>2004-04-21</td>\n",
       "      <td>910.679993</td>\n",
       "      <td>931.210022</td>\n",
       "      <td>910.679993</td>\n",
       "      <td>929.950012</td>\n",
       "      <td>929.950012</td>\n",
       "      <td>554000.0</td>\n",
       "    </tr>\n",
       "    <tr>\n",
       "      <th>1668</th>\n",
       "      <td>2004-04-22</td>\n",
       "      <td>931.090027</td>\n",
       "      <td>933.840027</td>\n",
       "      <td>921.969971</td>\n",
       "      <td>924.010010</td>\n",
       "      <td>924.010010</td>\n",
       "      <td>519800.0</td>\n",
       "    </tr>\n",
       "    <tr>\n",
       "      <th>1669</th>\n",
       "      <td>2004-04-23</td>\n",
       "      <td>938.250000</td>\n",
       "      <td>939.520020</td>\n",
       "      <td>929.799988</td>\n",
       "      <td>936.059998</td>\n",
       "      <td>936.059998</td>\n",
       "      <td>480400.0</td>\n",
       "    </tr>\n",
       "  </tbody>\n",
       "</table>\n",
       "</div>"
      ],
      "text/plain": [
       "           Date        Open        High         Low       Close   Adj Close  \\\n",
       "1660 2004-04-09  910.479980  910.479980  901.239990  905.440002  905.440002   \n",
       "1661 2004-04-12  905.440002  926.070007  905.440002  918.859985  918.859985   \n",
       "1662 2004-04-13  925.190002  927.669983  916.200012  917.630005  917.630005   \n",
       "1663 2004-04-14  909.950012  919.380005  907.359985  916.309998  916.309998   \n",
       "1664 2004-04-16  903.840027  908.719971  897.729980  898.880005  898.880005   \n",
       "1665 2004-04-19  900.479980  902.099976  891.270020  902.099976  902.099976   \n",
       "1666 2004-04-20  909.909973  919.130005  902.469971  918.900024  918.900024   \n",
       "1667 2004-04-21  910.679993  931.210022  910.679993  929.950012  929.950012   \n",
       "1668 2004-04-22  931.090027  933.840027  921.969971  924.010010  924.010010   \n",
       "1669 2004-04-23  938.250000  939.520020  929.799988  936.059998  936.059998   \n",
       "\n",
       "           Volume  \n",
       "1660     352200.0  \n",
       "1661     366200.0  \n",
       "1662     469000.0  \n",
       "1663  407157000.0  \n",
       "1664     391800.0  \n",
       "1665     476200.0  \n",
       "1666     456800.0  \n",
       "1667     554000.0  \n",
       "1668     519800.0  \n",
       "1669     480400.0  "
      ]
     },
     "execution_count": 49,
     "metadata": {},
     "output_type": "execute_result"
    }
   ],
   "source": [
    "# 2004-04-14 주변 정황\n",
    "df.iloc[1660:1670]"
   ]
  },
  {
   "cell_type": "code",
   "execution_count": 55,
   "metadata": {
    "ExecuteTime": {
     "end_time": "2020-10-26T08:26:12.794822Z",
     "start_time": "2020-10-26T08:26:12.771266Z"
    },
    "scrolled": true
   },
   "outputs": [
    {
     "data": {
      "text/html": [
       "<div>\n",
       "<style scoped>\n",
       "    .dataframe tbody tr th:only-of-type {\n",
       "        vertical-align: middle;\n",
       "    }\n",
       "\n",
       "    .dataframe tbody tr th {\n",
       "        vertical-align: top;\n",
       "    }\n",
       "\n",
       "    .dataframe thead th {\n",
       "        text-align: right;\n",
       "    }\n",
       "</style>\n",
       "<table border=\"1\" class=\"dataframe\">\n",
       "  <thead>\n",
       "    <tr style=\"text-align: right;\">\n",
       "      <th></th>\n",
       "      <th>Open</th>\n",
       "      <th>High</th>\n",
       "      <th>Low</th>\n",
       "      <th>Close</th>\n",
       "      <th>Volume</th>\n",
       "    </tr>\n",
       "  </thead>\n",
       "  <tbody>\n",
       "    <tr>\n",
       "      <th>0</th>\n",
       "      <td>-0.082112</td>\n",
       "      <td>-0.092739</td>\n",
       "      <td>-0.078163</td>\n",
       "      <td>-0.087114</td>\n",
       "      <td>-0.063000</td>\n",
       "    </tr>\n",
       "    <tr>\n",
       "      <th>1</th>\n",
       "      <td>1.144757</td>\n",
       "      <td>1.164607</td>\n",
       "      <td>1.126808</td>\n",
       "      <td>1.133456</td>\n",
       "      <td>0.008482</td>\n",
       "    </tr>\n",
       "    <tr>\n",
       "      <th>2</th>\n",
       "      <td>-3.345688</td>\n",
       "      <td>-3.302405</td>\n",
       "      <td>-3.670760</td>\n",
       "      <td>-3.494020</td>\n",
       "      <td>0.004189</td>\n",
       "    </tr>\n",
       "    <tr>\n",
       "      <th>3</th>\n",
       "      <td>1.404885</td>\n",
       "      <td>1.474385</td>\n",
       "      <td>1.540287</td>\n",
       "      <td>1.527861</td>\n",
       "      <td>27.050550</td>\n",
       "    </tr>\n",
       "    <tr>\n",
       "      <th>4</th>\n",
       "      <td>-1.406206</td>\n",
       "      <td>-1.450260</td>\n",
       "      <td>-1.419465</td>\n",
       "      <td>-1.434598</td>\n",
       "      <td>-0.102974</td>\n",
       "    </tr>\n",
       "    <tr>\n",
       "      <th>5</th>\n",
       "      <td>-0.466282</td>\n",
       "      <td>-0.483060</td>\n",
       "      <td>-0.456106</td>\n",
       "      <td>-0.459764</td>\n",
       "      <td>-0.060207</td>\n",
       "    </tr>\n",
       "    <tr>\n",
       "      <th>6</th>\n",
       "      <td>1.765868</td>\n",
       "      <td>1.834539</td>\n",
       "      <td>1.780621</td>\n",
       "      <td>1.788096</td>\n",
       "      <td>0.117591</td>\n",
       "    </tr>\n",
       "    <tr>\n",
       "      <th>7</th>\n",
       "      <td>0.665708</td>\n",
       "      <td>0.683950</td>\n",
       "      <td>0.669692</td>\n",
       "      <td>0.672248</td>\n",
       "      <td>-0.025536</td>\n",
       "    </tr>\n",
       "    <tr>\n",
       "      <th>8</th>\n",
       "      <td>-7.397073</td>\n",
       "      <td>-6.966336</td>\n",
       "      <td>-7.659620</td>\n",
       "      <td>-7.181657</td>\n",
       "      <td>-0.037365</td>\n",
       "    </tr>\n",
       "    <tr>\n",
       "      <th>9</th>\n",
       "      <td>-2.175945</td>\n",
       "      <td>-2.210252</td>\n",
       "      <td>-2.189755</td>\n",
       "      <td>-2.158304</td>\n",
       "      <td>-0.121632</td>\n",
       "    </tr>\n",
       "    <tr>\n",
       "      <th>10</th>\n",
       "      <td>0.278426</td>\n",
       "      <td>0.276939</td>\n",
       "      <td>0.280702</td>\n",
       "      <td>0.271586</td>\n",
       "      <td>-0.043831</td>\n",
       "    </tr>\n",
       "    <tr>\n",
       "      <th>11</th>\n",
       "      <td>3.117230</td>\n",
       "      <td>3.101168</td>\n",
       "      <td>3.066813</td>\n",
       "      <td>3.021857</td>\n",
       "      <td>0.068130</td>\n",
       "    </tr>\n",
       "    <tr>\n",
       "      <th>12</th>\n",
       "      <td>0.684927</td>\n",
       "      <td>0.795780</td>\n",
       "      <td>0.803087</td>\n",
       "      <td>0.852334</td>\n",
       "      <td>41.913921</td>\n",
       "    </tr>\n",
       "    <tr>\n",
       "      <th>13</th>\n",
       "      <td>-0.909744</td>\n",
       "      <td>-0.919747</td>\n",
       "      <td>-0.883751</td>\n",
       "      <td>-0.879517</td>\n",
       "      <td>-0.074430</td>\n",
       "    </tr>\n",
       "    <tr>\n",
       "      <th>14</th>\n",
       "      <td>0.437415</td>\n",
       "      <td>0.543176</td>\n",
       "      <td>0.421268</td>\n",
       "      <td>0.457115</td>\n",
       "      <td>1.569498</td>\n",
       "    </tr>\n",
       "  </tbody>\n",
       "</table>\n",
       "</div>"
      ],
      "text/plain": [
       "        Open      High       Low     Close     Volume\n",
       "0  -0.082112 -0.092739 -0.078163 -0.087114  -0.063000\n",
       "1   1.144757  1.164607  1.126808  1.133456   0.008482\n",
       "2  -3.345688 -3.302405 -3.670760 -3.494020   0.004189\n",
       "3   1.404885  1.474385  1.540287  1.527861  27.050550\n",
       "4  -1.406206 -1.450260 -1.419465 -1.434598  -0.102974\n",
       "5  -0.466282 -0.483060 -0.456106 -0.459764  -0.060207\n",
       "6   1.765868  1.834539  1.780621  1.788096   0.117591\n",
       "7   0.665708  0.683950  0.669692  0.672248  -0.025536\n",
       "8  -7.397073 -6.966336 -7.659620 -7.181657  -0.037365\n",
       "9  -2.175945 -2.210252 -2.189755 -2.158304  -0.121632\n",
       "10  0.278426  0.276939  0.280702  0.271586  -0.043831\n",
       "11  3.117230  3.101168  3.066813  3.021857   0.068130\n",
       "12  0.684927  0.795780  0.803087  0.852334  41.913921\n",
       "13 -0.909744 -0.919747 -0.883751 -0.879517  -0.074430\n",
       "14  0.437415  0.543176  0.421268  0.457115   1.569498"
      ]
     },
     "execution_count": 55,
     "metadata": {},
     "output_type": "execute_result"
    }
   ],
   "source": [
    "# 각 그룹의 중심부는 어떤 값을 가지고 있는지 확인해보겠습니다.\n",
    "pd.DataFrame(kmeans.cluster_centers_, columns=['Open','High','Low','Close','Volume'])"
   ]
  },
  {
   "cell_type": "code",
   "execution_count": 57,
   "metadata": {
    "ExecuteTime": {
     "end_time": "2020-10-26T08:26:24.838239Z",
     "start_time": "2020-10-26T08:26:24.818860Z"
    }
   },
   "outputs": [
    {
     "data": {
      "text/html": [
       "<div>\n",
       "<style scoped>\n",
       "    .dataframe tbody tr th:only-of-type {\n",
       "        vertical-align: middle;\n",
       "    }\n",
       "\n",
       "    .dataframe tbody tr th {\n",
       "        vertical-align: top;\n",
       "    }\n",
       "\n",
       "    .dataframe thead th {\n",
       "        text-align: right;\n",
       "    }\n",
       "</style>\n",
       "<table border=\"1\" class=\"dataframe\">\n",
       "  <thead>\n",
       "    <tr style=\"text-align: right;\">\n",
       "      <th></th>\n",
       "      <th>Open</th>\n",
       "      <th>High</th>\n",
       "      <th>Low</th>\n",
       "      <th>Close</th>\n",
       "      <th>Adj Close</th>\n",
       "      <th>Volume</th>\n",
       "    </tr>\n",
       "  </thead>\n",
       "  <tbody>\n",
       "    <tr>\n",
       "      <th>count</th>\n",
       "      <td>5692.000000</td>\n",
       "      <td>5692.000000</td>\n",
       "      <td>5692.000000</td>\n",
       "      <td>5692.000000</td>\n",
       "      <td>5692.000000</td>\n",
       "      <td>5.692000e+03</td>\n",
       "    </tr>\n",
       "    <tr>\n",
       "      <th>mean</th>\n",
       "      <td>1462.901104</td>\n",
       "      <td>1471.908189</td>\n",
       "      <td>1451.636816</td>\n",
       "      <td>1462.175989</td>\n",
       "      <td>1462.175989</td>\n",
       "      <td>4.329776e+06</td>\n",
       "    </tr>\n",
       "    <tr>\n",
       "      <th>std</th>\n",
       "      <td>627.457157</td>\n",
       "      <td>627.898094</td>\n",
       "      <td>625.928464</td>\n",
       "      <td>627.087928</td>\n",
       "      <td>627.087928</td>\n",
       "      <td>1.351615e+07</td>\n",
       "    </tr>\n",
       "    <tr>\n",
       "      <th>min</th>\n",
       "      <td>283.410004</td>\n",
       "      <td>291.010010</td>\n",
       "      <td>277.369995</td>\n",
       "      <td>280.000000</td>\n",
       "      <td>280.000000</td>\n",
       "      <td>0.000000e+00</td>\n",
       "    </tr>\n",
       "    <tr>\n",
       "      <th>25%</th>\n",
       "      <td>827.972473</td>\n",
       "      <td>836.750000</td>\n",
       "      <td>815.689987</td>\n",
       "      <td>826.737503</td>\n",
       "      <td>826.737503</td>\n",
       "      <td>3.126000e+05</td>\n",
       "    </tr>\n",
       "    <tr>\n",
       "      <th>50%</th>\n",
       "      <td>1652.270019</td>\n",
       "      <td>1658.365051</td>\n",
       "      <td>1633.690002</td>\n",
       "      <td>1646.915039</td>\n",
       "      <td>1646.915039</td>\n",
       "      <td>4.103000e+05</td>\n",
       "    </tr>\n",
       "    <tr>\n",
       "      <th>75%</th>\n",
       "      <td>1999.605011</td>\n",
       "      <td>2006.892517</td>\n",
       "      <td>1988.862488</td>\n",
       "      <td>1997.255005</td>\n",
       "      <td>1997.255005</td>\n",
       "      <td>6.145500e+05</td>\n",
       "    </tr>\n",
       "    <tr>\n",
       "      <th>max</th>\n",
       "      <td>2590.409912</td>\n",
       "      <td>2607.100098</td>\n",
       "      <td>2587.550049</td>\n",
       "      <td>2598.189941</td>\n",
       "      <td>2598.189941</td>\n",
       "      <td>4.071570e+08</td>\n",
       "    </tr>\n",
       "  </tbody>\n",
       "</table>\n",
       "</div>"
      ],
      "text/plain": [
       "              Open         High          Low        Close    Adj Close  \\\n",
       "count  5692.000000  5692.000000  5692.000000  5692.000000  5692.000000   \n",
       "mean   1462.901104  1471.908189  1451.636816  1462.175989  1462.175989   \n",
       "std     627.457157   627.898094   625.928464   627.087928   627.087928   \n",
       "min     283.410004   291.010010   277.369995   280.000000   280.000000   \n",
       "25%     827.972473   836.750000   815.689987   826.737503   826.737503   \n",
       "50%    1652.270019  1658.365051  1633.690002  1646.915039  1646.915039   \n",
       "75%    1999.605011  2006.892517  1988.862488  1997.255005  1997.255005   \n",
       "max    2590.409912  2607.100098  2587.550049  2598.189941  2598.189941   \n",
       "\n",
       "             Volume  \n",
       "count  5.692000e+03  \n",
       "mean   4.329776e+06  \n",
       "std    1.351615e+07  \n",
       "min    0.000000e+00  \n",
       "25%    3.126000e+05  \n",
       "50%    4.103000e+05  \n",
       "75%    6.145500e+05  \n",
       "max    4.071570e+08  "
      ]
     },
     "execution_count": 57,
     "metadata": {},
     "output_type": "execute_result"
    }
   ],
   "source": [
    "df.describe()"
   ]
  },
  {
   "cell_type": "code",
   "execution_count": 51,
   "metadata": {
    "ExecuteTime": {
     "end_time": "2020-10-26T08:25:07.403157Z",
     "start_time": "2020-10-26T08:25:07.261064Z"
    }
   },
   "outputs": [
    {
     "data": {
      "image/png": "[encoded data removed]",
      "text/plain": [
       "<Figure size 1080x648 with 1 Axes>"
      ]
     },
     "metadata": {
      "needs_background": "light"
     },
     "output_type": "display_data"
    }
   ],
   "source": [
    "fig = plt.figure(figsize=(15,9))\n",
    "ax = fig.add_subplot(111)\n",
    "df.Close.plot(ax=ax, label='Observed', legend=True)\n",
    "tdf.Close.plot(ax=ax, label='Trend', legend=True)\n",
    "rdf.Close.plot(ax=ax,label='Resid', legend=True)\n",
    "plt.show()"
   ]
  },
  {
   "cell_type": "markdown",
   "metadata": {},
   "source": [
    "## recap\n",
    "\n",
    "- 우리는 Unsupervised Learning 중에서 K-means 알고리즘을 이용해서 Anomaly Detection을 해봤어요\n",
    "\n",
    "- 소수그룹이 형성될 만큼 충분한 그룹수로 클러스터링 한다\n",
    "- 소수그룹의 특징을 분석한다\n",
    "- 해당 소수그룹들이 이상치인지 추론해본다."
   ]
  },
  {
   "cell_type": "markdown",
   "metadata": {},
   "source": [
    "## dbscan`"
   ]
  },
  {
   "cell_type": "code",
   "execution_count": 58,
   "metadata": {
    "ExecuteTime": {
     "end_time": "2020-10-26T08:30:10.889786Z",
     "start_time": "2020-10-26T08:30:10.600645Z"
    }
   },
   "outputs": [
    {
     "data": {
      "text/plain": [
       "DBSCAN(eps=0.7, min_samples=2)"
      ]
     },
     "execution_count": 58,
     "metadata": {},
     "output_type": "execute_result"
    }
   ],
   "source": [
    "from sklearn.cluster import DBSCAN\n",
    "clustering = DBSCAN(eps=0.7, min_samples=2).fit(norm_rdf)\n",
    "clustering"
   ]
  },
  {
   "cell_type": "code",
   "execution_count": 59,
   "metadata": {
    "ExecuteTime": {
     "end_time": "2020-10-26T08:30:15.896208Z",
     "start_time": "2020-10-26T08:30:15.893330Z"
    }
   },
   "outputs": [
    {
     "name": "stdout",
     "output_type": "stream",
     "text": [
      "[0 0 0 ... 0 0 0]\n"
     ]
    }
   ],
   "source": [
    "# 분류된 라벨들은 이렇게 확인할 수 있어요\n",
    "print(clustering.labels_)"
   ]
  },
  {
   "cell_type": "code",
   "execution_count": 60,
   "metadata": {
    "ExecuteTime": {
     "end_time": "2020-10-26T08:30:24.077986Z",
     "start_time": "2020-10-26T08:30:24.072156Z"
    }
   },
   "outputs": [
    {
     "data": {
      "text/plain": [
       "['group:-1-count:41',\n",
       " 'group:0-count:5646',\n",
       " 'group:1-count:3',\n",
       " 'group:2-count:2']"
      ]
     },
     "execution_count": 60,
     "metadata": {},
     "output_type": "execute_result"
    }
   ],
   "source": [
    "lbl, cnt = np.unique(clustering.labels_,return_counts=True)\n",
    "['group:{}-count:{}'.format(group, count) for group, count in zip(lbl, cnt)]"
   ]
  },
  {
   "cell_type": "markdown",
   "metadata": {},
   "source": [
    "## Auto-Encoder"
   ]
  },
  {
   "cell_type": "code",
   "execution_count": 61,
   "metadata": {
    "ExecuteTime": {
     "end_time": "2020-10-26T08:33:32.432780Z",
     "start_time": "2020-10-26T08:33:32.430794Z"
    }
   },
   "outputs": [],
   "source": [
    "##library import "
   ]
  },
  {
   "cell_type": "code",
   "execution_count": 62,
   "metadata": {
    "ExecuteTime": {
     "end_time": "2020-10-26T08:34:21.255655Z",
     "start_time": "2020-10-26T08:34:21.250341Z"
    }
   },
   "outputs": [],
   "source": [
    "# 필요한 라이브러리를 불러옵니다\n",
    "\n",
    "import tensorflow as tf\n",
    "from tensorflow.keras.preprocessing.sequence import TimeseriesGenerator\n",
    "from tensorflow.keras.models import Sequential\n",
    "from tensorflow.keras.layers import Dense, Dropout, LSTM, RepeatVector, TimeDistributed\n",
    "from tensorflow.keras.losses import Huber\n",
    "from tensorflow.keras.callbacks import ModelCheckpoint, EarlyStopping"
   ]
  },
  {
   "cell_type": "code",
   "execution_count": 63,
   "metadata": {
    "ExecuteTime": {
     "end_time": "2020-10-26T08:34:38.226065Z",
     "start_time": "2020-10-26T08:34:38.218202Z"
    }
   },
   "outputs": [],
   "source": [
    "# 모델 재현성을 위해 난수 시드설정을 해줍니다\n",
    "tf.random.set_seed(777)\n",
    "np.random.seed(777)"
   ]
  },
  {
   "cell_type": "markdown",
   "metadata": {},
   "source": [
    "### #LSTM 을 이용한 오토인코더 모델"
   ]
  },
  {
   "cell_type": "code",
   "execution_count": 64,
   "metadata": {
    "ExecuteTime": {
     "end_time": "2020-10-26T08:35:15.181368Z",
     "start_time": "2020-10-26T08:35:15.172080Z"
    }
   },
   "outputs": [],
   "source": [
    "from sklearn.preprocessing import StandardScaler\n",
    "\n",
    "# 데이터 전처리 - 하이퍼 파라미터\n",
    "window_size = 10\n",
    "batch_size = 32\n",
    "features = ['Open','High','Low','Close','Volume']\n",
    "n_features = len(features)\n",
    "TRAIN_SIZE = int(len(df)*0.7)\n",
    "\n",
    "# 데이터 전처리\n",
    "# 표준정규분포화합니다.\n",
    "\n",
    "scaler = StandardScaler()\n",
    "scaler = scaler.fit(df.loc[:TRAIN_SIZE,features].values)\n",
    "scaled = scaler.transform(df[features].values)"
   ]
  },
  {
   "cell_type": "markdown",
   "metadata": {},
   "source": [
    "- keras TimeseriesGenerato\n",
    "- data : 입력데이터(x)를 넣어줍니다. 우리는 'Open','High','Low','Close','Volume' 5가지 인풋을 사용합니다.\n",
    "\n",
    "- targets : 출력데이터를 넣어줍니다. 우리는 5가지 인풋 그대로 예측하기 때문에 data와 동일한걸 넣어줍니다.\n",
    "\n",
    "- length : 몇개의 time_step을 참고할지 입력합니다.\n",
    "\n",
    "- stride : time_step 사이즈를 결정합니다."
   ]
  },
  {
   "cell_type": "code",
   "execution_count": 65,
   "metadata": {
    "ExecuteTime": {
     "end_time": "2020-10-26T08:36:54.626858Z",
     "start_time": "2020-10-26T08:36:54.621955Z"
    }
   },
   "outputs": [
    {
     "name": "stdout",
     "output_type": "stream",
     "text": [
      "(32, 10, 5)\n",
      "(32, 5)\n"
     ]
    }
   ],
   "source": [
    "train_gen = TimeseriesGenerator(\n",
    "    data = scaled,\n",
    "    targets = scaled,\n",
    "    length = window_size,\n",
    "    stride=1,\n",
    "    sampling_rate=1,\n",
    "    batch_size= batch_size,\n",
    "    shuffle=False,\n",
    "    start_index=0,\n",
    "    end_index=None,\n",
    ")\n",
    "\n",
    "valid_gen = TimeseriesGenerator(\n",
    "    data = scaled,\n",
    "    targets = scaled,\n",
    "    length = window_size,\n",
    "    stride=1,\n",
    "    sampling_rate=1,\n",
    "    batch_size=batch_size,\n",
    "    shuffle=False,\n",
    "    start_index=TRAIN_SIZE,\n",
    "    end_index=None,\n",
    ")\n",
    "\n",
    "print(train_gen[0][0].shape)\n",
    "print(train_gen[0][1].shape)"
   ]
  },
  {
   "cell_type": "code",
   "execution_count": 66,
   "metadata": {
    "ExecuteTime": {
     "end_time": "2020-10-26T08:37:48.827995Z",
     "start_time": "2020-10-26T08:37:47.731880Z"
    }
   },
   "outputs": [
    {
     "name": "stdout",
     "output_type": "stream",
     "text": [
      "WARNING:tensorflow:Layer lstm will not use cuDNN kernel since it doesn't meet the cuDNN kernel criteria. It will use generic GPU kernel as fallback when running on GPU\n",
      "WARNING:tensorflow:Layer lstm_1 will not use cuDNN kernel since it doesn't meet the cuDNN kernel criteria. It will use generic GPU kernel as fallback when running on GPU\n",
      "WARNING:tensorflow:Layer lstm_2 will not use cuDNN kernel since it doesn't meet the cuDNN kernel criteria. It will use generic GPU kernel as fallback when running on GPU\n",
      "WARNING:tensorflow:Layer lstm_3 will not use cuDNN kernel since it doesn't meet the cuDNN kernel criteria. It will use generic GPU kernel as fallback when running on GPU\n",
      "Model: \"sequential\"\n",
      "_________________________________________________________________\n",
      "Layer (type)                 Output Shape              Param #   \n",
      "=================================================================\n",
      "lstm (LSTM)                  (None, 10, 64)            17920     \n",
      "_________________________________________________________________\n",
      "lstm_1 (LSTM)                (None, 16)                5184      \n",
      "_________________________________________________________________\n",
      "repeat_vector (RepeatVector) (None, 10, 16)            0         \n",
      "_________________________________________________________________\n",
      "lstm_2 (LSTM)                (None, 10, 16)            2112      \n",
      "_________________________________________________________________\n",
      "lstm_3 (LSTM)                (None, 64)                20736     \n",
      "_________________________________________________________________\n",
      "dense (Dense)                (None, 5)                 325       \n",
      "=================================================================\n",
      "Total params: 46,277\n",
      "Trainable params: 46,277\n",
      "Non-trainable params: 0\n",
      "_________________________________________________________________\n"
     ]
    }
   ],
   "source": [
    "### model define\n",
    "model = Sequential([\n",
    "    # >> 인코더 시작\n",
    "    LSTM(64, activation='relu', return_sequences=True, \n",
    "         input_shape=(window_size, n_features)),\n",
    "    LSTM(16, activation='relu', return_sequences=False),\n",
    "    ## << 인코더 끝\n",
    "    ## >> Bottleneck\n",
    "    RepeatVector(window_size),\n",
    "    ## << Bottleneck\n",
    "    ## >> 디코더 시작\n",
    "    LSTM(16, activation='relu', return_sequences=True),\n",
    "    LSTM(64, activation='relu', return_sequences=False),\n",
    "    Dense(n_features)\n",
    "    ## << 디코더 끝\n",
    "])\n",
    "\n",
    "model.summary()"
   ]
  },
  {
   "cell_type": "code",
   "execution_count": 67,
   "metadata": {
    "ExecuteTime": {
     "end_time": "2020-10-26T08:38:26.078065Z",
     "start_time": "2020-10-26T08:38:26.064590Z"
    }
   },
   "outputs": [],
   "source": [
    "# 체크포인트\n",
    "# 학습을 진행하며 validation 결과가 가장 좋은 모델을 저장해둠\n",
    "import os\n",
    "\n",
    "checkpoint_path = os.getenv('HOME')+'/aiffel/AIFFEL_LSG/lms/01-EXPLORATION/E20-Anomaly_Detection//kospi/mymodel.ckpt'\n",
    "checkpoint = ModelCheckpoint(checkpoint_path, \n",
    "                             save_weights_only=True, \n",
    "                             save_best_only=True, \n",
    "                             monitor='val_loss',\n",
    "                             verbose=1)\n",
    "\n",
    "# 얼리스탑\n",
    "# 학습을 진행하며 validation 결과가 나빠지면 스톱. patience 횟수만큼은 참고 지켜본다\n",
    "\n",
    "early_stop = EarlyStopping(monitor='val_loss', patience=5)\n",
    "\n",
    "model.compile(loss='mae', optimizer='adam',metrics=[\"mae\"])"
   ]
  },
  {
   "cell_type": "code",
   "execution_count": 68,
   "metadata": {
    "ExecuteTime": {
     "end_time": "2020-10-26T08:39:53.761236Z",
     "start_time": "2020-10-26T08:38:45.189945Z"
    }
   },
   "outputs": [
    {
     "name": "stdout",
     "output_type": "stream",
     "text": [
      "Epoch 1/50\n",
      "177/178 [============================>.] - ETA: 0s - loss: 0.5254 - mae: 0.5254\n",
      "Epoch 00001: val_loss improved from inf to 0.19406, saving model to /home/aiffel0042/aiffel/AIFFEL_LSG/lms/01-EXPLORATION/E20-Anomaly_Detection//kospi/mymodel.ckpt\n",
      "178/178 [==============================] - 6s 31ms/step - loss: 0.5230 - mae: 0.5230 - val_loss: 0.1941 - val_mae: 0.1941\n",
      "Epoch 2/50\n",
      "177/178 [============================>.] - ETA: 0s - loss: 0.1457 - mae: 0.1457\n",
      "Epoch 00002: val_loss improved from 0.19406 to 0.10638, saving model to /home/aiffel0042/aiffel/AIFFEL_LSG/lms/01-EXPLORATION/E20-Anomaly_Detection//kospi/mymodel.ckpt\n",
      "178/178 [==============================] - 6s 31ms/step - loss: 0.1469 - mae: 0.1469 - val_loss: 0.1064 - val_mae: 0.1064\n",
      "Epoch 3/50\n",
      "177/178 [============================>.] - ETA: 0s - loss: 0.1339 - mae: 0.1339\n",
      "Epoch 00003: val_loss improved from 0.10638 to 0.06993, saving model to /home/aiffel0042/aiffel/AIFFEL_LSG/lms/01-EXPLORATION/E20-Anomaly_Detection//kospi/mymodel.ckpt\n",
      "178/178 [==============================] - 5s 30ms/step - loss: 0.1334 - mae: 0.1334 - val_loss: 0.0699 - val_mae: 0.0699\n",
      "Epoch 4/50\n",
      "177/178 [============================>.] - ETA: 0s - loss: 0.1205 - mae: 0.1205\n",
      "Epoch 00004: val_loss improved from 0.06993 to 0.04907, saving model to /home/aiffel0042/aiffel/AIFFEL_LSG/lms/01-EXPLORATION/E20-Anomaly_Detection//kospi/mymodel.ckpt\n",
      "178/178 [==============================] - 5s 30ms/step - loss: 0.1201 - mae: 0.1201 - val_loss: 0.0491 - val_mae: 0.0491\n",
      "Epoch 5/50\n",
      "177/178 [============================>.] - ETA: 0s - loss: 0.1166 - mae: 0.1166\n",
      "Epoch 00005: val_loss did not improve from 0.04907\n",
      "178/178 [==============================] - 5s 29ms/step - loss: 0.1187 - mae: 0.1187 - val_loss: 0.0853 - val_mae: 0.0853\n",
      "Epoch 6/50\n",
      "177/178 [============================>.] - ETA: 0s - loss: 0.1442 - mae: 0.1442\n",
      "Epoch 00006: val_loss improved from 0.04907 to 0.04699, saving model to /home/aiffel0042/aiffel/AIFFEL_LSG/lms/01-EXPLORATION/E20-Anomaly_Detection//kospi/mymodel.ckpt\n",
      "178/178 [==============================] - 6s 31ms/step - loss: 0.1436 - mae: 0.1436 - val_loss: 0.0470 - val_mae: 0.0470\n",
      "Epoch 7/50\n",
      "177/178 [============================>.] - ETA: 0s - loss: 0.1081 - mae: 0.1081\n",
      "Epoch 00007: val_loss improved from 0.04699 to 0.03739, saving model to /home/aiffel0042/aiffel/AIFFEL_LSG/lms/01-EXPLORATION/E20-Anomaly_Detection//kospi/mymodel.ckpt\n",
      "178/178 [==============================] - 5s 31ms/step - loss: 0.1078 - mae: 0.1078 - val_loss: 0.0374 - val_mae: 0.0374\n",
      "Epoch 8/50\n",
      "177/178 [============================>.] - ETA: 0s - loss: 0.1091 - mae: 0.1091\n",
      "Epoch 00008: val_loss did not improve from 0.03739\n",
      "178/178 [==============================] - 6s 31ms/step - loss: 0.1087 - mae: 0.1087 - val_loss: 0.0501 - val_mae: 0.0501\n",
      "Epoch 9/50\n",
      "177/178 [============================>.] - ETA: 0s - loss: 0.1226 - mae: 0.1226\n",
      "Epoch 00009: val_loss did not improve from 0.03739\n",
      "178/178 [==============================] - 6s 31ms/step - loss: 0.1222 - mae: 0.1222 - val_loss: 0.0924 - val_mae: 0.0924\n",
      "Epoch 10/50\n",
      "177/178 [============================>.] - ETA: 0s - loss: 0.1181 - mae: 0.1181\n",
      "Epoch 00010: val_loss did not improve from 0.03739\n",
      "178/178 [==============================] - 5s 30ms/step - loss: 0.1176 - mae: 0.1176 - val_loss: 0.0416 - val_mae: 0.0416\n",
      "Epoch 11/50\n",
      "177/178 [============================>.] - ETA: 0s - loss: 0.1245 - mae: 0.1245\n",
      "Epoch 00011: val_loss did not improve from 0.03739\n",
      "178/178 [==============================] - 5s 30ms/step - loss: 0.1242 - mae: 0.1242 - val_loss: 0.1498 - val_mae: 0.1498\n",
      "Epoch 12/50\n",
      "177/178 [============================>.] - ETA: 0s - loss: 0.0875 - mae: 0.0875\n",
      "Epoch 00012: val_loss did not improve from 0.03739\n",
      "178/178 [==============================] - 6s 31ms/step - loss: 0.0874 - mae: 0.0874 - val_loss: 0.0775 - val_mae: 0.0775\n"
     ]
    }
   ],
   "source": [
    "# model fit \n",
    "hist = model.fit(train_gen, \n",
    "          validation_data=valid_gen,\n",
    "          steps_per_epoch=len(train_gen),\n",
    "          validation_steps=len(valid_gen),\n",
    "          epochs=50, \n",
    "          callbacks=[checkpoint, early_stop])"
   ]
  },
  {
   "cell_type": "code",
   "execution_count": 69,
   "metadata": {
    "ExecuteTime": {
     "end_time": "2020-10-26T08:39:53.851479Z",
     "start_time": "2020-10-26T08:39:53.809248Z"
    }
   },
   "outputs": [
    {
     "data": {
      "text/plain": [
       "<tensorflow.python.training.tracking.util.CheckpointLoadStatus at 0x7f99d8554f90>"
      ]
     },
     "execution_count": 69,
     "metadata": {},
     "output_type": "execute_result"
    }
   ],
   "source": [
    "model.load_weights(checkpoint_path)"
   ]
  },
  {
   "cell_type": "code",
   "execution_count": 75,
   "metadata": {
    "ExecuteTime": {
     "end_time": "2020-10-26T08:41:07.422094Z",
     "start_time": "2020-10-26T08:41:07.315649Z"
    }
   },
   "outputs": [
    {
     "data": {
      "text/plain": [
       "<matplotlib.legend.Legend at 0x7f99d83c3690>"
      ]
     },
     "execution_count": 75,
     "metadata": {},
     "output_type": "execute_result"
    },
    {
     "data": {
      "image/png": "[encoded data removed]",
      "text/plain": [
       "<Figure size 864x576 with 1 Axes>"
      ]
     },
     "metadata": {
      "needs_background": "light"
     },
     "output_type": "display_data"
    }
   ],
   "source": [
    "## 학습 과정 그래프\n",
    "fig = plt.figure(figsize=(12,8))\n",
    "plt.plot(hist.history['loss'], label='Training')\n",
    "plt.plot(hist.history['val_loss'], label='Validation')\n",
    "plt.legend()"
   ]
  },
  {
   "cell_type": "code",
   "execution_count": 76,
   "metadata": {
    "ExecuteTime": {
     "end_time": "2020-10-26T08:41:09.983460Z",
     "start_time": "2020-10-26T08:41:08.351535Z"
    }
   },
   "outputs": [
    {
     "data": {
      "image/png": "[encoded data removed]",
      "text/plain": [
       "<Figure size 648x432 with 1 Axes>"
      ]
     },
     "metadata": {
      "needs_background": "light"
     },
     "output_type": "display_data"
    }
   ],
   "source": [
    "# 예측 결과를 pred 로, 실적 데이터를 real로 받습니다\n",
    "pred = model.predict(train_gen)\n",
    "real = scaled[window_size:]\n",
    "\n",
    "mae_loss = np.mean(np.abs(pred-real), axis=1)\n",
    "\n",
    "# 샘플 개수가 많기 때문에 y축을 로그 스케일로 그립니다\n",
    "fig, ax = plt.subplots(figsize=(9,6))\n",
    "_ = plt.hist(mae_loss, 100, density=True, alpha=0.75, log=True)"
   ]
  },
  {
   "cell_type": "code",
   "execution_count": 71,
   "metadata": {
    "ExecuteTime": {
     "end_time": "2020-10-26T08:39:54.159276Z",
     "start_time": "2020-10-26T08:39:54.058785Z"
    }
   },
   "outputs": [
    {
     "data": {
      "text/plain": [
       "<matplotlib.legend.Legend at 0x7f99d84e1090>"
      ]
     },
     "execution_count": 71,
     "metadata": {},
     "output_type": "execute_result"
    },
    {
     "data": {
      "image/png": "[encoded data removed]",
      "text/plain": [
       "<Figure size 864x576 with 1 Axes>"
      ]
     },
     "metadata": {
      "needs_background": "light"
     },
     "output_type": "display_data"
    }
   ],
   "source": [
    "fig = plt.figure(figsize=(12,8))\n",
    "plt.plot(hist.history['loss'], label='Training')\n",
    "plt.plot(hist.history['val_loss'], label='Validation')\n",
    "plt.legend()"
   ]
  },
  {
   "cell_type": "code",
   "execution_count": null,
   "metadata": {},
   "outputs": [],
   "source": []
  },
  {
   "cell_type": "code",
   "execution_count": null,
   "metadata": {},
   "outputs": [],
   "source": []
  },
  {
   "cell_type": "code",
   "execution_count": null,
   "metadata": {
    "ExecuteTime": {
     "end_time": "2020-10-26T08:42:00.890715Z",
     "start_time": "2020-10-26T08:42:00.878440Z"
    }
   },
   "outputs": [],
   "source": []
  },
  {
   "cell_type": "code",
   "execution_count": null,
   "metadata": {},
   "outputs": [],
   "source": []
  },
  {
   "cell_type": "code",
   "execution_count": 79,
   "metadata": {
    "ExecuteTime": {
     "end_time": "2020-10-26T08:42:11.418066Z",
     "start_time": "2020-10-26T08:42:11.299104Z"
    }
   },
   "outputs": [
    {
     "data": {
      "text/plain": [
       "<matplotlib.legend.Legend at 0x7f99986d9fd0>"
      ]
     },
     "execution_count": 79,
     "metadata": {},
     "output_type": "execute_result"
    },
    {
     "data": {
      "image/png": "[encoded data removed]",
      "text/plain": [
       "<Figure size 864x576 with 1 Axes>"
      ]
     },
     "metadata": {
      "needs_background": "light"
     },
     "output_type": "display_data"
    }
   ],
   "source": [
    "fig = plt.figure(figsize=(12,8))\n",
    "plt.plot(hist.history['loss'], label='Training')\n",
    "plt.plot(hist.history['val_loss'], label='Validation')\n",
    "plt.legend()"
   ]
  },
  {
   "cell_type": "code",
   "execution_count": null,
   "metadata": {},
   "outputs": [],
   "source": []
  },
  {
   "cell_type": "code",
   "execution_count": 80,
   "metadata": {
    "ExecuteTime": {
     "end_time": "2020-10-26T08:42:12.713842Z",
     "start_time": "2020-10-26T08:42:12.694118Z"
    }
   },
   "outputs": [
    {
     "data": {
      "text/html": [
       "<div>\n",
       "<style scoped>\n",
       "    .dataframe tbody tr th:only-of-type {\n",
       "        vertical-align: middle;\n",
       "    }\n",
       "\n",
       "    .dataframe tbody tr th {\n",
       "        vertical-align: top;\n",
       "    }\n",
       "\n",
       "    .dataframe thead th {\n",
       "        text-align: right;\n",
       "    }\n",
       "</style>\n",
       "<table border=\"1\" class=\"dataframe\">\n",
       "  <thead>\n",
       "    <tr style=\"text-align: right;\">\n",
       "      <th></th>\n",
       "      <th>Date</th>\n",
       "      <th>Open</th>\n",
       "      <th>High</th>\n",
       "      <th>Low</th>\n",
       "      <th>Close</th>\n",
       "      <th>Adj Close</th>\n",
       "      <th>Volume</th>\n",
       "      <th>Loss</th>\n",
       "    </tr>\n",
       "  </thead>\n",
       "  <tbody>\n",
       "    <tr>\n",
       "      <th>1597</th>\n",
       "      <td>2004-01-20</td>\n",
       "      <td>854.030029</td>\n",
       "      <td>864.260010</td>\n",
       "      <td>853.049988</td>\n",
       "      <td>861.369995</td>\n",
       "      <td>861.369995</td>\n",
       "      <td>364449900.0</td>\n",
       "      <td>4.627487</td>\n",
       "    </tr>\n",
       "    <tr>\n",
       "      <th>1653</th>\n",
       "      <td>2004-04-14</td>\n",
       "      <td>909.950012</td>\n",
       "      <td>919.380005</td>\n",
       "      <td>907.359985</td>\n",
       "      <td>916.309998</td>\n",
       "      <td>916.309998</td>\n",
       "      <td>407157000.0</td>\n",
       "      <td>5.154953</td>\n",
       "    </tr>\n",
       "    <tr>\n",
       "      <th>2727</th>\n",
       "      <td>2008-08-14</td>\n",
       "      <td>1553.650024</td>\n",
       "      <td>1578.300049</td>\n",
       "      <td>1553.650024</td>\n",
       "      <td>1572.189941</td>\n",
       "      <td>1572.189941</td>\n",
       "      <td>247586000.0</td>\n",
       "      <td>3.162375</td>\n",
       "    </tr>\n",
       "    <tr>\n",
       "      <th>2728</th>\n",
       "      <td>2008-08-18</td>\n",
       "      <td>1579.130005</td>\n",
       "      <td>1582.760010</td>\n",
       "      <td>1561.569946</td>\n",
       "      <td>1567.709961</td>\n",
       "      <td>1567.709961</td>\n",
       "      <td>260725000.0</td>\n",
       "      <td>3.285918</td>\n",
       "    </tr>\n",
       "  </tbody>\n",
       "</table>\n",
       "</div>"
      ],
      "text/plain": [
       "           Date         Open         High          Low        Close  \\\n",
       "1597 2004-01-20   854.030029   864.260010   853.049988   861.369995   \n",
       "1653 2004-04-14   909.950012   919.380005   907.359985   916.309998   \n",
       "2727 2008-08-14  1553.650024  1578.300049  1553.650024  1572.189941   \n",
       "2728 2008-08-18  1579.130005  1582.760010  1561.569946  1567.709961   \n",
       "\n",
       "        Adj Close       Volume      Loss  \n",
       "1597   861.369995  364449900.0  4.627487  \n",
       "1653   916.309998  407157000.0  5.154953  \n",
       "2727  1572.189941  247586000.0  3.162375  \n",
       "2728  1567.709961  260725000.0  3.285918  "
      ]
     },
     "execution_count": 80,
     "metadata": {},
     "output_type": "execute_result"
    }
   ],
   "source": [
    "import copy\n",
    "\n",
    "test_df = copy.deepcopy(df.loc[window_size:]).reset_index(drop=True)\n",
    "test_df['Loss'] = mae_loss\n",
    "\n",
    "threshold = 3\n",
    "test_df.loc[test_df.Loss>threshold]"
   ]
  },
  {
   "cell_type": "code",
   "execution_count": null,
   "metadata": {},
   "outputs": [],
   "source": []
  },
  {
   "cell_type": "code",
   "execution_count": 81,
   "metadata": {
    "ExecuteTime": {
     "end_time": "2020-10-26T08:42:14.879396Z",
     "start_time": "2020-10-26T08:42:14.859981Z"
    }
   },
   "outputs": [
    {
     "data": {
      "text/html": [
       "<div>\n",
       "<style scoped>\n",
       "    .dataframe tbody tr th:only-of-type {\n",
       "        vertical-align: middle;\n",
       "    }\n",
       "\n",
       "    .dataframe tbody tr th {\n",
       "        vertical-align: top;\n",
       "    }\n",
       "\n",
       "    .dataframe thead th {\n",
       "        text-align: right;\n",
       "    }\n",
       "</style>\n",
       "<table border=\"1\" class=\"dataframe\">\n",
       "  <thead>\n",
       "    <tr style=\"text-align: right;\">\n",
       "      <th></th>\n",
       "      <th>Date</th>\n",
       "      <th>Open</th>\n",
       "      <th>High</th>\n",
       "      <th>Low</th>\n",
       "      <th>Close</th>\n",
       "      <th>Adj Close</th>\n",
       "      <th>Volume</th>\n",
       "      <th>Loss</th>\n",
       "    </tr>\n",
       "  </thead>\n",
       "  <tbody>\n",
       "    <tr>\n",
       "      <th>306</th>\n",
       "      <td>1998-10-16</td>\n",
       "      <td>375.339996</td>\n",
       "      <td>385.029999</td>\n",
       "      <td>370.279999</td>\n",
       "      <td>374.010010</td>\n",
       "      <td>374.010010</td>\n",
       "      <td>14356200.0</td>\n",
       "      <td>0.301859</td>\n",
       "    </tr>\n",
       "    <tr>\n",
       "      <th>320</th>\n",
       "      <td>1998-11-05</td>\n",
       "      <td>415.450012</td>\n",
       "      <td>420.459991</td>\n",
       "      <td>410.540009</td>\n",
       "      <td>418.200012</td>\n",
       "      <td>418.200012</td>\n",
       "      <td>20412200.0</td>\n",
       "      <td>0.320914</td>\n",
       "    </tr>\n",
       "    <tr>\n",
       "      <th>321</th>\n",
       "      <td>1998-11-06</td>\n",
       "      <td>419.339996</td>\n",
       "      <td>436.119995</td>\n",
       "      <td>416.070007</td>\n",
       "      <td>416.299988</td>\n",
       "      <td>416.299988</td>\n",
       "      <td>23351200.0</td>\n",
       "      <td>0.355191</td>\n",
       "    </tr>\n",
       "    <tr>\n",
       "      <th>322</th>\n",
       "      <td>1998-11-09</td>\n",
       "      <td>416.739990</td>\n",
       "      <td>424.450012</td>\n",
       "      <td>413.059998</td>\n",
       "      <td>424.450012</td>\n",
       "      <td>424.450012</td>\n",
       "      <td>20581400.0</td>\n",
       "      <td>0.302785</td>\n",
       "    </tr>\n",
       "    <tr>\n",
       "      <th>331</th>\n",
       "      <td>1998-11-20</td>\n",
       "      <td>443.339996</td>\n",
       "      <td>464.119995</td>\n",
       "      <td>440.869995</td>\n",
       "      <td>452.929993</td>\n",
       "      <td>452.929993</td>\n",
       "      <td>24318600.0</td>\n",
       "      <td>0.363037</td>\n",
       "    </tr>\n",
       "    <tr>\n",
       "      <th>...</th>\n",
       "      <td>...</td>\n",
       "      <td>...</td>\n",
       "      <td>...</td>\n",
       "      <td>...</td>\n",
       "      <td>...</td>\n",
       "      <td>...</td>\n",
       "      <td>...</td>\n",
       "      <td>...</td>\n",
       "    </tr>\n",
       "    <tr>\n",
       "      <th>5578</th>\n",
       "      <td>2020-03-17</td>\n",
       "      <td>1640.839966</td>\n",
       "      <td>1722.969971</td>\n",
       "      <td>1637.880005</td>\n",
       "      <td>1672.439941</td>\n",
       "      <td>1672.439941</td>\n",
       "      <td>649800.0</td>\n",
       "      <td>0.340360</td>\n",
       "    </tr>\n",
       "    <tr>\n",
       "      <th>5579</th>\n",
       "      <td>2020-03-18</td>\n",
       "      <td>1686.119995</td>\n",
       "      <td>1693.949951</td>\n",
       "      <td>1591.119995</td>\n",
       "      <td>1591.199951</td>\n",
       "      <td>1591.199951</td>\n",
       "      <td>728000.0</td>\n",
       "      <td>0.315740</td>\n",
       "    </tr>\n",
       "    <tr>\n",
       "      <th>5580</th>\n",
       "      <td>2020-03-19</td>\n",
       "      <td>1626.089966</td>\n",
       "      <td>1626.089966</td>\n",
       "      <td>1439.430054</td>\n",
       "      <td>1457.640015</td>\n",
       "      <td>1457.640015</td>\n",
       "      <td>977700.0</td>\n",
       "      <td>0.405788</td>\n",
       "    </tr>\n",
       "    <tr>\n",
       "      <th>5581</th>\n",
       "      <td>2020-03-20</td>\n",
       "      <td>1498.489990</td>\n",
       "      <td>1566.819946</td>\n",
       "      <td>1466.479980</td>\n",
       "      <td>1566.150024</td>\n",
       "      <td>1566.150024</td>\n",
       "      <td>817000.0</td>\n",
       "      <td>0.340914</td>\n",
       "    </tr>\n",
       "    <tr>\n",
       "      <th>5582</th>\n",
       "      <td>2020-03-23</td>\n",
       "      <td>1474.449951</td>\n",
       "      <td>1516.750000</td>\n",
       "      <td>1458.410034</td>\n",
       "      <td>1482.459961</td>\n",
       "      <td>1482.459961</td>\n",
       "      <td>647200.0</td>\n",
       "      <td>0.324881</td>\n",
       "    </tr>\n",
       "  </tbody>\n",
       "</table>\n",
       "<p>557 rows × 8 columns</p>\n",
       "</div>"
      ],
      "text/plain": [
       "           Date         Open         High          Low        Close  \\\n",
       "306  1998-10-16   375.339996   385.029999   370.279999   374.010010   \n",
       "320  1998-11-05   415.450012   420.459991   410.540009   418.200012   \n",
       "321  1998-11-06   419.339996   436.119995   416.070007   416.299988   \n",
       "322  1998-11-09   416.739990   424.450012   413.059998   424.450012   \n",
       "331  1998-11-20   443.339996   464.119995   440.869995   452.929993   \n",
       "...         ...          ...          ...          ...          ...   \n",
       "5578 2020-03-17  1640.839966  1722.969971  1637.880005  1672.439941   \n",
       "5579 2020-03-18  1686.119995  1693.949951  1591.119995  1591.199951   \n",
       "5580 2020-03-19  1626.089966  1626.089966  1439.430054  1457.640015   \n",
       "5581 2020-03-20  1498.489990  1566.819946  1466.479980  1566.150024   \n",
       "5582 2020-03-23  1474.449951  1516.750000  1458.410034  1482.459961   \n",
       "\n",
       "        Adj Close      Volume      Loss  \n",
       "306    374.010010  14356200.0  0.301859  \n",
       "320    418.200012  20412200.0  0.320914  \n",
       "321    416.299988  23351200.0  0.355191  \n",
       "322    424.450012  20581400.0  0.302785  \n",
       "331    452.929993  24318600.0  0.363037  \n",
       "...           ...         ...       ...  \n",
       "5578  1672.439941    649800.0  0.340360  \n",
       "5579  1591.199951    728000.0  0.315740  \n",
       "5580  1457.640015    977700.0  0.405788  \n",
       "5581  1566.150024    817000.0  0.340914  \n",
       "5582  1482.459961    647200.0  0.324881  \n",
       "\n",
       "[557 rows x 8 columns]"
      ]
     },
     "execution_count": 81,
     "metadata": {},
     "output_type": "execute_result"
    }
   ],
   "source": [
    "threshold = 0.3\n",
    "test_df.loc[test_df.Loss>threshold]"
   ]
  },
  {
   "cell_type": "code",
   "execution_count": null,
   "metadata": {},
   "outputs": [],
   "source": []
  },
  {
   "cell_type": "code",
   "execution_count": 82,
   "metadata": {
    "ExecuteTime": {
     "end_time": "2020-10-26T08:53:03.457478Z",
     "start_time": "2020-10-26T08:53:03.231289Z"
    }
   },
   "outputs": [
    {
     "data": {
      "text/plain": [
       "[<matplotlib.lines.Line2D at 0x7f9998593310>]"
      ]
     },
     "execution_count": 82,
     "metadata": {},
     "output_type": "execute_result"
    },
    {
     "name": "stderr",
     "output_type": "stream",
     "text": [
      "/home/aiffel0042/anaconda3/envs/aiffel/lib/python3.7/site-packages/matplotlib/lines.py:191: FutureWarning: Using a non-tuple sequence for multidimensional indexing is deprecated; use `arr[tuple(seq)]` instead of `arr[seq]`. In the future this will be interpreted as an array index, `arr[np.array(seq)]`, which will result either in an error or a different result.\n",
      "  return Path(verts[markevery], _slice_or_none(codes, markevery))\n"
     ]
    },
    {
     "data": {
      "image/png": "[encoded data removed]",
      "text/plain": [
       "<Figure size 864x1080 with 3 Axes>"
      ]
     },
     "metadata": {
      "needs_background": "light"
     },
     "output_type": "display_data"
    }
   ],
   "source": [
    "fig = plt.figure(figsize=(12,15))\n",
    "\n",
    "# 가격들 그래프입니다\n",
    "ax = fig.add_subplot(311)\n",
    "ax.set_title('Open/Close')\n",
    "plt.plot(test_df.Date, test_df.Close, linewidth=0.5, alpha=0.75, label='Close')\n",
    "plt.plot(test_df.Date, test_df.Open, linewidth=0.5, alpha=0.75, label='Open')\n",
    "plt.plot(test_df.Date, test_df.Close, 'or', markevery=[mae_loss>threshold])\n",
    "\n",
    "# 거래량 그래프입니다\n",
    "ax = fig.add_subplot(312)\n",
    "ax.set_title('Volume')\n",
    "plt.plot(test_df.Date, test_df.Volume, linewidth=0.5, alpha=0.75, label='Volume')\n",
    "plt.plot(test_df.Date, test_df.Volume, 'or', markevery=[mae_loss>threshold])\n",
    "\n",
    "# 오차율 그래프입니다\n",
    "ax = fig.add_subplot(313)\n",
    "ax.set_title('Loss')\n",
    "plt.plot(test_df.Date, test_df.Loss, linewidth=0.5, alpha=0.75, label='Loss')\n",
    "plt.plot(test_df.Date, test_df.Loss, 'or', markevery=[mae_loss>threshold])"
   ]
  },
  {
   "cell_type": "code",
   "execution_count": null,
   "metadata": {},
   "outputs": [],
   "source": []
  },
  {
   "cell_type": "code",
   "execution_count": null,
   "metadata": {},
   "outputs": [],
   "source": []
  },
  {
   "cell_type": "code",
   "execution_count": null,
   "metadata": {},
   "outputs": [],
   "source": []
  }
 ],
 "metadata": {
  "kernelspec": {
   "display_name": "Python 3",
   "language": "python",
   "name": "python3"
  },
  "language_info": {
   "codemirror_mode": {
    "name": "ipython",
    "version": 3
   },
   "file_extension": ".py",
   "mimetype": "text/x-python",
   "name": "python",
   "nbconvert_exporter": "python",
   "pygments_lexer": "ipython3",
   "version": "3.7.6"
  },
  "toc": {
   "base_numbering": 1,
   "nav_menu": {},
   "number_sections": true,
   "sideBar": true,
   "skip_h1_title": false,
   "title_cell": "Table of Contents",
   "title_sidebar": "Contents",
   "toc_cell": false,
   "toc_position": {},
   "toc_section_display": true,
   "toc_window_display": true
  },
  "varInspector": {
   "cols": {
    "lenName": 16,
    "lenType": 16,
    "lenVar": 40
   },
   "kernels_config": {
    "python": {
     "delete_cmd_postfix": "",
     "delete_cmd_prefix": "del ",
     "library": "var_list.py",
     "varRefreshCmd": "print(var_dic_list())"
    },
    "r": {
     "delete_cmd_postfix": ") ",
     "delete_cmd_prefix": "rm(",
     "library": "var_list.r",
     "varRefreshCmd": "cat(var_dic_list()) "
    }
   },
   "types_to_exclude": [
    "module",
    "function",
    "builtin_function_or_method",
    "instance",
    "_Feature"
   ],
   "window_display": false
  }
 },
 "nbformat": 4,
 "nbformat_minor": 4
}
