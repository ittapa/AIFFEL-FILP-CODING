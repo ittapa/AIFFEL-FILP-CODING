{
 "cells": [
  {
   "cell_type": "markdown",
   "metadata": {},
   "source": [
    "# 음성 데이터"
   ]
  },
  {
   "cell_type": "markdown",
   "metadata": {
    "ExecuteTime": {
     "end_time": "2020-11-05T07:53:34.471865Z",
     "start_time": "2020-11-05T07:53:34.432286Z"
    }
   },
   "source": [
    "#\n",
    "- 파동(wave) : 압축\n",
    "- 진폭(Amplitude) : intensity\n",
    "- 주파수(fFrequency) : 소리 떨림의 빠르기\n",
    "- 위상(phase)\n",
    "\n",
    "- ton color\n",
    "- loudnesss : 소리의 크기\n",
    "- pitch : 음정 소리 높낮이, 진동수\n",
    "- timber : 음색 소리 감각\n",
    "\n",
    "![](https://aiffelstaticprd.blob.core.windows.net/media/images/E-23-05.max-800x600.png)\n",
    "\n",
    "![](./01.png)"
   ]
  },
  {
   "cell_type": "code",
   "execution_count": null,
   "metadata": {},
   "outputs": [],
   "source": []
  },
  {
   "cell_type": "code",
   "execution_count": 1,
   "metadata": {
    "ExecuteTime": {
     "end_time": "2020-11-10T00:39:55.824038Z",
     "start_time": "2020-11-10T00:39:55.641975Z"
    }
   },
   "outputs": [],
   "source": [
    "#아날로그 신호의 표본화(Sampling)\n",
    "import numpy as np\n",
    "import matplotlib.pyplot as plt\n",
    "\n",
    "def single_tone(frequecy, sampling_rate=16000, duration=1):\n",
    "    t = np.linspace(0, duration, int(sampling_rate))\n",
    "    y = np.sin(2 * np.pi * frequecy * t)\n",
    "    return y\n",
    "\n",
    "y = single_tone(400)"
   ]
  },
  {
   "cell_type": "code",
   "execution_count": 2,
   "metadata": {
    "ExecuteTime": {
     "end_time": "2020-11-10T00:39:56.273778Z",
     "start_time": "2020-11-10T00:39:56.130091Z"
    }
   },
   "outputs": [
    {
     "data": {
      "image/png": "[encoded data removed]",
      "text/plain": [
       "<Figure size 432x288 with 1 Axes>"
      ]
     },
     "metadata": {
      "needs_background": "light"
     },
     "output_type": "display_data"
    }
   ],
   "source": [
    "plt.plot(y[:41])\n",
    "plt.show()"
   ]
  },
  {
   "cell_type": "code",
   "execution_count": 3,
   "metadata": {
    "ExecuteTime": {
     "end_time": "2020-11-10T00:39:56.394462Z",
     "start_time": "2020-11-10T00:39:56.274871Z"
    }
   },
   "outputs": [
    {
     "name": "stderr",
     "output_type": "stream",
     "text": [
      "/home/aiffel0042/anaconda3/envs/aiffel/lib/python3.7/site-packages/ipykernel_launcher.py:2: UserWarning: In Matplotlib 3.3 individual lines on a stem plot will be added as a LineCollection instead of individual lines. This significantly improves the performance of a stem plot. To remove this warning and switch to the new behaviour, set the \"use_line_collection\" keyword argument to True.\n",
      "  \n"
     ]
    },
    {
     "data": {
      "image/png": "[encoded data removed]",
      "text/plain": [
       "<Figure size 432x288 with 1 Axes>"
      ]
     },
     "metadata": {
      "needs_background": "light"
     },
     "output_type": "display_data"
    }
   ],
   "source": [
    "# 시간축 방향에서 일정 간격으로 샘플을 추출하여 이산 신호(discrete signal)로 변환시키는 과정을 표본화(Sampling)\n",
    "plt.stem(y[:41])\n",
    "plt.show()"
   ]
  },
  {
   "cell_type": "markdown",
   "metadata": {
    "ExecuteTime": {
     "end_time": "2020-11-09T08:20:17.784234Z",
     "start_time": "2020-11-09T08:20:17.781599Z"
    }
   },
   "source": [
    "## 표본화, 양자화, 부호화\n",
    "\n",
    "\n",
    "- 연속적인 아날로그 신호를 컴퓨터 입력으로 넣게 되면 표본화(Sampling), 양자화(Quantizing), 부호화(Encoding)을 거쳐 이진 디지털 신호(Binary Digital Signal)로 변화시켜 인식하게 됩니다. 아래 그림은 아날로그 오디오 신호를 표본화, 양자화하는 과정을 시각화하여 보여 줍니다.\n",
    "\n",
    "![](https://aiffelstaticprd.blob.core.windows.net/media/original_images/E-23-06_wVIMJrD.png)"
   ]
  },
  {
   "cell_type": "markdown",
   "metadata": {},
   "source": [
    "## data download"
   ]
  },
  {
   "cell_type": "code",
   "execution_count": 4,
   "metadata": {
    "ExecuteTime": {
     "end_time": "2020-11-10T00:42:45.497473Z",
     "start_time": "2020-11-10T00:39:56.400871Z"
    }
   },
   "outputs": [
    {
     "name": "stdout",
     "output_type": "stream",
     "text": [
      "--2020-11-10 09:39:56--  http://bigfile.mail.naver.com/bigfileupload/download?fid=8QbZaAIq1NKXFoMjK3YXaxbwF3YZKAUmKxgwaxulFAMqFCYwFog9FquwFxvlHrMrpxg9KAtwFAt9K6K9F4udpx0oKxFvKxCoFq+vpo+0\n",
      "Resolving bigfile.mail.naver.com (bigfile.mail.naver.com)... 125.209.234.99\n",
      "접속 bigfile.mail.naver.com (bigfile.mail.naver.com)|125.209.234.99|:80... 접속됨.\n",
      "HTTP request sent, awaiting response... 200 \n",
      "Length: 1621257882 (1.5G) [application/octet-stream]\n",
      "Saving to: ‘speech_wav_8000.npz’\n",
      "\n",
      "speech_wav_8000.npz 100%[===================>]   1.51G  10.8MB/s    in 2m 49s  \n",
      "\n",
      "2020-11-10 09:42:45 (9.17 MB/s) - ‘speech_wav_8000.npz’ saved [1621257882/1621257882]\n",
      "\n"
     ]
    }
   ],
   "source": [
    "!wget http://bigfile.mail.naver.com/bigfileupload/download?fid=8QbZaAIq1NKXFoMjK3YXaxbwF3YZKAUmKxgwaxulFAMqFCYwFog9FquwFxvlHrMrpxg9KAtwFAt9K6K9F4udpx0oKxFvKxCoFq+vpo+0 -O speech_wav_8000.npz"
   ]
  },
  {
   "cell_type": "code",
   "execution_count": 1,
   "metadata": {
    "ExecuteTime": {
     "end_time": "2020-11-10T05:38:33.589693Z",
     "start_time": "2020-11-10T05:38:33.582168Z"
    }
   },
   "outputs": [
    {
     "name": "stdout",
     "output_type": "stream",
     "text": [
      "✅\n"
     ]
    }
   ],
   "source": [
    "import numpy as np\n",
    "import os\n",
    "\n",
    "data_path = os.getenv(\"HOME\")+'/aiffel/AIFFEL_LSG/utill/speech_wav_8000.npz'\n",
    "speech_data = np.load(data_path)\n",
    "\n",
    "print(\"✅\")"
   ]
  },
  {
   "cell_type": "code",
   "execution_count": 2,
   "metadata": {
    "ExecuteTime": {
     "end_time": "2020-11-10T05:38:36.918651Z",
     "start_time": "2020-11-10T05:38:35.609926Z"
    }
   },
   "outputs": [
    {
     "name": "stdout",
     "output_type": "stream",
     "text": [
      "Wave data shape :  (50620, 8000)\n",
      "Label data shape :  (50620, 1)\n",
      "✅\n"
     ]
    }
   ],
   "source": [
    "print(\"Wave data shape : \", speech_data[\"wav_vals\"].shape)\n",
    "print(\"Label data shape : \", speech_data[\"label_vals\"].shape)\n",
    "print(\"✅\")"
   ]
  },
  {
   "cell_type": "code",
   "execution_count": null,
   "metadata": {},
   "outputs": [],
   "source": []
  },
  {
   "cell_type": "code",
   "execution_count": 7,
   "metadata": {
    "ExecuteTime": {
     "end_time": "2020-11-10T00:42:50.230219Z",
     "start_time": "2020-11-10T00:42:47.686677Z"
    }
   },
   "outputs": [
    {
     "name": "stdout",
     "output_type": "stream",
     "text": [
      "rand num :  25336\n",
      "Wave data shape :  (8000,)\n",
      "label :  ['go']\n"
     ]
    },
    {
     "data": {
      "text/html": [
       "\n",
       "                <audio  controls=\"controls\" >\n",
       "                    <source src=\"data:audio/wav;base64,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\" type=\"audio/wav\" />\n",
       "                    Your browser does not support the audio element.\n",
       "                </audio>\n",
       "              "
      ],
      "text/plain": [
       "<IPython.lib.display.Audio object>"
      ]
     },
     "execution_count": 7,
     "metadata": {},
     "output_type": "execute_result"
    }
   ],
   "source": [
    "import IPython.display as ipd\n",
    "import random\n",
    "\n",
    "# 데이터 선택\n",
    "rand = random.randint(0, len(speech_data[\"wav_vals\"]))\n",
    "print(\"rand num : \", rand)\n",
    "\n",
    "sr = 8000 # 1초동안 재생되는 샘플의 갯수\n",
    "data = speech_data[\"wav_vals\"][rand]\n",
    "print(\"Wave data shape : \", data.shape)\n",
    "print(\"label : \", speech_data[\"label_vals\"][rand])\n",
    "\n",
    "ipd.Audio(data, rate=sr)"
   ]
  },
  {
   "cell_type": "markdown",
   "metadata": {},
   "source": [
    "## train / test dataset set"
   ]
  },
  {
   "cell_type": "markdown",
   "metadata": {},
   "source": [
    "### label date 처리\n",
    "\n",
    "- 문자 라벨 =>\n"
   ]
  },
  {
   "cell_type": "code",
   "execution_count": 3,
   "metadata": {
    "ExecuteTime": {
     "end_time": "2020-11-10T05:38:55.287498Z",
     "start_time": "2020-11-10T05:38:55.283711Z"
    }
   },
   "outputs": [],
   "source": [
    "target_list = ['yes', 'no', 'up', 'down', 'left', 'right', 'on', 'off', 'stop', 'go']\n",
    "\n",
    "label_value = target_list\n",
    "label_value.append('unknown')\n",
    "label_value.append('silence')\n",
    "\n",
    "new_label_value = dict()\n",
    "for i, l in enumerate(label_value):\n",
    "    new_label_value[l] = i\n",
    "label_value = new_label_value\n",
    "\n"
   ]
  },
  {
   "cell_type": "code",
   "execution_count": null,
   "metadata": {},
   "outputs": [],
   "source": []
  },
  {
   "cell_type": "code",
   "execution_count": 4,
   "metadata": {
    "ExecuteTime": {
     "end_time": "2020-11-10T05:38:56.229275Z",
     "start_time": "2020-11-10T05:38:56.200985Z"
    }
   },
   "outputs": [],
   "source": [
    "\n",
    "temp = []\n",
    "\n",
    "for v in speech_data[\"label_vals\"]:\n",
    "    temp.append(label_value[v[0]])\n",
    "label_data = np.array(temp)\n"
   ]
  },
  {
   "cell_type": "code",
   "execution_count": 5,
   "metadata": {
    "ExecuteTime": {
     "end_time": "2020-11-10T05:38:56.584244Z",
     "start_time": "2020-11-10T05:38:56.578463Z"
    }
   },
   "outputs": [
    {
     "data": {
      "text/plain": [
       "{'yes': 0,\n",
       " 'no': 1,\n",
       " 'up': 2,\n",
       " 'down': 3,\n",
       " 'left': 4,\n",
       " 'right': 5,\n",
       " 'on': 6,\n",
       " 'off': 7,\n",
       " 'stop': 8,\n",
       " 'go': 9,\n",
       " 'unknown': 10,\n",
       " 'silence': 11}"
      ]
     },
     "execution_count": 5,
     "metadata": {},
     "output_type": "execute_result"
    }
   ],
   "source": [
    "new_label_value"
   ]
  },
  {
   "cell_type": "code",
   "execution_count": 6,
   "metadata": {
    "ExecuteTime": {
     "end_time": "2020-11-10T05:38:57.028378Z",
     "start_time": "2020-11-10T05:38:57.026229Z"
    }
   },
   "outputs": [
    {
     "data": {
      "text/plain": [
       "array([ 3,  3,  3, ..., 11, 11, 11])"
      ]
     },
     "execution_count": 6,
     "metadata": {},
     "output_type": "execute_result"
    }
   ],
   "source": [
    "label_data"
   ]
  },
  {
   "cell_type": "markdown",
   "metadata": {},
   "source": [
    "### dataset split"
   ]
  },
  {
   "cell_type": "code",
   "execution_count": 9,
   "metadata": {
    "ExecuteTime": {
     "end_time": "2020-11-10T05:39:29.937976Z",
     "start_time": "2020-11-10T05:39:28.667320Z"
    }
   },
   "outputs": [
    {
     "data": {
      "text/plain": [
       "numpy.ndarray"
      ]
     },
     "execution_count": 9,
     "metadata": {},
     "output_type": "execute_result"
    }
   ],
   "source": [
    "type(speech_data[\"wav_vals\"])"
   ]
  },
  {
   "cell_type": "code",
   "execution_count": 11,
   "metadata": {
    "ExecuteTime": {
     "end_time": "2020-11-10T05:39:52.083432Z",
     "start_time": "2020-11-10T05:39:50.332563Z"
    }
   },
   "outputs": [
    {
     "name": "stdout",
     "output_type": "stream",
     "text": [
      "[[-0.00466319 -0.00614872 -0.00563854 ... -0.00657955 -0.00703292\n",
      "  -0.00730051]\n",
      " [-0.00074636 -0.00199332 -0.00204585 ... -0.00197625 -0.00149139\n",
      "  -0.00148286]\n",
      " [ 0.00200761  0.00175017 -0.00229226 ...  0.0061959   0.00407032\n",
      "   0.00058722]\n",
      " ...\n",
      " [ 0.00512194  0.00967875  0.00513664 ...  0.01102505  0.01168656\n",
      "   0.00553414]\n",
      " [-0.00043137 -0.0024288   0.00058736 ... -0.00209512 -0.00195419\n",
      "  -0.00182364]\n",
      " [ 0.00339249  0.00506347  0.00049955 ...  0.0027821   0.00202988\n",
      "  -0.00180918]]\n"
     ]
    }
   ],
   "source": [
    "from sklearn.model_selection import train_test_split\n",
    "\n",
    "sr = 8000\n",
    "train_wav, test_wav, train_label, test_label = train_test_split(speech_data[\"wav_vals\"], \n",
    "                                                                label_data, \n",
    "                                                                test_size=0.1,\n",
    "                                                                shuffle=True)\n",
    "print(train_wav)\n",
    "\n"
   ]
  },
  {
   "cell_type": "code",
   "execution_count": 13,
   "metadata": {
    "ExecuteTime": {
     "end_time": "2020-11-10T05:40:50.222922Z",
     "start_time": "2020-11-10T05:40:50.213353Z"
    }
   },
   "outputs": [
    {
     "data": {
      "text/plain": [
       "numpy.ndarray"
      ]
     },
     "execution_count": 13,
     "metadata": {},
     "output_type": "execute_result"
    }
   ],
   "source": [
    "type(train_wav)"
   ]
  },
  {
   "cell_type": "code",
   "execution_count": 15,
   "metadata": {
    "ExecuteTime": {
     "end_time": "2020-11-10T05:40:59.888274Z",
     "start_time": "2020-11-10T05:40:59.882101Z"
    }
   },
   "outputs": [
    {
     "data": {
      "text/plain": [
       "(45558, 8000)"
      ]
     },
     "execution_count": 15,
     "metadata": {},
     "output_type": "execute_result"
    }
   ],
   "source": [
    "train_wav.shape"
   ]
  },
  {
   "cell_type": "code",
   "execution_count": null,
   "metadata": {},
   "outputs": [],
   "source": [
    "train_wav = train_wav.reshape([-1, sr, 1]) # add channel for CNN\n",
    "test_wav = test_wav.reshape([-1, sr, 1])\n",
    "print(\"✅\")"
   ]
  },
  {
   "cell_type": "code",
   "execution_count": 8,
   "metadata": {
    "ExecuteTime": {
     "end_time": "2020-11-10T05:39:00.694568Z",
     "start_time": "2020-11-10T05:39:00.691398Z"
    }
   },
   "outputs": [
    {
     "name": "stdout",
     "output_type": "stream",
     "text": [
      "train data :  (45558, 8000, 1)\n",
      "train labels :  (45558,)\n",
      "test data :  (5062, 8000, 1)\n",
      "test labels :  (5062,)\n",
      "✅\n"
     ]
    }
   ],
   "source": [
    "print(\"train data : \", train_wav.shape)\n",
    "print(\"train labels : \", train_label.shape)\n",
    "print(\"test data : \", test_wav.shape)\n",
    "print(\"test labels : \", test_label.shape)\n",
    "print(\"✅\")"
   ]
  },
  {
   "cell_type": "code",
   "execution_count": null,
   "metadata": {},
   "outputs": [],
   "source": []
  },
  {
   "cell_type": "code",
   "execution_count": null,
   "metadata": {},
   "outputs": [],
   "source": []
  },
  {
   "cell_type": "markdown",
   "metadata": {},
   "source": [
    "## hyper - parameters set"
   ]
  },
  {
   "cell_type": "code",
   "execution_count": 14,
   "metadata": {
    "ExecuteTime": {
     "end_time": "2020-11-10T00:42:52.170834Z",
     "start_time": "2020-11-10T00:42:52.156940Z"
    }
   },
   "outputs": [
    {
     "data": {
      "text/plain": [
       "'/home/aiffel0042/aiffel/AIFFEL_LSG/utill/speech_recognition/checkpoint/wav'"
      ]
     },
     "execution_count": 14,
     "metadata": {},
     "output_type": "execute_result"
    }
   ],
   "source": [
    "batch_size = 128\n",
    "max_epochs = 10\n",
    "\n",
    "# the save point\n",
    "checkpoint_dir = os.getenv('HOME')+'/aiffel/AIFFEL_LSG/utill/speech_recognition/checkpoint/wav'\n",
    "\n",
    "checkpoint_dir"
   ]
  },
  {
   "cell_type": "code",
   "execution_count": null,
   "metadata": {},
   "outputs": [],
   "source": []
  },
  {
   "cell_type": "markdown",
   "metadata": {},
   "source": [
    "## data setting"
   ]
  },
  {
   "cell_type": "code",
   "execution_count": 15,
   "metadata": {
    "ExecuteTime": {
     "end_time": "2020-11-10T00:42:52.186907Z",
     "start_time": "2020-11-10T00:42:52.184783Z"
    }
   },
   "outputs": [
    {
     "name": "stdout",
     "output_type": "stream",
     "text": [
      "✅\n"
     ]
    }
   ],
   "source": [
    "def one_hot_label(wav, label):\n",
    "    label = tf.one_hot(label, depth=12)\n",
    "    return wav, label\n",
    "print(\"✅\")"
   ]
  },
  {
   "cell_type": "code",
   "execution_count": 16,
   "metadata": {
    "ExecuteTime": {
     "end_time": "2020-11-10T00:42:55.368911Z",
     "start_time": "2020-11-10T00:42:52.187751Z"
    }
   },
   "outputs": [
    {
     "name": "stdout",
     "output_type": "stream",
     "text": [
      "<BatchDataset shapes: ((None, 8000, 1), (None, 12)), types: (tf.float32, tf.float32)>\n",
      "<BatchDataset shapes: ((None, 8000, 1), (None, 12)), types: (tf.float32, tf.float32)>\n",
      "✅\n"
     ]
    }
   ],
   "source": [
    "import tensorflow as tf\n",
    "\n",
    "# for train\n",
    "train_dataset = tf.data.Dataset.from_tensor_slices((train_wav, train_label))\n",
    "train_dataset = train_dataset.map(one_hot_label)\n",
    "train_dataset = train_dataset.repeat().batch(batch_size=batch_size)\n",
    "print(train_dataset)\n",
    "\n",
    "# for test\n",
    "test_dataset = tf.data.Dataset.from_tensor_slices((test_wav, test_label))\n",
    "test_dataset = test_dataset.map(one_hot_label)\n",
    "test_dataset = test_dataset.batch(batch_size=batch_size)\n",
    "print(test_dataset)\n",
    "print(\"✅\")"
   ]
  },
  {
   "cell_type": "code",
   "execution_count": null,
   "metadata": {},
   "outputs": [],
   "source": []
  },
  {
   "cell_type": "markdown",
   "metadata": {},
   "source": [
    "## model"
   ]
  },
  {
   "cell_type": "code",
   "execution_count": 17,
   "metadata": {
    "ExecuteTime": {
     "end_time": "2020-11-10T00:42:55.549323Z",
     "start_time": "2020-11-10T00:42:55.397267Z"
    }
   },
   "outputs": [
    {
     "name": "stdout",
     "output_type": "stream",
     "text": [
      "Model: \"functional_1\"\n",
      "_________________________________________________________________\n",
      "Layer (type)                 Output Shape              Param #   \n",
      "=================================================================\n",
      "input_1 (InputLayer)         [(None, 8000, 1)]         0         \n",
      "_________________________________________________________________\n",
      "conv1d (Conv1D)              (None, 8000, 32)          320       \n",
      "_________________________________________________________________\n",
      "conv1d_1 (Conv1D)            (None, 8000, 32)          9248      \n",
      "_________________________________________________________________\n",
      "max_pooling1d (MaxPooling1D) (None, 4000, 32)          0         \n",
      "_________________________________________________________________\n",
      "conv1d_2 (Conv1D)            (None, 4000, 64)          18496     \n",
      "_________________________________________________________________\n",
      "conv1d_3 (Conv1D)            (None, 4000, 64)          36928     \n",
      "_________________________________________________________________\n",
      "max_pooling1d_1 (MaxPooling1 (None, 2000, 64)          0         \n",
      "_________________________________________________________________\n",
      "conv1d_4 (Conv1D)            (None, 2000, 128)         73856     \n",
      "_________________________________________________________________\n",
      "conv1d_5 (Conv1D)            (None, 2000, 128)         147584    \n",
      "_________________________________________________________________\n",
      "conv1d_6 (Conv1D)            (None, 2000, 128)         147584    \n",
      "_________________________________________________________________\n",
      "max_pooling1d_2 (MaxPooling1 (None, 1000, 128)         0         \n",
      "_________________________________________________________________\n",
      "conv1d_7 (Conv1D)            (None, 1000, 256)         295168    \n",
      "_________________________________________________________________\n",
      "conv1d_8 (Conv1D)            (None, 1000, 256)         590080    \n",
      "_________________________________________________________________\n",
      "conv1d_9 (Conv1D)            (None, 1000, 256)         590080    \n",
      "_________________________________________________________________\n",
      "max_pooling1d_3 (MaxPooling1 (None, 500, 256)          0         \n",
      "_________________________________________________________________\n",
      "dropout (Dropout)            (None, 500, 256)          0         \n",
      "_________________________________________________________________\n",
      "flatten (Flatten)            (None, 128000)            0         \n",
      "_________________________________________________________________\n",
      "dense (Dense)                (None, 256)               32768256  \n",
      "_________________________________________________________________\n",
      "batch_normalization (BatchNo (None, 256)               1024      \n",
      "_________________________________________________________________\n",
      "activation (Activation)      (None, 256)               0         \n",
      "_________________________________________________________________\n",
      "dense_1 (Dense)              (None, 12)                3084      \n",
      "=================================================================\n",
      "Total params: 34,681,708\n",
      "Trainable params: 34,681,196\n",
      "Non-trainable params: 512\n",
      "_________________________________________________________________\n"
     ]
    }
   ],
   "source": [
    "from tensorflow.keras import layers\n",
    "\n",
    "input_tensor = layers.Input(shape=(sr, 1))\n",
    "\n",
    "x = layers.Conv1D(32, 9, padding='same', activation='relu')(input_tensor)\n",
    "x = layers.Conv1D(32, 9, padding='same', activation='relu')(x)\n",
    "x = layers.MaxPool1D()(x)\n",
    "\n",
    "x = layers.Conv1D(64, 9, padding='same', activation='relu')(x)\n",
    "x = layers.Conv1D(64, 9, padding='same', activation='relu')(x)\n",
    "x = layers.MaxPool1D()(x)\n",
    "\n",
    "x = layers.Conv1D(128, 9, padding='same', activation='relu')(x)\n",
    "x = layers.Conv1D(128, 9, padding='same', activation='relu')(x)\n",
    "x = layers.Conv1D(128, 9, padding='same', activation='relu')(x)\n",
    "x = layers.MaxPool1D()(x)\n",
    "\n",
    "x = layers.Conv1D(256, 9, padding='same', activation='relu')(x)\n",
    "x = layers.Conv1D(256, 9, padding='same', activation='relu')(x)\n",
    "x = layers.Conv1D(256, 9, padding='same', activation='relu')(x)\n",
    "x = layers.MaxPool1D()(x)\n",
    "x = layers.Dropout(0.3)(x)\n",
    "\n",
    "x = layers.Flatten()(x)\n",
    "x = layers.Dense(256)(x)\n",
    "x = layers.BatchNormalization()(x)\n",
    "x = layers.Activation('relu')(x)\n",
    "\n",
    "output_tensor = layers.Dense(12)(x)\n",
    "\n",
    "model_wav = tf.keras.Model(input_tensor, output_tensor)\n",
    "\n",
    "model_wav.summary()"
   ]
  },
  {
   "cell_type": "code",
   "execution_count": null,
   "metadata": {},
   "outputs": [],
   "source": []
  },
  {
   "cell_type": "markdown",
   "metadata": {
    "ExecuteTime": {
     "end_time": "2020-11-09T09:01:08.013540Z",
     "start_time": "2020-11-09T09:01:08.008043Z"
    }
   },
   "source": [
    "## loss"
   ]
  },
  {
   "cell_type": "code",
   "execution_count": 18,
   "metadata": {
    "ExecuteTime": {
     "end_time": "2020-11-10T00:42:55.572860Z",
     "start_time": "2020-11-10T00:42:55.563613Z"
    }
   },
   "outputs": [
    {
     "name": "stdout",
     "output_type": "stream",
     "text": [
      "✅\n"
     ]
    }
   ],
   "source": [
    "optimizer=tf.keras.optimizers.Adam(1e-4)\n",
    "model_wav.compile(loss=tf.keras.losses.CategoricalCrossentropy(from_logits=True),\n",
    "             optimizer=optimizer,\n",
    "             metrics=['accuracy'])\n",
    "print(\"✅\")"
   ]
  },
  {
   "cell_type": "code",
   "execution_count": null,
   "metadata": {},
   "outputs": [],
   "source": []
  },
  {
   "cell_type": "markdown",
   "metadata": {},
   "source": [
    "## trainning"
   ]
  },
  {
   "cell_type": "code",
   "execution_count": 19,
   "metadata": {
    "ExecuteTime": {
     "end_time": "2020-11-10T00:42:55.588777Z",
     "start_time": "2020-11-10T00:42:55.586577Z"
    }
   },
   "outputs": [
    {
     "name": "stdout",
     "output_type": "stream",
     "text": [
      "✅\n"
     ]
    }
   ],
   "source": [
    "cp_callback = tf.keras.callbacks.ModelCheckpoint(checkpoint_dir,\n",
    "                                                 save_weights_only=True,\n",
    "                                                 monitor='val_loss',\n",
    "                                                 mode='auto',\n",
    "                                                 save_best_only=True,\n",
    "                                                 verbose=1)\n",
    "print(\"✅\")"
   ]
  },
  {
   "cell_type": "code",
   "execution_count": null,
   "metadata": {},
   "outputs": [],
   "source": []
  },
  {
   "cell_type": "code",
   "execution_count": 20,
   "metadata": {
    "ExecuteTime": {
     "end_time": "2020-11-10T01:08:33.600648Z",
     "start_time": "2020-11-10T00:42:55.589517Z"
    }
   },
   "outputs": [
    {
     "name": "stdout",
     "output_type": "stream",
     "text": [
      "Epoch 1/10\n",
      "  2/355 [..............................] - ETA: 1:08 - loss: 2.4709 - accuracy: 0.1016WARNING:tensorflow:Callbacks method `on_train_batch_end` is slow compared to the batch time (batch time: 0.1215s vs `on_train_batch_end` time: 0.2662s). Check your callbacks.\n",
      "355/355 [==============================] - ETA: 0s - loss: 1.4330 - accuracy: 0.5294\n",
      "Epoch 00001: val_loss improved from inf to 1.22914, saving model to /home/aiffel0042/aiffel/AIFFEL_LSG/utill/speech_recognition/checkpoint/wav\n",
      "355/355 [==============================] - 152s 427ms/step - loss: 1.4330 - accuracy: 0.5294 - val_loss: 1.2291 - val_accuracy: 0.6494\n",
      "Epoch 2/10\n",
      "355/355 [==============================] - ETA: 0s - loss: 0.8152 - accuracy: 0.7546\n",
      "Epoch 00002: val_loss improved from 1.22914 to 0.72890, saving model to /home/aiffel0042/aiffel/AIFFEL_LSG/utill/speech_recognition/checkpoint/wav\n",
      "355/355 [==============================] - 154s 433ms/step - loss: 0.8152 - accuracy: 0.7546 - val_loss: 0.7289 - val_accuracy: 0.7837\n",
      "Epoch 3/10\n",
      "355/355 [==============================] - ETA: 0s - loss: 0.5930 - accuracy: 0.8265\n",
      "Epoch 00003: val_loss improved from 0.72890 to 0.56428, saving model to /home/aiffel0042/aiffel/AIFFEL_LSG/utill/speech_recognition/checkpoint/wav\n",
      "355/355 [==============================] - 155s 435ms/step - loss: 0.5930 - accuracy: 0.8265 - val_loss: 0.5643 - val_accuracy: 0.8247\n",
      "Epoch 4/10\n",
      "355/355 [==============================] - ETA: 0s - loss: 0.4573 - accuracy: 0.8710\n",
      "Epoch 00004: val_loss did not improve from 0.56428\n",
      "355/355 [==============================] - 155s 436ms/step - loss: 0.4573 - accuracy: 0.8710 - val_loss: 0.5685 - val_accuracy: 0.8271\n",
      "Epoch 5/10\n",
      "355/355 [==============================] - ETA: 0s - loss: 0.3580 - accuracy: 0.9061\n",
      "Epoch 00005: val_loss improved from 0.56428 to 0.55472, saving model to /home/aiffel0042/aiffel/AIFFEL_LSG/utill/speech_recognition/checkpoint/wav\n",
      "355/355 [==============================] - 155s 437ms/step - loss: 0.3580 - accuracy: 0.9061 - val_loss: 0.5547 - val_accuracy: 0.8215\n",
      "Epoch 6/10\n",
      "355/355 [==============================] - ETA: 0s - loss: 0.2822 - accuracy: 0.9295\n",
      "Epoch 00006: val_loss improved from 0.55472 to 0.46736, saving model to /home/aiffel0042/aiffel/AIFFEL_LSG/utill/speech_recognition/checkpoint/wav\n",
      "355/355 [==============================] - 157s 441ms/step - loss: 0.2822 - accuracy: 0.9295 - val_loss: 0.4674 - val_accuracy: 0.8440\n",
      "Epoch 7/10\n",
      "355/355 [==============================] - ETA: 0s - loss: 0.2206 - accuracy: 0.9483\n",
      "Epoch 00007: val_loss improved from 0.46736 to 0.34544, saving model to /home/aiffel0042/aiffel/AIFFEL_LSG/utill/speech_recognition/checkpoint/wav\n",
      "355/355 [==============================] - 156s 440ms/step - loss: 0.2206 - accuracy: 0.9483 - val_loss: 0.3454 - val_accuracy: 0.8958\n",
      "Epoch 8/10\n",
      "355/355 [==============================] - ETA: 0s - loss: 0.1721 - accuracy: 0.9624\n",
      "Epoch 00008: val_loss did not improve from 0.34544\n",
      "355/355 [==============================] - 138s 388ms/step - loss: 0.1721 - accuracy: 0.9624 - val_loss: 0.3523 - val_accuracy: 0.8938\n",
      "Epoch 9/10\n",
      "355/355 [==============================] - ETA: 0s - loss: 0.1289 - accuracy: 0.9732\n",
      "Epoch 00009: val_loss improved from 0.34544 to 0.28413, saving model to /home/aiffel0042/aiffel/AIFFEL_LSG/utill/speech_recognition/checkpoint/wav\n",
      "355/355 [==============================] - 155s 438ms/step - loss: 0.1289 - accuracy: 0.9732 - val_loss: 0.2841 - val_accuracy: 0.9133\n",
      "Epoch 10/10\n",
      "355/355 [==============================] - ETA: 0s - loss: 0.0999 - accuracy: 0.9800\n",
      "Epoch 00010: val_loss improved from 0.28413 to 0.27319, saving model to /home/aiffel0042/aiffel/AIFFEL_LSG/utill/speech_recognition/checkpoint/wav\n",
      "355/355 [==============================] - 151s 424ms/step - loss: 0.0999 - accuracy: 0.9800 - val_loss: 0.2732 - val_accuracy: 0.9213\n",
      "✅\n"
     ]
    }
   ],
   "source": [
    "#30분 내외 소요\n",
    "history_wav = model_wav.fit(train_dataset, epochs=max_epochs,\n",
    "                    steps_per_epoch=len(train_wav) // batch_size,\n",
    "                    validation_data=test_dataset,\n",
    "                    validation_steps=len(test_wav) // batch_size,\n",
    "                    callbacks=[cp_callback]\n",
    "                    )\n",
    "print(\"✅\")"
   ]
  },
  {
   "cell_type": "code",
   "execution_count": null,
   "metadata": {},
   "outputs": [],
   "source": []
  },
  {
   "cell_type": "markdown",
   "metadata": {},
   "source": [
    "## 학습 결과"
   ]
  },
  {
   "cell_type": "code",
   "execution_count": 21,
   "metadata": {
    "ExecuteTime": {
     "end_time": "2020-11-10T01:08:33.782093Z",
     "start_time": "2020-11-10T01:08:33.627771Z"
    }
   },
   "outputs": [
    {
     "data": {
      "image/png": "[encoded data removed]",
      "text/plain": [
       "<Figure size 576x576 with 2 Axes>"
      ]
     },
     "metadata": {
      "needs_background": "light"
     },
     "output_type": "display_data"
    },
    {
     "name": "stdout",
     "output_type": "stream",
     "text": [
      "✅\n"
     ]
    }
   ],
   "source": [
    "import matplotlib.pyplot as plt\n",
    "\n",
    "acc = history_wav.history['accuracy']\n",
    "val_acc = history_wav.history['val_accuracy']\n",
    "\n",
    "loss=history_wav.history['loss']\n",
    "val_loss=history_wav.history['val_loss']\n",
    "\n",
    "epochs_range = range(len(acc))\n",
    "\n",
    "plt.figure(figsize=(8, 8))\n",
    "plt.subplot(1, 2, 1)\n",
    "plt.plot(epochs_range, acc, label='Training Accuracy')\n",
    "plt.plot(epochs_range, val_acc, label='Validation Accuracy')\n",
    "plt.legend(loc='lower right')\n",
    "plt.title('Training and Validation Accuracy')\n",
    "\n",
    "plt.subplot(1, 2, 2)\n",
    "plt.plot(epochs_range, loss, label='Training Loss')\n",
    "plt.plot(epochs_range, val_loss, label='Validation Loss')\n",
    "plt.legend(loc='upper right')\n",
    "plt.title('Training and Validation Loss')\n",
    "plt.show()\n",
    "print(\"✅\")"
   ]
  },
  {
   "cell_type": "code",
   "execution_count": null,
   "metadata": {},
   "outputs": [],
   "source": []
  },
  {
   "cell_type": "code",
   "execution_count": null,
   "metadata": {},
   "outputs": [],
   "source": []
  },
  {
   "cell_type": "markdown",
   "metadata": {
    "ExecuteTime": {
     "start_time": "2020-11-09T09:02:39.977Z"
    }
   },
   "source": [
    "## 평가"
   ]
  },
  {
   "cell_type": "code",
   "execution_count": 22,
   "metadata": {
    "ExecuteTime": {
     "end_time": "2020-11-10T01:08:34.753777Z",
     "start_time": "2020-11-10T01:08:33.795588Z"
    }
   },
   "outputs": [
    {
     "data": {
      "image/png": "[encoded data removed]",
      "text/plain": [
       "<Figure size 576x576 with 2 Axes>"
      ]
     },
     "metadata": {
      "needs_background": "light"
     },
     "output_type": "display_data"
    },
    {
     "name": "stdout",
     "output_type": "stream",
     "text": [
      "✅\n"
     ]
    }
   ],
   "source": [
    "import matplotlib.pyplot as plt\n",
    "\n",
    "acc = history_wav.history['accuracy']\n",
    "val_acc = history_wav.history['val_accuracy']\n",
    "\n",
    "loss=history_wav.history['loss']\n",
    "val_loss=history_wav.history['val_loss']\n",
    "\n",
    "epochs_range = range(len(acc))\n",
    "\n",
    "plt.figure(figsize=(8, 8))\n",
    "plt.subplot(1, 2, 1)\n",
    "plt.plot(epochs_range, acc, label='Training Accuracy')\n",
    "plt.plot(epochs_range, val_acc, label='Validation Accuracy')\n",
    "plt.legend(loc='lower right')\n",
    "plt.title('Training and Validation Accuracy')\n",
    "\n",
    "plt.subplot(1, 2, 2)\n",
    "plt.plot(epochs_range, loss, label='Training Loss')\n",
    "plt.plot(epochs_range, val_loss, label='Validation Loss')\n",
    "plt.legend(loc='upper right')\n",
    "plt.title('Training and Validation Loss')\n",
    "plt.show()\n",
    "print(\"✅\")"
   ]
  },
  {
   "cell_type": "code",
   "execution_count": 23,
   "metadata": {
    "ExecuteTime": {
     "end_time": "2020-11-10T01:08:41.610662Z",
     "start_time": "2020-11-10T01:08:34.754822Z"
    }
   },
   "outputs": [
    {
     "name": "stdout",
     "output_type": "stream",
     "text": [
      "40/40 [==============================] - 7s 164ms/step - loss: 0.2725 - accuracy: 0.9214\n",
      "✅\n"
     ]
    }
   ],
   "source": [
    "results = model_wav.evaluate(test_dataset)\n",
    "print(\"✅\")"
   ]
  },
  {
   "cell_type": "code",
   "execution_count": null,
   "metadata": {},
   "outputs": [],
   "source": []
  },
  {
   "cell_type": "code",
   "execution_count": 24,
   "metadata": {
    "ExecuteTime": {
     "end_time": "2020-11-10T01:08:41.643259Z",
     "start_time": "2020-11-10T01:08:41.640137Z"
    }
   },
   "outputs": [
    {
     "name": "stdout",
     "output_type": "stream",
     "text": [
      "loss value: 0.273\n",
      "accuracy value: 92.1375%\n",
      "✅\n"
     ]
    }
   ],
   "source": [
    "# loss\n",
    "print(\"loss value: {:.3f}\".format(results[0]))\n",
    "# accuracy\n",
    "print(\"accuracy value: {:.4f}%\".format(results[1]*100))\n",
    "print(\"✅\")"
   ]
  },
  {
   "cell_type": "code",
   "execution_count": null,
   "metadata": {},
   "outputs": [],
   "source": []
  },
  {
   "cell_type": "markdown",
   "metadata": {},
   "source": [
    "## model test"
   ]
  },
  {
   "cell_type": "code",
   "execution_count": 25,
   "metadata": {
    "ExecuteTime": {
     "end_time": "2020-11-10T01:08:44.162740Z",
     "start_time": "2020-11-10T01:08:41.659575Z"
    }
   },
   "outputs": [
    {
     "name": "stdout",
     "output_type": "stream",
     "text": [
      "label :  up\n"
     ]
    },
    {
     "data": {
      "text/html": [
       "\n",
       "                <audio  controls=\"controls\" >\n",
       "                    <source src=\"data:audio/wav;base64,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\" type=\"audio/wav\" />\n",
       "                    Your browser does not support the audio element.\n",
       "                </audio>\n",
       "              "
      ],
      "text/plain": [
       "<IPython.lib.display.Audio object>"
      ]
     },
     "execution_count": 25,
     "metadata": {},
     "output_type": "execute_result"
    }
   ],
   "source": [
    "inv_label_value = {v: k for k, v in label_value.items()}\n",
    "batch_index = np.random.choice(len(test_wav), size=1, replace=False)\n",
    "\n",
    "batch_xs = test_wav[batch_index]\n",
    "batch_ys = test_label[batch_index]\n",
    "y_pred_ = model_wav(batch_xs, training=False)\n",
    "\n",
    "print(\"label : \", str(inv_label_value[batch_ys[0]]))\n",
    "\n",
    "ipd.Audio(batch_xs.reshape(8000,), rate=8000)"
   ]
  },
  {
   "cell_type": "code",
   "execution_count": null,
   "metadata": {},
   "outputs": [],
   "source": []
  },
  {
   "cell_type": "code",
   "execution_count": 26,
   "metadata": {
    "ExecuteTime": {
     "end_time": "2020-11-10T01:08:44.182361Z",
     "start_time": "2020-11-10T01:08:44.179320Z"
    }
   },
   "outputs": [
    {
     "name": "stdout",
     "output_type": "stream",
     "text": [
      "y_pred: up\n",
      "✅\n"
     ]
    }
   ],
   "source": [
    "if np.argmax(y_pred_) == test_label[i]:\n",
    "    print(\"y_pred: \" + str(inv_label_value[np.argmax(y_pred_)]))\n",
    "else:\n",
    "    print(\"y_pred: \" + str(inv_label_value[np.argmax(y_pred_)]))\n",
    "print(\"✅\")"
   ]
  },
  {
   "cell_type": "code",
   "execution_count": null,
   "metadata": {},
   "outputs": [],
   "source": []
  },
  {
   "cell_type": "markdown",
   "metadata": {},
   "source": [
    "## skip-connetion model\n",
    "\n",
    "- conv1d 사용"
   ]
  },
  {
   "cell_type": "code",
   "execution_count": 27,
   "metadata": {
    "ExecuteTime": {
     "end_time": "2020-11-10T01:08:44.311779Z",
     "start_time": "2020-11-10T01:08:44.197568Z"
    }
   },
   "outputs": [
    {
     "name": "stdout",
     "output_type": "stream",
     "text": [
      "Model: \"functional_3\"\n",
      "__________________________________________________________________________________________________\n",
      "Layer (type)                    Output Shape         Param #     Connected to                     \n",
      "==================================================================================================\n",
      "input_2 (InputLayer)            [(None, 8000, 1)]    0                                            \n",
      "__________________________________________________________________________________________________\n",
      "conv1d_10 (Conv1D)              (None, 8000, 32)     320         input_2[0][0]                    \n",
      "__________________________________________________________________________________________________\n",
      "conv1d_11 (Conv1D)              (None, 8000, 32)     9248        conv1d_10[0][0]                  \n",
      "__________________________________________________________________________________________________\n",
      "max_pooling1d_4 (MaxPooling1D)  (None, 4000, 32)     0           conv1d_11[0][0]                  \n",
      "__________________________________________________________________________________________________\n",
      "conv1d_12 (Conv1D)              (None, 4000, 64)     18496       max_pooling1d_4[0][0]            \n",
      "__________________________________________________________________________________________________\n",
      "conv1d_13 (Conv1D)              (None, 4000, 64)     36928       conv1d_12[0][0]                  \n",
      "__________________________________________________________________________________________________\n",
      "tf_op_layer_concat (TensorFlowO [(None, 4000, 96)]   0           conv1d_13[0][0]                  \n",
      "                                                                 max_pooling1d_4[0][0]            \n",
      "__________________________________________________________________________________________________\n",
      "max_pooling1d_5 (MaxPooling1D)  (None, 2000, 96)     0           tf_op_layer_concat[0][0]         \n",
      "__________________________________________________________________________________________________\n",
      "conv1d_14 (Conv1D)              (None, 2000, 128)    110720      max_pooling1d_5[0][0]            \n",
      "__________________________________________________________________________________________________\n",
      "conv1d_15 (Conv1D)              (None, 2000, 128)    147584      conv1d_14[0][0]                  \n",
      "__________________________________________________________________________________________________\n",
      "conv1d_16 (Conv1D)              (None, 2000, 128)    147584      conv1d_15[0][0]                  \n",
      "__________________________________________________________________________________________________\n",
      "tf_op_layer_concat_1 (TensorFlo [(None, 2000, 224)]  0           conv1d_16[0][0]                  \n",
      "                                                                 max_pooling1d_5[0][0]            \n",
      "__________________________________________________________________________________________________\n",
      "max_pooling1d_6 (MaxPooling1D)  (None, 1000, 224)    0           tf_op_layer_concat_1[0][0]       \n",
      "__________________________________________________________________________________________________\n",
      "conv1d_17 (Conv1D)              (None, 1000, 256)    516352      max_pooling1d_6[0][0]            \n",
      "__________________________________________________________________________________________________\n",
      "conv1d_18 (Conv1D)              (None, 1000, 256)    590080      conv1d_17[0][0]                  \n",
      "__________________________________________________________________________________________________\n",
      "conv1d_19 (Conv1D)              (None, 1000, 256)    590080      conv1d_18[0][0]                  \n",
      "__________________________________________________________________________________________________\n",
      "tf_op_layer_concat_2 (TensorFlo [(None, 1000, 480)]  0           conv1d_19[0][0]                  \n",
      "                                                                 max_pooling1d_6[0][0]            \n",
      "__________________________________________________________________________________________________\n",
      "max_pooling1d_7 (MaxPooling1D)  (None, 500, 480)     0           tf_op_layer_concat_2[0][0]       \n",
      "__________________________________________________________________________________________________\n",
      "dropout_1 (Dropout)             (None, 500, 480)     0           max_pooling1d_7[0][0]            \n",
      "__________________________________________________________________________________________________\n",
      "flatten_1 (Flatten)             (None, 240000)       0           dropout_1[0][0]                  \n",
      "__________________________________________________________________________________________________\n",
      "dense_2 (Dense)                 (None, 256)          61440256    flatten_1[0][0]                  \n",
      "__________________________________________________________________________________________________\n",
      "batch_normalization_1 (BatchNor (None, 256)          1024        dense_2[0][0]                    \n",
      "__________________________________________________________________________________________________\n",
      "activation_1 (Activation)       (None, 256)          0           batch_normalization_1[0][0]      \n",
      "__________________________________________________________________________________________________\n",
      "dense_3 (Dense)                 (None, 12)           3084        activation_1[0][0]               \n",
      "==================================================================================================\n",
      "Total params: 63,611,756\n",
      "Trainable params: 63,611,244\n",
      "Non-trainable params: 512\n",
      "__________________________________________________________________________________________________\n"
     ]
    }
   ],
   "source": [
    "input_tensor = layers.Input(shape=(sr, 1))\n",
    "\n",
    "x = layers.Conv1D(32, 9, padding='same', activation='relu')(input_tensor)\n",
    "x = layers.Conv1D(32, 9, padding='same', activation='relu')(x)\n",
    "skip_1 = layers.MaxPool1D()(x)\n",
    "\n",
    "x = layers.Conv1D(64, 9, padding='same', activation='relu')(skip_1)\n",
    "x = layers.Conv1D(64, 9, padding='same', activation='relu')(x)\n",
    "x = tf.concat([x, skip_1], -1)\n",
    "skip_2 = layers.MaxPool1D()(x)\n",
    "\n",
    "x = layers.Conv1D(128, 9, padding='same', activation='relu')(skip_2)\n",
    "x = layers.Conv1D(128, 9, padding='same', activation='relu')(x)\n",
    "x = layers.Conv1D(128, 9, padding='same', activation='relu')(x)\n",
    "x = tf.concat([x, skip_2], -1)\n",
    "skip_3 = layers.MaxPool1D()(x)\n",
    "\n",
    "x = layers.Conv1D(256, 9, padding='same', activation='relu')(skip_3)\n",
    "x = layers.Conv1D(256, 9, padding='same', activation='relu')(x)\n",
    "x = layers.Conv1D(256, 9, padding='same', activation='relu')(x)\n",
    "x = tf.concat([x, skip_3], -1)\n",
    "x = layers.MaxPool1D()(x)\n",
    "x = layers.Dropout(0.3)(x)\n",
    "\n",
    "x = layers.Flatten()(x)\n",
    "x = layers.Dense(256)(x)\n",
    "x = layers.BatchNormalization()(x)\n",
    "x = layers.Activation('relu')(x)\n",
    "\n",
    "output_tensor = layers.Dense(12)(x)\n",
    "\n",
    "model_wav_skip = tf.keras.Model(input_tensor, output_tensor)\n",
    "\n",
    "model_wav_skip.summary()"
   ]
  },
  {
   "cell_type": "code",
   "execution_count": null,
   "metadata": {},
   "outputs": [],
   "source": []
  },
  {
   "cell_type": "code",
   "execution_count": 28,
   "metadata": {
    "ExecuteTime": {
     "end_time": "2020-11-10T01:08:44.319636Z",
     "start_time": "2020-11-10T01:08:44.312512Z"
    }
   },
   "outputs": [
    {
     "name": "stdout",
     "output_type": "stream",
     "text": [
      "✅\n"
     ]
    }
   ],
   "source": [
    "optimizer=tf.keras.optimizers.Adam(1e-4)\n",
    "model_wav_skip.compile(loss=tf.keras.losses.CategoricalCrossentropy(from_logits=True),\n",
    "             optimizer=optimizer,\n",
    "             metrics=['accuracy'])\n",
    "print(\"✅\")"
   ]
  },
  {
   "cell_type": "code",
   "execution_count": null,
   "metadata": {},
   "outputs": [],
   "source": []
  },
  {
   "cell_type": "code",
   "execution_count": 29,
   "metadata": {
    "ExecuteTime": {
     "end_time": "2020-11-10T01:08:44.348763Z",
     "start_time": "2020-11-10T01:08:44.346422Z"
    }
   },
   "outputs": [
    {
     "name": "stdout",
     "output_type": "stream",
     "text": [
      "✅\n"
     ]
    }
   ],
   "source": [
    "# the save point\n",
    "checkpoint_dir = os.getenv('HOME')+'/aiffel/AIFFEL_LSG/utill/speech_recognition/checkpoint/wav_skip'\n",
    "\n",
    "\n",
    "cp_callback = tf.keras.callbacks.ModelCheckpoint(checkpoint_dir,\n",
    "                                                 save_weights_only=True,\n",
    "                                                 monitor='val_loss',\n",
    "                                                 mode='auto',\n",
    "                                                 save_best_only=True,\n",
    "                                                 verbose=1)\n",
    "print(\"✅\")"
   ]
  },
  {
   "cell_type": "code",
   "execution_count": null,
   "metadata": {},
   "outputs": [],
   "source": []
  },
  {
   "cell_type": "code",
   "execution_count": 30,
   "metadata": {
    "ExecuteTime": {
     "end_time": "2020-11-10T01:37:13.079464Z",
     "start_time": "2020-11-10T01:08:44.363161Z"
    }
   },
   "outputs": [
    {
     "name": "stdout",
     "output_type": "stream",
     "text": [
      "Epoch 1/10\n",
      "  2/355 [..............................] - ETA: 1:24 - loss: 2.6303 - accuracy: 0.1250WARNING:tensorflow:Callbacks method `on_train_batch_end` is slow compared to the batch time (batch time: 0.1265s vs `on_train_batch_end` time: 0.2818s). Check your callbacks.\n",
      "355/355 [==============================] - ETA: 0s - loss: 1.3112 - accuracy: 0.5815\n",
      "Epoch 00001: val_loss improved from inf to 1.18370, saving model to /home/aiffel0042/aiffel/AIFFEL_LSG/utill/speech_recognition/checkpoint/wav_skip\n",
      "355/355 [==============================] - 168s 474ms/step - loss: 1.3112 - accuracy: 0.5815 - val_loss: 1.1837 - val_accuracy: 0.7037\n",
      "Epoch 2/10\n",
      "355/355 [==============================] - ETA: 0s - loss: 0.7139 - accuracy: 0.7952\n",
      "Epoch 00002: val_loss improved from 1.18370 to 0.70063, saving model to /home/aiffel0042/aiffel/AIFFEL_LSG/utill/speech_recognition/checkpoint/wav_skip\n",
      "355/355 [==============================] - 170s 478ms/step - loss: 0.7139 - accuracy: 0.7952 - val_loss: 0.7006 - val_accuracy: 0.7941\n",
      "Epoch 3/10\n",
      "355/355 [==============================] - ETA: 0s - loss: 0.4657 - accuracy: 0.8778\n",
      "Epoch 00003: val_loss improved from 0.70063 to 0.65816, saving model to /home/aiffel0042/aiffel/AIFFEL_LSG/utill/speech_recognition/checkpoint/wav_skip\n",
      "355/355 [==============================] - 184s 518ms/step - loss: 0.4657 - accuracy: 0.8778 - val_loss: 0.6582 - val_accuracy: 0.7893\n",
      "Epoch 4/10\n",
      "355/355 [==============================] - ETA: 0s - loss: 0.2995 - accuracy: 0.9327\n",
      "Epoch 00004: val_loss improved from 0.65816 to 0.46811, saving model to /home/aiffel0042/aiffel/AIFFEL_LSG/utill/speech_recognition/checkpoint/wav_skip\n",
      "355/355 [==============================] - 189s 533ms/step - loss: 0.2995 - accuracy: 0.9327 - val_loss: 0.4681 - val_accuracy: 0.8574\n",
      "Epoch 5/10\n",
      "355/355 [==============================] - ETA: 0s - loss: 0.2005 - accuracy: 0.9588\n",
      "Epoch 00005: val_loss improved from 0.46811 to 0.38800, saving model to /home/aiffel0042/aiffel/AIFFEL_LSG/utill/speech_recognition/checkpoint/wav_skip\n",
      "355/355 [==============================] - 159s 447ms/step - loss: 0.2005 - accuracy: 0.9588 - val_loss: 0.3880 - val_accuracy: 0.8846\n",
      "Epoch 6/10\n",
      "355/355 [==============================] - ETA: 0s - loss: 0.1360 - accuracy: 0.9741\n",
      "Epoch 00006: val_loss did not improve from 0.38800\n",
      "355/355 [==============================] - 178s 501ms/step - loss: 0.1360 - accuracy: 0.9741 - val_loss: 0.3900 - val_accuracy: 0.8758\n",
      "Epoch 7/10\n",
      "355/355 [==============================] - ETA: 0s - loss: 0.0963 - accuracy: 0.9827\n",
      "Epoch 00007: val_loss improved from 0.38800 to 0.28424, saving model to /home/aiffel0042/aiffel/AIFFEL_LSG/utill/speech_recognition/checkpoint/wav_skip\n",
      "355/355 [==============================] - 171s 482ms/step - loss: 0.0963 - accuracy: 0.9827 - val_loss: 0.2842 - val_accuracy: 0.9213\n",
      "Epoch 8/10\n",
      "355/355 [==============================] - ETA: 0s - loss: 0.0717 - accuracy: 0.9867\n",
      "Epoch 00008: val_loss improved from 0.28424 to 0.26860, saving model to /home/aiffel0042/aiffel/AIFFEL_LSG/utill/speech_recognition/checkpoint/wav_skip\n",
      "355/355 [==============================] - 172s 484ms/step - loss: 0.0717 - accuracy: 0.9867 - val_loss: 0.2686 - val_accuracy: 0.9247\n",
      "Epoch 9/10\n",
      "355/355 [==============================] - ETA: 0s - loss: 0.0539 - accuracy: 0.9903\n",
      "Epoch 00009: val_loss improved from 0.26860 to 0.26708, saving model to /home/aiffel0042/aiffel/AIFFEL_LSG/utill/speech_recognition/checkpoint/wav_skip\n",
      "355/355 [==============================] - 157s 442ms/step - loss: 0.0539 - accuracy: 0.9903 - val_loss: 0.2671 - val_accuracy: 0.9283\n",
      "Epoch 10/10\n",
      "355/355 [==============================] - ETA: 0s - loss: 0.0408 - accuracy: 0.9920\n",
      "Epoch 00010: val_loss did not improve from 0.26708\n",
      "355/355 [==============================] - 157s 441ms/step - loss: 0.0408 - accuracy: 0.9920 - val_loss: 0.2861 - val_accuracy: 0.9185\n",
      "✅\n"
     ]
    }
   ],
   "source": [
    "#30분 내외 소요\n",
    "history_wav_skip = model_wav_skip.fit(train_dataset, epochs=max_epochs,\n",
    "                    steps_per_epoch=len(train_wav) // batch_size,\n",
    "                    validation_data=test_dataset,\n",
    "                    validation_steps=len(test_wav) // batch_size,\n",
    "                    callbacks=[cp_callback]\n",
    "                    )\n",
    "print(\"✅\")"
   ]
  },
  {
   "cell_type": "code",
   "execution_count": null,
   "metadata": {},
   "outputs": [],
   "source": []
  },
  {
   "cell_type": "code",
   "execution_count": 31,
   "metadata": {
    "ExecuteTime": {
     "end_time": "2020-11-10T01:37:13.246050Z",
     "start_time": "2020-11-10T01:37:13.096249Z"
    }
   },
   "outputs": [
    {
     "data": {
      "image/png": "[encoded data removed]",
      "text/plain": [
       "<Figure size 576x576 with 2 Axes>"
      ]
     },
     "metadata": {
      "needs_background": "light"
     },
     "output_type": "display_data"
    },
    {
     "name": "stdout",
     "output_type": "stream",
     "text": [
      "✅\n"
     ]
    }
   ],
   "source": [
    "import matplotlib.pyplot as plt\n",
    "\n",
    "acc = history_wav_skip.history['accuracy']\n",
    "val_acc = history_wav_skip.history['val_accuracy']\n",
    "\n",
    "loss=history_wav_skip.history['loss']\n",
    "val_loss=history_wav_skip.history['val_loss']\n",
    "\n",
    "epochs_range = range(len(acc))\n",
    "\n",
    "plt.figure(figsize=(8, 8))\n",
    "plt.subplot(1, 2, 1)\n",
    "plt.plot(epochs_range, acc, label='Training Accuracy')\n",
    "plt.plot(epochs_range, val_acc, label='Validation Accuracy')\n",
    "plt.legend(loc='lower right')\n",
    "plt.title('Training and Validation Accuracy')\n",
    "\n",
    "plt.subplot(1, 2, 2)\n",
    "plt.plot(epochs_range, loss, label='Training Loss')\n",
    "plt.plot(epochs_range, val_loss, label='Validation Loss')\n",
    "plt.legend(loc='upper right')\n",
    "plt.title('Training and Validation Loss')\n",
    "plt.show()\n",
    "print(\"✅\")"
   ]
  },
  {
   "cell_type": "code",
   "execution_count": null,
   "metadata": {},
   "outputs": [],
   "source": []
  },
  {
   "cell_type": "code",
   "execution_count": 32,
   "metadata": {
    "ExecuteTime": {
     "end_time": "2020-11-10T01:37:19.265136Z",
     "start_time": "2020-11-10T01:37:13.261079Z"
    }
   },
   "outputs": [
    {
     "name": "stdout",
     "output_type": "stream",
     "text": [
      "40/40 [==============================] - 5s 132ms/step - loss: 0.2665 - accuracy: 0.9285\n",
      "loss value: 0.266\n",
      "accuracy value: 92.8487%\n",
      "✅\n"
     ]
    }
   ],
   "source": [
    "# Evaluation \n",
    "\n",
    "model_wav_skip.load_weights(checkpoint_dir)\n",
    "results = model_wav_skip.evaluate(test_dataset)\n",
    "\n",
    "# loss\n",
    "print(\"loss value: {:.3f}\".format(results[0]))\n",
    "# accuracy\n",
    "print(\"accuracy value: {:.4f}%\".format(results[1]*100))\n",
    "print(\"✅\")"
   ]
  },
  {
   "cell_type": "code",
   "execution_count": null,
   "metadata": {},
   "outputs": [],
   "source": []
  },
  {
   "cell_type": "code",
   "execution_count": 35,
   "metadata": {
    "ExecuteTime": {
     "end_time": "2020-11-10T01:51:42.668489Z",
     "start_time": "2020-11-10T01:51:42.639707Z"
    }
   },
   "outputs": [
    {
     "name": "stdout",
     "output_type": "stream",
     "text": [
      "label :  left\n"
     ]
    },
    {
     "data": {
      "text/html": [
       "\n",
       "                <audio  controls=\"controls\" >\n",
       "                    <source src=\"data:audio/wav;base64,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\" type=\"audio/wav\" />\n",
       "                    Your browser does not support the audio element.\n",
       "                </audio>\n",
       "              "
      ],
      "text/plain": [
       "<IPython.lib.display.Audio object>"
      ]
     },
     "execution_count": 35,
     "metadata": {},
     "output_type": "execute_result"
    }
   ],
   "source": [
    "# Test \n",
    "\n",
    "inv_label_value = {v: k for k, v in label_value.items()}\n",
    "batch_index = np.random.choice(len(test_wav), size=1, replace=False)\n",
    "\n",
    "batch_xs = test_wav[batch_index]\n",
    "batch_ys = test_label[batch_index]\n",
    "y_pred_ = model_wav_skip(batch_xs, training=False)\n",
    "\n",
    "print(\"label : \", str(inv_label_value[batch_ys[0]]))\n",
    "\n",
    "ipd.Audio(batch_xs.reshape(8000,), rate=8000)"
   ]
  },
  {
   "cell_type": "code",
   "execution_count": null,
   "metadata": {},
   "outputs": [],
   "source": []
  },
  {
   "cell_type": "code",
   "execution_count": 34,
   "metadata": {
    "ExecuteTime": {
     "end_time": "2020-11-10T01:37:19.970988Z",
     "start_time": "2020-11-10T01:37:19.967721Z"
    }
   },
   "outputs": [
    {
     "name": "stdout",
     "output_type": "stream",
     "text": [
      "y_pred: go\n",
      "✅\n"
     ]
    }
   ],
   "source": [
    "if np.argmax(y_pred_) == test_label[i]:\n",
    "    print(\"y_pred: \" + str(inv_label_value[np.argmax(y_pred_)]))\n",
    "else:\n",
    "    print(\"y_pred: \" + str(inv_label_value[np.argmax(y_pred_)]))\n",
    "print(\"✅\")"
   ]
  },
  {
   "cell_type": "code",
   "execution_count": null,
   "metadata": {},
   "outputs": [],
   "source": []
  },
  {
   "cell_type": "markdown",
   "metadata": {
    "ExecuteTime": {
     "start_time": "2020-11-09T09:16:35.272Z"
    }
   },
   "source": [
    "## Spectrogram\n",
    "- 푸리에변한\n",
    "- 오일러 공식 (지수함수와 주기함수와의 관계)\n",
    "- STFT(Short Time Fourier Transform)"
   ]
  },
  {
   "cell_type": "markdown",
   "metadata": {},
   "source": [
    "#### library install"
   ]
  },
  {
   "cell_type": "code",
   "execution_count": 36,
   "metadata": {
    "ExecuteTime": {
     "end_time": "2020-11-10T03:05:15.500324Z",
     "start_time": "2020-11-10T03:05:10.117253Z"
    }
   },
   "outputs": [
    {
     "name": "stdout",
     "output_type": "stream",
     "text": [
      "Collecting librosa\n",
      "  Downloading librosa-0.8.0.tar.gz (183 kB)\n",
      "\u001b[K     |████████████████████████████████| 183 kB 539 kB/s eta 0:00:01\n",
      "\u001b[?25hCollecting audioread>=2.0.0\n",
      "  Downloading audioread-2.1.9.tar.gz (377 kB)\n",
      "\u001b[K     |████████████████████████████████| 377 kB 7.4 MB/s eta 0:00:01\n",
      "\u001b[?25hRequirement already satisfied: numpy>=1.15.0 in /home/aiffel0042/anaconda3/envs/aiffel/lib/python3.7/site-packages (from librosa) (1.18.5)\n",
      "Requirement already satisfied: scipy>=1.0.0 in /home/aiffel0042/anaconda3/envs/aiffel/lib/python3.7/site-packages (from librosa) (1.4.1)\n",
      "Requirement already satisfied: scikit-learn!=0.19.0,>=0.14.0 in /home/aiffel0042/anaconda3/envs/aiffel/lib/python3.7/site-packages (from librosa) (0.23.1)\n",
      "Requirement already satisfied: joblib>=0.14 in /home/aiffel0042/anaconda3/envs/aiffel/lib/python3.7/site-packages (from librosa) (0.16.0)\n",
      "Requirement already satisfied: decorator>=3.0.0 in /home/aiffel0042/anaconda3/envs/aiffel/lib/python3.7/site-packages (from librosa) (4.4.2)\n",
      "Collecting resampy>=0.2.2\n",
      "  Downloading resampy-0.2.2.tar.gz (323 kB)\n",
      "\u001b[K     |████████████████████████████████| 323 kB 3.2 MB/s eta 0:00:01\n",
      "\u001b[?25hRequirement already satisfied: numba>=0.43.0 in /home/aiffel0042/anaconda3/envs/aiffel/lib/python3.7/site-packages (from librosa) (0.50.1)\n",
      "Collecting soundfile>=0.9.0\n",
      "  Downloading SoundFile-0.10.3.post1-py2.py3-none-any.whl (21 kB)\n",
      "Collecting pooch>=1.0\n",
      "  Downloading pooch-1.2.0-py3-none-any.whl (47 kB)\n",
      "\u001b[K     |████████████████████████████████| 47 kB 3.7 MB/s  eta 0:00:01\n",
      "\u001b[?25hRequirement already satisfied: threadpoolctl>=2.0.0 in /home/aiffel0042/anaconda3/envs/aiffel/lib/python3.7/site-packages (from scikit-learn!=0.19.0,>=0.14.0->librosa) (2.1.0)\n",
      "Requirement already satisfied: six>=1.3 in /home/aiffel0042/anaconda3/envs/aiffel/lib/python3.7/site-packages (from resampy>=0.2.2->librosa) (1.15.0)\n",
      "Requirement already satisfied: setuptools in /home/aiffel0042/anaconda3/envs/aiffel/lib/python3.7/site-packages (from numba>=0.43.0->librosa) (47.3.1.post20200622)\n",
      "Requirement already satisfied: llvmlite<0.34,>=0.33.0.dev0 in /home/aiffel0042/anaconda3/envs/aiffel/lib/python3.7/site-packages (from numba>=0.43.0->librosa) (0.33.0)\n",
      "Requirement already satisfied: cffi>=1.0 in /home/aiffel0042/anaconda3/envs/aiffel/lib/python3.7/site-packages (from soundfile>=0.9.0->librosa) (1.14.0)\n",
      "Requirement already satisfied: packaging in /home/aiffel0042/anaconda3/envs/aiffel/lib/python3.7/site-packages (from pooch>=1.0->librosa) (20.4)\n",
      "Collecting appdirs\n",
      "  Downloading appdirs-1.4.4-py2.py3-none-any.whl (9.6 kB)\n",
      "Requirement already satisfied: requests in /home/aiffel0042/anaconda3/envs/aiffel/lib/python3.7/site-packages (from pooch>=1.0->librosa) (2.24.0)\n",
      "Requirement already satisfied: pycparser in /home/aiffel0042/anaconda3/envs/aiffel/lib/python3.7/site-packages (from cffi>=1.0->soundfile>=0.9.0->librosa) (2.20)\n",
      "Requirement already satisfied: pyparsing>=2.0.2 in /home/aiffel0042/anaconda3/envs/aiffel/lib/python3.7/site-packages (from packaging->pooch>=1.0->librosa) (2.4.7)\n",
      "Requirement already satisfied: certifi>=2017.4.17 in /home/aiffel0042/anaconda3/envs/aiffel/lib/python3.7/site-packages (from requests->pooch>=1.0->librosa) (2020.6.20)\n",
      "Requirement already satisfied: idna<3,>=2.5 in /home/aiffel0042/anaconda3/envs/aiffel/lib/python3.7/site-packages (from requests->pooch>=1.0->librosa) (2.10)\n",
      "Requirement already satisfied: chardet<4,>=3.0.2 in /home/aiffel0042/anaconda3/envs/aiffel/lib/python3.7/site-packages (from requests->pooch>=1.0->librosa) (3.0.4)\n",
      "Requirement already satisfied: urllib3!=1.25.0,!=1.25.1,<1.26,>=1.21.1 in /home/aiffel0042/anaconda3/envs/aiffel/lib/python3.7/site-packages (from requests->pooch>=1.0->librosa) (1.25.9)\n",
      "Building wheels for collected packages: librosa, audioread, resampy\n",
      "  Building wheel for librosa (setup.py) ... \u001b[?25ldone\n",
      "\u001b[?25h  Created wheel for librosa: filename=librosa-0.8.0-py3-none-any.whl size=201374 sha256=bfb2107d899f63c6b73f20bcbfab9b254df17d195748304130dd8063f8ec3b96\n",
      "  Stored in directory: /home/aiffel0042/.cache/pip/wheels/de/1e/aa/d91797ae7e1ce11853ee100bee9d1781ae9d750e7458c95afb\n",
      "  Building wheel for audioread (setup.py) ... \u001b[?25ldone\n",
      "\u001b[?25h  Created wheel for audioread: filename=audioread-2.1.9-py3-none-any.whl size=23142 sha256=2f61d4dd8cdcc2c49cef78bc0599bbd75ca3cb9cc55dcb40c40eef5ed67a05ac\n",
      "  Stored in directory: /home/aiffel0042/.cache/pip/wheels/ba/7b/eb/213741ccc0678f63e346ab8dff10495995ca3f426af87b8d88\n",
      "  Building wheel for resampy (setup.py) ... \u001b[?25ldone\n",
      "\u001b[?25h  Created wheel for resampy: filename=resampy-0.2.2-py3-none-any.whl size=320720 sha256=27149ef7e4c29f08d95662a2b1cf6ae82e9f675834e1ac7acb0a51cfe6bcfc20\n",
      "  Stored in directory: /home/aiffel0042/.cache/pip/wheels/a0/18/0a/8ad18a597d8333a142c9789338a96a6208f1198d290ece356c\n",
      "Successfully built librosa audioread resampy\n",
      "Installing collected packages: audioread, resampy, soundfile, appdirs, pooch, librosa\n",
      "Successfully installed appdirs-1.4.4 audioread-2.1.9 librosa-0.8.0 pooch-1.2.0 resampy-0.2.2 soundfile-0.10.3.post1\n"
     ]
    }
   ],
   "source": [
    "! pip install librosa"
   ]
  },
  {
   "cell_type": "code",
   "execution_count": 37,
   "metadata": {
    "ExecuteTime": {
     "end_time": "2020-11-10T03:05:58.697641Z",
     "start_time": "2020-11-10T03:05:58.111762Z"
    }
   },
   "outputs": [
    {
     "name": "stdout",
     "output_type": "stream",
     "text": [
      "✅\n"
     ]
    }
   ],
   "source": [
    "import librosa\n",
    "\n",
    "def wav2spec(wav, fft_size=258): # spectrogram shape을 맞추기위해서 size 변형\n",
    "    D = np.abs(librosa.stft(wav, n_fft=fft_size))\n",
    "    return D\n",
    "print(\"✅\")"
   ]
  },
  {
   "cell_type": "code",
   "execution_count": 38,
   "metadata": {
    "ExecuteTime": {
     "end_time": "2020-11-10T03:06:00.790130Z",
     "start_time": "2020-11-10T03:06:00.784888Z"
    }
   },
   "outputs": [
    {
     "name": "stdout",
     "output_type": "stream",
     "text": [
      "Waveform shape :  (8000,)\n",
      "Spectrogram shape :  (130, 126)\n"
     ]
    }
   ],
   "source": [
    "# 위에서 뽑았던 sample data\n",
    "spec = wav2spec(data)\n",
    "print(\"Waveform shape : \",data.shape)\n",
    "print(\"Spectrogram shape : \",spec.shape)"
   ]
  },
  {
   "cell_type": "code",
   "execution_count": 39,
   "metadata": {
    "ExecuteTime": {
     "end_time": "2020-11-10T03:06:04.382040Z",
     "start_time": "2020-11-10T03:06:04.264286Z"
    }
   },
   "outputs": [
    {
     "data": {
      "image/png": "[encoded data removed]",
      "text/plain": [
       "<Figure size 432x288 with 2 Axes>"
      ]
     },
     "metadata": {
      "needs_background": "light"
     },
     "output_type": "display_data"
    }
   ],
   "source": [
    "import librosa.display\n",
    "\n",
    "librosa.display.specshow(librosa.amplitude_to_db(spec, ref=np.max), x_axis='time')\n",
    "plt.title('Power spectrogram')\n",
    "plt.colorbar(format='%+2.0f dB')\n",
    "plt.xticks(range(0, 1))\n",
    "plt.tight_layout()\n",
    "plt.show()"
   ]
  },
  {
   "cell_type": "code",
   "execution_count": 40,
   "metadata": {
    "ExecuteTime": {
     "end_time": "2020-11-10T04:43:03.206306Z",
     "start_time": "2020-11-10T04:43:03.196484Z"
    }
   },
   "outputs": [
    {
     "data": {
      "text/plain": [
       "array([ 0.00351836,  0.0049913 ,  0.00095164, ...,  0.00227842,\n",
       "        0.00283057, -0.00136095], dtype=float32)"
      ]
     },
     "execution_count": 40,
     "metadata": {},
     "output_type": "execute_result"
    }
   ],
   "source": [
    "data"
   ]
  },
  {
   "cell_type": "code",
   "execution_count": null,
   "metadata": {},
   "outputs": [],
   "source": []
  },
  {
   "cell_type": "code",
   "execution_count": null,
   "metadata": {},
   "outputs": [],
   "source": []
  }
 ],
 "metadata": {
  "kernelspec": {
   "display_name": "Python 3",
   "language": "python",
   "name": "python3"
  },
  "language_info": {
   "codemirror_mode": {
    "name": "ipython",
    "version": 3
   },
   "file_extension": ".py",
   "mimetype": "text/x-python",
   "name": "python",
   "nbconvert_exporter": "python",
   "pygments_lexer": "ipython3",
   "version": "3.7.6"
  },
  "toc": {
   "base_numbering": 1,
   "nav_menu": {},
   "number_sections": true,
   "sideBar": true,
   "skip_h1_title": false,
   "title_cell": "Table of Contents",
   "title_sidebar": "Contents",
   "toc_cell": false,
   "toc_position": {
    "height": "calc(100% - 180px)",
    "left": "10px",
    "top": "150px",
    "width": "192.431px"
   },
   "toc_section_display": true,
   "toc_window_display": false
  },
  "varInspector": {
   "cols": {
    "lenName": 16,
    "lenType": 16,
    "lenVar": 40
   },
   "kernels_config": {
    "python": {
     "delete_cmd_postfix": "",
     "delete_cmd_prefix": "del ",
     "library": "var_list.py",
     "varRefreshCmd": "print(var_dic_list())"
    },
    "r": {
     "delete_cmd_postfix": ") ",
     "delete_cmd_prefix": "rm(",
     "library": "var_list.r",
     "varRefreshCmd": "cat(var_dic_list()) "
    }
   },
   "types_to_exclude": [
    "module",
    "function",
    "builtin_function_or_method",
    "instance",
    "_Feature"
   ],
   "window_display": false
  }
 },
 "nbformat": 4,
 "nbformat_minor": 4
}
