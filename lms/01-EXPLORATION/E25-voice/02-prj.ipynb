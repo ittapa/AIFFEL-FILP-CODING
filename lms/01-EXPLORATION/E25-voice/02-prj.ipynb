{
 "cells": [
  {
   "cell_type": "markdown",
   "metadata": {
    "ExecuteTime": {
     "end_time": "2020-11-10T04:23:48.763571Z",
     "start_time": "2020-11-10T04:23:48.762127Z"
    }
   },
   "source": [
    "# prj :  Spectrogram classification 모델 구현\n",
    "\n",
    "- 2차원 데이터 받아 \n",
    "- 기본버전과 skip connection 버전 모델 실습\n"
   ]
  },
  {
   "cell_type": "markdown",
   "metadata": {},
   "source": [
    "## import library"
   ]
  },
  {
   "cell_type": "code",
   "execution_count": 41,
   "metadata": {
    "ExecuteTime": {
     "end_time": "2020-11-11T06:14:54.525169Z",
     "start_time": "2020-11-11T06:14:54.522298Z"
    }
   },
   "outputs": [],
   "source": [
    "import numpy as np\n",
    "import os\n",
    "import matplotlib.pyplot as plt\n",
    "\n",
    "import IPython.display as ipd\n",
    "import random\n",
    "\n",
    "from sklearn.model_selection import train_test_split\n",
    "\n",
    "import tensorflow as tf\n",
    "\n",
    "from tensorflow.keras import layers\n",
    "\n",
    "import librosa"
   ]
  },
  {
   "cell_type": "code",
   "execution_count": 42,
   "metadata": {
    "ExecuteTime": {
     "end_time": "2020-11-11T06:14:54.763848Z",
     "start_time": "2020-11-11T06:14:54.761666Z"
    }
   },
   "outputs": [
    {
     "data": {
      "text/plain": [
       "[PhysicalDevice(name='/physical_device:GPU:0', device_type='GPU')]"
      ]
     },
     "execution_count": 42,
     "metadata": {},
     "output_type": "execute_result"
    }
   ],
   "source": [
    "tf.config.list_physical_devices('GPU')"
   ]
  },
  {
   "cell_type": "markdown",
   "metadata": {},
   "source": [
    "## data load"
   ]
  },
  {
   "cell_type": "code",
   "execution_count": 43,
   "metadata": {
    "ExecuteTime": {
     "end_time": "2020-11-11T06:14:55.263610Z",
     "start_time": "2020-11-11T06:14:55.258387Z"
    }
   },
   "outputs": [],
   "source": [
    "data_path = os.getenv(\"HOME\")+'/aiffel/AIFFEL_LSG/utill/speech_wav_8000.npz'\n",
    "speech_data = np.load(data_path)"
   ]
  },
  {
   "cell_type": "code",
   "execution_count": 44,
   "metadata": {
    "ExecuteTime": {
     "end_time": "2020-11-11T06:14:58.709473Z",
     "start_time": "2020-11-11T06:14:55.479951Z"
    }
   },
   "outputs": [
    {
     "name": "stdout",
     "output_type": "stream",
     "text": [
      "Wave data shape :  (50620, 8000)\n",
      "Label data shape :  (50620, 1)\n"
     ]
    }
   ],
   "source": [
    "print(\"Wave data shape : \", speech_data[\"wav_vals\"].shape)\n",
    "print(\"Label data shape : \", speech_data[\"label_vals\"].shape)\n"
   ]
  },
  {
   "cell_type": "code",
   "execution_count": null,
   "metadata": {},
   "outputs": [],
   "source": []
  },
  {
   "cell_type": "markdown",
   "metadata": {},
   "source": [
    "## 데이터 처리와 분류"
   ]
  },
  {
   "cell_type": "markdown",
   "metadata": {
    "ExecuteTime": {
     "end_time": "2020-11-10T05:55:36.192221Z",
     "start_time": "2020-11-10T05:55:36.190169Z"
    }
   },
   "source": [
    "###   2차원 Spectrogram 변형`"
   ]
  },
  {
   "cell_type": "code",
   "execution_count": 45,
   "metadata": {
    "ExecuteTime": {
     "end_time": "2020-11-11T06:14:58.734460Z",
     "start_time": "2020-11-11T06:14:58.732303Z"
    }
   },
   "outputs": [],
   "source": [
    "def wav2spec(wav, fft_size=258): # spectrogram shape을 맞추기위해서 size 변형\n",
    "    D = np.abs(librosa.stft(wav, n_fft=fft_size))\n",
    "    return D"
   ]
  },
  {
   "cell_type": "code",
   "execution_count": 46,
   "metadata": {
    "ExecuteTime": {
     "end_time": "2020-11-11T06:15:01.361654Z",
     "start_time": "2020-11-11T06:14:58.756008Z"
    }
   },
   "outputs": [
    {
     "data": {
      "text/plain": [
       "(50620, 8000)"
      ]
     },
     "execution_count": 46,
     "metadata": {},
     "output_type": "execute_result"
    }
   ],
   "source": [
    "speech_data[\"wav_vals\"].shape"
   ]
  },
  {
   "cell_type": "code",
   "execution_count": 47,
   "metadata": {
    "ExecuteTime": {
     "end_time": "2020-11-11T06:15:22.056780Z",
     "start_time": "2020-11-11T06:15:01.383449Z"
    }
   },
   "outputs": [],
   "source": [
    "\n",
    "\n",
    "spec_data = []\n",
    "for idx, data in enumerate(speech_data[\"wav_vals\"]):\n",
    "    if idx == 30000: break\n",
    "    spec = wav2spec(data)\n",
    "    spec_data.append(spec)\n",
    "\n",
    "spec_data = np.array(spec_data)\n",
    "\n",
    "\n"
   ]
  },
  {
   "cell_type": "code",
   "execution_count": 48,
   "metadata": {
    "ExecuteTime": {
     "end_time": "2020-11-11T06:15:22.084914Z",
     "start_time": "2020-11-11T06:15:22.081979Z"
    }
   },
   "outputs": [
    {
     "data": {
      "text/plain": [
       "numpy.ndarray"
      ]
     },
     "execution_count": 48,
     "metadata": {},
     "output_type": "execute_result"
    }
   ],
   "source": [
    "type(spec_data)"
   ]
  },
  {
   "cell_type": "code",
   "execution_count": 49,
   "metadata": {
    "ExecuteTime": {
     "end_time": "2020-11-11T06:15:22.110613Z",
     "start_time": "2020-11-11T06:15:22.108383Z"
    }
   },
   "outputs": [
    {
     "name": "stdout",
     "output_type": "stream",
     "text": [
      "Wave data shape :  (30000, 130, 126)\n"
     ]
    }
   ],
   "source": [
    "print(\"Wave data shape : \", spec_data.shape)\n"
   ]
  },
  {
   "cell_type": "markdown",
   "metadata": {},
   "source": [
    "### label data 처리"
   ]
  },
  {
   "cell_type": "code",
   "execution_count": 50,
   "metadata": {
    "ExecuteTime": {
     "end_time": "2020-11-11T06:15:22.136129Z",
     "start_time": "2020-11-11T06:15:22.133532Z"
    }
   },
   "outputs": [],
   "source": [
    "target_list = ['yes', 'no', 'up', 'down', 'left', 'right', 'on', 'off', 'stop', 'go']\n",
    "\n",
    "label_value = target_list\n",
    "label_value.append('unknown')\n",
    "label_value.append('silence')\n",
    "\n",
    "new_label_value = dict()\n",
    "for i, l in enumerate(label_value):\n",
    "    new_label_value[l] = i\n",
    "label_value = new_label_value"
   ]
  },
  {
   "cell_type": "code",
   "execution_count": 51,
   "metadata": {
    "ExecuteTime": {
     "end_time": "2020-11-11T06:15:22.192476Z",
     "start_time": "2020-11-11T06:15:22.160484Z"
    }
   },
   "outputs": [],
   "source": [
    "temp = []\n",
    "\n",
    "for v in speech_data[\"label_vals\"]:\n",
    "    temp.append(label_value[v[0]])\n",
    "label_data = np.array(temp)\n"
   ]
  },
  {
   "cell_type": "code",
   "execution_count": 52,
   "metadata": {
    "ExecuteTime": {
     "end_time": "2020-11-11T06:15:22.219053Z",
     "start_time": "2020-11-11T06:15:22.216477Z"
    }
   },
   "outputs": [
    {
     "data": {
      "text/plain": [
       "{'yes': 0,\n",
       " 'no': 1,\n",
       " 'up': 2,\n",
       " 'down': 3,\n",
       " 'left': 4,\n",
       " 'right': 5,\n",
       " 'on': 6,\n",
       " 'off': 7,\n",
       " 'stop': 8,\n",
       " 'go': 9,\n",
       " 'unknown': 10,\n",
       " 'silence': 11}"
      ]
     },
     "execution_count": 52,
     "metadata": {},
     "output_type": "execute_result"
    }
   ],
   "source": [
    "label_value"
   ]
  },
  {
   "cell_type": "markdown",
   "metadata": {},
   "source": [
    "### data set 분리"
   ]
  },
  {
   "cell_type": "code",
   "execution_count": 53,
   "metadata": {
    "ExecuteTime": {
     "end_time": "2020-11-11T06:15:26.514364Z",
     "start_time": "2020-11-11T06:15:22.239471Z"
    }
   },
   "outputs": [],
   "source": [
    "from sklearn.model_selection import train_test_split\n",
    "\n",
    "train_wav, test_wav, train_label, test_label = train_test_split(spec_data, \n",
    "                                                                label_data[:30000], \n",
    "                                                                test_size=0.1,\n",
    "                                                                shuffle=True)\n",
    "#print(train_wav)\n",
    "\n"
   ]
  },
  {
   "cell_type": "code",
   "execution_count": null,
   "metadata": {},
   "outputs": [],
   "source": []
  },
  {
   "cell_type": "code",
   "execution_count": 54,
   "metadata": {
    "ExecuteTime": {
     "end_time": "2020-11-11T06:15:26.597078Z",
     "start_time": "2020-11-11T06:15:26.595310Z"
    }
   },
   "outputs": [],
   "source": [
    "# train_wav = train_wav.reshape([-1, sr, 1]) # add channel for CNN\n",
    "# test_wav = test_wav.reshape([-1, sr, 1])\n",
    "# print(\"✅\")"
   ]
  },
  {
   "cell_type": "code",
   "execution_count": null,
   "metadata": {},
   "outputs": [],
   "source": []
  },
  {
   "cell_type": "code",
   "execution_count": 55,
   "metadata": {
    "ExecuteTime": {
     "end_time": "2020-11-11T06:15:26.632770Z",
     "start_time": "2020-11-11T06:15:26.627748Z"
    }
   },
   "outputs": [
    {
     "name": "stdout",
     "output_type": "stream",
     "text": [
      "train data :  (27000, 130, 126)\n",
      "train labels :  (27000,)\n",
      "test data :  (3000, 130, 126)\n",
      "test labels :  (3000,)\n",
      "✅\n"
     ]
    }
   ],
   "source": [
    "print(\"train data : \", train_wav.shape)\n",
    "print(\"train labels : \", train_label.shape)\n",
    "print(\"test data : \", test_wav.shape)\n",
    "print(\"test labels : \", test_label.shape)\n",
    "print(\"✅\")"
   ]
  },
  {
   "cell_type": "code",
   "execution_count": null,
   "metadata": {},
   "outputs": [],
   "source": []
  },
  {
   "cell_type": "markdown",
   "metadata": {},
   "source": [
    "## 학습 하이퍼 파리미터 설정"
   ]
  },
  {
   "cell_type": "code",
   "execution_count": 56,
   "metadata": {
    "ExecuteTime": {
     "end_time": "2020-11-11T06:15:26.673700Z",
     "start_time": "2020-11-11T06:15:26.667014Z"
    }
   },
   "outputs": [
    {
     "data": {
      "text/plain": [
       "'/home/aiffel0042/aiffel/AIFFEL_LSG/utill/checkpoint/wav-spec'"
      ]
     },
     "execution_count": 56,
     "metadata": {},
     "output_type": "execute_result"
    }
   ],
   "source": [
    "batch_size = 12\n",
    "max_epochs = 10\n",
    "\n",
    "# the save point\n",
    "checkpoint_dir = os.getenv('HOME')+'/aiffel/AIFFEL_LSG/utill/checkpoint/wav-spec'\n",
    "\n",
    "checkpoint_dir"
   ]
  },
  {
   "cell_type": "code",
   "execution_count": null,
   "metadata": {},
   "outputs": [],
   "source": []
  },
  {
   "cell_type": "code",
   "execution_count": null,
   "metadata": {},
   "outputs": [],
   "source": []
  },
  {
   "cell_type": "markdown",
   "metadata": {},
   "source": [
    "## dataset 구성"
   ]
  },
  {
   "cell_type": "code",
   "execution_count": 57,
   "metadata": {
    "ExecuteTime": {
     "end_time": "2020-11-11T06:15:26.703073Z",
     "start_time": "2020-11-11T06:15:26.699707Z"
    }
   },
   "outputs": [],
   "source": [
    "def one_hot_label(wav, label):\n",
    "    label = tf.one_hot(label, depth=12)\n",
    "    return wav, label\n"
   ]
  },
  {
   "cell_type": "code",
   "execution_count": 58,
   "metadata": {
    "ExecuteTime": {
     "end_time": "2020-11-11T06:15:30.548421Z",
     "start_time": "2020-11-11T06:15:26.725733Z"
    }
   },
   "outputs": [
    {
     "name": "stdout",
     "output_type": "stream",
     "text": [
      "<BatchDataset shapes: ((None, 130, 126), (None, 12)), types: (tf.float32, tf.float32)>\n",
      "<BatchDataset shapes: ((None, 130, 126), (None, 12)), types: (tf.float32, tf.float32)>\n"
     ]
    }
   ],
   "source": [
    "# for train\n",
    "train_dataset = tf.data.Dataset.from_tensor_slices((train_wav, train_label))\n",
    "train_dataset = train_dataset.map(one_hot_label)\n",
    "train_dataset = train_dataset.repeat().batch(batch_size=batch_size)\n",
    "print(train_dataset)\n",
    "\n",
    "# for test\n",
    "test_dataset = tf.data.Dataset.from_tensor_slices((test_wav, test_label))\n",
    "test_dataset = test_dataset.map(one_hot_label)\n",
    "test_dataset = test_dataset.batch(batch_size=batch_size)\n",
    "print(test_dataset)\n"
   ]
  },
  {
   "cell_type": "code",
   "execution_count": null,
   "metadata": {},
   "outputs": [],
   "source": []
  },
  {
   "cell_type": "markdown",
   "metadata": {
    "ExecuteTime": {
     "end_time": "2020-11-10T05:07:54.161586Z",
     "start_time": "2020-11-10T05:07:54.156340Z"
    }
   },
   "source": [
    "##  model \n",
    "\n",
    "- 2차원 Spectrogram 데이터의 시간축 방향으로 Conv1D layer를 적용, 혹은 Conv2D layer를 적용 가능\n",
    "- batchnorm, dropout, dense layer 등을 이용\n",
    "- 12개의 단어 class를 구분하는 loss를 사용하고 Adam optimizer를 사용\n",
    "- 모델 가중치를 저장하는 checkpoint callback 함수 추가\n"
   ]
  },
  {
   "cell_type": "markdown",
   "metadata": {
    "ExecuteTime": {
     "end_time": "2020-11-10T05:12:40.631258Z",
     "start_time": "2020-11-10T05:12:40.626278Z"
    }
   },
   "source": [
    "### 일반 모델"
   ]
  },
  {
   "cell_type": "code",
   "execution_count": 59,
   "metadata": {
    "ExecuteTime": {
     "end_time": "2020-11-11T06:15:30.574884Z",
     "start_time": "2020-11-11T06:15:30.572751Z"
    }
   },
   "outputs": [],
   "source": [
    "# from tensorflow.keras import layers\n",
    "\n",
    "# input_tensor = layers.Input(shape=(130, 126, 1)) ## TODO\n",
    "\n",
    "# x = layers.Conv1D(32, 9, padding='same', activation='relu')(input_tensor)\n",
    "# x = layers.Conv1D(32, 9, padding='same', activation='relu')(x)\n",
    "# x = layers.MaxPool1D()(x)\n",
    "\n",
    "# x = layers.Conv1D(64, 9, padding='same', activation='relu')(x)\n",
    "# x = layers.Conv1D(64, 9, padding='same', activation='relu')(x)\n",
    "# x = layers.MaxPool1D()(x)\n",
    "\n",
    "# x = layers.Conv1D(128, 9, padding='same', activation='relu')(x)\n",
    "# x = layers.Conv1D(128, 9, padding='same', activation='relu')(x)\n",
    "# x = layers.Conv1D(128, 9, padding='same', activation='relu')(x)\n",
    "# x = layers.MaxPool1D()(x)\n",
    "\n",
    "# x = layers.Conv1D(256, 9, padding='same', activation='relu')(x)\n",
    "# x = layers.Conv1D(256, 9, padding='same', activation='relu')(x)\n",
    "# x = layers.Conv1D(256, 9, padding='same', activation='relu')(x)\n",
    "# x = layers.MaxPool1D()(x)\n",
    "# x = layers.Dropout(0.3)(x)\n",
    "\n",
    "# x = layers.Flatten()(x)\n",
    "# x = layers.Dense(256)(x)\n",
    "# x = layers.BatchNormalization()(x)\n",
    "# x = layers.Activation('relu')(x)\n",
    "\n",
    "# output_tensor = layers.Dense(12)(x)\n",
    "\n",
    "# model_wav = tf.keras.Model(input_tensor, output_tensor)\n",
    "\n",
    "# model_wav.summary()"
   ]
  },
  {
   "cell_type": "code",
   "execution_count": 60,
   "metadata": {
    "ExecuteTime": {
     "end_time": "2020-11-11T06:15:30.907418Z",
     "start_time": "2020-11-11T06:15:30.599464Z"
    }
   },
   "outputs": [
    {
     "name": "stdout",
     "output_type": "stream",
     "text": [
      "Model: \"functional_5\"\n",
      "_________________________________________________________________\n",
      "Layer (type)                 Output Shape              Param #   \n",
      "=================================================================\n",
      "input_3 (InputLayer)         [(None, 130, 126, 1)]     0         \n",
      "_________________________________________________________________\n",
      "conv2d_20 (Conv2D)           (None, 130, 126, 32)      2624      \n",
      "_________________________________________________________________\n",
      "conv2d_21 (Conv2D)           (None, 130, 126, 32)      82976     \n",
      "_________________________________________________________________\n",
      "max_pooling2d_8 (MaxPooling2 (None, 65, 63, 32)        0         \n",
      "_________________________________________________________________\n",
      "conv2d_22 (Conv2D)           (None, 65, 63, 64)        165952    \n",
      "_________________________________________________________________\n",
      "conv2d_23 (Conv2D)           (None, 65, 63, 64)        331840    \n",
      "_________________________________________________________________\n",
      "max_pooling2d_9 (MaxPooling2 (None, 32, 31, 64)        0         \n",
      "_________________________________________________________________\n",
      "conv2d_24 (Conv2D)           (None, 32, 31, 128)       663680    \n",
      "_________________________________________________________________\n",
      "conv2d_25 (Conv2D)           (None, 32, 31, 128)       1327232   \n",
      "_________________________________________________________________\n",
      "conv2d_26 (Conv2D)           (None, 32, 31, 128)       1327232   \n",
      "_________________________________________________________________\n",
      "max_pooling2d_10 (MaxPooling (None, 16, 15, 128)       0         \n",
      "_________________________________________________________________\n",
      "conv2d_27 (Conv2D)           (None, 16, 15, 256)       2654464   \n",
      "_________________________________________________________________\n",
      "conv2d_28 (Conv2D)           (None, 16, 15, 256)       5308672   \n",
      "_________________________________________________________________\n",
      "conv2d_29 (Conv2D)           (None, 16, 15, 256)       5308672   \n",
      "_________________________________________________________________\n",
      "max_pooling2d_11 (MaxPooling (None, 8, 7, 256)         0         \n",
      "_________________________________________________________________\n",
      "dropout_2 (Dropout)          (None, 8, 7, 256)         0         \n",
      "_________________________________________________________________\n",
      "flatten_2 (Flatten)          (None, 14336)             0         \n",
      "_________________________________________________________________\n",
      "dense_4 (Dense)              (None, 256)               3670272   \n",
      "_________________________________________________________________\n",
      "batch_normalization_2 (Batch (None, 256)               1024      \n",
      "_________________________________________________________________\n",
      "activation_2 (Activation)    (None, 256)               0         \n",
      "_________________________________________________________________\n",
      "dense_5 (Dense)              (None, 12)                3084      \n",
      "=================================================================\n",
      "Total params: 20,847,724\n",
      "Trainable params: 20,847,212\n",
      "Non-trainable params: 512\n",
      "_________________________________________________________________\n"
     ]
    }
   ],
   "source": [
    "input_tensor = layers.Input(shape=(130, 126, 1)) ## TODO\n",
    "\n",
    "x = layers.Conv2D(32, 9, padding='same', activation='relu')(input_tensor)\n",
    "x = layers.Conv2D(32, 9, padding='same', activation='relu')(x)\n",
    "x = layers.MaxPool2D()(x)\n",
    "\n",
    "x = layers.Conv2D(64, 9, padding='same', activation='relu')(x)\n",
    "x = layers.Conv2D(64, 9, padding='same', activation='relu')(x)\n",
    "x = layers.MaxPool2D()(x)\n",
    "\n",
    "x = layers.Conv2D(128, 9, padding='same', activation='relu')(x)\n",
    "x = layers.Conv2D(128, 9, padding='same', activation='relu')(x)\n",
    "x = layers.Conv2D(128, 9, padding='same', activation='relu')(x)\n",
    "x = layers.MaxPool2D()(x)\n",
    "\n",
    "x = layers.Conv2D(256, 9, padding='same', activation='relu')(x)\n",
    "x = layers.Conv2D(256, 9, padding='same', activation='relu')(x)\n",
    "x = layers.Conv2D(256, 9, padding='same', activation='relu')(x)\n",
    "x = layers.MaxPool2D()(x)\n",
    "x = layers.Dropout(0.3)(x)\n",
    "\n",
    "x = layers.Flatten()(x)\n",
    "x = layers.Dense(256)(x)\n",
    "x = layers.BatchNormalization()(x)\n",
    "x = layers.Activation('relu')(x)\n",
    "\n",
    "output_tensor = layers.Dense(12)(x)\n",
    "\n",
    "model_wav = tf.keras.Model(input_tensor, output_tensor)\n",
    "\n",
    "model_wav.summary()"
   ]
  },
  {
   "cell_type": "code",
   "execution_count": 61,
   "metadata": {
    "ExecuteTime": {
     "end_time": "2020-11-11T06:15:30.953865Z",
     "start_time": "2020-11-11T06:15:30.931537Z"
    }
   },
   "outputs": [
    {
     "name": "stdout",
     "output_type": "stream",
     "text": [
      "✅\n"
     ]
    }
   ],
   "source": [
    "##### loss #######\n",
    "optimizer=tf.keras.optimizers.Adam(1e-4)\n",
    "model_wav.compile(loss=tf.keras.losses.CategoricalCrossentropy(from_logits=True),\n",
    "             optimizer=optimizer,\n",
    "             metrics=['accuracy'])\n",
    "print(\"✅\")"
   ]
  },
  {
   "cell_type": "code",
   "execution_count": 22,
   "metadata": {
    "ExecuteTime": {
     "end_time": "2020-11-11T01:32:27.134039Z",
     "start_time": "2020-11-11T00:56:39.530960Z"
    }
   },
   "outputs": [
    {
     "name": "stdout",
     "output_type": "stream",
     "text": [
      "Epoch 1/10\n",
      "   2/2250 [..............................] - ETA: 2:14 - loss: 2.7535 - accuracy: 0.0417  WARNING:tensorflow:Callbacks method `on_train_batch_end` is slow compared to the batch time (batch time: 0.0325s vs `on_train_batch_end` time: 0.0849s). Check your callbacks.\n",
      "2250/2250 [==============================] - ETA: 0s - loss: 0.7413 - accuracy: 0.7526\n",
      "Epoch 00001: val_loss improved from inf to 0.29685, saving model to /home/aiffel0042/aiffel/AIFFEL_LSG/utill/speech_recognition/checkpoint/wav-spec\n",
      "2250/2250 [==============================] - 231s 103ms/step - loss: 0.7413 - accuracy: 0.7526 - val_loss: 0.2969 - val_accuracy: 0.9107\n",
      "Epoch 2/10\n",
      "2250/2250 [==============================] - ETA: 0s - loss: 0.2537 - accuracy: 0.9187\n",
      "Epoch 00002: val_loss improved from 0.29685 to 0.20521, saving model to /home/aiffel0042/aiffel/AIFFEL_LSG/utill/speech_recognition/checkpoint/wav-spec\n",
      "2250/2250 [==============================] - 225s 100ms/step - loss: 0.2537 - accuracy: 0.9187 - val_loss: 0.2052 - val_accuracy: 0.9357\n",
      "Epoch 3/10\n",
      "2250/2250 [==============================] - ETA: 0s - loss: 0.1732 - accuracy: 0.9446\n",
      "Epoch 00003: val_loss improved from 0.20521 to 0.20123, saving model to /home/aiffel0042/aiffel/AIFFEL_LSG/utill/speech_recognition/checkpoint/wav-spec\n",
      "2250/2250 [==============================] - 207s 92ms/step - loss: 0.1732 - accuracy: 0.9446 - val_loss: 0.2012 - val_accuracy: 0.9347\n",
      "Epoch 4/10\n",
      "2250/2250 [==============================] - ETA: 0s - loss: 0.1334 - accuracy: 0.9561\n",
      "Epoch 00004: val_loss improved from 0.20123 to 0.19704, saving model to /home/aiffel0042/aiffel/AIFFEL_LSG/utill/speech_recognition/checkpoint/wav-spec\n",
      "2250/2250 [==============================] - 208s 92ms/step - loss: 0.1334 - accuracy: 0.9561 - val_loss: 0.1970 - val_accuracy: 0.9370\n",
      "Epoch 5/10\n",
      "2250/2250 [==============================] - ETA: 0s - loss: 0.1107 - accuracy: 0.9640\n",
      "Epoch 00005: val_loss improved from 0.19704 to 0.14867, saving model to /home/aiffel0042/aiffel/AIFFEL_LSG/utill/speech_recognition/checkpoint/wav-spec\n",
      "2250/2250 [==============================] - 206s 92ms/step - loss: 0.1107 - accuracy: 0.9640 - val_loss: 0.1487 - val_accuracy: 0.9560\n",
      "Epoch 6/10\n",
      "2250/2250 [==============================] - ETA: 0s - loss: 0.0939 - accuracy: 0.9677\n",
      "Epoch 00006: val_loss improved from 0.14867 to 0.14642, saving model to /home/aiffel0042/aiffel/AIFFEL_LSG/utill/speech_recognition/checkpoint/wav-spec\n",
      "2250/2250 [==============================] - 205s 91ms/step - loss: 0.0939 - accuracy: 0.9677 - val_loss: 0.1464 - val_accuracy: 0.9583\n",
      "Epoch 7/10\n",
      "2250/2250 [==============================] - ETA: 0s - loss: 0.0840 - accuracy: 0.9714\n",
      "Epoch 00007: val_loss improved from 0.14642 to 0.11245, saving model to /home/aiffel0042/aiffel/AIFFEL_LSG/utill/speech_recognition/checkpoint/wav-spec\n",
      "2250/2250 [==============================] - 207s 92ms/step - loss: 0.0840 - accuracy: 0.9714 - val_loss: 0.1125 - val_accuracy: 0.9650\n",
      "Epoch 8/10\n",
      "2250/2250 [==============================] - ETA: 0s - loss: 0.0792 - accuracy: 0.9739\n",
      "Epoch 00008: val_loss improved from 0.11245 to 0.10163, saving model to /home/aiffel0042/aiffel/AIFFEL_LSG/utill/speech_recognition/checkpoint/wav-spec\n",
      "2250/2250 [==============================] - 212s 94ms/step - loss: 0.0792 - accuracy: 0.9739 - val_loss: 0.1016 - val_accuracy: 0.9663\n",
      "Epoch 9/10\n",
      "2250/2250 [==============================] - ETA: 0s - loss: 0.0687 - accuracy: 0.9764\n",
      "Epoch 00009: val_loss did not improve from 0.10163\n",
      "2250/2250 [==============================] - 217s 96ms/step - loss: 0.0687 - accuracy: 0.9764 - val_loss: 0.1049 - val_accuracy: 0.9693\n",
      "Epoch 10/10\n",
      "2250/2250 [==============================] - ETA: 0s - loss: 0.0618 - accuracy: 0.9788\n",
      "Epoch 00010: val_loss did not improve from 0.10163\n",
      "2250/2250 [==============================] - 213s 95ms/step - loss: 0.0618 - accuracy: 0.9788 - val_loss: 0.1318 - val_accuracy: 0.9583\n"
     ]
    }
   ],
   "source": [
    "## train\n",
    "\n",
    "# check point 저장\n",
    "cp_callback = tf.keras.callbacks.ModelCheckpoint(checkpoint_dir,\n",
    "                                                 save_weights_only=True,\n",
    "                                                 monitor='val_loss',\n",
    "                                                 mode='auto',\n",
    "                                                 save_best_only=True,\n",
    "                                                  verbose=1)\n",
    "\n",
    "\n",
    "#30분 내외 소요\n",
    "history_wav = model_wav.fit(train_dataset, epochs=max_epochs,\n",
    "                    steps_per_epoch=len(train_wav) // batch_size,\n",
    "                    validation_data=test_dataset,\n",
    "                    validation_steps=len(test_wav) // batch_size,\n",
    "                    callbacks=[cp_callback]\n",
    ")"
   ]
  },
  {
   "cell_type": "markdown",
   "metadata": {},
   "source": [
    "## 학습 그래프 출력"
   ]
  },
  {
   "cell_type": "code",
   "execution_count": 23,
   "metadata": {
    "ExecuteTime": {
     "end_time": "2020-11-11T01:32:27.466273Z",
     "start_time": "2020-11-11T01:32:27.189706Z"
    }
   },
   "outputs": [
    {
     "data": {
      "image/png": "[encoded data removed]",
      "text/plain": [
       "<Figure size 576x576 with 2 Axes>"
      ]
     },
     "metadata": {
      "needs_background": "light"
     },
     "output_type": "display_data"
    },
    {
     "name": "stdout",
     "output_type": "stream",
     "text": [
      "✅\n"
     ]
    }
   ],
   "source": [
    "\n",
    "import matplotlib.pyplot as plt\n",
    "\n",
    "acc = history_wav.history['accuracy']\n",
    "val_acc = history_wav.history['val_accuracy']\n",
    "\n",
    "loss=history_wav.history['loss']\n",
    "val_loss=history_wav.history['val_loss']\n",
    "\n",
    "epochs_range = range(len(acc))\n",
    "\n",
    "plt.figure(figsize=(8, 8))\n",
    "plt.subplot(1, 2, 1)\n",
    "plt.plot(epochs_range, acc, label='Training Accuracy')\n",
    "plt.plot(epochs_range, val_acc, label='Validation Accuracy')\n",
    "plt.legend(loc='lower right')\n",
    "plt.title('Training and Validation Accuracy')\n",
    "\n",
    "plt.subplot(1, 2, 2)\n",
    "plt.plot(epochs_range, loss, label='Training Loss')\n",
    "plt.plot(epochs_range, val_loss, label='Validation Loss')\n",
    "plt.legend(loc='upper right')\n",
    "plt.title('Training and Validation Loss')\n",
    "plt.show()\n",
    "print(\"✅\")"
   ]
  },
  {
   "cell_type": "code",
   "execution_count": null,
   "metadata": {},
   "outputs": [],
   "source": []
  },
  {
   "cell_type": "code",
   "execution_count": null,
   "metadata": {},
   "outputs": [],
   "source": []
  },
  {
   "cell_type": "code",
   "execution_count": null,
   "metadata": {},
   "outputs": [],
   "source": []
  },
  {
   "cell_type": "markdown",
   "metadata": {},
   "source": [
    "## 성능평가"
   ]
  },
  {
   "cell_type": "code",
   "execution_count": 24,
   "metadata": {
    "ExecuteTime": {
     "end_time": "2020-11-11T01:32:33.388846Z",
     "start_time": "2020-11-11T01:32:27.491139Z"
    }
   },
   "outputs": [
    {
     "name": "stdout",
     "output_type": "stream",
     "text": [
      "250/250 [==============================] - 6s 23ms/step - loss: 0.1318 - accuracy: 0.9583\n"
     ]
    }
   ],
   "source": [
    "\n",
    "results = model_wav.evaluate(test_dataset)\n"
   ]
  },
  {
   "cell_type": "code",
   "execution_count": 25,
   "metadata": {
    "ExecuteTime": {
     "end_time": "2020-11-11T01:32:33.411276Z",
     "start_time": "2020-11-11T01:32:33.408898Z"
    }
   },
   "outputs": [
    {
     "name": "stdout",
     "output_type": "stream",
     "text": [
      "loss value: 0.132\n",
      "accuracy value: 95.8333%\n"
     ]
    }
   ],
   "source": [
    "# loss\n",
    "print(\"loss value: {:.3f}\".format(results[0]))\n",
    "# accuracy\n",
    "print(\"accuracy value: {:.4f}%\".format(results[1]*100))\n"
   ]
  },
  {
   "cell_type": "code",
   "execution_count": null,
   "metadata": {},
   "outputs": [],
   "source": []
  },
  {
   "cell_type": "code",
   "execution_count": null,
   "metadata": {},
   "outputs": [],
   "source": []
  },
  {
   "cell_type": "markdown",
   "metadata": {},
   "source": [
    "## conv2d 로변경"
   ]
  },
  {
   "cell_type": "code",
   "execution_count": 62,
   "metadata": {
    "ExecuteTime": {
     "end_time": "2020-11-11T06:15:31.098907Z",
     "start_time": "2020-11-11T06:15:30.979786Z"
    }
   },
   "outputs": [
    {
     "name": "stdout",
     "output_type": "stream",
     "text": [
      "Model: \"functional_7\"\n",
      "_________________________________________________________________\n",
      "Layer (type)                 Output Shape              Param #   \n",
      "=================================================================\n",
      "input_4 (InputLayer)         [(None, 130, 126, 1)]     0         \n",
      "_________________________________________________________________\n",
      "conv2d_30 (Conv2D)           (None, 130, 126, 32)      2624      \n",
      "_________________________________________________________________\n",
      "conv2d_31 (Conv2D)           (None, 130, 126, 32)      82976     \n",
      "_________________________________________________________________\n",
      "max_pooling2d_12 (MaxPooling (None, 65, 63, 32)        0         \n",
      "_________________________________________________________________\n",
      "conv2d_32 (Conv2D)           (None, 65, 63, 64)        165952    \n",
      "_________________________________________________________________\n",
      "conv2d_33 (Conv2D)           (None, 65, 63, 64)        331840    \n",
      "_________________________________________________________________\n",
      "max_pooling2d_13 (MaxPooling (None, 32, 31, 64)        0         \n",
      "_________________________________________________________________\n",
      "conv2d_34 (Conv2D)           (None, 32, 31, 128)       663680    \n",
      "_________________________________________________________________\n",
      "conv2d_35 (Conv2D)           (None, 32, 31, 128)       1327232   \n",
      "_________________________________________________________________\n",
      "conv2d_36 (Conv2D)           (None, 32, 31, 128)       1327232   \n",
      "_________________________________________________________________\n",
      "max_pooling2d_14 (MaxPooling (None, 16, 15, 128)       0         \n",
      "_________________________________________________________________\n",
      "conv2d_37 (Conv2D)           (None, 16, 15, 256)       2654464   \n",
      "_________________________________________________________________\n",
      "conv2d_38 (Conv2D)           (None, 16, 15, 256)       5308672   \n",
      "_________________________________________________________________\n",
      "conv2d_39 (Conv2D)           (None, 16, 15, 256)       5308672   \n",
      "_________________________________________________________________\n",
      "max_pooling2d_15 (MaxPooling (None, 8, 7, 256)         0         \n",
      "_________________________________________________________________\n",
      "dropout_3 (Dropout)          (None, 8, 7, 256)         0         \n",
      "_________________________________________________________________\n",
      "flatten_3 (Flatten)          (None, 14336)             0         \n",
      "_________________________________________________________________\n",
      "dense_6 (Dense)              (None, 256)               3670272   \n",
      "_________________________________________________________________\n",
      "batch_normalization_3 (Batch (None, 256)               1024      \n",
      "_________________________________________________________________\n",
      "activation_3 (Activation)    (None, 256)               0         \n",
      "_________________________________________________________________\n",
      "dense_7 (Dense)              (None, 12)                3084      \n",
      "=================================================================\n",
      "Total params: 20,847,724\n",
      "Trainable params: 20,847,212\n",
      "Non-trainable params: 512\n",
      "_________________________________________________________________\n"
     ]
    }
   ],
   "source": [
    "input_tensor = layers.Input(shape=(130, 126, 1)) ## TODO\n",
    "\n",
    "x = layers.Conv2D(32, 9, padding='same', activation='relu')(input_tensor)\n",
    "x = layers.Conv2D(32, 9, padding='same', activation='relu')(x)\n",
    "x = layers.MaxPool2D()(x)\n",
    "\n",
    "x = layers.Conv2D(64, 9, padding='same', activation='relu')(x)\n",
    "x = layers.Conv2D(64, 9, padding='same', activation='relu')(x)\n",
    "x = layers.MaxPool2D()(x)\n",
    "\n",
    "x = layers.Conv2D(128, 9, padding='same', activation='relu')(x)\n",
    "x = layers.Conv2D(128, 9, padding='same', activation='relu')(x)\n",
    "x = layers.Conv2D(128, 9, padding='same', activation='relu')(x)\n",
    "x = layers.MaxPool2D()(x)\n",
    "\n",
    "x = layers.Conv2D(256, 9, padding='same', activation='relu')(x)\n",
    "x = layers.Conv2D(256, 9, padding='same', activation='relu')(x)\n",
    "x = layers.Conv2D(256, 9, padding='same', activation='relu')(x)\n",
    "x = layers.MaxPool2D()(x)\n",
    "x = layers.Dropout(0.3)(x)\n",
    "\n",
    "x = layers.Flatten()(x)\n",
    "x = layers.Dense(256)(x)\n",
    "x = layers.BatchNormalization()(x)\n",
    "x = layers.Activation('relu')(x)\n",
    "\n",
    "output_tensor = layers.Dense(12)(x)\n",
    "\n",
    "model_wav = tf.keras.Model(input_tensor, output_tensor)\n",
    "\n",
    "model_wav.summary()"
   ]
  },
  {
   "cell_type": "code",
   "execution_count": 63,
   "metadata": {
    "ExecuteTime": {
     "end_time": "2020-11-11T06:15:31.123762Z",
     "start_time": "2020-11-11T06:15:31.121068Z"
    }
   },
   "outputs": [
    {
     "data": {
      "text/plain": [
       "'/home/aiffel0042/aiffel/AIFFEL_LSG/utill/checkpoint/wav-spec-2'"
      ]
     },
     "execution_count": 63,
     "metadata": {},
     "output_type": "execute_result"
    }
   ],
   "source": [
    "batch_size = 12\n",
    "max_epochs = 10\n",
    "\n",
    "# the save point\n",
    "checkpoint_dir = os.getenv('HOME')+'/aiffel/AIFFEL_LSG/utill/checkpoint/wav-spec-2'\n",
    "\n",
    "checkpoint_dir"
   ]
  },
  {
   "cell_type": "code",
   "execution_count": 64,
   "metadata": {
    "ExecuteTime": {
     "end_time": "2020-11-11T06:15:31.153476Z",
     "start_time": "2020-11-11T06:15:31.143256Z"
    }
   },
   "outputs": [],
   "source": [
    "optimizer=tf.keras.optimizers.Adam(1e-4)\n",
    "model_wav.compile(loss=tf.keras.losses.CategoricalCrossentropy(from_logits=True),\n",
    "             optimizer=optimizer,\n",
    "             metrics=['accuracy'])\n"
   ]
  },
  {
   "cell_type": "code",
   "execution_count": 65,
   "metadata": {
    "ExecuteTime": {
     "end_time": "2020-11-11T06:15:31.178957Z",
     "start_time": "2020-11-11T06:15:31.175356Z"
    }
   },
   "outputs": [],
   "source": [
    "\n",
    "cp_callback = tf.keras.callbacks.ModelCheckpoint(checkpoint_dir,\n",
    "                                                 save_weights_only=True,\n",
    "                                                 monitor='val_loss',\n",
    "                                                 mode='auto',\n",
    "                                                 save_best_only=True,\n",
    "                                                  verbose=1)\n",
    "\n"
   ]
  },
  {
   "cell_type": "code",
   "execution_count": 66,
   "metadata": {
    "ExecuteTime": {
     "end_time": "2020-11-11T06:49:52.166288Z",
     "start_time": "2020-11-11T06:15:31.204031Z"
    }
   },
   "outputs": [
    {
     "name": "stdout",
     "output_type": "stream",
     "text": [
      "Epoch 1/10\n",
      "   2/2250 [..............................] - ETA: 3:12 - loss: 2.6112 - accuracy: 0.0833WARNING:tensorflow:Callbacks method `on_train_batch_end` is slow compared to the batch time (batch time: 0.0280s vs `on_train_batch_end` time: 0.0722s). Check your callbacks.\n",
      "2250/2250 [==============================] - ETA: 0s - loss: 0.7725 - accuracy: 0.7379\n",
      "Epoch 00001: val_loss improved from inf to 0.31124, saving model to /home/aiffel0042/aiffel/AIFFEL_LSG/utill/checkpoint/wav-spec-2\n",
      "2250/2250 [==============================] - 214s 95ms/step - loss: 0.7725 - accuracy: 0.7379 - val_loss: 0.3112 - val_accuracy: 0.9013\n",
      "Epoch 2/10\n",
      "2250/2250 [==============================] - ETA: 0s - loss: 0.2485 - accuracy: 0.9229\n",
      "Epoch 00002: val_loss improved from 0.31124 to 0.21132, saving model to /home/aiffel0042/aiffel/AIFFEL_LSG/utill/checkpoint/wav-spec-2\n",
      "2250/2250 [==============================] - 216s 96ms/step - loss: 0.2485 - accuracy: 0.9229 - val_loss: 0.2113 - val_accuracy: 0.9287\n",
      "Epoch 3/10\n",
      "2250/2250 [==============================] - ETA: 0s - loss: 0.1715 - accuracy: 0.9466\n",
      "Epoch 00003: val_loss improved from 0.21132 to 0.14696, saving model to /home/aiffel0042/aiffel/AIFFEL_LSG/utill/checkpoint/wav-spec-2\n",
      "2250/2250 [==============================] - 207s 92ms/step - loss: 0.1715 - accuracy: 0.9466 - val_loss: 0.1470 - val_accuracy: 0.9543\n",
      "Epoch 4/10\n",
      "2250/2250 [==============================] - ETA: 0s - loss: 0.1283 - accuracy: 0.9581\n",
      "Epoch 00004: val_loss improved from 0.14696 to 0.14642, saving model to /home/aiffel0042/aiffel/AIFFEL_LSG/utill/checkpoint/wav-spec-2\n",
      "2250/2250 [==============================] - 210s 94ms/step - loss: 0.1283 - accuracy: 0.9581 - val_loss: 0.1464 - val_accuracy: 0.9513\n",
      "Epoch 5/10\n",
      "2250/2250 [==============================] - ETA: 0s - loss: 0.1039 - accuracy: 0.9653\n",
      "Epoch 00005: val_loss did not improve from 0.14642\n",
      "2250/2250 [==============================] - 209s 93ms/step - loss: 0.1039 - accuracy: 0.9653 - val_loss: 0.1573 - val_accuracy: 0.9483\n",
      "Epoch 6/10\n",
      "2250/2250 [==============================] - ETA: 0s - loss: 0.0947 - accuracy: 0.9681\n",
      "Epoch 00006: val_loss improved from 0.14642 to 0.13963, saving model to /home/aiffel0042/aiffel/AIFFEL_LSG/utill/checkpoint/wav-spec-2\n",
      "2250/2250 [==============================] - 207s 92ms/step - loss: 0.0947 - accuracy: 0.9681 - val_loss: 0.1396 - val_accuracy: 0.9540\n",
      "Epoch 7/10\n",
      "2250/2250 [==============================] - ETA: 0s - loss: 0.0791 - accuracy: 0.9739\n",
      "Epoch 00007: val_loss improved from 0.13963 to 0.13296, saving model to /home/aiffel0042/aiffel/AIFFEL_LSG/utill/checkpoint/wav-spec-2\n",
      "2250/2250 [==============================] - 199s 89ms/step - loss: 0.0791 - accuracy: 0.9739 - val_loss: 0.1330 - val_accuracy: 0.9580\n",
      "Epoch 8/10\n",
      "2250/2250 [==============================] - ETA: 0s - loss: 0.0730 - accuracy: 0.9750\n",
      "Epoch 00008: val_loss improved from 0.13296 to 0.12113, saving model to /home/aiffel0042/aiffel/AIFFEL_LSG/utill/checkpoint/wav-spec-2\n",
      "2250/2250 [==============================] - 200s 89ms/step - loss: 0.0730 - accuracy: 0.9750 - val_loss: 0.1211 - val_accuracy: 0.9610\n",
      "Epoch 9/10\n",
      "2250/2250 [==============================] - ETA: 0s - loss: 0.0648 - accuracy: 0.9787\n",
      "Epoch 00009: val_loss did not improve from 0.12113\n",
      "2250/2250 [==============================] - 199s 88ms/step - loss: 0.0648 - accuracy: 0.9787 - val_loss: 0.1717 - val_accuracy: 0.9500\n",
      "Epoch 10/10\n",
      "2250/2250 [==============================] - ETA: 0s - loss: 0.0663 - accuracy: 0.9771\n",
      "Epoch 00010: val_loss did not improve from 0.12113\n",
      "2250/2250 [==============================] - 198s 88ms/step - loss: 0.0663 - accuracy: 0.9771 - val_loss: 0.1252 - val_accuracy: 0.9630\n"
     ]
    }
   ],
   "source": [
    "\n",
    "#30분 내외 소요\n",
    "history_wav = model_wav.fit(train_dataset, epochs=max_epochs,\n",
    "                    steps_per_epoch=len(train_wav) // batch_size,\n",
    "                    validation_data=test_dataset,\n",
    "                    validation_steps=len(test_wav) // batch_size,\n",
    "                    callbacks=[cp_callback]\n",
    ")"
   ]
  },
  {
   "cell_type": "code",
   "execution_count": 67,
   "metadata": {
    "ExecuteTime": {
     "end_time": "2020-11-11T06:49:52.291720Z",
     "start_time": "2020-11-11T06:49:52.201379Z"
    }
   },
   "outputs": [
    {
     "ename": "NameError",
     "evalue": "name 'model_wav_skip' is not defined",
     "output_type": "error",
     "traceback": [
      "\u001b[0;31m---------------------------------------------------------------------------\u001b[0m",
      "\u001b[0;31mNameError\u001b[0m                                 Traceback (most recent call last)",
      "\u001b[0;32m<ipython-input-67-2b5bf8a2b453>\u001b[0m in \u001b[0;36m<module>\u001b[0;34m\u001b[0m\n\u001b[1;32m      1\u001b[0m \u001b[0;31m# Evaluation\u001b[0m\u001b[0;34m\u001b[0m\u001b[0;34m\u001b[0m\u001b[0;34m\u001b[0m\u001b[0m\n\u001b[1;32m      2\u001b[0m \u001b[0;34m\u001b[0m\u001b[0m\n\u001b[0;32m----> 3\u001b[0;31m \u001b[0mmodel_wav_skip\u001b[0m\u001b[0;34m.\u001b[0m\u001b[0mload_weights\u001b[0m\u001b[0;34m(\u001b[0m\u001b[0mcheckpoint_dir\u001b[0m\u001b[0;34m)\u001b[0m\u001b[0;34m\u001b[0m\u001b[0;34m\u001b[0m\u001b[0m\n\u001b[0m\u001b[1;32m      4\u001b[0m \u001b[0mresults\u001b[0m \u001b[0;34m=\u001b[0m \u001b[0mmodel_wav_skip\u001b[0m\u001b[0;34m.\u001b[0m\u001b[0mevaluate\u001b[0m\u001b[0;34m(\u001b[0m\u001b[0mtest_dataset\u001b[0m\u001b[0;34m)\u001b[0m\u001b[0;34m\u001b[0m\u001b[0;34m\u001b[0m\u001b[0m\n\u001b[1;32m      5\u001b[0m \u001b[0;34m\u001b[0m\u001b[0m\n",
      "\u001b[0;31mNameError\u001b[0m: name 'model_wav_skip' is not defined"
     ]
    }
   ],
   "source": [
    "# Evaluation \n",
    "\n",
    "model_wav_skip.load_weights(checkpoint_dir)\n",
    "results = model_wav_skip.evaluate(test_dataset)\n",
    "\n",
    "# loss\n",
    "print(\"loss value: {:.3f}\".format(results[0]))\n",
    "# accuracy\n",
    "print(\"accuracy value: {:.4f}%\".format(results[1]*100))\n",
    "print(\"✅\")"
   ]
  },
  {
   "cell_type": "code",
   "execution_count": null,
   "metadata": {
    "ExecuteTime": {
     "end_time": "2020-11-11T06:49:52.293578Z",
     "start_time": "2020-11-11T06:15:19.175Z"
    }
   },
   "outputs": [],
   "source": [
    "\n",
    "import matplotlib.pyplot as plt\n",
    "\n",
    "acc = history_wav.history['accuracy']\n",
    "val_acc = history_wav.history['val_accuracy']\n",
    "\n",
    "loss=history_wav.history['loss']\n",
    "val_loss=history_wav.history['val_loss']\n",
    "\n",
    "epochs_range = range(len(acc))\n",
    "\n",
    "plt.figure(figsize=(8, 8))\n",
    "plt.subplot(1, 2, 1)\n",
    "plt.plot(epochs_range, acc, label='Training Accuracy')\n",
    "plt.plot(epochs_range, val_acc, label='Validation Accuracy')\n",
    "plt.legend(loc='lower right')\n",
    "plt.title('Training and Validation Accuracy')\n",
    "\n",
    "plt.subplot(1, 2, 2)\n",
    "plt.plot(epochs_range, loss, label='Training Loss')\n",
    "plt.plot(epochs_range, val_loss, label='Validation Loss')\n",
    "plt.legend(loc='upper right')\n",
    "plt.title('Training and Validation Loss')\n",
    "plt.show()\n",
    "print(\"✅\")"
   ]
  },
  {
   "cell_type": "code",
   "execution_count": null,
   "metadata": {},
   "outputs": [],
   "source": []
  },
  {
   "cell_type": "code",
   "execution_count": null,
   "metadata": {},
   "outputs": [],
   "source": []
  },
  {
   "cell_type": "code",
   "execution_count": null,
   "metadata": {},
   "outputs": [],
   "source": []
  },
  {
   "cell_type": "code",
   "execution_count": null,
   "metadata": {},
   "outputs": [],
   "source": []
  }
 ],
 "metadata": {
  "kernelspec": {
   "display_name": "Python 3",
   "language": "python",
   "name": "python3"
  },
  "language_info": {
   "codemirror_mode": {
    "name": "ipython",
    "version": 3
   },
   "file_extension": ".py",
   "mimetype": "text/x-python",
   "name": "python",
   "nbconvert_exporter": "python",
   "pygments_lexer": "ipython3",
   "version": "3.7.6"
  },
  "toc": {
   "base_numbering": 1,
   "nav_menu": {},
   "number_sections": true,
   "sideBar": true,
   "skip_h1_title": false,
   "title_cell": "Table of Contents",
   "title_sidebar": "Contents",
   "toc_cell": false,
   "toc_position": {
    "height": "calc(100% - 180px)",
    "left": "10px",
    "top": "150px",
    "width": "323.976px"
   },
   "toc_section_display": true,
   "toc_window_display": true
  },
  "varInspector": {
   "cols": {
    "lenName": 16,
    "lenType": 16,
    "lenVar": 40
   },
   "kernels_config": {
    "python": {
     "delete_cmd_postfix": "",
     "delete_cmd_prefix": "del ",
     "library": "var_list.py",
     "varRefreshCmd": "print(var_dic_list())"
    },
    "r": {
     "delete_cmd_postfix": ") ",
     "delete_cmd_prefix": "rm(",
     "library": "var_list.r",
     "varRefreshCmd": "cat(var_dic_list()) "
    }
   },
   "types_to_exclude": [
    "module",
    "function",
    "builtin_function_or_method",
    "instance",
    "_Feature"
   ],
   "window_display": false
  }
 },
 "nbformat": 4,
 "nbformat_minor": 4
}
