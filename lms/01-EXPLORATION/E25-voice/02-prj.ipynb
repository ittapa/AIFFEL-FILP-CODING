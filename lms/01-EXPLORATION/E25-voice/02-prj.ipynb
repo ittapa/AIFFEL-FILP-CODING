{
 "cells": [
  {
   "cell_type": "markdown",
   "metadata": {
    "ExecuteTime": {
     "end_time": "2020-11-10T04:23:48.763571Z",
     "start_time": "2020-11-10T04:23:48.762127Z"
    }
   },
   "source": [
    "# prj :  Spectrogram classification 모델 구현\n",
    "\n",
    "- 2차원 데이터 받아 \n",
    "- 기본버전과 skip connection 버전 모델 실습\n"
   ]
  },
  {
   "cell_type": "markdown",
   "metadata": {},
   "source": [
    "## import library"
   ]
  },
  {
   "cell_type": "code",
   "execution_count": 12,
   "metadata": {
    "ExecuteTime": {
     "end_time": "2020-11-12T05:51:33.334055Z",
     "start_time": "2020-11-12T05:51:33.037847Z"
    }
   },
   "outputs": [],
   "source": [
    "import numpy as np\n",
    "import os\n",
    "import matplotlib.pyplot as plt\n",
    "\n",
    "import IPython.display as ipd\n",
    "import random\n",
    "\n",
    "from sklearn.model_selection import train_test_split\n",
    "\n",
    "import tensorflow as tf\n",
    "\n",
    "from tensorflow.keras import layers\n",
    "\n",
    "import librosa"
   ]
  },
  {
   "cell_type": "code",
   "execution_count": 14,
   "metadata": {
    "ExecuteTime": {
     "end_time": "2020-11-12T05:52:32.092440Z",
     "start_time": "2020-11-12T05:52:32.088645Z"
    }
   },
   "outputs": [
    {
     "data": {
      "text/plain": [
       "[PhysicalDevice(name='/physical_device:GPU:0', device_type='GPU')]"
      ]
     },
     "execution_count": 14,
     "metadata": {},
     "output_type": "execute_result"
    }
   ],
   "source": [
    "tf.config.list_physical_devices('GPU')"
   ]
  },
  {
   "cell_type": "markdown",
   "metadata": {},
   "source": [
    "## data load"
   ]
  },
  {
   "cell_type": "code",
   "execution_count": 16,
   "metadata": {
    "ExecuteTime": {
     "end_time": "2020-11-12T05:52:42.040759Z",
     "start_time": "2020-11-12T05:52:42.037772Z"
    }
   },
   "outputs": [],
   "source": [
    "data_path = './speech_wav_8000.npz'\n",
    "speech_data = np.load(data_path)"
   ]
  },
  {
   "cell_type": "code",
   "execution_count": 17,
   "metadata": {
    "ExecuteTime": {
     "end_time": "2020-11-12T05:52:45.497020Z",
     "start_time": "2020-11-12T05:52:42.100473Z"
    }
   },
   "outputs": [
    {
     "name": "stdout",
     "output_type": "stream",
     "text": [
      "Wave data shape :  (50620, 8000)\n",
      "Label data shape :  (50620, 1)\n"
     ]
    }
   ],
   "source": [
    "print(\"Wave data shape : \", speech_data[\"wav_vals\"].shape)\n",
    "print(\"Label data shape : \", speech_data[\"label_vals\"].shape)\n"
   ]
  },
  {
   "cell_type": "code",
   "execution_count": null,
   "metadata": {},
   "outputs": [],
   "source": []
  },
  {
   "cell_type": "markdown",
   "metadata": {},
   "source": [
    "## 데이터 처리와 분류"
   ]
  },
  {
   "cell_type": "markdown",
   "metadata": {
    "ExecuteTime": {
     "end_time": "2020-11-10T05:55:36.192221Z",
     "start_time": "2020-11-10T05:55:36.190169Z"
    }
   },
   "source": [
    "###   2차원 Spectrogram 변형`"
   ]
  },
  {
   "cell_type": "code",
   "execution_count": 18,
   "metadata": {
    "ExecuteTime": {
     "end_time": "2020-11-12T05:52:47.714667Z",
     "start_time": "2020-11-12T05:52:47.711851Z"
    }
   },
   "outputs": [],
   "source": [
    "def wav2spec(wav, fft_size=258): # spectrogram shape을 맞추기위해서 size 변형\n",
    "    D = np.abs(librosa.stft(wav, n_fft=fft_size))\n",
    "    return D"
   ]
  },
  {
   "cell_type": "code",
   "execution_count": 19,
   "metadata": {
    "ExecuteTime": {
     "end_time": "2020-11-12T05:52:50.538101Z",
     "start_time": "2020-11-12T05:52:48.109508Z"
    }
   },
   "outputs": [
    {
     "data": {
      "text/plain": [
       "(50620, 8000)"
      ]
     },
     "execution_count": 19,
     "metadata": {},
     "output_type": "execute_result"
    }
   ],
   "source": [
    "speech_data[\"wav_vals\"].shape"
   ]
  },
  {
   "cell_type": "code",
   "execution_count": 20,
   "metadata": {
    "ExecuteTime": {
     "end_time": "2020-11-12T05:53:33.509854Z",
     "start_time": "2020-11-12T05:52:50.547839Z"
    }
   },
   "outputs": [],
   "source": [
    "\n",
    "\n",
    "spec_data = []\n",
    "for idx, data in enumerate(speech_data[\"wav_vals\"]):\n",
    "    if idx == 30000: break\n",
    "    spec = wav2spec(data)\n",
    "    spec_data.append(spec)\n",
    "\n",
    "spec_data = np.array(spec_data)\n",
    "\n",
    "\n"
   ]
  },
  {
   "cell_type": "code",
   "execution_count": 21,
   "metadata": {
    "ExecuteTime": {
     "end_time": "2020-11-12T05:53:33.529064Z",
     "start_time": "2020-11-12T05:53:33.526145Z"
    }
   },
   "outputs": [
    {
     "data": {
      "text/plain": [
       "numpy.ndarray"
      ]
     },
     "execution_count": 21,
     "metadata": {},
     "output_type": "execute_result"
    }
   ],
   "source": [
    "type(spec_data)"
   ]
  },
  {
   "cell_type": "code",
   "execution_count": 22,
   "metadata": {
    "ExecuteTime": {
     "end_time": "2020-11-12T05:53:33.548630Z",
     "start_time": "2020-11-12T05:53:33.546174Z"
    }
   },
   "outputs": [
    {
     "name": "stdout",
     "output_type": "stream",
     "text": [
      "Wave data shape :  (30000, 130, 126)\n"
     ]
    }
   ],
   "source": [
    "print(\"Wave data shape : \", spec_data.shape)\n"
   ]
  },
  {
   "cell_type": "markdown",
   "metadata": {},
   "source": [
    "### label data 처리"
   ]
  },
  {
   "cell_type": "code",
   "execution_count": 23,
   "metadata": {
    "ExecuteTime": {
     "end_time": "2020-11-12T05:53:33.566987Z",
     "start_time": "2020-11-12T05:53:33.564083Z"
    }
   },
   "outputs": [],
   "source": [
    "target_list = ['yes', 'no', 'up', 'down', 'left', 'right', 'on', 'off', 'stop', 'go']\n",
    "\n",
    "label_value = target_list\n",
    "label_value.append('unknown')\n",
    "label_value.append('silence')\n",
    "\n",
    "new_label_value = dict()\n",
    "for i, l in enumerate(label_value):\n",
    "    new_label_value[l] = i\n",
    "label_value = new_label_value"
   ]
  },
  {
   "cell_type": "code",
   "execution_count": 24,
   "metadata": {
    "ExecuteTime": {
     "end_time": "2020-11-12T05:53:33.629735Z",
     "start_time": "2020-11-12T05:53:33.583017Z"
    }
   },
   "outputs": [],
   "source": [
    "temp = []\n",
    "\n",
    "for v in speech_data[\"label_vals\"]:\n",
    "    temp.append(label_value[v[0]])\n",
    "label_data = np.array(temp)\n"
   ]
  },
  {
   "cell_type": "code",
   "execution_count": 25,
   "metadata": {
    "ExecuteTime": {
     "end_time": "2020-11-12T05:53:33.657048Z",
     "start_time": "2020-11-12T05:53:33.653942Z"
    }
   },
   "outputs": [
    {
     "data": {
      "text/plain": [
       "{'yes': 0,\n",
       " 'no': 1,\n",
       " 'up': 2,\n",
       " 'down': 3,\n",
       " 'left': 4,\n",
       " 'right': 5,\n",
       " 'on': 6,\n",
       " 'off': 7,\n",
       " 'stop': 8,\n",
       " 'go': 9,\n",
       " 'unknown': 10,\n",
       " 'silence': 11}"
      ]
     },
     "execution_count": 25,
     "metadata": {},
     "output_type": "execute_result"
    }
   ],
   "source": [
    "label_value"
   ]
  },
  {
   "cell_type": "markdown",
   "metadata": {},
   "source": [
    "### data set 분리"
   ]
  },
  {
   "cell_type": "code",
   "execution_count": 26,
   "metadata": {
    "ExecuteTime": {
     "end_time": "2020-11-12T05:53:35.455304Z",
     "start_time": "2020-11-12T05:53:33.680810Z"
    }
   },
   "outputs": [],
   "source": [
    "from sklearn.model_selection import train_test_split\n",
    "\n",
    "train_wav, test_wav, train_label, test_label = train_test_split(spec_data, \n",
    "                                                                label_data[:30000], \n",
    "                                                                test_size=0.1,\n",
    "                                                                shuffle=True)\n",
    "#print(train_wav)\n",
    "\n"
   ]
  },
  {
   "cell_type": "code",
   "execution_count": null,
   "metadata": {},
   "outputs": [],
   "source": []
  },
  {
   "cell_type": "code",
   "execution_count": 27,
   "metadata": {
    "ExecuteTime": {
     "end_time": "2020-11-12T05:53:35.490622Z",
     "start_time": "2020-11-12T05:53:35.488830Z"
    }
   },
   "outputs": [],
   "source": [
    "# train_wav = train_wav.reshape([-1, sr, 1]) # add channel for CNN\n",
    "# test_wav = test_wav.reshape([-1, sr, 1])\n",
    "# print(\"✅\")"
   ]
  },
  {
   "cell_type": "code",
   "execution_count": null,
   "metadata": {},
   "outputs": [],
   "source": []
  },
  {
   "cell_type": "code",
   "execution_count": 28,
   "metadata": {
    "ExecuteTime": {
     "end_time": "2020-11-12T05:53:35.526784Z",
     "start_time": "2020-11-12T05:53:35.523287Z"
    }
   },
   "outputs": [
    {
     "name": "stdout",
     "output_type": "stream",
     "text": [
      "train data :  (27000, 130, 126)\n",
      "train labels :  (27000,)\n",
      "test data :  (3000, 130, 126)\n",
      "test labels :  (3000,)\n",
      "✅\n"
     ]
    }
   ],
   "source": [
    "print(\"train data : \", train_wav.shape)\n",
    "print(\"train labels : \", train_label.shape)\n",
    "print(\"test data : \", test_wav.shape)\n",
    "print(\"test labels : \", test_label.shape)\n",
    "print(\"✅\")"
   ]
  },
  {
   "cell_type": "code",
   "execution_count": null,
   "metadata": {},
   "outputs": [],
   "source": []
  },
  {
   "cell_type": "markdown",
   "metadata": {},
   "source": [
    "## 학습 하이퍼 파리미터 설정"
   ]
  },
  {
   "cell_type": "code",
   "execution_count": 29,
   "metadata": {
    "ExecuteTime": {
     "end_time": "2020-11-12T05:54:22.823873Z",
     "start_time": "2020-11-12T05:54:22.820153Z"
    }
   },
   "outputs": [
    {
     "data": {
      "text/plain": [
       "'./checkpoint/wav-spec'"
      ]
     },
     "execution_count": 29,
     "metadata": {},
     "output_type": "execute_result"
    }
   ],
   "source": [
    "batch_size = 12\n",
    "max_epochs = 10\n",
    "\n",
    "# the save point\n",
    "checkpoint_dir = './checkpoint/wav-spec'\n",
    "\n",
    "checkpoint_dir"
   ]
  },
  {
   "cell_type": "code",
   "execution_count": null,
   "metadata": {},
   "outputs": [],
   "source": []
  },
  {
   "cell_type": "code",
   "execution_count": null,
   "metadata": {},
   "outputs": [],
   "source": []
  },
  {
   "cell_type": "markdown",
   "metadata": {},
   "source": [
    "## dataset 구성"
   ]
  },
  {
   "cell_type": "code",
   "execution_count": 30,
   "metadata": {
    "ExecuteTime": {
     "end_time": "2020-11-12T05:54:25.440926Z",
     "start_time": "2020-11-12T05:54:25.438183Z"
    }
   },
   "outputs": [],
   "source": [
    "def one_hot_label(wav, label):\n",
    "    label = tf.one_hot(label, depth=12)\n",
    "    return wav, label\n"
   ]
  },
  {
   "cell_type": "code",
   "execution_count": 31,
   "metadata": {
    "ExecuteTime": {
     "end_time": "2020-11-12T05:54:29.546939Z",
     "start_time": "2020-11-12T05:54:26.115483Z"
    }
   },
   "outputs": [
    {
     "name": "stdout",
     "output_type": "stream",
     "text": [
      "<BatchDataset shapes: ((None, 130, 126), (None, 12)), types: (tf.float32, tf.float32)>\n",
      "<BatchDataset shapes: ((None, 130, 126), (None, 12)), types: (tf.float32, tf.float32)>\n"
     ]
    }
   ],
   "source": [
    "# for train\n",
    "train_dataset = tf.data.Dataset.from_tensor_slices((train_wav, train_label))\n",
    "train_dataset = train_dataset.map(one_hot_label)\n",
    "train_dataset = train_dataset.repeat().batch(batch_size=batch_size)\n",
    "print(train_dataset)\n",
    "\n",
    "# for test\n",
    "test_dataset = tf.data.Dataset.from_tensor_slices((test_wav, test_label))\n",
    "test_dataset = test_dataset.map(one_hot_label)\n",
    "test_dataset = test_dataset.batch(batch_size=batch_size)\n",
    "print(test_dataset)\n"
   ]
  },
  {
   "cell_type": "code",
   "execution_count": null,
   "metadata": {},
   "outputs": [],
   "source": []
  },
  {
   "cell_type": "markdown",
   "metadata": {
    "ExecuteTime": {
     "end_time": "2020-11-10T05:07:54.161586Z",
     "start_time": "2020-11-10T05:07:54.156340Z"
    }
   },
   "source": [
    "##  model \n",
    "\n",
    "- 2차원 Spectrogram 데이터의 시간축 방향으로 Conv1D layer를 적용, 혹은 Conv2D layer를 적용 가능\n",
    "- batchnorm, dropout, dense layer 등을 이용\n",
    "- 12개의 단어 class를 구분하는 loss를 사용하고 Adam optimizer를 사용\n",
    "- 모델 가중치를 저장하는 checkpoint callback 함수 추가\n"
   ]
  },
  {
   "cell_type": "markdown",
   "metadata": {
    "ExecuteTime": {
     "end_time": "2020-11-10T05:12:40.631258Z",
     "start_time": "2020-11-10T05:12:40.626278Z"
    }
   },
   "source": [
    "### 일반 모델"
   ]
  },
  {
   "cell_type": "code",
   "execution_count": 35,
   "metadata": {
    "ExecuteTime": {
     "end_time": "2020-11-12T05:54:55.012440Z",
     "start_time": "2020-11-12T05:54:54.837404Z"
    }
   },
   "outputs": [
    {
     "name": "stdout",
     "output_type": "stream",
     "text": [
      "Model: \"functional_1\"\n",
      "_________________________________________________________________\n",
      "Layer (type)                 Output Shape              Param #   \n",
      "=================================================================\n",
      "input_2 (InputLayer)         [(None, 130, 126)]        0         \n",
      "_________________________________________________________________\n",
      "conv1d_2 (Conv1D)            (None, 130, 32)           36320     \n",
      "_________________________________________________________________\n",
      "conv1d_3 (Conv1D)            (None, 130, 32)           9248      \n",
      "_________________________________________________________________\n",
      "max_pooling1d_1 (MaxPooling1 (None, 65, 32)            0         \n",
      "_________________________________________________________________\n",
      "conv1d_4 (Conv1D)            (None, 65, 64)            18496     \n",
      "_________________________________________________________________\n",
      "conv1d_5 (Conv1D)            (None, 65, 64)            36928     \n",
      "_________________________________________________________________\n",
      "max_pooling1d_2 (MaxPooling1 (None, 32, 64)            0         \n",
      "_________________________________________________________________\n",
      "conv1d_6 (Conv1D)            (None, 32, 128)           73856     \n",
      "_________________________________________________________________\n",
      "conv1d_7 (Conv1D)            (None, 32, 128)           147584    \n",
      "_________________________________________________________________\n",
      "conv1d_8 (Conv1D)            (None, 32, 128)           147584    \n",
      "_________________________________________________________________\n",
      "max_pooling1d_3 (MaxPooling1 (None, 16, 128)           0         \n",
      "_________________________________________________________________\n",
      "conv1d_9 (Conv1D)            (None, 16, 256)           295168    \n",
      "_________________________________________________________________\n",
      "conv1d_10 (Conv1D)           (None, 16, 256)           590080    \n",
      "_________________________________________________________________\n",
      "conv1d_11 (Conv1D)           (None, 16, 256)           590080    \n",
      "_________________________________________________________________\n",
      "max_pooling1d_4 (MaxPooling1 (None, 8, 256)            0         \n",
      "_________________________________________________________________\n",
      "dropout (Dropout)            (None, 8, 256)            0         \n",
      "_________________________________________________________________\n",
      "flatten (Flatten)            (None, 2048)              0         \n",
      "_________________________________________________________________\n",
      "dense (Dense)                (None, 256)               524544    \n",
      "_________________________________________________________________\n",
      "batch_normalization (BatchNo (None, 256)               1024      \n",
      "_________________________________________________________________\n",
      "activation (Activation)      (None, 256)               0         \n",
      "_________________________________________________________________\n",
      "dense_1 (Dense)              (None, 12)                3084      \n",
      "=================================================================\n",
      "Total params: 2,473,996\n",
      "Trainable params: 2,473,484\n",
      "Non-trainable params: 512\n",
      "_________________________________________________________________\n"
     ]
    }
   ],
   "source": [
    "from tensorflow.keras import layers\n",
    "\n",
    "input_tensor = layers.Input(shape=(130, 126)) ## TODO\n",
    "\n",
    "x = layers.Conv1D(32, 9, padding='same', activation='relu')(input_tensor)\n",
    "x = layers.Conv1D(32, 9, padding='same', activation='relu')(x)\n",
    "x = layers.MaxPool1D()(x)\n",
    "\n",
    "x = layers.Conv1D(64, 9, padding='same', activation='relu')(x)\n",
    "x = layers.Conv1D(64, 9, padding='same', activation='relu')(x)\n",
    "x = layers.MaxPool1D()(x)\n",
    "\n",
    "x = layers.Conv1D(128, 9, padding='same', activation='relu')(x)\n",
    "x = layers.Conv1D(128, 9, padding='same', activation='relu')(x)\n",
    "x = layers.Conv1D(128, 9, padding='same', activation='relu')(x)\n",
    "x = layers.MaxPool1D()(x)\n",
    "\n",
    "x = layers.Conv1D(256, 9, padding='same', activation='relu')(x)\n",
    "x = layers.Conv1D(256, 9, padding='same', activation='relu')(x)\n",
    "x = layers.Conv1D(256, 9, padding='same', activation='relu')(x)\n",
    "x = layers.MaxPool1D()(x)\n",
    "x = layers.Dropout(0.3)(x)\n",
    "\n",
    "x = layers.Flatten()(x)\n",
    "x = layers.Dense(256)(x)\n",
    "x = layers.BatchNormalization()(x)\n",
    "x = layers.Activation('relu')(x)\n",
    "\n",
    "output_tensor = layers.Dense(12)(x)\n",
    "\n",
    "model_wav = tf.keras.Model(input_tensor, output_tensor)\n",
    "\n",
    "model_wav.summary()"
   ]
  },
  {
   "cell_type": "code",
   "execution_count": 36,
   "metadata": {
    "ExecuteTime": {
     "end_time": "2020-11-12T05:55:02.020278Z",
     "start_time": "2020-11-12T05:55:02.017956Z"
    }
   },
   "outputs": [],
   "source": [
    "# input_tensor = layers.Input(shape=(130, 126, 1)) ## TODO\n",
    "\n",
    "# x = layers.Conv2D(32, 9, padding='same', activation='relu')(input_tensor)\n",
    "# x = layers.Conv2D(32, 9, padding='same', activation='relu')(x)\n",
    "# x = layers.MaxPool2D()(x)\n",
    "\n",
    "# x = layers.Conv2D(64, 9, padding='same', activation='relu')(x)\n",
    "# x = layers.Conv2D(64, 9, padding='same', activation='relu')(x)\n",
    "# x = layers.MaxPool2D()(x)\n",
    "\n",
    "# x = layers.Conv2D(128, 9, padding='same', activation='relu')(x)\n",
    "# x = layers.Conv2D(128, 9, padding='same', activation='relu')(x)\n",
    "# x = layers.Conv2D(128, 9, padding='same', activation='relu')(x)\n",
    "# x = layers.MaxPool2D()(x)\n",
    "\n",
    "# x = layers.Conv2D(256, 9, padding='same', activation='relu')(x)\n",
    "# x = layers.Conv2D(256, 9, padding='same', activation='relu')(x)\n",
    "# x = layers.Conv2D(256, 9, padding='same', activation='relu')(x)\n",
    "# x = layers.MaxPool2D()(x)\n",
    "# x = layers.Dropout(0.3)(x)\n",
    "\n",
    "# x = layers.Flatten()(x)\n",
    "# x = layers.Dense(256)(x)\n",
    "# x = layers.BatchNormalization()(x)\n",
    "# x = layers.Activation('relu')(x)\n",
    "\n",
    "# output_tensor = layers.Dense(12)(x)\n",
    "\n",
    "# model_wav = tf.keras.Model(input_tensor, output_tensor)\n",
    "\n",
    "# model_wav.summary()"
   ]
  },
  {
   "cell_type": "code",
   "execution_count": 37,
   "metadata": {
    "ExecuteTime": {
     "end_time": "2020-11-12T05:55:02.654712Z",
     "start_time": "2020-11-12T05:55:02.641034Z"
    }
   },
   "outputs": [
    {
     "name": "stdout",
     "output_type": "stream",
     "text": [
      "✅\n"
     ]
    }
   ],
   "source": [
    "##### loss #######\n",
    "optimizer=tf.keras.optimizers.Adam(1e-4)\n",
    "model_wav.compile(loss=tf.keras.losses.CategoricalCrossentropy(from_logits=True),\n",
    "             optimizer=optimizer,\n",
    "             metrics=['accuracy'])\n",
    "print(\"✅\")"
   ]
  },
  {
   "cell_type": "code",
   "execution_count": 38,
   "metadata": {
    "ExecuteTime": {
     "end_time": "2020-11-12T05:57:33.664639Z",
     "start_time": "2020-11-12T05:55:03.585880Z"
    }
   },
   "outputs": [
    {
     "name": "stdout",
     "output_type": "stream",
     "text": [
      "Epoch 1/10\n",
      "2246/2250 [============================>.] - ETA: 0s - loss: 1.4298 - accuracy: 0.4915\n",
      "Epoch 00001: val_loss improved from inf to 0.92407, saving model to ./checkpoint/wav-spec\n",
      "2250/2250 [==============================] - 15s 7ms/step - loss: 1.4287 - accuracy: 0.4919 - val_loss: 0.9241 - val_accuracy: 0.6747\n",
      "Epoch 2/10\n",
      "2248/2250 [============================>.] - ETA: 0s - loss: 0.7387 - accuracy: 0.7494\n",
      "Epoch 00002: val_loss improved from 0.92407 to 0.52948, saving model to ./checkpoint/wav-spec\n",
      "2250/2250 [==============================] - 14s 6ms/step - loss: 0.7383 - accuracy: 0.7496 - val_loss: 0.5295 - val_accuracy: 0.8247\n",
      "Epoch 3/10\n",
      "2246/2250 [============================>.] - ETA: 0s - loss: 0.4802 - accuracy: 0.8388\n",
      "Epoch 00003: val_loss improved from 0.52948 to 0.41917, saving model to ./checkpoint/wav-spec\n",
      "2250/2250 [==============================] - 14s 6ms/step - loss: 0.4798 - accuracy: 0.8389 - val_loss: 0.4192 - val_accuracy: 0.8607\n",
      "Epoch 4/10\n",
      "2249/2250 [============================>.] - ETA: 0s - loss: 0.3564 - accuracy: 0.8809\n",
      "Epoch 00004: val_loss improved from 0.41917 to 0.40328, saving model to ./checkpoint/wav-spec\n",
      "2250/2250 [==============================] - 14s 6ms/step - loss: 0.3564 - accuracy: 0.8809 - val_loss: 0.4033 - val_accuracy: 0.8663\n",
      "Epoch 5/10\n",
      "2250/2250 [==============================] - ETA: 0s - loss: 0.2728 - accuracy: 0.9083\n",
      "Epoch 00005: val_loss improved from 0.40328 to 0.38317, saving model to ./checkpoint/wav-spec\n",
      "2250/2250 [==============================] - 14s 6ms/step - loss: 0.2728 - accuracy: 0.9083 - val_loss: 0.3832 - val_accuracy: 0.8767\n",
      "Epoch 6/10\n",
      "2249/2250 [============================>.] - ETA: 0s - loss: 0.2179 - accuracy: 0.9266\n",
      "Epoch 00006: val_loss improved from 0.38317 to 0.32503, saving model to ./checkpoint/wav-spec\n",
      "2250/2250 [==============================] - 14s 6ms/step - loss: 0.2179 - accuracy: 0.9266 - val_loss: 0.3250 - val_accuracy: 0.9030\n",
      "Epoch 7/10\n",
      "2250/2250 [==============================] - ETA: 0s - loss: 0.1904 - accuracy: 0.9337\n",
      "Epoch 00007: val_loss improved from 0.32503 to 0.32211, saving model to ./checkpoint/wav-spec\n",
      "2250/2250 [==============================] - 14s 6ms/step - loss: 0.1904 - accuracy: 0.9337 - val_loss: 0.3221 - val_accuracy: 0.9037\n",
      "Epoch 8/10\n",
      "2250/2250 [==============================] - ETA: 0s - loss: 0.1563 - accuracy: 0.9459\n",
      "Epoch 00008: val_loss improved from 0.32211 to 0.31346, saving model to ./checkpoint/wav-spec\n",
      "2250/2250 [==============================] - 14s 6ms/step - loss: 0.1563 - accuracy: 0.9459 - val_loss: 0.3135 - val_accuracy: 0.9070\n",
      "Epoch 9/10\n",
      "2247/2250 [============================>.] - ETA: 0s - loss: 0.1332 - accuracy: 0.9544\n",
      "Epoch 00009: val_loss improved from 0.31346 to 0.30342, saving model to ./checkpoint/wav-spec\n",
      "2250/2250 [==============================] - 14s 6ms/step - loss: 0.1332 - accuracy: 0.9544 - val_loss: 0.3034 - val_accuracy: 0.9107\n",
      "Epoch 10/10\n",
      "2244/2250 [============================>.] - ETA: 0s - loss: 0.1299 - accuracy: 0.9544\n",
      "Epoch 00010: val_loss improved from 0.30342 to 0.28791, saving model to ./checkpoint/wav-spec\n",
      "2250/2250 [==============================] - 14s 6ms/step - loss: 0.1297 - accuracy: 0.9544 - val_loss: 0.2879 - val_accuracy: 0.9153\n"
     ]
    }
   ],
   "source": [
    "## train\n",
    "\n",
    "# check point 저장\n",
    "cp_callback = tf.keras.callbacks.ModelCheckpoint(checkpoint_dir,\n",
    "                                                 save_weights_only=True,\n",
    "                                                 monitor='val_loss',\n",
    "                                                 mode='auto',\n",
    "                                                 save_best_only=True,\n",
    "                                                  verbose=1)\n",
    "\n",
    "\n",
    "#30분 내외 소요\n",
    "history_wav = model_wav.fit(train_dataset, epochs=max_epochs,\n",
    "                    steps_per_epoch=len(train_wav) // batch_size,\n",
    "                    validation_data=test_dataset,\n",
    "                    validation_steps=len(test_wav) // batch_size,\n",
    "                    callbacks=[cp_callback]\n",
    ")"
   ]
  },
  {
   "cell_type": "markdown",
   "metadata": {},
   "source": [
    "## 학습 그래프 출력"
   ]
  },
  {
   "cell_type": "code",
   "execution_count": 40,
   "metadata": {
    "ExecuteTime": {
     "end_time": "2020-11-12T05:58:43.155126Z",
     "start_time": "2020-11-12T05:58:42.899019Z"
    }
   },
   "outputs": [
    {
     "data": {
      "image/png": "[encoded data removed]",
      "text/plain": [
       "<Figure size 576x576 with 2 Axes>"
      ]
     },
     "metadata": {
      "needs_background": "light"
     },
     "output_type": "display_data"
    },
    {
     "name": "stdout",
     "output_type": "stream",
     "text": [
      "✅\n"
     ]
    }
   ],
   "source": [
    "\n",
    "import matplotlib.pyplot as plt\n",
    "\n",
    "acc = history_wav.history['accuracy']\n",
    "val_acc = history_wav.history['val_accuracy']\n",
    "\n",
    "loss=history_wav.history['loss']\n",
    "val_loss=history_wav.history['val_loss']\n",
    "\n",
    "epochs_range = range(len(acc))\n",
    "\n",
    "plt.figure(figsize=(8, 8))\n",
    "plt.subplot(1, 2, 1)\n",
    "plt.plot(epochs_range, acc, label='Training Accuracy')\n",
    "plt.plot(epochs_range, val_acc, label='Validation Accuracy')\n",
    "plt.legend(loc='lower right')\n",
    "plt.title('Training and Validation Accuracy')\n",
    "\n",
    "plt.subplot(1, 2, 2)\n",
    "plt.plot(epochs_range, loss, label='Training Loss')\n",
    "plt.plot(epochs_range, val_loss, label='Validation Loss')\n",
    "plt.legend(loc='upper right')\n",
    "plt.title('Training and Validation Loss')\n",
    "plt.show()\n",
    "print(\"✅\")"
   ]
  },
  {
   "cell_type": "code",
   "execution_count": null,
   "metadata": {},
   "outputs": [],
   "source": []
  },
  {
   "cell_type": "code",
   "execution_count": null,
   "metadata": {},
   "outputs": [],
   "source": []
  },
  {
   "cell_type": "code",
   "execution_count": null,
   "metadata": {},
   "outputs": [],
   "source": []
  },
  {
   "cell_type": "markdown",
   "metadata": {},
   "source": [
    "## 성능평가"
   ]
  },
  {
   "cell_type": "code",
   "execution_count": 41,
   "metadata": {
    "ExecuteTime": {
     "end_time": "2020-11-12T05:58:46.480274Z",
     "start_time": "2020-11-12T05:58:45.630144Z"
    }
   },
   "outputs": [
    {
     "name": "stdout",
     "output_type": "stream",
     "text": [
      "250/250 [==============================] - 1s 3ms/step - loss: 0.2879 - accuracy: 0.9153\n"
     ]
    }
   ],
   "source": [
    "\n",
    "results = model_wav.evaluate(test_dataset)\n"
   ]
  },
  {
   "cell_type": "code",
   "execution_count": 42,
   "metadata": {
    "ExecuteTime": {
     "end_time": "2020-11-12T05:58:47.210153Z",
     "start_time": "2020-11-12T05:58:47.207030Z"
    }
   },
   "outputs": [
    {
     "name": "stdout",
     "output_type": "stream",
     "text": [
      "loss value: 0.288\n",
      "accuracy value: 91.5333%\n"
     ]
    }
   ],
   "source": [
    "# loss\n",
    "print(\"loss value: {:.3f}\".format(results[0]))\n",
    "# accuracy\n",
    "print(\"accuracy value: {:.4f}%\".format(results[1]*100))\n"
   ]
  },
  {
   "cell_type": "code",
   "execution_count": null,
   "metadata": {},
   "outputs": [],
   "source": []
  },
  {
   "cell_type": "code",
   "execution_count": null,
   "metadata": {},
   "outputs": [],
   "source": []
  },
  {
   "cell_type": "markdown",
   "metadata": {},
   "source": [
    "## conv2d 로변경"
   ]
  },
  {
   "cell_type": "code",
   "execution_count": 43,
   "metadata": {
    "ExecuteTime": {
     "end_time": "2020-11-12T05:58:50.749538Z",
     "start_time": "2020-11-12T05:58:50.605288Z"
    }
   },
   "outputs": [
    {
     "name": "stdout",
     "output_type": "stream",
     "text": [
      "Model: \"functional_3\"\n",
      "_________________________________________________________________\n",
      "Layer (type)                 Output Shape              Param #   \n",
      "=================================================================\n",
      "input_3 (InputLayer)         [(None, 130, 126, 1)]     0         \n",
      "_________________________________________________________________\n",
      "conv2d (Conv2D)              (None, 130, 126, 32)      2624      \n",
      "_________________________________________________________________\n",
      "conv2d_1 (Conv2D)            (None, 130, 126, 32)      82976     \n",
      "_________________________________________________________________\n",
      "max_pooling2d (MaxPooling2D) (None, 65, 63, 32)        0         \n",
      "_________________________________________________________________\n",
      "conv2d_2 (Conv2D)            (None, 65, 63, 64)        165952    \n",
      "_________________________________________________________________\n",
      "conv2d_3 (Conv2D)            (None, 65, 63, 64)        331840    \n",
      "_________________________________________________________________\n",
      "max_pooling2d_1 (MaxPooling2 (None, 32, 31, 64)        0         \n",
      "_________________________________________________________________\n",
      "conv2d_4 (Conv2D)            (None, 32, 31, 128)       663680    \n",
      "_________________________________________________________________\n",
      "conv2d_5 (Conv2D)            (None, 32, 31, 128)       1327232   \n",
      "_________________________________________________________________\n",
      "conv2d_6 (Conv2D)            (None, 32, 31, 128)       1327232   \n",
      "_________________________________________________________________\n",
      "max_pooling2d_2 (MaxPooling2 (None, 16, 15, 128)       0         \n",
      "_________________________________________________________________\n",
      "conv2d_7 (Conv2D)            (None, 16, 15, 256)       2654464   \n",
      "_________________________________________________________________\n",
      "conv2d_8 (Conv2D)            (None, 16, 15, 256)       5308672   \n",
      "_________________________________________________________________\n",
      "conv2d_9 (Conv2D)            (None, 16, 15, 256)       5308672   \n",
      "_________________________________________________________________\n",
      "max_pooling2d_3 (MaxPooling2 (None, 8, 7, 256)         0         \n",
      "_________________________________________________________________\n",
      "dropout_1 (Dropout)          (None, 8, 7, 256)         0         \n",
      "_________________________________________________________________\n",
      "flatten_1 (Flatten)          (None, 14336)             0         \n",
      "_________________________________________________________________\n",
      "dense_2 (Dense)              (None, 256)               3670272   \n",
      "_________________________________________________________________\n",
      "batch_normalization_1 (Batch (None, 256)               1024      \n",
      "_________________________________________________________________\n",
      "activation_1 (Activation)    (None, 256)               0         \n",
      "_________________________________________________________________\n",
      "dense_3 (Dense)              (None, 12)                3084      \n",
      "=================================================================\n",
      "Total params: 20,847,724\n",
      "Trainable params: 20,847,212\n",
      "Non-trainable params: 512\n",
      "_________________________________________________________________\n"
     ]
    }
   ],
   "source": [
    "input_tensor = layers.Input(shape=(130, 126, 1)) ## TODO\n",
    "\n",
    "x = layers.Conv2D(32, 9, padding='same', activation='relu')(input_tensor)\n",
    "x = layers.Conv2D(32, 9, padding='same', activation='relu')(x)\n",
    "x = layers.MaxPool2D()(x)\n",
    "\n",
    "x = layers.Conv2D(64, 9, padding='same', activation='relu')(x)\n",
    "x = layers.Conv2D(64, 9, padding='same', activation='relu')(x)\n",
    "x = layers.MaxPool2D()(x)\n",
    "\n",
    "x = layers.Conv2D(128, 9, padding='same', activation='relu')(x)\n",
    "x = layers.Conv2D(128, 9, padding='same', activation='relu')(x)\n",
    "x = layers.Conv2D(128, 9, padding='same', activation='relu')(x)\n",
    "x = layers.MaxPool2D()(x)\n",
    "\n",
    "x = layers.Conv2D(256, 9, padding='same', activation='relu')(x)\n",
    "x = layers.Conv2D(256, 9, padding='same', activation='relu')(x)\n",
    "x = layers.Conv2D(256, 9, padding='same', activation='relu')(x)\n",
    "x = layers.MaxPool2D()(x)\n",
    "x = layers.Dropout(0.3)(x)\n",
    "\n",
    "x = layers.Flatten()(x)\n",
    "x = layers.Dense(256)(x)\n",
    "x = layers.BatchNormalization()(x)\n",
    "x = layers.Activation('relu')(x)\n",
    "\n",
    "output_tensor = layers.Dense(12)(x)\n",
    "\n",
    "model_wav = tf.keras.Model(input_tensor, output_tensor)\n",
    "\n",
    "model_wav.summary()"
   ]
  },
  {
   "cell_type": "code",
   "execution_count": 44,
   "metadata": {
    "ExecuteTime": {
     "end_time": "2020-11-12T05:58:52.294620Z",
     "start_time": "2020-11-12T05:58:52.290866Z"
    }
   },
   "outputs": [
    {
     "data": {
      "text/plain": [
       "'./checkpoint/wav-spec-2'"
      ]
     },
     "execution_count": 44,
     "metadata": {},
     "output_type": "execute_result"
    }
   ],
   "source": [
    "batch_size = 12\n",
    "max_epochs = 10\n",
    "\n",
    "# the save point\n",
    "checkpoint_dir = './checkpoint/wav-spec-2'\n",
    "\n",
    "checkpoint_dir"
   ]
  },
  {
   "cell_type": "code",
   "execution_count": 45,
   "metadata": {
    "ExecuteTime": {
     "end_time": "2020-11-12T05:58:56.340655Z",
     "start_time": "2020-11-12T05:58:56.329796Z"
    }
   },
   "outputs": [],
   "source": [
    "optimizer=tf.keras.optimizers.Adam(1e-4)\n",
    "model_wav.compile(loss=tf.keras.losses.CategoricalCrossentropy(from_logits=True),\n",
    "             optimizer=optimizer,\n",
    "             metrics=['accuracy'])\n"
   ]
  },
  {
   "cell_type": "code",
   "execution_count": 46,
   "metadata": {
    "ExecuteTime": {
     "end_time": "2020-11-12T05:58:57.079678Z",
     "start_time": "2020-11-12T05:58:57.077195Z"
    }
   },
   "outputs": [],
   "source": [
    "\n",
    "cp_callback = tf.keras.callbacks.ModelCheckpoint(checkpoint_dir,\n",
    "                                                 save_weights_only=True,\n",
    "                                                 monitor='val_loss',\n",
    "                                                 mode='auto',\n",
    "                                                 save_best_only=True,\n",
    "                                                  verbose=1)\n",
    "\n"
   ]
  },
  {
   "cell_type": "code",
   "execution_count": 47,
   "metadata": {
    "ExecuteTime": {
     "end_time": "2020-11-12T06:20:12.858924Z",
     "start_time": "2020-11-12T05:59:02.292652Z"
    },
    "scrolled": true
   },
   "outputs": [
    {
     "name": "stdout",
     "output_type": "stream",
     "text": [
      "Epoch 1/10\n",
      "   2/2250 [..............................] - ETA: 1:02 - loss: 2.6186 - accuracy: 0.0833WARNING:tensorflow:Callbacks method `on_train_batch_end` is slow compared to the batch time (batch time: 0.0189s vs `on_train_batch_end` time: 0.0358s). Check your callbacks.\n",
      "2250/2250 [==============================] - ETA: 0s - loss: 0.7362 - accuracy: 0.7513\n",
      "Epoch 00001: val_loss improved from inf to 0.34300, saving model to ./checkpoint/wav-spec-2\n",
      "2250/2250 [==============================] - 126s 56ms/step - loss: 0.7362 - accuracy: 0.7513 - val_loss: 0.3430 - val_accuracy: 0.8917\n",
      "Epoch 2/10\n",
      "2250/2250 [==============================] - ETA: 0s - loss: 0.2526 - accuracy: 0.9204\n",
      "Epoch 00002: val_loss improved from 0.34300 to 0.20318, saving model to ./checkpoint/wav-spec-2\n",
      "2250/2250 [==============================] - 128s 57ms/step - loss: 0.2526 - accuracy: 0.9204 - val_loss: 0.2032 - val_accuracy: 0.9343\n",
      "Epoch 3/10\n",
      "2250/2250 [==============================] - ETA: 0s - loss: 0.1704 - accuracy: 0.9447\n",
      "Epoch 00003: val_loss improved from 0.20318 to 0.17971, saving model to ./checkpoint/wav-spec-2\n",
      "2250/2250 [==============================] - 127s 56ms/step - loss: 0.1704 - accuracy: 0.9447 - val_loss: 0.1797 - val_accuracy: 0.9433\n",
      "Epoch 4/10\n",
      "2250/2250 [==============================] - ETA: 0s - loss: 0.1312 - accuracy: 0.9581\n",
      "Epoch 00004: val_loss improved from 0.17971 to 0.13768, saving model to ./checkpoint/wav-spec-2\n",
      "2250/2250 [==============================] - 128s 57ms/step - loss: 0.1312 - accuracy: 0.9581 - val_loss: 0.1377 - val_accuracy: 0.9533\n",
      "Epoch 5/10\n",
      "2250/2250 [==============================] - ETA: 0s - loss: 0.1069 - accuracy: 0.9646\n",
      "Epoch 00005: val_loss did not improve from 0.13768\n",
      "2250/2250 [==============================] - 127s 57ms/step - loss: 0.1069 - accuracy: 0.9646 - val_loss: 0.1762 - val_accuracy: 0.9453\n",
      "Epoch 6/10\n",
      "2250/2250 [==============================] - ETA: 0s - loss: 0.0949 - accuracy: 0.9686\n",
      "Epoch 00006: val_loss improved from 0.13768 to 0.11831, saving model to ./checkpoint/wav-spec-2\n",
      "2250/2250 [==============================] - 126s 56ms/step - loss: 0.0949 - accuracy: 0.9686 - val_loss: 0.1183 - val_accuracy: 0.9623\n",
      "Epoch 7/10\n",
      "2250/2250 [==============================] - ETA: 0s - loss: 0.0795 - accuracy: 0.9732\n",
      "Epoch 00007: val_loss did not improve from 0.11831\n",
      "2250/2250 [==============================] - 126s 56ms/step - loss: 0.0795 - accuracy: 0.9732 - val_loss: 0.1336 - val_accuracy: 0.9583\n",
      "Epoch 8/10\n",
      "2250/2250 [==============================] - ETA: 0s - loss: 0.0761 - accuracy: 0.9742\n",
      "Epoch 00008: val_loss improved from 0.11831 to 0.11087, saving model to ./checkpoint/wav-spec-2\n",
      "2250/2250 [==============================] - 126s 56ms/step - loss: 0.0761 - accuracy: 0.9742 - val_loss: 0.1109 - val_accuracy: 0.9647\n",
      "Epoch 9/10\n",
      "2250/2250 [==============================] - ETA: 0s - loss: 0.0648 - accuracy: 0.9780\n",
      "Epoch 00009: val_loss improved from 0.11087 to 0.10695, saving model to ./checkpoint/wav-spec-2\n",
      "2250/2250 [==============================] - 126s 56ms/step - loss: 0.0648 - accuracy: 0.9780 - val_loss: 0.1070 - val_accuracy: 0.9640\n",
      "Epoch 10/10\n",
      "2250/2250 [==============================] - ETA: 0s - loss: 0.0571 - accuracy: 0.9811\n",
      "Epoch 00010: val_loss did not improve from 0.10695\n",
      "2250/2250 [==============================] - 126s 56ms/step - loss: 0.0571 - accuracy: 0.9811 - val_loss: 0.2299 - val_accuracy: 0.9353\n"
     ]
    }
   ],
   "source": [
    "\n",
    "#30분 내외 소요\n",
    "history_wav = model_wav.fit(train_dataset, epochs=max_epochs,\n",
    "                    steps_per_epoch=len(train_wav) // batch_size,\n",
    "                    validation_data=test_dataset,\n",
    "                    validation_steps=len(test_wav) // batch_size,\n",
    "                    callbacks=[cp_callback]\n",
    ")"
   ]
  },
  {
   "cell_type": "code",
   "execution_count": 50,
   "metadata": {
    "ExecuteTime": {
     "end_time": "2020-11-12T06:21:22.351979Z",
     "start_time": "2020-11-12T06:21:22.093114Z"
    }
   },
   "outputs": [
    {
     "data": {
      "image/png": "[encoded data removed]",
      "text/plain": [
       "<Figure size 576x576 with 2 Axes>"
      ]
     },
     "metadata": {
      "needs_background": "light"
     },
     "output_type": "display_data"
    },
    {
     "name": "stdout",
     "output_type": "stream",
     "text": [
      "✅\n"
     ]
    }
   ],
   "source": [
    "\n",
    "import matplotlib.pyplot as plt\n",
    "\n",
    "acc = history_wav.history['accuracy']\n",
    "val_acc = history_wav.history['val_accuracy']\n",
    "\n",
    "loss=history_wav.history['loss']\n",
    "val_loss=history_wav.history['val_loss']\n",
    "\n",
    "epochs_range = range(len(acc))\n",
    "\n",
    "plt.figure(figsize=(8, 8))\n",
    "plt.subplot(1, 2, 1)\n",
    "plt.plot(epochs_range, acc, label='Training Accuracy')\n",
    "plt.plot(epochs_range, val_acc, label='Validation Accuracy')\n",
    "plt.legend(loc='lower right')\n",
    "plt.title('Training and Validation Accuracy')\n",
    "\n",
    "plt.subplot(1, 2, 2)\n",
    "plt.plot(epochs_range, loss, label='Training Loss')\n",
    "plt.plot(epochs_range, val_loss, label='Validation Loss')\n",
    "plt.legend(loc='upper right')\n",
    "plt.title('Training and Validation Loss')\n",
    "plt.show()\n",
    "print(\"✅\")"
   ]
  },
  {
   "cell_type": "code",
   "execution_count": 52,
   "metadata": {
    "ExecuteTime": {
     "end_time": "2020-11-12T06:22:31.854696Z",
     "start_time": "2020-11-12T06:22:27.861261Z"
    }
   },
   "outputs": [
    {
     "name": "stdout",
     "output_type": "stream",
     "text": [
      "250/250 [==============================] - 4s 15ms/step - loss: 0.2299 - accuracy: 0.9353\n"
     ]
    }
   ],
   "source": [
    "results = model_wav.evaluate(test_dataset)"
   ]
  },
  {
   "cell_type": "code",
   "execution_count": 53,
   "metadata": {
    "ExecuteTime": {
     "end_time": "2020-11-12T06:22:49.529926Z",
     "start_time": "2020-11-12T06:22:49.526483Z"
    }
   },
   "outputs": [
    {
     "name": "stdout",
     "output_type": "stream",
     "text": [
      "loss value: 0.230\n",
      "accuracy value: 93.5333%\n"
     ]
    }
   ],
   "source": [
    "# loss\n",
    "print(\"loss value: {:.3f}\".format(results[0]))\n",
    "# accuracy\n",
    "print(\"accuracy value: {:.4f}%\".format(results[1]*100))\n"
   ]
  },
  {
   "cell_type": "code",
   "execution_count": null,
   "metadata": {},
   "outputs": [],
   "source": []
  },
  {
   "cell_type": "code",
   "execution_count": null,
   "metadata": {},
   "outputs": [],
   "source": []
  }
 ],
 "metadata": {
  "kernelspec": {
   "display_name": "Python 3",
   "language": "python",
   "name": "python3"
  },
  "language_info": {
   "codemirror_mode": {
    "name": "ipython",
    "version": 3
   },
   "file_extension": ".py",
   "mimetype": "text/x-python",
   "name": "python",
   "nbconvert_exporter": "python",
   "pygments_lexer": "ipython3",
   "version": "3.8.5"
  },
  "toc": {
   "base_numbering": 1,
   "nav_menu": {},
   "number_sections": true,
   "sideBar": true,
   "skip_h1_title": false,
   "title_cell": "Table of Contents",
   "title_sidebar": "Contents",
   "toc_cell": false,
   "toc_position": {
    "height": "calc(100% - 180px)",
    "left": "10px",
    "top": "150px",
    "width": "323.969px"
   },
   "toc_section_display": true,
   "toc_window_display": true
  },
  "varInspector": {
   "cols": {
    "lenName": 16,
    "lenType": 16,
    "lenVar": 40
   },
   "kernels_config": {
    "python": {
     "delete_cmd_postfix": "",
     "delete_cmd_prefix": "del ",
     "library": "var_list.py",
     "varRefreshCmd": "print(var_dic_list())"
    },
    "r": {
     "delete_cmd_postfix": ") ",
     "delete_cmd_prefix": "rm(",
     "library": "var_list.r",
     "varRefreshCmd": "cat(var_dic_list()) "
    }
   },
   "types_to_exclude": [
    "module",
    "function",
    "builtin_function_or_method",
    "instance",
    "_Feature"
   ],
   "window_display": false
  }
 },
 "nbformat": 4,
 "nbformat_minor": 4
}
