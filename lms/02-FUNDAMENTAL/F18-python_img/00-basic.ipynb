{
 "cells": [
  {
   "cell_type": "markdown",
   "metadata": {},
   "source": [
    "# pythom img 처리\n",
    "<br/>\n",
    "\n",
    "- PIL 라이브러리   \n",
    "- OPENCV \n"
   ]
  },
  {
   "cell_type": "markdown",
   "metadata": {},
   "source": [
    "## 라이브러리 설치\n",
    "``` pip install pillow```\n",
    "\n",
    "\n",
    "- test imge down\n",
    "``` https://homepages.cae.wisc.edu/~ece533/images/peppers.png``` "
   ]
  },
  {
   "cell_type": "code",
   "execution_count": 1,
   "metadata": {
    "ExecuteTime": {
     "end_time": "2020-08-21T06:07:19.224162Z",
     "start_time": "2020-08-21T06:07:19.222381Z"
    }
   },
   "outputs": [],
   "source": [
    "## \n"
   ]
  },
  {
   "cell_type": "code",
   "execution_count": 3,
   "metadata": {
    "ExecuteTime": {
     "end_time": "2020-08-21T06:07:53.317888Z",
     "start_time": "2020-08-21T06:07:53.305456Z"
    }
   },
   "outputs": [
    {
     "name": "stdout",
     "output_type": "stream",
     "text": [
      "<PIL.PngImagePlugin.PngImageFile image mode=RGB size=512x512 at 0x7F3AAC091CD0>\n"
     ]
    }
   ],
   "source": [
    "from PIL import Image\n",
    "import os\n",
    "\n",
    "#img_path = os.getenv('HOME')+'/aiffel/AIFFEL_LSG/lms/02-FUNDAMENTAL/F18-python_img/imgs/00-t.png'\n",
    "img_path = './imgs/00-t.png'\n",
    "im = Image.open(img_path)\n",
    "print(im)"
   ]
  },
  {
   "cell_type": "code",
   "execution_count": 4,
   "metadata": {
    "ExecuteTime": {
     "end_time": "2020-08-21T06:08:52.703590Z",
     "start_time": "2020-08-21T06:08:52.700426Z"
    }
   },
   "outputs": [
    {
     "name": "stdout",
     "output_type": "stream",
     "text": [
      "<PIL.PngImagePlugin.PngImageFile image mode=RGB size=512x512 at 0x7F3AAC091CD0>\n",
      "PNG (512, 512) RGB\n"
     ]
    }
   ],
   "source": [
    "print(im)\n",
    "print(im.format, im.size, im.mode)"
   ]
  },
  {
   "cell_type": "markdown",
   "metadata": {},
   "source": [
    "- PIL.PngImagePlugin.PngImageFile : png 이미지에 대한 이미지 데이터이다' 라는 것을 유추해볼 수 있습니다.\n",
    "- image mod=RGB : image mod는 이미지의 색 공간을 의미합니다. 이미지의 색 공간은 현재 RGB 라는 것을 알 수 있습니다.\n",
    "- size=512x512 : 위 이미지의 사이즈 입니다. 순서대로 가로 512 pixel, 세로 512 pixel 사이즈 입니다.\n",
    "- 0x7FD288135B10 : 이미지가 저장되어 있는 메모리 위치를 나타냅니다."
   ]
  },
  {
   "cell_type": "code",
   "execution_count": 5,
   "metadata": {
    "ExecuteTime": {
     "end_time": "2020-08-21T06:19:38.258237Z",
     "start_time": "2020-08-21T06:19:38.205450Z"
    }
   },
   "outputs": [
    {
     "name": "stdout",
     "output_type": "stream",
     "text": [
      "이미지를 확인하세요.ᵕᴗᵕ\n"
     ]
    }
   ],
   "source": [
    "print(\"이미지를 확인하세요.ᵕᴗᵕ\")\n",
    "im.show()"
   ]
  },
  {
   "cell_type": "code",
   "execution_count": 7,
   "metadata": {
    "ExecuteTime": {
     "end_time": "2020-08-21T06:21:36.724992Z",
     "start_time": "2020-08-21T06:21:36.588253Z"
    }
   },
   "outputs": [
    {
     "name": "stderr",
     "output_type": "stream",
     "text": [
      "IOPub data rate exceeded.\n",
      "The notebook server will temporarily stop sending output\n",
      "to the client in order to avoid crashing it.\n",
      "To change this limit, set the config variable\n",
      "`--NotebookApp.iopub_data_rate_limit`.\n",
      "\n",
      "Current values:\n",
      "NotebookApp.iopub_data_rate_limit=1000000.0 (bytes/sec)\n",
      "NotebookApp.rate_limit_window=3.0 (secs)\n",
      "\n"
     ]
    }
   ],
   "source": [
    "x_pixel = 1\n",
    "y_pixel = 2\n",
    "xy = (x_pixel,y_pixel)\n",
    "print(im.getpixel(xy))\n",
    "print(im.getdata())\n",
    "# print(list(im.getdata()))\n"
   ]
  },
  {
   "cell_type": "code",
   "execution_count": 8,
   "metadata": {
    "ExecuteTime": {
     "end_time": "2020-08-21T06:30:50.549590Z",
     "start_time": "2020-08-21T06:30:50.547146Z"
    }
   },
   "outputs": [],
   "source": [
    "## 이미지 자르기\n",
    "\n",
    "box = (100, 100, 400, 400)\n"
   ]
  },
  {
   "cell_type": "code",
   "execution_count": 9,
   "metadata": {
    "ExecuteTime": {
     "end_time": "2020-08-21T06:31:24.588652Z",
     "start_time": "2020-08-21T06:31:24.570157Z"
    }
   },
   "outputs": [
    {
     "name": "stdout",
     "output_type": "stream",
     "text": [
      "이미지를 확인하세요.ᵕᴗᵕ\n"
     ]
    }
   ],
   "source": [
    "print(\"이미지를 확인하세요.ᵕᴗᵕ\")\n",
    "region = im.crop(box)\n",
    "region.show()"
   ]
  },
  {
   "cell_type": "code",
   "execution_count": null,
   "metadata": {},
   "outputs": [],
   "source": []
  },
  {
   "cell_type": "code",
   "execution_count": null,
   "metadata": {},
   "outputs": [],
   "source": []
  },
  {
   "cell_type": "code",
   "execution_count": null,
   "metadata": {},
   "outputs": [],
   "source": []
  }
 ],
 "metadata": {
  "kernelspec": {
   "display_name": "Python 3",
   "language": "python",
   "name": "python3"
  },
  "language_info": {
   "codemirror_mode": {
    "name": "ipython",
    "version": 3
   },
   "file_extension": ".py",
   "mimetype": "text/x-python",
   "name": "python",
   "nbconvert_exporter": "python",
   "pygments_lexer": "ipython3",
   "version": "3.7.6"
  },
  "toc": {
   "base_numbering": 1,
   "nav_menu": {},
   "number_sections": true,
   "sideBar": true,
   "skip_h1_title": false,
   "title_cell": "Table of Contents",
   "title_sidebar": "Contents",
   "toc_cell": false,
   "toc_position": {},
   "toc_section_display": true,
   "toc_window_display": false
  },
  "varInspector": {
   "cols": {
    "lenName": 16,
    "lenType": 16,
    "lenVar": 40
   },
   "kernels_config": {
    "python": {
     "delete_cmd_postfix": "",
     "delete_cmd_prefix": "del ",
     "library": "var_list.py",
     "varRefreshCmd": "print(var_dic_list())"
    },
    "r": {
     "delete_cmd_postfix": ") ",
     "delete_cmd_prefix": "rm(",
     "library": "var_list.r",
     "varRefreshCmd": "cat(var_dic_list()) "
    }
   },
   "types_to_exclude": [
    "module",
    "function",
    "builtin_function_or_method",
    "instance",
    "_Feature"
   ],
   "window_display": false
  }
 },
 "nbformat": 4,
 "nbformat_minor": 4
}
