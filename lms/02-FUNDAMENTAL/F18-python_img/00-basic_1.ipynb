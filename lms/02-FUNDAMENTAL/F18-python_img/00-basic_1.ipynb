{
 "cells": [
  {
   "cell_type": "markdown",
   "metadata": {},
   "source": [
    "# pythom img 처리\n",
    "<br/>\n",
    "\n",
    "- PIL 라이브러리   \n",
    "- OPENCV \n"
   ]
  },
  {
   "cell_type": "markdown",
   "metadata": {},
   "source": [
    "## 라이브러리 설치\n",
    "``` pip install pillow```\n",
    "\n",
    "\n",
    "- test imge down\n",
    "``` https://homepages.cae.wisc.edu/~ece533/images/peppers.png``` "
   ]
  },
  {
   "cell_type": "markdown",
   "metadata": {
    "ExecuteTime": {
     "end_time": "2020-08-21T06:07:19.224162Z",
     "start_time": "2020-08-21T06:07:19.222381Z"
    }
   },
   "source": [
    "## 라이브러리 import"
   ]
  },
  {
   "cell_type": "code",
   "execution_count": 26,
   "metadata": {
    "ExecuteTime": {
     "end_time": "2020-08-21T06:57:55.033177Z",
     "start_time": "2020-08-21T06:57:55.029844Z"
    }
   },
   "outputs": [
    {
     "name": "stdout",
     "output_type": "stream",
     "text": [
      "<PIL.PngImagePlugin.PngImageFile image mode=RGB size=512x512 at 0x7F3AA9D29F50>\n"
     ]
    }
   ],
   "source": [
    "from PIL import Image\n",
    "import os\n",
    "\n",
    "#img_path = os.getenv('HOME')+'/aiffel/AIFFEL_LSG/lms/02-FUNDAMENTAL/F18-python_img/imgs/00-t.png'\n",
    "img_path = './imgs/00-t.png'\n",
    "im = Image.open(img_path)\n",
    "print(im)"
   ]
  },
  {
   "cell_type": "markdown",
   "metadata": {},
   "source": [
    "## 이미지 데이터 확인"
   ]
  },
  {
   "cell_type": "code",
   "execution_count": 27,
   "metadata": {
    "ExecuteTime": {
     "end_time": "2020-08-21T06:57:55.791067Z",
     "start_time": "2020-08-21T06:57:55.782329Z"
    }
   },
   "outputs": [
    {
     "name": "stdout",
     "output_type": "stream",
     "text": [
      "<PIL.PngImagePlugin.PngImageFile image mode=RGB size=512x512 at 0x7F3AA9D29F50>\n",
      "PNG (512, 512) RGB\n"
     ]
    }
   ],
   "source": [
    "print(im)\n",
    "print(im.format, im.size, im.mode)"
   ]
  },
  {
   "cell_type": "markdown",
   "metadata": {},
   "source": [
    "- PIL.PngImagePlugin.PngImageFile : png 이미지에 대한 이미지 데이터이다' 라는 것을 유추해볼 수 있습니다.\n",
    "- image mod=RGB : image mod는 이미지의 색 공간을 의미합니다. 이미지의 색 공간은 현재 RGB 라는 것을 알 수 있습니다.\n",
    "- size=512x512 : 위 이미지의 사이즈 입니다. 순서대로 가로 512 pixel, 세로 512 pixel 사이즈 입니다.\n",
    "- 0x7FD288135B10 : 이미지가 저장되어 있는 메모리 위치를 나타냅니다."
   ]
  },
  {
   "cell_type": "code",
   "execution_count": 29,
   "metadata": {
    "ExecuteTime": {
     "end_time": "2020-08-21T06:58:02.318971Z",
     "start_time": "2020-08-21T06:58:02.283456Z"
    }
   },
   "outputs": [
    {
     "name": "stdout",
     "output_type": "stream",
     "text": [
      "이미지를 확인하세요.ᵕᴗᵕ\n"
     ]
    }
   ],
   "source": [
    "print(\"이미지를 확인하세요.ᵕᴗᵕ\")\n",
    "im.show()"
   ]
  },
  {
   "cell_type": "markdown",
   "metadata": {},
   "source": [
    "## 픽셀 데이터 조회"
   ]
  },
  {
   "cell_type": "code",
   "execution_count": 30,
   "metadata": {
    "ExecuteTime": {
     "end_time": "2020-08-21T06:58:05.829065Z",
     "start_time": "2020-08-21T06:58:05.825429Z"
    }
   },
   "outputs": [
    {
     "name": "stdout",
     "output_type": "stream",
     "text": [
      "(185, 102, 50)\n",
      "<ImagingCore object at 0x7f3aa9d1a510>\n"
     ]
    }
   ],
   "source": [
    "x_pixel = 1\n",
    "y_pixel = 2\n",
    "xy = (x_pixel,y_pixel)\n",
    "print(im.getpixel(xy))\n",
    "print(im.getdata())\n",
    "# print(list(im.getdata()))\n"
   ]
  },
  {
   "cell_type": "markdown",
   "metadata": {},
   "source": [
    "## img cut"
   ]
  },
  {
   "cell_type": "code",
   "execution_count": 31,
   "metadata": {
    "ExecuteTime": {
     "end_time": "2020-08-21T06:58:06.768696Z",
     "start_time": "2020-08-21T06:58:06.766810Z"
    }
   },
   "outputs": [],
   "source": [
    "## 이미지 자르기\n",
    "\n",
    "box = (100, 100, 400, 400)\n",
    "box2 = (0,0, 300,300)"
   ]
  },
  {
   "cell_type": "code",
   "execution_count": 40,
   "metadata": {
    "ExecuteTime": {
     "end_time": "2020-08-21T10:07:25.215470Z",
     "start_time": "2020-08-21T10:07:25.199871Z"
    }
   },
   "outputs": [],
   "source": [
    "r2 = im.crop(box2)\n",
    "r2.show()\n",
    "\n",
    "# 우상단이 o.o 인듯"
   ]
  },
  {
   "cell_type": "code",
   "execution_count": 41,
   "metadata": {
    "ExecuteTime": {
     "end_time": "2020-08-21T10:07:39.650606Z",
     "start_time": "2020-08-21T10:07:39.633929Z"
    }
   },
   "outputs": [
    {
     "name": "stdout",
     "output_type": "stream",
     "text": [
      "이미지를 확인하세요.ᵕᴗᵕ\n"
     ]
    }
   ],
   "source": [
    "print(\"이미지를 확인하세요.ᵕᴗᵕ\")\n",
    "region = im.crop(box)\n",
    "region.show()\n"
   ]
  },
  {
   "cell_type": "markdown",
   "metadata": {},
   "source": [
    "## 사이즈 조정\n",
    "- resized_image = im.resize((100,200))\n",
    "\n"
   ]
  },
  {
   "cell_type": "markdown",
   "metadata": {
    "ExecuteTime": {
     "end_time": "2020-08-21T06:53:26.346683Z",
     "start_time": "2020-08-21T06:53:26.341566Z"
    }
   },
   "source": [
    "## 회전\n",
    "\n",
    "1. rotate() 함수\n",
    "\n",
    "- region = region.rotate(180)\n",
    "- region.rotate(180)도 이미지를 회전시킨 코드와 같은 기능을 하는 코드 입니다. transpose의 경우 각도가 이미 지정되어 있지만 rotate는 원하는 각도만큼 회전시켜주는 코드 입니다.\n",
    "\n",
    "<br/>\n",
    "2. transpose() 함수의 이미지 회전 및 반전 파라미터\n",
    "\n",
    "- FLIP_LEFT_RIGHT : 이미지를 좌우 반전 시킵니다.\n",
    "- FLIP_TOP_BOTTOM : 이미지를 상하 반전 시킵니다.\n",
    "- ROTATE_90 : 이미지를 시계 반대 방향으로 90도 돌립니다.\n",
    "- ROTATE_180 : 이미지를 시계 반대 방향으로 180도 돌립니다.\n",
    "- ROTATE_270 : 이미지를 시계 반대 방향으로 270도 돌립니다.\n",
    "\n"
   ]
  },
  {
   "cell_type": "code",
   "execution_count": 36,
   "metadata": {
    "ExecuteTime": {
     "end_time": "2020-08-21T06:58:49.979855Z",
     "start_time": "2020-08-21T06:58:49.964532Z"
    }
   },
   "outputs": [
    {
     "name": "stdout",
     "output_type": "stream",
     "text": [
      "이미지를 확인하세요.ᵕᴗᵕ\n"
     ]
    }
   ],
   "source": [
    "## d이미지 회전하기\n",
    "\n",
    "print(\"이미지를 확인하세요.ᵕᴗᵕ\")\n",
    "region = region.transpose(Image.ROTATE_180)\n",
    "region.show()\n"
   ]
  },
  {
   "cell_type": "markdown",
   "metadata": {
    "ExecuteTime": {
     "end_time": "2020-08-21T06:54:35.140556Z",
     "start_time": "2020-08-21T06:54:35.132561Z"
    }
   },
   "source": [
    "## 이미지 합치기\n",
    "\n",
    "- paste\n"
   ]
  },
  {
   "cell_type": "code",
   "execution_count": 42,
   "metadata": {
    "ExecuteTime": {
     "end_time": "2020-08-21T10:07:50.778039Z",
     "start_time": "2020-08-21T10:07:50.743878Z"
    }
   },
   "outputs": [
    {
     "name": "stdout",
     "output_type": "stream",
     "text": [
      "이미지를 확인하세요.ᵕᴗᵕ\n"
     ]
    }
   ],
   "source": [
    "print(\"이미지를 확인하세요.ᵕᴗᵕ\")\n",
    "im.paste(region, box)\n",
    "im.show()"
   ]
  },
  {
   "cell_type": "code",
   "execution_count": 39,
   "metadata": {
    "ExecuteTime": {
     "end_time": "2020-08-21T10:07:15.045281Z",
     "start_time": "2020-08-21T10:07:15.030822Z"
    }
   },
   "outputs": [
    {
     "data": {
      "text/plain": [
       "(100, 100, 400, 400)"
      ]
     },
     "execution_count": 39,
     "metadata": {},
     "output_type": "execute_result"
    }
   ],
   "source": [
    "box"
   ]
  },
  {
   "cell_type": "code",
   "execution_count": null,
   "metadata": {},
   "outputs": [],
   "source": []
  },
  {
   "cell_type": "code",
   "execution_count": null,
   "metadata": {},
   "outputs": [],
   "source": []
  },
  {
   "cell_type": "code",
   "execution_count": null,
   "metadata": {},
   "outputs": [],
   "source": []
  }
 ],
 "metadata": {
  "kernelspec": {
   "display_name": "Python 3",
   "language": "python",
   "name": "python3"
  },
  "language_info": {
   "codemirror_mode": {
    "name": "ipython",
    "version": 3
   },
   "file_extension": ".py",
   "mimetype": "text/x-python",
   "name": "python",
   "nbconvert_exporter": "python",
   "pygments_lexer": "ipython3",
   "version": "3.7.6"
  },
  "toc": {
   "base_numbering": 1,
   "nav_menu": {},
   "number_sections": true,
   "sideBar": true,
   "skip_h1_title": false,
   "title_cell": "Table of Contents",
   "title_sidebar": "Contents",
   "toc_cell": false,
   "toc_position": {},
   "toc_section_display": true,
   "toc_window_display": false
  },
  "varInspector": {
   "cols": {
    "lenName": 16,
    "lenType": 16,
    "lenVar": 40
   },
   "kernels_config": {
    "python": {
     "delete_cmd_postfix": "",
     "delete_cmd_prefix": "del ",
     "library": "var_list.py",
     "varRefreshCmd": "print(var_dic_list())"
    },
    "r": {
     "delete_cmd_postfix": ") ",
     "delete_cmd_prefix": "rm(",
     "library": "var_list.r",
     "varRefreshCmd": "cat(var_dic_list()) "
    }
   },
   "types_to_exclude": [
    "module",
    "function",
    "builtin_function_or_method",
    "instance",
    "_Feature"
   ],
   "window_display": false
  }
 },
 "nbformat": 4,
 "nbformat_minor": 4
}
