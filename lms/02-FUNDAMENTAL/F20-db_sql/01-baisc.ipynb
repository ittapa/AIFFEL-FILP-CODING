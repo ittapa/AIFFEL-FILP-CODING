{
 "cells": [
  {
   "cell_type": "markdown",
   "metadata": {},
   "source": [
    "# python db"
   ]
  },
  {
   "cell_type": "markdown",
   "metadata": {},
   "source": [
    "## import library"
   ]
  },
  {
   "cell_type": "markdown",
   "metadata": {},
   "source": [
    "- sqlite3 파이썬 표준 라이브러리\n",
    "- db "
   ]
  },
  {
   "cell_type": "code",
   "execution_count": 5,
   "metadata": {
    "ExecuteTime": {
     "end_time": "2020-08-24T07:19:14.132874Z",
     "start_time": "2020-08-24T07:19:14.130643Z"
    }
   },
   "outputs": [],
   "source": [
    "import sqlite3"
   ]
  },
  {
   "cell_type": "markdown",
   "metadata": {},
   "source": [
    "## db connect"
   ]
  },
  {
   "cell_type": "code",
   "execution_count": 6,
   "metadata": {
    "ExecuteTime": {
     "end_time": "2020-08-24T07:19:22.297836Z",
     "start_time": "2020-08-24T07:19:22.295119Z"
    }
   },
   "outputs": [
    {
     "name": "stdout",
     "output_type": "stream",
     "text": [
      "<sqlite3.Connection object at 0x7fd9a58e0810>\n"
     ]
    }
   ],
   "source": [
    "import os\n",
    "#db_path = os.getenv('HOME')+'/aiffel/AIFFEL_LSG/lms/02-FUNDAMENTAL/F20-db_sql/sqlite/mydb.db'\n",
    "db_path = './sqlite/mydb.db'\n",
    "\n",
    "conn = sqlite3.connect(db_path)  # mydb.db에 연결합니다.\n",
    "print(conn)"
   ]
  },
  {
   "cell_type": "markdown",
   "metadata": {},
   "source": [
    "## cursor 객체정의"
   ]
  },
  {
   "cell_type": "code",
   "execution_count": null,
   "metadata": {
    "ExecuteTime": {
     "end_time": "2020-08-24T07:18:37.117746Z",
     "start_time": "2020-08-24T07:18:37.115192Z"
    }
   },
   "outputs": [],
   "source": [
    "##cursor 객체 선언\n",
    "c = conn.cursor()\n",
    "print(c)"
   ]
  },
  {
   "cell_type": "markdown",
   "metadata": {
    "ExecuteTime": {
     "end_time": "2020-08-24T07:19:57.278402Z",
     "start_time": "2020-08-24T07:19:57.276577Z"
    }
   },
   "source": [
    "## sql 문 실행 "
   ]
  },
  {
   "cell_type": "code",
   "execution_count": 12,
   "metadata": {
    "ExecuteTime": {
     "end_time": "2020-08-24T07:27:35.058802Z",
     "start_time": "2020-08-24T07:27:35.020707Z"
    }
   },
   "outputs": [
    {
     "ename": "ProgrammingError",
     "evalue": "Cannot operate on a closed cursor.",
     "output_type": "error",
     "traceback": [
      "\u001b[0;31m---------------------------------------------------------------------------\u001b[0m",
      "\u001b[0;31mProgrammingError\u001b[0m                          Traceback (most recent call last)",
      "\u001b[0;32m<ipython-input-12-b51565505a0b>\u001b[0m in \u001b[0;36m<module>\u001b[0;34m\u001b[0m\n\u001b[1;32m      1\u001b[0m \u001b[0;31m# stocks이라는 이름의 테이블을 하나 생성합니다. 혹시 이미 생성되었다면 생략합니다.\u001b[0m\u001b[0;34m\u001b[0m\u001b[0;34m\u001b[0m\u001b[0;34m\u001b[0m\u001b[0m\n\u001b[0;32m----> 2\u001b[0;31m \u001b[0mc\u001b[0m\u001b[0;34m.\u001b[0m\u001b[0mexecute\u001b[0m\u001b[0;34m(\u001b[0m\u001b[0;34m\"CREATE TABLE  IF NOT EXISTS  stocks (date text, trans text, symbol text, qty real, price real)\"\u001b[0m\u001b[0;34m)\u001b[0m\u001b[0;34m\u001b[0m\u001b[0;34m\u001b[0m\u001b[0m\n\u001b[0m\u001b[1;32m      3\u001b[0m \u001b[0;34m\u001b[0m\u001b[0m\n\u001b[1;32m      4\u001b[0m \u001b[0;31m# stocks 테이블에 데이터를 하나 인서트합니다.\u001b[0m\u001b[0;34m\u001b[0m\u001b[0;34m\u001b[0m\u001b[0;34m\u001b[0m\u001b[0m\n\u001b[1;32m      5\u001b[0m \u001b[0mc\u001b[0m\u001b[0;34m.\u001b[0m\u001b[0mexecute\u001b[0m\u001b[0;34m(\u001b[0m\u001b[0;34m\"INSERT INTO stocks VALUES ('20200701', 'TEST', 'AIFFEL', 1, 10000)\"\u001b[0m\u001b[0;34m)\u001b[0m\u001b[0;34m\u001b[0m\u001b[0;34m\u001b[0m\u001b[0m\n",
      "\u001b[0;31mProgrammingError\u001b[0m: Cannot operate on a closed cursor."
     ]
    }
   ],
   "source": [
    "# stocks이라는 이름의 테이블을 하나 생성합니다. 혹시 이미 생성되었다면 생략합니다. \n",
    "c.execute(\"CREATE TABLE  IF NOT EXISTS  stocks (date text, trans text, symbol text, qty real, price real)\")\n",
    "\n",
    "# stocks 테이블에 데이터를 하나 인서트합니다. \n",
    "c.execute(\"INSERT INTO stocks VALUES ('20200701', 'TEST', 'AIFFEL', 1, 10000)\")\n",
    "\n",
    "# 방금 인서트한 데이터를 조회해 봅니다.\n",
    "c.execute(\"SELECT * FROM stocks\")\n",
    "\n",
    "# 조회된 내역을 커서를 통해 가져와 출력해 봅니다.\n",
    "print(c.fetchone())"
   ]
  },
  {
   "cell_type": "markdown",
   "metadata": {},
   "source": [
    "## commit"
   ]
  },
  {
   "cell_type": "code",
   "execution_count": 10,
   "metadata": {
    "ExecuteTime": {
     "end_time": "2020-08-24T07:27:31.132275Z",
     "start_time": "2020-08-24T07:27:31.129966Z"
    }
   },
   "outputs": [],
   "source": [
    "conn.commit()   # commit()은 cursor의 메소드가 아니라 connection의 메소드입니다. \n"
   ]
  },
  {
   "cell_type": "markdown",
   "metadata": {},
   "source": [
    "## 연결 종료"
   ]
  },
  {
   "cell_type": "code",
   "execution_count": 13,
   "metadata": {
    "ExecuteTime": {
     "end_time": "2020-08-24T07:29:00.052473Z",
     "start_time": "2020-08-24T07:29:00.050575Z"
    }
   },
   "outputs": [],
   "source": [
    "c.close()      # 먼저 커서를 닫은 후\n",
    "conn.close()    # DB 연결을 닫아 줍니다.\n"
   ]
  },
  {
   "cell_type": "markdown",
   "metadata": {},
   "source": [
    "## DDL 문"
   ]
  },
  {
   "cell_type": "code",
   "execution_count": 14,
   "metadata": {
    "ExecuteTime": {
     "end_time": "2020-08-24T07:29:05.071260Z",
     "start_time": "2020-08-24T07:29:05.050100Z"
    }
   },
   "outputs": [],
   "source": [
    "import sqlite3\n",
    "import os\n",
    "\n",
    "#db_path = os.getenv('HOME')+'/aiffel/AIFFEL_LSG/lms/02-FUNDAMENTAL/F20-db_sql/sqlite/mydb.db'\n",
    "db_path = './sqlite/mydb.db'\n",
    "\n",
    "conn = sqlite3.connect(db_path)\n",
    "c = conn.cursor()\n",
    "\n",
    "#- ! 재실행 시 테이블이 존재할 수 있으므로 아래처럼 해당 테이블들을 모두 지워줍니다.\n",
    "c.execute(\"DROP TABLE IF EXISTS 도서대출내역\")\n",
    "c.execute(\"DROP TABLE IF EXISTS 도서대출내역2\")\n",
    "c.execute(\"DROP TABLE IF EXISTS 대출내역\")\n",
    "c.execute(\"DROP TABLE IF EXISTS 도서명\")\n",
    "\n",
    "\n",
    "#----- 1st table : 도서대출내역 -----#\n",
    "c.execute(\"CREATE TABLE IF NOT EXISTS 도서대출내역 (ID varchar, 이름 varchar, 도서ID varchar, 대출일 varchar, 반납일 varchar)\")\n",
    "#- 생성(create)문 : 테이블명, 변수명, 변수타입을 지정\n",
    "\n",
    "data = [('101','문강태','aaa','2020-06-01','2020-06-05'),\n",
    "             ('101','문강태','ccc','2020-06-20','2020-06-25'),\n",
    "             ('102','고문영','bbb','2020-06-01',None),\n",
    "             ('102','고문영','ddd','2020-06-08',None),\n",
    "             ('103','문상태','ccc','2020-06-01','2020-06-05'),\n",
    "             ('104','강기둥',None,None,None)]\n",
    "#- 입력할 데이터를 그대로 입력 (변수명 순서 기준대로)\n",
    "\n",
    "c.executemany('INSERT INTO 도서대출내역 VALUES (?,?,?,?,?)', data)\n",
    "#- 입력할 데이터를 실제 테이블에 insert하기\n",
    "#-----------------------------------------------#\n",
    "\n",
    "\n",
    "#----- 2nd table : 도서대출내역2 -----#\n",
    "c.execute(\"CREATE TABLE IF NOT EXISTS 도서대출내역2 (ID varchar, 이름 varchar, 대출년월 varchar, 대출일수 varchar)\")\n",
    "\n",
    "data = [('101','문강태','2020-06','20일'),\n",
    "             ('102','고문영','2020-06','10일'),\n",
    "             ('103','문상태','2020-06','8일'),\n",
    "             ('104','강기둥','2020-06','3일')]\n",
    "c.executemany('INSERT INTO 도서대출내역2 VALUES (?,?,?,?)', data)\n",
    "#--------------------------------------------------#\n",
    "\n",
    "\n",
    "#----- 3rd table : 대출내역 -----#\n",
    "c.execute(\"CREATE TABLE IF NOT EXISTS 대출내역 (ID varchar, 이름 varchar, 도서ID varchar)\")\n",
    "\n",
    "data = [('101','문강태','aaa'),\n",
    "             ('102','고문영','bbb'),\n",
    "             ('102','고문영','fff'),\n",
    "             ('103','문상태','ccc'),\n",
    "             ('104','강기둥',None)]\n",
    "c.executemany('INSERT INTO 대출내역 VALUES (?,?,?)', data)\n",
    "#-----------------------------------------#\n",
    "\n",
    "\n",
    "#----- 4th table : 도서명 -----#\n",
    "c.execute(\"CREATE TABLE IF NOT EXISTS 도서명 (도서ID varchar, 도서명 varchar)\")\n",
    "\n",
    "data = [('aaa','악몽을 먹고 자란 소년'),\n",
    "             ('bbb','좀비아이'),\n",
    "             ('ccc','공룡백과사전'),\n",
    "             ('ddd','빨간구두'),\n",
    "             ('eee','잠자는 숲속의 미녀')]\n",
    "\n",
    "c.executemany('INSERT INTO 도서명 VALUES (?,?)', data)\n",
    "#--------------------------------------#\n",
    "\n",
    "conn.commit()\n",
    "conn.close()"
   ]
  },
  {
   "cell_type": "code",
   "execution_count": 15,
   "metadata": {
    "ExecuteTime": {
     "end_time": "2020-08-24T07:29:21.936665Z",
     "start_time": "2020-08-24T07:29:21.933195Z"
    }
   },
   "outputs": [
    {
     "name": "stdout",
     "output_type": "stream",
     "text": [
      "('aaa', '악몽을 먹고 자란 소년')\n",
      "('bbb', '좀비아이')\n",
      "('ccc', '공룡백과사전')\n",
      "('ddd', '빨간구두')\n",
      "('eee', '잠자는 숲속의 미녀')\n"
     ]
    }
   ],
   "source": [
    "conn = sqlite3.connect(db_path)\n",
    "c = conn.cursor()\n",
    "\n",
    "for row in c.execute('SELECT * FROM 도서명'):\n",
    "  print(row)"
   ]
  },
  {
   "cell_type": "markdown",
   "metadata": {},
   "source": [
    "## SELECT 쿼리\n",
    "- SELECT ~ : 조회할 컬럼명을 선택\n",
    "- FROM ~ : 조회할 테이블명을 지정 (위치와 테이블명을 입력)\n",
    "- WHERE ~ : 질의할 때 필요한 조건을 설정\n",
    "- GROUP BY ~ : 특정 컬럼을 기준으로 그룹을 지어 출력\n",
    "- ORDER BY ~ : SELECT 다음에 오는 컬럼 중 정렬이 필요한 부분을 정렬 (기본 설정 : 오름차순)\n",
    "- LIMIT 숫자 : Display하고자 하는 행의 수를 설정"
   ]
  },
  {
   "cell_type": "code",
   "execution_count": 17,
   "metadata": {
    "ExecuteTime": {
     "end_time": "2020-08-24T07:35:20.689593Z",
     "start_time": "2020-08-24T07:35:20.685992Z"
    }
   },
   "outputs": [
    {
     "name": "stdout",
     "output_type": "stream",
     "text": [
      "('101', '문강태', 'aaa', '2020-06-01', '2020-06-05')\n",
      "('101', '문강태', 'ccc', '2020-06-20', '2020-06-25')\n",
      "('102', '고문영', 'bbb', '2020-06-01', None)\n",
      "('102', '고문영', 'ddd', '2020-06-08', None)\n",
      "('103', '문상태', 'ccc', '2020-06-01', '2020-06-05')\n",
      "('104', '강기둥', None, None, None)\n"
     ]
    }
   ],
   "source": [
    "#- 참고 : 실제 조회를 해보시려면 아래처럼 쓰시면 됩니다.\n",
    "#- c.execute() 괄호 안에 SQL문을 넣으시면 됩니다.\n",
    "\n",
    "import os\n",
    "#db_path = os.getenv('HOME')+'/aiffel/AIFFEL_LSG/lms/02-FUNDAMENTAL/F20-db_sql/sqlite/mydb.db'\n",
    "db_path = './sqlite/mydb.db'\n",
    "conn = sqlite3.connect(db_path)  # mydb.db에 연결합니다.\n",
    "c = conn.cursor()\n",
    "\n",
    "for row in c.execute('SELECT * FROM 도서대출내역'):\n",
    "  print(row)\n",
    "\n",
    "#- ! 출력 시 'NULL' 대신 'None'으로 출력될 수 있으나 동일하게 이해하시면 됩니다."
   ]
  },
  {
   "cell_type": "markdown",
   "metadata": {},
   "source": [
    "## DATA TYPE "
   ]
  },
  {
   "cell_type": "code",
   "execution_count": null,
   "metadata": {},
   "outputs": [],
   "source": [
    "import os\n",
    "db_path = os.getenv('HOME')+'/aiffel/AIFFEL_LSG/lms/02-FUNDAMENTAL/F20-db_sql/sqlite/mydb.db'\n",
    "#db_path = './sqlite/mydb.db'\n",
    "conn = sqlite3.connect(db_path)  # mydb.db에 연결합니다.\n",
    "c = conn.cursor()\n",
    "\n",
    "for row in c.execute('pragma table_info(도서대출내역)'):\n",
    "  print(row)"
   ]
  },
  {
   "cell_type": "markdown",
   "metadata": {},
   "source": [
    "## join\n",
    "- INNER JOIN : A 테이블과 B 테이블의 교집합을 조회\n",
    "- LEFT JOIN : (기준은 A 테이블) A 테이블을 기준으로 해서 B 테이블은 공통되는 부분만 조회\n",
    "- RIGHT JOIN : (기준은 B 테이블) B 테이블을 기준으로 해서 A 테이블은 공통되는 부분만 조회\n",
    "- FULL JOIN : A 테이블과 B 테이블 모두에서 빠트리는 부분 없이 모두 조회\n"
   ]
  },
  {
   "cell_type": "code",
   "execution_count": null,
   "metadata": {},
   "outputs": [],
   "source": []
  }
 ],
 "metadata": {
  "kernelspec": {
   "display_name": "Python 3",
   "language": "python",
   "name": "python3"
  },
  "language_info": {
   "codemirror_mode": {
    "name": "ipython",
    "version": 3
   },
   "file_extension": ".py",
   "mimetype": "text/x-python",
   "name": "python",
   "nbconvert_exporter": "python",
   "pygments_lexer": "ipython3",
   "version": "3.7.6"
  },
  "toc": {
   "base_numbering": 1,
   "nav_menu": {},
   "number_sections": true,
   "sideBar": true,
   "skip_h1_title": false,
   "title_cell": "Table of Contents",
   "title_sidebar": "Contents",
   "toc_cell": false,
   "toc_position": {},
   "toc_section_display": true,
   "toc_window_display": false
  },
  "varInspector": {
   "cols": {
    "lenName": 16,
    "lenType": 16,
    "lenVar": 40
   },
   "kernels_config": {
    "python": {
     "delete_cmd_postfix": "",
     "delete_cmd_prefix": "del ",
     "library": "var_list.py",
     "varRefreshCmd": "print(var_dic_list())"
    },
    "r": {
     "delete_cmd_postfix": ") ",
     "delete_cmd_prefix": "rm(",
     "library": "var_list.r",
     "varRefreshCmd": "cat(var_dic_list()) "
    }
   },
   "types_to_exclude": [
    "module",
    "function",
    "builtin_function_or_method",
    "instance",
    "_Feature"
   ],
   "window_display": false
  }
 },
 "nbformat": 4,
 "nbformat_minor": 4
}
