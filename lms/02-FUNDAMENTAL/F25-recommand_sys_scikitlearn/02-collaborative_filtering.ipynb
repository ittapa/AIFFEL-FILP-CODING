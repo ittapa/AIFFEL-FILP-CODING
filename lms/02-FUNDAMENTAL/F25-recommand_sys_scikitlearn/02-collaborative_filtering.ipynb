{
 "cells": [
  {
   "cell_type": "markdown",
   "metadata": {},
   "source": [
    "# svd"
   ]
  },
  {
   "cell_type": "code",
   "execution_count": 1,
   "metadata": {
    "ExecuteTime": {
     "end_time": "2020-09-01T02:26:13.423387Z",
     "start_time": "2020-09-01T02:26:13.421543Z"
    }
   },
   "outputs": [],
   "source": [
    "import numpy as np\n",
    "from numpy.linalg import svd"
   ]
  },
  {
   "cell_type": "code",
   "execution_count": 2,
   "metadata": {
    "ExecuteTime": {
     "end_time": "2020-09-01T02:26:17.596755Z",
     "start_time": "2020-09-01T02:26:17.590251Z"
    }
   },
   "outputs": [
    {
     "data": {
      "text/plain": [
       "array([[37, 37, 45, 45],\n",
       "       [12, 23,  2, 53],\n",
       "       [17, 46,  3, 41],\n",
       "       [ 7, 65, 49, 45]])"
      ]
     },
     "execution_count": 2,
     "metadata": {},
     "output_type": "execute_result"
    }
   ],
   "source": [
    "np.random.seed(30)\n",
    "A = np.random.randint(0, 100, size=(4, 4))\n",
    "A"
   ]
  },
  {
   "cell_type": "code",
   "execution_count": 3,
   "metadata": {
    "ExecuteTime": {
     "end_time": "2020-09-01T02:26:30.702126Z",
     "start_time": "2020-09-01T02:26:30.687253Z"
    }
   },
   "outputs": [
    {
     "data": {
      "text/plain": [
       "(array([[-0.54937068, -0.2803037 , -0.76767503, -0.1740596 ],\n",
       "        [-0.3581157 ,  0.69569442, -0.13554741,  0.60777407],\n",
       "        [-0.41727183,  0.47142296,  0.28991733, -0.72082768],\n",
       "        [-0.6291496 , -0.46389601,  0.55520257,  0.28411509]]),\n",
       " array([142.88131188,  39.87683209,  28.97701433,  14.97002405]),\n",
       " array([[-0.25280963, -0.62046326, -0.4025583 , -0.6237463 ],\n",
       "        [ 0.06881225, -0.07117038, -0.8159854 ,  0.56953268],\n",
       "        [-0.73215039,  0.61782756, -0.23266002, -0.16767299],\n",
       "        [-0.62873522, -0.47775436,  0.34348792,  0.50838848]]))"
      ]
     },
     "execution_count": 3,
     "metadata": {},
     "output_type": "execute_result"
    }
   ],
   "source": [
    "svd(A)"
   ]
  },
  {
   "cell_type": "code",
   "execution_count": null,
   "metadata": {},
   "outputs": [],
   "source": []
  },
  {
   "cell_type": "code",
   "execution_count": 4,
   "metadata": {
    "ExecuteTime": {
     "end_time": "2020-09-01T02:26:47.390666Z",
     "start_time": "2020-09-01T02:26:47.387343Z"
    }
   },
   "outputs": [
    {
     "name": "stdout",
     "output_type": "stream",
     "text": [
      "U matrix: (4, 4)\n",
      " [[-0.54937068 -0.2803037  -0.76767503 -0.1740596 ]\n",
      " [-0.3581157   0.69569442 -0.13554741  0.60777407]\n",
      " [-0.41727183  0.47142296  0.28991733 -0.72082768]\n",
      " [-0.6291496  -0.46389601  0.55520257  0.28411509]]\n",
      "Sigma: (4,)\n",
      " [142.88131188  39.87683209  28.97701433  14.97002405]\n",
      "V Transpose matrix: (4, 4)\n",
      " [[-0.25280963 -0.62046326 -0.4025583  -0.6237463 ]\n",
      " [ 0.06881225 -0.07117038 -0.8159854   0.56953268]\n",
      " [-0.73215039  0.61782756 -0.23266002 -0.16767299]\n",
      " [-0.62873522 -0.47775436  0.34348792  0.50838848]]\n"
     ]
    }
   ],
   "source": [
    "U, Sigma, VT = svd(A)\n",
    "\n",
    "print('U matrix: {}\\n'.format(U.shape),U)\n",
    "print('Sigma: {}\\n'.format(Sigma.shape),Sigma)\n",
    "print('V Transpose matrix: {}\\n'.format(VT.shape),VT)"
   ]
  },
  {
   "cell_type": "markdown",
   "metadata": {},
   "source": [
    "## 복원"
   ]
  },
  {
   "cell_type": "code",
   "execution_count": null,
   "metadata": {},
   "outputs": [],
   "source": []
  },
  {
   "cell_type": "code",
   "execution_count": 5,
   "metadata": {
    "ExecuteTime": {
     "end_time": "2020-09-01T02:27:04.198883Z",
     "start_time": "2020-09-01T02:27:04.195942Z"
    }
   },
   "outputs": [
    {
     "data": {
      "text/plain": [
       "array([[37., 37., 45., 45.],\n",
       "       [12., 23.,  2., 53.],\n",
       "       [17., 46.,  3., 41.],\n",
       "       [ 7., 65., 49., 45.]])"
      ]
     },
     "execution_count": 5,
     "metadata": {},
     "output_type": "execute_result"
    }
   ],
   "source": [
    "Sigma_mat = np.diag(Sigma)\n",
    "\n",
    "A_ = np.dot(np.dot(U, Sigma_mat), VT)\n",
    "A_"
   ]
  },
  {
   "cell_type": "markdown",
   "metadata": {},
   "source": [
    "# Truncated SVD"
   ]
  },
  {
   "cell_type": "code",
   "execution_count": null,
   "metadata": {},
   "outputs": [],
   "source": []
  },
  {
   "cell_type": "code",
   "execution_count": null,
   "metadata": {},
   "outputs": [],
   "source": []
  },
  {
   "cell_type": "code",
   "execution_count": null,
   "metadata": {},
   "outputs": [],
   "source": []
  },
  {
   "cell_type": "code",
   "execution_count": null,
   "metadata": {},
   "outputs": [],
   "source": []
  }
 ],
 "metadata": {
  "kernelspec": {
   "display_name": "Python 3",
   "language": "python",
   "name": "python3"
  },
  "language_info": {
   "codemirror_mode": {
    "name": "ipython",
    "version": 3
   },
   "file_extension": ".py",
   "mimetype": "text/x-python",
   "name": "python",
   "nbconvert_exporter": "python",
   "pygments_lexer": "ipython3",
   "version": "3.7.6"
  },
  "toc": {
   "base_numbering": 1,
   "nav_menu": {},
   "number_sections": true,
   "sideBar": true,
   "skip_h1_title": false,
   "title_cell": "Table of Contents",
   "title_sidebar": "Contents",
   "toc_cell": false,
   "toc_position": {},
   "toc_section_display": true,
   "toc_window_display": false
  },
  "varInspector": {
   "cols": {
    "lenName": 16,
    "lenType": 16,
    "lenVar": 40
   },
   "kernels_config": {
    "python": {
     "delete_cmd_postfix": "",
     "delete_cmd_prefix": "del ",
     "library": "var_list.py",
     "varRefreshCmd": "print(var_dic_list())"
    },
    "r": {
     "delete_cmd_postfix": ") ",
     "delete_cmd_prefix": "rm(",
     "library": "var_list.r",
     "varRefreshCmd": "cat(var_dic_list()) "
    }
   },
   "types_to_exclude": [
    "module",
    "function",
    "builtin_function_or_method",
    "instance",
    "_Feature"
   ],
   "window_display": false
  }
 },
 "nbformat": 4,
 "nbformat_minor": 4
}
