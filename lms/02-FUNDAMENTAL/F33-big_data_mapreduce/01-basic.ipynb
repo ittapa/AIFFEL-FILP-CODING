{
 "cells": [
  {
   "cell_type": "markdown",
   "metadata": {},
   "source": [
    "# F33 빅데이터 처리 기본 패턴\n",
    "\n",
    "- 병렬 컴퓨팅 / 분산컴퓨팅 / 클러스팅 컴퓨팅\n",
    "- 맵리듀스 : 하둡, 스파크 등 빅데이터를 다루는 솔루션의 가장 근안이 되는 프로그래밍 모델\n",
    "    1. 많은 것을 잘게 나누어서\n",
    "    2. 각각을 처리한 후에\n",
    "    3. 처리된 것들을 모아서 통합 결과물을 낸다\n",
    "- Split-Apply-Combine Strategy\n",
    "    \n",
    "\n",
    "\n",
    "\n"
   ]
  },
  {
   "cell_type": "markdown",
   "metadata": {},
   "source": [
    "## mapreduce\n",
    " - 맵리듀스는 하나의 컴퓨터에서 하던 작업을 여러 개의 컴퓨터에서 처리하도록 분산시키는 프로그래밍 모델입니다. 이 모델은 처리하고자 하는 작업을 여러 컴퓨터에 자동으로 분할하고 지역 처리 및 클러스터 노드 간 통신을 하기 위해 사용합니다.\n",
    " \n",
    " ![](./imgs/02.png)\n",
    " ![](./imgs/01.png)\n"
   ]
  },
  {
   "cell_type": "markdown",
   "metadata": {
    "ExecuteTime": {
     "start_time": "2020-09-17T05:22:32.320Z"
    }
   },
   "source": [
    "## haddop\n",
    "- 2004년 ,자바 기반의 분산처리 오픈 소스 프레임워크\n",
    "<br/><br/>\n",
    "- GFS(google file system)\n",
    "- hdfs(hadopp file system)\n",
    "- 사실상 표준 프레임워크\n",
    "<br/><br/>\n",
    "- 문제: map 함수가 모두 종료해야 다음 reduce 가 실행됨., 실시간 서비스에 제약"
   ]
  },
  {
   "cell_type": "markdown",
   "metadata": {},
   "source": [
    "## 스파크\n",
    "- 2009\n",
    "- 기존 map 이후 데이터를 디스크에 저장했다가 다시 불러와서 reduce하는 읽는 소요를 줄이고\n",
    "- 인메모리 데이터 엔진 사용, 성능상한계 개선,\n",
    "<br/>\n",
    "<br/>\n",
    "- 하둡의 10배 속도\n",
    "- 근데.. 하둡 기반..."
   ]
  },
  {
   "cell_type": "markdown",
   "metadata": {},
   "source": [
    "## python 이좋다.?\n",
    "- 함수 를 매개변수 전달가능.\n",
    "- 함수를 변수로 선언가능.\n",
    "- 함수는 다른 함수의 결과로 반환 가능.\n"
   ]
  },
  {
   "cell_type": "markdown",
   "metadata": {},
   "source": [
    "### python data collection"
   ]
  },
  {
   "cell_type": "code",
   "execution_count": 1,
   "metadata": {
    "ExecuteTime": {
     "end_time": "2020-09-17T06:21:42.357732Z",
     "start_time": "2020-09-17T06:21:42.356105Z"
    }
   },
   "outputs": [],
   "source": [
    "import collections"
   ]
  },
  {
   "cell_type": "code",
   "execution_count": 8,
   "metadata": {
    "ExecuteTime": {
     "end_time": "2020-09-17T06:28:52.770932Z",
     "start_time": "2020-09-17T06:28:52.764491Z"
    }
   },
   "outputs": [
    {
     "data": {
      "text/plain": [
       "defaultdict(int,\n",
       "            {'I': 7,\n",
       "             'have': 1,\n",
       "             'a': 2,\n",
       "             'depression,': 1,\n",
       "             'and': 2,\n",
       "             'then': 1,\n",
       "             'there': 1,\n",
       "             'was': 2,\n",
       "             'girl': 2,\n",
       "             'who': 1,\n",
       "             'came': 1,\n",
       "             'into': 1,\n",
       "             'my': 3,\n",
       "             'life.': 2,\n",
       "             'One': 1,\n",
       "             'day,': 1,\n",
       "             'life': 1,\n",
       "             'changed': 2,\n",
       "             'because': 2,\n",
       "             'that': 1,\n",
       "             'just': 1,\n",
       "             'She': 1,\n",
       "             'taught': 1,\n",
       "             'me': 1,\n",
       "             'how': 2,\n",
       "             'to': 3,\n",
       "             'love': 2,\n",
       "             'be': 1,\n",
       "             'an': 1,\n",
       "             'active': 1,\n",
       "             'person.': 1,\n",
       "             'And': 1,\n",
       "             'then,': 1,\n",
       "             'feel': 1,\n",
       "             'so': 2,\n",
       "             'happy': 1,\n",
       "             'when': 1,\n",
       "             'am': 2,\n",
       "             'always': 1,\n",
       "             'with': 2,\n",
       "             'her.': 1,\n",
       "             'her': 4,\n",
       "             'much.': 1,\n",
       "             \"don't\": 1,\n",
       "             'want': 1,\n",
       "             'let': 1,\n",
       "             'go.': 1,\n",
       "             'sad': 1,\n",
       "             'she': 1,\n",
       "             'is': 1,\n",
       "             'favorite': 1,\n",
       "             'friends.': 1,\n",
       "             'will': 1,\n",
       "             'do': 1,\n",
       "             'anything': 1,\n",
       "             'make': 1,\n",
       "             'proud': 1})"
      ]
     },
     "execution_count": 8,
     "metadata": {},
     "output_type": "execute_result"
    }
   ],
   "source": [
    "from collections import defaultdict\n",
    "\n",
    "text = \"\"\"I have a depression, and then there was a girl who came into \n",
    "my life. One day, my life was changed because that girl just changed my \n",
    "life. She taught me how to love and how to be an active person. \n",
    "And then, I feel so happy when I am always with her. \n",
    "I love her so much. I don't want let her go. I am sad because she \n",
    "is with her favorite friends. I will do anything to make her proud\"\"\"\n",
    "\n",
    "result = defaultdict(int)\n",
    "for t in text.split():\n",
    "    result[t] +=1\n",
    "\n",
    "result   # 결과 출력\n"
   ]
  },
  {
   "cell_type": "markdown",
   "metadata": {
    "ExecuteTime": {
     "end_time": "2020-09-17T06:28:44.211764Z",
     "start_time": "2020-09-17T06:28:44.208880Z"
    }
   },
   "source": [
    "## 맵리듀스 기본함수\n",
    "- map\n",
    "- filter\n",
    "- reduce"
   ]
  },
  {
   "cell_type": "markdown",
   "metadata": {},
   "source": [
    "### map(mapping)\n",
    "- 컬렉션의 모든 요소에 어떤 함수를 적용( 매핑)\n",
    "- M(x):x∈C"
   ]
  },
  {
   "cell_type": "code",
   "execution_count": 10,
   "metadata": {
    "ExecuteTime": {
     "end_time": "2020-09-17T06:32:44.658215Z",
     "start_time": "2020-09-17T06:32:44.654898Z"
    }
   },
   "outputs": [
    {
     "name": "stdout",
     "output_type": "stream",
     "text": [
      "[1, 2, 3, 4]\n",
      "[1, 4, 9, 16]\n"
     ]
    }
   ],
   "source": [
    "# 예시\n",
    "mynum = ['1','2','3','4']\n",
    "mynum_int = list(map(int, mynum))  # mynum의 각 원소에 int 함수를 적용\n",
    "print(mynum_int)\n",
    "\n",
    "# 람다 활용\n",
    "mynum_square = list(map(lambda x : x*x, mynum_int))  # mynum_int의 각 원소 x에 lambda x : x*x 함수를 적용\n",
    "print(mynum_square)"
   ]
  },
  {
   "cell_type": "code",
   "execution_count": 15,
   "metadata": {
    "ExecuteTime": {
     "end_time": "2020-09-17T06:35:16.112377Z",
     "start_time": "2020-09-17T06:35:16.109644Z"
    }
   },
   "outputs": [
    {
     "name": "stdout",
     "output_type": "stream",
     "text": [
      "-5\n",
      "[1, 2, 3, 4]\n"
     ]
    }
   ],
   "source": [
    "# 예시\n",
    "mynum = range(-5, 5)  \n",
    "#-5,-4,-3,-2,-1,0,1,2,3,4\n",
    "\n",
    "# 음수 숙청\n",
    "mynum_plus = list(filter(lambda x: x > 0, mynum)) # mynum의 각 원소 x에 대해 lambda x: x > 0 인지 체크하는 필터를 적용\n",
    "print(mynum_plus)"
   ]
  },
  {
   "cell_type": "markdown",
   "metadata": {
    "ExecuteTime": {
     "end_time": "2020-09-17T06:32:44.998584Z",
     "start_time": "2020-09-17T06:32:44.996877Z"
    }
   },
   "source": [
    "### 필터링\n",
    "- 컬렉션 내의 요소를 선택(필터링)F(x) 에 부합하는 부분의 x 만 선택.\n",
    "- x:x∈C,ifF(x)"
   ]
  },
  {
   "cell_type": "code",
   "execution_count": 17,
   "metadata": {
    "ExecuteTime": {
     "end_time": "2020-09-17T06:36:56.031270Z",
     "start_time": "2020-09-17T06:36:56.028136Z"
    }
   },
   "outputs": [
    {
     "name": "stdout",
     "output_type": "stream",
     "text": [
      "-5\n",
      "[1, 2, 3, 4]\n"
     ]
    }
   ],
   "source": [
    "# 예시\n",
    "\n",
    "mynum = range(-5, 5)  \n",
    "print(mynum[0])\n",
    "# -5, -4,-3,-2,-1,0,1,2,3,4\n",
    "\n",
    "# 0 이하 숙청\n",
    "mynum_plus = list(filter(lambda x: x > 0, mynum)) # mynum의 각 원소 x에 대해 lambda x: x > 0 인지 체크하는 필터를 적용\n",
    "print(mynum_plus)"
   ]
  },
  {
   "cell_type": "markdown",
   "metadata": {
    "ExecuteTime": {
     "end_time": "2020-09-17T06:38:02.642232Z",
     "start_time": "2020-09-17T06:38:02.639570Z"
    }
   },
   "source": [
    "### reduce\n",
    "- 컬렉션을 축약 \n",
    "- eg) 시그마 , x의 합\n",
    "-∑x  / ∈Cx"
   ]
  },
  {
   "cell_type": "code",
   "execution_count": 19,
   "metadata": {
    "ExecuteTime": {
     "end_time": "2020-09-17T06:38:19.721186Z",
     "start_time": "2020-09-17T06:38:19.718270Z"
    }
   },
   "outputs": [
    {
     "name": "stdout",
     "output_type": "stream",
     "text": [
      "15\n"
     ]
    }
   ],
   "source": [
    "#예시\n",
    "from functools import reduce\n",
    "mynum = [1, 2, 3, 4, 5]\n",
    "add = reduce((lambda x, y: x + y), mynum)  # reduce는 내부에 관리하는 x 변수에 mynum의 각 원소 y를 차례차례 더하여 x에 반영한다.\n",
    "\n",
    "print(add)"
   ]
  },
  {
   "cell_type": "markdown",
   "metadata": {},
   "source": [
    "## 예제\n",
    "- Split - Map - Shuffle - Reduce.\n",
    "![](./imgs/03.png)\n",
    "\n"
   ]
  },
  {
   "cell_type": "markdown",
   "metadata": {
    "ExecuteTime": {
     "end_time": "2020-09-17T06:51:05.256411Z",
     "start_time": "2020-09-17T06:51:05.147988Z"
    }
   },
   "source": [
    "### 알파벳 수 찾기\n",
    "![](./imgs/04.png)\n",
    "\n",
    "1. 입력 데이터\n",
    "    - hello python\n",
    "2. Split\n",
    "    - h,e,l,l,o,(공백),p,y,t,h,o,n\n",
    "3. Map\n",
    "    - (h:1, e:1, l:1, l:1, o:1, ' ':1, …)\n",
    "4. Reduce\n",
    "    - (h:1, e:1, l:2…)"
   ]
  },
  {
   "cell_type": "markdown",
   "metadata": {},
   "source": [
    "#### mapper\n",
    "- 입력 데이터를 나누고 매핑"
   ]
  },
  {
   "cell_type": "code",
   "execution_count": 23,
   "metadata": {
    "ExecuteTime": {
     "end_time": "2020-09-17T06:54:06.617536Z",
     "start_time": "2020-09-17T06:54:06.615216Z"
    }
   },
   "outputs": [],
   "source": [
    "\n",
    "\n",
    "# map 함수 정의 하나식 거내서 list 에 추가.\n",
    "def mapper(text):\n",
    "    split = []\n",
    "    for i in text:\n",
    "        print(i)\n",
    "        split.append((i, 1))\n",
    "    return split\n"
   ]
  },
  {
   "cell_type": "markdown",
   "metadata": {
    "ExecuteTime": {
     "end_time": "2020-09-17T06:54:07.252162Z",
     "start_time": "2020-09-17T06:54:07.250656Z"
    }
   },
   "source": [
    "#### Reducer \n",
    "- mapper에서 입력 받은 값 중 같은 항목들을 합침."
   ]
  },
  {
   "cell_type": "code",
   "execution_count": 27,
   "metadata": {
    "ExecuteTime": {
     "end_time": "2020-09-17T06:57:09.899460Z",
     "start_time": "2020-09-17T06:57:09.896594Z"
    }
   },
   "outputs": [],
   "source": [
    "\n",
    "\n",
    "def reducer(split):\n",
    "    out = {} # dictionary\n",
    "    for i in split:\n",
    "        if i[0] not in out.keys():\n",
    "            out[i[0]] = 1 \n",
    "            # 딕셔너리에 값이 없으면 생성하고 1로 초기화\n",
    "        else:\n",
    "            out[i[0]] += 1\n",
    "            # 값이 있으면 +1 \n",
    "    return out\n"
   ]
  },
  {
   "cell_type": "markdown",
   "metadata": {},
   "source": [
    "#### MapReduce"
   ]
  },
  {
   "cell_type": "code",
   "execution_count": 28,
   "metadata": {
    "ExecuteTime": {
     "end_time": "2020-09-17T06:57:11.963935Z",
     "start_time": "2020-09-17T06:57:11.959168Z"
    }
   },
   "outputs": [
    {
     "name": "stdout",
     "output_type": "stream",
     "text": [
      "h\n",
      "e\n",
      "l\n",
      "l\n",
      "o\n",
      " \n",
      "p\n",
      "y\n",
      "t\n",
      "h\n",
      "o\n",
      "n\n"
     ]
    },
    {
     "data": {
      "text/plain": [
       "{'h': 2, 'e': 1, 'l': 2, 'o': 2, ' ': 1, 'p': 1, 'y': 1, 't': 1, 'n': 1}"
      ]
     },
     "execution_count": 28,
     "metadata": {},
     "output_type": "execute_result"
    }
   ],
   "source": [
    "#input data\n",
    "text = 'hello python'\n",
    "\n",
    "reducer(mapper(text))\n",
    "               "
   ]
  },
  {
   "cell_type": "code",
   "execution_count": null,
   "metadata": {},
   "outputs": [],
   "source": []
  },
  {
   "cell_type": "code",
   "execution_count": null,
   "metadata": {},
   "outputs": [],
   "source": []
  }
 ],
 "metadata": {
  "kernelspec": {
   "display_name": "Python 3",
   "language": "python",
   "name": "python3"
  },
  "language_info": {
   "codemirror_mode": {
    "name": "ipython",
    "version": 3
   },
   "file_extension": ".py",
   "mimetype": "text/x-python",
   "name": "python",
   "nbconvert_exporter": "python",
   "pygments_lexer": "ipython3",
   "version": "3.7.6"
  },
  "toc": {
   "base_numbering": 1,
   "nav_menu": {},
   "number_sections": true,
   "sideBar": true,
   "skip_h1_title": false,
   "title_cell": "Table of Contents",
   "title_sidebar": "Contents",
   "toc_cell": false,
   "toc_position": {},
   "toc_section_display": true,
   "toc_window_display": false
  },
  "varInspector": {
   "cols": {
    "lenName": 16,
    "lenType": 16,
    "lenVar": 40
   },
   "kernels_config": {
    "python": {
     "delete_cmd_postfix": "",
     "delete_cmd_prefix": "del ",
     "library": "var_list.py",
     "varRefreshCmd": "print(var_dic_list())"
    },
    "r": {
     "delete_cmd_postfix": ") ",
     "delete_cmd_prefix": "rm(",
     "library": "var_list.r",
     "varRefreshCmd": "cat(var_dic_list()) "
    }
   },
   "types_to_exclude": [
    "module",
    "function",
    "builtin_function_or_method",
    "instance",
    "_Feature"
   ],
   "window_display": false
  }
 },
 "nbformat": 4,
 "nbformat_minor": 4
}
