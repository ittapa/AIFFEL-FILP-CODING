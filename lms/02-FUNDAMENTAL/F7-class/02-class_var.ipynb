{
 "cells": [
  {
   "cell_type": "markdown",
   "metadata": {},
   "source": [
    "### 클래스 변수와 인스턴스 변수"
   ]
  },
  {
   "cell_type": "code",
   "execution_count": 2,
   "metadata": {},
   "outputs": [],
   "source": [
    "# car 함수 정의"
   ]
  },
  {
   "cell_type": "code",
   "execution_count": 3,
   "metadata": {},
   "outputs": [],
   "source": [
    "class Car:\n",
    "    Manufacture = \"India\" # 클래스 변수 \n",
    "\n",
    "    def __init__(self, color, category='sedan'):\n",
    "        self.color = color # 인스턴스 변수\n",
    "        self.category = category"
   ]
  },
  {
   "cell_type": "code",
   "execution_count": 4,
   "metadata": {},
   "outputs": [
    {
     "name": "stdout",
     "output_type": "stream",
     "text": [
      "India red sports car\n",
      "India white sedan\n"
     ]
    }
   ],
   "source": [
    "car1 = Car('red','sports car')\n",
    "car2 = Car('white')\n",
    "print(car1.Manufacture, car1.color, car1.category)\n",
    "print(car2.Manufacture, car2.color, car2.category)"
   ]
  },
  {
   "cell_type": "code",
   "execution_count": 7,
   "metadata": {},
   "outputs": [],
   "source": [
    "Car.Manufacture = 3"
   ]
  },
  {
   "cell_type": "markdown",
   "metadata": {},
   "source": [
    "- 클래스 변수: 클래스 변수는 클래스에 직접 선언되어 모든 객체가 공유해서 사용가능\n",
    "- 인스턴스 변수: 생성자함수내 self 에 선언된 변수 객체 고유 값."
   ]
  },
  {
   "cell_type": "markdown",
   "metadata": {},
   "source": [
    "### 추상화 & 캡슐화"
   ]
  },
  {
   "cell_type": "markdown",
   "metadata": {},
   "source": [
    "- 추 : 복잡한 자료, 시스템, 모듈 등으로부터 핵심적인 개념과 기능을 뽑아내는 것\n",
    "- 캡 : 객체의 속성(attribute)과 행위(method)를 묶고 구현내용을 외부로부터 감추어 은닉"
   ]
  },
  {
   "cell_type": "markdown",
   "metadata": {},
   "source": [
    "### 상속"
   ]
  },
  {
   "cell_type": "code",
   "execution_count": 20,
   "metadata": {},
   "outputs": [
    {
     "data": {
      "text/plain": [
       "<__main__.Car at 0x7fcd859032d0>"
      ]
     },
     "execution_count": 20,
     "metadata": {},
     "output_type": "execute_result"
    }
   ],
   "source": [
    "class Car:\n",
    "    Manufacture = \"India\"\n",
    "\n",
    "    def __init__(self, color='red', category='sedan'):\n",
    "        self.color = color\n",
    "        self.category = category\n",
    "\n",
    "    def drive(self):\n",
    "        print(\"I'm driving\")\n",
    "\n",
    "    def accel(self, speed_up, current_speed=10):\n",
    "        self.speed_up = speed_up\n",
    "        self.current_speed = current_speed + self.speed_up\n",
    "        print(\"speed up\", self.speed_up, \"driving at\", self.current_speed)\n",
    "        \n",
    "        "
   ]
  },
  {
   "cell_type": "code",
   "execution_count": 24,
   "metadata": {},
   "outputs": [
    {
     "name": "stdout",
     "output_type": "stream",
     "text": [
      "I'm driving\n",
      "speed up 10 driving at 20\n"
     ]
    }
   ],
   "source": [
    "# NewCar(자식) 클래스가 Car(부모) 클래스를 상속받음 \n",
    "class NewCar(Car):\n",
    "    pass\n",
    "# 부모로 부터 받은 method 사용가능.\n",
    "car = NewCar()\n",
    "car.drive()\n",
    "car.accel(10)"
   ]
  },
  {
   "cell_type": "code",
   "execution_count": 25,
   "metadata": {},
   "outputs": [
    {
     "data": {
      "text/plain": [
       "'Porsche'"
      ]
     },
     "execution_count": 25,
     "metadata": {},
     "output_type": "execute_result"
    }
   ],
   "source": [
    "#\n",
    "class NewCar(Car):\n",
    "    maker = 'Porsche'\n",
    "\n",
    "car = NewCar()\n",
    "car.maker"
   ]
  },
  {
   "cell_type": "markdown",
   "metadata": {},
   "source": [
    "#### 변수 추가\n",
    "#### method 추가\n",
    "#### method override(재정의)\n",
    "#### super method use (상속 받은 클래스 )"
   ]
  },
  {
   "cell_type": "code",
   "execution_count": 29,
   "metadata": {},
   "outputs": [],
   "source": [
    "class NewCar(Car):\n",
    "    def __init__(self, color, category, maker):\n",
    "        super().__init__(color, category)# 상속 클래스 메서드 활용\n",
    "        self.maker = maker\n",
    "\n",
    "    def fly(self):\n",
    "        print(\"I'm flying!! This is the new car!!\")\n",
    "\n",
    "    def accel(self, speed_up, level=1, current_speed=10):\n",
    "        self.boost[level] = {1 : 0, 2 : 30, 3 : 50}\n",
    "        self.speed_up = speed_up + self.boost[level]\n",
    "        self.current_speed = current_speed + self.speed_up\n",
    "        print(\"speed up\", self.speed_up, \"driving at\", self.current_speed)"
   ]
  },
  {
   "cell_type": "code",
   "execution_count": 28,
   "metadata": {},
   "outputs": [],
   "source": []
  },
  {
   "cell_type": "code",
   "execution_count": null,
   "metadata": {},
   "outputs": [],
   "source": []
  },
  {
   "cell_type": "code",
   "execution_count": null,
   "metadata": {},
   "outputs": [],
   "source": []
  },
  {
   "cell_type": "code",
   "execution_count": null,
   "metadata": {},
   "outputs": [],
   "source": []
  }
 ],
 "metadata": {
  "kernelspec": {
   "display_name": "Python 3",
   "language": "python",
   "name": "python3"
  },
  "language_info": {
   "codemirror_mode": {
    "name": "ipython",
    "version": 3
   },
   "file_extension": ".py",
   "mimetype": "text/x-python",
   "name": "python",
   "nbconvert_exporter": "python",
   "pygments_lexer": "ipython3",
   "version": "3.7.6"
  }
 },
 "nbformat": 4,
 "nbformat_minor": 4
}
