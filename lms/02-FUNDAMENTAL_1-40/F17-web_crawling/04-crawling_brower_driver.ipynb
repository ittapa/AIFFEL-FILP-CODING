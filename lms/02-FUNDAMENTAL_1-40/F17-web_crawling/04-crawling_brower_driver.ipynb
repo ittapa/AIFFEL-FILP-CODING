{
 "cells": [
  {
   "cell_type": "markdown",
   "metadata": {
    "ExecuteTime": {
     "end_time": "2020-08-19T07:05:56.597791Z",
     "start_time": "2020-08-19T07:05:56.593062Z"
    }
   },
   "source": [
    "# brower controll\n",
    "\n",
    "- Selenium :  웹앱을 테스트하는 웹 프레임워크 입니다. webdriver의 API를 통해 브라우저를 제어\n",
    "```\n",
    "pip install selenium\n",
    "```"
   ]
  },
  {
   "cell_type": "markdown",
   "metadata": {},
   "source": [
    "## 브라우저 드라이브 다운로드\n",
    "\n",
    "- https://sites.google.com/a/chromium.org/chromedriver/downloads"
   ]
  },
  {
   "cell_type": "code",
   "execution_count": null,
   "metadata": {},
   "outputs": [],
   "source": []
  },
  {
   "cell_type": "markdown",
   "metadata": {},
   "source": [
    "## 공공 데이터 크롤링 \n",
    "- 서울 열린데이터 광장\n",
    "- https://data.seoul.go.kr/"
   ]
  },
  {
   "cell_type": "code",
   "execution_count": 2,
   "metadata": {
    "ExecuteTime": {
     "end_time": "2020-08-19T07:11:15.902100Z",
     "start_time": "2020-08-19T07:11:15.899970Z"
    }
   },
   "outputs": [],
   "source": [
    "crawling_urls = {\n",
    "\"산과공원\": \"https://data.seoul.go.kr/dataList/OA-12962/S/1/datasetView.do\",\n",
    "}"
   ]
  },
  {
   "cell_type": "code",
   "execution_count": 5,
   "metadata": {
    "ExecuteTime": {
     "end_time": "2020-08-19T07:15:34.465517Z",
     "start_time": "2020-08-19T07:15:34.332541Z"
    }
   },
   "outputs": [],
   "source": [
    "# library import\n",
    "\n",
    "import requests\n",
    "from selenium import webdriver\n",
    "import time\n",
    "import pandas as pd\n",
    "import os\n",
    "import os.path\n",
    "import glob"
   ]
  },
  {
   "cell_type": "code",
   "execution_count": 6,
   "metadata": {
    "ExecuteTime": {
     "end_time": "2020-08-19T07:15:34.860199Z",
     "start_time": "2020-08-19T07:15:34.858542Z"
    }
   },
   "outputs": [],
   "source": [
    "# btn tag "
   ]
  },
  {
   "cell_type": "code",
   "execution_count": 7,
   "metadata": {
    "ExecuteTime": {
     "end_time": "2020-08-19T07:15:46.558556Z",
     "start_time": "2020-08-19T07:15:35.335422Z"
    }
   },
   "outputs": [],
   "source": [
    "import os\n",
    "\n",
    "#wd_path = os.getenv('HOME')+'/aiffel/AIFFEL_LSG/lms/F17-web_crawling/chromedriver'\n",
    "wd_path = './chromedriver'\n",
    "\n",
    "#웹드라이버 실행 및 페이지 이동\n",
    "driver = webdriver.Chrome(wd_path)   # 크롬드라이버를 통해 브라우저를 띄우고\n",
    "driver.get(crawling_urls['산과공원'])      # 우리가 원하는 URL로 이동합니다.\n",
    "time.sleep(5)       # 해당 화면이 다 로딩할 때까지 5초간 충분히 기다려 줍니다. \n",
    "    \n",
    "#csv파일 다운로드 버튼 클릭하기\n",
    "driver.find_element_by_css_selector(\"#btnCsv\").click()   # 사람이 누른 것처럼 다운로드 버튼을 클릭한 후\n",
    "time.sleep(3)     # 다운로드가 완료될 때까지 3초간 기다려 줍니다. \n",
    "\n",
    "driver.quit()      # 브라우저를 닫습니다."
   ]
  },
  {
   "cell_type": "code",
   "execution_count": 8,
   "metadata": {
    "ExecuteTime": {
     "end_time": "2020-08-19T07:17:02.914511Z",
     "start_time": "2020-08-19T07:17:02.908255Z"
    }
   },
   "outputs": [
    {
     "name": "stdout",
     "output_type": "stream",
     "text": [
      "['/home/aiffel0042/다운로드/서울시 산과공원 생태관광 정보 (한국어).csv', '/home/aiffel0042/다운로드/서울시 산과공원 생태관광 정보 (한국어) (1).csv']\n"
     ]
    }
   ],
   "source": [
    "#다운받은 csv파일 확인\n",
    "_dir = os.getenv('HOME')+'/다운로드'\n",
    "#_dir = os.getenv('HOME')+'/Downloads'   # 영문 우분투 사용자라면 이 경로를 선택해 주세요.\n",
    "\n",
    "files = glob.glob('{}/서울시*.csv'.format(_dir))\n",
    "print(files)"
   ]
  },
  {
   "cell_type": "code",
   "execution_count": 9,
   "metadata": {
    "ExecuteTime": {
     "end_time": "2020-08-19T07:17:07.309762Z",
     "start_time": "2020-08-19T07:17:07.278276Z"
    }
   },
   "outputs": [
    {
     "data": {
      "text/html": [
       "<div>\n",
       "<style scoped>\n",
       "    .dataframe tbody tr th:only-of-type {\n",
       "        vertical-align: middle;\n",
       "    }\n",
       "\n",
       "    .dataframe tbody tr th {\n",
       "        vertical-align: top;\n",
       "    }\n",
       "\n",
       "    .dataframe thead th {\n",
       "        text-align: right;\n",
       "    }\n",
       "</style>\n",
       "<table border=\"1\" class=\"dataframe\">\n",
       "  <thead>\n",
       "    <tr style=\"text-align: right;\">\n",
       "      <th></th>\n",
       "      <th>키</th>\n",
       "      <th>명칭</th>\n",
       "      <th>대분류</th>\n",
       "      <th>주소</th>\n",
       "      <th>행정 시</th>\n",
       "      <th>행정 구</th>\n",
       "      <th>행정 동</th>\n",
       "      <th>대표전화</th>\n",
       "      <th>면적</th>\n",
       "      <th>지정일</th>\n",
       "      <th>교?안내</th>\n",
       "    </tr>\n",
       "  </thead>\n",
       "  <tbody>\n",
       "    <tr>\n",
       "      <th>0</th>\n",
       "      <td>BE_IW14-0020</td>\n",
       "      <td>진관내동 생태경관보전지역</td>\n",
       "      <td>생태탐방</td>\n",
       "      <td>은평구 진관동 282-1번지 일대(북한산국립공원 북한산성 입구 주변 습지 )</td>\n",
       "      <td>서울특별시</td>\n",
       "      <td>은평구</td>\n",
       "      <td>진관동</td>\n",
       "      <td>02-2115-7550~5 02-350-1397</td>\n",
       "      <td>16639㎡</td>\n",
       "      <td>2002년 12월 30일</td>\n",
       "      <td>지하철 3호선 구파발역 1번 출구에서 704번 34번 버스를 타고 북한산성 입구에서...</td>\n",
       "    </tr>\n",
       "    <tr>\n",
       "      <th>1</th>\n",
       "      <td>BE_IW14-0109</td>\n",
       "      <td>안산공원</td>\n",
       "      <td>산과공원</td>\n",
       "      <td>서울특별시 서대문구 홍제동 산33번지 일대</td>\n",
       "      <td>서울특별시</td>\n",
       "      <td>서대문구</td>\n",
       "      <td>홍제1동</td>\n",
       "      <td>02-330-1395</td>\n",
       "      <td>NaN</td>\n",
       "      <td>NaN</td>\n",
       "      <td>NaN</td>\n",
       "    </tr>\n",
       "    <tr>\n",
       "      <th>2</th>\n",
       "      <td>BE_IW14-0110</td>\n",
       "      <td>여의도공원</td>\n",
       "      <td>산과공원</td>\n",
       "      <td>서울특별시 영등포구 여의공원로68(여의도동 2번지)</td>\n",
       "      <td>서울특별시</td>\n",
       "      <td>영등포구</td>\n",
       "      <td>여의동</td>\n",
       "      <td>02-761-4079</td>\n",
       "      <td>NaN</td>\n",
       "      <td>NaN</td>\n",
       "      <td>NaN</td>\n",
       "    </tr>\n",
       "  </tbody>\n",
       "</table>\n",
       "</div>"
      ],
      "text/plain": [
       "              키             명칭   대분류  \\\n",
       "0  BE_IW14-0020  진관내동 생태경관보전지역  생태탐방   \n",
       "1  BE_IW14-0109           안산공원  산과공원   \n",
       "2  BE_IW14-0110          여의도공원  산과공원   \n",
       "\n",
       "                                           주소   행정 시  행정 구  행정 동  \\\n",
       "0  은평구 진관동 282-1번지 일대(북한산국립공원 북한산성 입구 주변 습지 )  서울특별시   은평구   진관동   \n",
       "1                     서울특별시 서대문구 홍제동 산33번지 일대  서울특별시  서대문구  홍제1동   \n",
       "2                서울특별시 영등포구 여의공원로68(여의도동 2번지)  서울특별시  영등포구   여의동   \n",
       "\n",
       "                         대표전화      면적            지정일  \\\n",
       "0  02-2115-7550~5 02-350-1397  16639㎡  2002년 12월 30일   \n",
       "1                 02-330-1395     NaN            NaN   \n",
       "2                 02-761-4079     NaN            NaN   \n",
       "\n",
       "                                                교?안내  \n",
       "0  지하철 3호선 구파발역 1번 출구에서 704번 34번 버스를 타고 북한산성 입구에서...  \n",
       "1                                                NaN  \n",
       "2                                                NaN  "
      ]
     },
     "execution_count": 9,
     "metadata": {},
     "output_type": "execute_result"
    }
   ],
   "source": [
    "#csv파일을 dataframe으로 변환하기\n",
    "#인코딩 에러 발생시에 encoding옵션 추가\n",
    "f_M_park = pd.read_csv(files[0], encoding='CP949')   #CP949: windows에서 사용하는 인코딩 방식\n",
    "f_M_park.head(3)"
   ]
  },
  {
   "cell_type": "code",
   "execution_count": null,
   "metadata": {},
   "outputs": [],
   "source": []
  }
 ],
 "metadata": {
  "kernelspec": {
   "display_name": "Python 3",
   "language": "python",
   "name": "python3"
  },
  "language_info": {
   "codemirror_mode": {
    "name": "ipython",
    "version": 3
   },
   "file_extension": ".py",
   "mimetype": "text/x-python",
   "name": "python",
   "nbconvert_exporter": "python",
   "pygments_lexer": "ipython3",
   "version": "3.7.6"
  },
  "toc": {
   "base_numbering": 1,
   "nav_menu": {},
   "number_sections": true,
   "sideBar": true,
   "skip_h1_title": false,
   "title_cell": "Table of Contents",
   "title_sidebar": "Contents",
   "toc_cell": false,
   "toc_position": {},
   "toc_section_display": true,
   "toc_window_display": false
  },
  "varInspector": {
   "cols": {
    "lenName": 16,
    "lenType": 16,
    "lenVar": 40
   },
   "kernels_config": {
    "python": {
     "delete_cmd_postfix": "",
     "delete_cmd_prefix": "del ",
     "library": "var_list.py",
     "varRefreshCmd": "print(var_dic_list())"
    },
    "r": {
     "delete_cmd_postfix": ") ",
     "delete_cmd_prefix": "rm(",
     "library": "var_list.r",
     "varRefreshCmd": "cat(var_dic_list()) "
    }
   },
   "types_to_exclude": [
    "module",
    "function",
    "builtin_function_or_method",
    "instance",
    "_Feature"
   ],
   "window_display": false
  }
 },
 "nbformat": 4,
 "nbformat_minor": 4
}
