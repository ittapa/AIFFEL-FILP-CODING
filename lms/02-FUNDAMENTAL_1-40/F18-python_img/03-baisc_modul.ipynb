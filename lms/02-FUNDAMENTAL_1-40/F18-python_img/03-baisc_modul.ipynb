{
 "cells": [
  {
   "cell_type": "markdown",
   "metadata": {},
   "source": [
    "# 코드 모듈화"
   ]
  },
  {
   "cell_type": "code",
   "execution_count": null,
   "metadata": {},
   "outputs": [],
   "source": []
  },
  {
   "cell_type": "code",
   "execution_count": null,
   "metadata": {},
   "outputs": [],
   "source": []
  },
  {
   "cell_type": "markdown",
   "metadata": {},
   "source": [
    "## eg"
   ]
  },
  {
   "cell_type": "code",
   "execution_count": 4,
   "metadata": {
    "ExecuteTime": {
     "end_time": "2020-08-21T09:39:02.288162Z",
     "start_time": "2020-08-21T09:39:02.281158Z"
    }
   },
   "outputs": [],
   "source": [
    "## PIL 라이브러리 모듈들\n",
    "# from 패키지 import 모듈\n",
    "from PIL import Image\n",
    "from PIL import ImageFile\n",
    "from PIL import ImageMath, ImageEnhance"
   ]
  },
  {
   "cell_type": "code",
   "execution_count": 5,
   "metadata": {
    "ExecuteTime": {
     "end_time": "2020-08-21T09:39:02.583799Z",
     "start_time": "2020-08-21T09:39:02.582238Z"
    }
   },
   "outputs": [],
   "source": [
    "###############################"
   ]
  },
  {
   "cell_type": "code",
   "execution_count": 6,
   "metadata": {
    "ExecuteTime": {
     "end_time": "2020-08-21T09:39:02.961336Z",
     "start_time": "2020-08-21T09:39:02.916118Z"
    }
   },
   "outputs": [],
   "source": [
    "import os\n",
    "\n",
    "# original_img_path = os.getenv('HOME')+'/aiffel/AIFFEL_LSG/lms/02-FUNDAMENTAL/F18-python_img/imgs/00-t.png'\n",
    "original_img_path = './imgs/00-t.png'\n",
    "# new_img_path = os.getenv('HOME')+'/aiffel/AIFFEL_LSG/lms/02-FUNDAMENTAL/F18-python_img/imgs/00-t_modify.png'\n",
    "new_img_path = './imgs/00-t_modify.png'\n",
    "\n",
    "im = Image.open(original_img_path)   # 모듈.함수 호출\n",
    "im.save(new_img_path)\n"
   ]
  },
  {
   "cell_type": "code",
   "execution_count": 7,
   "metadata": {
    "ExecuteTime": {
     "end_time": "2020-08-21T09:48:37.455869Z",
     "start_time": "2020-08-21T09:48:37.452683Z"
    }
   },
   "outputs": [],
   "source": [
    "def image_resize(image, height): # 이미지 객체 , 세로 사이즈\n",
    "    \n",
    "    if height == 300: # 300 이면  800 300\n",
    "        return image.resize((800, 300))\n",
    "    else: # 아니면 800 600 \n",
    "        return image.resize((800, 600))\n",
    "    \n",
    "\n",
    "def image_rotate(image): # 180 도 회전 시켜서 반환    \n",
    "    return image.rotate(180)\n",
    "\n",
    "def image_change_bw(image):\n",
    "    return image.convert('L')\n"
   ]
  },
  {
   "cell_type": "code",
   "execution_count": 28,
   "metadata": {
    "ExecuteTime": {
     "end_time": "2020-08-21T10:20:55.898067Z",
     "start_time": "2020-08-21T10:20:55.855047Z"
    }
   },
   "outputs": [],
   "source": [
    "from PIL import Image\n",
    "import os\n",
    "import sys\n",
    "sys.path.append(os.getenv('HOME')+'/aiffel/AIFFEL_LSG/lms/02-FUNDAMENTAL/F18-python_img')   \n",
    "# 우리가 추가한 모듈의 path를 sys.path에 임시로 추가해 줍니다. \n",
    "\n",
    "import img_processing as ip      # 위 추가한 path에서 image_processing.py 모듈을 가져와 임포트합니다. \n",
    "\n",
    "original_img_path = os.getenv('HOME')+'/aiffel/AIFFEL_LSG/lms/02-FUNDAMENTAL/F18-python_img/imgs/test.jpg'\n",
    "result_img_path = os.getenv('HOME')+'/aiffel/AIFFEL_LSG/lms/02-FUNDAMENTAL/F18-python_img/imgs/result_image.jpg'\n",
    "\n",
    "def img_transfer(original_image, result_image):\n",
    "    # 원본 이미지를 오픈합니다. \n",
    "    im = Image.open(original_image)\n",
    "\n",
    "    # image_processing.image_resize 를 사용하여 (800,600)으로 resize합니다. \n",
    "    im_resized_600 = ip.image_resize(im,1)\n",
    "    # image_processing.image_resize 를 사용하여 (800,300)으로 resize합니다. \n",
    "    im_resized_300 = ip.image_resize(im,300)\n",
    "\n",
    "    # image_processing.image_rotate 를 사용하여 (800,300)짜리 이미지를 180도 회전합니다. \n",
    "    im_resized_300_rotate = ip.image_rotate(im_resized_300)\n",
    "\n",
    "    # im_resized_600에 im_resized_300와 im_resized_300_rotate를 아래위로 붙입니다. \n",
    "    im_resized_600.paste(im_resized_300_rotate, (0,0,800,300))\n",
    "    im_resized_600.paste(im_resized_300, (0,300,800,600))\n",
    "    \n",
    "    # image_processing.image_change_bw 를 사용하여 im_resized_600을 흑백으로 변환합니다.\n",
    "    im_resized_600= im_resized_600.convert('L')\n",
    "\n",
    "    # 이미지를 저장합니다. \n",
    "    im_resized_600.save(result_image)\n",
    "\n",
    "# 함수를 호출해서 원본이미지를 새로운 이미지로 변환해서 저장해 봅시다.     \n",
    "img_transfer(original_img_path, result_img_path)\n",
    "\n",
    "# 만들어진 이미지를 화면에 출력해 봅시다. \n",
    "Image.open(result_img_path).show()\n"
   ]
  },
  {
   "cell_type": "code",
   "execution_count": 61,
   "metadata": {
    "ExecuteTime": {
     "end_time": "2020-08-21T11:08:20.184249Z",
     "start_time": "2020-08-21T11:08:11.869991Z"
    }
   },
   "outputs": [
    {
     "name": "stdout",
     "output_type": "stream",
     "text": [
      "코드 실행 중..🛸\n",
      "<PIL.JpegImagePlugin.JpegImageFile image mode=RGB size=460x460 at 0x7FE4C5BD6710>\n",
      "완료!\n"
     ]
    }
   ],
   "source": [
    "from tkinter import *\n",
    "import tkinter.ttk as ttk\n",
    "from tkinter import filedialog, messagebox\n",
    "from PIL import Image,ImageTk\n",
    "\n",
    "sys.path.append(os.getenv('HOME')+'/aiffel/AIFFEL_LSG/lms/02-FUNDAMENTAL/F18-python_img')   \n",
    "# 우리가 추가한 모듈의 path를 sys.path에 임시로 추가해 줍니다. \n",
    "\n",
    "import img_processing as ip  \n",
    "\n",
    "print('코드 실행 중..🛸')\n",
    "window = Tk()\n",
    "window.title(\"나의 이미지 편집기\")\n",
    "\n",
    "window.geometry(\"1240x600\")\n",
    "\n",
    "\n",
    "label1 = Label(window, text=\"이미지 편집전\")\n",
    "label1.place(x=300, y=20)\n",
    "\n",
    "label2 = Label(window, text=\"이미지 편집후\")\n",
    "label2.place(x=900, y=20)\n",
    "\n",
    "\n",
    "#img label\n",
    "\n",
    "\n",
    "\n",
    "\n",
    "window.filename = None\n",
    "# 이미지 임시 temp\n",
    "imgTemp = None\n",
    "\n",
    "def click1():\n",
    "    window.filename = filedialog.askopenfilename(initialdir=\"~\", title=\"Select image file\")\n",
    "    if window.filename:\n",
    "        img = Image.open(window.filename)\n",
    "        imgTemp = img\n",
    "        img = img.resize((600, 450), Image.ANTIALIAS)\n",
    "        img = ImageTk.PhotoImage(img)\n",
    "        \n",
    "        label3 = Label(window, image=img)\n",
    "        label3.place(x=20, y=50)\n",
    "        label3.image = img\n",
    "        \n",
    "def click2():\n",
    "   \n",
    "    if not window.filename : \n",
    "        messagebox.showinfo(\"경고\", \"이미지부터 추가해라\")\n",
    "        return\n",
    "\n",
    "    img = Image.open(window.filename)\n",
    "    print(img)\n",
    "    # image_processing.image_resize 를 사용하여 (800,600)으로 resize합니다. \n",
    "    im_resized_600 = ip.image_resize(img,1)\n",
    "    # image_processing.image_resize 를 사용하여 (800,300)으로 resize합니다. \n",
    "    im_resized_300 = ip.image_resize(img,300)\n",
    "\n",
    "    # image_processing.image_rotate 를 사용하여 (800,300)짜리 이미지를 180도 회전합니다. \n",
    "    im_resized_300_rotate = ip.image_rotate(im_resized_300)\n",
    "\n",
    "    # im_resized_600에 im_resized_300와 im_resized_300_rotate를 아래위로 붙입니다. \n",
    "    im_resized_600.paste(im_resized_300_rotate, (0,0,800,300))\n",
    "    im_resized_600.paste(im_resized_300, (0,300,800,600))\n",
    "    \n",
    "    # image_processing.image_change_bw 를 사용하여 im_resized_600을 흑백으로 변환합니다.\n",
    "    im_resized_600= im_resized_600.convert('L')\n",
    "    \n",
    "    \n",
    "    img = im_resized_600.resize((600, 450), Image.ANTIALIAS)\n",
    "    img = ImageTk.PhotoImage(img)\n",
    "    \n",
    "    label4 = Label(window, image=img)\n",
    "    label4.image = img\n",
    "    label4.place(x=640, y=50)\n",
    "\n",
    "\n",
    "    \n",
    "\n",
    "action1 = ttk.Button(window, text=\"이미지 선택\", command=click1)  \n",
    "action1.place(x=200, y=520)\n",
    "\n",
    "action1 = ttk.Button(window, text=\"이미지 변환\", command=click2)  \n",
    "action1.place(x=400, y=520)\n",
    "\n",
    "\n",
    "\n",
    "window.mainloop()\n",
    "print('완료!')"
   ]
  },
  {
   "cell_type": "code",
   "execution_count": 55,
   "metadata": {
    "ExecuteTime": {
     "end_time": "2020-08-21T11:02:50.646421Z",
     "start_time": "2020-08-21T11:02:41.546135Z"
    }
   },
   "outputs": [
    {
     "name": "stdout",
     "output_type": "stream",
     "text": [
      "코드 실행 중..🛸\n",
      "완료!\n"
     ]
    }
   ],
   "source": [
    "from tkinter import *\n",
    "import tkinter.ttk as ttk\n",
    "from tkinter import filedialog\n",
    "from PIL import Image,ImageTk\n",
    "\n",
    "\n",
    "print('코드 실행 중..🛸')\n",
    "window = Tk()\n",
    "window.title(\"나의 이미지 편집기\")\n",
    "\n",
    "window.geometry(\"1240x600\")\n",
    "\n",
    "label1 = Label(window, text=\"이미지 편집전\")\n",
    "label2 = Label(window, text=\"이미지 편집후\")\n",
    "label1.place(x=200, y=20)\n",
    "label2.place(x=800, y=20)\n",
    "\n",
    "window.filename = None\n",
    "\n",
    "def click1():\n",
    "    window.filename = filedialog.askopenfilename(initialdir=\"~\", title=\"Select image file\")\n",
    "    if window.filename:\n",
    "        img = Image.open(window.filename)\n",
    "        img = img.resize((600, 450), Image.ANTIALIAS)\n",
    "        img = ImageTk.PhotoImage(img)\n",
    "        label3 = Label(window, image=img)\n",
    "        label3.image = img\n",
    "        label3.place(x=20, y=50)\n",
    "\n",
    "def click2():\n",
    "    img_transfer(window.filename, 'result.png')\n",
    "    img = Image.open('result.png')\n",
    "    img = img.resize((600, 450), Image.ANTIALIAS)\n",
    "    img = ImageTk.PhotoImage(img)\n",
    "    label4 = Label(window, image=img)\n",
    "    label4.image = img\n",
    "    label4.place(x=620, y=50)\n",
    "\n",
    "\n",
    "action1 = ttk.Button(window, text=\"이미지 선택\", command=click1)  \n",
    "action1.place(x=200, y=520)\n",
    "\n",
    "action2 = ttk.Button(window, text=\"이미지 변환\", command=click2)   \n",
    "action2.place(x=800, y=520)\n",
    "\n",
    "window.mainloop()\n",
    "print('완료!')"
   ]
  },
  {
   "cell_type": "code",
   "execution_count": null,
   "metadata": {},
   "outputs": [],
   "source": []
  },
  {
   "cell_type": "code",
   "execution_count": null,
   "metadata": {},
   "outputs": [],
   "source": []
  },
  {
   "cell_type": "code",
   "execution_count": null,
   "metadata": {},
   "outputs": [],
   "source": []
  }
 ],
 "metadata": {
  "kernelspec": {
   "display_name": "Python 3",
   "language": "python",
   "name": "python3"
  },
  "language_info": {
   "codemirror_mode": {
    "name": "ipython",
    "version": 3
   },
   "file_extension": ".py",
   "mimetype": "text/x-python",
   "name": "python",
   "nbconvert_exporter": "python",
   "pygments_lexer": "ipython3",
   "version": "3.7.6"
  },
  "toc": {
   "base_numbering": 1,
   "nav_menu": {},
   "number_sections": true,
   "sideBar": true,
   "skip_h1_title": false,
   "title_cell": "Table of Contents",
   "title_sidebar": "Contents",
   "toc_cell": false,
   "toc_position": {},
   "toc_section_display": true,
   "toc_window_display": false
  },
  "varInspector": {
   "cols": {
    "lenName": 16,
    "lenType": 16,
    "lenVar": 40
   },
   "kernels_config": {
    "python": {
     "delete_cmd_postfix": "",
     "delete_cmd_prefix": "del ",
     "library": "var_list.py",
     "varRefreshCmd": "print(var_dic_list())"
    },
    "r": {
     "delete_cmd_postfix": ") ",
     "delete_cmd_prefix": "rm(",
     "library": "var_list.r",
     "varRefreshCmd": "cat(var_dic_list()) "
    }
   },
   "types_to_exclude": [
    "module",
    "function",
    "builtin_function_or_method",
    "instance",
    "_Feature"
   ],
   "window_display": false
  }
 },
 "nbformat": 4,
 "nbformat_minor": 4
}
