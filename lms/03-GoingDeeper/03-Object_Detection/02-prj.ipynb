{
 "cells": [
  {
   "cell_type": "markdown",
   "metadata": {},
   "source": [
    "# go/stop project 타짜인쥴"
   ]
  },
  {
   "cell_type": "markdown",
   "metadata": {},
   "source": [
    "## 환경 설정ㅈ"
   ]
  },
  {
   "cell_type": "code",
   "execution_count": 1,
   "metadata": {
    "ExecuteTime": {
     "end_time": "2020-10-28T07:54:45.857006Z",
     "start_time": "2020-10-28T07:54:41.121726Z"
    }
   },
   "outputs": [
    {
     "name": "stdout",
     "output_type": "stream",
     "text": [
      "'keras-retinanet'에 복제합니다...\n",
      "remote: Enumerating objects: 9, done.\u001b[K\n",
      "remote: Counting objects: 100% (9/9), done.\u001b[K\n",
      "remote: Compressing objects: 100% (8/8), done.\u001b[K\n",
      "remote: Total 6205 (delta 1), reused 3 (delta 1), pack-reused 6196\u001b[K\n",
      "오브젝트를 받는 중: 100% (6205/6205), 13.48 MiB | 5.41 MiB/s, 완료.\n",
      "델타를 알아내는 중: 100% (4196/4196), 완료.\n"
     ]
    }
   ],
   "source": [
    "!git clone https://github.com/fizyr/keras-retinanet.git"
   ]
  },
  {
   "cell_type": "code",
   "execution_count": 2,
   "metadata": {
    "ExecuteTime": {
     "end_time": "2020-10-28T07:54:58.133949Z",
     "start_time": "2020-10-28T07:54:54.675606Z"
    }
   },
   "outputs": [
    {
     "name": "stdout",
     "output_type": "stream",
     "text": [
      "running build_ext\n",
      "cythoning keras_retinanet/utils/compute_overlap.pyx to keras_retinanet/utils/compute_overlap.c\n",
      "/home/aiffel0042/anaconda3/envs/aiffel/lib/python3.7/site-packages/Cython/Compiler/Main.py:369: FutureWarning: Cython directive 'language_level' not set, using 2 for now (Py2). This will change in a later release! File: /home/aiffel0042/aiffel/AIFFEL_LSG/lms/03-GoingDeeper/03-Object_Detection/keras-retinanet/keras_retinanet/utils/compute_overlap.pyx\n",
      "  tree = Parsing.p_module(s, pxd, full_module_name)\n",
      "building 'keras_retinanet.utils.compute_overlap' extension\n",
      "creating build\n",
      "creating build/temp.linux-x86_64-3.7\n",
      "creating build/temp.linux-x86_64-3.7/keras_retinanet\n",
      "creating build/temp.linux-x86_64-3.7/keras_retinanet/utils\n",
      "gcc -pthread -B /home/aiffel0042/anaconda3/envs/aiffel/compiler_compat -Wl,--sysroot=/ -Wsign-compare -DNDEBUG -g -fwrapv -O3 -Wall -Wstrict-prototypes -fPIC -I/home/aiffel0042/anaconda3/envs/aiffel/include/python3.7m -I/home/aiffel0042/anaconda3/envs/aiffel/lib/python3.7/site-packages/numpy/core/include -c keras_retinanet/utils/compute_overlap.c -o build/temp.linux-x86_64-3.7/keras_retinanet/utils/compute_overlap.o\n",
      "In file included from \u001b[01m\u001b[K/home/aiffel0042/anaconda3/envs/aiffel/lib/python3.7/site-packages/numpy/core/include/numpy/ndarraytypes.h:1832:0\u001b[m\u001b[K,\n",
      "                 from \u001b[01m\u001b[K/home/aiffel0042/anaconda3/envs/aiffel/lib/python3.7/site-packages/numpy/core/include/numpy/ndarrayobject.h:12\u001b[m\u001b[K,\n",
      "                 from \u001b[01m\u001b[K/home/aiffel0042/anaconda3/envs/aiffel/lib/python3.7/site-packages/numpy/core/include/numpy/arrayobject.h:4\u001b[m\u001b[K,\n",
      "                 from \u001b[01m\u001b[Kkeras_retinanet/utils/compute_overlap.c:610\u001b[m\u001b[K:\n",
      "\u001b[01m\u001b[K/home/aiffel0042/anaconda3/envs/aiffel/lib/python3.7/site-packages/numpy/core/include/numpy/npy_1_7_deprecated_api.h:17:2:\u001b[m\u001b[K \u001b[01;35m\u001b[Kwarning: \u001b[m\u001b[K#warning \"Using deprecated NumPy API, disable it with \" \"#define NPY_NO_DEPRECATED_API NPY_1_7_API_VERSION\" [\u001b[01;35m\u001b[K-Wcpp\u001b[m\u001b[K]\n",
      " #\u001b[01;35m\u001b[Kwarning\u001b[m\u001b[K \"Using deprecated NumPy API, disable it with \" \\\n",
      "  \u001b[01;35m\u001b[K^~~~~~~\u001b[m\u001b[K\n",
      "creating build/lib.linux-x86_64-3.7\n",
      "creating build/lib.linux-x86_64-3.7/keras_retinanet\n",
      "creating build/lib.linux-x86_64-3.7/keras_retinanet/utils\n",
      "gcc -pthread -shared -B /home/aiffel0042/anaconda3/envs/aiffel/compiler_compat -L/home/aiffel0042/anaconda3/envs/aiffel/lib -Wl,-rpath=/home/aiffel0042/anaconda3/envs/aiffel/lib -Wl,--no-as-needed -Wl,--sysroot=/ build/temp.linux-x86_64-3.7/keras_retinanet/utils/compute_overlap.o -o build/lib.linux-x86_64-3.7/keras_retinanet/utils/compute_overlap.cpython-37m-x86_64-linux-gnu.so\n",
      "copying build/lib.linux-x86_64-3.7/keras_retinanet/utils/compute_overlap.cpython-37m-x86_64-linux-gnu.so -> keras_retinanet/utils\n"
     ]
    }
   ],
   "source": [
    "!cd keras-retinanet && python setup.py build_ext --inplace"
   ]
  },
  {
   "cell_type": "code",
   "execution_count": 3,
   "metadata": {
    "ExecuteTime": {
     "end_time": "2020-10-28T07:57:32.650417Z",
     "start_time": "2020-10-28T07:55:26.117887Z"
    }
   },
   "outputs": [
    {
     "name": "stdout",
     "output_type": "stream",
     "text": [
      "Collecting git+https://github.com/cocodataset/cocoapi.git#subdirectory=PythonAPI (from -r requirements.txt (line 3))\n",
      "  Cloning https://github.com/cocodataset/cocoapi.git to /tmp/pip-req-build-6t6e3rhz\n",
      "Requirement already satisfied: cython in /home/aiffel0042/anaconda3/envs/aiffel/lib/python3.7/site-packages (from -r requirements.txt (line 1)) (0.29.21)\n",
      "Collecting keras-resnet==0.2.0\n",
      "  Downloading keras-resnet-0.2.0.tar.gz (9.3 kB)\n",
      "Requirement already satisfied: h5py in /home/aiffel0042/anaconda3/envs/aiffel/lib/python3.7/site-packages (from -r requirements.txt (line 4)) (2.10.0)\n",
      "Requirement already satisfied: keras in /home/aiffel0042/anaconda3/envs/aiffel/lib/python3.7/site-packages (from -r requirements.txt (line 5)) (2.4.3)\n",
      "Requirement already satisfied: matplotlib in /home/aiffel0042/anaconda3/envs/aiffel/lib/python3.7/site-packages (from -r requirements.txt (line 6)) (3.2.2)\n",
      "Requirement already satisfied: numpy>=1.14 in /home/aiffel0042/anaconda3/envs/aiffel/lib/python3.7/site-packages (from -r requirements.txt (line 7)) (1.18.5)\n",
      "Requirement already satisfied: opencv-python>=3.3.0 in /home/aiffel0042/anaconda3/envs/aiffel/lib/python3.7/site-packages (from -r requirements.txt (line 8)) (4.4.0.42)\n",
      "Requirement already satisfied: pillow in /home/aiffel0042/anaconda3/envs/aiffel/lib/python3.7/site-packages (from -r requirements.txt (line 9)) (7.2.0)\n",
      "Collecting progressbar2\n",
      "  Downloading progressbar2-3.53.1-py2.py3-none-any.whl (25 kB)\n",
      "Collecting tensorflow>=2.3.0\n",
      "  Downloading tensorflow-2.3.1-cp37-cp37m-manylinux2010_x86_64.whl (320.4 MB)\n",
      "\u001b[K     |████████████████████████████████| 320.4 MB 18 kB/s  eta 0:00:01     |████████████████                | 160.5 MB 2.9 MB/s eta 0:00:55\n",
      "\u001b[?25hRequirement already satisfied: setuptools>=18.0 in /home/aiffel0042/anaconda3/envs/aiffel/lib/python3.7/site-packages (from pycocotools==2.0->-r requirements.txt (line 3)) (47.3.1.post20200622)\n",
      "Requirement already satisfied: six in /home/aiffel0042/anaconda3/envs/aiffel/lib/python3.7/site-packages (from h5py->-r requirements.txt (line 4)) (1.15.0)\n",
      "Requirement already satisfied: pyyaml in /home/aiffel0042/anaconda3/envs/aiffel/lib/python3.7/site-packages (from keras->-r requirements.txt (line 5)) (5.3.1)\n",
      "Requirement already satisfied: scipy>=0.14 in /home/aiffel0042/anaconda3/envs/aiffel/lib/python3.7/site-packages (from keras->-r requirements.txt (line 5)) (1.4.1)\n",
      "Requirement already satisfied: pyparsing!=2.0.4,!=2.1.2,!=2.1.6,>=2.0.1 in /home/aiffel0042/anaconda3/envs/aiffel/lib/python3.7/site-packages (from matplotlib->-r requirements.txt (line 6)) (2.4.7)\n",
      "Requirement already satisfied: python-dateutil>=2.1 in /home/aiffel0042/anaconda3/envs/aiffel/lib/python3.7/site-packages (from matplotlib->-r requirements.txt (line 6)) (2.8.1)\n",
      "Requirement already satisfied: cycler>=0.10 in /home/aiffel0042/anaconda3/envs/aiffel/lib/python3.7/site-packages (from matplotlib->-r requirements.txt (line 6)) (0.10.0)\n",
      "Requirement already satisfied: kiwisolver>=1.0.1 in /home/aiffel0042/anaconda3/envs/aiffel/lib/python3.7/site-packages (from matplotlib->-r requirements.txt (line 6)) (1.2.0)\n",
      "Collecting python-utils>=2.3.0\n",
      "  Downloading python_utils-2.4.0-py2.py3-none-any.whl (12 kB)\n",
      "Requirement already satisfied: grpcio>=1.8.6 in /home/aiffel0042/anaconda3/envs/aiffel/lib/python3.7/site-packages (from tensorflow>=2.3.0->-r requirements.txt (line 11)) (1.27.2)\n",
      "Requirement already satisfied: keras-preprocessing<1.2,>=1.1.1 in /home/aiffel0042/anaconda3/envs/aiffel/lib/python3.7/site-packages (from tensorflow>=2.3.0->-r requirements.txt (line 11)) (1.1.2)\n",
      "Requirement already satisfied: tensorboard<3,>=2.3.0 in /home/aiffel0042/anaconda3/envs/aiffel/lib/python3.7/site-packages (from tensorflow>=2.3.0->-r requirements.txt (line 11)) (2.3.0)\n",
      "Requirement already satisfied: tensorflow-estimator<2.4.0,>=2.3.0 in /home/aiffel0042/anaconda3/envs/aiffel/lib/python3.7/site-packages (from tensorflow>=2.3.0->-r requirements.txt (line 11)) (2.3.0)\n",
      "Requirement already satisfied: protobuf>=3.9.2 in /home/aiffel0042/anaconda3/envs/aiffel/lib/python3.7/site-packages (from tensorflow>=2.3.0->-r requirements.txt (line 11)) (3.12.3)\n",
      "Requirement already satisfied: google-pasta>=0.1.8 in /home/aiffel0042/anaconda3/envs/aiffel/lib/python3.7/site-packages (from tensorflow>=2.3.0->-r requirements.txt (line 11)) (0.2.0)\n",
      "Requirement already satisfied: absl-py>=0.7.0 in /home/aiffel0042/anaconda3/envs/aiffel/lib/python3.7/site-packages (from tensorflow>=2.3.0->-r requirements.txt (line 11)) (0.9.0)\n",
      "Requirement already satisfied: wrapt>=1.11.1 in /home/aiffel0042/anaconda3/envs/aiffel/lib/python3.7/site-packages (from tensorflow>=2.3.0->-r requirements.txt (line 11)) (1.11.2)\n",
      "Requirement already satisfied: opt-einsum>=2.3.2 in /home/aiffel0042/anaconda3/envs/aiffel/lib/python3.7/site-packages (from tensorflow>=2.3.0->-r requirements.txt (line 11)) (3.3.0)\n",
      "Requirement already satisfied: wheel>=0.26 in /home/aiffel0042/anaconda3/envs/aiffel/lib/python3.7/site-packages (from tensorflow>=2.3.0->-r requirements.txt (line 11)) (0.34.2)\n",
      "Requirement already satisfied: gast==0.3.3 in /home/aiffel0042/anaconda3/envs/aiffel/lib/python3.7/site-packages (from tensorflow>=2.3.0->-r requirements.txt (line 11)) (0.3.3)\n",
      "Requirement already satisfied: astunparse==1.6.3 in /home/aiffel0042/anaconda3/envs/aiffel/lib/python3.7/site-packages (from tensorflow>=2.3.0->-r requirements.txt (line 11)) (1.6.3)\n",
      "Requirement already satisfied: termcolor>=1.1.0 in /home/aiffel0042/anaconda3/envs/aiffel/lib/python3.7/site-packages (from tensorflow>=2.3.0->-r requirements.txt (line 11)) (1.1.0)\n",
      "Requirement already satisfied: google-auth<2,>=1.6.3 in /home/aiffel0042/anaconda3/envs/aiffel/lib/python3.7/site-packages (from tensorboard<3,>=2.3.0->tensorflow>=2.3.0->-r requirements.txt (line 11)) (1.17.2)\n",
      "Requirement already satisfied: tensorboard-plugin-wit>=1.6.0 in /home/aiffel0042/anaconda3/envs/aiffel/lib/python3.7/site-packages (from tensorboard<3,>=2.3.0->tensorflow>=2.3.0->-r requirements.txt (line 11)) (1.6.0.post3)\n",
      "Requirement already satisfied: google-auth-oauthlib<0.5,>=0.4.1 in /home/aiffel0042/anaconda3/envs/aiffel/lib/python3.7/site-packages (from tensorboard<3,>=2.3.0->tensorflow>=2.3.0->-r requirements.txt (line 11)) (0.4.1)\n",
      "Requirement already satisfied: requests<3,>=2.21.0 in /home/aiffel0042/anaconda3/envs/aiffel/lib/python3.7/site-packages (from tensorboard<3,>=2.3.0->tensorflow>=2.3.0->-r requirements.txt (line 11)) (2.24.0)\n",
      "Requirement already satisfied: markdown>=2.6.8 in /home/aiffel0042/anaconda3/envs/aiffel/lib/python3.7/site-packages (from tensorboard<3,>=2.3.0->tensorflow>=2.3.0->-r requirements.txt (line 11)) (3.2.2)\n",
      "Requirement already satisfied: werkzeug>=0.11.15 in /home/aiffel0042/anaconda3/envs/aiffel/lib/python3.7/site-packages (from tensorboard<3,>=2.3.0->tensorflow>=2.3.0->-r requirements.txt (line 11)) (1.0.1)\n",
      "Requirement already satisfied: rsa<5,>=3.1.4; python_version >= \"3\" in /home/aiffel0042/anaconda3/envs/aiffel/lib/python3.7/site-packages (from google-auth<2,>=1.6.3->tensorboard<3,>=2.3.0->tensorflow>=2.3.0->-r requirements.txt (line 11)) (4.6)\n",
      "Requirement already satisfied: cachetools<5.0,>=2.0.0 in /home/aiffel0042/anaconda3/envs/aiffel/lib/python3.7/site-packages (from google-auth<2,>=1.6.3->tensorboard<3,>=2.3.0->tensorflow>=2.3.0->-r requirements.txt (line 11)) (4.1.1)\n",
      "Requirement already satisfied: pyasn1-modules>=0.2.1 in /home/aiffel0042/anaconda3/envs/aiffel/lib/python3.7/site-packages (from google-auth<2,>=1.6.3->tensorboard<3,>=2.3.0->tensorflow>=2.3.0->-r requirements.txt (line 11)) (0.2.7)\n",
      "Requirement already satisfied: requests-oauthlib>=0.7.0 in /home/aiffel0042/anaconda3/envs/aiffel/lib/python3.7/site-packages (from google-auth-oauthlib<0.5,>=0.4.1->tensorboard<3,>=2.3.0->tensorflow>=2.3.0->-r requirements.txt (line 11)) (1.2.0)\n",
      "Requirement already satisfied: idna<3,>=2.5 in /home/aiffel0042/anaconda3/envs/aiffel/lib/python3.7/site-packages (from requests<3,>=2.21.0->tensorboard<3,>=2.3.0->tensorflow>=2.3.0->-r requirements.txt (line 11)) (2.10)\n",
      "Requirement already satisfied: chardet<4,>=3.0.2 in /home/aiffel0042/anaconda3/envs/aiffel/lib/python3.7/site-packages (from requests<3,>=2.21.0->tensorboard<3,>=2.3.0->tensorflow>=2.3.0->-r requirements.txt (line 11)) (3.0.4)\n",
      "Requirement already satisfied: certifi>=2017.4.17 in /home/aiffel0042/anaconda3/envs/aiffel/lib/python3.7/site-packages (from requests<3,>=2.21.0->tensorboard<3,>=2.3.0->tensorflow>=2.3.0->-r requirements.txt (line 11)) (2020.6.20)\n",
      "Requirement already satisfied: urllib3!=1.25.0,!=1.25.1,<1.26,>=1.21.1 in /home/aiffel0042/anaconda3/envs/aiffel/lib/python3.7/site-packages (from requests<3,>=2.21.0->tensorboard<3,>=2.3.0->tensorflow>=2.3.0->-r requirements.txt (line 11)) (1.25.9)\n"
     ]
    },
    {
     "name": "stdout",
     "output_type": "stream",
     "text": [
      "Requirement already satisfied: importlib-metadata; python_version < \"3.8\" in /home/aiffel0042/anaconda3/envs/aiffel/lib/python3.7/site-packages (from markdown>=2.6.8->tensorboard<3,>=2.3.0->tensorflow>=2.3.0->-r requirements.txt (line 11)) (1.7.0)\n",
      "Requirement already satisfied: pyasn1>=0.1.3 in /home/aiffel0042/anaconda3/envs/aiffel/lib/python3.7/site-packages (from rsa<5,>=3.1.4; python_version >= \"3\"->google-auth<2,>=1.6.3->tensorboard<3,>=2.3.0->tensorflow>=2.3.0->-r requirements.txt (line 11)) (0.4.8)\n",
      "Requirement already satisfied: oauthlib>=3.0.0 in /home/aiffel0042/anaconda3/envs/aiffel/lib/python3.7/site-packages (from requests-oauthlib>=0.7.0->google-auth-oauthlib<0.5,>=0.4.1->tensorboard<3,>=2.3.0->tensorflow>=2.3.0->-r requirements.txt (line 11)) (3.0.1)\n",
      "Requirement already satisfied: zipp>=0.5 in /home/aiffel0042/anaconda3/envs/aiffel/lib/python3.7/site-packages (from importlib-metadata; python_version < \"3.8\"->markdown>=2.6.8->tensorboard<3,>=2.3.0->tensorflow>=2.3.0->-r requirements.txt (line 11)) (3.1.0)\n",
      "Building wheels for collected packages: keras-resnet, pycocotools\n",
      "  Building wheel for keras-resnet (setup.py) ... \u001b[?25ldone\n",
      "\u001b[?25h  Created wheel for keras-resnet: filename=keras_resnet-0.2.0-py2.py3-none-any.whl size=20487 sha256=1482899b5cd84166f47b42565310b19a1d71792b887d27fa00705ec008c87068\n",
      "  Stored in directory: /home/aiffel0042/.cache/pip/wheels/bd/ef/06/5d65f696360436c3a423020c4b7fd8c558c09ef264a0e6c575\n",
      "  Building wheel for pycocotools (setup.py) ... \u001b[?25ldone\n",
      "\u001b[?25h  Created wheel for pycocotools: filename=pycocotools-2.0-cp37-cp37m-linux_x86_64.whl size=273826 sha256=45b5e67655b20c80a08acfca837342614c10817b2a686ad1a2702c311afb4808\n",
      "  Stored in directory: /tmp/pip-ephem-wheel-cache-0sa33c2h/wheels/e2/6b/1d/344ac773c7495ea0b85eb228bc66daec7400a143a92d36b7b1\n",
      "Successfully built keras-resnet pycocotools\n",
      "Installing collected packages: keras-resnet, python-utils, progressbar2, tensorflow, pycocotools\n",
      "  Attempting uninstall: tensorflow\n",
      "    Found existing installation: tensorflow 2.2.0\n",
      "    Uninstalling tensorflow-2.2.0:\n",
      "      Successfully uninstalled tensorflow-2.2.0\n",
      "Successfully installed keras-resnet-0.2.0 progressbar2-3.53.1 pycocotools-2.0 python-utils-2.4.0 tensorflow-2.3.1\n"
     ]
    }
   ],
   "source": [
    "!cd keras-retinanet && pip install -r requirements.txt"
   ]
  },
  {
   "cell_type": "code",
   "execution_count": 4,
   "metadata": {
    "ExecuteTime": {
     "end_time": "2020-10-28T08:00:04.075660Z",
     "start_time": "2020-10-28T07:59:59.429567Z"
    }
   },
   "outputs": [
    {
     "name": "stdout",
     "output_type": "stream",
     "text": [
      "Processing /home/aiffel0042/aiffel/AIFFEL_LSG/lms/03-GoingDeeper/03-Object_Detection/keras-retinanet\n",
      "Requirement already satisfied: keras-resnet==0.2.0 in /home/aiffel0042/anaconda3/envs/aiffel/lib/python3.7/site-packages (from keras-retinanet==1.0.0) (0.2.0)\n",
      "Requirement already satisfied: six in /home/aiffel0042/anaconda3/envs/aiffel/lib/python3.7/site-packages (from keras-retinanet==1.0.0) (1.15.0)\n",
      "Requirement already satisfied: numpy in /home/aiffel0042/anaconda3/envs/aiffel/lib/python3.7/site-packages (from keras-retinanet==1.0.0) (1.18.5)\n",
      "Requirement already satisfied: cython in /home/aiffel0042/anaconda3/envs/aiffel/lib/python3.7/site-packages (from keras-retinanet==1.0.0) (0.29.21)\n",
      "Requirement already satisfied: Pillow in /home/aiffel0042/anaconda3/envs/aiffel/lib/python3.7/site-packages (from keras-retinanet==1.0.0) (7.2.0)\n",
      "Requirement already satisfied: opencv-python in /home/aiffel0042/anaconda3/envs/aiffel/lib/python3.7/site-packages (from keras-retinanet==1.0.0) (4.4.0.42)\n",
      "Requirement already satisfied: progressbar2 in /home/aiffel0042/anaconda3/envs/aiffel/lib/python3.7/site-packages (from keras-retinanet==1.0.0) (3.53.1)\n",
      "Requirement already satisfied: keras>=2.2.4 in /home/aiffel0042/anaconda3/envs/aiffel/lib/python3.7/site-packages (from keras-resnet==0.2.0->keras-retinanet==1.0.0) (2.4.3)\n",
      "Requirement already satisfied: python-utils>=2.3.0 in /home/aiffel0042/anaconda3/envs/aiffel/lib/python3.7/site-packages (from progressbar2->keras-retinanet==1.0.0) (2.4.0)\n",
      "Requirement already satisfied: h5py in /home/aiffel0042/anaconda3/envs/aiffel/lib/python3.7/site-packages (from keras>=2.2.4->keras-resnet==0.2.0->keras-retinanet==1.0.0) (2.10.0)\n",
      "Requirement already satisfied: scipy>=0.14 in /home/aiffel0042/anaconda3/envs/aiffel/lib/python3.7/site-packages (from keras>=2.2.4->keras-resnet==0.2.0->keras-retinanet==1.0.0) (1.4.1)\n",
      "Requirement already satisfied: pyyaml in /home/aiffel0042/anaconda3/envs/aiffel/lib/python3.7/site-packages (from keras>=2.2.4->keras-resnet==0.2.0->keras-retinanet==1.0.0) (5.3.1)\n",
      "Building wheels for collected packages: keras-retinanet\n",
      "  Building wheel for keras-retinanet (setup.py) ... \u001b[?25ldone\n",
      "\u001b[?25h  Created wheel for keras-retinanet: filename=keras_retinanet-1.0.0-cp37-cp37m-linux_x86_64.whl size=171887 sha256=ce0cd490e6a3645f01dc52368d16a4e8de54b8b729aeb1fc3ced9e729c4defa0\n",
      "  Stored in directory: /home/aiffel0042/.cache/pip/wheels/1d/13/fe/61187c37d9989928f56433219843d84cc1bf22c6d06af963f2\n",
      "Successfully built keras-retinanet\n",
      "Installing collected packages: keras-retinanet\n",
      "Successfully installed keras-retinanet-1.0.0\n"
     ]
    }
   ],
   "source": [
    "!cd keras-retinanet && pip install ."
   ]
  },
  {
   "cell_type": "code",
   "execution_count": null,
   "metadata": {},
   "outputs": [],
   "source": []
  }
 ],
 "metadata": {
  "kernelspec": {
   "display_name": "Python 3",
   "language": "python",
   "name": "python3"
  },
  "language_info": {
   "codemirror_mode": {
    "name": "ipython",
    "version": 3
   },
   "file_extension": ".py",
   "mimetype": "text/x-python",
   "name": "python",
   "nbconvert_exporter": "python",
   "pygments_lexer": "ipython3",
   "version": "3.7.6"
  },
  "toc": {
   "base_numbering": 1,
   "nav_menu": {},
   "number_sections": true,
   "sideBar": true,
   "skip_h1_title": false,
   "title_cell": "Table of Contents",
   "title_sidebar": "Contents",
   "toc_cell": false,
   "toc_position": {},
   "toc_section_display": true,
   "toc_window_display": false
  },
  "varInspector": {
   "cols": {
    "lenName": 16,
    "lenType": 16,
    "lenVar": 40
   },
   "kernels_config": {
    "python": {
     "delete_cmd_postfix": "",
     "delete_cmd_prefix": "del ",
     "library": "var_list.py",
     "varRefreshCmd": "print(var_dic_list())"
    },
    "r": {
     "delete_cmd_postfix": ") ",
     "delete_cmd_prefix": "rm(",
     "library": "var_list.r",
     "varRefreshCmd": "cat(var_dic_list()) "
    }
   },
   "types_to_exclude": [
    "module",
    "function",
    "builtin_function_or_method",
    "instance",
    "_Feature"
   ],
   "window_display": false
  }
 },
 "nbformat": 4,
 "nbformat_minor": 4
}
