{
 "cells": [
  {
   "cell_type": "code",
   "execution_count": 1,
   "metadata": {
    "ExecuteTime": {
     "end_time": "2020-11-30T08:40:10.276516Z",
     "start_time": "2020-11-30T08:40:10.273886Z"
    }
   },
   "outputs": [],
   "source": [
    "# 카메라앱"
   ]
  },
  {
   "cell_type": "markdown",
   "metadata": {},
   "source": [
    "# package intall"
   ]
  },
  {
   "cell_type": "code",
   "execution_count": 2,
   "metadata": {
    "ExecuteTime": {
     "end_time": "2020-11-30T08:40:49.038992Z",
     "start_time": "2020-11-30T08:40:34.784781Z"
    }
   },
   "outputs": [
    {
     "name": "stdout",
     "output_type": "stream",
     "text": [
      "Reading package lists... Done\n",
      "Building dependency tree       \n",
      "Reading state information... Done\n",
      "pkg-config is already the newest version (0.29.1-0ubuntu1).\n",
      "The following additional packages will be installed:\n",
      "  debhelper dh-strip-nondeterminism gettext gir1.2-atk-1.0 gir1.2-freedesktop\n",
      "  gir1.2-gdkpixbuf-2.0 gir1.2-gtk-2.0 gir1.2-pango-1.0 intltool-debian\n",
      "  libarchive-zip-perl libasprintf-dev libatk1.0-dev libcairo-gobject2\n",
      "  libcairo-script-interpreter2 libcairo2-dev libcroco3\n",
      "  libfile-stripnondeterminism-perl libfontconfig1-dev libfreetype6\n",
      "  libfreetype6-dev libgdk-pixbuf2.0-dev libgettextpo-dev libgettextpo0\n",
      "  libglib2.0-0 libglib2.0-bin libglib2.0-dev libharfbuzz-dev\n",
      "  libharfbuzz-gobject0 libharfbuzz-icu0 libmail-sendmail-perl libpango1.0-dev\n",
      "  libpangoxft-1.0-0 libpixman-1-dev libpng12-dev libsys-hostname-long-perl\n",
      "  libtimedate-perl libunistring0 libxcb-render0-dev libxcb-shm0-dev\n",
      "  libxcomposite-dev libxcursor-dev libxdamage-dev libxext-dev libxfixes-dev\n",
      "  libxft-dev libxi-dev libxinerama-dev libxml2-utils libxrandr-dev\n",
      "  libxrender-dev po-debconf x11proto-composite-dev x11proto-damage-dev\n",
      "  x11proto-fixes-dev x11proto-randr-dev x11proto-render-dev x11proto-xext-dev\n",
      "  x11proto-xinerama-dev\n",
      "Suggested packages:\n",
      "  dh-make gettext-doc autopoint libcairo2-doc libglib2.0-doc libgtk2.0-doc\n",
      "  imagemagick libpango1.0-doc libxext-doc libmail-box-perl\n",
      "The following NEW packages will be installed:\n",
      "  debhelper dh-strip-nondeterminism gettext gir1.2-atk-1.0 gir1.2-freedesktop\n",
      "  gir1.2-gdkpixbuf-2.0 gir1.2-gtk-2.0 gir1.2-pango-1.0 intltool-debian\n",
      "  libarchive-zip-perl libasprintf-dev libatk1.0-dev libcairo-gobject2\n",
      "  libcairo-script-interpreter2 libcairo2-dev libcroco3\n",
      "  libfile-stripnondeterminism-perl libfontconfig1-dev libfreetype6-dev\n",
      "  libgdk-pixbuf2.0-dev libgettextpo-dev libgettextpo0 libglib2.0-bin\n",
      "  libglib2.0-dev libgtk2.0-dev libharfbuzz-dev libharfbuzz-gobject0\n",
      "  libharfbuzz-icu0 libmail-sendmail-perl libpango1.0-dev libpangoxft-1.0-0\n",
      "  libpixman-1-dev libpng12-dev libsys-hostname-long-perl libtimedate-perl\n",
      "  libunistring0 libxcb-render0-dev libxcb-shm0-dev libxcomposite-dev\n",
      "  libxcursor-dev libxdamage-dev libxext-dev libxfixes-dev libxft-dev libxi-dev\n",
      "  libxinerama-dev libxml2-utils libxrandr-dev libxrender-dev po-debconf\n",
      "  x11proto-composite-dev x11proto-damage-dev x11proto-fixes-dev\n",
      "  x11proto-randr-dev x11proto-render-dev x11proto-xext-dev\n",
      "  x11proto-xinerama-dev\n",
      "The following packages will be upgraded:\n",
      "  libfreetype6 libglib2.0-0\n",
      "2 upgraded, 57 newly installed, 0 to remove and 128 not upgraded.\n",
      "Need to get 12.7 MB of archives.\n",
      "After this operation, 59.6 MB of additional disk space will be used.\n",
      "Do you want to continue? [Y/n] ^C\n"
     ]
    }
   ],
   "source": [
    "!sudo apt install libgtk2.0-dev pkg-config"
   ]
  },
  {
   "cell_type": "code",
   "execution_count": 3,
   "metadata": {
    "ExecuteTime": {
     "end_time": "2020-11-30T08:42:52.307664Z",
     "start_time": "2020-11-30T08:40:49.052519Z"
    }
   },
   "outputs": [
    {
     "name": "stdout",
     "output_type": "stream",
     "text": [
      "Looking in indexes: http://ftp.daumkakao.com/pypi/simple\n",
      "Collecting cmake\n",
      "  Downloading http://mirror.kakao.com/pypi/packages/bb/c5/9a07d851bf8356dba2871f141f3e5e8d390995687be20316041a1e564d4c/cmake-3.18.4.post1-py3-none-manylinux1_x86_64.whl (17.7 MB)\n",
      "\u001b[K     |████████████████████████████████| 17.7 MB 45.8 MB/s eta 0:00:01\n",
      "\u001b[?25hInstalling collected packages: cmake\n",
      "Successfully installed cmake-3.18.4.post1\n",
      "Looking in indexes: http://ftp.daumkakao.com/pypi/simple\n",
      "Collecting dlib\n",
      "  Downloading http://mirror.kakao.com/pypi/packages/a4/7b/2f7f29f460629a8143b2deea1911e2fb1d9d88d29bf645ba321461588e88/dlib-19.21.0.tar.gz (3.2 MB)\n",
      "\u001b[K     |████████████████████████████████| 3.2 MB 11.6 MB/s eta 0:00:01\n",
      "\u001b[?25hBuilding wheels for collected packages: dlib\n",
      "  Building wheel for dlib (setup.py) ... \u001b[?25ldone\n",
      "\u001b[?25h  Created wheel for dlib: filename=dlib-19.21.0-cp38-cp38-linux_x86_64.whl size=4411170 sha256=50e6a616657adf030d03fc18043efc1388a146c7143f4ff0b3eab9679160ff46\n",
      "  Stored in directory: /home/ubuntu/.cache/pip/wheels/8f/06/9b/82c4b1b9c21b3d0458c1dcd8de074a98008efefa10250c45ab\n",
      "Successfully built dlib\n",
      "Installing collected packages: dlib\n",
      "Successfully installed dlib-19.21.0\n",
      "Looking in indexes: http://ftp.daumkakao.com/pypi/simple\n",
      "Requirement already satisfied: opencv-contrib-python in /home/ubuntu/anaconda3/envs/aiffel/lib/python3.8/site-packages (4.4.0.46)\n",
      "Requirement already satisfied: numpy>=1.17.3 in /home/ubuntu/anaconda3/envs/aiffel/lib/python3.8/site-packages (from opencv-contrib-python) (1.18.5)\n"
     ]
    }
   ],
   "source": [
    "! pip install cmake\n",
    "! pip install dlib\n",
    "! pip install opencv-contrib-python"
   ]
  },
  {
   "cell_type": "code",
   "execution_count": null,
   "metadata": {},
   "outputs": [],
   "source": []
  },
  {
   "cell_type": "code",
   "execution_count": 4,
   "metadata": {
    "ExecuteTime": {
     "end_time": "2020-11-30T08:49:50.869425Z",
     "start_time": "2020-11-30T08:49:37.031471Z"
    }
   },
   "outputs": [
    {
     "name": "stdout",
     "output_type": "stream",
     "text": [
      "--2020-11-30 17:49:37--  http://dlib.net/files/shape_predictor_68_face_landmarks.dat.bz2\n",
      "Resolving dlib.net (dlib.net)... 107.180.26.78\n",
      "Connecting to dlib.net (dlib.net)|107.180.26.78|:80... connected.\n",
      "HTTP request sent, awaiting response... 200 OK\n",
      "Length: 64040097 (61M)\n",
      "Saving to: ‘/home/ubuntu/aiffel/video_sticker_app/models/abs/shape_predictor_68_face_landmarks.dat.bz2’\n",
      "\n",
      "shape_predictor_68_ 100%[===================>]  61.07M  2.61MB/s    in 13s     \n",
      "\n",
      "2020-11-30 17:49:50 (4.64 MB/s) - ‘/home/ubuntu/aiffel/video_sticker_app/models/abs/shape_predictor_68_face_landmarks.dat.bz2’ saved [64040097/64040097]\n",
      "\n"
     ]
    }
   ],
   "source": [
    "!  wget http://dlib.net/files/shape_predictor_68_face_landmarks.dat.bz2 -P ~/aiffel/video_sticker_app/models/abs"
   ]
  },
  {
   "cell_type": "code",
   "execution_count": 5,
   "metadata": {
    "ExecuteTime": {
     "end_time": "2020-11-30T08:50:00.005552Z",
     "start_time": "2020-11-30T08:49:59.883345Z"
    }
   },
   "outputs": [
    {
     "name": "stdout",
     "output_type": "stream",
     "text": [
      "bzip2: Can't open input file /home/ubuntu/aiffel/video_sticker_app/models/shape_predictor_68_face_landmarks.dat.bz2: No such file or directory.\r\n"
     ]
    }
   ],
   "source": [
    "!bzip2 -d ~/aiffel/video_sticker_app/models/shape_predictor_68_face_landmarks.dat.bz2"
   ]
  },
  {
   "cell_type": "code",
   "execution_count": 9,
   "metadata": {
    "ExecuteTime": {
     "end_time": "2020-11-30T09:00:46.043440Z",
     "start_time": "2020-11-30T09:00:44.563958Z"
    }
   },
   "outputs": [
    {
     "name": "stdout",
     "output_type": "stream",
     "text": [
      "--2020-11-30 18:00:44--  https://aiffelstaticprd.blob.core.windows.net/media/documents/video_sticker_app_Q8qlmvJ.zip\n",
      "Resolving aiffelstaticprd.blob.core.windows.net (aiffelstaticprd.blob.core.windows.net)... 52.239.148.4\n",
      "Connecting to aiffelstaticprd.blob.core.windows.net (aiffelstaticprd.blob.core.windows.net)|52.239.148.4|:443... connected.\n",
      "HTTP request sent, awaiting response... 200 OK\n",
      "Length: 17283388 (16M) [application/zip]\n",
      "Saving to: ‘/home/ubuntu/aiffel/video_sticker_app/video_sticker_app_Q8qlmvJ.zip.1’\n",
      "\n",
      "video_sticker_app_Q 100%[===================>]  16.48M  13.4MB/s    in 1.2s    \n",
      "\n",
      "2020-11-30 18:00:45 (13.4 MB/s) - ‘/home/ubuntu/aiffel/video_sticker_app/video_sticker_app_Q8qlmvJ.zip.1’ saved [17283388/17283388]\n",
      "\n"
     ]
    }
   ],
   "source": [
    "!wget https://aiffelstaticprd.blob.core.windows.net/media/documents/video_sticker_app_Q8qlmvJ.zip -P ~/aiffel/video_sticker_app"
   ]
  },
  {
   "cell_type": "code",
   "execution_count": 8,
   "metadata": {
    "ExecuteTime": {
     "end_time": "2020-11-30T08:53:25.065462Z",
     "start_time": "2020-11-30T08:53:24.950047Z"
    }
   },
   "outputs": [
    {
     "name": "stdout",
     "output_type": "stream",
     "text": [
      "total 12\r\n",
      "drwxrwxr-x  4 ubuntu ubuntu   67 Nov 30 17:50 .\r\n",
      "drwxrwxr-x 10 ubuntu ubuntu  188 Nov 30 17:37 ..\r\n",
      "-rw-rw-r--  1 ubuntu ubuntu 9617 Nov 30 17:50 01-basic.ipynb\r\n",
      "drwxrwxr-x  2 ubuntu ubuntu   39 Nov 30 17:40 .ipynb_checkpoints\r\n",
      "drwxrwxr-x  2 ubuntu ubuntu    6 Nov 30 17:37 model\r\n"
     ]
    }
   ],
   "source": [
    "!ls -al"
   ]
  },
  {
   "cell_type": "code",
   "execution_count": null,
   "metadata": {},
   "outputs": [],
   "source": []
  }
 ],
 "metadata": {
  "kernelspec": {
   "display_name": "Python 3",
   "language": "python",
   "name": "python3"
  },
  "language_info": {
   "codemirror_mode": {
    "name": "ipython",
    "version": 3
   },
   "file_extension": ".py",
   "mimetype": "text/x-python",
   "name": "python",
   "nbconvert_exporter": "python",
   "pygments_lexer": "ipython3",
   "version": "3.8.5"
  },
  "toc": {
   "base_numbering": 1,
   "nav_menu": {},
   "number_sections": true,
   "sideBar": true,
   "skip_h1_title": false,
   "title_cell": "Table of Contents",
   "title_sidebar": "Contents",
   "toc_cell": false,
   "toc_position": {},
   "toc_section_display": true,
   "toc_window_display": false
  },
  "varInspector": {
   "cols": {
    "lenName": 16,
    "lenType": 16,
    "lenVar": 40
   },
   "kernels_config": {
    "python": {
     "delete_cmd_postfix": "",
     "delete_cmd_prefix": "del ",
     "library": "var_list.py",
     "varRefreshCmd": "print(var_dic_list())"
    },
    "r": {
     "delete_cmd_postfix": ") ",
     "delete_cmd_prefix": "rm(",
     "library": "var_list.r",
     "varRefreshCmd": "cat(var_dic_list()) "
    }
   },
   "types_to_exclude": [
    "module",
    "function",
    "builtin_function_or_method",
    "instance",
    "_Feature"
   ],
   "window_display": false
  }
 },
 "nbformat": 4,
 "nbformat_minor": 4
}
