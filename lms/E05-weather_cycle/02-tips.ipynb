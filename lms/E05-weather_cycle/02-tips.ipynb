{
 "cells": [
  {
   "cell_type": "code",
   "execution_count": null,
   "metadata": {},
   "outputs": [],
   "source": []
  },
  {
   "cell_type": "code",
   "execution_count": null,
   "metadata": {},
   "outputs": [],
   "source": []
  },
  {
   "cell_type": "code",
   "execution_count": null,
   "metadata": {},
   "outputs": [],
   "source": []
  },
  {
   "cell_type": "code",
   "execution_count": 81,
   "metadata": {
    "ExecuteTime": {
     "end_time": "2020-08-11T03:21:54.666685Z",
     "start_time": "2020-08-11T03:21:54.088287Z"
    }
   },
   "outputs": [
    {
     "name": "stderr",
     "output_type": "stream",
     "text": [
      "/home/aiffel0042/anaconda3/envs/aiffel/lib/python3.7/site-packages/bs4/__init__.py:181: UserWarning: No parser was explicitly specified, so I'm using the best available HTML parser for this system (\"lxml\"). This usually isn't a problem, but if you run this code on another system, or in a different virtual environment, it may use a different parser and behave differently.\n",
      "\n",
      "The code that caused this warning is on line 193 of the file /home/aiffel0042/anaconda3/envs/aiffel/lib/python3.7/runpy.py. To get rid of this warning, change code that looks like this:\n",
      "\n",
      " BeautifulSoup(YOUR_MARKUP})\n",
      "\n",
      "to this:\n",
      "\n",
      " BeautifulSoup(YOUR_MARKUP, \"lxml\")\n",
      "\n",
      "  markup_type=markup_type))\n"
     ]
    },
    {
     "data": {
      "text/plain": [
       "['anscombe',\n",
       " 'attention',\n",
       " 'brain_networks',\n",
       " 'car_crashes',\n",
       " 'diamonds',\n",
       " 'dots',\n",
       " 'exercise',\n",
       " 'flights',\n",
       " 'fmri',\n",
       " 'gammas',\n",
       " 'geyser',\n",
       " 'iris',\n",
       " 'mpg',\n",
       " 'penguins',\n",
       " 'planets',\n",
       " 'tips',\n",
       " 'titanic']"
      ]
     },
     "execution_count": 81,
     "metadata": {},
     "output_type": "execute_result"
    }
   ],
   "source": [
    "# import library\n",
    "import pandas as pd \n",
    "import seaborn as sns\n",
    "from sklearn.model_selection import train_test_split\n",
    "\n",
    "import matplotlib.pyplot as plt\n",
    "import matplotlib.font_manager as fm\n",
    "\n",
    "%matplotlib inline\n",
    "%config InlineBackend.figure_format = 'retina'\n",
    "\n",
    "# font set\n",
    "font_path = '/home/aiffel0042/anaconda3/envs/aiffel/lib/python3.7/site-packages/matplotlib/mpl-data/fonts/ttf/NanumGothic.ttf'\n",
    "fontprop = fm.FontProperties(fname=font_path, size=18)\n",
    "\n",
    "#- ! bs4 모듈이 설치되어 있어야 합니다. -#\n",
    "\n",
    "sns.get_dataset_names()"
   ]
  },
  {
   "cell_type": "code",
   "execution_count": 82,
   "metadata": {
    "ExecuteTime": {
     "end_time": "2020-08-11T03:21:54.718636Z",
     "start_time": "2020-08-11T03:21:54.707971Z"
    }
   },
   "outputs": [
    {
     "name": "stdout",
     "output_type": "stream",
     "text": [
      "(244, 7)\n"
     ]
    },
    {
     "data": {
      "text/html": [
       "<div>\n",
       "<style scoped>\n",
       "    .dataframe tbody tr th:only-of-type {\n",
       "        vertical-align: middle;\n",
       "    }\n",
       "\n",
       "    .dataframe tbody tr th {\n",
       "        vertical-align: top;\n",
       "    }\n",
       "\n",
       "    .dataframe thead th {\n",
       "        text-align: right;\n",
       "    }\n",
       "</style>\n",
       "<table border=\"1\" class=\"dataframe\">\n",
       "  <thead>\n",
       "    <tr style=\"text-align: right;\">\n",
       "      <th></th>\n",
       "      <th>total_bill</th>\n",
       "      <th>tip</th>\n",
       "      <th>sex</th>\n",
       "      <th>smoker</th>\n",
       "      <th>day</th>\n",
       "      <th>time</th>\n",
       "      <th>size</th>\n",
       "    </tr>\n",
       "  </thead>\n",
       "  <tbody>\n",
       "    <tr>\n",
       "      <th>0</th>\n",
       "      <td>16.99</td>\n",
       "      <td>1.01</td>\n",
       "      <td>Female</td>\n",
       "      <td>No</td>\n",
       "      <td>Sun</td>\n",
       "      <td>Dinner</td>\n",
       "      <td>2</td>\n",
       "    </tr>\n",
       "    <tr>\n",
       "      <th>1</th>\n",
       "      <td>10.34</td>\n",
       "      <td>1.66</td>\n",
       "      <td>Male</td>\n",
       "      <td>No</td>\n",
       "      <td>Sun</td>\n",
       "      <td>Dinner</td>\n",
       "      <td>3</td>\n",
       "    </tr>\n",
       "    <tr>\n",
       "      <th>2</th>\n",
       "      <td>21.01</td>\n",
       "      <td>3.50</td>\n",
       "      <td>Male</td>\n",
       "      <td>No</td>\n",
       "      <td>Sun</td>\n",
       "      <td>Dinner</td>\n",
       "      <td>3</td>\n",
       "    </tr>\n",
       "    <tr>\n",
       "      <th>3</th>\n",
       "      <td>23.68</td>\n",
       "      <td>3.31</td>\n",
       "      <td>Male</td>\n",
       "      <td>No</td>\n",
       "      <td>Sun</td>\n",
       "      <td>Dinner</td>\n",
       "      <td>2</td>\n",
       "    </tr>\n",
       "    <tr>\n",
       "      <th>4</th>\n",
       "      <td>24.59</td>\n",
       "      <td>3.61</td>\n",
       "      <td>Female</td>\n",
       "      <td>No</td>\n",
       "      <td>Sun</td>\n",
       "      <td>Dinner</td>\n",
       "      <td>4</td>\n",
       "    </tr>\n",
       "  </tbody>\n",
       "</table>\n",
       "</div>"
      ],
      "text/plain": [
       "   total_bill   tip     sex smoker  day    time  size\n",
       "0       16.99  1.01  Female     No  Sun  Dinner     2\n",
       "1       10.34  1.66    Male     No  Sun  Dinner     3\n",
       "2       21.01  3.50    Male     No  Sun  Dinner     3\n",
       "3       23.68  3.31    Male     No  Sun  Dinner     2\n",
       "4       24.59  3.61  Female     No  Sun  Dinner     4"
      ]
     },
     "execution_count": 82,
     "metadata": {},
     "output_type": "execute_result"
    }
   ],
   "source": [
    "# data import and check\n",
    "'''\n",
    "total_bill : 테이블의 전체 지불 금액\n",
    "tip : 팁으로 낸 금액\n",
    "sex : 웨이터의 성별\n",
    "smoker : 손님의 흡연 여부\n",
    "day : 요일\n",
    "time : 시간\n",
    "size : 테이블 인원수\n",
    "'''\n",
    "tips = sns.load_dataset(\"tips\")\n",
    "print(tips.shape)\n",
    "tips.head()\n"
   ]
  },
  {
   "cell_type": "code",
   "execution_count": 83,
   "metadata": {
    "ExecuteTime": {
     "end_time": "2020-08-11T03:21:54.760800Z",
     "start_time": "2020-08-11T03:21:54.748505Z"
    }
   },
   "outputs": [
    {
     "data": {
      "text/html": [
       "<div>\n",
       "<style scoped>\n",
       "    .dataframe tbody tr th:only-of-type {\n",
       "        vertical-align: middle;\n",
       "    }\n",
       "\n",
       "    .dataframe tbody tr th {\n",
       "        vertical-align: top;\n",
       "    }\n",
       "\n",
       "    .dataframe thead th {\n",
       "        text-align: right;\n",
       "    }\n",
       "</style>\n",
       "<table border=\"1\" class=\"dataframe\">\n",
       "  <thead>\n",
       "    <tr style=\"text-align: right;\">\n",
       "      <th></th>\n",
       "      <th>total_bill</th>\n",
       "      <th>tip</th>\n",
       "      <th>size</th>\n",
       "      <th>sex_Male</th>\n",
       "      <th>sex_Female</th>\n",
       "      <th>smoker_Yes</th>\n",
       "      <th>smoker_No</th>\n",
       "      <th>day_Thur</th>\n",
       "      <th>day_Fri</th>\n",
       "      <th>day_Sat</th>\n",
       "      <th>day_Sun</th>\n",
       "      <th>time_Lunch</th>\n",
       "      <th>time_Dinner</th>\n",
       "    </tr>\n",
       "  </thead>\n",
       "  <tbody>\n",
       "    <tr>\n",
       "      <th>0</th>\n",
       "      <td>16.99</td>\n",
       "      <td>1.01</td>\n",
       "      <td>2</td>\n",
       "      <td>0</td>\n",
       "      <td>1</td>\n",
       "      <td>0</td>\n",
       "      <td>1</td>\n",
       "      <td>0</td>\n",
       "      <td>0</td>\n",
       "      <td>0</td>\n",
       "      <td>1</td>\n",
       "      <td>0</td>\n",
       "      <td>1</td>\n",
       "    </tr>\n",
       "    <tr>\n",
       "      <th>1</th>\n",
       "      <td>10.34</td>\n",
       "      <td>1.66</td>\n",
       "      <td>3</td>\n",
       "      <td>1</td>\n",
       "      <td>0</td>\n",
       "      <td>0</td>\n",
       "      <td>1</td>\n",
       "      <td>0</td>\n",
       "      <td>0</td>\n",
       "      <td>0</td>\n",
       "      <td>1</td>\n",
       "      <td>0</td>\n",
       "      <td>1</td>\n",
       "    </tr>\n",
       "    <tr>\n",
       "      <th>2</th>\n",
       "      <td>21.01</td>\n",
       "      <td>3.50</td>\n",
       "      <td>3</td>\n",
       "      <td>1</td>\n",
       "      <td>0</td>\n",
       "      <td>0</td>\n",
       "      <td>1</td>\n",
       "      <td>0</td>\n",
       "      <td>0</td>\n",
       "      <td>0</td>\n",
       "      <td>1</td>\n",
       "      <td>0</td>\n",
       "      <td>1</td>\n",
       "    </tr>\n",
       "    <tr>\n",
       "      <th>3</th>\n",
       "      <td>23.68</td>\n",
       "      <td>3.31</td>\n",
       "      <td>2</td>\n",
       "      <td>1</td>\n",
       "      <td>0</td>\n",
       "      <td>0</td>\n",
       "      <td>1</td>\n",
       "      <td>0</td>\n",
       "      <td>0</td>\n",
       "      <td>0</td>\n",
       "      <td>1</td>\n",
       "      <td>0</td>\n",
       "      <td>1</td>\n",
       "    </tr>\n",
       "    <tr>\n",
       "      <th>4</th>\n",
       "      <td>24.59</td>\n",
       "      <td>3.61</td>\n",
       "      <td>4</td>\n",
       "      <td>0</td>\n",
       "      <td>1</td>\n",
       "      <td>0</td>\n",
       "      <td>1</td>\n",
       "      <td>0</td>\n",
       "      <td>0</td>\n",
       "      <td>0</td>\n",
       "      <td>1</td>\n",
       "      <td>0</td>\n",
       "      <td>1</td>\n",
       "    </tr>\n",
       "  </tbody>\n",
       "</table>\n",
       "</div>"
      ],
      "text/plain": [
       "   total_bill   tip  size  sex_Male  sex_Female  smoker_Yes  smoker_No  \\\n",
       "0       16.99  1.01     2         0           1           0          1   \n",
       "1       10.34  1.66     3         1           0           0          1   \n",
       "2       21.01  3.50     3         1           0           0          1   \n",
       "3       23.68  3.31     2         1           0           0          1   \n",
       "4       24.59  3.61     4         0           1           0          1   \n",
       "\n",
       "   day_Thur  day_Fri  day_Sat  day_Sun  time_Lunch  time_Dinner  \n",
       "0         0        0        0        1           0            1  \n",
       "1         0        0        0        1           0            1  \n",
       "2         0        0        0        1           0            1  \n",
       "3         0        0        0        1           0            1  \n",
       "4         0        0        0        1           0            1  "
      ]
     },
     "execution_count": 83,
     "metadata": {},
     "output_type": "execute_result"
    }
   ],
   "source": [
    "# 범주형 data ==> dummy data 로 변ㄴ경\n",
    "tips = pd.get_dummies(tips, columns=['sex','smoker','day','time'])\n",
    "tips.head()"
   ]
  },
  {
   "cell_type": "code",
   "execution_count": 84,
   "metadata": {
    "ExecuteTime": {
     "end_time": "2020-08-11T03:21:54.801978Z",
     "start_time": "2020-08-11T03:21:54.791683Z"
    }
   },
   "outputs": [
    {
     "data": {
      "text/html": [
       "<div>\n",
       "<style scoped>\n",
       "    .dataframe tbody tr th:only-of-type {\n",
       "        vertical-align: middle;\n",
       "    }\n",
       "\n",
       "    .dataframe tbody tr th {\n",
       "        vertical-align: top;\n",
       "    }\n",
       "\n",
       "    .dataframe thead th {\n",
       "        text-align: right;\n",
       "    }\n",
       "</style>\n",
       "<table border=\"1\" class=\"dataframe\">\n",
       "  <thead>\n",
       "    <tr style=\"text-align: right;\">\n",
       "      <th></th>\n",
       "      <th>total_bill</th>\n",
       "      <th>size</th>\n",
       "      <th>sex_Male</th>\n",
       "      <th>sex_Female</th>\n",
       "      <th>smoker_Yes</th>\n",
       "      <th>smoker_No</th>\n",
       "      <th>day_Thur</th>\n",
       "      <th>day_Fri</th>\n",
       "      <th>day_Sat</th>\n",
       "      <th>day_Sun</th>\n",
       "      <th>time_Lunch</th>\n",
       "      <th>time_Dinner</th>\n",
       "      <th>tip</th>\n",
       "    </tr>\n",
       "  </thead>\n",
       "  <tbody>\n",
       "    <tr>\n",
       "      <th>0</th>\n",
       "      <td>16.99</td>\n",
       "      <td>2</td>\n",
       "      <td>0</td>\n",
       "      <td>1</td>\n",
       "      <td>0</td>\n",
       "      <td>1</td>\n",
       "      <td>0</td>\n",
       "      <td>0</td>\n",
       "      <td>0</td>\n",
       "      <td>1</td>\n",
       "      <td>0</td>\n",
       "      <td>1</td>\n",
       "      <td>1.01</td>\n",
       "    </tr>\n",
       "    <tr>\n",
       "      <th>1</th>\n",
       "      <td>10.34</td>\n",
       "      <td>3</td>\n",
       "      <td>1</td>\n",
       "      <td>0</td>\n",
       "      <td>0</td>\n",
       "      <td>1</td>\n",
       "      <td>0</td>\n",
       "      <td>0</td>\n",
       "      <td>0</td>\n",
       "      <td>1</td>\n",
       "      <td>0</td>\n",
       "      <td>1</td>\n",
       "      <td>1.66</td>\n",
       "    </tr>\n",
       "    <tr>\n",
       "      <th>2</th>\n",
       "      <td>21.01</td>\n",
       "      <td>3</td>\n",
       "      <td>1</td>\n",
       "      <td>0</td>\n",
       "      <td>0</td>\n",
       "      <td>1</td>\n",
       "      <td>0</td>\n",
       "      <td>0</td>\n",
       "      <td>0</td>\n",
       "      <td>1</td>\n",
       "      <td>0</td>\n",
       "      <td>1</td>\n",
       "      <td>3.50</td>\n",
       "    </tr>\n",
       "    <tr>\n",
       "      <th>3</th>\n",
       "      <td>23.68</td>\n",
       "      <td>2</td>\n",
       "      <td>1</td>\n",
       "      <td>0</td>\n",
       "      <td>0</td>\n",
       "      <td>1</td>\n",
       "      <td>0</td>\n",
       "      <td>0</td>\n",
       "      <td>0</td>\n",
       "      <td>1</td>\n",
       "      <td>0</td>\n",
       "      <td>1</td>\n",
       "      <td>3.31</td>\n",
       "    </tr>\n",
       "    <tr>\n",
       "      <th>4</th>\n",
       "      <td>24.59</td>\n",
       "      <td>4</td>\n",
       "      <td>0</td>\n",
       "      <td>1</td>\n",
       "      <td>0</td>\n",
       "      <td>1</td>\n",
       "      <td>0</td>\n",
       "      <td>0</td>\n",
       "      <td>0</td>\n",
       "      <td>1</td>\n",
       "      <td>0</td>\n",
       "      <td>1</td>\n",
       "      <td>3.61</td>\n",
       "    </tr>\n",
       "  </tbody>\n",
       "</table>\n",
       "</div>"
      ],
      "text/plain": [
       "   total_bill  size  sex_Male  sex_Female  smoker_Yes  smoker_No  day_Thur  \\\n",
       "0       16.99     2         0           1           0          1         0   \n",
       "1       10.34     3         1           0           0          1         0   \n",
       "2       21.01     3         1           0           0          1         0   \n",
       "3       23.68     2         1           0           0          1         0   \n",
       "4       24.59     4         0           1           0          1         0   \n",
       "\n",
       "   day_Fri  day_Sat  day_Sun  time_Lunch  time_Dinner   tip  \n",
       "0        0        0        1           0            1  1.01  \n",
       "1        0        0        1           0            1  1.66  \n",
       "2        0        0        1           0            1  3.50  \n",
       "3        0        0        1           0            1  3.31  \n",
       "4        0        0        1           0            1  3.61  "
      ]
     },
     "execution_count": 84,
     "metadata": {},
     "output_type": "execute_result"
    }
   ],
   "source": [
    "# column 순서 정렬\n",
    "tips = tips[['total_bill', 'size', 'sex_Male', 'sex_Female', 'smoker_Yes', 'smoker_No',\n",
    "             'day_Thur', 'day_Fri', 'day_Sat', 'day_Sun', 'time_Lunch', 'time_Dinner', 'tip']]\n",
    "tips.head()"
   ]
  },
  {
   "cell_type": "code",
   "execution_count": 85,
   "metadata": {
    "ExecuteTime": {
     "end_time": "2020-08-11T03:21:54.836060Z",
     "start_time": "2020-08-11T03:21:54.834528Z"
    }
   },
   "outputs": [],
   "source": [
    "# 12개의 x w "
   ]
  },
  {
   "cell_type": "markdown",
   "metadata": {},
   "source": [
    "### 선형 회귀\n",
    "- 선형 방정식 을 통해 회귀 문제를 푼다 \n",
    "- 회귀 라는 단어는 연속된 실수값을 예측하는 문제 를 뜻합니다.\n",
    "- 회귀와 대립되는 개념은 분류\n"
   ]
  },
  {
   "cell_type": "code",
   "execution_count": 86,
   "metadata": {
    "ExecuteTime": {
     "end_time": "2020-08-11T03:21:55.109641Z",
     "start_time": "2020-08-11T03:21:55.105322Z"
    }
   },
   "outputs": [
    {
     "data": {
      "text/plain": [
       "array([[16.99,  2.  ,  0.  , ...,  1.  ,  0.  ,  1.  ],\n",
       "       [10.34,  3.  ,  1.  , ...,  1.  ,  0.  ,  1.  ],\n",
       "       [21.01,  3.  ,  1.  , ...,  1.  ,  0.  ,  1.  ],\n",
       "       ...,\n",
       "       [22.67,  2.  ,  1.  , ...,  0.  ,  0.  ,  1.  ],\n",
       "       [17.82,  2.  ,  1.  , ...,  0.  ,  0.  ,  1.  ],\n",
       "       [18.78,  2.  ,  0.  , ...,  0.  ,  0.  ,  1.  ]])"
      ]
     },
     "execution_count": 86,
     "metadata": {},
     "output_type": "execute_result"
    }
   ],
   "source": [
    "# train / test <data 분리\n",
    "X = tips[['total_bill', 'size', 'sex_Male', 'sex_Female', 'smoker_Yes', 'smoker_No',\n",
    "          'day_Thur', 'day_Fri', 'day_Sat', 'day_Sun', 'time_Lunch', 'time_Dinner']].values\n",
    "y = tips['tip'].values\n",
    "X"
   ]
  },
  {
   "cell_type": "code",
   "execution_count": 87,
   "metadata": {
    "ExecuteTime": {
     "end_time": "2020-08-11T03:21:55.290463Z",
     "start_time": "2020-08-11T03:21:55.286768Z"
    }
   },
   "outputs": [
    {
     "name": "stdout",
     "output_type": "stream",
     "text": [
      "(195, 12) (195,)\n",
      "(49, 12) (49,)\n"
     ]
    }
   ],
   "source": [
    "\n",
    "X_train, X_test, y_train, y_test = train_test_split(X, y, test_size=0.2, random_state=42)\n",
    "\n",
    "print(X_train.shape, y_train.shape)\n",
    "print(X_test.shape, y_test.shape)\n"
   ]
  },
  {
   "cell_type": "code",
   "execution_count": 98,
   "metadata": {
    "ExecuteTime": {
     "end_time": "2020-08-11T04:36:13.655963Z",
     "start_time": "2020-08-11T04:36:13.651991Z"
    }
   },
   "outputs": [
    {
     "data": {
      "text/plain": [
       "(array([0.95289421, 0.65497733, 0.06686323, 0.60470319, 0.84039801,\n",
       "        0.51881601, 0.86396137, 0.68341411, 0.59531444, 0.98846534,\n",
       "        0.39770864, 0.34011213]),\n",
       " 0.49822809115744704)"
      ]
     },
     "execution_count": 98,
     "metadata": {},
     "output_type": "execute_result"
    }
   ],
   "source": [
    "# w b 값 랜덤하게 색출\n",
    "W= np.random.rand(12)\n",
    "b = np.random.rand()\n",
    "W, b"
   ]
  },
  {
   "cell_type": "code",
   "execution_count": 99,
   "metadata": {
    "ExecuteTime": {
     "end_time": "2020-08-11T04:36:14.665574Z",
     "start_time": "2020-08-11T04:36:14.662757Z"
    }
   },
   "outputs": [],
   "source": [
    "# model 구현\n",
    "'''\n",
    "y=w1x1+w2x2+w3x3+w4x4+w5x5+w6x6+w7x7+w8x8+w9x9+w10x10+w11x11+w12x12+b\n",
    "'''\n",
    "def model(X,W,B):\n",
    "    p = 0\n",
    "    for i in range(12):\n",
    "        #print(X[:])\n",
    "        p = p + X[:, i]*W[i]\n",
    "    p = p+b\n",
    "    return p\n",
    "    "
   ]
  },
  {
   "cell_type": "code",
   "execution_count": 100,
   "metadata": {
    "ExecuteTime": {
     "end_time": "2020-08-11T04:36:14.973908Z",
     "start_time": "2020-08-11T04:36:14.971387Z"
    }
   },
   "outputs": [],
   "source": [
    "# 손실함수 정의 MSE 사용\n",
    "def MSE(a,b):\n",
    "   return ((a-b)**2).mean()# 두값 차이의 제곱의 평균\n",
    "\n",
    "def loss(X, W, b, y):\n",
    "    predictions = model(X, W, b)\n",
    "    L = MSE(predictions, y)\n",
    "    return L"
   ]
  },
  {
   "cell_type": "code",
   "execution_count": 101,
   "metadata": {
    "ExecuteTime": {
     "end_time": "2020-08-11T04:36:15.317916Z",
     "start_time": "2020-08-11T04:36:15.314848Z"
    }
   },
   "outputs": [],
   "source": [
    "#기울기 함수 구하기\n",
    "def gradient(X,W,b,y):\n",
    "    # 가중치 개수\n",
    "    N = len(W)\n",
    "    \n",
    "    # 예측값 \n",
    "    y_pred = model(X,W,b)\n",
    "    dw = 1/N * 2 * X.T.dot(y_pred-y) # T.DOT  ????T : 행렬 / 곱\n",
    "    \n",
    "    db = 2* (y_pred-y).mean()\n",
    "    \n",
    "    return dw, db\n",
    "    "
   ]
  },
  {
   "cell_type": "code",
   "execution_count": 102,
   "metadata": {
    "ExecuteTime": {
     "end_time": "2020-08-11T04:36:15.635467Z",
     "start_time": "2020-08-11T04:36:15.632620Z"
    }
   },
   "outputs": [
    {
     "name": "stdout",
     "output_type": "stream",
     "text": [
      "dW: [19008.76290075  2291.54992784   543.13579185   273.69547287\n",
      "   326.07528566   490.75597906   190.07650627    55.81282707\n",
      "   296.98585263   273.95607875   203.13965025   613.69161446]\n",
      "db: 40.17202941226118\n"
     ]
    }
   ],
   "source": [
    "# 기울기 도출..\n",
    "dW, db = gradient(X,W,b,y)\n",
    "print(\"dW:\", dW)\n",
    "print(\"db:\", db)"
   ]
  },
  {
   "cell_type": "code",
   "execution_count": 103,
   "metadata": {
    "ExecuteTime": {
     "end_time": "2020-08-11T04:36:15.990804Z",
     "start_time": "2020-08-11T04:36:15.989241Z"
    }
   },
   "outputs": [],
   "source": [
    "# 하이퍼 파람 설정\n",
    "LEARNING_RATE = 0.0001\n"
   ]
  },
  {
   "cell_type": "code",
   "execution_count": 104,
   "metadata": {
    "ExecuteTime": {
     "end_time": "2020-08-11T04:36:16.429691Z",
     "start_time": "2020-08-11T04:36:16.332737Z"
    }
   },
   "outputs": [
    {
     "name": "stdout",
     "output_type": "stream",
     "text": [
      "Iteration 10 : Loss 2.0851\n",
      "Iteration 20 : Loss 1.9953\n",
      "Iteration 30 : Loss 1.9523\n",
      "Iteration 40 : Loss 1.9119\n",
      "Iteration 50 : Loss 1.8737\n",
      "Iteration 60 : Loss 1.8377\n",
      "Iteration 70 : Loss 1.8036\n",
      "Iteration 80 : Loss 1.7714\n",
      "Iteration 90 : Loss 1.7410\n",
      "Iteration 100 : Loss 1.7122\n",
      "Iteration 110 : Loss 1.6849\n",
      "Iteration 120 : Loss 1.6591\n",
      "Iteration 130 : Loss 1.6347\n",
      "Iteration 140 : Loss 1.6115\n",
      "Iteration 150 : Loss 1.5896\n",
      "Iteration 160 : Loss 1.5687\n",
      "Iteration 170 : Loss 1.5490\n",
      "Iteration 180 : Loss 1.5302\n",
      "Iteration 190 : Loss 1.5124\n",
      "Iteration 200 : Loss 1.4954\n",
      "Iteration 210 : Loss 1.4793\n",
      "Iteration 220 : Loss 1.4640\n",
      "Iteration 230 : Loss 1.4494\n",
      "Iteration 240 : Loss 1.4355\n",
      "Iteration 250 : Loss 1.4223\n",
      "Iteration 260 : Loss 1.4096\n",
      "Iteration 270 : Loss 1.3976\n",
      "Iteration 280 : Loss 1.3861\n",
      "Iteration 290 : Loss 1.3751\n",
      "Iteration 300 : Loss 1.3646\n",
      "Iteration 310 : Loss 1.3546\n",
      "Iteration 320 : Loss 1.3450\n",
      "Iteration 330 : Loss 1.3358\n",
      "Iteration 340 : Loss 1.3270\n",
      "Iteration 350 : Loss 1.3186\n",
      "Iteration 360 : Loss 1.3106\n",
      "Iteration 370 : Loss 1.3028\n",
      "Iteration 380 : Loss 1.2954\n",
      "Iteration 390 : Loss 1.2882\n",
      "Iteration 400 : Loss 1.2814\n",
      "Iteration 410 : Loss 1.2748\n",
      "Iteration 420 : Loss 1.2685\n",
      "Iteration 430 : Loss 1.2624\n",
      "Iteration 440 : Loss 1.2565\n",
      "Iteration 450 : Loss 1.2508\n",
      "Iteration 460 : Loss 1.2454\n",
      "Iteration 470 : Loss 1.2401\n",
      "Iteration 480 : Loss 1.2351\n",
      "Iteration 490 : Loss 1.2302\n",
      "Iteration 500 : Loss 1.2255\n",
      "Iteration 510 : Loss 1.2209\n",
      "Iteration 520 : Loss 1.2165\n",
      "Iteration 530 : Loss 1.2122\n",
      "Iteration 540 : Loss 1.2081\n",
      "Iteration 550 : Loss 1.2041\n",
      "Iteration 560 : Loss 1.2002\n",
      "Iteration 570 : Loss 1.1965\n",
      "Iteration 580 : Loss 1.1928\n",
      "Iteration 590 : Loss 1.1893\n",
      "Iteration 600 : Loss 1.1859\n",
      "Iteration 610 : Loss 1.1826\n",
      "Iteration 620 : Loss 1.1793\n",
      "Iteration 630 : Loss 1.1762\n",
      "Iteration 640 : Loss 1.1732\n",
      "Iteration 650 : Loss 1.1702\n",
      "Iteration 660 : Loss 1.1673\n",
      "Iteration 670 : Loss 1.1645\n",
      "Iteration 680 : Loss 1.1618\n",
      "Iteration 690 : Loss 1.1592\n",
      "Iteration 700 : Loss 1.1566\n",
      "Iteration 710 : Loss 1.1541\n",
      "Iteration 720 : Loss 1.1516\n",
      "Iteration 730 : Loss 1.1493\n",
      "Iteration 740 : Loss 1.1469\n",
      "Iteration 750 : Loss 1.1447\n",
      "Iteration 760 : Loss 1.1425\n",
      "Iteration 770 : Loss 1.1403\n",
      "Iteration 780 : Loss 1.1382\n",
      "Iteration 790 : Loss 1.1361\n",
      "Iteration 800 : Loss 1.1341\n",
      "Iteration 810 : Loss 1.1322\n",
      "Iteration 820 : Loss 1.1302\n",
      "Iteration 830 : Loss 1.1284\n",
      "Iteration 840 : Loss 1.1265\n",
      "Iteration 850 : Loss 1.1247\n",
      "Iteration 860 : Loss 1.1230\n",
      "Iteration 870 : Loss 1.1213\n",
      "Iteration 880 : Loss 1.1196\n",
      "Iteration 890 : Loss 1.1180\n",
      "Iteration 900 : Loss 1.1164\n",
      "Iteration 910 : Loss 1.1148\n",
      "Iteration 920 : Loss 1.1132\n",
      "Iteration 930 : Loss 1.1117\n",
      "Iteration 940 : Loss 1.1103\n",
      "Iteration 950 : Loss 1.1088\n",
      "Iteration 960 : Loss 1.1074\n",
      "Iteration 970 : Loss 1.1060\n",
      "Iteration 980 : Loss 1.1046\n",
      "Iteration 990 : Loss 1.1033\n",
      "Iteration 1000 : Loss 1.1020\n"
     ]
    }
   ],
   "source": [
    "# 손실 함수 1000번 시행.\n",
    "losses = []\n",
    "\n",
    "for i in range(1, 1001):\n",
    "    dW, db = gradient(X_train, W, b, y_train)\n",
    "    W -= LEARNING_RATE * dW\n",
    "    b -= LEARNING_RATE * db\n",
    "    L = loss(X, W, b, y)\n",
    "    losses.append(L)\n",
    "    if i % 10 == 0:\n",
    "        print('Iteration %d : Loss %0.4f' % (i, L))"
   ]
  },
  {
   "cell_type": "code",
   "execution_count": 118,
   "metadata": {
    "ExecuteTime": {
     "end_time": "2020-08-11T04:43:12.018358Z",
     "start_time": "2020-08-11T04:43:11.932806Z"
    }
   },
   "outputs": [
    {
     "data": {
      "image/png": "[encoded data removed]",
      "text/plain": [
       "<Figure size 432x288 with 1 Axes>"
      ]
     },
     "metadata": {
      "image/png": {
       "height": 252,
       "width": 372
      },
      "needs_background": "light"
     },
     "output_type": "display_data"
    }
   ],
   "source": [
    "# 그래프\n",
    "plt.plot(losses)\n",
    "plt.ylim(1,2)\n",
    "plt.show()\n"
   ]
  },
  {
   "cell_type": "code",
   "execution_count": 120,
   "metadata": {
    "ExecuteTime": {
     "end_time": "2020-08-11T04:43:31.966023Z",
     "start_time": "2020-08-11T04:43:31.960133Z"
    }
   },
   "outputs": [
    {
     "data": {
      "text/plain": [
       "(array([ 0.08099871,  0.01555851, -0.03771728,  0.085359  ,  0.39541065,\n",
       "         0.33987867,  0.60295822,  0.58661328,  0.49250639,  0.82515267,\n",
       "         0.07581274,  0.03808332]),\n",
       " 0.45983272478231046)"
      ]
     },
     "execution_count": 120,
     "metadata": {},
     "output_type": "execute_result"
    }
   ],
   "source": [
    "W, b"
   ]
  },
  {
   "cell_type": "code",
   "execution_count": 121,
   "metadata": {
    "ExecuteTime": {
     "end_time": "2020-08-11T04:43:38.775303Z",
     "start_time": "2020-08-11T04:43:38.768954Z"
    }
   },
   "outputs": [
    {
     "data": {
      "text/plain": [
       "0.6690289498236633"
      ]
     },
     "execution_count": 121,
     "metadata": {},
     "output_type": "execute_result"
    }
   ],
   "source": [
    "# test data \n",
    "\n",
    "prediction = model(X_test, W, b)\n",
    "mse = loss(X_test, W, b, y_test)\n",
    "mse"
   ]
  },
  {
   "cell_type": "code",
   "execution_count": 122,
   "metadata": {
    "ExecuteTime": {
     "end_time": "2020-08-11T04:44:05.353012Z",
     "start_time": "2020-08-11T04:44:05.268491Z"
    }
   },
   "outputs": [
    {
     "data": {
      "image/png": "[encoded data removed]",
      "text/plain": [
       "<Figure size 432x288 with 1 Axes>"
      ]
     },
     "metadata": {
      "image/png": {
       "height": 248,
       "width": 366
      },
      "needs_background": "light"
     },
     "output_type": "display_data"
    }
   ],
   "source": [
    "# 그래프 로 그려보기\n",
    "\n",
    "plt.scatter(X_test[:, 0], y_test) # # 실제\n",
    "plt.scatter(X_test[:, 0], prediction) # 예측\n",
    "plt.show()"
   ]
  },
  {
   "cell_type": "code",
   "execution_count": 123,
   "metadata": {
    "ExecuteTime": {
     "end_time": "2020-08-11T04:45:00.028124Z",
     "start_time": "2020-08-11T04:45:00.026332Z"
    }
   },
   "outputs": [],
   "source": [
    "###"
   ]
  },
  {
   "cell_type": "markdown",
   "metadata": {},
   "source": [
    "### sklearn 사용"
   ]
  },
  {
   "cell_type": "code",
   "execution_count": 124,
   "metadata": {
    "ExecuteTime": {
     "end_time": "2020-08-11T04:45:04.754884Z",
     "start_time": "2020-08-11T04:45:04.742544Z"
    }
   },
   "outputs": [
    {
     "name": "stdout",
     "output_type": "stream",
     "text": [
      "슝=3\n"
     ]
    }
   ],
   "source": [
    "tips = sns.load_dataset(\"tips\")\n",
    "tips = pd.get_dummies(tips, columns=['sex', 'smoker', 'day', 'time'])\n",
    "tips = tips[['total_bill', 'size', 'sex_Male', 'sex_Female', 'smoker_Yes', 'smoker_No',\n",
    "             'day_Thur', 'day_Fri', 'day_Sat', 'day_Sun', 'time_Lunch', 'time_Dinner', 'tip']]\n"
   ]
  },
  {
   "cell_type": "code",
   "execution_count": 128,
   "metadata": {
    "ExecuteTime": {
     "end_time": "2020-08-11T04:46:12.425387Z",
     "start_time": "2020-08-11T04:46:12.420472Z"
    }
   },
   "outputs": [],
   "source": [
    "# x, y 분할\n",
    "X = tips[['total_bill', 'size', 'sex_Male', 'sex_Female', 'smoker_Yes', 'smoker_No',\n",
    "          'day_Thur', 'day_Fri', 'day_Sat', 'day_Sun', 'time_Lunch', 'time_Dinner']].values\n",
    "y = tips['tip'].values\n",
    "\n",
    "X_train, X_test, y_train, y_test = train_test_split(X, y, test_size=0.2, random_state=42)\n"
   ]
  },
  {
   "cell_type": "code",
   "execution_count": 131,
   "metadata": {
    "ExecuteTime": {
     "end_time": "2020-08-11T04:46:43.667463Z",
     "start_time": "2020-08-11T04:46:43.663313Z"
    }
   },
   "outputs": [],
   "source": [
    "# sklearn import \n",
    "from sklearn.linear_model import LinearRegression\n",
    "\n",
    "# model init\n",
    "model = LinearRegression()\n",
    "\n"
   ]
  },
  {
   "cell_type": "code",
   "execution_count": 132,
   "metadata": {
    "ExecuteTime": {
     "end_time": "2020-08-11T04:47:23.087691Z",
     "start_time": "2020-08-11T04:47:23.083218Z"
    }
   },
   "outputs": [
    {
     "data": {
      "text/plain": [
       "LinearRegression()"
      ]
     },
     "execution_count": 132,
     "metadata": {},
     "output_type": "execute_result"
    }
   ],
   "source": [
    "# model 에 train data 주입( 학습)\n",
    "model.fit(X_train, y_train)"
   ]
  },
  {
   "cell_type": "code",
   "execution_count": 133,
   "metadata": {
    "ExecuteTime": {
     "end_time": "2020-08-11T04:47:50.151220Z",
     "start_time": "2020-08-11T04:47:50.147956Z"
    },
    "scrolled": true
   },
   "outputs": [
    {
     "data": {
      "text/plain": [
       "array([2.91436632, 2.00292613, 3.96425583, 3.76380832, 2.14836306,\n",
       "       2.67423448, 3.63934628, 2.29147245, 2.57207155, 2.45851225,\n",
       "       2.90446763, 2.0573337 , 2.11817193, 2.35130838, 1.82976215,\n",
       "       3.10830675, 2.95140176, 3.21602976, 2.56640892, 5.73957295,\n",
       "       3.43490366, 3.22645102, 2.17139823, 1.94180002, 3.16394533,\n",
       "       2.24547894, 2.14497574, 3.21025435, 3.20097595, 6.66803147,\n",
       "       5.01111235, 1.57804024, 3.1909877 , 2.76652194, 2.98412862,\n",
       "       3.85695724, 2.17008741, 5.46673999, 2.35586827, 2.99190732,\n",
       "       2.03271177, 2.48465991, 3.44046814, 2.35532237, 1.92528104,\n",
       "       0.87348926, 1.81911521, 3.04083954, 1.85436902])"
      ]
     },
     "execution_count": 133,
     "metadata": {},
     "output_type": "execute_result"
    }
   ],
   "source": [
    "# 학습된 모델에 test data 주입하여 예측 결과 도출\n",
    "predictions = model.predict(X_test)\n",
    "predictions"
   ]
  },
  {
   "cell_type": "code",
   "execution_count": 134,
   "metadata": {
    "ExecuteTime": {
     "end_time": "2020-08-11T04:48:28.410299Z",
     "start_time": "2020-08-11T04:48:28.403615Z"
    }
   },
   "outputs": [
    {
     "data": {
      "text/plain": [
       "0.7033566017436103"
      ]
     },
     "execution_count": 134,
     "metadata": {},
     "output_type": "execute_result"
    }
   ],
   "source": [
    "# 모델의 성능평가(오차, mse 활용)\n",
    "from sklearn.metrics import mean_squared_error\n",
    "\n",
    "# 실제 값과 예측값을 넣어 모델의 mse 도출\n",
    "mse = mean_squared_error(y_test, predictions)\n",
    "mse"
   ]
  },
  {
   "cell_type": "code",
   "execution_count": 137,
   "metadata": {
    "ExecuteTime": {
     "end_time": "2020-08-11T04:49:39.056953Z",
     "start_time": "2020-08-11T04:49:38.958153Z"
    },
    "scrolled": true
   },
   "outputs": [
    {
     "data": {
      "image/png": "[encoded data removed]",
      "text/plain": [
       "<Figure size 432x288 with 1 Axes>"
      ]
     },
     "metadata": {
      "image/png": {
       "height": 248,
       "width": 366
      },
      "needs_background": "light"
     },
     "output_type": "display_data"
    }
   ],
   "source": [
    "# 그래프로\n",
    "\n",
    "plt.scatter(X_test[:, 0], y_test, label=\"true\") # x- y실제값\n",
    "plt.scatter(X_test[:, 0], predictions, label=\"pred\")# x-y예측값\n",
    "plt.legend() # 범례\n",
    "plt.show()"
   ]
  },
  {
   "cell_type": "code",
   "execution_count": null,
   "metadata": {},
   "outputs": [],
   "source": []
  },
  {
   "cell_type": "code",
   "execution_count": null,
   "metadata": {},
   "outputs": [],
   "source": []
  },
  {
   "cell_type": "code",
   "execution_count": null,
   "metadata": {},
   "outputs": [],
   "source": []
  }
 ],
 "metadata": {
  "kernelspec": {
   "display_name": "Python 3",
   "language": "python",
   "name": "python3"
  },
  "language_info": {
   "codemirror_mode": {
    "name": "ipython",
    "version": 3
   },
   "file_extension": ".py",
   "mimetype": "text/x-python",
   "name": "python",
   "nbconvert_exporter": "python",
   "pygments_lexer": "ipython3",
   "version": "3.7.6"
  },
  "toc": {
   "base_numbering": 1,
   "nav_menu": {},
   "number_sections": true,
   "sideBar": true,
   "skip_h1_title": false,
   "title_cell": "Table of Contents",
   "title_sidebar": "Contents",
   "toc_cell": false,
   "toc_position": {
    "height": "calc(100% - 180px)",
    "left": "10px",
    "top": "150px",
    "width": "200.54px"
   },
   "toc_section_display": true,
   "toc_window_display": true
  },
  "varInspector": {
   "cols": {
    "lenName": 16,
    "lenType": 16,
    "lenVar": 40
   },
   "kernels_config": {
    "python": {
     "delete_cmd_postfix": "",
     "delete_cmd_prefix": "del ",
     "library": "var_list.py",
     "varRefreshCmd": "print(var_dic_list())"
    },
    "r": {
     "delete_cmd_postfix": ") ",
     "delete_cmd_prefix": "rm(",
     "library": "var_list.r",
     "varRefreshCmd": "cat(var_dic_list()) "
    }
   },
   "types_to_exclude": [
    "module",
    "function",
    "builtin_function_or_method",
    "instance",
    "_Feature"
   ],
   "window_display": false
  }
 },
 "nbformat": 4,
 "nbformat_minor": 4
}
