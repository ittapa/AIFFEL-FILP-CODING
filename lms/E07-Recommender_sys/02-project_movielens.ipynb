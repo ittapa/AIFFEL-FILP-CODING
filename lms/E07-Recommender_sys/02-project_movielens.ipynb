{
 "cells": [
  {
   "cell_type": "markdown",
   "metadata": {},
   "source": [
    "# 프로젝트 Movielnes 영화 추천실습\n",
    "   \n",
    "     \n",
    "        \n",
    "        \n",
    "\n",
    "``` wget http://files.grouplens.org/datasets/movielens/ml-1m.zip```"
   ]
  },
  {
   "cell_type": "markdown",
   "metadata": {},
   "source": [
    "## libaryry import"
   ]
  },
  {
   "cell_type": "code",
   "execution_count": 1,
   "metadata": {
    "ExecuteTime": {
     "end_time": "2020-08-18T11:09:45.738072Z",
     "start_time": "2020-08-18T11:09:45.388288Z"
    }
   },
   "outputs": [],
   "source": [
    "import os\n",
    "import pandas as pd \n",
    "import numpy as np\n",
    "from scipy.sparse import csr_matrix\n",
    "from implicit.als import AlternatingLeastSquares"
   ]
  },
  {
   "cell_type": "code",
   "execution_count": null,
   "metadata": {},
   "outputs": [],
   "source": []
  },
  {
   "cell_type": "markdown",
   "metadata": {},
   "source": [
    "## data improt\n"
   ]
  },
  {
   "cell_type": "code",
   "execution_count": 2,
   "metadata": {
    "ExecuteTime": {
     "end_time": "2020-08-18T11:09:48.546748Z",
     "start_time": "2020-08-18T11:09:45.738994Z"
    }
   },
   "outputs": [
    {
     "data": {
      "text/html": [
       "<div>\n",
       "<style scoped>\n",
       "    .dataframe tbody tr th:only-of-type {\n",
       "        vertical-align: middle;\n",
       "    }\n",
       "\n",
       "    .dataframe tbody tr th {\n",
       "        vertical-align: top;\n",
       "    }\n",
       "\n",
       "    .dataframe thead th {\n",
       "        text-align: right;\n",
       "    }\n",
       "</style>\n",
       "<table border=\"1\" class=\"dataframe\">\n",
       "  <thead>\n",
       "    <tr style=\"text-align: right;\">\n",
       "      <th></th>\n",
       "      <th>user_id</th>\n",
       "      <th>movie_id</th>\n",
       "      <th>rating</th>\n",
       "      <th>timestamp</th>\n",
       "    </tr>\n",
       "  </thead>\n",
       "  <tbody>\n",
       "    <tr>\n",
       "      <th>0</th>\n",
       "      <td>1</td>\n",
       "      <td>1193</td>\n",
       "      <td>5</td>\n",
       "      <td>978300760</td>\n",
       "    </tr>\n",
       "    <tr>\n",
       "      <th>1</th>\n",
       "      <td>1</td>\n",
       "      <td>661</td>\n",
       "      <td>3</td>\n",
       "      <td>978302109</td>\n",
       "    </tr>\n",
       "    <tr>\n",
       "      <th>2</th>\n",
       "      <td>1</td>\n",
       "      <td>914</td>\n",
       "      <td>3</td>\n",
       "      <td>978301968</td>\n",
       "    </tr>\n",
       "    <tr>\n",
       "      <th>3</th>\n",
       "      <td>1</td>\n",
       "      <td>3408</td>\n",
       "      <td>4</td>\n",
       "      <td>978300275</td>\n",
       "    </tr>\n",
       "    <tr>\n",
       "      <th>4</th>\n",
       "      <td>1</td>\n",
       "      <td>2355</td>\n",
       "      <td>5</td>\n",
       "      <td>978824291</td>\n",
       "    </tr>\n",
       "  </tbody>\n",
       "</table>\n",
       "</div>"
      ],
      "text/plain": [
       "   user_id  movie_id  rating  timestamp\n",
       "0        1      1193       5  978300760\n",
       "1        1       661       3  978302109\n",
       "2        1       914       3  978301968\n",
       "3        1      3408       4  978300275\n",
       "4        1      2355       5  978824291"
      ]
     },
     "execution_count": 2,
     "metadata": {},
     "output_type": "execute_result"
    }
   ],
   "source": [
    "#rating_file_path=os.getenv('HOME') + '/aiffel/AIFFEL_LSG/lms/E07-Recommender_sys/data/ml-1m/ratings.dat'\n",
    "rating_file_path= './data/ml-1m/ratings.dat'\n",
    "ratings_cols = ['user_id', 'movie_id', 'rating', 'timestamp']\n",
    "ratings = pd.read_csv(rating_file_path, sep='::', names=ratings_cols, engine='python')\n",
    "orginal_data_size = len(ratings)\n",
    "ratings.head()"
   ]
  },
  {
   "cell_type": "code",
   "execution_count": null,
   "metadata": {},
   "outputs": [],
   "source": []
  },
  {
   "cell_type": "markdown",
   "metadata": {
    "ExecuteTime": {
     "end_time": "2020-08-18T07:10:24.584646Z",
     "start_time": "2020-08-18T07:10:24.582452Z"
    }
   },
   "source": [
    "## data preprocessing"
   ]
  },
  {
   "cell_type": "code",
   "execution_count": 3,
   "metadata": {
    "ExecuteTime": {
     "end_time": "2020-08-18T11:09:48.570412Z",
     "start_time": "2020-08-18T11:09:48.548151Z"
    },
    "code_folding": []
   },
   "outputs": [
    {
     "name": "stdout",
     "output_type": "stream",
     "text": [
      "orginal_data_size: 1000209, filtered_data_size: 836478\n",
      "Ratio of Remaining Data is 83.63%\n"
     ]
    }
   ],
   "source": [
    "# 3점 이상만 남깁니다.\n",
    "ratings = ratings[ratings['rating']>=3]\n",
    "filtered_data_size = len(ratings)\n",
    "\n",
    "print(f'orginal_data_size: {orginal_data_size}, filtered_data_size: {filtered_data_size}')\n",
    "print(f'Ratio of Remaining Data is {filtered_data_size / orginal_data_size:.2%}')"
   ]
  },
  {
   "cell_type": "code",
   "execution_count": 4,
   "metadata": {
    "ExecuteTime": {
     "end_time": "2020-08-18T11:09:48.580830Z",
     "start_time": "2020-08-18T11:09:48.571940Z"
    },
    "code_folding": []
   },
   "outputs": [],
   "source": [
    "# rating 컬럼의 이름을 count로 바꿉니다.\n",
    "ratings.rename(columns={'rating':'count'}, inplace=True)\n"
   ]
  },
  {
   "cell_type": "code",
   "execution_count": 5,
   "metadata": {
    "ExecuteTime": {
     "end_time": "2020-08-18T11:09:48.590246Z",
     "start_time": "2020-08-18T11:09:48.582072Z"
    }
   },
   "outputs": [
    {
     "data": {
      "text/html": [
       "<div>\n",
       "<style scoped>\n",
       "    .dataframe tbody tr th:only-of-type {\n",
       "        vertical-align: middle;\n",
       "    }\n",
       "\n",
       "    .dataframe tbody tr th {\n",
       "        vertical-align: top;\n",
       "    }\n",
       "\n",
       "    .dataframe thead th {\n",
       "        text-align: right;\n",
       "    }\n",
       "</style>\n",
       "<table border=\"1\" class=\"dataframe\">\n",
       "  <thead>\n",
       "    <tr style=\"text-align: right;\">\n",
       "      <th></th>\n",
       "      <th>user_id</th>\n",
       "      <th>movie_id</th>\n",
       "      <th>count</th>\n",
       "      <th>timestamp</th>\n",
       "    </tr>\n",
       "  </thead>\n",
       "  <tbody>\n",
       "    <tr>\n",
       "      <th>0</th>\n",
       "      <td>1</td>\n",
       "      <td>1193</td>\n",
       "      <td>5</td>\n",
       "      <td>978300760</td>\n",
       "    </tr>\n",
       "    <tr>\n",
       "      <th>1</th>\n",
       "      <td>1</td>\n",
       "      <td>661</td>\n",
       "      <td>3</td>\n",
       "      <td>978302109</td>\n",
       "    </tr>\n",
       "    <tr>\n",
       "      <th>2</th>\n",
       "      <td>1</td>\n",
       "      <td>914</td>\n",
       "      <td>3</td>\n",
       "      <td>978301968</td>\n",
       "    </tr>\n",
       "    <tr>\n",
       "      <th>3</th>\n",
       "      <td>1</td>\n",
       "      <td>3408</td>\n",
       "      <td>4</td>\n",
       "      <td>978300275</td>\n",
       "    </tr>\n",
       "    <tr>\n",
       "      <th>4</th>\n",
       "      <td>1</td>\n",
       "      <td>2355</td>\n",
       "      <td>5</td>\n",
       "      <td>978824291</td>\n",
       "    </tr>\n",
       "    <tr>\n",
       "      <th>...</th>\n",
       "      <td>...</td>\n",
       "      <td>...</td>\n",
       "      <td>...</td>\n",
       "      <td>...</td>\n",
       "    </tr>\n",
       "    <tr>\n",
       "      <th>1000203</th>\n",
       "      <td>6040</td>\n",
       "      <td>1090</td>\n",
       "      <td>3</td>\n",
       "      <td>956715518</td>\n",
       "    </tr>\n",
       "    <tr>\n",
       "      <th>1000205</th>\n",
       "      <td>6040</td>\n",
       "      <td>1094</td>\n",
       "      <td>5</td>\n",
       "      <td>956704887</td>\n",
       "    </tr>\n",
       "    <tr>\n",
       "      <th>1000206</th>\n",
       "      <td>6040</td>\n",
       "      <td>562</td>\n",
       "      <td>5</td>\n",
       "      <td>956704746</td>\n",
       "    </tr>\n",
       "    <tr>\n",
       "      <th>1000207</th>\n",
       "      <td>6040</td>\n",
       "      <td>1096</td>\n",
       "      <td>4</td>\n",
       "      <td>956715648</td>\n",
       "    </tr>\n",
       "    <tr>\n",
       "      <th>1000208</th>\n",
       "      <td>6040</td>\n",
       "      <td>1097</td>\n",
       "      <td>4</td>\n",
       "      <td>956715569</td>\n",
       "    </tr>\n",
       "  </tbody>\n",
       "</table>\n",
       "<p>836478 rows × 4 columns</p>\n",
       "</div>"
      ],
      "text/plain": [
       "         user_id  movie_id  count  timestamp\n",
       "0              1      1193      5  978300760\n",
       "1              1       661      3  978302109\n",
       "2              1       914      3  978301968\n",
       "3              1      3408      4  978300275\n",
       "4              1      2355      5  978824291\n",
       "...          ...       ...    ...        ...\n",
       "1000203     6040      1090      3  956715518\n",
       "1000205     6040      1094      5  956704887\n",
       "1000206     6040       562      5  956704746\n",
       "1000207     6040      1096      4  956715648\n",
       "1000208     6040      1097      4  956715569\n",
       "\n",
       "[836478 rows x 4 columns]"
      ]
     },
     "execution_count": 5,
     "metadata": {},
     "output_type": "execute_result"
    }
   ],
   "source": [
    "ratings"
   ]
  },
  {
   "cell_type": "code",
   "execution_count": 6,
   "metadata": {
    "ExecuteTime": {
     "end_time": "2020-08-18T11:09:48.604546Z",
     "start_time": "2020-08-18T11:09:48.591242Z"
    }
   },
   "outputs": [
    {
     "data": {
      "text/html": [
       "<div>\n",
       "<style scoped>\n",
       "    .dataframe tbody tr th:only-of-type {\n",
       "        vertical-align: middle;\n",
       "    }\n",
       "\n",
       "    .dataframe tbody tr th {\n",
       "        vertical-align: top;\n",
       "    }\n",
       "\n",
       "    .dataframe thead th {\n",
       "        text-align: right;\n",
       "    }\n",
       "</style>\n",
       "<table border=\"1\" class=\"dataframe\">\n",
       "  <thead>\n",
       "    <tr style=\"text-align: right;\">\n",
       "      <th></th>\n",
       "      <th>user_id</th>\n",
       "      <th>movie_id</th>\n",
       "      <th>count</th>\n",
       "    </tr>\n",
       "  </thead>\n",
       "  <tbody>\n",
       "    <tr>\n",
       "      <th>1000198</th>\n",
       "      <td>6040</td>\n",
       "      <td>2021</td>\n",
       "      <td>3</td>\n",
       "    </tr>\n",
       "    <tr>\n",
       "      <th>1000199</th>\n",
       "      <td>6040</td>\n",
       "      <td>2022</td>\n",
       "      <td>5</td>\n",
       "    </tr>\n",
       "    <tr>\n",
       "      <th>1000200</th>\n",
       "      <td>6040</td>\n",
       "      <td>2028</td>\n",
       "      <td>5</td>\n",
       "    </tr>\n",
       "    <tr>\n",
       "      <th>1000201</th>\n",
       "      <td>6040</td>\n",
       "      <td>1080</td>\n",
       "      <td>4</td>\n",
       "    </tr>\n",
       "    <tr>\n",
       "      <th>1000202</th>\n",
       "      <td>6040</td>\n",
       "      <td>1089</td>\n",
       "      <td>4</td>\n",
       "    </tr>\n",
       "    <tr>\n",
       "      <th>1000203</th>\n",
       "      <td>6040</td>\n",
       "      <td>1090</td>\n",
       "      <td>3</td>\n",
       "    </tr>\n",
       "    <tr>\n",
       "      <th>1000205</th>\n",
       "      <td>6040</td>\n",
       "      <td>1094</td>\n",
       "      <td>5</td>\n",
       "    </tr>\n",
       "    <tr>\n",
       "      <th>1000206</th>\n",
       "      <td>6040</td>\n",
       "      <td>562</td>\n",
       "      <td>5</td>\n",
       "    </tr>\n",
       "    <tr>\n",
       "      <th>1000207</th>\n",
       "      <td>6040</td>\n",
       "      <td>1096</td>\n",
       "      <td>4</td>\n",
       "    </tr>\n",
       "    <tr>\n",
       "      <th>1000208</th>\n",
       "      <td>6040</td>\n",
       "      <td>1097</td>\n",
       "      <td>4</td>\n",
       "    </tr>\n",
       "  </tbody>\n",
       "</table>\n",
       "</div>"
      ],
      "text/plain": [
       "         user_id  movie_id  count\n",
       "1000198     6040      2021      3\n",
       "1000199     6040      2022      5\n",
       "1000200     6040      2028      5\n",
       "1000201     6040      1080      4\n",
       "1000202     6040      1089      4\n",
       "1000203     6040      1090      3\n",
       "1000205     6040      1094      5\n",
       "1000206     6040       562      5\n",
       "1000207     6040      1096      4\n",
       "1000208     6040      1097      4"
      ]
     },
     "execution_count": 6,
     "metadata": {},
     "output_type": "execute_result"
    }
   ],
   "source": [
    "# 사용하는 컬럼만 남겨줍니다.\n",
    "using_cols = ['user_id', 'movie_id', 'count']\n",
    "data = ratings[using_cols]\n",
    "data.tail(10)"
   ]
  },
  {
   "cell_type": "code",
   "execution_count": 7,
   "metadata": {
    "ExecuteTime": {
     "end_time": "2020-08-18T11:09:48.624724Z",
     "start_time": "2020-08-18T11:09:48.605554Z"
    }
   },
   "outputs": [
    {
     "data": {
      "text/html": [
       "<div>\n",
       "<style scoped>\n",
       "    .dataframe tbody tr th:only-of-type {\n",
       "        vertical-align: middle;\n",
       "    }\n",
       "\n",
       "    .dataframe tbody tr th {\n",
       "        vertical-align: top;\n",
       "    }\n",
       "\n",
       "    .dataframe thead th {\n",
       "        text-align: right;\n",
       "    }\n",
       "</style>\n",
       "<table border=\"1\" class=\"dataframe\">\n",
       "  <thead>\n",
       "    <tr style=\"text-align: right;\">\n",
       "      <th></th>\n",
       "      <th>movie_id</th>\n",
       "      <th>title</th>\n",
       "      <th>genre</th>\n",
       "    </tr>\n",
       "  </thead>\n",
       "  <tbody>\n",
       "    <tr>\n",
       "      <th>3873</th>\n",
       "      <td>3943</td>\n",
       "      <td>Bamboozled (2000)</td>\n",
       "      <td>Comedy</td>\n",
       "    </tr>\n",
       "    <tr>\n",
       "      <th>3874</th>\n",
       "      <td>3944</td>\n",
       "      <td>Bootmen (2000)</td>\n",
       "      <td>Comedy|Drama</td>\n",
       "    </tr>\n",
       "    <tr>\n",
       "      <th>3875</th>\n",
       "      <td>3945</td>\n",
       "      <td>Digimon: The Movie (2000)</td>\n",
       "      <td>Adventure|Animation|Children's</td>\n",
       "    </tr>\n",
       "    <tr>\n",
       "      <th>3876</th>\n",
       "      <td>3946</td>\n",
       "      <td>Get Carter (2000)</td>\n",
       "      <td>Action|Drama|Thriller</td>\n",
       "    </tr>\n",
       "    <tr>\n",
       "      <th>3877</th>\n",
       "      <td>3947</td>\n",
       "      <td>Get Carter (1971)</td>\n",
       "      <td>Thriller</td>\n",
       "    </tr>\n",
       "    <tr>\n",
       "      <th>3878</th>\n",
       "      <td>3948</td>\n",
       "      <td>Meet the Parents (2000)</td>\n",
       "      <td>Comedy</td>\n",
       "    </tr>\n",
       "    <tr>\n",
       "      <th>3879</th>\n",
       "      <td>3949</td>\n",
       "      <td>Requiem for a Dream (2000)</td>\n",
       "      <td>Drama</td>\n",
       "    </tr>\n",
       "    <tr>\n",
       "      <th>3880</th>\n",
       "      <td>3950</td>\n",
       "      <td>Tigerland (2000)</td>\n",
       "      <td>Drama</td>\n",
       "    </tr>\n",
       "    <tr>\n",
       "      <th>3881</th>\n",
       "      <td>3951</td>\n",
       "      <td>Two Family House (2000)</td>\n",
       "      <td>Drama</td>\n",
       "    </tr>\n",
       "    <tr>\n",
       "      <th>3882</th>\n",
       "      <td>3952</td>\n",
       "      <td>Contender, The (2000)</td>\n",
       "      <td>Drama|Thriller</td>\n",
       "    </tr>\n",
       "  </tbody>\n",
       "</table>\n",
       "</div>"
      ],
      "text/plain": [
       "      movie_id                       title                           genre\n",
       "3873      3943           Bamboozled (2000)                          Comedy\n",
       "3874      3944              Bootmen (2000)                    Comedy|Drama\n",
       "3875      3945   Digimon: The Movie (2000)  Adventure|Animation|Children's\n",
       "3876      3946           Get Carter (2000)           Action|Drama|Thriller\n",
       "3877      3947           Get Carter (1971)                        Thriller\n",
       "3878      3948     Meet the Parents (2000)                          Comedy\n",
       "3879      3949  Requiem for a Dream (2000)                           Drama\n",
       "3880      3950            Tigerland (2000)                           Drama\n",
       "3881      3951     Two Family House (2000)                           Drama\n",
       "3882      3952       Contender, The (2000)                  Drama|Thriller"
      ]
     },
     "execution_count": 7,
     "metadata": {},
     "output_type": "execute_result"
    }
   ],
   "source": [
    "# 영화 제목을 보기 위해 메타 데이터를 읽어옵니다.\n",
    "#movie_file_path=os.getenv('HOME') + '/aiffel/AIFFEL_LSG/lms/E07-Recommender_sys/data/ml-1m/movies.dat'\n",
    "movie_file_path= './data/ml-1m/movies.dat'\n",
    "cols = ['movie_id', 'title', 'genre'] \n",
    "movies = pd.read_csv(movie_file_path, sep='::', names=cols, engine='python')\n",
    "movies.tail(10)"
   ]
  },
  {
   "cell_type": "code",
   "execution_count": 8,
   "metadata": {
    "ExecuteTime": {
     "end_time": "2020-08-18T11:09:48.657429Z",
     "start_time": "2020-08-18T11:09:48.626064Z"
    }
   },
   "outputs": [
    {
     "data": {
      "text/html": [
       "<div>\n",
       "<style scoped>\n",
       "    .dataframe tbody tr th:only-of-type {\n",
       "        vertical-align: middle;\n",
       "    }\n",
       "\n",
       "    .dataframe tbody tr th {\n",
       "        vertical-align: top;\n",
       "    }\n",
       "\n",
       "    .dataframe thead th {\n",
       "        text-align: right;\n",
       "    }\n",
       "</style>\n",
       "<table border=\"1\" class=\"dataframe\">\n",
       "  <thead>\n",
       "    <tr style=\"text-align: right;\">\n",
       "      <th></th>\n",
       "      <th>user_id</th>\n",
       "      <th>gender</th>\n",
       "      <th>age</th>\n",
       "      <th>occupation</th>\n",
       "      <th>Zip-code</th>\n",
       "    </tr>\n",
       "  </thead>\n",
       "  <tbody>\n",
       "    <tr>\n",
       "      <th>6030</th>\n",
       "      <td>6031</td>\n",
       "      <td>F</td>\n",
       "      <td>18</td>\n",
       "      <td>0</td>\n",
       "      <td>45123</td>\n",
       "    </tr>\n",
       "    <tr>\n",
       "      <th>6031</th>\n",
       "      <td>6032</td>\n",
       "      <td>M</td>\n",
       "      <td>45</td>\n",
       "      <td>7</td>\n",
       "      <td>55108</td>\n",
       "    </tr>\n",
       "    <tr>\n",
       "      <th>6032</th>\n",
       "      <td>6033</td>\n",
       "      <td>M</td>\n",
       "      <td>50</td>\n",
       "      <td>13</td>\n",
       "      <td>78232</td>\n",
       "    </tr>\n",
       "    <tr>\n",
       "      <th>6033</th>\n",
       "      <td>6034</td>\n",
       "      <td>M</td>\n",
       "      <td>25</td>\n",
       "      <td>14</td>\n",
       "      <td>94117</td>\n",
       "    </tr>\n",
       "    <tr>\n",
       "      <th>6034</th>\n",
       "      <td>6035</td>\n",
       "      <td>F</td>\n",
       "      <td>25</td>\n",
       "      <td>1</td>\n",
       "      <td>78734</td>\n",
       "    </tr>\n",
       "    <tr>\n",
       "      <th>6035</th>\n",
       "      <td>6036</td>\n",
       "      <td>F</td>\n",
       "      <td>25</td>\n",
       "      <td>15</td>\n",
       "      <td>32603</td>\n",
       "    </tr>\n",
       "    <tr>\n",
       "      <th>6036</th>\n",
       "      <td>6037</td>\n",
       "      <td>F</td>\n",
       "      <td>45</td>\n",
       "      <td>1</td>\n",
       "      <td>76006</td>\n",
       "    </tr>\n",
       "    <tr>\n",
       "      <th>6037</th>\n",
       "      <td>6038</td>\n",
       "      <td>F</td>\n",
       "      <td>56</td>\n",
       "      <td>1</td>\n",
       "      <td>14706</td>\n",
       "    </tr>\n",
       "    <tr>\n",
       "      <th>6038</th>\n",
       "      <td>6039</td>\n",
       "      <td>F</td>\n",
       "      <td>45</td>\n",
       "      <td>0</td>\n",
       "      <td>01060</td>\n",
       "    </tr>\n",
       "    <tr>\n",
       "      <th>6039</th>\n",
       "      <td>6040</td>\n",
       "      <td>M</td>\n",
       "      <td>25</td>\n",
       "      <td>6</td>\n",
       "      <td>11106</td>\n",
       "    </tr>\n",
       "  </tbody>\n",
       "</table>\n",
       "</div>"
      ],
      "text/plain": [
       "      user_id gender  age  occupation Zip-code\n",
       "6030     6031      F   18           0    45123\n",
       "6031     6032      M   45           7    55108\n",
       "6032     6033      M   50          13    78232\n",
       "6033     6034      M   25          14    94117\n",
       "6034     6035      F   25           1    78734\n",
       "6035     6036      F   25          15    32603\n",
       "6036     6037      F   45           1    76006\n",
       "6037     6038      F   56           1    14706\n",
       "6038     6039      F   45           0    01060\n",
       "6039     6040      M   25           6    11106"
      ]
     },
     "execution_count": 8,
     "metadata": {},
     "output_type": "execute_result"
    }
   ],
   "source": [
    "# 유저 이름을 보기 위해 메타 데이터를 읽어옵니다.\n",
    "#movie_file_path=os.getenv('HOME') + '/aiffel/AIFFEL_LSG/lms/E07-Recommender_sys/data/ml-1m/movies.dat'\n",
    "users_file_path= './data/ml-1m/users.dat'\n",
    "users_cols = ['user_id', 'gender', 'age','occupation','Zip-code' ] \n",
    "users = pd.read_csv(users_file_path, sep='::', names=users_cols, engine='python')\n",
    "users.tail(10)"
   ]
  },
  {
   "cell_type": "code",
   "execution_count": 9,
   "metadata": {
    "ExecuteTime": {
     "end_time": "2020-08-18T11:09:48.667506Z",
     "start_time": "2020-08-18T11:09:48.658852Z"
    }
   },
   "outputs": [
    {
     "data": {
      "text/html": [
       "<div>\n",
       "<style scoped>\n",
       "    .dataframe tbody tr th:only-of-type {\n",
       "        vertical-align: middle;\n",
       "    }\n",
       "\n",
       "    .dataframe tbody tr th {\n",
       "        vertical-align: top;\n",
       "    }\n",
       "\n",
       "    .dataframe thead th {\n",
       "        text-align: right;\n",
       "    }\n",
       "</style>\n",
       "<table border=\"1\" class=\"dataframe\">\n",
       "  <thead>\n",
       "    <tr style=\"text-align: right;\">\n",
       "      <th></th>\n",
       "      <th>movie_id</th>\n",
       "      <th>title</th>\n",
       "    </tr>\n",
       "  </thead>\n",
       "  <tbody>\n",
       "    <tr>\n",
       "      <th>0</th>\n",
       "      <td>1</td>\n",
       "      <td>Toy Story (1995)</td>\n",
       "    </tr>\n",
       "    <tr>\n",
       "      <th>1</th>\n",
       "      <td>2</td>\n",
       "      <td>Jumanji (1995)</td>\n",
       "    </tr>\n",
       "    <tr>\n",
       "      <th>2</th>\n",
       "      <td>3</td>\n",
       "      <td>Grumpier Old Men (1995)</td>\n",
       "    </tr>\n",
       "    <tr>\n",
       "      <th>3</th>\n",
       "      <td>4</td>\n",
       "      <td>Waiting to Exhale (1995)</td>\n",
       "    </tr>\n",
       "    <tr>\n",
       "      <th>4</th>\n",
       "      <td>5</td>\n",
       "      <td>Father of the Bride Part II (1995)</td>\n",
       "    </tr>\n",
       "    <tr>\n",
       "      <th>...</th>\n",
       "      <td>...</td>\n",
       "      <td>...</td>\n",
       "    </tr>\n",
       "    <tr>\n",
       "      <th>3878</th>\n",
       "      <td>3948</td>\n",
       "      <td>Meet the Parents (2000)</td>\n",
       "    </tr>\n",
       "    <tr>\n",
       "      <th>3879</th>\n",
       "      <td>3949</td>\n",
       "      <td>Requiem for a Dream (2000)</td>\n",
       "    </tr>\n",
       "    <tr>\n",
       "      <th>3880</th>\n",
       "      <td>3950</td>\n",
       "      <td>Tigerland (2000)</td>\n",
       "    </tr>\n",
       "    <tr>\n",
       "      <th>3881</th>\n",
       "      <td>3951</td>\n",
       "      <td>Two Family House (2000)</td>\n",
       "    </tr>\n",
       "    <tr>\n",
       "      <th>3882</th>\n",
       "      <td>3952</td>\n",
       "      <td>Contender, The (2000)</td>\n",
       "    </tr>\n",
       "  </tbody>\n",
       "</table>\n",
       "<p>3883 rows × 2 columns</p>\n",
       "</div>"
      ],
      "text/plain": [
       "      movie_id                               title\n",
       "0            1                    Toy Story (1995)\n",
       "1            2                      Jumanji (1995)\n",
       "2            3             Grumpier Old Men (1995)\n",
       "3            4            Waiting to Exhale (1995)\n",
       "4            5  Father of the Bride Part II (1995)\n",
       "...        ...                                 ...\n",
       "3878      3948             Meet the Parents (2000)\n",
       "3879      3949          Requiem for a Dream (2000)\n",
       "3880      3950                    Tigerland (2000)\n",
       "3881      3951             Two Family House (2000)\n",
       "3882      3952               Contender, The (2000)\n",
       "\n",
       "[3883 rows x 2 columns]"
      ]
     },
     "execution_count": 9,
     "metadata": {},
     "output_type": "execute_result"
    }
   ],
   "source": [
    "#user_unique = data['user_id'].unique()\n",
    "movie_names = movies[['movie_id','title']]\n",
    "movie_names\n",
    "\n",
    "#movie_title = {val:idx for idx, val in movies['movie_id'].data,movies['title'].data}\n",
    "# 유저, 아티스트 indexing 하는 코드 idx는 index의 약자입니다.\n",
    "#user_to_idx = {v:k for k,v in users.items()}\n",
    "#movie_to_idx = {v:k for k,v in  enumerate(artist_unique)}"
   ]
  },
  {
   "cell_type": "code",
   "execution_count": 10,
   "metadata": {
    "ExecuteTime": {
     "end_time": "2020-08-18T11:09:48.696431Z",
     "start_time": "2020-08-18T11:09:48.668985Z"
    }
   },
   "outputs": [
    {
     "data": {
      "text/plain": [
       "user_id        6039\n",
       "movie_id       3628\n",
       "count             3\n",
       "timestamp    412911\n",
       "dtype: int64"
      ]
     },
     "execution_count": 10,
     "metadata": {},
     "output_type": "execute_result"
    }
   ],
   "source": [
    "ratings.nunique()"
   ]
  },
  {
   "cell_type": "markdown",
   "metadata": {
    "ExecuteTime": {
     "end_time": "2020-08-18T07:17:32.628937Z",
     "start_time": "2020-08-18T07:17:32.623182Z"
    }
   },
   "source": [
    "## data <분석\n",
    "- ratings에 있는 유니크한 영화 개수\n",
    "- rating에 있는 유니크한 사용자 수\n",
    "- 가장 인기있는 영화 30개(인기순)"
   ]
  },
  {
   "cell_type": "code",
   "execution_count": 11,
   "metadata": {
    "ExecuteTime": {
     "end_time": "2020-08-18T11:09:48.704997Z",
     "start_time": "2020-08-18T11:09:48.697625Z"
    }
   },
   "outputs": [
    {
     "data": {
      "text/plain": [
       "3628"
      ]
     },
     "execution_count": 11,
     "metadata": {},
     "output_type": "execute_result"
    }
   ],
   "source": [
    "# 영화 개수\n",
    "data['movie_id'].nunique()"
   ]
  },
  {
   "cell_type": "code",
   "execution_count": 12,
   "metadata": {
    "ExecuteTime": {
     "end_time": "2020-08-18T11:09:48.712262Z",
     "start_time": "2020-08-18T11:09:48.706144Z"
    }
   },
   "outputs": [
    {
     "data": {
      "text/plain": [
       "6039"
      ]
     },
     "execution_count": 12,
     "metadata": {},
     "output_type": "execute_result"
    }
   ],
   "source": [
    "# 사용자 수\n",
    "data['user_id'].nunique()"
   ]
  },
  {
   "cell_type": "code",
   "execution_count": 13,
   "metadata": {
    "ExecuteTime": {
     "end_time": "2020-08-18T11:09:48.729010Z",
     "start_time": "2020-08-18T11:09:48.713263Z"
    }
   },
   "outputs": [
    {
     "data": {
      "text/plain": [
       "movie_id\n",
       "2858    3211\n",
       "260     2910\n",
       "1196    2885\n",
       "1210    2716\n",
       "2028    2561\n",
       "589     2509\n",
       "593     2498\n",
       "1198    2473\n",
       "1270    2460\n",
       "2571    2434\n",
       "480     2413\n",
       "2762    2385\n",
       "608     2371\n",
       "110     2314\n",
       "1580    2297\n",
       "527     2257\n",
       "1197    2252\n",
       "2396    2213\n",
       "1617    2210\n",
       "318     2194\n",
       "858     2167\n",
       "1265    2121\n",
       "1097    2102\n",
       "2997    2066\n",
       "2716    2051\n",
       "296     2030\n",
       "356     2022\n",
       "1240    2019\n",
       "1       2000\n",
       "457     1941\n",
       "Name: user_id, dtype: int64"
      ]
     },
     "execution_count": 13,
     "metadata": {},
     "output_type": "execute_result"
    }
   ],
   "source": [
    "# 가장 인기 있는 영화 30개 인기수\n",
    "#TODO movie id 와 movies title 매핑\n",
    "movie_count= data.groupby('movie_id')['user_id'].count()\n",
    "#movie_count['movie_id'].map(movies.get).dropna()\n",
    "#print(movies[movies['movie_id'] == 2858]['title'])   movies[movie_count['movie_id'] == movies['movie_id']]['title']\n",
    "movie_count.sort_values(ascending=False).head(30)"
   ]
  },
  {
   "cell_type": "code",
   "execution_count": 14,
   "metadata": {
    "ExecuteTime": {
     "end_time": "2020-08-18T11:09:48.733744Z",
     "start_time": "2020-08-18T11:09:48.730009Z"
    }
   },
   "outputs": [
    {
     "name": "stdout",
     "output_type": "stream",
     "text": [
      "2789    American Beauty (1999)\n",
      "Name: title, dtype: object\n"
     ]
    }
   ],
   "source": [
    "print(movies[movies['movie_id'] == 2858]['title']) "
   ]
  },
  {
   "cell_type": "markdown",
   "metadata": {},
   "source": [
    "## data add \n",
    "- 내가 선호하는 영화 5가지 골라서 rating 추가\n"
   ]
  },
  {
   "cell_type": "code",
   "execution_count": 15,
   "metadata": {
    "ExecuteTime": {
     "end_time": "2020-08-18T11:09:48.742434Z",
     "start_time": "2020-08-18T11:09:48.734990Z"
    }
   },
   "outputs": [
    {
     "data": {
      "text/html": [
       "<div>\n",
       "<style scoped>\n",
       "    .dataframe tbody tr th:only-of-type {\n",
       "        vertical-align: middle;\n",
       "    }\n",
       "\n",
       "    .dataframe tbody tr th {\n",
       "        vertical-align: top;\n",
       "    }\n",
       "\n",
       "    .dataframe thead th {\n",
       "        text-align: right;\n",
       "    }\n",
       "</style>\n",
       "<table border=\"1\" class=\"dataframe\">\n",
       "  <thead>\n",
       "    <tr style=\"text-align: right;\">\n",
       "      <th></th>\n",
       "      <th>movie_id</th>\n",
       "      <th>title</th>\n",
       "      <th>genre</th>\n",
       "    </tr>\n",
       "  </thead>\n",
       "  <tbody>\n",
       "    <tr>\n",
       "      <th>8</th>\n",
       "      <td>9</td>\n",
       "      <td>Sudden Death (1995)</td>\n",
       "      <td>Action</td>\n",
       "    </tr>\n",
       "    <tr>\n",
       "      <th>19</th>\n",
       "      <td>20</td>\n",
       "      <td>Money Train (1995)</td>\n",
       "      <td>Action</td>\n",
       "    </tr>\n",
       "    <tr>\n",
       "      <th>70</th>\n",
       "      <td>71</td>\n",
       "      <td>Fair Game (1995)</td>\n",
       "      <td>Action</td>\n",
       "    </tr>\n",
       "    <tr>\n",
       "      <th>143</th>\n",
       "      <td>145</td>\n",
       "      <td>Bad Boys (1995)</td>\n",
       "      <td>Action</td>\n",
       "    </tr>\n",
       "    <tr>\n",
       "      <th>202</th>\n",
       "      <td>204</td>\n",
       "      <td>Under Siege 2: Dark Territory (1995)</td>\n",
       "      <td>Action</td>\n",
       "    </tr>\n",
       "    <tr>\n",
       "      <th>224</th>\n",
       "      <td>227</td>\n",
       "      <td>Drop Zone (1994)</td>\n",
       "      <td>Action</td>\n",
       "    </tr>\n",
       "    <tr>\n",
       "      <th>248</th>\n",
       "      <td>251</td>\n",
       "      <td>Hunted, The (1995)</td>\n",
       "      <td>Action</td>\n",
       "    </tr>\n",
       "    <tr>\n",
       "      <th>312</th>\n",
       "      <td>315</td>\n",
       "      <td>Specialist, The (1994)</td>\n",
       "      <td>Action</td>\n",
       "    </tr>\n",
       "    <tr>\n",
       "      <th>380</th>\n",
       "      <td>384</td>\n",
       "      <td>Bad Company (1995)</td>\n",
       "      <td>Action</td>\n",
       "    </tr>\n",
       "    <tr>\n",
       "      <th>389</th>\n",
       "      <td>393</td>\n",
       "      <td>Street Fighter (1994)</td>\n",
       "      <td>Action</td>\n",
       "    </tr>\n",
       "  </tbody>\n",
       "</table>\n",
       "</div>"
      ],
      "text/plain": [
       "     movie_id                                 title   genre\n",
       "8           9                   Sudden Death (1995)  Action\n",
       "19         20                    Money Train (1995)  Action\n",
       "70         71                      Fair Game (1995)  Action\n",
       "143       145                       Bad Boys (1995)  Action\n",
       "202       204  Under Siege 2: Dark Territory (1995)  Action\n",
       "224       227                      Drop Zone (1994)  Action\n",
       "248       251                    Hunted, The (1995)  Action\n",
       "312       315                Specialist, The (1994)  Action\n",
       "380       384                    Bad Company (1995)  Action\n",
       "389       393                 Street Fighter (1994)  Action"
      ]
     },
     "execution_count": 15,
     "metadata": {},
     "output_type": "execute_result"
    }
   ],
   "source": [
    "movies[movies[\"genre\"]== \"Action\"].head(10)\n",
    "#movies[movies[\"genre\"]== \"Drama\"].head(30)"
   ]
  },
  {
   "cell_type": "code",
   "execution_count": 16,
   "metadata": {
    "ExecuteTime": {
     "end_time": "2020-08-18T11:09:48.747977Z",
     "start_time": "2020-08-18T11:09:48.743575Z"
    }
   },
   "outputs": [
    {
     "data": {
      "text/plain": [
       "380    384\n",
       "Name: movie_id, dtype: int64"
      ]
     },
     "execution_count": 16,
     "metadata": {},
     "output_type": "execute_result"
    }
   ],
   "source": [
    "\n",
    "movies[movies['title']=='Bad Company (1995)']['movie_id']\n"
   ]
  },
  {
   "cell_type": "code",
   "execution_count": 17,
   "metadata": {
    "ExecuteTime": {
     "end_time": "2020-08-18T11:09:48.751684Z",
     "start_time": "2020-08-18T11:09:48.748915Z"
    }
   },
   "outputs": [],
   "source": [
    "my_favorite = ['Bad Company (1995)' , \n",
    "               'Street Fighter (1994)' ,\n",
    "               'Bad Boys (1995)' ,\n",
    "               'Sudden Death (1995)' ,\n",
    "               'Fair Game (1995)']\n",
    "my_favorite_id= [384, 393, 145, 9, 71 ]\n"
   ]
  },
  {
   "cell_type": "code",
   "execution_count": 18,
   "metadata": {
    "ExecuteTime": {
     "end_time": "2020-08-18T11:09:48.759651Z",
     "start_time": "2020-08-18T11:09:48.752736Z"
    }
   },
   "outputs": [
    {
     "data": {
      "text/html": [
       "<div>\n",
       "<style scoped>\n",
       "    .dataframe tbody tr th:only-of-type {\n",
       "        vertical-align: middle;\n",
       "    }\n",
       "\n",
       "    .dataframe tbody tr th {\n",
       "        vertical-align: top;\n",
       "    }\n",
       "\n",
       "    .dataframe thead th {\n",
       "        text-align: right;\n",
       "    }\n",
       "</style>\n",
       "<table border=\"1\" class=\"dataframe\">\n",
       "  <thead>\n",
       "    <tr style=\"text-align: right;\">\n",
       "      <th></th>\n",
       "      <th>user_id</th>\n",
       "      <th>movie_id</th>\n",
       "      <th>count</th>\n",
       "    </tr>\n",
       "  </thead>\n",
       "  <tbody>\n",
       "    <tr>\n",
       "      <th>0</th>\n",
       "      <td>1</td>\n",
       "      <td>1193</td>\n",
       "      <td>5</td>\n",
       "    </tr>\n",
       "    <tr>\n",
       "      <th>1</th>\n",
       "      <td>1</td>\n",
       "      <td>661</td>\n",
       "      <td>3</td>\n",
       "    </tr>\n",
       "    <tr>\n",
       "      <th>2</th>\n",
       "      <td>1</td>\n",
       "      <td>914</td>\n",
       "      <td>3</td>\n",
       "    </tr>\n",
       "    <tr>\n",
       "      <th>3</th>\n",
       "      <td>1</td>\n",
       "      <td>3408</td>\n",
       "      <td>4</td>\n",
       "    </tr>\n",
       "    <tr>\n",
       "      <th>4</th>\n",
       "      <td>1</td>\n",
       "      <td>2355</td>\n",
       "      <td>5</td>\n",
       "    </tr>\n",
       "    <tr>\n",
       "      <th>...</th>\n",
       "      <td>...</td>\n",
       "      <td>...</td>\n",
       "      <td>...</td>\n",
       "    </tr>\n",
       "    <tr>\n",
       "      <th>1000203</th>\n",
       "      <td>6040</td>\n",
       "      <td>1090</td>\n",
       "      <td>3</td>\n",
       "    </tr>\n",
       "    <tr>\n",
       "      <th>1000205</th>\n",
       "      <td>6040</td>\n",
       "      <td>1094</td>\n",
       "      <td>5</td>\n",
       "    </tr>\n",
       "    <tr>\n",
       "      <th>1000206</th>\n",
       "      <td>6040</td>\n",
       "      <td>562</td>\n",
       "      <td>5</td>\n",
       "    </tr>\n",
       "    <tr>\n",
       "      <th>1000207</th>\n",
       "      <td>6040</td>\n",
       "      <td>1096</td>\n",
       "      <td>4</td>\n",
       "    </tr>\n",
       "    <tr>\n",
       "      <th>1000208</th>\n",
       "      <td>6040</td>\n",
       "      <td>1097</td>\n",
       "      <td>4</td>\n",
       "    </tr>\n",
       "  </tbody>\n",
       "</table>\n",
       "<p>836478 rows × 3 columns</p>\n",
       "</div>"
      ],
      "text/plain": [
       "         user_id  movie_id  count\n",
       "0              1      1193      5\n",
       "1              1       661      3\n",
       "2              1       914      3\n",
       "3              1      3408      4\n",
       "4              1      2355      5\n",
       "...          ...       ...    ...\n",
       "1000203     6040      1090      3\n",
       "1000205     6040      1094      5\n",
       "1000206     6040       562      5\n",
       "1000207     6040      1096      4\n",
       "1000208     6040      1097      4\n",
       "\n",
       "[836478 rows x 3 columns]"
      ]
     },
     "execution_count": 18,
     "metadata": {},
     "output_type": "execute_result"
    }
   ],
   "source": [
    "data"
   ]
  },
  {
   "cell_type": "code",
   "execution_count": 19,
   "metadata": {
    "ExecuteTime": {
     "end_time": "2020-08-18T11:09:48.767402Z",
     "start_time": "2020-08-18T11:09:48.760641Z"
    }
   },
   "outputs": [
    {
     "data": {
      "text/html": [
       "<div>\n",
       "<style scoped>\n",
       "    .dataframe tbody tr th:only-of-type {\n",
       "        vertical-align: middle;\n",
       "    }\n",
       "\n",
       "    .dataframe tbody tr th {\n",
       "        vertical-align: top;\n",
       "    }\n",
       "\n",
       "    .dataframe thead th {\n",
       "        text-align: right;\n",
       "    }\n",
       "</style>\n",
       "<table border=\"1\" class=\"dataframe\">\n",
       "  <thead>\n",
       "    <tr style=\"text-align: right;\">\n",
       "      <th></th>\n",
       "      <th>user_id</th>\n",
       "      <th>movie_id</th>\n",
       "      <th>count</th>\n",
       "      <th>timestamp</th>\n",
       "    </tr>\n",
       "  </thead>\n",
       "  <tbody>\n",
       "    <tr>\n",
       "      <th>0</th>\n",
       "      <td>1</td>\n",
       "      <td>1193</td>\n",
       "      <td>5</td>\n",
       "      <td>978300760</td>\n",
       "    </tr>\n",
       "    <tr>\n",
       "      <th>1</th>\n",
       "      <td>1</td>\n",
       "      <td>661</td>\n",
       "      <td>3</td>\n",
       "      <td>978302109</td>\n",
       "    </tr>\n",
       "    <tr>\n",
       "      <th>2</th>\n",
       "      <td>1</td>\n",
       "      <td>914</td>\n",
       "      <td>3</td>\n",
       "      <td>978301968</td>\n",
       "    </tr>\n",
       "    <tr>\n",
       "      <th>3</th>\n",
       "      <td>1</td>\n",
       "      <td>3408</td>\n",
       "      <td>4</td>\n",
       "      <td>978300275</td>\n",
       "    </tr>\n",
       "    <tr>\n",
       "      <th>4</th>\n",
       "      <td>1</td>\n",
       "      <td>2355</td>\n",
       "      <td>5</td>\n",
       "      <td>978824291</td>\n",
       "    </tr>\n",
       "    <tr>\n",
       "      <th>...</th>\n",
       "      <td>...</td>\n",
       "      <td>...</td>\n",
       "      <td>...</td>\n",
       "      <td>...</td>\n",
       "    </tr>\n",
       "    <tr>\n",
       "      <th>1000203</th>\n",
       "      <td>6040</td>\n",
       "      <td>1090</td>\n",
       "      <td>3</td>\n",
       "      <td>956715518</td>\n",
       "    </tr>\n",
       "    <tr>\n",
       "      <th>1000205</th>\n",
       "      <td>6040</td>\n",
       "      <td>1094</td>\n",
       "      <td>5</td>\n",
       "      <td>956704887</td>\n",
       "    </tr>\n",
       "    <tr>\n",
       "      <th>1000206</th>\n",
       "      <td>6040</td>\n",
       "      <td>562</td>\n",
       "      <td>5</td>\n",
       "      <td>956704746</td>\n",
       "    </tr>\n",
       "    <tr>\n",
       "      <th>1000207</th>\n",
       "      <td>6040</td>\n",
       "      <td>1096</td>\n",
       "      <td>4</td>\n",
       "      <td>956715648</td>\n",
       "    </tr>\n",
       "    <tr>\n",
       "      <th>1000208</th>\n",
       "      <td>6040</td>\n",
       "      <td>1097</td>\n",
       "      <td>4</td>\n",
       "      <td>956715569</td>\n",
       "    </tr>\n",
       "  </tbody>\n",
       "</table>\n",
       "<p>836478 rows × 4 columns</p>\n",
       "</div>"
      ],
      "text/plain": [
       "         user_id  movie_id  count  timestamp\n",
       "0              1      1193      5  978300760\n",
       "1              1       661      3  978302109\n",
       "2              1       914      3  978301968\n",
       "3              1      3408      4  978300275\n",
       "4              1      2355      5  978824291\n",
       "...          ...       ...    ...        ...\n",
       "1000203     6040      1090      3  956715518\n",
       "1000205     6040      1094      5  956704887\n",
       "1000206     6040       562      5  956704746\n",
       "1000207     6040      1096      4  956715648\n",
       "1000208     6040      1097      4  956715569\n",
       "\n",
       "[836478 rows x 4 columns]"
      ]
     },
     "execution_count": 19,
     "metadata": {},
     "output_type": "execute_result"
    }
   ],
   "source": [
    "ratings"
   ]
  },
  {
   "cell_type": "code",
   "execution_count": 20,
   "metadata": {
    "ExecuteTime": {
     "end_time": "2020-08-18T11:09:48.802054Z",
     "start_time": "2020-08-18T11:09:48.768728Z"
    }
   },
   "outputs": [
    {
     "data": {
      "text/html": [
       "<div>\n",
       "<style scoped>\n",
       "    .dataframe tbody tr th:only-of-type {\n",
       "        vertical-align: middle;\n",
       "    }\n",
       "\n",
       "    .dataframe tbody tr th {\n",
       "        vertical-align: top;\n",
       "    }\n",
       "\n",
       "    .dataframe thead th {\n",
       "        text-align: right;\n",
       "    }\n",
       "</style>\n",
       "<table border=\"1\" class=\"dataframe\">\n",
       "  <thead>\n",
       "    <tr style=\"text-align: right;\">\n",
       "      <th></th>\n",
       "      <th>user_id</th>\n",
       "      <th>movie_id</th>\n",
       "      <th>count</th>\n",
       "    </tr>\n",
       "  </thead>\n",
       "  <tbody>\n",
       "    <tr>\n",
       "      <th>1000203</th>\n",
       "      <td>6040</td>\n",
       "      <td>1090</td>\n",
       "      <td>3</td>\n",
       "    </tr>\n",
       "    <tr>\n",
       "      <th>1000205</th>\n",
       "      <td>6040</td>\n",
       "      <td>1094</td>\n",
       "      <td>5</td>\n",
       "    </tr>\n",
       "    <tr>\n",
       "      <th>1000206</th>\n",
       "      <td>6040</td>\n",
       "      <td>562</td>\n",
       "      <td>5</td>\n",
       "    </tr>\n",
       "    <tr>\n",
       "      <th>1000207</th>\n",
       "      <td>6040</td>\n",
       "      <td>1096</td>\n",
       "      <td>4</td>\n",
       "    </tr>\n",
       "    <tr>\n",
       "      <th>1000208</th>\n",
       "      <td>6040</td>\n",
       "      <td>1097</td>\n",
       "      <td>4</td>\n",
       "    </tr>\n",
       "    <tr>\n",
       "      <th>0</th>\n",
       "      <td>6041</td>\n",
       "      <td>384</td>\n",
       "      <td>4</td>\n",
       "    </tr>\n",
       "    <tr>\n",
       "      <th>1</th>\n",
       "      <td>6041</td>\n",
       "      <td>393</td>\n",
       "      <td>4</td>\n",
       "    </tr>\n",
       "    <tr>\n",
       "      <th>2</th>\n",
       "      <td>6041</td>\n",
       "      <td>145</td>\n",
       "      <td>4</td>\n",
       "    </tr>\n",
       "    <tr>\n",
       "      <th>3</th>\n",
       "      <td>6041</td>\n",
       "      <td>9</td>\n",
       "      <td>4</td>\n",
       "    </tr>\n",
       "    <tr>\n",
       "      <th>4</th>\n",
       "      <td>6041</td>\n",
       "      <td>71</td>\n",
       "      <td>4</td>\n",
       "    </tr>\n",
       "  </tbody>\n",
       "</table>\n",
       "</div>"
      ],
      "text/plain": [
       "         user_id  movie_id  count\n",
       "1000203     6040      1090      3\n",
       "1000205     6040      1094      5\n",
       "1000206     6040       562      5\n",
       "1000207     6040      1096      4\n",
       "1000208     6040      1097      4\n",
       "0           6041       384      4\n",
       "1           6041       393      4\n",
       "2           6041       145      4\n",
       "3           6041         9      4\n",
       "4           6041        71      4"
      ]
     },
     "execution_count": 20,
     "metadata": {},
     "output_type": "execute_result"
    }
   ],
   "source": [
    " \n",
    "\n",
    "\n",
    "my_playlist = pd.DataFrame({'user_id': [6041]*5, \n",
    "                            'movie_id':my_favorite_id, \n",
    "                            'count':4})\n",
    "\n",
    "if not data.isin({'user_id':['6041']})['user_id'].any(): \n",
    "    data = data.append(my_playlist)                           # 위에 임의로 만든 my_favorite 데이터를 추가해 줍니다. \n",
    "#data = data.append(my_playlist)     \n",
    "data.tail(10)"
   ]
  },
  {
   "cell_type": "code",
   "execution_count": 21,
   "metadata": {
    "ExecuteTime": {
     "end_time": "2020-08-18T11:09:48.810090Z",
     "start_time": "2020-08-18T11:09:48.803245Z"
    }
   },
   "outputs": [
    {
     "data": {
      "text/plain": [
       "6040"
      ]
     },
     "execution_count": 21,
     "metadata": {},
     "output_type": "execute_result"
    }
   ],
   "source": [
    "data['user_id'].nunique()\n",
    "# 1명 추가 됨..."
   ]
  },
  {
   "cell_type": "code",
   "execution_count": 22,
   "metadata": {
    "ExecuteTime": {
     "end_time": "2020-08-18T11:09:48.816961Z",
     "start_time": "2020-08-18T11:09:48.811301Z"
    }
   },
   "outputs": [
    {
     "data": {
      "text/html": [
       "<div>\n",
       "<style scoped>\n",
       "    .dataframe tbody tr th:only-of-type {\n",
       "        vertical-align: middle;\n",
       "    }\n",
       "\n",
       "    .dataframe tbody tr th {\n",
       "        vertical-align: top;\n",
       "    }\n",
       "\n",
       "    .dataframe thead th {\n",
       "        text-align: right;\n",
       "    }\n",
       "</style>\n",
       "<table border=\"1\" class=\"dataframe\">\n",
       "  <thead>\n",
       "    <tr style=\"text-align: right;\">\n",
       "      <th></th>\n",
       "      <th>user_id</th>\n",
       "      <th>movie_id</th>\n",
       "      <th>count</th>\n",
       "    </tr>\n",
       "  </thead>\n",
       "  <tbody>\n",
       "    <tr>\n",
       "      <th>0</th>\n",
       "      <td>1</td>\n",
       "      <td>1193</td>\n",
       "      <td>5</td>\n",
       "    </tr>\n",
       "    <tr>\n",
       "      <th>1</th>\n",
       "      <td>1</td>\n",
       "      <td>661</td>\n",
       "      <td>3</td>\n",
       "    </tr>\n",
       "    <tr>\n",
       "      <th>2</th>\n",
       "      <td>1</td>\n",
       "      <td>914</td>\n",
       "      <td>3</td>\n",
       "    </tr>\n",
       "    <tr>\n",
       "      <th>3</th>\n",
       "      <td>1</td>\n",
       "      <td>3408</td>\n",
       "      <td>4</td>\n",
       "    </tr>\n",
       "    <tr>\n",
       "      <th>4</th>\n",
       "      <td>1</td>\n",
       "      <td>2355</td>\n",
       "      <td>5</td>\n",
       "    </tr>\n",
       "    <tr>\n",
       "      <th>...</th>\n",
       "      <td>...</td>\n",
       "      <td>...</td>\n",
       "      <td>...</td>\n",
       "    </tr>\n",
       "    <tr>\n",
       "      <th>0</th>\n",
       "      <td>6041</td>\n",
       "      <td>384</td>\n",
       "      <td>4</td>\n",
       "    </tr>\n",
       "    <tr>\n",
       "      <th>1</th>\n",
       "      <td>6041</td>\n",
       "      <td>393</td>\n",
       "      <td>4</td>\n",
       "    </tr>\n",
       "    <tr>\n",
       "      <th>2</th>\n",
       "      <td>6041</td>\n",
       "      <td>145</td>\n",
       "      <td>4</td>\n",
       "    </tr>\n",
       "    <tr>\n",
       "      <th>3</th>\n",
       "      <td>6041</td>\n",
       "      <td>9</td>\n",
       "      <td>4</td>\n",
       "    </tr>\n",
       "    <tr>\n",
       "      <th>4</th>\n",
       "      <td>6041</td>\n",
       "      <td>71</td>\n",
       "      <td>4</td>\n",
       "    </tr>\n",
       "  </tbody>\n",
       "</table>\n",
       "<p>836483 rows × 3 columns</p>\n",
       "</div>"
      ],
      "text/plain": [
       "    user_id  movie_id  count\n",
       "0         1      1193      5\n",
       "1         1       661      3\n",
       "2         1       914      3\n",
       "3         1      3408      4\n",
       "4         1      2355      5\n",
       "..      ...       ...    ...\n",
       "0      6041       384      4\n",
       "1      6041       393      4\n",
       "2      6041       145      4\n",
       "3      6041         9      4\n",
       "4      6041        71      4\n",
       "\n",
       "[836483 rows x 3 columns]"
      ]
     },
     "execution_count": 22,
     "metadata": {},
     "output_type": "execute_result"
    }
   ],
   "source": [
    "data"
   ]
  },
  {
   "cell_type": "markdown",
   "metadata": {
    "ExecuteTime": {
     "end_time": "2020-08-18T07:18:21.976773Z",
     "start_time": "2020-08-18T07:18:21.975086Z"
    }
   },
   "source": [
    "## csr matrix "
   ]
  },
  {
   "cell_type": "code",
   "execution_count": 29,
   "metadata": {
    "ExecuteTime": {
     "end_time": "2020-08-18T11:12:32.451152Z",
     "start_time": "2020-08-18T11:12:32.395354Z"
    }
   },
   "outputs": [
    {
     "name": "stdout",
     "output_type": "stream",
     "text": [
      "6040 3628\n"
     ]
    },
    {
     "data": {
      "text/plain": [
       "<6050x4000 sparse matrix of type '<class 'numpy.int64'>'\n",
       "\twith 836483 stored elements in Compressed Sparse Row format>"
      ]
     },
     "execution_count": 29,
     "metadata": {},
     "output_type": "execute_result"
    }
   ],
   "source": [
    "#from scipy.sparse import csr_matrix\n",
    "\n",
    "\n",
    "\n",
    "num_user = data['user_id'].nunique()\n",
    "num_movie = data['movie_id'].nunique()\n",
    "print(num_user, num_movie)\n",
    "# print(data2['count'].shape)\n",
    "\n",
    "# print(type(data))\n",
    "# print(type(num_user))\n",
    "# print(type(data2.user_id))\n",
    "# print(type(data2['count']))\n",
    "\n",
    "#csr_data = csr_matrix((data['count'], (data.user_id, data.movie_id)), shape= (num_user, num_movie)) \n",
    "csr_data = csr_matrix((data['count'], (data.user_id, data.movie_id)), shape= (6050, 4000)) \n",
    "csr_data"
   ]
  },
  {
   "cell_type": "code",
   "execution_count": null,
   "metadata": {
    "ExecuteTime": {
     "end_time": "2020-08-18T11:09:48.890751Z",
     "start_time": "2020-08-18T11:09:45.418Z"
    }
   },
   "outputs": [],
   "source": [
    "data.nunique()"
   ]
  },
  {
   "cell_type": "code",
   "execution_count": null,
   "metadata": {
    "ExecuteTime": {
     "end_time": "2020-08-18T11:09:48.891324Z",
     "start_time": "2020-08-18T11:09:45.419Z"
    },
    "scrolled": true
   },
   "outputs": [],
   "source": [
    "# num_user = ratings['user_id'].nunique()\n",
    "# num_movie = ratings['movie_id'].nunique()\n",
    "# print(num_user, num_movie)\n",
    "# print(ratings['count'].shape)\n",
    "\n",
    "# csr_data = csr_matrix((ratings['count'], (ratings['user_id'], ratings['movie_id'])), shape= (num_user,num_movie))\n",
    "# csr_data"
   ]
  },
  {
   "cell_type": "code",
   "execution_count": null,
   "metadata": {},
   "outputs": [],
   "source": []
  },
  {
   "cell_type": "markdown",
   "metadata": {},
   "source": [
    "## als_model = AlternatingLeastSquares 모델 훈련"
   ]
  },
  {
   "cell_type": "code",
   "execution_count": 30,
   "metadata": {
    "ExecuteTime": {
     "end_time": "2020-08-18T11:12:40.586811Z",
     "start_time": "2020-08-18T11:12:40.580509Z"
    }
   },
   "outputs": [],
   "source": [
    "# Implicit AlternatingLeastSquares 모델의 선언\n",
    "os.environ['OPENBLAS_NUM_THREADS']='1'\n",
    "os.environ['KMP_DUPLICATE_LIB_OK']='True'\n",
    "os.environ['MKL_NUM_THREADS']='1'\n",
    "\n",
    "als_model = AlternatingLeastSquares(factors=100, regularization=0.01, use_gpu=False, iterations=15, dtype=np.float32)"
   ]
  },
  {
   "cell_type": "code",
   "execution_count": 31,
   "metadata": {
    "ExecuteTime": {
     "end_time": "2020-08-18T11:12:41.130556Z",
     "start_time": "2020-08-18T11:12:41.120401Z"
    }
   },
   "outputs": [
    {
     "data": {
      "text/plain": [
       "<4000x6050 sparse matrix of type '<class 'numpy.int64'>'\n",
       "\twith 836483 stored elements in Compressed Sparse Column format>"
      ]
     },
     "execution_count": 31,
     "metadata": {},
     "output_type": "execute_result"
    }
   ],
   "source": [
    "# als 모델은 input으로 (item X user 꼴의 matrix를 받기 때문에 Transpose해줍니다.)\n",
    "csr_data_transpose = csr_data.T\n",
    "csr_data_transpose"
   ]
  },
  {
   "cell_type": "code",
   "execution_count": 32,
   "metadata": {
    "ExecuteTime": {
     "end_time": "2020-08-18T11:12:42.363832Z",
     "start_time": "2020-08-18T11:12:41.597255Z"
    }
   },
   "outputs": [
    {
     "data": {
      "application/vnd.jupyter.widget-view+json": {
       "model_id": "47617ad3ad1144faad46b5d16b1ebe0a",
       "version_major": 2,
       "version_minor": 0
      },
      "text/plain": [
       "HBox(children=(FloatProgress(value=0.0, max=15.0), HTML(value='')))"
      ]
     },
     "metadata": {},
     "output_type": "display_data"
    },
    {
     "name": "stdout",
     "output_type": "stream",
     "text": [
      "\n"
     ]
    }
   ],
   "source": [
    "# 모델 훈련\n",
    "als_model.fit(csr_data_transpose)"
   ]
  },
  {
   "cell_type": "markdown",
   "metadata": {},
   "source": [
    "## 선호도 파악"
   ]
  },
  {
   "cell_type": "code",
   "execution_count": 35,
   "metadata": {
    "ExecuteTime": {
     "end_time": "2020-08-18T11:14:35.884711Z",
     "start_time": "2020-08-18T11:14:35.881226Z"
    }
   },
   "outputs": [
    {
     "name": "stdout",
     "output_type": "stream",
     "text": [
      "[ 0.3220228  -0.26612803  0.07191087  0.15949483 -0.09219621  0.41332713\n",
      "  0.06473979  0.05634092 -0.30008054  0.20807798 -0.20641813 -0.16052487\n",
      " -0.02705514  0.15539066  0.22086035  0.03658444  0.24402499  0.22372353\n",
      " -0.2666574  -0.13084082  0.24677101 -0.29619813 -0.12389661 -0.12441921\n",
      "  0.10542396  0.07729556 -0.41072756 -0.13440621  0.05892525 -0.11598359\n",
      "  0.31264418  0.06389473  0.30311608 -0.37629074 -0.33920196 -0.1615162\n",
      " -0.26244998  0.2839672  -0.12159638 -0.07983002  0.09412021  0.15323326\n",
      " -0.35352623 -0.21745276  0.32966885  0.17249547 -0.00543889  0.19145271\n",
      "  0.03178566  0.19071878 -0.15998866 -0.37387902 -0.00491816 -0.1044338\n",
      " -0.11918101  0.27108264  0.03236694 -0.5941094  -0.35654572  0.16059326\n",
      "  0.16266061  0.14141434 -0.1523178   0.22002539  0.00374068 -0.23647812\n",
      "  0.29686445  0.30855414 -0.28220674  0.20418732  0.51323336  0.01333146\n",
      " -0.13638097  0.14408137  0.23368225 -0.11923807  0.07983219  0.05162042\n",
      " -0.33491835 -0.29575056  0.12763172  0.06410906  0.23353335  0.35051376\n",
      "  0.3276572   0.07720687 -0.05247337 -0.20654172  0.0532563  -0.02858036\n",
      " -0.10425028 -0.11034933  0.14842038  0.40028194  0.22417428  0.05672039\n",
      "  0.12758125 -0.1193874  -0.25028503 -0.21104114]\n"
     ]
    }
   ],
   "source": [
    "# 나의 선호도\n",
    "me_idx = 6041\n",
    "me_vector  = als_model.user_factors[me_idx]\n",
    "print(me_vector)\n"
   ]
  },
  {
   "cell_type": "code",
   "execution_count": 37,
   "metadata": {
    "ExecuteTime": {
     "end_time": "2020-08-18T11:14:46.562230Z",
     "start_time": "2020-08-18T11:14:46.544611Z"
    }
   },
   "outputs": [
    {
     "name": "stdout",
     "output_type": "stream",
     "text": [
      "[ 1.10967038e-02 -2.96933926e-03  5.62351337e-03  9.88563616e-03\n",
      "  1.09446747e-03  6.73755771e-03 -2.15929365e-04 -1.45664264e-03\n",
      " -1.77117938e-03  1.19495187e-02 -2.72778189e-03  2.24393676e-03\n",
      " -1.80894148e-03  7.97402114e-03  7.91889895e-03  1.00568042e-03\n",
      "  6.86946604e-03  8.33794009e-03 -5.42217586e-03 -3.06127639e-03\n",
      "  1.09088225e-02  7.87901867e-04  5.25907660e-03 -1.37929048e-03\n",
      "  5.07648522e-03  4.91851615e-03 -2.57210853e-03  4.68331343e-03\n",
      "  1.65439269e-03  1.93637586e-03  1.00474618e-02  5.38314180e-03\n",
      "  2.84701400e-03 -1.04636117e-03  4.11276938e-03  1.13286439e-03\n",
      "  1.33302121e-03  1.25469258e-02 -1.71427440e-03  8.36250474e-05\n",
      "  2.90138624e-03  1.18717169e-02 -1.70056056e-03  1.10130722e-03\n",
      "  7.01135350e-03  5.78091806e-03  3.72962514e-03  7.17710098e-03\n",
      "  1.08278086e-02  5.86572615e-03  2.23874347e-03 -3.01953708e-03\n",
      "  9.79351695e-04 -1.87012472e-03 -3.32462974e-03  6.27356209e-03\n",
      "  5.14742732e-03  7.01867917e-04  2.34522391e-03  4.76170518e-03\n",
      "  7.23972917e-03  8.52773519e-05  9.88946878e-04  1.93174067e-03\n",
      "  5.40789636e-03 -1.58368051e-03  3.91191524e-03  1.03373816e-02\n",
      " -1.04388513e-03  6.12575235e-03  1.11021446e-02  5.59325051e-03\n",
      "  2.98383064e-03 -4.82749660e-04  5.12277568e-03 -3.49645503e-03\n",
      "  2.02811928e-03  3.23041831e-03 -4.44062636e-04 -5.48056932e-03\n",
      "  3.70599306e-03  2.99794553e-03  5.32112364e-03  9.12461244e-03\n",
      "  6.41056476e-03  8.16351268e-03  8.92921444e-03 -1.34735694e-03\n",
      "  3.20567540e-03  3.94439511e-03  4.79241181e-03  4.85904631e-04\n",
      "  4.28519491e-03  6.86310837e-03  3.35066789e-03  4.91528725e-03\n",
      "  4.54789121e-03  6.51081209e-04 -1.71038019e-03 -2.76324898e-03]\n"
     ]
    },
    {
     "data": {
      "text/plain": [
       "0.071545124"
      ]
     },
     "execution_count": 37,
     "metadata": {},
     "output_type": "execute_result"
    }
   ],
   "source": [
    "#'Fair Game (1995)'  idx 71 선호도   movie_names\n",
    "fg_idx = 71\n",
    "fg_vector = als_model.item_factors[fg_idx]\n",
    "print(fg_vector)\n",
    "\n",
    "np.dot(me_vector, fg_vector)"
   ]
  },
  {
   "cell_type": "code",
   "execution_count": 40,
   "metadata": {
    "ExecuteTime": {
     "end_time": "2020-08-18T11:16:30.338086Z",
     "start_time": "2020-08-18T11:16:30.332532Z"
    }
   },
   "outputs": [
    {
     "name": "stdout",
     "output_type": "stream",
     "text": [
      "[ 7.1404469e-03 -1.8514909e-03  3.1845197e-03  5.8155260e-03\n",
      "  2.5637101e-03  1.9645861e-03 -1.6489642e-03  7.0024241e-04\n",
      " -1.0038090e-03  5.5202609e-03 -2.1261778e-03 -2.2230605e-03\n",
      "  8.1436512e-05  6.9407243e-03  5.8848271e-03  6.5830420e-04\n",
      "  3.2552583e-03  9.4572245e-04 -2.6366294e-03  1.6843490e-03\n",
      "  5.4282052e-03  7.9677161e-04 -3.5719073e-03  5.4745113e-05\n",
      " -2.5780137e-05  2.1213018e-03 -3.1978777e-03 -5.7916943e-04\n",
      " -1.9820307e-03  5.1719793e-03  7.5249230e-03  3.6770247e-03\n",
      "  3.6217310e-03 -5.8228467e-03  3.0694650e-03 -4.5495181e-04\n",
      " -1.7450574e-04  1.0625007e-02  3.8173667e-03  2.7127233e-03\n",
      "  3.8133212e-03  1.3177133e-03 -2.1563331e-03 -5.9300619e-06\n",
      "  7.6320223e-03  4.0836044e-04  6.1026956e-03  7.0553338e-03\n",
      "  4.9664481e-03  5.7333703e-03  2.7544121e-04 -4.9191830e-03\n",
      "  7.9983077e-04 -3.8120595e-03 -5.7568913e-03  8.3740428e-03\n",
      "  6.0220221e-03 -2.4785956e-03  1.5628955e-03  8.8693202e-03\n",
      "  6.8941168e-03 -3.8835959e-05 -3.5001792e-03  6.0208078e-04\n",
      "  3.0726413e-03  2.5106902e-04  2.0160149e-03  5.1575294e-03\n",
      "  3.1421350e-03  2.7581370e-03  6.8792528e-03  2.0827742e-03\n",
      "  1.3214452e-04  3.8144421e-03  5.6212889e-03 -3.2030644e-03\n",
      "  4.5396620e-03  8.9724571e-04 -4.7194050e-03  5.7861203e-04\n",
      "  3.7326124e-03 -2.4606622e-04  5.0355326e-03  5.2421754e-03\n",
      "  5.2043479e-03  1.5888697e-03 -9.8520564e-04 -9.8810322e-04\n",
      "  6.4843562e-03  3.3599597e-03  1.2167193e-03  6.4721075e-03\n",
      "  4.1799829e-03  1.1277355e-02 -1.4490131e-03  5.1434701e-03\n",
      "  3.5226939e-03 -3.8584624e-03  1.3361777e-03  6.4256089e-04]\n"
     ]
    },
    {
     "data": {
      "text/plain": [
       "0.056128547"
      ]
     },
     "execution_count": 40,
     "metadata": {},
     "output_type": "execute_result"
    }
   ],
   "source": [
    "#'Street Fighter (1994)' , idx 393 선호도   movie_names\n",
    "sf_idx = 393\n",
    "sf_vector = als_model.item_factors[sf_idx]\n",
    "print(sf_vector)\n",
    "\n",
    "np.dot(me_vector, sf_vector)\n"
   ]
  },
  {
   "cell_type": "code",
   "execution_count": 42,
   "metadata": {
    "ExecuteTime": {
     "end_time": "2020-08-18T11:17:34.676890Z",
     "start_time": "2020-08-18T11:17:34.670530Z"
    }
   },
   "outputs": [
    {
     "name": "stdout",
     "output_type": "stream",
     "text": [
      "[ 0.01235456 -0.00631395  0.00552482  0.00624047  0.00774966  0.02798221\n",
      "  0.01240891  0.00401246  0.00116683  0.01374004 -0.00743233 -0.01054189\n",
      "  0.00487122 -0.00261119  0.01188714  0.01998491  0.01424464  0.01958132\n",
      " -0.00112759 -0.00581937  0.00119223  0.0006045  -0.0041312   0.00442379\n",
      " -0.00262082  0.00201938 -0.01815773  0.00080731  0.01995449 -0.01087386\n",
      "  0.01267361  0.0075448   0.0166564  -0.00973254 -0.03488528  0.00778198\n",
      " -0.01446448  0.01231759  0.00139378  0.00470806  0.00265989  0.01255405\n",
      " -0.00456472 -0.0064685   0.01682308  0.01834571 -0.00259483  0.00159539\n",
      " -0.00872884  0.00530275  0.00543365  0.00190804  0.00801707  0.01457253\n",
      "  0.00845643  0.02104814  0.00376734 -0.02790561 -0.01142661  0.00587012\n",
      "  0.00988239  0.01484061  0.00555872  0.01493063 -0.0009696  -0.00778786\n",
      "  0.00891969  0.02187785 -0.01332749  0.01443464  0.02238261  0.00926501\n",
      " -0.00099861  0.01823101  0.01172351  0.00954167  0.00797935  0.00420042\n",
      " -0.00192685 -0.00610813  0.01964442  0.00528354  0.01357443  0.02322469\n",
      "  0.0133835  -0.01230056  0.00367114  0.00175149 -0.00278044  0.01045504\n",
      " -0.0098497   0.00114159  0.00385903  0.01146649  0.0150461   0.00823027\n",
      "  0.01409853  0.00951147  0.00119049  0.00203402]\n"
     ]
    },
    {
     "data": {
      "text/plain": [
       "0.1846596"
      ]
     },
     "execution_count": 42,
     "metadata": {},
     "output_type": "execute_result"
    }
   ],
   "source": [
    "#'Bad Boys' , idx 393 선호도   movie_names\n",
    "bb_idx = 145\n",
    "bb_vector = als_model.item_factors[bb_idx]\n",
    "print(bb_vector)\n",
    "\n",
    "np.dot(me_vector, bb_vector)\n",
    "# my_favorite = ['Bad Company (1995)' , \n",
    "#                'Street Fighter (1994)' ,\n",
    "#                'Bad Boys' ,\n",
    "#                'Sudden Death (1995)' ,\n",
    "#                'Fair Game (1995)']\n",
    "# my_favorite_id= [384, 393, 145, 9, 71 ]"
   ]
  },
  {
   "cell_type": "markdown",
   "metadata": {},
   "source": [
    "## 유사 영화 추천"
   ]
  },
  {
   "cell_type": "code",
   "execution_count": 46,
   "metadata": {
    "ExecuteTime": {
     "end_time": "2020-08-18T11:19:26.991656Z",
     "start_time": "2020-08-18T11:19:26.977899Z"
    }
   },
   "outputs": [
    {
     "data": {
      "text/plain": [
       "[(71, 0.053732514),\n",
       " (1004, 0.04633327),\n",
       " (544, 0.045934606),\n",
       " (1626, 0.04544114),\n",
       " (1744, 0.04516598),\n",
       " (548, 0.044705037),\n",
       " (694, 0.044382308),\n",
       " (1604, 0.044320963),\n",
       " (20, 0.04430308),\n",
       " (1497, 0.04424421),\n",
       " (990, 0.04389384),\n",
       " (2835, 0.043833237),\n",
       " (9, 0.043556042),\n",
       " (227, 0.043470196),\n",
       " (1869, 0.043250542)]"
      ]
     },
     "execution_count": 46,
     "metadata": {},
     "output_type": "execute_result"
    }
   ],
   "source": [
    "#'Fair Game (1995)'  idx 71 선호도   movie_names\n",
    "fg_idx = 71\n",
    "similar_movies = als_model.similar_items(fg_idx, N=15)\n",
    "similar_movies"
   ]
  },
  {
   "cell_type": "code",
   "execution_count": 71,
   "metadata": {
    "ExecuteTime": {
     "end_time": "2020-08-18T11:31:08.243425Z",
     "start_time": "2020-08-18T11:31:08.193864Z"
    }
   },
   "outputs": [
    {
     "name": "stdout",
     "output_type": "stream",
     "text": [
      "               title   genre\n",
      "70  Fair Game (1995)  Action\n",
      "                       title            genre\n",
      "991  Glimmer Man, The (1996)  Action|Thriller\n",
      "                        title   genre\n",
      "540  Striking Distance (1993)  Action\n",
      "                       title                  genre\n",
      "1583  Fire Down Below (1997)  Action|Drama|Thriller\n",
      "                 title                      genre\n",
      "1693  Firestorm (1998)  Action|Adventure|Thriller\n",
      "                        title   genre\n",
      "544  Terminal Velocity (1994)  Action\n",
      "                      title   genre\n",
      "685  Substitute, The (1996)  Action\n",
      "                   title          genre\n",
      "1563  Money Talks (1997)  Action|Comedy\n",
      "                 title   genre\n",
      "19  Money Train (1995)  Action\n",
      "                   title   genre\n",
      "1465  Double Team (1997)  Action\n",
      "                   title                      genre\n",
      "978  Maximum Risk (1996)  Action|Adventure|Thriller\n",
      "                    title            genre\n",
      "2766  Chill Factor (1999)  Action|Thriller\n",
      "                 title   genre\n",
      "8  Sudden Death (1995)  Action\n",
      "                title   genre\n",
      "224  Drop Zone (1994)  Action\n",
      "                 title            genre\n",
      "1800  Black Dog (1998)  Action|Thriller\n"
     ]
    }
   ],
   "source": [
    "# title \n",
    "for m in similar_movies:\n",
    "    print(movies[movies['movie_id']==m[0]][['title','genre']])"
   ]
  },
  {
   "cell_type": "code",
   "execution_count": null,
   "metadata": {},
   "outputs": [],
   "source": []
  },
  {
   "cell_type": "markdown",
   "metadata": {},
   "source": [
    "## 좋아할 만한 영화 추천"
   ]
  },
  {
   "cell_type": "code",
   "execution_count": 58,
   "metadata": {
    "ExecuteTime": {
     "end_time": "2020-08-18T11:24:20.274909Z",
     "start_time": "2020-08-18T11:24:20.261194Z"
    }
   },
   "outputs": [
    {
     "data": {
      "text/plain": [
       "[(204, 0.10406698),\n",
       " (44, 0.09517281),\n",
       " (464, 0.094421),\n",
       " (423, 0.09407365),\n",
       " (20, 0.09317492),\n",
       " (1385, 0.09145656),\n",
       " (434, 0.090557516),\n",
       " (2808, 0.09055193),\n",
       " (886, 0.08906894),\n",
       " (227, 0.08563958),\n",
       " (1866, 0.084755726),\n",
       " (1004, 0.08411434),\n",
       " (548, 0.08318102),\n",
       " (694, 0.08281553),\n",
       " (511, 0.08239934),\n",
       " (1687, 0.08123389),\n",
       " (315, 0.080340624),\n",
       " (1203, 0.07976359),\n",
       " (479, 0.07932318),\n",
       " (1382, 0.07912278)]"
      ]
     },
     "execution_count": 58,
     "metadata": {},
     "output_type": "execute_result"
    }
   ],
   "source": [
    "# zimin에게 \n",
    "me_idx = 6041\n",
    "# recommend에서는 user*item CSR Matrix를 받습니다.\n",
    "movie_recommended = als_model.recommend(me_idx, csr_data, N=20, filter_already_liked_items=True)\n",
    "movie_recommended"
   ]
  },
  {
   "cell_type": "code",
   "execution_count": 69,
   "metadata": {
    "ExecuteTime": {
     "end_time": "2020-08-18T11:29:09.137355Z",
     "start_time": "2020-08-18T11:29:09.086168Z"
    }
   },
   "outputs": [
    {
     "name": "stdout",
     "output_type": "stream",
     "text": [
      "                                    title   genre\n",
      "202  Under Siege 2: Dark Territory (1995)  Action\n",
      "                   title             genre\n",
      "43  Mortal Kombat (1995)  Action|Adventure\n",
      "                  title                            genre\n",
      "460  Hard Target (1993)  Action|Adventure|Crime|Thriller\n",
      "                 title            genre\n",
      "419  Blown Away (1994)  Action|Thriller\n",
      "                 title   genre\n",
      "19  Money Train (1995)  Action\n",
      "                   title   genre\n",
      "1364  Under Siege (1992)  Action\n",
      "                  title                   genre\n",
      "430  Cliffhanger (1993)  Action|Adventure|Crime\n",
      "                         title          genre\n",
      "2739  Universal Soldier (1992)  Action|Sci-Fi\n",
      "                  title   genre\n",
      "874  Bulletproof (1996)  Action\n",
      "                title   genre\n",
      "224  Drop Zone (1994)  Action\n",
      "                    title          genre\n",
      "1797  Big Hit, The (1998)  Action|Comedy\n",
      "                       title            genre\n",
      "991  Glimmer Man, The (1996)  Action|Thriller\n",
      "                        title   genre\n",
      "544  Terminal Velocity (1994)  Action\n",
      "                      title   genre\n",
      "685  Substitute, The (1996)  Action\n",
      "                   title         genre\n",
      "507  Program, The (1993)  Action|Drama\n",
      "                   title            genre\n",
      "1641  Jackal, The (1997)  Action|Thriller\n",
      "                      title   genre\n",
      "312  Specialist, The (1994)  Action\n",
      "                    title  genre\n",
      "1185  12 Angry Men (1957)  Drama\n",
      "                     title   genre\n",
      "475  Judgment Night (1993)  Action\n",
      "                        title         genre\n",
      "1361  Marked for Death (1990)  Action|Drama\n"
     ]
    }
   ],
   "source": [
    "## 변환\n",
    "a = []\n",
    "# title \n",
    "for m in movie_recommended:\n",
    "    a.append(movies[movies['movie_id']==m[0]]['title'])\n",
    "    print(movies[movies['movie_id']==m[0]][['title','genre']])"
   ]
  },
  {
   "cell_type": "markdown",
   "metadata": {
    "ExecuteTime": {
     "end_time": "2020-08-18T11:29:30.235094Z",
     "start_time": "2020-08-18T11:29:30.233222Z"
    }
   },
   "source": [
    "## 코멘트....\n",
    "- 주입한 데이터를 액션영화 5개만을 골라서 입력해서 그런지 유사 영화와 추천영화의 장르가 전부 액션으로 나왔다."
   ]
  },
  {
   "cell_type": "code",
   "execution_count": null,
   "metadata": {},
   "outputs": [],
   "source": []
  },
  {
   "cell_type": "code",
   "execution_count": null,
   "metadata": {},
   "outputs": [],
   "source": []
  },
  {
   "cell_type": "code",
   "execution_count": null,
   "metadata": {},
   "outputs": [],
   "source": []
  }
 ],
 "metadata": {
  "kernelspec": {
   "display_name": "Python 3",
   "language": "python",
   "name": "python3"
  },
  "language_info": {
   "codemirror_mode": {
    "name": "ipython",
    "version": 3
   },
   "file_extension": ".py",
   "mimetype": "text/x-python",
   "name": "python",
   "nbconvert_exporter": "python",
   "pygments_lexer": "ipython3",
   "version": "3.7.6"
  },
  "toc": {
   "base_numbering": 1,
   "nav_menu": {},
   "number_sections": true,
   "sideBar": true,
   "skip_h1_title": false,
   "title_cell": "Table of Contents",
   "title_sidebar": "Contents",
   "toc_cell": false,
   "toc_position": {
    "height": "707px",
    "left": "0px",
    "top": "50px",
    "width": "334.188px"
   },
   "toc_section_display": true,
   "toc_window_display": true
  },
  "varInspector": {
   "cols": {
    "lenName": 16,
    "lenType": 16,
    "lenVar": 40
   },
   "kernels_config": {
    "python": {
     "delete_cmd_postfix": "",
     "delete_cmd_prefix": "del ",
     "library": "var_list.py",
     "varRefreshCmd": "print(var_dic_list())"
    },
    "r": {
     "delete_cmd_postfix": ") ",
     "delete_cmd_prefix": "rm(",
     "library": "var_list.r",
     "varRefreshCmd": "cat(var_dic_list()) "
    }
   },
   "types_to_exclude": [
    "module",
    "function",
    "builtin_function_or_method",
    "instance",
    "_Feature"
   ],
   "window_display": false
  }
 },
 "nbformat": 4,
 "nbformat_minor": 4
}
