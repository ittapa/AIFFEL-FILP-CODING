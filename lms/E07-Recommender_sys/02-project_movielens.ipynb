{
 "cells": [
  {
   "cell_type": "markdown",
   "metadata": {},
   "source": [
    "# 프로젝트 Movielnes 영화 추천실습\n",
    "   \n",
    "     \n",
    "        \n",
    "        \n",
    "\n",
    "``` wget http://files.grouplens.org/datasets/movielens/ml-1m.zip```"
   ]
  },
  {
   "cell_type": "markdown",
   "metadata": {},
   "source": [
    "## libaryry import"
   ]
  },
  {
   "cell_type": "code",
   "execution_count": 1,
   "metadata": {
    "ExecuteTime": {
     "end_time": "2020-08-19T00:07:00.351723Z",
     "start_time": "2020-08-19T00:07:00.093267Z"
    }
   },
   "outputs": [],
   "source": [
    "import os\n",
    "import pandas as pd \n",
    "import numpy as np\n",
    "from scipy.sparse import csr_matrix\n",
    "from implicit.als import AlternatingLeastSquares"
   ]
  },
  {
   "cell_type": "code",
   "execution_count": null,
   "metadata": {},
   "outputs": [],
   "source": []
  },
  {
   "cell_type": "markdown",
   "metadata": {},
   "source": [
    "## data improt\n"
   ]
  },
  {
   "cell_type": "code",
   "execution_count": 2,
   "metadata": {
    "ExecuteTime": {
     "end_time": "2020-08-19T00:07:02.913734Z",
     "start_time": "2020-08-19T00:07:00.352845Z"
    }
   },
   "outputs": [
    {
     "data": {
      "text/html": [
       "<div>\n",
       "<style scoped>\n",
       "    .dataframe tbody tr th:only-of-type {\n",
       "        vertical-align: middle;\n",
       "    }\n",
       "\n",
       "    .dataframe tbody tr th {\n",
       "        vertical-align: top;\n",
       "    }\n",
       "\n",
       "    .dataframe thead th {\n",
       "        text-align: right;\n",
       "    }\n",
       "</style>\n",
       "<table border=\"1\" class=\"dataframe\">\n",
       "  <thead>\n",
       "    <tr style=\"text-align: right;\">\n",
       "      <th></th>\n",
       "      <th>user_id</th>\n",
       "      <th>movie_id</th>\n",
       "      <th>rating</th>\n",
       "      <th>timestamp</th>\n",
       "    </tr>\n",
       "  </thead>\n",
       "  <tbody>\n",
       "    <tr>\n",
       "      <th>0</th>\n",
       "      <td>1</td>\n",
       "      <td>1193</td>\n",
       "      <td>5</td>\n",
       "      <td>978300760</td>\n",
       "    </tr>\n",
       "    <tr>\n",
       "      <th>1</th>\n",
       "      <td>1</td>\n",
       "      <td>661</td>\n",
       "      <td>3</td>\n",
       "      <td>978302109</td>\n",
       "    </tr>\n",
       "    <tr>\n",
       "      <th>2</th>\n",
       "      <td>1</td>\n",
       "      <td>914</td>\n",
       "      <td>3</td>\n",
       "      <td>978301968</td>\n",
       "    </tr>\n",
       "    <tr>\n",
       "      <th>3</th>\n",
       "      <td>1</td>\n",
       "      <td>3408</td>\n",
       "      <td>4</td>\n",
       "      <td>978300275</td>\n",
       "    </tr>\n",
       "    <tr>\n",
       "      <th>4</th>\n",
       "      <td>1</td>\n",
       "      <td>2355</td>\n",
       "      <td>5</td>\n",
       "      <td>978824291</td>\n",
       "    </tr>\n",
       "  </tbody>\n",
       "</table>\n",
       "</div>"
      ],
      "text/plain": [
       "   user_id  movie_id  rating  timestamp\n",
       "0        1      1193       5  978300760\n",
       "1        1       661       3  978302109\n",
       "2        1       914       3  978301968\n",
       "3        1      3408       4  978300275\n",
       "4        1      2355       5  978824291"
      ]
     },
     "execution_count": 2,
     "metadata": {},
     "output_type": "execute_result"
    }
   ],
   "source": [
    "#rating_file_path=os.getenv('HOME') + '/aiffel/AIFFEL_LSG/lms/E07-Recommender_sys/data/ml-1m/ratings.dat'\n",
    "rating_file_path= './data/ml-1m/ratings.dat'\n",
    "ratings_cols = ['user_id', 'movie_id', 'rating', 'timestamp']\n",
    "ratings = pd.read_csv(rating_file_path, sep='::', names=ratings_cols, engine='python')\n",
    "orginal_data_size = len(ratings)\n",
    "ratings.head()"
   ]
  },
  {
   "cell_type": "code",
   "execution_count": null,
   "metadata": {},
   "outputs": [],
   "source": []
  },
  {
   "cell_type": "markdown",
   "metadata": {
    "ExecuteTime": {
     "end_time": "2020-08-18T07:10:24.584646Z",
     "start_time": "2020-08-18T07:10:24.582452Z"
    }
   },
   "source": [
    "## data preprocessing"
   ]
  },
  {
   "cell_type": "code",
   "execution_count": 3,
   "metadata": {
    "ExecuteTime": {
     "end_time": "2020-08-19T00:07:02.932756Z",
     "start_time": "2020-08-19T00:07:02.914825Z"
    },
    "code_folding": []
   },
   "outputs": [
    {
     "name": "stdout",
     "output_type": "stream",
     "text": [
      "orginal_data_size: 1000209, filtered_data_size: 836478\n",
      "Ratio of Remaining Data is 83.63%\n"
     ]
    }
   ],
   "source": [
    "# 3점 이상만 남깁니다.\n",
    "ratings = ratings[ratings['rating']>=3]\n",
    "filtered_data_size = len(ratings)\n",
    "\n",
    "print(f'orginal_data_size: {orginal_data_size}, filtered_data_size: {filtered_data_size}')\n",
    "print(f'Ratio of Remaining Data is {filtered_data_size / orginal_data_size:.2%}')"
   ]
  },
  {
   "cell_type": "code",
   "execution_count": 4,
   "metadata": {
    "ExecuteTime": {
     "end_time": "2020-08-19T00:07:02.941198Z",
     "start_time": "2020-08-19T00:07:02.934034Z"
    },
    "code_folding": []
   },
   "outputs": [],
   "source": [
    "# rating 컬럼의 이름을 count로 바꿉니다.\n",
    "ratings.rename(columns={'rating':'count'}, inplace=True)\n"
   ]
  },
  {
   "cell_type": "code",
   "execution_count": 5,
   "metadata": {
    "ExecuteTime": {
     "end_time": "2020-08-19T00:07:02.948118Z",
     "start_time": "2020-08-19T00:07:02.942052Z"
    }
   },
   "outputs": [
    {
     "data": {
      "text/html": [
       "<div>\n",
       "<style scoped>\n",
       "    .dataframe tbody tr th:only-of-type {\n",
       "        vertical-align: middle;\n",
       "    }\n",
       "\n",
       "    .dataframe tbody tr th {\n",
       "        vertical-align: top;\n",
       "    }\n",
       "\n",
       "    .dataframe thead th {\n",
       "        text-align: right;\n",
       "    }\n",
       "</style>\n",
       "<table border=\"1\" class=\"dataframe\">\n",
       "  <thead>\n",
       "    <tr style=\"text-align: right;\">\n",
       "      <th></th>\n",
       "      <th>user_id</th>\n",
       "      <th>movie_id</th>\n",
       "      <th>count</th>\n",
       "      <th>timestamp</th>\n",
       "    </tr>\n",
       "  </thead>\n",
       "  <tbody>\n",
       "    <tr>\n",
       "      <th>0</th>\n",
       "      <td>1</td>\n",
       "      <td>1193</td>\n",
       "      <td>5</td>\n",
       "      <td>978300760</td>\n",
       "    </tr>\n",
       "    <tr>\n",
       "      <th>1</th>\n",
       "      <td>1</td>\n",
       "      <td>661</td>\n",
       "      <td>3</td>\n",
       "      <td>978302109</td>\n",
       "    </tr>\n",
       "    <tr>\n",
       "      <th>2</th>\n",
       "      <td>1</td>\n",
       "      <td>914</td>\n",
       "      <td>3</td>\n",
       "      <td>978301968</td>\n",
       "    </tr>\n",
       "    <tr>\n",
       "      <th>3</th>\n",
       "      <td>1</td>\n",
       "      <td>3408</td>\n",
       "      <td>4</td>\n",
       "      <td>978300275</td>\n",
       "    </tr>\n",
       "    <tr>\n",
       "      <th>4</th>\n",
       "      <td>1</td>\n",
       "      <td>2355</td>\n",
       "      <td>5</td>\n",
       "      <td>978824291</td>\n",
       "    </tr>\n",
       "    <tr>\n",
       "      <th>...</th>\n",
       "      <td>...</td>\n",
       "      <td>...</td>\n",
       "      <td>...</td>\n",
       "      <td>...</td>\n",
       "    </tr>\n",
       "    <tr>\n",
       "      <th>1000203</th>\n",
       "      <td>6040</td>\n",
       "      <td>1090</td>\n",
       "      <td>3</td>\n",
       "      <td>956715518</td>\n",
       "    </tr>\n",
       "    <tr>\n",
       "      <th>1000205</th>\n",
       "      <td>6040</td>\n",
       "      <td>1094</td>\n",
       "      <td>5</td>\n",
       "      <td>956704887</td>\n",
       "    </tr>\n",
       "    <tr>\n",
       "      <th>1000206</th>\n",
       "      <td>6040</td>\n",
       "      <td>562</td>\n",
       "      <td>5</td>\n",
       "      <td>956704746</td>\n",
       "    </tr>\n",
       "    <tr>\n",
       "      <th>1000207</th>\n",
       "      <td>6040</td>\n",
       "      <td>1096</td>\n",
       "      <td>4</td>\n",
       "      <td>956715648</td>\n",
       "    </tr>\n",
       "    <tr>\n",
       "      <th>1000208</th>\n",
       "      <td>6040</td>\n",
       "      <td>1097</td>\n",
       "      <td>4</td>\n",
       "      <td>956715569</td>\n",
       "    </tr>\n",
       "  </tbody>\n",
       "</table>\n",
       "<p>836478 rows × 4 columns</p>\n",
       "</div>"
      ],
      "text/plain": [
       "         user_id  movie_id  count  timestamp\n",
       "0              1      1193      5  978300760\n",
       "1              1       661      3  978302109\n",
       "2              1       914      3  978301968\n",
       "3              1      3408      4  978300275\n",
       "4              1      2355      5  978824291\n",
       "...          ...       ...    ...        ...\n",
       "1000203     6040      1090      3  956715518\n",
       "1000205     6040      1094      5  956704887\n",
       "1000206     6040       562      5  956704746\n",
       "1000207     6040      1096      4  956715648\n",
       "1000208     6040      1097      4  956715569\n",
       "\n",
       "[836478 rows x 4 columns]"
      ]
     },
     "execution_count": 5,
     "metadata": {},
     "output_type": "execute_result"
    }
   ],
   "source": [
    "ratings"
   ]
  },
  {
   "cell_type": "code",
   "execution_count": 6,
   "metadata": {
    "ExecuteTime": {
     "end_time": "2020-08-19T00:07:02.958985Z",
     "start_time": "2020-08-19T00:07:02.949374Z"
    }
   },
   "outputs": [
    {
     "data": {
      "text/html": [
       "<div>\n",
       "<style scoped>\n",
       "    .dataframe tbody tr th:only-of-type {\n",
       "        vertical-align: middle;\n",
       "    }\n",
       "\n",
       "    .dataframe tbody tr th {\n",
       "        vertical-align: top;\n",
       "    }\n",
       "\n",
       "    .dataframe thead th {\n",
       "        text-align: right;\n",
       "    }\n",
       "</style>\n",
       "<table border=\"1\" class=\"dataframe\">\n",
       "  <thead>\n",
       "    <tr style=\"text-align: right;\">\n",
       "      <th></th>\n",
       "      <th>user_id</th>\n",
       "      <th>movie_id</th>\n",
       "      <th>count</th>\n",
       "    </tr>\n",
       "  </thead>\n",
       "  <tbody>\n",
       "    <tr>\n",
       "      <th>1000198</th>\n",
       "      <td>6040</td>\n",
       "      <td>2021</td>\n",
       "      <td>3</td>\n",
       "    </tr>\n",
       "    <tr>\n",
       "      <th>1000199</th>\n",
       "      <td>6040</td>\n",
       "      <td>2022</td>\n",
       "      <td>5</td>\n",
       "    </tr>\n",
       "    <tr>\n",
       "      <th>1000200</th>\n",
       "      <td>6040</td>\n",
       "      <td>2028</td>\n",
       "      <td>5</td>\n",
       "    </tr>\n",
       "    <tr>\n",
       "      <th>1000201</th>\n",
       "      <td>6040</td>\n",
       "      <td>1080</td>\n",
       "      <td>4</td>\n",
       "    </tr>\n",
       "    <tr>\n",
       "      <th>1000202</th>\n",
       "      <td>6040</td>\n",
       "      <td>1089</td>\n",
       "      <td>4</td>\n",
       "    </tr>\n",
       "    <tr>\n",
       "      <th>1000203</th>\n",
       "      <td>6040</td>\n",
       "      <td>1090</td>\n",
       "      <td>3</td>\n",
       "    </tr>\n",
       "    <tr>\n",
       "      <th>1000205</th>\n",
       "      <td>6040</td>\n",
       "      <td>1094</td>\n",
       "      <td>5</td>\n",
       "    </tr>\n",
       "    <tr>\n",
       "      <th>1000206</th>\n",
       "      <td>6040</td>\n",
       "      <td>562</td>\n",
       "      <td>5</td>\n",
       "    </tr>\n",
       "    <tr>\n",
       "      <th>1000207</th>\n",
       "      <td>6040</td>\n",
       "      <td>1096</td>\n",
       "      <td>4</td>\n",
       "    </tr>\n",
       "    <tr>\n",
       "      <th>1000208</th>\n",
       "      <td>6040</td>\n",
       "      <td>1097</td>\n",
       "      <td>4</td>\n",
       "    </tr>\n",
       "  </tbody>\n",
       "</table>\n",
       "</div>"
      ],
      "text/plain": [
       "         user_id  movie_id  count\n",
       "1000198     6040      2021      3\n",
       "1000199     6040      2022      5\n",
       "1000200     6040      2028      5\n",
       "1000201     6040      1080      4\n",
       "1000202     6040      1089      4\n",
       "1000203     6040      1090      3\n",
       "1000205     6040      1094      5\n",
       "1000206     6040       562      5\n",
       "1000207     6040      1096      4\n",
       "1000208     6040      1097      4"
      ]
     },
     "execution_count": 6,
     "metadata": {},
     "output_type": "execute_result"
    }
   ],
   "source": [
    "# 사용하는 컬럼만 남겨줍니다.\n",
    "using_cols = ['user_id', 'movie_id', 'count']\n",
    "data = ratings[using_cols]\n",
    "data.tail(10)"
   ]
  },
  {
   "cell_type": "code",
   "execution_count": 7,
   "metadata": {
    "ExecuteTime": {
     "end_time": "2020-08-19T00:07:02.974781Z",
     "start_time": "2020-08-19T00:07:02.959779Z"
    }
   },
   "outputs": [
    {
     "data": {
      "text/html": [
       "<div>\n",
       "<style scoped>\n",
       "    .dataframe tbody tr th:only-of-type {\n",
       "        vertical-align: middle;\n",
       "    }\n",
       "\n",
       "    .dataframe tbody tr th {\n",
       "        vertical-align: top;\n",
       "    }\n",
       "\n",
       "    .dataframe thead th {\n",
       "        text-align: right;\n",
       "    }\n",
       "</style>\n",
       "<table border=\"1\" class=\"dataframe\">\n",
       "  <thead>\n",
       "    <tr style=\"text-align: right;\">\n",
       "      <th></th>\n",
       "      <th>movie_id</th>\n",
       "      <th>title</th>\n",
       "      <th>genre</th>\n",
       "    </tr>\n",
       "  </thead>\n",
       "  <tbody>\n",
       "    <tr>\n",
       "      <th>3873</th>\n",
       "      <td>3943</td>\n",
       "      <td>Bamboozled (2000)</td>\n",
       "      <td>Comedy</td>\n",
       "    </tr>\n",
       "    <tr>\n",
       "      <th>3874</th>\n",
       "      <td>3944</td>\n",
       "      <td>Bootmen (2000)</td>\n",
       "      <td>Comedy|Drama</td>\n",
       "    </tr>\n",
       "    <tr>\n",
       "      <th>3875</th>\n",
       "      <td>3945</td>\n",
       "      <td>Digimon: The Movie (2000)</td>\n",
       "      <td>Adventure|Animation|Children's</td>\n",
       "    </tr>\n",
       "    <tr>\n",
       "      <th>3876</th>\n",
       "      <td>3946</td>\n",
       "      <td>Get Carter (2000)</td>\n",
       "      <td>Action|Drama|Thriller</td>\n",
       "    </tr>\n",
       "    <tr>\n",
       "      <th>3877</th>\n",
       "      <td>3947</td>\n",
       "      <td>Get Carter (1971)</td>\n",
       "      <td>Thriller</td>\n",
       "    </tr>\n",
       "    <tr>\n",
       "      <th>3878</th>\n",
       "      <td>3948</td>\n",
       "      <td>Meet the Parents (2000)</td>\n",
       "      <td>Comedy</td>\n",
       "    </tr>\n",
       "    <tr>\n",
       "      <th>3879</th>\n",
       "      <td>3949</td>\n",
       "      <td>Requiem for a Dream (2000)</td>\n",
       "      <td>Drama</td>\n",
       "    </tr>\n",
       "    <tr>\n",
       "      <th>3880</th>\n",
       "      <td>3950</td>\n",
       "      <td>Tigerland (2000)</td>\n",
       "      <td>Drama</td>\n",
       "    </tr>\n",
       "    <tr>\n",
       "      <th>3881</th>\n",
       "      <td>3951</td>\n",
       "      <td>Two Family House (2000)</td>\n",
       "      <td>Drama</td>\n",
       "    </tr>\n",
       "    <tr>\n",
       "      <th>3882</th>\n",
       "      <td>3952</td>\n",
       "      <td>Contender, The (2000)</td>\n",
       "      <td>Drama|Thriller</td>\n",
       "    </tr>\n",
       "  </tbody>\n",
       "</table>\n",
       "</div>"
      ],
      "text/plain": [
       "      movie_id                       title                           genre\n",
       "3873      3943           Bamboozled (2000)                          Comedy\n",
       "3874      3944              Bootmen (2000)                    Comedy|Drama\n",
       "3875      3945   Digimon: The Movie (2000)  Adventure|Animation|Children's\n",
       "3876      3946           Get Carter (2000)           Action|Drama|Thriller\n",
       "3877      3947           Get Carter (1971)                        Thriller\n",
       "3878      3948     Meet the Parents (2000)                          Comedy\n",
       "3879      3949  Requiem for a Dream (2000)                           Drama\n",
       "3880      3950            Tigerland (2000)                           Drama\n",
       "3881      3951     Two Family House (2000)                           Drama\n",
       "3882      3952       Contender, The (2000)                  Drama|Thriller"
      ]
     },
     "execution_count": 7,
     "metadata": {},
     "output_type": "execute_result"
    }
   ],
   "source": [
    "# 영화 제목을 보기 위해 메타 데이터를 읽어옵니다.\n",
    "#movie_file_path=os.getenv('HOME') + '/aiffel/AIFFEL_LSG/lms/E07-Recommender_sys/data/ml-1m/movies.dat'\n",
    "movie_file_path= './data/ml-1m/movies.dat'\n",
    "cols = ['movie_id', 'title', 'genre'] \n",
    "movies = pd.read_csv(movie_file_path, sep='::', names=cols, engine='python')\n",
    "movies.tail(10)"
   ]
  },
  {
   "cell_type": "code",
   "execution_count": 8,
   "metadata": {
    "ExecuteTime": {
     "end_time": "2020-08-19T00:07:02.996467Z",
     "start_time": "2020-08-19T00:07:02.976037Z"
    }
   },
   "outputs": [
    {
     "data": {
      "text/html": [
       "<div>\n",
       "<style scoped>\n",
       "    .dataframe tbody tr th:only-of-type {\n",
       "        vertical-align: middle;\n",
       "    }\n",
       "\n",
       "    .dataframe tbody tr th {\n",
       "        vertical-align: top;\n",
       "    }\n",
       "\n",
       "    .dataframe thead th {\n",
       "        text-align: right;\n",
       "    }\n",
       "</style>\n",
       "<table border=\"1\" class=\"dataframe\">\n",
       "  <thead>\n",
       "    <tr style=\"text-align: right;\">\n",
       "      <th></th>\n",
       "      <th>user_id</th>\n",
       "      <th>gender</th>\n",
       "      <th>age</th>\n",
       "      <th>occupation</th>\n",
       "      <th>Zip-code</th>\n",
       "    </tr>\n",
       "  </thead>\n",
       "  <tbody>\n",
       "    <tr>\n",
       "      <th>6030</th>\n",
       "      <td>6031</td>\n",
       "      <td>F</td>\n",
       "      <td>18</td>\n",
       "      <td>0</td>\n",
       "      <td>45123</td>\n",
       "    </tr>\n",
       "    <tr>\n",
       "      <th>6031</th>\n",
       "      <td>6032</td>\n",
       "      <td>M</td>\n",
       "      <td>45</td>\n",
       "      <td>7</td>\n",
       "      <td>55108</td>\n",
       "    </tr>\n",
       "    <tr>\n",
       "      <th>6032</th>\n",
       "      <td>6033</td>\n",
       "      <td>M</td>\n",
       "      <td>50</td>\n",
       "      <td>13</td>\n",
       "      <td>78232</td>\n",
       "    </tr>\n",
       "    <tr>\n",
       "      <th>6033</th>\n",
       "      <td>6034</td>\n",
       "      <td>M</td>\n",
       "      <td>25</td>\n",
       "      <td>14</td>\n",
       "      <td>94117</td>\n",
       "    </tr>\n",
       "    <tr>\n",
       "      <th>6034</th>\n",
       "      <td>6035</td>\n",
       "      <td>F</td>\n",
       "      <td>25</td>\n",
       "      <td>1</td>\n",
       "      <td>78734</td>\n",
       "    </tr>\n",
       "    <tr>\n",
       "      <th>6035</th>\n",
       "      <td>6036</td>\n",
       "      <td>F</td>\n",
       "      <td>25</td>\n",
       "      <td>15</td>\n",
       "      <td>32603</td>\n",
       "    </tr>\n",
       "    <tr>\n",
       "      <th>6036</th>\n",
       "      <td>6037</td>\n",
       "      <td>F</td>\n",
       "      <td>45</td>\n",
       "      <td>1</td>\n",
       "      <td>76006</td>\n",
       "    </tr>\n",
       "    <tr>\n",
       "      <th>6037</th>\n",
       "      <td>6038</td>\n",
       "      <td>F</td>\n",
       "      <td>56</td>\n",
       "      <td>1</td>\n",
       "      <td>14706</td>\n",
       "    </tr>\n",
       "    <tr>\n",
       "      <th>6038</th>\n",
       "      <td>6039</td>\n",
       "      <td>F</td>\n",
       "      <td>45</td>\n",
       "      <td>0</td>\n",
       "      <td>01060</td>\n",
       "    </tr>\n",
       "    <tr>\n",
       "      <th>6039</th>\n",
       "      <td>6040</td>\n",
       "      <td>M</td>\n",
       "      <td>25</td>\n",
       "      <td>6</td>\n",
       "      <td>11106</td>\n",
       "    </tr>\n",
       "  </tbody>\n",
       "</table>\n",
       "</div>"
      ],
      "text/plain": [
       "      user_id gender  age  occupation Zip-code\n",
       "6030     6031      F   18           0    45123\n",
       "6031     6032      M   45           7    55108\n",
       "6032     6033      M   50          13    78232\n",
       "6033     6034      M   25          14    94117\n",
       "6034     6035      F   25           1    78734\n",
       "6035     6036      F   25          15    32603\n",
       "6036     6037      F   45           1    76006\n",
       "6037     6038      F   56           1    14706\n",
       "6038     6039      F   45           0    01060\n",
       "6039     6040      M   25           6    11106"
      ]
     },
     "execution_count": 8,
     "metadata": {},
     "output_type": "execute_result"
    }
   ],
   "source": [
    "# 유저 이름을 보기 위해 메타 데이터를 읽어옵니다.\n",
    "#movie_file_path=os.getenv('HOME') + '/aiffel/AIFFEL_LSG/lms/E07-Recommender_sys/data/ml-1m/movies.dat'\n",
    "users_file_path= './data/ml-1m/users.dat'\n",
    "users_cols = ['user_id', 'gender', 'age','occupation','Zip-code' ] \n",
    "users = pd.read_csv(users_file_path, sep='::', names=users_cols, engine='python')\n",
    "users.tail(10)"
   ]
  },
  {
   "cell_type": "code",
   "execution_count": 9,
   "metadata": {
    "ExecuteTime": {
     "end_time": "2020-08-19T00:07:03.005139Z",
     "start_time": "2020-08-19T00:07:02.998181Z"
    }
   },
   "outputs": [
    {
     "data": {
      "text/html": [
       "<div>\n",
       "<style scoped>\n",
       "    .dataframe tbody tr th:only-of-type {\n",
       "        vertical-align: middle;\n",
       "    }\n",
       "\n",
       "    .dataframe tbody tr th {\n",
       "        vertical-align: top;\n",
       "    }\n",
       "\n",
       "    .dataframe thead th {\n",
       "        text-align: right;\n",
       "    }\n",
       "</style>\n",
       "<table border=\"1\" class=\"dataframe\">\n",
       "  <thead>\n",
       "    <tr style=\"text-align: right;\">\n",
       "      <th></th>\n",
       "      <th>movie_id</th>\n",
       "      <th>title</th>\n",
       "    </tr>\n",
       "  </thead>\n",
       "  <tbody>\n",
       "    <tr>\n",
       "      <th>0</th>\n",
       "      <td>1</td>\n",
       "      <td>Toy Story (1995)</td>\n",
       "    </tr>\n",
       "    <tr>\n",
       "      <th>1</th>\n",
       "      <td>2</td>\n",
       "      <td>Jumanji (1995)</td>\n",
       "    </tr>\n",
       "    <tr>\n",
       "      <th>2</th>\n",
       "      <td>3</td>\n",
       "      <td>Grumpier Old Men (1995)</td>\n",
       "    </tr>\n",
       "    <tr>\n",
       "      <th>3</th>\n",
       "      <td>4</td>\n",
       "      <td>Waiting to Exhale (1995)</td>\n",
       "    </tr>\n",
       "    <tr>\n",
       "      <th>4</th>\n",
       "      <td>5</td>\n",
       "      <td>Father of the Bride Part II (1995)</td>\n",
       "    </tr>\n",
       "    <tr>\n",
       "      <th>...</th>\n",
       "      <td>...</td>\n",
       "      <td>...</td>\n",
       "    </tr>\n",
       "    <tr>\n",
       "      <th>3878</th>\n",
       "      <td>3948</td>\n",
       "      <td>Meet the Parents (2000)</td>\n",
       "    </tr>\n",
       "    <tr>\n",
       "      <th>3879</th>\n",
       "      <td>3949</td>\n",
       "      <td>Requiem for a Dream (2000)</td>\n",
       "    </tr>\n",
       "    <tr>\n",
       "      <th>3880</th>\n",
       "      <td>3950</td>\n",
       "      <td>Tigerland (2000)</td>\n",
       "    </tr>\n",
       "    <tr>\n",
       "      <th>3881</th>\n",
       "      <td>3951</td>\n",
       "      <td>Two Family House (2000)</td>\n",
       "    </tr>\n",
       "    <tr>\n",
       "      <th>3882</th>\n",
       "      <td>3952</td>\n",
       "      <td>Contender, The (2000)</td>\n",
       "    </tr>\n",
       "  </tbody>\n",
       "</table>\n",
       "<p>3883 rows × 2 columns</p>\n",
       "</div>"
      ],
      "text/plain": [
       "      movie_id                               title\n",
       "0            1                    Toy Story (1995)\n",
       "1            2                      Jumanji (1995)\n",
       "2            3             Grumpier Old Men (1995)\n",
       "3            4            Waiting to Exhale (1995)\n",
       "4            5  Father of the Bride Part II (1995)\n",
       "...        ...                                 ...\n",
       "3878      3948             Meet the Parents (2000)\n",
       "3879      3949          Requiem for a Dream (2000)\n",
       "3880      3950                    Tigerland (2000)\n",
       "3881      3951             Two Family House (2000)\n",
       "3882      3952               Contender, The (2000)\n",
       "\n",
       "[3883 rows x 2 columns]"
      ]
     },
     "execution_count": 9,
     "metadata": {},
     "output_type": "execute_result"
    }
   ],
   "source": [
    "#user_unique = data['user_id'].unique()\n",
    "movie_names = movies[['movie_id','title']]\n",
    "movie_names\n",
    "\n",
    "#movie_title = {val:idx for idx, val in movies['movie_id'].data,movies['title'].data}\n",
    "# 유저, 아티스트 indexing 하는 코드 idx는 index의 약자입니다.\n",
    "#user_to_idx = {v:k for k,v in users.items()}\n",
    "#movie_to_idx = {v:k for k,v in  enumerate(artist_unique)}"
   ]
  },
  {
   "cell_type": "code",
   "execution_count": 10,
   "metadata": {
    "ExecuteTime": {
     "end_time": "2020-08-19T00:07:03.032461Z",
     "start_time": "2020-08-19T00:07:03.005900Z"
    }
   },
   "outputs": [
    {
     "data": {
      "text/plain": [
       "user_id        6039\n",
       "movie_id       3628\n",
       "count             3\n",
       "timestamp    412911\n",
       "dtype: int64"
      ]
     },
     "execution_count": 10,
     "metadata": {},
     "output_type": "execute_result"
    }
   ],
   "source": [
    "ratings.nunique()"
   ]
  },
  {
   "cell_type": "markdown",
   "metadata": {
    "ExecuteTime": {
     "end_time": "2020-08-18T07:17:32.628937Z",
     "start_time": "2020-08-18T07:17:32.623182Z"
    }
   },
   "source": [
    "## data <분석\n",
    "- ratings에 있는 유니크한 영화 개수\n",
    "- rating에 있는 유니크한 사용자 수\n",
    "- 가장 인기있는 영화 30개(인기순)"
   ]
  },
  {
   "cell_type": "code",
   "execution_count": 11,
   "metadata": {
    "ExecuteTime": {
     "end_time": "2020-08-19T00:07:03.038481Z",
     "start_time": "2020-08-19T00:07:03.033219Z"
    }
   },
   "outputs": [
    {
     "data": {
      "text/plain": [
       "3628"
      ]
     },
     "execution_count": 11,
     "metadata": {},
     "output_type": "execute_result"
    }
   ],
   "source": [
    "# 영화 개수\n",
    "data['movie_id'].nunique()"
   ]
  },
  {
   "cell_type": "code",
   "execution_count": 12,
   "metadata": {
    "ExecuteTime": {
     "end_time": "2020-08-19T00:07:03.043480Z",
     "start_time": "2020-08-19T00:07:03.039214Z"
    }
   },
   "outputs": [
    {
     "data": {
      "text/plain": [
       "6039"
      ]
     },
     "execution_count": 12,
     "metadata": {},
     "output_type": "execute_result"
    }
   ],
   "source": [
    "# 사용자 수\n",
    "data['user_id'].nunique()"
   ]
  },
  {
   "cell_type": "code",
   "execution_count": 13,
   "metadata": {
    "ExecuteTime": {
     "end_time": "2020-08-19T00:07:03.059784Z",
     "start_time": "2020-08-19T00:07:03.044178Z"
    }
   },
   "outputs": [
    {
     "data": {
      "text/plain": [
       "movie_id\n",
       "2858    3211\n",
       "260     2910\n",
       "1196    2885\n",
       "1210    2716\n",
       "2028    2561\n",
       "589     2509\n",
       "593     2498\n",
       "1198    2473\n",
       "1270    2460\n",
       "2571    2434\n",
       "480     2413\n",
       "2762    2385\n",
       "608     2371\n",
       "110     2314\n",
       "1580    2297\n",
       "527     2257\n",
       "1197    2252\n",
       "2396    2213\n",
       "1617    2210\n",
       "318     2194\n",
       "858     2167\n",
       "1265    2121\n",
       "1097    2102\n",
       "2997    2066\n",
       "2716    2051\n",
       "296     2030\n",
       "356     2022\n",
       "1240    2019\n",
       "1       2000\n",
       "457     1941\n",
       "Name: user_id, dtype: int64"
      ]
     },
     "execution_count": 13,
     "metadata": {},
     "output_type": "execute_result"
    }
   ],
   "source": [
    "# 가장 인기 있는 영화 30개 인기수\n",
    "#TODO movie id 와 movies title 매핑\n",
    "movie_count= data.groupby('movie_id')['user_id'].count()\n",
    "#movie_count['movie_id'].map(movies.get).dropna()\n",
    "#print(movies[movies['movie_id'] == 2858]['title'])   movies[movie_count['movie_id'] == movies['movie_id']]['title']\n",
    "movie_count.sort_values(ascending=False).head(30)"
   ]
  },
  {
   "cell_type": "code",
   "execution_count": 14,
   "metadata": {
    "ExecuteTime": {
     "end_time": "2020-08-19T00:07:03.063759Z",
     "start_time": "2020-08-19T00:07:03.060499Z"
    }
   },
   "outputs": [
    {
     "name": "stdout",
     "output_type": "stream",
     "text": [
      "2789    American Beauty (1999)\n",
      "Name: title, dtype: object\n"
     ]
    }
   ],
   "source": [
    "print(movies[movies['movie_id'] == 2858]['title']) "
   ]
  },
  {
   "cell_type": "markdown",
   "metadata": {},
   "source": [
    "## data add \n",
    "- 내가 선호하는 영화 5가지 골라서 rating 추가\n"
   ]
  },
  {
   "cell_type": "code",
   "execution_count": 15,
   "metadata": {
    "ExecuteTime": {
     "end_time": "2020-08-19T00:07:03.070992Z",
     "start_time": "2020-08-19T00:07:03.064566Z"
    }
   },
   "outputs": [
    {
     "data": {
      "text/html": [
       "<div>\n",
       "<style scoped>\n",
       "    .dataframe tbody tr th:only-of-type {\n",
       "        vertical-align: middle;\n",
       "    }\n",
       "\n",
       "    .dataframe tbody tr th {\n",
       "        vertical-align: top;\n",
       "    }\n",
       "\n",
       "    .dataframe thead th {\n",
       "        text-align: right;\n",
       "    }\n",
       "</style>\n",
       "<table border=\"1\" class=\"dataframe\">\n",
       "  <thead>\n",
       "    <tr style=\"text-align: right;\">\n",
       "      <th></th>\n",
       "      <th>movie_id</th>\n",
       "      <th>title</th>\n",
       "      <th>genre</th>\n",
       "    </tr>\n",
       "  </thead>\n",
       "  <tbody>\n",
       "    <tr>\n",
       "      <th>8</th>\n",
       "      <td>9</td>\n",
       "      <td>Sudden Death (1995)</td>\n",
       "      <td>Action</td>\n",
       "    </tr>\n",
       "    <tr>\n",
       "      <th>19</th>\n",
       "      <td>20</td>\n",
       "      <td>Money Train (1995)</td>\n",
       "      <td>Action</td>\n",
       "    </tr>\n",
       "    <tr>\n",
       "      <th>70</th>\n",
       "      <td>71</td>\n",
       "      <td>Fair Game (1995)</td>\n",
       "      <td>Action</td>\n",
       "    </tr>\n",
       "    <tr>\n",
       "      <th>143</th>\n",
       "      <td>145</td>\n",
       "      <td>Bad Boys (1995)</td>\n",
       "      <td>Action</td>\n",
       "    </tr>\n",
       "    <tr>\n",
       "      <th>202</th>\n",
       "      <td>204</td>\n",
       "      <td>Under Siege 2: Dark Territory (1995)</td>\n",
       "      <td>Action</td>\n",
       "    </tr>\n",
       "    <tr>\n",
       "      <th>224</th>\n",
       "      <td>227</td>\n",
       "      <td>Drop Zone (1994)</td>\n",
       "      <td>Action</td>\n",
       "    </tr>\n",
       "    <tr>\n",
       "      <th>248</th>\n",
       "      <td>251</td>\n",
       "      <td>Hunted, The (1995)</td>\n",
       "      <td>Action</td>\n",
       "    </tr>\n",
       "    <tr>\n",
       "      <th>312</th>\n",
       "      <td>315</td>\n",
       "      <td>Specialist, The (1994)</td>\n",
       "      <td>Action</td>\n",
       "    </tr>\n",
       "    <tr>\n",
       "      <th>380</th>\n",
       "      <td>384</td>\n",
       "      <td>Bad Company (1995)</td>\n",
       "      <td>Action</td>\n",
       "    </tr>\n",
       "    <tr>\n",
       "      <th>389</th>\n",
       "      <td>393</td>\n",
       "      <td>Street Fighter (1994)</td>\n",
       "      <td>Action</td>\n",
       "    </tr>\n",
       "  </tbody>\n",
       "</table>\n",
       "</div>"
      ],
      "text/plain": [
       "     movie_id                                 title   genre\n",
       "8           9                   Sudden Death (1995)  Action\n",
       "19         20                    Money Train (1995)  Action\n",
       "70         71                      Fair Game (1995)  Action\n",
       "143       145                       Bad Boys (1995)  Action\n",
       "202       204  Under Siege 2: Dark Territory (1995)  Action\n",
       "224       227                      Drop Zone (1994)  Action\n",
       "248       251                    Hunted, The (1995)  Action\n",
       "312       315                Specialist, The (1994)  Action\n",
       "380       384                    Bad Company (1995)  Action\n",
       "389       393                 Street Fighter (1994)  Action"
      ]
     },
     "execution_count": 15,
     "metadata": {},
     "output_type": "execute_result"
    }
   ],
   "source": [
    "movies[movies[\"genre\"]== \"Action\"].head(10)\n",
    "#movies[movies[\"genre\"]== \"Drama\"].head(30)"
   ]
  },
  {
   "cell_type": "code",
   "execution_count": 16,
   "metadata": {
    "ExecuteTime": {
     "end_time": "2020-08-19T00:07:03.076732Z",
     "start_time": "2020-08-19T00:07:03.071687Z"
    }
   },
   "outputs": [
    {
     "data": {
      "text/plain": [
       "380    384\n",
       "Name: movie_id, dtype: int64"
      ]
     },
     "execution_count": 16,
     "metadata": {},
     "output_type": "execute_result"
    }
   ],
   "source": [
    "\n",
    "movies[movies['title']=='Bad Company (1995)']['movie_id']\n"
   ]
  },
  {
   "cell_type": "code",
   "execution_count": 17,
   "metadata": {
    "ExecuteTime": {
     "end_time": "2020-08-19T00:07:03.080712Z",
     "start_time": "2020-08-19T00:07:03.077544Z"
    }
   },
   "outputs": [],
   "source": [
    "my_favorite = ['Bad Company (1995)' , \n",
    "               'Street Fighter (1994)' ,\n",
    "               'Bad Boys (1995)' ,\n",
    "               'Sudden Death (1995)' ,\n",
    "               'Fair Game (1995)']\n",
    "my_favorite_id= [384, 393, 145, 9, 71 ]\n"
   ]
  },
  {
   "cell_type": "code",
   "execution_count": 18,
   "metadata": {
    "ExecuteTime": {
     "end_time": "2020-08-19T00:07:03.088428Z",
     "start_time": "2020-08-19T00:07:03.081708Z"
    }
   },
   "outputs": [
    {
     "data": {
      "text/html": [
       "<div>\n",
       "<style scoped>\n",
       "    .dataframe tbody tr th:only-of-type {\n",
       "        vertical-align: middle;\n",
       "    }\n",
       "\n",
       "    .dataframe tbody tr th {\n",
       "        vertical-align: top;\n",
       "    }\n",
       "\n",
       "    .dataframe thead th {\n",
       "        text-align: right;\n",
       "    }\n",
       "</style>\n",
       "<table border=\"1\" class=\"dataframe\">\n",
       "  <thead>\n",
       "    <tr style=\"text-align: right;\">\n",
       "      <th></th>\n",
       "      <th>user_id</th>\n",
       "      <th>movie_id</th>\n",
       "      <th>count</th>\n",
       "    </tr>\n",
       "  </thead>\n",
       "  <tbody>\n",
       "    <tr>\n",
       "      <th>0</th>\n",
       "      <td>1</td>\n",
       "      <td>1193</td>\n",
       "      <td>5</td>\n",
       "    </tr>\n",
       "    <tr>\n",
       "      <th>1</th>\n",
       "      <td>1</td>\n",
       "      <td>661</td>\n",
       "      <td>3</td>\n",
       "    </tr>\n",
       "    <tr>\n",
       "      <th>2</th>\n",
       "      <td>1</td>\n",
       "      <td>914</td>\n",
       "      <td>3</td>\n",
       "    </tr>\n",
       "    <tr>\n",
       "      <th>3</th>\n",
       "      <td>1</td>\n",
       "      <td>3408</td>\n",
       "      <td>4</td>\n",
       "    </tr>\n",
       "    <tr>\n",
       "      <th>4</th>\n",
       "      <td>1</td>\n",
       "      <td>2355</td>\n",
       "      <td>5</td>\n",
       "    </tr>\n",
       "    <tr>\n",
       "      <th>...</th>\n",
       "      <td>...</td>\n",
       "      <td>...</td>\n",
       "      <td>...</td>\n",
       "    </tr>\n",
       "    <tr>\n",
       "      <th>1000203</th>\n",
       "      <td>6040</td>\n",
       "      <td>1090</td>\n",
       "      <td>3</td>\n",
       "    </tr>\n",
       "    <tr>\n",
       "      <th>1000205</th>\n",
       "      <td>6040</td>\n",
       "      <td>1094</td>\n",
       "      <td>5</td>\n",
       "    </tr>\n",
       "    <tr>\n",
       "      <th>1000206</th>\n",
       "      <td>6040</td>\n",
       "      <td>562</td>\n",
       "      <td>5</td>\n",
       "    </tr>\n",
       "    <tr>\n",
       "      <th>1000207</th>\n",
       "      <td>6040</td>\n",
       "      <td>1096</td>\n",
       "      <td>4</td>\n",
       "    </tr>\n",
       "    <tr>\n",
       "      <th>1000208</th>\n",
       "      <td>6040</td>\n",
       "      <td>1097</td>\n",
       "      <td>4</td>\n",
       "    </tr>\n",
       "  </tbody>\n",
       "</table>\n",
       "<p>836478 rows × 3 columns</p>\n",
       "</div>"
      ],
      "text/plain": [
       "         user_id  movie_id  count\n",
       "0              1      1193      5\n",
       "1              1       661      3\n",
       "2              1       914      3\n",
       "3              1      3408      4\n",
       "4              1      2355      5\n",
       "...          ...       ...    ...\n",
       "1000203     6040      1090      3\n",
       "1000205     6040      1094      5\n",
       "1000206     6040       562      5\n",
       "1000207     6040      1096      4\n",
       "1000208     6040      1097      4\n",
       "\n",
       "[836478 rows x 3 columns]"
      ]
     },
     "execution_count": 18,
     "metadata": {},
     "output_type": "execute_result"
    }
   ],
   "source": [
    "data"
   ]
  },
  {
   "cell_type": "code",
   "execution_count": 19,
   "metadata": {
    "ExecuteTime": {
     "end_time": "2020-08-19T00:07:03.095902Z",
     "start_time": "2020-08-19T00:07:03.089219Z"
    }
   },
   "outputs": [
    {
     "data": {
      "text/html": [
       "<div>\n",
       "<style scoped>\n",
       "    .dataframe tbody tr th:only-of-type {\n",
       "        vertical-align: middle;\n",
       "    }\n",
       "\n",
       "    .dataframe tbody tr th {\n",
       "        vertical-align: top;\n",
       "    }\n",
       "\n",
       "    .dataframe thead th {\n",
       "        text-align: right;\n",
       "    }\n",
       "</style>\n",
       "<table border=\"1\" class=\"dataframe\">\n",
       "  <thead>\n",
       "    <tr style=\"text-align: right;\">\n",
       "      <th></th>\n",
       "      <th>user_id</th>\n",
       "      <th>movie_id</th>\n",
       "      <th>count</th>\n",
       "      <th>timestamp</th>\n",
       "    </tr>\n",
       "  </thead>\n",
       "  <tbody>\n",
       "    <tr>\n",
       "      <th>0</th>\n",
       "      <td>1</td>\n",
       "      <td>1193</td>\n",
       "      <td>5</td>\n",
       "      <td>978300760</td>\n",
       "    </tr>\n",
       "    <tr>\n",
       "      <th>1</th>\n",
       "      <td>1</td>\n",
       "      <td>661</td>\n",
       "      <td>3</td>\n",
       "      <td>978302109</td>\n",
       "    </tr>\n",
       "    <tr>\n",
       "      <th>2</th>\n",
       "      <td>1</td>\n",
       "      <td>914</td>\n",
       "      <td>3</td>\n",
       "      <td>978301968</td>\n",
       "    </tr>\n",
       "    <tr>\n",
       "      <th>3</th>\n",
       "      <td>1</td>\n",
       "      <td>3408</td>\n",
       "      <td>4</td>\n",
       "      <td>978300275</td>\n",
       "    </tr>\n",
       "    <tr>\n",
       "      <th>4</th>\n",
       "      <td>1</td>\n",
       "      <td>2355</td>\n",
       "      <td>5</td>\n",
       "      <td>978824291</td>\n",
       "    </tr>\n",
       "    <tr>\n",
       "      <th>...</th>\n",
       "      <td>...</td>\n",
       "      <td>...</td>\n",
       "      <td>...</td>\n",
       "      <td>...</td>\n",
       "    </tr>\n",
       "    <tr>\n",
       "      <th>1000203</th>\n",
       "      <td>6040</td>\n",
       "      <td>1090</td>\n",
       "      <td>3</td>\n",
       "      <td>956715518</td>\n",
       "    </tr>\n",
       "    <tr>\n",
       "      <th>1000205</th>\n",
       "      <td>6040</td>\n",
       "      <td>1094</td>\n",
       "      <td>5</td>\n",
       "      <td>956704887</td>\n",
       "    </tr>\n",
       "    <tr>\n",
       "      <th>1000206</th>\n",
       "      <td>6040</td>\n",
       "      <td>562</td>\n",
       "      <td>5</td>\n",
       "      <td>956704746</td>\n",
       "    </tr>\n",
       "    <tr>\n",
       "      <th>1000207</th>\n",
       "      <td>6040</td>\n",
       "      <td>1096</td>\n",
       "      <td>4</td>\n",
       "      <td>956715648</td>\n",
       "    </tr>\n",
       "    <tr>\n",
       "      <th>1000208</th>\n",
       "      <td>6040</td>\n",
       "      <td>1097</td>\n",
       "      <td>4</td>\n",
       "      <td>956715569</td>\n",
       "    </tr>\n",
       "  </tbody>\n",
       "</table>\n",
       "<p>836478 rows × 4 columns</p>\n",
       "</div>"
      ],
      "text/plain": [
       "         user_id  movie_id  count  timestamp\n",
       "0              1      1193      5  978300760\n",
       "1              1       661      3  978302109\n",
       "2              1       914      3  978301968\n",
       "3              1      3408      4  978300275\n",
       "4              1      2355      5  978824291\n",
       "...          ...       ...    ...        ...\n",
       "1000203     6040      1090      3  956715518\n",
       "1000205     6040      1094      5  956704887\n",
       "1000206     6040       562      5  956704746\n",
       "1000207     6040      1096      4  956715648\n",
       "1000208     6040      1097      4  956715569\n",
       "\n",
       "[836478 rows x 4 columns]"
      ]
     },
     "execution_count": 19,
     "metadata": {},
     "output_type": "execute_result"
    }
   ],
   "source": [
    "ratings"
   ]
  },
  {
   "cell_type": "code",
   "execution_count": 65,
   "metadata": {
    "ExecuteTime": {
     "end_time": "2020-08-19T00:27:36.484769Z",
     "start_time": "2020-08-19T00:27:36.464657Z"
    }
   },
   "outputs": [
    {
     "data": {
      "text/html": [
       "<div>\n",
       "<style scoped>\n",
       "    .dataframe tbody tr th:only-of-type {\n",
       "        vertical-align: middle;\n",
       "    }\n",
       "\n",
       "    .dataframe tbody tr th {\n",
       "        vertical-align: top;\n",
       "    }\n",
       "\n",
       "    .dataframe thead th {\n",
       "        text-align: right;\n",
       "    }\n",
       "</style>\n",
       "<table border=\"1\" class=\"dataframe\">\n",
       "  <thead>\n",
       "    <tr style=\"text-align: right;\">\n",
       "      <th></th>\n",
       "      <th>user_id</th>\n",
       "      <th>movie_id</th>\n",
       "      <th>count</th>\n",
       "    </tr>\n",
       "  </thead>\n",
       "  <tbody>\n",
       "    <tr>\n",
       "      <th>1000203</th>\n",
       "      <td>6040</td>\n",
       "      <td>1090</td>\n",
       "      <td>3</td>\n",
       "    </tr>\n",
       "    <tr>\n",
       "      <th>1000205</th>\n",
       "      <td>6040</td>\n",
       "      <td>1094</td>\n",
       "      <td>5</td>\n",
       "    </tr>\n",
       "    <tr>\n",
       "      <th>1000206</th>\n",
       "      <td>6040</td>\n",
       "      <td>562</td>\n",
       "      <td>5</td>\n",
       "    </tr>\n",
       "    <tr>\n",
       "      <th>1000207</th>\n",
       "      <td>6040</td>\n",
       "      <td>1096</td>\n",
       "      <td>4</td>\n",
       "    </tr>\n",
       "    <tr>\n",
       "      <th>1000208</th>\n",
       "      <td>6040</td>\n",
       "      <td>1097</td>\n",
       "      <td>4</td>\n",
       "    </tr>\n",
       "    <tr>\n",
       "      <th>0</th>\n",
       "      <td>6041</td>\n",
       "      <td>384</td>\n",
       "      <td>4</td>\n",
       "    </tr>\n",
       "    <tr>\n",
       "      <th>1</th>\n",
       "      <td>6041</td>\n",
       "      <td>393</td>\n",
       "      <td>4</td>\n",
       "    </tr>\n",
       "    <tr>\n",
       "      <th>2</th>\n",
       "      <td>6041</td>\n",
       "      <td>145</td>\n",
       "      <td>4</td>\n",
       "    </tr>\n",
       "    <tr>\n",
       "      <th>3</th>\n",
       "      <td>6041</td>\n",
       "      <td>9</td>\n",
       "      <td>4</td>\n",
       "    </tr>\n",
       "    <tr>\n",
       "      <th>4</th>\n",
       "      <td>6041</td>\n",
       "      <td>71</td>\n",
       "      <td>4</td>\n",
       "    </tr>\n",
       "  </tbody>\n",
       "</table>\n",
       "</div>"
      ],
      "text/plain": [
       "         user_id  movie_id  count\n",
       "1000203     6040      1090      3\n",
       "1000205     6040      1094      5\n",
       "1000206     6040       562      5\n",
       "1000207     6040      1096      4\n",
       "1000208     6040      1097      4\n",
       "0           6041       384      4\n",
       "1           6041       393      4\n",
       "2           6041       145      4\n",
       "3           6041         9      4\n",
       "4           6041        71      4"
      ]
     },
     "execution_count": 65,
     "metadata": {},
     "output_type": "execute_result"
    }
   ],
   "source": [
    " \n",
    "\n",
    "\n",
    "my_playlist = pd.DataFrame({'user_id': [6041]*5, \n",
    "                            'movie_id':my_favorite_id, \n",
    "                            'count':4})\n",
    "\n",
    "if not data.isin({'user_id':['6041']})['user_id'].any(): \n",
    "    data = data.append(my_playlist)                           # 위에 임의로 만든 my_favorite 데이터를 추가해 줍니다. \n",
    "#data = data.append(my_playlist)     \n",
    "data.tail(10)"
   ]
  },
  {
   "cell_type": "code",
   "execution_count": 70,
   "metadata": {
    "ExecuteTime": {
     "end_time": "2020-08-19T00:31:25.109563Z",
     "start_time": "2020-08-19T00:31:24.239166Z"
    }
   },
   "outputs": [],
   "source": [
    "data[[\"user_id\",\"movie_id\",\"count\"]].to_csv(\"test2.csv\")"
   ]
  },
  {
   "cell_type": "code",
   "execution_count": 21,
   "metadata": {
    "ExecuteTime": {
     "end_time": "2020-08-19T00:07:03.123230Z",
     "start_time": "2020-08-19T00:07:03.118477Z"
    }
   },
   "outputs": [
    {
     "data": {
      "text/plain": [
       "6040"
      ]
     },
     "execution_count": 21,
     "metadata": {},
     "output_type": "execute_result"
    }
   ],
   "source": [
    "data['user_id'].nunique()\n",
    "# 1명 추가 됨..."
   ]
  },
  {
   "cell_type": "code",
   "execution_count": 53,
   "metadata": {
    "ExecuteTime": {
     "end_time": "2020-08-19T00:17:31.494116Z",
     "start_time": "2020-08-19T00:17:31.473640Z"
    }
   },
   "outputs": [
    {
     "data": {
      "text/plain": [
       "user_id     6040\n",
       "movie_id    3628\n",
       "count          3\n",
       "dtype: int64"
      ]
     },
     "execution_count": 53,
     "metadata": {},
     "output_type": "execute_result"
    }
   ],
   "source": [
    "data.nunique()"
   ]
  },
  {
   "cell_type": "code",
   "execution_count": 64,
   "metadata": {
    "ExecuteTime": {
     "end_time": "2020-08-19T00:19:23.061613Z",
     "start_time": "2020-08-19T00:19:23.052767Z"
    }
   },
   "outputs": [
    {
     "data": {
      "text/plain": [
       "user_id     0\n",
       "movie_id    0\n",
       "count       0\n",
       "dtype: int64"
      ]
     },
     "execution_count": 64,
     "metadata": {},
     "output_type": "execute_result"
    }
   ],
   "source": [
    "#data['user_id'].isnull().values.sum()\n",
    "#data['movie_id'].isnull().values.sum()\n",
    "data.isnull().sum()"
   ]
  },
  {
   "cell_type": "markdown",
   "metadata": {
    "ExecuteTime": {
     "end_time": "2020-08-18T07:18:21.976773Z",
     "start_time": "2020-08-18T07:18:21.975086Z"
    }
   },
   "source": [
    "## csr matrix "
   ]
  },
  {
   "cell_type": "code",
   "execution_count": 49,
   "metadata": {
    "ExecuteTime": {
     "end_time": "2020-08-19T00:11:59.878055Z",
     "start_time": "2020-08-19T00:11:59.830076Z"
    }
   },
   "outputs": [
    {
     "name": "stdout",
     "output_type": "stream",
     "text": [
      "6040 3628\n"
     ]
    },
    {
     "data": {
      "text/plain": [
       "<6050x3955 sparse matrix of type '<class 'numpy.int64'>'\n",
       "\twith 836483 stored elements in Compressed Sparse Row format>"
      ]
     },
     "execution_count": 49,
     "metadata": {},
     "output_type": "execute_result"
    }
   ],
   "source": [
    "#from scipy.sparse import csr_matrix\n",
    "\n",
    "\n",
    "num_user = data['user_id'].nunique()\n",
    "num_movie = data['movie_id'].nunique()\n",
    "print(num_user, num_movie)\n",
    "# print(data2['count'].shape)\n",
    "\n",
    "# print(type(data))\n",
    "# print(type(num_user))\n",
    "# print(type(data2.user_id))\n",
    "# print(type(data2['count']))\n",
    "\n",
    "#csr_data = csr_matrix((data['count'], (data.user_id, data.movie_id)), shape= (num_user, num_movie)) \n",
    "csr_data = csr_matrix((data['count'], (data.user_id, data.movie_id)), shape= (6050, 3955)) \n",
    "csr_data"
   ]
  },
  {
   "cell_type": "code",
   "execution_count": 24,
   "metadata": {
    "ExecuteTime": {
     "end_time": "2020-08-19T00:07:03.194263Z",
     "start_time": "2020-08-19T00:07:03.177655Z"
    }
   },
   "outputs": [
    {
     "data": {
      "text/plain": [
       "user_id     6040\n",
       "movie_id    3628\n",
       "count          3\n",
       "dtype: int64"
      ]
     },
     "execution_count": 24,
     "metadata": {},
     "output_type": "execute_result"
    }
   ],
   "source": [
    "data.nunique()"
   ]
  },
  {
   "cell_type": "code",
   "execution_count": 25,
   "metadata": {
    "ExecuteTime": {
     "end_time": "2020-08-19T00:07:03.196689Z",
     "start_time": "2020-08-19T00:07:03.195393Z"
    },
    "scrolled": true
   },
   "outputs": [],
   "source": [
    "# num_user = ratings['user_id'].nunique()\n",
    "# num_movie = ratings['movie_id'].nunique()\n",
    "# print(num_user, num_movie)\n",
    "# print(ratings['count'].shape)\n",
    "\n",
    "# csr_data = csr_matrix((ratings['count'], (ratings['user_id'], ratings['movie_id'])), shape= (num_user,num_movie))\n",
    "# csr_data"
   ]
  },
  {
   "cell_type": "code",
   "execution_count": null,
   "metadata": {},
   "outputs": [],
   "source": []
  },
  {
   "cell_type": "markdown",
   "metadata": {},
   "source": [
    "## als_model = AlternatingLeastSquares 모델 훈련"
   ]
  },
  {
   "cell_type": "code",
   "execution_count": 26,
   "metadata": {
    "ExecuteTime": {
     "end_time": "2020-08-19T00:07:03.200644Z",
     "start_time": "2020-08-19T00:07:03.197514Z"
    }
   },
   "outputs": [],
   "source": [
    "# Implicit AlternatingLeastSquares 모델의 선언\n",
    "os.environ['OPENBLAS_NUM_THREADS']='1'\n",
    "os.environ['KMP_DUPLICATE_LIB_OK']='True'\n",
    "os.environ['MKL_NUM_THREADS']='1'\n",
    "\n",
    "als_model = AlternatingLeastSquares(factors=100, regularization=0.01, use_gpu=False, iterations=15, dtype=np.float32)"
   ]
  },
  {
   "cell_type": "code",
   "execution_count": 27,
   "metadata": {
    "ExecuteTime": {
     "end_time": "2020-08-19T00:07:03.205041Z",
     "start_time": "2020-08-19T00:07:03.201518Z"
    }
   },
   "outputs": [
    {
     "data": {
      "text/plain": [
       "<4000x6050 sparse matrix of type '<class 'numpy.int64'>'\n",
       "\twith 836483 stored elements in Compressed Sparse Column format>"
      ]
     },
     "execution_count": 27,
     "metadata": {},
     "output_type": "execute_result"
    }
   ],
   "source": [
    "# als 모델은 input으로 (item X user 꼴의 matrix를 받기 때문에 Transpose해줍니다.)\n",
    "csr_data_transpose = csr_data.T\n",
    "csr_data_transpose"
   ]
  },
  {
   "cell_type": "code",
   "execution_count": 28,
   "metadata": {
    "ExecuteTime": {
     "end_time": "2020-08-19T00:07:04.063431Z",
     "start_time": "2020-08-19T00:07:03.205726Z"
    }
   },
   "outputs": [
    {
     "data": {
      "application/vnd.jupyter.widget-view+json": {
       "model_id": "64a7c187314c4d5b9789705bd837dbbe",
       "version_major": 2,
       "version_minor": 0
      },
      "text/plain": [
       "HBox(children=(FloatProgress(value=0.0, max=15.0), HTML(value='')))"
      ]
     },
     "metadata": {},
     "output_type": "display_data"
    },
    {
     "name": "stdout",
     "output_type": "stream",
     "text": [
      "\n"
     ]
    }
   ],
   "source": [
    "# 모델 훈련\n",
    "als_model.fit(csr_data_transpose)"
   ]
  },
  {
   "cell_type": "markdown",
   "metadata": {},
   "source": [
    "## 선호도 파악"
   ]
  },
  {
   "cell_type": "code",
   "execution_count": 29,
   "metadata": {
    "ExecuteTime": {
     "end_time": "2020-08-19T00:07:04.068195Z",
     "start_time": "2020-08-19T00:07:04.064522Z"
    }
   },
   "outputs": [
    {
     "name": "stdout",
     "output_type": "stream",
     "text": [
      "[-0.1665621  -0.10275874  0.44689727 -0.1479058   0.023967    0.462207\n",
      "  0.2502834  -0.02279227  0.09438989 -0.20949285 -0.09216103 -0.180838\n",
      "  0.04526764  0.16610959  0.02379337 -0.00357725 -0.10907859 -0.3770728\n",
      " -0.26964825  0.05131929 -0.17688212  0.20705484 -0.21320732 -0.13183689\n",
      " -0.11719157  0.16330254  0.24423878  0.17993654 -0.01235646  0.42157263\n",
      " -0.07987457 -0.22869594 -0.31427386  0.0384491   0.06532506  0.8074599\n",
      "  0.02246883 -0.13226344 -0.1430438  -0.28053337 -0.19286276  0.12383951\n",
      "  0.0287216   0.2708279   0.08363315 -0.352225   -0.19985515 -0.32705307\n",
      "  0.04766368 -0.3433297   0.38694856 -0.29831335 -0.09698924  0.34121293\n",
      "  0.20426582 -0.03972798  0.23736015 -0.49683857 -0.43533355 -0.02248572\n",
      "  0.36807573  0.12267456 -0.27025318  0.13019718  0.25813025 -0.05334624\n",
      "  0.32286993  0.25396562 -0.09650721 -0.19081087  0.04461854 -0.14073004\n",
      "  0.20382237 -0.16123973  0.19370931 -0.0115815  -0.27466017  0.02671979\n",
      "  0.0949292  -0.13117734 -0.2249933   0.32581782 -0.16224502 -0.1027789\n",
      "  0.06282426  0.21232097 -0.08433459  0.07172898 -0.10073642  0.19666064\n",
      "  0.27270746 -0.01097516 -0.11808262  0.40040985  0.2368416   0.18921219\n",
      "  0.15137702 -0.20575376  0.12155422 -0.02257016]\n"
     ]
    }
   ],
   "source": [
    "# 나의 선호도\n",
    "me_idx = 6041\n",
    "me_vector  = als_model.user_factors[me_idx]\n",
    "print(me_vector)\n"
   ]
  },
  {
   "cell_type": "code",
   "execution_count": 30,
   "metadata": {
    "ExecuteTime": {
     "end_time": "2020-08-19T00:07:04.082504Z",
     "start_time": "2020-08-19T00:07:04.069904Z"
    }
   },
   "outputs": [
    {
     "name": "stdout",
     "output_type": "stream",
     "text": [
      "[-1.90847332e-03  2.08072423e-04  8.06523021e-03  4.78509348e-03\n",
      "  3.99766769e-03  1.21818166e-02  8.68685823e-03  1.10822184e-04\n",
      "  8.22159182e-03 -5.87898016e-04 -2.97538907e-04  8.52023484e-04\n",
      "  4.76880372e-03  1.08619314e-02  1.02360277e-02  9.84068774e-03\n",
      "  2.71388120e-03 -2.12565158e-03  5.66572882e-03  1.63922366e-03\n",
      " -6.76134741e-03  5.16194245e-03 -2.29209010e-03  8.74386053e-04\n",
      "  1.05311206e-04  1.06032267e-02  2.76224758e-03  4.30257572e-03\n",
      "  5.23501681e-03  6.41699741e-03 -4.76810802e-03  1.16586010e-03\n",
      " -1.04255637e-03  6.34631887e-03  4.57480922e-03  1.12881726e-02\n",
      "  2.04535318e-03  8.31648591e-04  1.04885374e-03 -1.80631597e-03\n",
      "  3.59573169e-04  2.44284095e-03  3.34639102e-03  8.20365082e-03\n",
      "  9.75791737e-03 -3.05911247e-03  3.30506195e-03 -2.13857717e-03\n",
      "  2.85179052e-03  1.40165922e-03  1.44432262e-02 -1.20749976e-03\n",
      " -4.96300578e-04  4.92422935e-03  2.99102953e-03  5.52799040e-03\n",
      "  7.59191951e-03 -4.58538299e-03 -4.65775421e-03  1.42751576e-03\n",
      "  9.18857288e-03  4.21785191e-03  3.66203929e-03  7.48659112e-03\n",
      "  9.25281085e-03  7.83614721e-03  9.84350871e-03  9.23950877e-03\n",
      " -2.41119438e-03  1.52065000e-03 -2.59027421e-03  5.00173355e-03\n",
      "  3.89706553e-03  7.37350027e-04  9.27312300e-03  4.64648334e-03\n",
      "  1.16571486e-04  3.79520794e-03  1.59190875e-03  1.70841196e-03\n",
      "  4.28767130e-03  1.18334927e-02  6.48904638e-03  5.14689041e-03\n",
      "  1.75500370e-03  5.67264156e-03 -9.89317894e-04  7.51514966e-03\n",
      "  3.45627801e-03  8.90161283e-03  4.36363788e-03  2.93125003e-03\n",
      "  5.87070244e-04  1.11584459e-02  5.38653741e-03  4.11911728e-03\n",
      "  9.44919232e-03  1.68059417e-03  8.40560533e-05  5.14528574e-03]\n"
     ]
    },
    {
     "data": {
      "text/plain": [
       "0.07643154"
      ]
     },
     "execution_count": 30,
     "metadata": {},
     "output_type": "execute_result"
    }
   ],
   "source": [
    "#'Fair Game (1995)'  idx 71 선호도   movie_names\n",
    "fg_idx = 71\n",
    "fg_vector = als_model.item_factors[fg_idx]\n",
    "print(fg_vector)\n",
    "\n",
    "np.dot(me_vector, fg_vector)"
   ]
  },
  {
   "cell_type": "code",
   "execution_count": 31,
   "metadata": {
    "ExecuteTime": {
     "end_time": "2020-08-19T00:07:04.089645Z",
     "start_time": "2020-08-19T00:07:04.083515Z"
    }
   },
   "outputs": [
    {
     "name": "stdout",
     "output_type": "stream",
     "text": [
      "[-3.72860022e-03 -4.80703857e-05  4.24477691e-03  4.01358586e-03\n",
      "  3.36781051e-03  1.18095279e-02  6.13664917e-04 -2.96983926e-04\n",
      "  5.27595915e-03  8.59506428e-04 -9.58924531e-04 -1.04120394e-04\n",
      "  5.90657024e-03  4.71514044e-03  1.00953281e-02 -1.27892505e-04\n",
      "  3.48124327e-03 -2.74746912e-03  5.80488704e-03  3.37352487e-03\n",
      "  6.78277633e-04  4.25438164e-03 -2.68253707e-03 -1.51120685e-03\n",
      "  5.41926303e-04  3.94602027e-03  6.93815388e-03  3.51596647e-03\n",
      " -1.78567716e-03  5.94885182e-03 -2.17828376e-04 -1.04056671e-03\n",
      "  2.07955833e-03  2.53827544e-03  8.25704820e-03  1.05831530e-02\n",
      "  1.98491570e-03  6.47344918e-04  5.60593384e-04  2.35302933e-03\n",
      " -1.13396229e-04  2.59498344e-03 -1.71656685e-03  4.27287491e-03\n",
      "  6.13539014e-03 -7.22984725e-04  2.51163146e-03 -3.52434535e-03\n",
      " -5.36633329e-03 -4.99335118e-03  5.83952945e-03 -1.40118459e-03\n",
      " -1.57928036e-03  2.04701908e-03  4.84528020e-03 -1.36762054e-03\n",
      "  3.47069511e-03 -6.33018732e-04 -3.39491572e-03  2.86052586e-03\n",
      "  5.19402465e-03  4.81678825e-03  2.53235199e-03  7.66687142e-03\n",
      "  3.11127491e-03  1.63590244e-03  9.53304674e-03  4.73117549e-03\n",
      " -4.03955579e-03 -1.41254184e-03  5.53418044e-03  1.09629834e-03\n",
      "  7.58761307e-03 -4.51189326e-03  4.05236799e-03  1.93173520e-03\n",
      " -4.58271755e-03  4.88450238e-03  3.88157391e-03 -1.55754585e-03\n",
      "  1.47430925e-03  5.16754761e-03  5.23018371e-03  5.18824300e-03\n",
      "  1.60200836e-03  3.47927818e-03 -1.49338192e-03  5.72997192e-03\n",
      "  4.35309671e-03 -2.45377363e-04  5.95719786e-03  3.51907453e-03\n",
      "  2.19412876e-04  7.85256363e-03  5.64995920e-03  4.73846169e-03\n",
      "  7.89473206e-03  3.75441159e-03  8.09688529e-04 -3.78504279e-03]\n"
     ]
    },
    {
     "data": {
      "text/plain": [
       "0.057003513"
      ]
     },
     "execution_count": 31,
     "metadata": {},
     "output_type": "execute_result"
    }
   ],
   "source": [
    "#'Street Fighter (1994)' , idx 393 선호도   movie_names\n",
    "sf_idx = 393\n",
    "sf_vector = als_model.item_factors[sf_idx]\n",
    "print(sf_vector)\n",
    "\n",
    "np.dot(me_vector, sf_vector)\n"
   ]
  },
  {
   "cell_type": "code",
   "execution_count": 32,
   "metadata": {
    "ExecuteTime": {
     "end_time": "2020-08-19T00:07:04.097196Z",
     "start_time": "2020-08-19T00:07:04.092133Z"
    }
   },
   "outputs": [
    {
     "name": "stdout",
     "output_type": "stream",
     "text": [
      "[ 0.01379711  0.00351854  0.02443414 -0.00032499 -0.00236257  0.01706729\n",
      "  0.02340981  0.01533091  0.00523244  0.00697617  0.00306747 -0.00108967\n",
      "  0.00666883  0.00755613 -0.00464258 -0.00692262 -0.00678493 -0.00594022\n",
      " -0.02067912  0.005163   -0.01193715  0.00737333  0.00617058  0.01050677\n",
      "  0.0016633   0.00903852  0.01861718  0.01387041  0.00476067  0.02542521\n",
      "  0.00692842  0.00065059  0.00249345 -0.00039217  0.01316982  0.03161638\n",
      "  0.00128388 -0.00344346 -0.00070185 -0.00332629 -0.00990926  0.01552563\n",
      "  0.00614345  0.00820123  0.00630691  0.00085048 -0.00331336 -0.0078448\n",
      "  0.02284548 -0.01464618  0.0140846  -0.00743296  0.00424699  0.01747153\n",
      "  0.00624067  0.01421463  0.00485581 -0.0123996  -0.01589251  0.00096436\n",
      "  0.02073194  0.01199469 -0.0127747  -0.00118678  0.02120094  0.00586105\n",
      "  0.01176073  0.00347592  0.02133582 -0.00399588  0.00030497 -0.01253397\n",
      "  0.01384315  0.00266404  0.00673949  0.0058351  -0.01164844 -0.00537995\n",
      "  0.00855932 -0.00170052 -0.00807292  0.0126118   0.00137935 -0.00523053\n",
      "  0.01345338  0.02381056  0.00565552  0.00556439  0.00861928  0.01395519\n",
      "  0.01937884 -0.00306319 -0.00182225  0.00505022  0.02661818  0.00995804\n",
      "  0.00529297 -0.00275414  0.01359752 -0.00089972]\n"
     ]
    },
    {
     "data": {
      "text/plain": [
       "0.1843233"
      ]
     },
     "execution_count": 32,
     "metadata": {},
     "output_type": "execute_result"
    }
   ],
   "source": [
    "#'Bad Boys' , idx 393 선호도   movie_names\n",
    "bb_idx = 145\n",
    "bb_vector = als_model.item_factors[bb_idx]\n",
    "print(bb_vector)\n",
    "\n",
    "np.dot(me_vector, bb_vector)\n",
    "# my_favorite = ['Bad Company (1995)' , \n",
    "#                'Street Fighter (1994)' ,\n",
    "#                'Bad Boys' ,\n",
    "#                'Sudden Death (1995)' ,\n",
    "#                'Fair Game (1995)']\n",
    "# my_favorite_id= [384, 393, 145, 9, 71 ]"
   ]
  },
  {
   "cell_type": "markdown",
   "metadata": {},
   "source": [
    "## 유사 영화 추천"
   ]
  },
  {
   "cell_type": "code",
   "execution_count": 33,
   "metadata": {
    "ExecuteTime": {
     "end_time": "2020-08-19T00:07:04.105374Z",
     "start_time": "2020-08-19T00:07:04.098187Z"
    }
   },
   "outputs": [
    {
     "data": {
      "text/plain": [
       "[(71, 0.057454646),\n",
       " (1004, 0.050992187),\n",
       " (1744, 0.049904637),\n",
       " (544, 0.049718954),\n",
       " (1626, 0.04952762),\n",
       " (548, 0.04892122),\n",
       " (9, 0.048825465),\n",
       " (990, 0.04880291),\n",
       " (1497, 0.04878738),\n",
       " (2835, 0.04874072),\n",
       " (1869, 0.048348762),\n",
       " (20, 0.0482407),\n",
       " (704, 0.048180502),\n",
       " (886, 0.048124347),\n",
       " (694, 0.048118427)]"
      ]
     },
     "execution_count": 33,
     "metadata": {},
     "output_type": "execute_result"
    }
   ],
   "source": [
    "#'Fair Game (1995)'  idx 71 선호도   movie_names\n",
    "fg_idx = 71\n",
    "similar_movies = als_model.similar_items(fg_idx, N=15)\n",
    "similar_movies"
   ]
  },
  {
   "cell_type": "code",
   "execution_count": 34,
   "metadata": {
    "ExecuteTime": {
     "end_time": "2020-08-19T00:07:04.142104Z",
     "start_time": "2020-08-19T00:07:04.106782Z"
    }
   },
   "outputs": [
    {
     "name": "stdout",
     "output_type": "stream",
     "text": [
      "               title   genre\n",
      "70  Fair Game (1995)  Action\n",
      "                       title            genre\n",
      "991  Glimmer Man, The (1996)  Action|Thriller\n",
      "                 title                      genre\n",
      "1693  Firestorm (1998)  Action|Adventure|Thriller\n",
      "                        title   genre\n",
      "540  Striking Distance (1993)  Action\n",
      "                       title                  genre\n",
      "1583  Fire Down Below (1997)  Action|Drama|Thriller\n",
      "                        title   genre\n",
      "544  Terminal Velocity (1994)  Action\n",
      "                 title   genre\n",
      "8  Sudden Death (1995)  Action\n",
      "                   title                      genre\n",
      "978  Maximum Risk (1996)  Action|Adventure|Thriller\n",
      "                   title   genre\n",
      "1465  Double Team (1997)  Action\n",
      "                    title            genre\n",
      "2766  Chill Factor (1999)  Action|Thriller\n",
      "                 title            genre\n",
      "1800  Black Dog (1998)  Action|Thriller\n",
      "                 title   genre\n",
      "19  Money Train (1995)  Action\n",
      "                 title             genre\n",
      "695  Quest, The (1996)  Action|Adventure\n",
      "                  title   genre\n",
      "874  Bulletproof (1996)  Action\n",
      "                      title   genre\n",
      "685  Substitute, The (1996)  Action\n"
     ]
    }
   ],
   "source": [
    "# title 매칭\n",
    "for m in similar_movies:\n",
    "    print(movies[movies['movie_id']==m[0]][['title','genre']])"
   ]
  },
  {
   "cell_type": "code",
   "execution_count": null,
   "metadata": {},
   "outputs": [],
   "source": []
  },
  {
   "cell_type": "markdown",
   "metadata": {},
   "source": [
    "## 좋아할 만한 영화 추천"
   ]
  },
  {
   "cell_type": "code",
   "execution_count": 35,
   "metadata": {
    "ExecuteTime": {
     "end_time": "2020-08-19T00:07:04.148635Z",
     "start_time": "2020-08-19T00:07:04.143439Z"
    }
   },
   "outputs": [
    {
     "data": {
      "text/plain": [
       "[(204, 0.10414383),\n",
       " (44, 0.10389449),\n",
       " (434, 0.10093868),\n",
       " (464, 0.09839),\n",
       " (1385, 0.09626536),\n",
       " (886, 0.09402799),\n",
       " (2808, 0.09375544),\n",
       " (20, 0.09091156),\n",
       " (1866, 0.09004458),\n",
       " (1100, 0.08868307),\n",
       " (1004, 0.0878624),\n",
       " (423, 0.087397784),\n",
       " (548, 0.087274134),\n",
       " (1687, 0.08647728),\n",
       " (227, 0.08629188),\n",
       " (694, 0.0833302),\n",
       " (1382, 0.08269202),\n",
       " (1639, 0.081609346),\n",
       " (3020, 0.08044555),\n",
       " (1681, 0.08034353)]"
      ]
     },
     "execution_count": 35,
     "metadata": {},
     "output_type": "execute_result"
    }
   ],
   "source": [
    "#  \n",
    "me_idx = 6041\n",
    "# recommend에서는 user*item CSR Matrix를 받습니다.\n",
    "movie_recommended = als_model.recommend(me_idx, csr_data, N=20, filter_already_liked_items=True)\n",
    "movie_recommended"
   ]
  },
  {
   "cell_type": "code",
   "execution_count": 36,
   "metadata": {
    "ExecuteTime": {
     "end_time": "2020-08-19T00:07:04.229458Z",
     "start_time": "2020-08-19T00:07:04.149897Z"
    }
   },
   "outputs": [
    {
     "name": "stdout",
     "output_type": "stream",
     "text": [
      "                                    title   genre\n",
      "202  Under Siege 2: Dark Territory (1995)  Action\n",
      "                   title             genre\n",
      "43  Mortal Kombat (1995)  Action|Adventure\n",
      "                  title                   genre\n",
      "430  Cliffhanger (1993)  Action|Adventure|Crime\n",
      "                  title                            genre\n",
      "460  Hard Target (1993)  Action|Adventure|Crime|Thriller\n",
      "                   title   genre\n",
      "1364  Under Siege (1992)  Action\n",
      "                  title   genre\n",
      "874  Bulletproof (1996)  Action\n",
      "                         title          genre\n",
      "2739  Universal Soldier (1992)  Action|Sci-Fi\n",
      "                 title   genre\n",
      "19  Money Train (1995)  Action\n",
      "                    title          genre\n",
      "1797  Big Hit, The (1998)  Action|Comedy\n",
      "                       title           genre\n",
      "1084  Days of Thunder (1990)  Action|Romance\n",
      "                       title            genre\n",
      "991  Glimmer Man, The (1996)  Action|Thriller\n",
      "                 title            genre\n",
      "419  Blown Away (1994)  Action|Thriller\n",
      "                        title   genre\n",
      "544  Terminal Velocity (1994)  Action\n",
      "                   title            genre\n",
      "1641  Jackal, The (1997)  Action|Thriller\n",
      "                title   genre\n",
      "224  Drop Zone (1994)  Action\n",
      "                      title   genre\n",
      "685  Substitute, The (1996)  Action\n",
      "                        title         genre\n",
      "1361  Marked for Death (1990)  Action|Drama\n",
      "                   title          genre\n",
      "1593  Chasing Amy (1997)  Drama|Romance\n",
      "                    title         genre\n",
      "2951  Falling Down (1993)  Action|Drama\n",
      "                                   title             genre\n",
      "1635  Mortal Kombat: Annihilation (1997)  Action|Adventure\n"
     ]
    }
   ],
   "source": [
    "## 변환\n",
    "a = []\n",
    "# title \n",
    "for m in movie_recommended:\n",
    "    a.append(movies[movies['movie_id']==m[0]]['title'])\n",
    "    print(movies[movies['movie_id']==m[0]][['title','genre']])"
   ]
  },
  {
   "cell_type": "markdown",
   "metadata": {
    "ExecuteTime": {
     "end_time": "2020-08-18T11:29:30.235094Z",
     "start_time": "2020-08-18T11:29:30.233222Z"
    }
   },
   "source": [
    "## 코멘트....\n",
    "- 주입한 데이터를 액션영화 5개만을 골라서 입력해서 그런지 유사 영화와 추천영화의 장르가 전부 액션으로 나왔다."
   ]
  },
  {
   "cell_type": "code",
   "execution_count": null,
   "metadata": {},
   "outputs": [],
   "source": []
  },
  {
   "cell_type": "code",
   "execution_count": null,
   "metadata": {},
   "outputs": [],
   "source": []
  },
  {
   "cell_type": "code",
   "execution_count": null,
   "metadata": {},
   "outputs": [],
   "source": []
  }
 ],
 "metadata": {
  "kernelspec": {
   "display_name": "Python 3",
   "language": "python",
   "name": "python3"
  },
  "language_info": {
   "codemirror_mode": {
    "name": "ipython",
    "version": 3
   },
   "file_extension": ".py",
   "mimetype": "text/x-python",
   "name": "python",
   "nbconvert_exporter": "python",
   "pygments_lexer": "ipython3",
   "version": "3.7.6"
  },
  "toc": {
   "base_numbering": 1,
   "nav_menu": {},
   "number_sections": true,
   "sideBar": true,
   "skip_h1_title": false,
   "title_cell": "Table of Contents",
   "title_sidebar": "Contents",
   "toc_cell": false,
   "toc_position": {
    "height": "707px",
    "left": "0px",
    "top": "50px",
    "width": "334.188px"
   },
   "toc_section_display": true,
   "toc_window_display": true
  },
  "varInspector": {
   "cols": {
    "lenName": 16,
    "lenType": 16,
    "lenVar": 40
   },
   "kernels_config": {
    "python": {
     "delete_cmd_postfix": "",
     "delete_cmd_prefix": "del ",
     "library": "var_list.py",
     "varRefreshCmd": "print(var_dic_list())"
    },
    "r": {
     "delete_cmd_postfix": ") ",
     "delete_cmd_prefix": "rm(",
     "library": "var_list.r",
     "varRefreshCmd": "cat(var_dic_list()) "
    }
   },
   "types_to_exclude": [
    "module",
    "function",
    "builtin_function_or_method",
    "instance",
    "_Feature"
   ],
   "window_display": false
  }
 },
 "nbformat": 4,
 "nbformat_minor": 4
}
