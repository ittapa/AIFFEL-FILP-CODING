{
 "cells": [
  {
   "cell_type": "markdown",
   "metadata": {},
   "source": [
    "1 . digit : https://github.com/ittapa/AIFFEL_LSG/blob/master/lms/E2-Iris/03-final_projec_digits.ipynb\n",
    "\n",
    "2 . wine : https://github.com/ittapa/AIFFEL_LSG/blob/master/lms/E2-Iris/04-final_project_wine.ipynb\n",
    "\n",
    "3 . cancer : https://github.com/ittapa/AIFFEL_LSG/blob/master/lms/E2-Iris/05-final_project_cancer.ipynb"
   ]
  },
  {
   "cell_type": "markdown",
   "metadata": {},
   "source": [
    "# load-digit  \n",
    "\n",
    "\n",
    "1 . 필요 라이브러리 ,  data import\n",
    "\n",
    "2 . data 조회 및 정의\n",
    "\n",
    "3 . train data / test data 정의\n",
    "\n",
    "4 .  모델 정의\n",
    "\n",
    "5 . 모델별 학습\n",
    "- disition Tree 사용해 보기\n",
    "- Random Forest 사용해 보기\n",
    "- SVM 사용해 보기\n",
    "- SGD Classifier 사용해 보기\n",
    "- Logistic Regression 사용해 보기\n",
    "\n",
    "6 . 학습 모델 별 test\n",
    "\n",
    "7 . report 출력 \n",
    "\n",
    "8 . 결론\n"
   ]
  },
  {
   "cell_type": "code",
   "execution_count": 51,
   "metadata": {},
   "outputs": [],
   "source": [
    "#1.\n",
    "\n",
    "#library\n",
    "from sklearn.datasets import load_digits #data\n",
    "from sklearn.model_selection import train_test_split #data select\n",
    "from sklearn.metrics import classification_report #\n",
    "\n",
    "#model import\n",
    "from sklearn.tree import DecisionTreeClassifier #decision\n",
    "from sklearn.ensemble import RandomForestClassifier #random forest\n",
    "from sklearn import svm #SVM\n",
    "from sklearn.linear_model import SGDClassifier #SGD\n",
    "from sklearn.linear_model import LogisticRegression #logixitc Regressioin\n",
    "\n",
    "from sklearn.metrics import confusion_matrix # \n",
    "from sklearn.metrics import accuracy_score\n"
   ]
  },
  {
   "cell_type": "code",
   "execution_count": 52,
   "metadata": {
    "scrolled": true
   },
   "outputs": [],
   "source": [
    "\n",
    "#2. data load\n",
    "digits = load_digits()\n"
   ]
  },
  {
   "cell_type": "code",
   "execution_count": 53,
   "metadata": {},
   "outputs": [
    {
     "data": {
      "text/plain": [
       "dict_keys(['data', 'target', 'frame', 'feature_names', 'target_names', 'images', 'DESCR'])"
      ]
     },
     "execution_count": 53,
     "metadata": {},
     "output_type": "execute_result"
    }
   ],
   "source": [
    "#2-1 \n",
    "digits.keys()"
   ]
  },
  {
   "cell_type": "code",
   "execution_count": 54,
   "metadata": {},
   "outputs": [
    {
     "name": "stdout",
     "output_type": "stream",
     "text": [
      "(1797, 64)\n"
     ]
    }
   ],
   "source": [
    "#2-2  data shape 조회\n",
    "digits_data = digits.data\n",
    "print(digits_data.shape)"
   ]
  },
  {
   "cell_type": "code",
   "execution_count": 55,
   "metadata": {},
   "outputs": [
    {
     "name": "stdout",
     "output_type": "stream",
     "text": [
      "(1797, 64)\n"
     ]
    }
   ],
   "source": [
    "#2-3  data shape 조회\n",
    "digits_feature = digits.feature_names\n",
    "print(digits_data.shape)"
   ]
  },
  {
   "cell_type": "code",
   "execution_count": 56,
   "metadata": {},
   "outputs": [
    {
     "name": "stdout",
     "output_type": "stream",
     "text": [
      "[0 1 2 ... 8 9 8]\n"
     ]
    }
   ],
   "source": [
    "#2-4 data label 조회\n",
    "digits_label = digits.target\n",
    "print (digits_label)"
   ]
  },
  {
   "cell_type": "code",
   "execution_count": 57,
   "metadata": {},
   "outputs": [
    {
     "name": "stdout",
     "output_type": "stream",
     "text": [
      "[0 1 2 3 4 5 6 7 8 9]\n"
     ]
    }
   ],
   "source": [
    "#2-5 data target name 조회\n",
    "digits.target_names\n",
    "print(digits.target_names)"
   ]
  },
  {
   "cell_type": "code",
   "execution_count": 104,
   "metadata": {},
   "outputs": [
    {
     "name": "stdout",
     "output_type": "stream",
     "text": [
      "X_train 개수:  1078 , X_test 개수:  719\n"
     ]
    }
   ],
   "source": [
    "#3 train data / test data crate\n",
    "\n",
    "x_train, x_test, y_train, y_test = train_test_split(digits_data,\n",
    "                                                    digits_label,\n",
    "                                                    test_size = 0.4,\n",
    "                                                    random_state = 10)\n",
    "\n",
    "\n",
    "print('X_train 개수: ', len(x_train), ', X_test 개수: ', len(x_test))"
   ]
  },
  {
   "cell_type": "code",
   "execution_count": 105,
   "metadata": {},
   "outputs": [
    {
     "data": {
      "text/plain": [
       "((1078, 64), (1078,))"
      ]
     },
     "execution_count": 105,
     "metadata": {},
     "output_type": "execute_result"
    }
   ],
   "source": [
    "#3-1 train data shpae 조회\n",
    "x_train.shape, y_train.shape"
   ]
  },
  {
   "cell_type": "code",
   "execution_count": 106,
   "metadata": {},
   "outputs": [
    {
     "data": {
      "text/plain": [
       "((719, 64), (719,))"
      ]
     },
     "execution_count": 106,
     "metadata": {},
     "output_type": "execute_result"
    }
   ],
   "source": [
    "#3-2 test data shape 조회\n",
    "x_test.shape, y_test.shape"
   ]
  },
  {
   "cell_type": "code",
   "execution_count": 107,
   "metadata": {},
   "outputs": [],
   "source": [
    "#4 model 정의\n",
    "\n",
    "# disition Tree \n",
    "# Random Forest \n",
    "# SVM \n",
    "# SGD Classifier \n",
    "# Logistic Regression \n",
    "\n",
    "decision_tree_model = DecisionTreeClassifier(random_state=32)\n",
    "random_forest_model = RandomForestClassifier(random_state=32)\n",
    "svm_model = svm.SVC()\n",
    "sgd_model = SGDClassifier()\n",
    "logistic_model = LogisticRegression(max_iter = 4000) # defult 값이 100인데, 분석 data 개수가 1437개여서 명시적 지정\n",
    "\n"
   ]
  },
  {
   "cell_type": "code",
   "execution_count": 108,
   "metadata": {},
   "outputs": [
    {
     "data": {
      "text/plain": [
       "LogisticRegression(max_iter=4000)"
      ]
     },
     "execution_count": 108,
     "metadata": {},
     "output_type": "execute_result"
    }
   ],
   "source": [
    "#5 모델별 학습 진행 (fit)  traing\n",
    "\n",
    "# disition Tree \n",
    "# Random Forest \n",
    "# SVM \n",
    "# SGD Classifier \n",
    "# Logistic Regression \n",
    "# disition Tree \n",
    "# Random Forest \n",
    "# SVM \n",
    "# SGD Classifier \n",
    "# Logistic Regression \n",
    "\n",
    "\n",
    "\n",
    "decision_tree_model.fit(x_train, y_train)\n",
    "random_forest_model.fit(x_train, y_train)\n",
    "svm_model.fit(x_train, y_train)\n",
    "sgd_model.fit(x_train, y_train)\n",
    "logistic_model.fit(x_train, y_train)\n"
   ]
  },
  {
   "cell_type": "code",
   "execution_count": 109,
   "metadata": {},
   "outputs": [],
   "source": [
    "#6 test data 예측  \n",
    "\n",
    "# disition Tree \n",
    "# Random Forest \n",
    "# SVM \n",
    "# SGD Classifier \n",
    "# Logistic Regression \n",
    "\n",
    "decision_tree_pred = decision_tree_model.predict(x_test)\n",
    "random_forest_pred  = random_forest_model.predict(x_test)\n",
    "svm_pred = svm_model.predict(x_test)\n",
    "sgd_pred = sgd_model.predict(x_test)\n",
    "logistic_pred = logistic_model.predict(x_test)\n",
    "\n"
   ]
  },
  {
   "cell_type": "code",
   "execution_count": 110,
   "metadata": {},
   "outputs": [
    {
     "name": "stdout",
     "output_type": "stream",
     "text": [
      "disition Tree report\n",
      "              precision    recall  f1-score   support\n",
      "\n",
      "           0       0.95      0.97      0.96        71\n",
      "           1       0.79      0.78      0.78        77\n",
      "           2       0.86      0.88      0.87        75\n",
      "           3       0.82      0.86      0.84        74\n",
      "           4       0.91      0.75      0.82        68\n",
      "           5       0.89      0.84      0.87        70\n",
      "           6       0.89      0.93      0.91        70\n",
      "           7       0.81      0.87      0.84        78\n",
      "           8       0.83      0.80      0.82        66\n",
      "           9       0.71      0.73      0.72        70\n",
      "\n",
      "    accuracy                           0.84       719\n",
      "   macro avg       0.85      0.84      0.84       719\n",
      "weighted avg       0.84      0.84      0.84       719\n",
      "\n",
      "Random Forest  report\n",
      "              precision    recall  f1-score   support\n",
      "\n",
      "           0       0.97      0.99      0.98        71\n",
      "           1       0.99      0.97      0.98        77\n",
      "           2       0.99      0.99      0.99        75\n",
      "           3       0.97      0.97      0.97        74\n",
      "           4       0.96      0.97      0.96        68\n",
      "           5       0.91      0.97      0.94        70\n",
      "           6       1.00      0.99      0.99        70\n",
      "           7       0.95      0.99      0.97        78\n",
      "           8       0.95      0.91      0.93        66\n",
      "           9       0.97      0.90      0.93        70\n",
      "\n",
      "    accuracy                           0.97       719\n",
      "   macro avg       0.97      0.96      0.96       719\n",
      "weighted avg       0.97      0.97      0.97       719\n",
      "\n",
      "SVM report\n",
      "              precision    recall  f1-score   support\n",
      "\n",
      "           0       1.00      0.99      0.99        71\n",
      "           1       0.97      1.00      0.99        77\n",
      "           2       0.99      1.00      0.99        75\n",
      "           3       1.00      0.97      0.99        74\n",
      "           4       0.99      0.97      0.98        68\n",
      "           5       0.96      0.99      0.97        70\n",
      "           6       1.00      1.00      1.00        70\n",
      "           7       1.00      1.00      1.00        78\n",
      "           8       0.94      0.95      0.95        66\n",
      "           9       0.97      0.94      0.96        70\n",
      "\n",
      "    accuracy                           0.98       719\n",
      "   macro avg       0.98      0.98      0.98       719\n",
      "weighted avg       0.98      0.98      0.98       719\n",
      "\n",
      "SGD Classifier report\n",
      "              precision    recall  f1-score   support\n",
      "\n",
      "           0       1.00      1.00      1.00        71\n",
      "           1       0.97      0.91      0.94        77\n",
      "           2       0.99      0.96      0.97        75\n",
      "           3       0.75      0.97      0.85        74\n",
      "           4       0.96      0.96      0.96        68\n",
      "           5       0.80      1.00      0.89        70\n",
      "           6       0.95      1.00      0.97        70\n",
      "           7       0.96      0.92      0.94        78\n",
      "           8       0.91      0.80      0.85        66\n",
      "           9       0.98      0.63      0.77        70\n",
      "\n",
      "    accuracy                           0.92       719\n",
      "   macro avg       0.93      0.92      0.91       719\n",
      "weighted avg       0.93      0.92      0.91       719\n",
      "\n",
      "Logistic Regression report\n",
      "              precision    recall  f1-score   support\n",
      "\n",
      "           0       1.00      1.00      1.00        71\n",
      "           1       0.94      0.95      0.94        77\n",
      "           2       0.96      1.00      0.98        75\n",
      "           3       0.99      0.95      0.97        74\n",
      "           4       0.96      0.96      0.96        68\n",
      "           5       0.88      0.97      0.93        70\n",
      "           6       0.99      0.99      0.99        70\n",
      "           7       0.99      0.96      0.97        78\n",
      "           8       0.91      0.88      0.89        66\n",
      "           9       0.97      0.91      0.94        70\n",
      "\n",
      "    accuracy                           0.96       719\n",
      "   macro avg       0.96      0.96      0.96       719\n",
      "weighted avg       0.96      0.96      0.96       719\n",
      "\n"
     ]
    }
   ],
   "source": [
    "#7 결과 출력\n",
    "\n",
    "#7-1\n",
    "# disition Tree \n",
    "# Random Forest \n",
    "# SVM \n",
    "# SGD Classifier \n",
    "# Logistic Regression \n",
    "\n",
    "print(\"disition Tree report\")\n",
    "print(classification_report(y_test, decision_tree_pred))\n",
    "\n",
    "print(\"Random Forest  report\")\n",
    "print(classification_report(y_test, random_forest_pred))\n",
    "\n",
    "print(\"SVM report\")\n",
    "print(classification_report(y_test, svm_pred))\n",
    "\n",
    "print(\"SGD Classifier report\")\n",
    "print(classification_report(y_test, sgd_pred))\n",
    "      \n",
    "print(\"Logistic Regression report\")\n",
    "print(classification_report(y_test, logistic_pred))\n",
    "\n"
   ]
  },
  {
   "cell_type": "code",
   "execution_count": 111,
   "metadata": {},
   "outputs": [
    {
     "name": "stdout",
     "output_type": "stream",
     "text": [
      "disition Tree score\n",
      "0.8428372739916551\n",
      "Random Forest  score\n",
      "0.9652294853963839\n",
      "SVM score\n",
      "0.9819193324061196\n",
      "SGD Classifier score\n",
      "0.9165507649513213\n",
      "Logistic Regression score\n",
      "0.9568845618915159\n"
     ]
    }
   ],
   "source": [
    "#7-2  \n",
    "\n",
    "# disition Tree \n",
    "# Random Forest \n",
    "# SVM \n",
    "# SGD Classifier \n",
    "# Logistic Regression\n",
    "\n",
    "\n",
    "print(\"disition Tree score\")\n",
    "print(accuracy_score(y_test, decision_tree_pred))\n",
    "\n",
    "print(\"Random Forest  score\")\n",
    "print(accuracy_score(y_test, random_forest_pred))\n",
    "\n",
    "print(\"SVM score\")\n",
    "print(accuracy_score(y_test, svm_pred))\n",
    "\n",
    "print(\"SGD Classifier score\")\n",
    "print(accuracy_score(y_test, sgd_pred))\n",
    "      \n",
    "print(\"Logistic Regression score\")\n",
    "print(accuracy_score(y_test, logistic_pred))"
   ]
  },
  {
   "cell_type": "code",
   "execution_count": 112,
   "metadata": {},
   "outputs": [
    {
     "name": "stdout",
     "output_type": "stream",
     "text": [
      "disition Tree report\n",
      "[[69  1  0  0  0  0  0  1  0  0]\n",
      " [ 0 60  8  2  0  0  0  1  3  3]\n",
      " [ 0  0 66  2  0  1  1  1  2  2]\n",
      " [ 0  3  1 64  1  0  1  2  1  1]\n",
      " [ 1  4  0  0 51  1  4  3  0  4]\n",
      " [ 0  0  0  2  0 59  2  1  1  5]\n",
      " [ 0  0  0  1  1  1 65  2  0  0]\n",
      " [ 0  1  0  2  3  0  0 68  0  4]\n",
      " [ 2  5  1  1  0  1  0  1 53  2]\n",
      " [ 1  2  1  4  0  3  0  4  4 51]]\n",
      "Random Forest  report\n",
      "[[70  0  0  0  1  0  0  0  0  0]\n",
      " [ 0 75  1  0  0  1  0  0  0  0]\n",
      " [ 1  0 74  0  0  0  0  0  0  0]\n",
      " [ 0  0  0 72  0  1  0  0  1  0]\n",
      " [ 0  0  0  0 66  0  0  1  1  0]\n",
      " [ 0  0  0  0  0 68  0  0  1  1]\n",
      " [ 1  0  0  0  0  0 69  0  0  0]\n",
      " [ 0  0  0  0  1  0  0 77  0  0]\n",
      " [ 0  1  0  1  1  2  0  0 60  1]\n",
      " [ 0  0  0  1  0  3  0  3  0 63]]\n",
      "SVM report\n",
      "[[70  0  0  0  1  0  0  0  0  0]\n",
      " [ 0 77  0  0  0  0  0  0  0  0]\n",
      " [ 0  0 75  0  0  0  0  0  0  0]\n",
      " [ 0  0  1 72  0  1  0  0  0  0]\n",
      " [ 0  0  0  0 66  0  0  0  2  0]\n",
      " [ 0  0  0  0  0 69  0  0  0  1]\n",
      " [ 0  0  0  0  0  0 70  0  0  0]\n",
      " [ 0  0  0  0  0  0  0 78  0  0]\n",
      " [ 0  2  0  0  0  0  0  0 63  1]\n",
      " [ 0  0  0  0  0  2  0  0  2 66]]\n",
      "SGD Classifier report\n",
      "[[71  0  0  0  0  0  0  0  0  0]\n",
      " [ 0 70  0  1  1  3  1  0  0  1]\n",
      " [ 0  0 72  3  0  0  0  0  0  0]\n",
      " [ 0  0  0 72  0  1  0  0  1  0]\n",
      " [ 0  1  0  0 65  1  0  0  1  0]\n",
      " [ 0  0  0  0  0 70  0  0  0  0]\n",
      " [ 0  0  0  0  0  0 70  0  0  0]\n",
      " [ 0  0  0  4  2  0  0 72  0  0]\n",
      " [ 0  1  1  4  0  4  3  0 53  0]\n",
      " [ 0  0  0 12  0  8  0  3  3 44]]\n",
      "Logistic Regression report\n",
      "[[71  0  0  0  0  0  0  0  0  0]\n",
      " [ 0 73  1  0  0  0  0  0  3  0]\n",
      " [ 0  0 75  0  0  0  0  0  0  0]\n",
      " [ 0  0  1 70  0  3  0  0  0  0]\n",
      " [ 0  2  0  0 65  0  0  0  1  0]\n",
      " [ 0  1  0  0  0 68  0  0  0  1]\n",
      " [ 0  1  0  0  0  0 69  0  0  0]\n",
      " [ 0  0  0  0  3  0  0 75  0  0]\n",
      " [ 0  1  1  1  0  3  1  0 58  1]\n",
      " [ 0  0  0  0  0  3  0  1  2 64]]\n"
     ]
    }
   ],
   "source": [
    "#7-3  오차행렬\n",
    "\n",
    "# disition Tree \n",
    "# Random Forest \n",
    "# SVM \n",
    "# SGD Classifier \n",
    "# Logistic Regression \n",
    "\n",
    "print(\"disition Tree report\")\n",
    "print(confusion_matrix(y_test, decision_tree_pred))\n",
    "\n",
    "print(\"Random Forest  report\")\n",
    "print(confusion_matrix(y_test, random_forest_pred))\n",
    "\n",
    "print(\"SVM report\")\n",
    "print(confusion_matrix(y_test, svm_pred))\n",
    "\n",
    "print(\"SGD Classifier report\")\n",
    "print(confusion_matrix(y_test, sgd_pred))\n",
    "      \n",
    "print(\"Logistic Regression report\")\n",
    "print(confusion_matrix(y_test, logistic_pred))"
   ]
  },
  {
   "cell_type": "markdown",
   "metadata": {},
   "source": [
    "# 8 결론 및 코멘트\n",
    "\n"
   ]
  },
  {
   "cell_type": "markdown",
   "metadata": {},
   "source": [
    "\n",
    "ex) 0 판별\n",
    "실제 - 판명\n",
    "0맞음 0아님\n",
    "0맞음 0맞음\n",
    "0아님 0맞음\n",
    "0맞음 0아님\n",
    "숫자를 판별할때 한 숫자를 판별할 때 질병게 걸리는 상황 처럼 한 상황이 중요도가 높은지 분간이 안가서 전체적으로 봐야 되지 않을까 생각했다. \n",
    "\n",
    "전체적으로 f1, recall, precision score 가 균등하게 svm 모델이 가장 높았다.\n",
    "\n",
    "최초  test size를 0.2로 했을 때 모든 모델에서 0에 대한 지표가 score 가 1이거나 1에 아주 가까운 경우가 많아\n",
    "test size를 줄이면서 train 하고 test 해도 전체적인 지표가 svm 지표가 높았다.\n",
    "0에 대한 지표는 모든 모델에서 계속 높은 수치를 기록하고 있다. 다른 숫자들에 비해 숫자 0이 상대적으로 다른 숫자들과 차이가 커서 판별하기 좋은 유형인 것 같다.\n",
    "\n",
    "\n",
    "\n",
    "\n"
   ]
  }
 ],
 "metadata": {
  "kernelspec": {
   "display_name": "Python 3",
   "language": "python",
   "name": "python3"
  },
  "language_info": {
   "codemirror_mode": {
    "name": "ipython",
    "version": 3
   },
   "file_extension": ".py",
   "mimetype": "text/x-python",
   "name": "python",
   "nbconvert_exporter": "python",
   "pygments_lexer": "ipython3",
   "version": "3.7.6"
  }
 },
 "nbformat": 4,
 "nbformat_minor": 4
}
