{
 "cells": [
  {
   "cell_type": "markdown",
   "metadata": {},
   "source": [
    "# wine 분류\n",
    "\n",
    "\n",
    "\n",
    "1 . 필요 라이브러리 ,  data import\n",
    "\n",
    "2 . data 조회 및 정의\n",
    "\n",
    "3 . train data / test data 정의\n",
    "\n",
    "4 .  모델 정의\n",
    "\n",
    "5 . 모델별 학습\n",
    "- disition Tree 사용해 보기\n",
    "- Random Forest 사용해 보기\n",
    "- SVM 사용해 보기\n",
    "- SGD Classifier 사용해 보기\n",
    "- Logistic Regression 사용해 보기\n",
    "\n",
    "6 . 학습 모델 별 test\n",
    "\n",
    "7 . report 출력 \n",
    "\n",
    "8 . 결론\n"
   ]
  },
  {
   "cell_type": "code",
   "execution_count": null,
   "metadata": {},
   "outputs": [],
   "source": []
  },
  {
   "cell_type": "code",
   "execution_count": 84,
   "metadata": {},
   "outputs": [],
   "source": [
    "#1.\n",
    "\n",
    "#library\n",
    "from sklearn.datasets import load_wine #data\n",
    "from sklearn.model_selection import train_test_split #data select\n",
    "from sklearn.metrics import classification_report #\n",
    "\n",
    "#model import\n",
    "from sklearn.tree import DecisionTreeClassifier #decision\n",
    "from sklearn.ensemble import RandomForestClassifier #random forest\n",
    "from sklearn import svm #SVM\n",
    "from sklearn.linear_model import SGDClassifier #SGD\n",
    "from sklearn.linear_model import LogisticRegression #logixitc Regressioin\n",
    "from sklearn.metrics import confusion_matrix # \n"
   ]
  },
  {
   "cell_type": "code",
   "execution_count": 85,
   "metadata": {},
   "outputs": [],
   "source": [
    "\n",
    "#2. data load\n",
    "wines = load_wine()\n"
   ]
  },
  {
   "cell_type": "code",
   "execution_count": 86,
   "metadata": {},
   "outputs": [
    {
     "data": {
      "text/plain": [
       "dict_keys(['data', 'target', 'frame', 'target_names', 'DESCR', 'feature_names'])"
      ]
     },
     "execution_count": 86,
     "metadata": {},
     "output_type": "execute_result"
    }
   ],
   "source": [
    "#2-1 \n",
    "wines.keys()"
   ]
  },
  {
   "cell_type": "code",
   "execution_count": 87,
   "metadata": {},
   "outputs": [
    {
     "name": "stdout",
     "output_type": "stream",
     "text": [
      "(178, 13)\n"
     ]
    }
   ],
   "source": [
    "#2-2  data shape 조회\n",
    "wines_data = wines.data\n",
    "print(wines_data.shape)"
   ]
  },
  {
   "cell_type": "code",
   "execution_count": 88,
   "metadata": {},
   "outputs": [
    {
     "name": "stdout",
     "output_type": "stream",
     "text": [
      "(178, 13)\n"
     ]
    }
   ],
   "source": [
    "#2-3  data shape 조회\n",
    "wines_feature = wines.feature_names\n",
    "print(wines_data.shape)"
   ]
  },
  {
   "cell_type": "code",
   "execution_count": 89,
   "metadata": {},
   "outputs": [
    {
     "name": "stdout",
     "output_type": "stream",
     "text": [
      "[0 0 0 0 0 0 0 0 0 0 0 0 0 0 0 0 0 0 0 0 0 0 0 0 0 0 0 0 0 0 0 0 0 0 0 0 0\n",
      " 0 0 0 0 0 0 0 0 0 0 0 0 0 0 0 0 0 0 0 0 0 0 1 1 1 1 1 1 1 1 1 1 1 1 1 1 1\n",
      " 1 1 1 1 1 1 1 1 1 1 1 1 1 1 1 1 1 1 1 1 1 1 1 1 1 1 1 1 1 1 1 1 1 1 1 1 1\n",
      " 1 1 1 1 1 1 1 1 1 1 1 1 1 1 1 1 1 1 1 2 2 2 2 2 2 2 2 2 2 2 2 2 2 2 2 2 2\n",
      " 2 2 2 2 2 2 2 2 2 2 2 2 2 2 2 2 2 2 2 2 2 2 2 2 2 2 2 2 2 2]\n"
     ]
    }
   ],
   "source": [
    "#2-4 data label 조회\n",
    "wines_label = wines.target\n",
    "print (wines_label)"
   ]
  },
  {
   "cell_type": "code",
   "execution_count": 99,
   "metadata": {},
   "outputs": [
    {
     "name": "stdout",
     "output_type": "stream",
     "text": [
      "['class_0' 'class_1' 'class_2']\n"
     ]
    }
   ],
   "source": [
    "#2-5 data target name 조회\n",
    "wines.target_names\n",
    "print(wines.target_names)"
   ]
  },
  {
   "cell_type": "code",
   "execution_count": 185,
   "metadata": {},
   "outputs": [
    {
     "name": "stdout",
     "output_type": "stream",
     "text": [
      "X_train 개수:  17 , X_test 개수:  161\n"
     ]
    }
   ],
   "source": [
    "#3 train data / test data crate\n",
    "\n",
    "x_train, x_test, y_train, y_test = train_test_split(wines_data,\n",
    "                                                    wines_label,\n",
    "                                                    test_size = 0.9, #0.2 0.6\n",
    "                                                    random_state = 15)\n",
    "\n",
    "\n",
    "print('X_train 개수: ', len(x_train), ', X_test 개수: ', len(x_test))"
   ]
  },
  {
   "cell_type": "code",
   "execution_count": 186,
   "metadata": {},
   "outputs": [
    {
     "data": {
      "text/plain": [
       "((17, 13), (17,))"
      ]
     },
     "execution_count": 186,
     "metadata": {},
     "output_type": "execute_result"
    }
   ],
   "source": [
    "#3-1 train data shpae 조회\n",
    "x_train.shape, y_train.shape"
   ]
  },
  {
   "cell_type": "code",
   "execution_count": 187,
   "metadata": {},
   "outputs": [
    {
     "data": {
      "text/plain": [
       "((161, 13), (161,))"
      ]
     },
     "execution_count": 187,
     "metadata": {},
     "output_type": "execute_result"
    }
   ],
   "source": [
    "#3-2 test data shape 조회\n",
    "x_test.shape, y_test.shape"
   ]
  },
  {
   "cell_type": "code",
   "execution_count": 197,
   "metadata": {},
   "outputs": [
    {
     "data": {
      "text/plain": [
       "array([0, 1, 2, 0, 1, 2, 0, 2, 0, 1, 1, 2, 2, 1, 1, 2, 2])"
      ]
     },
     "execution_count": 197,
     "metadata": {},
     "output_type": "execute_result"
    }
   ],
   "source": [
    "y_train"
   ]
  },
  {
   "cell_type": "code",
   "execution_count": 198,
   "metadata": {},
   "outputs": [
    {
     "data": {
      "text/plain": [
       "array([[1.422e+01, 3.990e+00, 2.510e+00, 1.320e+01, 1.280e+02, 3.000e+00,\n",
       "        3.040e+00, 2.000e-01, 2.080e+00, 5.100e+00, 8.900e-01, 3.530e+00,\n",
       "        7.600e+02],\n",
       "       [1.242e+01, 2.550e+00, 2.270e+00, 2.200e+01, 9.000e+01, 1.680e+00,\n",
       "        1.840e+00, 6.600e-01, 1.420e+00, 2.700e+00, 8.600e-01, 3.300e+00,\n",
       "        3.150e+02],\n",
       "       [1.362e+01, 4.950e+00, 2.350e+00, 2.000e+01, 9.200e+01, 2.000e+00,\n",
       "        8.000e-01, 4.700e-01, 1.020e+00, 4.400e+00, 9.100e-01, 2.050e+00,\n",
       "        5.500e+02],\n",
       "       [1.410e+01, 2.160e+00, 2.300e+00, 1.800e+01, 1.050e+02, 2.950e+00,\n",
       "        3.320e+00, 2.200e-01, 2.380e+00, 5.750e+00, 1.250e+00, 3.170e+00,\n",
       "        1.510e+03],\n",
       "       [1.367e+01, 1.250e+00, 1.920e+00, 1.800e+01, 9.400e+01, 2.100e+00,\n",
       "        1.790e+00, 3.200e-01, 7.300e-01, 3.800e+00, 1.230e+00, 2.460e+00,\n",
       "        6.300e+02],\n",
       "       [1.236e+01, 3.830e+00, 2.380e+00, 2.100e+01, 8.800e+01, 2.300e+00,\n",
       "        9.200e-01, 5.000e-01, 1.040e+00, 7.650e+00, 5.600e-01, 1.580e+00,\n",
       "        5.200e+02],\n",
       "       [1.285e+01, 1.600e+00, 2.520e+00, 1.780e+01, 9.500e+01, 2.480e+00,\n",
       "        2.370e+00, 2.600e-01, 1.460e+00, 3.930e+00, 1.090e+00, 3.630e+00,\n",
       "        1.015e+03],\n",
       "       [1.348e+01, 1.670e+00, 2.640e+00, 2.250e+01, 8.900e+01, 2.600e+00,\n",
       "        1.100e+00, 5.200e-01, 2.290e+00, 1.175e+01, 5.700e-01, 1.780e+00,\n",
       "        6.200e+02],\n",
       "       [1.383e+01, 1.570e+00, 2.620e+00, 2.000e+01, 1.150e+02, 2.950e+00,\n",
       "        3.400e+00, 4.000e-01, 1.720e+00, 6.600e+00, 1.130e+00, 2.570e+00,\n",
       "        1.130e+03],\n",
       "       [1.277e+01, 3.430e+00, 1.980e+00, 1.600e+01, 8.000e+01, 1.630e+00,\n",
       "        1.250e+00, 4.300e-01, 8.300e-01, 3.400e+00, 7.000e-01, 2.120e+00,\n",
       "        3.720e+02],\n",
       "       [1.267e+01, 9.800e-01, 2.240e+00, 1.800e+01, 9.900e+01, 2.200e+00,\n",
       "        1.940e+00, 3.000e-01, 1.460e+00, 2.620e+00, 1.230e+00, 3.160e+00,\n",
       "        4.500e+02],\n",
       "       [1.317e+01, 5.190e+00, 2.320e+00, 2.200e+01, 9.300e+01, 1.740e+00,\n",
       "        6.300e-01, 6.100e-01, 1.550e+00, 7.900e+00, 6.000e-01, 1.480e+00,\n",
       "        7.250e+02],\n",
       "       [1.384e+01, 4.120e+00, 2.380e+00, 1.950e+01, 8.900e+01, 1.800e+00,\n",
       "        8.300e-01, 4.800e-01, 1.560e+00, 9.010e+00, 5.700e-01, 1.640e+00,\n",
       "        4.800e+02],\n",
       "       [1.237e+01, 1.630e+00, 2.300e+00, 2.450e+01, 8.800e+01, 2.220e+00,\n",
       "        2.450e+00, 4.000e-01, 1.900e+00, 2.120e+00, 8.900e-01, 2.780e+00,\n",
       "        3.420e+02],\n",
       "       [1.200e+01, 3.430e+00, 2.000e+00, 1.900e+01, 8.700e+01, 2.000e+00,\n",
       "        1.640e+00, 3.700e-01, 1.870e+00, 1.280e+00, 9.300e-01, 3.050e+00,\n",
       "        5.640e+02],\n",
       "       [1.270e+01, 3.550e+00, 2.360e+00, 2.150e+01, 1.060e+02, 1.700e+00,\n",
       "        1.200e+00, 1.700e-01, 8.400e-01, 5.000e+00, 7.800e-01, 1.290e+00,\n",
       "        6.000e+02],\n",
       "       [1.293e+01, 2.810e+00, 2.700e+00, 2.100e+01, 9.600e+01, 1.540e+00,\n",
       "        5.000e-01, 5.300e-01, 7.500e-01, 4.600e+00, 7.700e-01, 2.310e+00,\n",
       "        6.000e+02]])"
      ]
     },
     "execution_count": 198,
     "metadata": {},
     "output_type": "execute_result"
    }
   ],
   "source": [
    "x_train"
   ]
  },
  {
   "cell_type": "code",
   "execution_count": 190,
   "metadata": {},
   "outputs": [],
   "source": [
    "#4 model 정의\n",
    "\n",
    "# disition Tree \n",
    "# Random Forest \n",
    "# SVM \n",
    "# SGD Classifier \n",
    "# Logistic Regression \n",
    "\n",
    "decision_tree_model = DecisionTreeClassifier()\n",
    "random_forest_model = RandomForestClassifier()\n",
    "svm_model = svm.SVC()\n",
    "sgd_model = SGDClassifier()\n",
    "logistic_model = LogisticRegression(max_iter = 4000) # defult 값이 100인데, \n",
    "\n"
   ]
  },
  {
   "cell_type": "code",
   "execution_count": 191,
   "metadata": {},
   "outputs": [
    {
     "data": {
      "text/plain": [
       "LogisticRegression(max_iter=4000)"
      ]
     },
     "execution_count": 191,
     "metadata": {},
     "output_type": "execute_result"
    }
   ],
   "source": [
    "#5 모델별 학습 진행 (fit)  traing\n",
    "\n",
    "# disition Tree \n",
    "# Random Forest \n",
    "# SVM \n",
    "# SGD Classifier \n",
    "# Logistic Regression \n",
    "# disition Tree \n",
    "# Random Forest \n",
    "# SVM \n",
    "# SGD Classifier \n",
    "# Logistic Regression \n",
    "\n",
    "decision_tree_model.fit(x_train, y_train)\n",
    "random_forest_model.fit(x_train, y_train)\n",
    "svm_model.fit(x_train, y_train)\n",
    "sgd_model.fit(x_train, y_train)\n",
    "logistic_model.fit(x_train, y_train)\n"
   ]
  },
  {
   "cell_type": "code",
   "execution_count": 192,
   "metadata": {},
   "outputs": [],
   "source": [
    "#6 test data 예측  \n",
    "\n",
    "# disition Tree \n",
    "# Random Forest \n",
    "# SVM \n",
    "# SGD Classifier \n",
    "# Logistic Regression \n",
    "\n",
    "decision_tree_pred = decision_tree_model.predict(x_test)\n",
    "random_forest_pred  = random_forest_model.predict(x_test)\n",
    "svm_pred = svm_model.predict(x_test)\n",
    "sgd_pred = sgd_model.predict(x_test)\n",
    "logistic_pred = logistic_model.predict(x_test)\n",
    "\n"
   ]
  },
  {
   "cell_type": "code",
   "execution_count": 193,
   "metadata": {},
   "outputs": [
    {
     "name": "stdout",
     "output_type": "stream",
     "text": [
      "disition Tree report\n",
      "              precision    recall  f1-score   support\n",
      "\n",
      "           0       0.75      0.91      0.82        55\n",
      "           1       0.91      0.77      0.83        65\n",
      "           2       0.90      0.85      0.88        41\n",
      "\n",
      "    accuracy                           0.84       161\n",
      "   macro avg       0.85      0.84      0.84       161\n",
      "weighted avg       0.85      0.84      0.84       161\n",
      "\n",
      "Random Forest  report\n",
      "              precision    recall  f1-score   support\n",
      "\n",
      "           0       0.93      0.98      0.96        55\n",
      "           1       0.98      0.89      0.94        65\n",
      "           2       0.93      1.00      0.96        41\n",
      "\n",
      "    accuracy                           0.95       161\n",
      "   macro avg       0.95      0.96      0.95       161\n",
      "weighted avg       0.95      0.95      0.95       161\n",
      "\n",
      "SVM report\n",
      "              precision    recall  f1-score   support\n",
      "\n",
      "           0       0.96      0.82      0.88        55\n",
      "           1       1.00      0.02      0.03        65\n",
      "           2       0.36      1.00      0.53        41\n",
      "\n",
      "    accuracy                           0.54       161\n",
      "   macro avg       0.77      0.61      0.48       161\n",
      "weighted avg       0.82      0.54      0.45       161\n",
      "\n",
      "SGD Classifier report\n",
      "              precision    recall  f1-score   support\n",
      "\n",
      "           0       0.34      1.00      0.51        55\n",
      "           1       0.00      0.00      0.00        65\n",
      "           2       0.00      0.00      0.00        41\n",
      "\n",
      "    accuracy                           0.34       161\n",
      "   macro avg       0.11      0.33      0.17       161\n",
      "weighted avg       0.12      0.34      0.17       161\n",
      "\n",
      "Logistic Regression report\n",
      "              precision    recall  f1-score   support\n",
      "\n",
      "           0       0.81      0.98      0.89        55\n",
      "           1       0.96      0.74      0.83        65\n",
      "           2       0.75      0.80      0.78        41\n",
      "\n",
      "    accuracy                           0.84       161\n",
      "   macro avg       0.84      0.84      0.83       161\n",
      "weighted avg       0.85      0.84      0.84       161\n",
      "\n"
     ]
    },
    {
     "name": "stderr",
     "output_type": "stream",
     "text": [
      "/home/aiffel0042/anaconda3/envs/aiffel/lib/python3.7/site-packages/sklearn/metrics/_classification.py:1221: UndefinedMetricWarning: Precision and F-score are ill-defined and being set to 0.0 in labels with no predicted samples. Use `zero_division` parameter to control this behavior.\n",
      "  _warn_prf(average, modifier, msg_start, len(result))\n"
     ]
    }
   ],
   "source": [
    "#7 결과 출력\n",
    "\n",
    "#7-1\n",
    "# disition Tree \n",
    "# Random Forest \n",
    "# SVM \n",
    "# SGD Classifier \n",
    "# Logistic Regression \n",
    "\n",
    "print(\"disition Tree report\")\n",
    "print(classification_report(y_test, decision_tree_pred))\n",
    "\n",
    "print(\"Random Forest  report\")\n",
    "print(classification_report(y_test, random_forest_pred))\n",
    "\n",
    "print(\"SVM report\")\n",
    "print(classification_report(y_test, svm_pred))\n",
    "\n",
    "print(\"SGD Classifier report\")\n",
    "print(classification_report(y_test, sgd_pred))\n",
    "      \n",
    "print(\"Logistic Regression report\")\n",
    "print(classification_report(y_test, logistic_pred))\n",
    "\n"
   ]
  },
  {
   "cell_type": "code",
   "execution_count": 194,
   "metadata": {},
   "outputs": [
    {
     "name": "stdout",
     "output_type": "stream",
     "text": [
      "disition Tree cm\n",
      "[[50  5  0]\n",
      " [11 50  4]\n",
      " [ 6  0 35]]\n",
      "Random Forest  cm\n",
      "[[54  1  0]\n",
      " [ 4 58  3]\n",
      " [ 0  0 41]]\n",
      "SVM cm\n",
      "[[45  0 10]\n",
      " [ 2  1 62]\n",
      " [ 0  0 41]]\n",
      "SGD Classifier cm\n",
      "[[55  0  0]\n",
      " [65  0  0]\n",
      " [41  0  0]]\n",
      "Logistic Regression cm\n",
      "[[54  0  1]\n",
      " [ 7 48 10]\n",
      " [ 6  2 33]]\n"
     ]
    }
   ],
   "source": [
    "#7-2  오차행렬\n",
    "\n",
    "# disition Tree \n",
    "# Random Forest \n",
    "# SVM \n",
    "# SGD Classifier \n",
    "# Logistic Regression \n",
    "\n",
    "print(\"disition Tree cm\")\n",
    "print(confusion_matrix(y_test, decision_tree_pred))\n",
    "\n",
    "print(\"Random Forest  cm\")\n",
    "print(confusion_matrix(y_test, random_forest_pred))\n",
    "\n",
    "print(\"SVM cm\")\n",
    "print(confusion_matrix(y_test, svm_pred))\n",
    "\n",
    "print(\"SGD Classifier cm\")\n",
    "print(confusion_matrix(y_test, sgd_pred))\n",
    "      \n",
    "print(\"Logistic Regression cm\")\n",
    "print(confusion_matrix(y_test, logistic_pred))"
   ]
  },
  {
   "cell_type": "markdown",
   "metadata": {},
   "source": [
    "# 8 결론 및 코멘트\n",
    "\n"
   ]
  },
  {
   "cell_type": "markdown",
   "metadata": {},
   "source": [
    "전체적인 지표를 보는 f1 score 지표로 판단하였고 random forest가 가장 높았다.\n",
    "\n",
    "최초 test size를 비율을 20%로 돌렸을 때 random forest 와 다른 모델의 몇몇 지표들이 1로 나오는 것을 확인 했고\n",
    "숫자를 올려서 test size를 50% 이상까지 올리니 1인 지표들이 많이 사라졌습니다.\n",
    "\n",
    "지표상 random forest 모델가 거의 1이거나 1에 가까운 지표를 나타내고 있습니다.\n",
    "정확도가 1인 모델이 좋은 모델은 아니라고 들었는데 맞는 가장 좋은 모델인지 의심이됩니다.\n",
    "아니면 와인은 자체가 분류가 하기 쉬운 data 유형일지도 모른다는 생각이 듭니다\n",
    "\n",
    "\n",
    "\n",
    "\n"
   ]
  },
  {
   "cell_type": "code",
   "execution_count": null,
   "metadata": {},
   "outputs": [],
   "source": []
  }
 ],
 "metadata": {
  "kernelspec": {
   "display_name": "Python 3",
   "language": "python",
   "name": "python3"
  },
  "language_info": {
   "codemirror_mode": {
    "name": "ipython",
    "version": 3
   },
   "file_extension": ".py",
   "mimetype": "text/x-python",
   "name": "python",
   "nbconvert_exporter": "python",
   "pygments_lexer": "ipython3",
   "version": "3.7.6"
  }
 },
 "nbformat": 4,
 "nbformat_minor": 4
}
