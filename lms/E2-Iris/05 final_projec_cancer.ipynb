{
 "cells": [
  {
   "cell_type": "markdown",
   "metadata": {},
   "source": [
    "# load_breast_cancer  암 분류\n",
    "\n",
    "\n",
    "\n",
    "1 . 필요 라이브러리 ,  data import\n",
    "\n",
    "2 . data 조회 및 정의\n",
    "\n",
    "3 . train data / test data 정의\n",
    "\n",
    "4 .  모델 정의\n",
    "\n",
    "5 . 모델별 학습\n",
    "- disition Tree 사용해 보기\n",
    "- Random Forest 사용해 보기\n",
    "- SVM 사용해 보기\n",
    "- SGD Classifier 사용해 보기\n",
    "- Logistic Regression 사용해 보기\n",
    "\n",
    "6 . 학습 모델 별 test\n",
    "\n",
    "7 . report 출력 \n",
    "\n",
    "8 . 결론\n"
   ]
  },
  {
   "cell_type": "code",
   "execution_count": null,
   "metadata": {},
   "outputs": [],
   "source": []
  },
  {
   "cell_type": "code",
   "execution_count": 14,
   "metadata": {},
   "outputs": [],
   "source": [
    "#1.\n",
    "\n",
    "#library\n",
    "from sklearn.datasets import load_breast_cancer #data\n",
    "from sklearn.model_selection import train_test_split #data select\n",
    "from sklearn.metrics import classification_report #\n",
    "\n",
    "#model import\n",
    "from sklearn.tree import DecisionTreeClassifier #decision\n",
    "from sklearn.ensemble import RandomForestClassifier #random forest\n",
    "from sklearn import svm #SVM\n",
    "from sklearn.linear_model import SGDClassifier #SGD\n",
    "from sklearn.linear_model import LogisticRegression #logixitc Regressioin\n",
    "from sklearn.metrics import confusion_matrix # \n"
   ]
  },
  {
   "cell_type": "code",
   "execution_count": 15,
   "metadata": {},
   "outputs": [],
   "source": [
    "\n",
    "#2. data load\n",
    "breast_cancers = load_breast_cancer()\n"
   ]
  },
  {
   "cell_type": "code",
   "execution_count": 16,
   "metadata": {},
   "outputs": [
    {
     "data": {
      "text/plain": [
       "dict_keys(['data', 'target', 'frame', 'target_names', 'DESCR', 'feature_names', 'filename'])"
      ]
     },
     "execution_count": 16,
     "metadata": {},
     "output_type": "execute_result"
    }
   ],
   "source": [
    "#2-1 \n",
    "breast_cancers.keys()"
   ]
  },
  {
   "cell_type": "code",
   "execution_count": 17,
   "metadata": {},
   "outputs": [
    {
     "name": "stdout",
     "output_type": "stream",
     "text": [
      "(569, 30)\n"
     ]
    }
   ],
   "source": [
    "#2-2  data shape 조회\n",
    "breast_cancers_data = breast_cancers.data\n",
    "print(breast_cancers_data.shape)"
   ]
  },
  {
   "cell_type": "code",
   "execution_count": 18,
   "metadata": {},
   "outputs": [
    {
     "name": "stdout",
     "output_type": "stream",
     "text": [
      "(569, 30)\n"
     ]
    }
   ],
   "source": [
    "#2-3  data shape 조회\n",
    "breast_cancers_feature = breast_cancers.feature_names\n",
    "print(breast_cancers_data.shape)"
   ]
  },
  {
   "cell_type": "code",
   "execution_count": 19,
   "metadata": {},
   "outputs": [
    {
     "name": "stdout",
     "output_type": "stream",
     "text": [
      "[0 0 0 0 0 0 0 0 0 0 0 0 0 0 0 0 0 0 0 1 1 1 0 0 0 0 0 0 0 0 0 0 0 0 0 0 0\n",
      " 1 0 0 0 0 0 0 0 0 1 0 1 1 1 1 1 0 0 1 0 0 1 1 1 1 0 1 0 0 1 1 1 1 0 1 0 0\n",
      " 1 0 1 0 0 1 1 1 0 0 1 0 0 0 1 1 1 0 1 1 0 0 1 1 1 0 0 1 1 1 1 0 1 1 0 1 1\n",
      " 1 1 1 1 1 1 0 0 0 1 0 0 1 1 1 0 0 1 0 1 0 0 1 0 0 1 1 0 1 1 0 1 1 1 1 0 1\n",
      " 1 1 1 1 1 1 1 1 0 1 1 1 1 0 0 1 0 1 1 0 0 1 1 0 0 1 1 1 1 0 1 1 0 0 0 1 0\n",
      " 1 0 1 1 1 0 1 1 0 0 1 0 0 0 0 1 0 0 0 1 0 1 0 1 1 0 1 0 0 0 0 1 1 0 0 1 1\n",
      " 1 0 1 1 1 1 1 0 0 1 1 0 1 1 0 0 1 0 1 1 1 1 0 1 1 1 1 1 0 1 0 0 0 0 0 0 0\n",
      " 0 0 0 0 0 0 0 1 1 1 1 1 1 0 1 0 1 1 0 1 1 0 1 0 0 1 1 1 1 1 1 1 1 1 1 1 1\n",
      " 1 0 1 1 0 1 0 1 1 1 1 1 1 1 1 1 1 1 1 1 1 0 1 1 1 0 1 0 1 1 1 1 0 0 0 1 1\n",
      " 1 1 0 1 0 1 0 1 1 1 0 1 1 1 1 1 1 1 0 0 0 1 1 1 1 1 1 1 1 1 1 1 0 0 1 0 0\n",
      " 0 1 0 0 1 1 1 1 1 0 1 1 1 1 1 0 1 1 1 0 1 1 0 0 1 1 1 1 1 1 0 1 1 1 1 1 1\n",
      " 1 0 1 1 1 1 1 0 1 1 0 1 1 1 1 1 1 1 1 1 1 1 1 0 1 0 0 1 0 1 1 1 1 1 0 1 1\n",
      " 0 1 0 1 1 0 1 0 1 1 1 1 1 1 1 1 0 0 1 1 1 1 1 1 0 1 1 1 1 1 1 1 1 1 1 0 1\n",
      " 1 1 1 1 1 1 0 1 0 1 1 0 1 1 1 1 1 0 0 1 0 1 0 1 1 1 1 1 0 1 1 0 1 0 1 0 0\n",
      " 1 1 1 0 1 1 1 1 1 1 1 1 1 1 1 0 1 0 0 1 1 1 1 1 1 1 1 1 1 1 1 1 1 1 1 1 1\n",
      " 1 1 1 1 1 1 1 0 0 0 0 0 0 1]\n"
     ]
    }
   ],
   "source": [
    "#2-4 data label 조회\n",
    "breast_cancers_label = breast_cancers.target\n",
    "print (breast_cancers_label)"
   ]
  },
  {
   "cell_type": "code",
   "execution_count": 20,
   "metadata": {},
   "outputs": [
    {
     "name": "stdout",
     "output_type": "stream",
     "text": [
      "['malignant' 'benign']\n"
     ]
    }
   ],
   "source": [
    "#2-5 data target name 조회\n",
    "breast_cancers.target_names\n",
    "print(breast_cancers.target_names)"
   ]
  },
  {
   "cell_type": "code",
   "execution_count": 21,
   "metadata": {},
   "outputs": [
    {
     "name": "stdout",
     "output_type": "stream",
     "text": [
      "X_train 개수:  455 , X_test 개수:  114\n"
     ]
    }
   ],
   "source": [
    "#3 train data / test data crate\n",
    "\n",
    "x_train, x_test, y_train, y_test = train_test_split(breast_cancers_data,\n",
    "                                                    breast_cancers_label,\n",
    "                                                    test_size = 0.2,\n",
    "                                                    random_state = 15)\n",
    "\n",
    "\n",
    "print('X_train 개수: ', len(x_train), ', X_test 개수: ', len(x_test))"
   ]
  },
  {
   "cell_type": "code",
   "execution_count": 22,
   "metadata": {},
   "outputs": [
    {
     "data": {
      "text/plain": [
       "((455, 30), (455,))"
      ]
     },
     "execution_count": 22,
     "metadata": {},
     "output_type": "execute_result"
    }
   ],
   "source": [
    "#3-1 train data shpae 조회\n",
    "x_train.shape, y_train.shape"
   ]
  },
  {
   "cell_type": "code",
   "execution_count": 23,
   "metadata": {},
   "outputs": [
    {
     "data": {
      "text/plain": [
       "((114, 30), (114,))"
      ]
     },
     "execution_count": 23,
     "metadata": {},
     "output_type": "execute_result"
    }
   ],
   "source": [
    "#3-2 test data shape 조회\n",
    "x_test.shape, y_test.shape"
   ]
  },
  {
   "cell_type": "code",
   "execution_count": 24,
   "metadata": {},
   "outputs": [],
   "source": [
    "#4 model 정의\n",
    "\n",
    "# disition Tree \n",
    "# Random Forest \n",
    "# SVM \n",
    "# SGD Classifier \n",
    "# Logistic Regression \n",
    "\n",
    "decision_tree_model = DecisionTreeClassifier(random_state=32)\n",
    "random_forest_model = RandomForestClassifier(random_state=32)\n",
    "svm_model = svm.SVC()\n",
    "sgd_model = SGDClassifier()\n",
    "logistic_model = LogisticRegression(max_iter = 2000) # defult 값이 100인데, 분석 data 개수가 1437개여서 명시적 지정\n",
    "\n"
   ]
  },
  {
   "cell_type": "code",
   "execution_count": 25,
   "metadata": {},
   "outputs": [
    {
     "name": "stderr",
     "output_type": "stream",
     "text": [
      "/home/aiffel0042/anaconda3/envs/aiffel/lib/python3.7/site-packages/sklearn/linear_model/_logistic.py:764: ConvergenceWarning: lbfgs failed to converge (status=1):\n",
      "STOP: TOTAL NO. of ITERATIONS REACHED LIMIT.\n",
      "\n",
      "Increase the number of iterations (max_iter) or scale the data as shown in:\n",
      "    https://scikit-learn.org/stable/modules/preprocessing.html\n",
      "Please also refer to the documentation for alternative solver options:\n",
      "    https://scikit-learn.org/stable/modules/linear_model.html#logistic-regression\n",
      "  extra_warning_msg=_LOGISTIC_SOLVER_CONVERGENCE_MSG)\n"
     ]
    },
    {
     "data": {
      "text/plain": [
       "LogisticRegression(max_iter=2000)"
      ]
     },
     "execution_count": 25,
     "metadata": {},
     "output_type": "execute_result"
    }
   ],
   "source": [
    "#5 모델별 학습 진행 (fit)  traing\n",
    "\n",
    "# disition Tree \n",
    "# Random Forest \n",
    "# SVM \n",
    "# SGD Classifier \n",
    "# Logistic Regression \n",
    "# disition Tree \n",
    "# Random Forest \n",
    "# SVM \n",
    "# SGD Classifier \n",
    "# Logistic Regression \n",
    "\n",
    "\n",
    "\n",
    "decision_tree_model.fit(x_train, y_train)\n",
    "random_forest_model.fit(x_train, y_train)\n",
    "svm_model.fit(x_train, y_train)\n",
    "sgd_model.fit(x_train, y_train)\n",
    "logistic_model.fit(x_train, y_train)\n"
   ]
  },
  {
   "cell_type": "code",
   "execution_count": 26,
   "metadata": {},
   "outputs": [],
   "source": [
    "#6 test data 예측  \n",
    "\n",
    "# disition Tree \n",
    "# Random Forest \n",
    "# SVM \n",
    "# SGD Classifier \n",
    "# Logistic Regression \n",
    "\n",
    "decision_tree_pred = decision_tree_model.predict(x_test)\n",
    "random_forest_pred  = random_forest_model.predict(x_test)\n",
    "svm_pred = svm_model.predict(x_test)\n",
    "sgd_pred = sgd_model.predict(x_test)\n",
    "logistic_pred = logistic_model.predict(x_test)\n",
    "\n"
   ]
  },
  {
   "cell_type": "code",
   "execution_count": 27,
   "metadata": {},
   "outputs": [
    {
     "name": "stdout",
     "output_type": "stream",
     "text": [
      "disition Tree report\n",
      "              precision    recall  f1-score   support\n",
      "\n",
      "           0       0.97      0.87      0.92        39\n",
      "           1       0.94      0.99      0.96        75\n",
      "\n",
      "    accuracy                           0.95       114\n",
      "   macro avg       0.95      0.93      0.94       114\n",
      "weighted avg       0.95      0.95      0.95       114\n",
      "\n",
      "Random Forest  report\n",
      "              precision    recall  f1-score   support\n",
      "\n",
      "           0       0.94      0.87      0.91        39\n",
      "           1       0.94      0.97      0.95        75\n",
      "\n",
      "    accuracy                           0.94       114\n",
      "   macro avg       0.94      0.92      0.93       114\n",
      "weighted avg       0.94      0.94      0.94       114\n",
      "\n",
      "SVM report\n",
      "              precision    recall  f1-score   support\n",
      "\n",
      "           0       0.93      0.67      0.78        39\n",
      "           1       0.85      0.97      0.91        75\n",
      "\n",
      "    accuracy                           0.87       114\n",
      "   macro avg       0.89      0.82      0.84       114\n",
      "weighted avg       0.88      0.87      0.86       114\n",
      "\n",
      "SGD Classifier report\n",
      "              precision    recall  f1-score   support\n",
      "\n",
      "           0       0.66      0.85      0.74        39\n",
      "           1       0.91      0.77      0.83        75\n",
      "\n",
      "    accuracy                           0.80       114\n",
      "   macro avg       0.78      0.81      0.79       114\n",
      "weighted avg       0.82      0.80      0.80       114\n",
      "\n",
      "Logistic Regression report\n",
      "              precision    recall  f1-score   support\n",
      "\n",
      "           0       0.86      0.82      0.84        39\n",
      "           1       0.91      0.93      0.92        75\n",
      "\n",
      "    accuracy                           0.89       114\n",
      "   macro avg       0.89      0.88      0.88       114\n",
      "weighted avg       0.89      0.89      0.89       114\n",
      "\n"
     ]
    }
   ],
   "source": [
    "#7 결과 출력\n",
    "\n",
    "#7-1\n",
    "# disition Tree \n",
    "# Random Forest \n",
    "# SVM \n",
    "# SGD Classifier \n",
    "# Logistic Regression \n",
    "\n",
    "print(\"disition Tree report\")\n",
    "print(classification_report(y_test, decision_tree_pred))\n",
    "\n",
    "print(\"Random Forest  report\")\n",
    "print(classification_report(y_test, random_forest_pred))\n",
    "\n",
    "print(\"SVM report\")\n",
    "print(classification_report(y_test, svm_pred))\n",
    "\n",
    "print(\"SGD Classifier report\")\n",
    "print(classification_report(y_test, sgd_pred))\n",
    "      \n",
    "print(\"Logistic Regression report\")\n",
    "print(classification_report(y_test, logistic_pred))\n",
    "\n"
   ]
  },
  {
   "cell_type": "code",
   "execution_count": 28,
   "metadata": {},
   "outputs": [
    {
     "name": "stdout",
     "output_type": "stream",
     "text": [
      "disition Tree report\n",
      "[[34  5]\n",
      " [ 1 74]]\n",
      "Random Forest  report\n",
      "[[34  5]\n",
      " [ 2 73]]\n",
      "SVM report\n",
      "[[26 13]\n",
      " [ 2 73]]\n",
      "SGD Classifier report\n",
      "[[33  6]\n",
      " [17 58]]\n",
      "Logistic Regression report\n",
      "[[32  7]\n",
      " [ 5 70]]\n"
     ]
    }
   ],
   "source": [
    "#7-2  오차행렬\n",
    "\n",
    "# disition Tree \n",
    "# Random Forest \n",
    "# SVM \n",
    "# SGD Classifier \n",
    "# Logistic Regression \n",
    "\n",
    "print(\"disition Tree report\")\n",
    "print(confusion_matrix(y_test, decision_tree_pred))\n",
    "\n",
    "print(\"Random Forest  report\")\n",
    "print(confusion_matrix(y_test, random_forest_pred))\n",
    "\n",
    "print(\"SVM report\")\n",
    "print(confusion_matrix(y_test, svm_pred))\n",
    "\n",
    "print(\"SGD Classifier report\")\n",
    "print(confusion_matrix(y_test, sgd_pred))\n",
    "      \n",
    "print(\"Logistic Regression report\")\n",
    "print(confusion_matrix(y_test, logistic_pred))"
   ]
  },
  {
   "cell_type": "markdown",
   "metadata": {},
   "source": [
    "# 8 결론 및 코멘트\n",
    "\n"
   ]
  },
  {
   "cell_type": "code",
   "execution_count": null,
   "metadata": {},
   "outputs": [],
   "source": [
    "(미완)\n"
   ]
  }
 ],
 "metadata": {
  "kernelspec": {
   "display_name": "Python 3",
   "language": "python",
   "name": "python3"
  },
  "language_info": {
   "codemirror_mode": {
    "name": "ipython",
    "version": 3
   },
   "file_extension": ".py",
   "mimetype": "text/x-python",
   "name": "python",
   "nbconvert_exporter": "python",
   "pygments_lexer": "ipython3",
   "version": "3.7.6"
  }
 },
 "nbformat": 4,
 "nbformat_minor": 4
}
