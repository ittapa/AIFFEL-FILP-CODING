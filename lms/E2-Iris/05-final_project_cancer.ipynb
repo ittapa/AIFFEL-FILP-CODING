{
 "cells": [
  {
   "cell_type": "markdown",
   "metadata": {},
   "source": [
    "# load_breast_cancer  암 분류\n",
    "\n",
    "\n",
    "\n",
    "1 . 필요 라이브러리 ,  data import\n",
    "\n",
    "2 . data 조회 및 정의\n",
    "\n",
    "3 . train data / test data 정의\n",
    "\n",
    "4 .  모델 정의\n",
    "\n",
    "5 . 모델별 학습\n",
    "- disition Tree 사용해 보기\n",
    "- Random Forest 사용해 보기\n",
    "- SVM 사용해 보기\n",
    "- SGD Classifier 사용해 보기\n",
    "- Logistic Regression 사용해 보기\n",
    "\n",
    "6 . 학습 모델 별 test\n",
    "\n",
    "7 . report 출력 \n",
    "\n",
    "8 . 결론\n"
   ]
  },
  {
   "cell_type": "code",
   "execution_count": null,
   "metadata": {},
   "outputs": [],
   "source": []
  },
  {
   "cell_type": "code",
   "execution_count": 36,
   "metadata": {},
   "outputs": [],
   "source": [
    "#1.\n",
    "\n",
    "#library\n",
    "from sklearn.datasets import load_breast_cancer #data\n",
    "from sklearn.model_selection import train_test_split #data select\n",
    "from sklearn.metrics import classification_report #\n",
    "\n",
    "#model import\n",
    "from sklearn.tree import DecisionTreeClassifier #decision\n",
    "from sklearn.ensemble import RandomForestClassifier #random forest\n",
    "from sklearn import svm #SVM\n",
    "from sklearn.linear_model import SGDClassifier #SGD\n",
    "from sklearn.linear_model import LogisticRegression #logixitc Regressioin\n",
    "from sklearn.metrics import confusion_matrix # \n",
    "from sklearn.metrics import recall_score\n"
   ]
  },
  {
   "cell_type": "code",
   "execution_count": 4,
   "metadata": {},
   "outputs": [],
   "source": [
    "\n",
    "#2. data load\n",
    "breast_cancers = load_breast_cancer()\n"
   ]
  },
  {
   "cell_type": "code",
   "execution_count": 5,
   "metadata": {},
   "outputs": [
    {
     "data": {
      "text/plain": [
       "dict_keys(['data', 'target', 'frame', 'target_names', 'DESCR', 'feature_names', 'filename'])"
      ]
     },
     "execution_count": 5,
     "metadata": {},
     "output_type": "execute_result"
    }
   ],
   "source": [
    "#2-1 \n",
    "breast_cancers.keys()"
   ]
  },
  {
   "cell_type": "code",
   "execution_count": 6,
   "metadata": {},
   "outputs": [
    {
     "name": "stdout",
     "output_type": "stream",
     "text": [
      "(569, 30)\n"
     ]
    }
   ],
   "source": [
    "#2-2  data shape 조회\n",
    "breast_cancers_data = breast_cancers.data\n",
    "print(breast_cancers_data.shape)"
   ]
  },
  {
   "cell_type": "code",
   "execution_count": 7,
   "metadata": {},
   "outputs": [
    {
     "name": "stdout",
     "output_type": "stream",
     "text": [
      "(569, 30)\n"
     ]
    }
   ],
   "source": [
    "#2-3  data shape 조회\n",
    "breast_cancers_feature = breast_cancers.feature_names\n",
    "print(breast_cancers_data.shape)"
   ]
  },
  {
   "cell_type": "code",
   "execution_count": 8,
   "metadata": {},
   "outputs": [
    {
     "name": "stdout",
     "output_type": "stream",
     "text": [
      "[0 0 0 0 0 0 0 0 0 0 0 0 0 0 0 0 0 0 0 1 1 1 0 0 0 0 0 0 0 0 0 0 0 0 0 0 0\n",
      " 1 0 0 0 0 0 0 0 0 1 0 1 1 1 1 1 0 0 1 0 0 1 1 1 1 0 1 0 0 1 1 1 1 0 1 0 0\n",
      " 1 0 1 0 0 1 1 1 0 0 1 0 0 0 1 1 1 0 1 1 0 0 1 1 1 0 0 1 1 1 1 0 1 1 0 1 1\n",
      " 1 1 1 1 1 1 0 0 0 1 0 0 1 1 1 0 0 1 0 1 0 0 1 0 0 1 1 0 1 1 0 1 1 1 1 0 1\n",
      " 1 1 1 1 1 1 1 1 0 1 1 1 1 0 0 1 0 1 1 0 0 1 1 0 0 1 1 1 1 0 1 1 0 0 0 1 0\n",
      " 1 0 1 1 1 0 1 1 0 0 1 0 0 0 0 1 0 0 0 1 0 1 0 1 1 0 1 0 0 0 0 1 1 0 0 1 1\n",
      " 1 0 1 1 1 1 1 0 0 1 1 0 1 1 0 0 1 0 1 1 1 1 0 1 1 1 1 1 0 1 0 0 0 0 0 0 0\n",
      " 0 0 0 0 0 0 0 1 1 1 1 1 1 0 1 0 1 1 0 1 1 0 1 0 0 1 1 1 1 1 1 1 1 1 1 1 1\n",
      " 1 0 1 1 0 1 0 1 1 1 1 1 1 1 1 1 1 1 1 1 1 0 1 1 1 0 1 0 1 1 1 1 0 0 0 1 1\n",
      " 1 1 0 1 0 1 0 1 1 1 0 1 1 1 1 1 1 1 0 0 0 1 1 1 1 1 1 1 1 1 1 1 0 0 1 0 0\n",
      " 0 1 0 0 1 1 1 1 1 0 1 1 1 1 1 0 1 1 1 0 1 1 0 0 1 1 1 1 1 1 0 1 1 1 1 1 1\n",
      " 1 0 1 1 1 1 1 0 1 1 0 1 1 1 1 1 1 1 1 1 1 1 1 0 1 0 0 1 0 1 1 1 1 1 0 1 1\n",
      " 0 1 0 1 1 0 1 0 1 1 1 1 1 1 1 1 0 0 1 1 1 1 1 1 0 1 1 1 1 1 1 1 1 1 1 0 1\n",
      " 1 1 1 1 1 1 0 1 0 1 1 0 1 1 1 1 1 0 0 1 0 1 0 1 1 1 1 1 0 1 1 0 1 0 1 0 0\n",
      " 1 1 1 0 1 1 1 1 1 1 1 1 1 1 1 0 1 0 0 1 1 1 1 1 1 1 1 1 1 1 1 1 1 1 1 1 1\n",
      " 1 1 1 1 1 1 1 0 0 0 0 0 0 1]\n"
     ]
    }
   ],
   "source": [
    "#2-4 data label 조회\n",
    "breast_cancers_label = breast_cancers.target\n",
    "print (breast_cancers_label)"
   ]
  },
  {
   "cell_type": "code",
   "execution_count": 9,
   "metadata": {},
   "outputs": [
    {
     "name": "stdout",
     "output_type": "stream",
     "text": [
      "['malignant' 'benign']\n"
     ]
    }
   ],
   "source": [
    "#2-5 data target name 조회\n",
    "breast_cancers.target_names\n",
    "print(breast_cancers.target_names)"
   ]
  },
  {
   "cell_type": "code",
   "execution_count": 10,
   "metadata": {},
   "outputs": [
    {
     "name": "stdout",
     "output_type": "stream",
     "text": [
      "X_train 개수:  455 , X_test 개수:  114\n"
     ]
    }
   ],
   "source": [
    "#3 train data / test data crate\n",
    "\n",
    "x_train, x_test, y_train, y_test = train_test_split(breast_cancers_data,\n",
    "                                                    breast_cancers_label,\n",
    "                                                    test_size = 0.2,\n",
    "                                                    random_state = 15)\n",
    "\n",
    "\n",
    "print('X_train 개수: ', len(x_train), ', X_test 개수: ', len(x_test))"
   ]
  },
  {
   "cell_type": "code",
   "execution_count": 11,
   "metadata": {},
   "outputs": [
    {
     "data": {
      "text/plain": [
       "((455, 30), (455,))"
      ]
     },
     "execution_count": 11,
     "metadata": {},
     "output_type": "execute_result"
    }
   ],
   "source": [
    "#3-1 train data shpae 조회\n",
    "x_train.shape, y_train.shape"
   ]
  },
  {
   "cell_type": "code",
   "execution_count": 12,
   "metadata": {},
   "outputs": [
    {
     "data": {
      "text/plain": [
       "((114, 30), (114,))"
      ]
     },
     "execution_count": 12,
     "metadata": {},
     "output_type": "execute_result"
    }
   ],
   "source": [
    "#3-2 test data shape 조회\n",
    "x_test.shape, y_test.shape"
   ]
  },
  {
   "cell_type": "code",
   "execution_count": 18,
   "metadata": {},
   "outputs": [],
   "source": [
    "#4 model 정의\n",
    "\n",
    "# disition Tree \n",
    "# Random Forest \n",
    "# SVM \n",
    "# SGD Classifier \n",
    "# Logistic Regression \n",
    "\n",
    "decision_tree_model = DecisionTreeClassifier(random_state=32)\n",
    "random_forest_model = RandomForestClassifier(random_state=32)\n",
    "svm_model = svm.SVC()\n",
    "sgd_model = SGDClassifier()\n",
    "logistic_model = LogisticRegression(max_iter = 4000) # defult 값이 100인데, 분석 data 개수가 1437개여서 명시적 지정\n",
    "\n"
   ]
  },
  {
   "cell_type": "code",
   "execution_count": 19,
   "metadata": {},
   "outputs": [
    {
     "data": {
      "text/plain": [
       "LogisticRegression(max_iter=4000)"
      ]
     },
     "execution_count": 19,
     "metadata": {},
     "output_type": "execute_result"
    }
   ],
   "source": [
    "#5 모델별 학습 진행 (fit)  traing\n",
    "\n",
    "# disition Tree \n",
    "# Random Forest \n",
    "# SVM \n",
    "# SGD Classifier \n",
    "# Logistic Regression \n",
    "# disition Tree \n",
    "# Random Forest \n",
    "# SVM \n",
    "# SGD Classifier \n",
    "# Logistic Regression \n",
    "\n",
    "\n",
    "\n",
    "decision_tree_model.fit(x_train, y_train)\n",
    "random_forest_model.fit(x_train, y_train)\n",
    "svm_model.fit(x_train, y_train)\n",
    "sgd_model.fit(x_train, y_train)\n",
    "logistic_model.fit(x_train, y_train)\n"
   ]
  },
  {
   "cell_type": "code",
   "execution_count": 20,
   "metadata": {},
   "outputs": [],
   "source": [
    "#6 test data 예측  \n",
    "\n",
    "# disition Tree \n",
    "# Random Forest \n",
    "# SVM \n",
    "# SGD Classifier \n",
    "# Logistic Regression \n",
    "\n",
    "decision_tree_pred = decision_tree_model.predict(x_test)\n",
    "random_forest_pred  = random_forest_model.predict(x_test)\n",
    "svm_pred = svm_model.predict(x_test)\n",
    "sgd_pred = sgd_model.predict(x_test)\n",
    "logistic_pred = logistic_model.predict(x_test)\n",
    "\n"
   ]
  },
  {
   "cell_type": "code",
   "execution_count": 41,
   "metadata": {},
   "outputs": [
    {
     "name": "stdout",
     "output_type": "stream",
     "text": [
      "disition Tree report\n",
      "              precision    recall  f1-score   support\n",
      "\n",
      "           0       0.97      0.87      0.92        39\n",
      "           1       0.94      0.99      0.96        75\n",
      "\n",
      "    accuracy                           0.95       114\n",
      "   macro avg       0.95      0.93      0.94       114\n",
      "weighted avg       0.95      0.95      0.95       114\n",
      "\n",
      "Random Forest  report\n",
      "              precision    recall  f1-score   support\n",
      "\n",
      "           0       0.94      0.87      0.91        39\n",
      "           1       0.94      0.97      0.95        75\n",
      "\n",
      "    accuracy                           0.94       114\n",
      "   macro avg       0.94      0.92      0.93       114\n",
      "weighted avg       0.94      0.94      0.94       114\n",
      "\n",
      "SVM report\n",
      "              precision    recall  f1-score   support\n",
      "\n",
      "           0       0.93      0.67      0.78        39\n",
      "           1       0.85      0.97      0.91        75\n",
      "\n",
      "    accuracy                           0.87       114\n",
      "   macro avg       0.89      0.82      0.84       114\n",
      "weighted avg       0.88      0.87      0.86       114\n",
      "\n",
      "SGD Classifier report\n",
      "              precision    recall  f1-score   support\n",
      "\n",
      "           0       0.80      0.85      0.83        39\n",
      "           1       0.92      0.89      0.91        75\n",
      "\n",
      "    accuracy                           0.88       114\n",
      "   macro avg       0.86      0.87      0.87       114\n",
      "weighted avg       0.88      0.88      0.88       114\n",
      "\n",
      "Logistic Regression report\n",
      "              precision    recall  f1-score   support\n",
      "\n",
      "           0       0.86      0.82      0.84        39\n",
      "           1       0.91      0.93      0.92        75\n",
      "\n",
      "    accuracy                           0.89       114\n",
      "   macro avg       0.89      0.88      0.88       114\n",
      "weighted avg       0.89      0.89      0.89       114\n",
      "\n"
     ]
    }
   ],
   "source": [
    "#7 결과 출력\n",
    "\n",
    "#7-1\n",
    "# disition Tree \n",
    "# Random Forest \n",
    "# SVM \n",
    "# SGD Classifier \n",
    "# Logistic Regression \n",
    "\n",
    "print(\"disition Tree report\")\n",
    "print(classification_report(y_test, decision_tree_pred))\n",
    "\n",
    "print(\"Random Forest  report\")\n",
    "print(classification_report(y_test, random_forest_pred))\n",
    "\n",
    "print(\"SVM report\")\n",
    "print(classification_report(y_test, svm_pred))\n",
    "\n",
    "print(\"SGD Classifier report\")\n",
    "print(classification_report(y_test, sgd_pred))\n",
    "      \n",
    "print(\"Logistic Regression report\")\n",
    "print(classification_report(y_test, logistic_pred))\n",
    "\n"
   ]
  },
  {
   "cell_type": "code",
   "execution_count": 26,
   "metadata": {},
   "outputs": [
    {
     "name": "stdout",
     "output_type": "stream",
     "text": [
      "\n",
      " disition Tree cm\n",
      "[[34  5]\n",
      " [ 1 74]]\n",
      "\n",
      " Random Forest cm\n",
      "[[34  5]\n",
      " [ 2 73]]\n",
      "\n",
      " SVM report\n",
      "[[26 13]\n",
      " [ 2 73]]\n",
      "\n",
      " SGD Classifier cm\n",
      "[[33  6]\n",
      " [ 8 67]]\n",
      "\n",
      " Logistic Regression cm\n",
      "[[32  7]\n",
      " [ 5 70]]\n"
     ]
    }
   ],
   "source": [
    "#7-2  오차행렬\n",
    "\n",
    "# disition Tree \n",
    "# Random Forest \n",
    "# SVM \n",
    "# SGD Classifier \n",
    "# Logistic Regression \n",
    "\n",
    "print(\"\\n disition Tree cm\")\n",
    "disition_cm = confusion_matrix(y_test, decision_tree_pred)\n",
    "print(disition_cm)\n",
    "\n",
    "print(\"\\n Random Forest cm\")\n",
    "random_forest_cm = confusion_matrix(y_test, random_forest_pred)\n",
    "print(random_forest_cm)\n",
    "\n",
    "print(\"\\n SVM cm\")\n",
    "svm_cm = confusion_matrix(y_test, svm_pred)\n",
    "print(svm_cm)\n",
    "\n",
    "print(\"\\n SGD Classifier cm\")\n",
    "sgd_cm = confusion_matrix(y_test, sgd_pred)\n",
    "print(sgd_cm)\n",
    "      \n",
    "print(\"\\n Logistic Regression cm\")\n",
    "logisitc_cm = confusion_matrix(y_test, logistic_pred)\n",
    "print(logisitc_cm)"
   ]
  },
  {
   "cell_type": "code",
   "execution_count": 40,
   "metadata": {},
   "outputs": [
    {
     "name": "stdout",
     "output_type": "stream",
     "text": [
      "\n",
      " disition Tree recall\n",
      "0.9866666666666667\n",
      "\n",
      " Random Forest recall\n",
      "0.9733333333333334\n",
      "\n",
      " SVM recall\n",
      "0.9733333333333334\n",
      "\n",
      " SGD Classifier recall\n",
      "0.8933333333333333\n",
      "\n",
      " Logistic Regression recall\n",
      "0.9333333333333333\n"
     ]
    }
   ],
   "source": [
    "#7-3 모델별 5차 행렬 계산\n",
    "\n",
    "# disition Tree \n",
    "# Random Forest \n",
    "# SVM \n",
    "# SGD Classifier \n",
    "# Logistic Regression \n",
    "\n",
    "\n",
    "print(\"\\n disition Tree recall\")\n",
    "#disition_recall = disition_cm[0,0] / (disition_cm[0,0] + disition_cm[0,1])\n",
    "disition_recall = recall_score(y_test, decision_tree_pred)\n",
    "print(disition_recall)\n",
    "\n",
    "print(\"\\n Random Forest recall\")\n",
    "#random_forest_recall =  random_forest_cm[0,0] / (random_forest_cm[0,0] + random_forest_cm[0,1])\n",
    "random_forest_recall = recall_score(y_test, random_forest_pred)\n",
    "print(random_forest_recall)\n",
    "\n",
    "print(\"\\n SVM recall\")\n",
    "#svm_recall =  svm_cm[0,0] / (svm_cm[0,0] + svm_cm[0,1])\n",
    "svm_recall = recall_score(y_test, svm_pred)\n",
    "print(svm_recall)\n",
    "\n",
    "print(\"\\n SGD Classifier recall\")\n",
    "#sgd_recall =  sgd_cm[0,0] / (sgd_cm[0,0] + sgd_cm[0,1])\n",
    "sgd_recall = recall_score(y_test, sgd_pred)\n",
    "print(sgd_recall)\n",
    "      \n",
    "print(\"\\n Logistic Regression recall\")\n",
    "#logisitc_recall =  logisitc_cm[0,0] / (logisitc_cm[0,0] + logisitc_cm[0,1])\n",
    "logisitc_recall =  recall_score(y_test, logistic_pred)\n",
    "print(logisitc_recall)"
   ]
  },
  {
   "cell_type": "markdown",
   "metadata": {},
   "source": [
    "# 8 결론 및 코멘트\n",
    "\n"
   ]
  },
  {
   "cell_type": "markdown",
   "metadata": {},
   "source": [
    "암같은 질병의 경우 상황 자체만 보면,\n",
    "(실제)  - (예측)   \n",
    "암에 걸림 - 암 진단   \n",
    "암에 걸림 - 정상   \n",
    "암 아님 - 암진단   \n",
    "암 아님 - 정상   \n",
    "\n",
    "위와 같은 상황이 있는데, 질병이기때문에 질병에 실제 사람이 질병에 걸렸을 때가 가장 중요한 상황이다.\n",
    "실제로 암이 아닌 사람은 정상판정을 받으면 좋은거고, 예측이 암 진단으로 나온다면 마음은 아프겠지만, 실제 몸 건강 상황이 악화되는 것은 아니다.그러나 가장 중요한 상황인 암에 걸렸을 때 암 진단을 받는 것은 올바른 상황이자만 반대로 정상으로 판정이 나와 버린다면 가장 안 좋은 상황이 된다. 자기 몸 건강 상황도 모른채 치료도 못 받고 고통받게 되기 때문이다.\n",
    "\n",
    "그래서 실제 암 일때, 암을 진단하는 것이 중요하기 때문에\n",
    "성능지표 중 Recall(sensitivity) 가 중요하다.\n",
    "\n",
    "recall 기준 의사결정 트리가 모델 중 높은 수치가 나왔습니다.\n",
    "\n",
    "\n",
    "\n"
   ]
  },
  {
   "cell_type": "code",
   "execution_count": null,
   "metadata": {},
   "outputs": [],
   "source": [
    "\n"
   ]
  },
  {
   "cell_type": "markdown",
   "metadata": {},
   "source": [
    "### 질문거리\n",
    "\n",
    "1. LogisticRegression(max_iter=4000)  : max_iter 값 명시에 대한 정리\n",
    "2. 내장 함수 사용 관련\n",
    "3. 오차행렬 숫자들의 의미, 그리고 각 성능지표 계산과 함수 사용\n",
    "4. support 의 의미\n",
    "5. specificity 랑 negativ predicitve value 사용 안하는 이유...\n"
   ]
  },
  {
   "cell_type": "code",
   "execution_count": null,
   "metadata": {},
   "outputs": [],
   "source": []
  }
 ],
 "metadata": {
  "kernelspec": {
   "display_name": "Python 3",
   "language": "python",
   "name": "python3"
  },
  "language_info": {
   "codemirror_mode": {
    "name": "ipython",
    "version": 3
   },
   "file_extension": ".py",
   "mimetype": "text/x-python",
   "name": "python",
   "nbconvert_exporter": "python",
   "pygments_lexer": "ipython3",
   "version": "3.7.6"
  }
 },
 "nbformat": 4,
 "nbformat_minor": 4
}
