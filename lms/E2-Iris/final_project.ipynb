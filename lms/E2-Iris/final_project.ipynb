{
 "cells": [
  {
   "cell_type": "markdown",
   "metadata": {},
   "source": [
    "# load-digit  손글시 분류\n",
    "\n",
    "#### 0~9까지 열 가지 카테고리   \n",
    "\n",
    "\n",
    "\n",
    "1 . 필요 라이브러리 ,  data import\n",
    "\n",
    "2 . data 조회 및 정의\n",
    "\n",
    "3 . train data / test data 정의\n",
    "\n",
    "4 .  모델 정의\n",
    "\n",
    "5 . 모델별 학습\n",
    "- disition Tree 사용해 보기\n",
    "- Random Forest 사용해 보기\n",
    "- SVM 사용해 보기\n",
    "- SGD Classifier 사용해 보기\n",
    "- Logistic Regression 사용해 보기\n",
    "\n",
    "6 . 학습 모델 별 test\n",
    "\n",
    "7 . report 출력 \n",
    "\n",
    "8 . 결론\n"
   ]
  },
  {
   "cell_type": "code",
   "execution_count": null,
   "metadata": {},
   "outputs": [],
   "source": []
  },
  {
   "cell_type": "code",
   "execution_count": 50,
   "metadata": {},
   "outputs": [],
   "source": [
    "#1.\n",
    "\n",
    "#library\n",
    "from sklearn.datasets import load_digits #data\n",
    "from sklearn.model_selection import train_test_split #data select\n",
    "from sklearn.metrics import classification_report #\n",
    "\n",
    "#model import\n",
    "from sklearn.tree import DecisionTreeClassifier #decision\n",
    "from sklearn.ensemble import RandomForestClassifier #random forest\n",
    "from sklearn import svm #SVM\n",
    "from sklearn.linear_model import SGDClassifier #SGD\n",
    "from sklearn.linear_model import LogisticRegression #logixitc Regressioin\n",
    "from sklearn.metrics import confusion_matrix # \n"
   ]
  },
  {
   "cell_type": "code",
   "execution_count": 9,
   "metadata": {},
   "outputs": [],
   "source": [
    "\n",
    "#2. data load\n",
    "digits = load_digits()\n"
   ]
  },
  {
   "cell_type": "code",
   "execution_count": 10,
   "metadata": {},
   "outputs": [
    {
     "data": {
      "text/plain": [
       "dict_keys(['data', 'target', 'target_names', 'images', 'DESCR'])"
      ]
     },
     "execution_count": 10,
     "metadata": {},
     "output_type": "execute_result"
    }
   ],
   "source": [
    "#2-1 \n",
    "digits.keys()"
   ]
  },
  {
   "cell_type": "code",
   "execution_count": 19,
   "metadata": {},
   "outputs": [
    {
     "name": "stdout",
     "output_type": "stream",
     "text": [
      "(1797, 64)\n"
     ]
    }
   ],
   "source": [
    "#2-2  data shape 조회\n",
    "digits_data = digits.data\n",
    "print(digits_data.shape)"
   ]
  },
  {
   "cell_type": "code",
   "execution_count": null,
   "metadata": {},
   "outputs": [],
   "source": [
    "#2-3  data shape 조회\n",
    "digits_feature = digits.feature_names\n",
    "print(digits_data.shape)"
   ]
  },
  {
   "cell_type": "code",
   "execution_count": 14,
   "metadata": {},
   "outputs": [
    {
     "name": "stdout",
     "output_type": "stream",
     "text": [
      "[0 1 2 ... 8 9 8]\n"
     ]
    }
   ],
   "source": [
    "#2-4 data label 조회\n",
    "digits_label = digits.target\n",
    "print (digits_label)"
   ]
  },
  {
   "cell_type": "code",
   "execution_count": 17,
   "metadata": {},
   "outputs": [
    {
     "name": "stdout",
     "output_type": "stream",
     "text": [
      "[0 1 2 3 4 5 6 7 8 9]\n"
     ]
    }
   ],
   "source": [
    "#2-5 data target name 조회\n",
    "digits.target_names\n",
    "print(digits.target_names)"
   ]
  },
  {
   "cell_type": "code",
   "execution_count": 25,
   "metadata": {},
   "outputs": [
    {
     "name": "stdout",
     "output_type": "stream",
     "text": [
      "X_train 개수:  1437 , X_test 개수:  360\n"
     ]
    }
   ],
   "source": [
    "#3 train data / test data crate\n",
    "\n",
    "x_train, x_test, y_train, y_test = train_test_split(digits_data,\n",
    "                                                    digits_label,\n",
    "                                                    test_size = 0.2,\n",
    "                                                    random_state = 15)\n",
    "\n",
    "\n",
    "print('X_train 개수: ', len(x_train), ', X_test 개수: ', len(x_test))"
   ]
  },
  {
   "cell_type": "code",
   "execution_count": 26,
   "metadata": {},
   "outputs": [
    {
     "data": {
      "text/plain": [
       "((1437, 64), (1437,))"
      ]
     },
     "execution_count": 26,
     "metadata": {},
     "output_type": "execute_result"
    }
   ],
   "source": [
    "#3-1 train data shpae 조회\n",
    "x_train.shape, y_train.shape"
   ]
  },
  {
   "cell_type": "code",
   "execution_count": 27,
   "metadata": {},
   "outputs": [
    {
     "data": {
      "text/plain": [
       "((360, 64), (360,))"
      ]
     },
     "execution_count": 27,
     "metadata": {},
     "output_type": "execute_result"
    }
   ],
   "source": [
    "#3-2 test data shape 조회\n",
    "x_test.shape, y_test.shape"
   ]
  },
  {
   "cell_type": "code",
   "execution_count": 35,
   "metadata": {},
   "outputs": [],
   "source": [
    "#4 model 정의\n",
    "\n",
    "# disition Tree \n",
    "# Random Forest \n",
    "# SVM \n",
    "# SGD Classifier \n",
    "# Logistic Regression \n",
    "\n",
    "decision_tree_model = DecisionTreeClassifier(random_state=32)\n",
    "random_forest_model = RandomForestClassifier(random_state=32)\n",
    "svm_model = svm.SVC()\n",
    "sgd_model = SGDClassifier()\n",
    "logistic_model = LogisticRegression(max_iter = 2000) # defult 값이 100인데, 분석 data 개수가 1437개여서 명시적 지정\n",
    "\n"
   ]
  },
  {
   "cell_type": "code",
   "execution_count": 36,
   "metadata": {},
   "outputs": [
    {
     "data": {
      "text/plain": [
       "LogisticRegression(C=1.0, class_weight=None, dual=False, fit_intercept=True,\n",
       "                   intercept_scaling=1, l1_ratio=None, max_iter=2000,\n",
       "                   multi_class='auto', n_jobs=None, penalty='l2',\n",
       "                   random_state=None, solver='lbfgs', tol=0.0001, verbose=0,\n",
       "                   warm_start=False)"
      ]
     },
     "execution_count": 36,
     "metadata": {},
     "output_type": "execute_result"
    }
   ],
   "source": [
    "#5 모델별 학습 진행 (fit)  traing\n",
    "\n",
    "# disition Tree \n",
    "# Random Forest \n",
    "# SVM \n",
    "# SGD Classifier \n",
    "# Logistic Regression \n",
    "# disition Tree \n",
    "# Random Forest \n",
    "# SVM \n",
    "# SGD Classifier \n",
    "# Logistic Regression \n",
    "\n",
    "print(\"disition Tree report\")\n",
    "print(classification_report(y_test, decision_tree_pred))\n",
    "\n",
    "print(\"Random Forest  report\")\n",
    "print(classification_report(y_test, random_forest_pred))\n",
    "\n",
    "print(\"SVM report\")\n",
    "print(classification_report(y_test, svm_pred))\n",
    "\n",
    "print(\"SGD Classifier report\")\n",
    "print(classification_report(y_test, sgd_pred))\n",
    "      \n",
    "print(\"Logistic Regression report\")\n",
    "print(classification_report(y_test, logistic_pred))\n",
    "\n",
    "decision_tree_model.fit(x_train, y_train)\n",
    "random_forest_model.fit(x_train, y_train)\n",
    "svm_model.fit(x_train, y_train)\n",
    "sgd_model.fit(x_train, y_train)\n",
    "logistic_model.fit(x_train, y_train)\n"
   ]
  },
  {
   "cell_type": "code",
   "execution_count": 38,
   "metadata": {},
   "outputs": [],
   "source": [
    "#6 test data 예측  \n",
    "\n",
    "# disition Tree \n",
    "# Random Forest \n",
    "# SVM \n",
    "# SGD Classifier \n",
    "# Logistic Regression \n",
    "\n",
    "decision_tree_pred = decision_tree_model.predict(x_test)\n",
    "random_forest_pred  = random_forest_model.predict(x_test)\n",
    "svm_pred = svm_model.predict(x_test)\n",
    "sgd_pred = sgd_model.predict(x_test)\n",
    "logistic_pred = logistic_model.predict(x_test)\n",
    "\n"
   ]
  },
  {
   "cell_type": "code",
   "execution_count": 48,
   "metadata": {},
   "outputs": [
    {
     "name": "stdout",
     "output_type": "stream",
     "text": [
      "disition Tree report\n",
      "              precision    recall  f1-score   support\n",
      "\n",
      "           0       1.00      0.94      0.97        31\n",
      "           1       0.82      0.82      0.82        38\n",
      "           2       0.72      0.87      0.79        38\n",
      "           3       0.85      0.81      0.83        27\n",
      "           4       0.97      0.78      0.86        41\n",
      "           5       0.82      0.89      0.85        35\n",
      "           6       0.85      0.89      0.87        38\n",
      "           7       0.91      0.91      0.91        34\n",
      "           8       0.74      0.74      0.74        35\n",
      "           9       0.83      0.79      0.81        43\n",
      "\n",
      "    accuracy                           0.84       360\n",
      "   macro avg       0.85      0.84      0.84       360\n",
      "weighted avg       0.85      0.84      0.84       360\n",
      "\n",
      "Random Forest  report\n",
      "              precision    recall  f1-score   support\n",
      "\n",
      "           0       0.97      0.94      0.95        31\n",
      "           1       0.95      0.97      0.96        38\n",
      "           2       1.00      1.00      1.00        38\n",
      "           3       1.00      0.96      0.98        27\n",
      "           4       0.95      1.00      0.98        41\n",
      "           5       0.97      1.00      0.99        35\n",
      "           6       1.00      0.95      0.97        38\n",
      "           7       1.00      1.00      1.00        34\n",
      "           8       0.94      0.97      0.96        35\n",
      "           9       1.00      0.98      0.99        43\n",
      "\n",
      "    accuracy                           0.98       360\n",
      "   macro avg       0.98      0.98      0.98       360\n",
      "weighted avg       0.98      0.98      0.98       360\n",
      "\n",
      "SVM report\n",
      "              precision    recall  f1-score   support\n",
      "\n",
      "           0       1.00      0.97      0.98        31\n",
      "           1       0.95      1.00      0.97        38\n",
      "           2       1.00      1.00      1.00        38\n",
      "           3       0.96      0.96      0.96        27\n",
      "           4       0.98      0.98      0.98        41\n",
      "           5       1.00      1.00      1.00        35\n",
      "           6       1.00      1.00      1.00        38\n",
      "           7       1.00      1.00      1.00        34\n",
      "           8       0.97      0.94      0.96        35\n",
      "           9       0.98      0.98      0.98        43\n",
      "\n",
      "    accuracy                           0.98       360\n",
      "   macro avg       0.98      0.98      0.98       360\n",
      "weighted avg       0.98      0.98      0.98       360\n",
      "\n",
      "SGD Classifier report\n",
      "              precision    recall  f1-score   support\n",
      "\n",
      "           0       1.00      0.97      0.98        31\n",
      "           1       0.93      0.97      0.95        38\n",
      "           2       1.00      1.00      1.00        38\n",
      "           3       0.96      0.85      0.90        27\n",
      "           4       0.98      0.98      0.98        41\n",
      "           5       0.97      0.91      0.94        35\n",
      "           6       1.00      0.97      0.99        38\n",
      "           7       0.97      0.97      0.97        34\n",
      "           8       0.97      0.89      0.93        35\n",
      "           9       0.80      0.95      0.87        43\n",
      "\n",
      "    accuracy                           0.95       360\n",
      "   macro avg       0.96      0.95      0.95       360\n",
      "weighted avg       0.95      0.95      0.95       360\n",
      "\n",
      "Logistic Regression report\n",
      "              precision    recall  f1-score   support\n",
      "\n",
      "           0       1.00      0.97      0.98        31\n",
      "           1       0.95      0.97      0.96        38\n",
      "           2       1.00      0.97      0.99        38\n",
      "           3       0.96      0.93      0.94        27\n",
      "           4       0.93      1.00      0.96        41\n",
      "           5       0.94      0.97      0.96        35\n",
      "           6       1.00      0.97      0.99        38\n",
      "           7       1.00      1.00      1.00        34\n",
      "           8       0.94      0.94      0.94        35\n",
      "           9       0.98      0.95      0.96        43\n",
      "\n",
      "    accuracy                           0.97       360\n",
      "   macro avg       0.97      0.97      0.97       360\n",
      "weighted avg       0.97      0.97      0.97       360\n",
      "\n"
     ]
    }
   ],
   "source": [
    "#7 결과 출력\n",
    "\n",
    "#7-1\n",
    "# disition Tree \n",
    "# Random Forest \n",
    "# SVM \n",
    "# SGD Classifier \n",
    "# Logistic Regression \n",
    "\n",
    "print(\"disition Tree report\")\n",
    "print(classification_report(y_test, decision_tree_pred))\n",
    "\n",
    "print(\"Random Forest  report\")\n",
    "print(classification_report(y_test, random_forest_pred))\n",
    "\n",
    "print(\"SVM report\")\n",
    "print(classification_report(y_test, svm_pred))\n",
    "\n",
    "print(\"SGD Classifier report\")\n",
    "print(classification_report(y_test, sgd_pred))\n",
    "      \n",
    "print(\"Logistic Regression report\")\n",
    "print(classification_report(y_test, logistic_pred))\n",
    "\n"
   ]
  },
  {
   "cell_type": "code",
   "execution_count": 51,
   "metadata": {},
   "outputs": [
    {
     "name": "stdout",
     "output_type": "stream",
     "text": [
      "disition Tree report\n",
      "[[29  0  0  0  0  0  0  0  2  0]\n",
      " [ 0 31  3  1  1  0  1  0  1  0]\n",
      " [ 0  1 33  1  0  1  0  0  1  1]\n",
      " [ 0  0  0 22  0  1  1  0  2  1]\n",
      " [ 0  0  0  1 32  0  4  3  0  1]\n",
      " [ 0  0  3  0  0 31  0  0  1  0]\n",
      " [ 0  1  2  0  0  1 34  0  0  0]\n",
      " [ 0  0  0  1  0  0  0 31  0  2]\n",
      " [ 0  2  3  0  0  2  0  0 26  2]\n",
      " [ 0  3  2  0  0  2  0  0  2 34]]\n",
      "Random Forest  report\n",
      "[[29  0  0  0  2  0  0  0  0  0]\n",
      " [ 0 37  0  0  0  1  0  0  0  0]\n",
      " [ 0  0 38  0  0  0  0  0  0  0]\n",
      " [ 0  0  0 26  0  0  0  0  1  0]\n",
      " [ 0  0  0  0 41  0  0  0  0  0]\n",
      " [ 0  0  0  0  0 35  0  0  0  0]\n",
      " [ 1  1  0  0  0  0 36  0  0  0]\n",
      " [ 0  0  0  0  0  0  0 34  0  0]\n",
      " [ 0  1  0  0  0  0  0  0 34  0]\n",
      " [ 0  0  0  0  0  0  0  0  1 42]]\n",
      "SVM report\n",
      "[[30  0  0  0  1  0  0  0  0  0]\n",
      " [ 0 38  0  0  0  0  0  0  0  0]\n",
      " [ 0  0 38  0  0  0  0  0  0  0]\n",
      " [ 0  0  0 26  0  0  0  0  1  0]\n",
      " [ 0  0  0  0 40  0  0  0  0  1]\n",
      " [ 0  0  0  0  0 35  0  0  0  0]\n",
      " [ 0  0  0  0  0  0 38  0  0  0]\n",
      " [ 0  0  0  0  0  0  0 34  0  0]\n",
      " [ 0  2  0  0  0  0  0  0 33  0]\n",
      " [ 0  0  0  1  0  0  0  0  0 42]]\n",
      "SGD Classifier report\n",
      "[[30  0  0  0  1  0  0  0  0  0]\n",
      " [ 0 37  0  0  0  0  0  0  0  1]\n",
      " [ 0  0 38  0  0  0  0  0  0  0]\n",
      " [ 0  0  0 23  0  0  0  0  1  3]\n",
      " [ 0  0  0  0 40  0  0  0  0  1]\n",
      " [ 0  0  0  0  0 32  0  0  0  3]\n",
      " [ 0  0  0  0  0  1 37  0  0  0]\n",
      " [ 0  0  0  0  0  0  0 33  0  1]\n",
      " [ 0  3  0  0  0  0  0  0 31  1]\n",
      " [ 0  0  0  1  0  0  0  1  0 41]]\n",
      "Logistic Regression report\n",
      "[[30  0  0  0  1  0  0  0  0  0]\n",
      " [ 0 37  0  0  1  0  0  0  0  0]\n",
      " [ 0  1 37  0  0  0  0  0  0  0]\n",
      " [ 0  0  0 25  0  1  0  0  1  0]\n",
      " [ 0  0  0  0 41  0  0  0  0  0]\n",
      " [ 0  0  0  0  0 34  0  0  0  1]\n",
      " [ 0  1  0  0  0  0 37  0  0  0]\n",
      " [ 0  0  0  0  0  0  0 34  0  0]\n",
      " [ 0  0  0  0  1  1  0  0 33  0]\n",
      " [ 0  0  0  1  0  0  0  0  1 41]]\n"
     ]
    }
   ],
   "source": [
    "#7-2  오차행렬\n",
    "\n",
    "# disition Tree \n",
    "# Random Forest \n",
    "# SVM \n",
    "# SGD Classifier \n",
    "# Logistic Regression \n",
    "\n",
    "print(\"disition Tree report\")\n",
    "print(confusion_matrix(y_test, decision_tree_pred))\n",
    "\n",
    "print(\"Random Forest  report\")\n",
    "print(confusion_matrix(y_test, random_forest_pred))\n",
    "\n",
    "print(\"SVM report\")\n",
    "print(confusion_matrix(y_test, svm_pred))\n",
    "\n",
    "print(\"SGD Classifier report\")\n",
    "print(confusion_matrix(y_test, sgd_pred))\n",
    "      \n",
    "print(\"Logistic Regression report\")\n",
    "print(confusion_matrix(y_test, logistic_pred))"
   ]
  },
  {
   "cell_type": "markdown",
   "metadata": {},
   "source": [
    "# 8 결론 및 코멘트\n",
    "\n"
   ]
  },
  {
   "cell_type": "code",
   "execution_count": null,
   "metadata": {},
   "outputs": [],
   "source": []
  }
 ],
 "metadata": {
  "kernelspec": {
   "display_name": "Python 3",
   "language": "python",
   "name": "python3"
  },
  "language_info": {
   "codemirror_mode": {
    "name": "ipython",
    "version": 3
   },
   "file_extension": ".py",
   "mimetype": "text/x-python",
   "name": "python",
   "nbconvert_exporter": "python",
   "pygments_lexer": "ipython3",
   "version": "3.7.6"
  }
 },
 "nbformat": 4,
 "nbformat_minor": 4
}
