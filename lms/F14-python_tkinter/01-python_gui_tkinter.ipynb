{
 "cells": [
  {
   "cell_type": "markdown",
   "metadata": {
    "ExecuteTime": {
     "end_time": "2020-08-12T08:04:34.336375Z",
     "start_time": "2020-08-12T08:04:34.334415Z"
    }
   },
   "source": [
    "# 파이썬 GUI 라이브러리 - tkinter\n",
    "\n",
    "- https://realpython.com/python-gui-tkinter/\n",
    "- https://www.tcl.tk/software/tcltk/\n",
    "- https://docs.python.org/3/library/tkinter.html\n"
   ]
  },
  {
   "cell_type": "markdown",
   "metadata": {},
   "source": [
    "## Hello"
   ]
  },
  {
   "cell_type": "code",
   "execution_count": 6,
   "metadata": {
    "ExecuteTime": {
     "end_time": "2020-08-12T08:15:24.570703Z",
     "start_time": "2020-08-12T08:15:22.912193Z"
    },
    "code_folding": []
   },
   "outputs": [
    {
     "name": "stdout",
     "output_type": "stream",
     "text": [
      "코드 실행 중..🛸\n",
      "완료!\n"
     ]
    }
   ],
   "source": [
    "from tkinter import *\n",
    "\n",
    "print('코드 실행 중..🛸')\n",
    "window = Tk()\n",
    "window.title(\"My First GUI\")\n",
    "window.mainloop()\n",
    "print('완료!')"
   ]
  },
  {
   "cell_type": "markdown",
   "metadata": {
    "ExecuteTime": {
     "end_time": "2020-08-12T08:15:36.711334Z",
     "start_time": "2020-08-12T08:15:36.709092Z"
    }
   },
   "source": [
    "## event / event loop"
   ]
  },
  {
   "cell_type": "code",
   "execution_count": null,
   "metadata": {},
   "outputs": [],
   "source": []
  },
  {
   "cell_type": "markdown",
   "metadata": {},
   "source": [
    "![a](./imgs/00-e1.png)\n",
    "![a](./imgs/01-e2.png)\n"
   ]
  },
  {
   "cell_type": "markdown",
   "metadata": {
    "ExecuteTime": {
     "end_time": "2020-08-12T08:16:19.216348Z",
     "start_time": "2020-08-12T08:16:19.214300Z"
    }
   },
   "source": [
    "## size / label\n"
   ]
  },
  {
   "cell_type": "code",
   "execution_count": 11,
   "metadata": {
    "ExecuteTime": {
     "end_time": "2020-08-12T08:31:56.437681Z",
     "start_time": "2020-08-12T08:31:54.395768Z"
    }
   },
   "outputs": [
    {
     "name": "stdout",
     "output_type": "stream",
     "text": [
      "코드 실행 중..🛸\n",
      "완료!\n"
     ]
    }
   ],
   "source": [
    "# size\n",
    "from tkinter import *\n",
    "\n",
    "print('코드 실행 중..🛸')\n",
    "window = Tk()\n",
    "window.title(\"ex1_size\")              # 윈도우 타이틀바 제목을 지정합니다.\n",
    "\n",
    "# 윈도우 크기 조정\n",
    "window.geometry(\"480x320\")   # 창의 크기를 지정합니다.\n",
    "window.resizable(False, False)   # 가로, 세로 크기조절을 불가능하게 합니다.\n",
    "\n",
    "window.mainloop()\n",
    "print('완료!')"
   ]
  },
  {
   "cell_type": "code",
   "execution_count": 13,
   "metadata": {
    "ExecuteTime": {
     "end_time": "2020-08-12T08:33:16.873216Z",
     "start_time": "2020-08-12T08:33:15.260980Z"
    }
   },
   "outputs": [
    {
     "name": "stdout",
     "output_type": "stream",
     "text": [
      "코드 실행 중..🛸\n",
      "완료!\n"
     ]
    }
   ],
   "source": [
    "# label\n",
    "from tkinter import *\n",
    "import tkinter.ttk as ttk\n",
    "\n",
    "print('코드 실행 중..🛸')\n",
    "window = Tk()\n",
    "window.title(\"ex2_label\")\n",
    "window.geometry(\"480x320\") \n",
    "window.resizable(False, False)\n",
    "\n",
    "# 라벨 생성\n",
    "label1 = ttk.Label(window,text='label2222')    # 라벨을 생성합니다. 텍스트 내용은 'label'로 합니다.\n",
    "label1.grid(column=0, row=0)    # 위 생성된 라벨의 레이아웃을 지정합니다.\n",
    "\n",
    "window.mainloop()\n",
    "print('완료!')"
   ]
  },
  {
   "cell_type": "markdown",
   "metadata": {
    "ExecuteTime": {
     "end_time": "2020-08-12T08:33:43.665686Z",
     "start_time": "2020-08-12T08:33:43.660027Z"
    }
   },
   "source": [
    "## 라이브러리 구조\n",
    "\n",
    "![ㅇ](./imgs/02-t_h.png)\n"
   ]
  },
  {
   "cell_type": "code",
   "execution_count": 22,
   "metadata": {
    "ExecuteTime": {
     "end_time": "2020-08-12T08:44:59.225333Z",
     "start_time": "2020-08-12T08:44:59.222435Z"
    }
   },
   "outputs": [
    {
     "data": {
      "text/plain": [
       "['/home/aiffel0042/aiffel/AIFFEL_LSG/lms/F14-python_tkinter',\n",
       " '/home/aiffel0042/anaconda3/envs/aiffel/lib/python37.zip',\n",
       " '/home/aiffel0042/anaconda3/envs/aiffel/lib/python3.7',\n",
       " '/home/aiffel0042/anaconda3/envs/aiffel/lib/python3.7/lib-dynload',\n",
       " '',\n",
       " '/home/aiffel0042/anaconda3/envs/aiffel/lib/python3.7/site-packages',\n",
       " '/home/aiffel0042/anaconda3/envs/aiffel/lib/python3.7/site-packages/IPython/extensions',\n",
       " '/home/aiffel0042/.ipython']"
      ]
     },
     "execution_count": 22,
     "metadata": {},
     "output_type": "execute_result"
    }
   ],
   "source": [
    "import sys\n",
    "sys.path"
   ]
  },
  {
   "cell_type": "markdown",
   "metadata": {},
   "source": [
    "## 버튼 / 콤보박스 / text box 실습"
   ]
  },
  {
   "cell_type": "code",
   "execution_count": 16,
   "metadata": {
    "ExecuteTime": {
     "end_time": "2020-08-12T08:40:22.467460Z",
     "start_time": "2020-08-12T08:39:54.468610Z"
    }
   },
   "outputs": [
    {
     "name": "stdout",
     "output_type": "stream",
     "text": [
      "코드 실행 중..🛸\n",
      "완료!\n"
     ]
    }
   ],
   "source": [
    "from tkinter import *\n",
    "import tkinter.ttk as ttk\n",
    "\n",
    "print('코드 실행 중..🛸')\n",
    "window = Tk()\n",
    "window.title(\"ex2_label\")\n",
    "window.geometry(\"480x320\") \n",
    "window.resizable(False, False)\n",
    "\n",
    "label1 = ttk.Label(window,text='label')  \n",
    "label1.grid(row=0, column=0)  \n",
    "\n",
    "# 텍스트 박스 생성\n",
    "text1 = Text(window, width=60, height=40)    # 텍스트박스를 크기까지 지정하여 생성합니다.\n",
    "text1.grid(row=1, column=0, padx=20, pady=10)   # 생성된 텍스트박스의 레이아웃을 지정합니다. \n",
    "\n",
    "window.mainloop()\n",
    "print('완료!')"
   ]
  },
  {
   "cell_type": "code",
   "execution_count": 17,
   "metadata": {
    "ExecuteTime": {
     "end_time": "2020-08-12T08:42:38.491021Z",
     "start_time": "2020-08-12T08:42:34.451201Z"
    }
   },
   "outputs": [
    {
     "name": "stdout",
     "output_type": "stream",
     "text": [
      "코드 실행 중..🛸\n",
      "완료!\n"
     ]
    }
   ],
   "source": [
    "from tkinter import *\n",
    "import tkinter.ttk as ttk\n",
    "import tkinter.messagebox as tmb\n",
    "\n",
    "print('코드 실행 중..🛸')\n",
    "window = Tk()   \n",
    "window.title(\"ex3_Button\")   \n",
    "window.geometry(\"480x320\") \n",
    "\n",
    "label1 = ttk.Label(window, text=\"Label\")\n",
    "label1.grid(column=0, row=0)\n",
    "\n",
    "# 버튼클릭 이벤트 핸들러 정의\n",
    "def click():\n",
    "    label1.configure(text='버튼이 눌렸습니다.')   # 버튼이 눌리면 라벨 텍스트값을 바꿉니다.\n",
    "    tmb.showinfo(\"버튼\", \"버튼클릭!!\")                 # 그리고 메시지박스로 버튼클릭을 알립니다.\n",
    "\n",
    "# 버튼 생성\n",
    "action = ttk.Button(window, text=\"버튼을 눌러주세요\", command=click)   \n",
    "action.grid(row=0, column=1)\n",
    "\n",
    "window.mainloop()\n",
    "print('완료!')"
   ]
  },
  {
   "cell_type": "code",
   "execution_count": 21,
   "metadata": {
    "ExecuteTime": {
     "end_time": "2020-08-12T08:44:49.085933Z",
     "start_time": "2020-08-12T08:44:35.415455Z"
    }
   },
   "outputs": [
    {
     "name": "stdout",
     "output_type": "stream",
     "text": [
      "코드 실행 중..🛸\n",
      "완료!\n"
     ]
    }
   ],
   "source": [
    "from tkinter import *\n",
    "import tkinter.ttk as ttk\n",
    "import tkinter.messagebox as tmb\n",
    "\n",
    "print('코드 실행 중..🛸')\n",
    "window = Tk()   \n",
    "window.title(\"ex3_Button\")   \n",
    "window.geometry(\"480x320\") \n",
    "\n",
    "label1 = ttk.Label(window, text=\"Label\")\n",
    "label1.grid(column=0, row=0)\n",
    "\n",
    "# 콤보 생성\n",
    "combo = ttk.Combobox(window, width=10)\n",
    "combo['values']= (\"A\", \"B\", \"C\")\n",
    "combo.current(0) #set the selected item\n",
    "combo.grid(row=1, column=1)\n",
    "\n",
    "# 버튼클릭 이벤트 핸들러 정의\n",
    "def click():\n",
    "    label1.configure(text='버튼이 눌렸습니다.')   # 버튼이 눌리면 라벨 텍스트값을 바꿉니다.\n",
    "    tmb.showinfo(\"버튼\", combo.get())                # 메시지박스로 combo.get()을 통해 가져온 메뉴값을 출력합니다.\n",
    "\n",
    "# 버튼 생성\n",
    "action = ttk.Button(window, text=\"버튼을 눌러주세요\", command=click)   \n",
    "action.grid(row=0, column=1)\n",
    "\n",
    "window.mainloop()\n",
    "print('완료!')"
   ]
  },
  {
   "cell_type": "code",
   "execution_count": 23,
   "metadata": {
    "ExecuteTime": {
     "end_time": "2020-08-12T08:54:57.528699Z",
     "start_time": "2020-08-12T08:54:54.995239Z"
    }
   },
   "outputs": [
    {
     "name": "stdout",
     "output_type": "stream",
     "text": [
      "코드 실행 중..🛸\n",
      "완료!\n"
     ]
    }
   ],
   "source": [
    "from tkinter import *\n",
    "import tkinter.ttk as ttk\n",
    "\n",
    "print('코드 실행 중..🛸')\n",
    "window = Tk()   \n",
    "window.title(\"ex3_Button\")   \n",
    "window.geometry(\"1024x512\")     # 윈도우 크기를 좀더 키웁시다.\n",
    "\n",
    "label1 = ttk.Label(window, text=\"Label\")\n",
    "label1.grid(column=0, row=0)\n",
    "\n",
    "combo = ttk.Combobox(window, width=10)\n",
    "combo['values']= (\"A\", \"B\", \"C\")\n",
    "combo.current(0) #set the selected item\n",
    "combo.grid(row=1, column=1)\n",
    "\n",
    "# 텍스트 박스 2개 생성\n",
    "text1 = Text(window, width=60, height=40)\n",
    "text2 = Text(window, width=60, height=40)\n",
    "text1.grid(row=2, column=0, padx=20, pady=10)   \n",
    "text2.grid(row=2, column=1, padx=20, pady=10)\n",
    "\n",
    "# 버튼클릭 이벤트 핸들러 정의\n",
    "def click():\n",
    "    label1.configure(text='버튼이 눌렸습니다.')   \n",
    "    text1_string = text1.get(\"1.0\",\"end\")   # text1의 텍스트값을 가져와서\n",
    "    # 1.0 시작문자, \"end \" \n",
    "    text2_string = \"{} and {}\".format(text1_string, combo.get()) # text2에 들어갈 텍스트값을 생성한 후\n",
    "    text2.delete(1.0, \"end\")     # text2의 텍스트값을 초기화하고 나서 \n",
    "    text2.insert(\"end\", text2_string)   # text2에 새로 생성한 텍스트를 넣어줍니다.  \n",
    "\n",
    "action = ttk.Button(window, text=\"버튼을 눌러주세요\", command=click)   \n",
    "action.grid(row=0, column=1)\n",
    "\n",
    "window.mainloop()\n",
    "print('완료!')"
   ]
  },
  {
   "cell_type": "markdown",
   "metadata": {
    "ExecuteTime": {
     "end_time": "2020-08-12T08:55:03.322557Z",
     "start_time": "2020-08-12T08:55:03.320785Z"
    }
   },
   "source": [
    "## Layout  , (entry, )\n",
    "\n",
    "-https://www.tutorialspoint.com/python/tk_grid.htm\n",
    "\n",
    "### .grid()\n",
    "- column: 위젯을 넣을 열\n",
    "- columnspan : 위젯이 차지하는 열의 수 (열방향으로 병합하는 셀의 갯수)\n",
    "- row : 위젯을 넣을 행\n",
    "- rowspan : 위젯이 차지하는 행의 수(행방향으로 병합하는 셀의 갯수)\n",
    "- sticky, ipadx, ipady, padx, pady 로 위치와 여백을 조정할 수 있습니다.\n",
    "\n",
    "\n",
    "### .pack()\n",
    "- 위치 \n",
    "\n",
    "### .place()\n",
    "- 픽셀 좌표 인듯...\n",
    "- x,y\n",
    "- anchor, bordermode, height, width, relheight, relwidth, relx,\n",
    "\n"
   ]
  },
  {
   "cell_type": "code",
   "execution_count": 1,
   "metadata": {
    "ExecuteTime": {
     "end_time": "2020-08-12T09:01:27.167251Z",
     "start_time": "2020-08-12T09:01:27.165734Z"
    }
   },
   "outputs": [],
   "source": [
    "#"
   ]
  },
  {
   "cell_type": "code",
   "execution_count": 2,
   "metadata": {
    "ExecuteTime": {
     "end_time": "2020-08-12T09:01:32.941771Z",
     "start_time": "2020-08-12T09:01:30.201677Z"
    }
   },
   "outputs": [
    {
     "name": "stdout",
     "output_type": "stream",
     "text": [
      "코드 실행 중..🛸\n",
      "완료!\n"
     ]
    }
   ],
   "source": [
    "from tkinter import *\n",
    "import tkinter.ttk as ttk\n",
    "\n",
    "print('코드 실행 중..🛸')\n",
    "window = Tk()\n",
    "window.title(\"Layout_pack\")\n",
    "window.geometry(\"480x320\") \n",
    "\n",
    "Label(window, text=\"First\").pack()\n",
    "Label(window, text=\"Second\").pack()\n",
    "\n",
    "entry1 = Entry(window)\n",
    "entry2 = Entry(window)\n",
    "entry1.pack()\n",
    "entry2.pack()\n",
    "\n",
    "window.mainloop()\n",
    "print('완료!')"
   ]
  },
  {
   "cell_type": "code",
   "execution_count": 3,
   "metadata": {
    "ExecuteTime": {
     "end_time": "2020-08-12T09:01:34.418500Z",
     "start_time": "2020-08-12T09:01:34.416672Z"
    }
   },
   "outputs": [],
   "source": [
    "#"
   ]
  },
  {
   "cell_type": "code",
   "execution_count": null,
   "metadata": {},
   "outputs": [],
   "source": [
    "# 배치 "
   ]
  },
  {
   "cell_type": "code",
   "execution_count": null,
   "metadata": {},
   "outputs": [],
   "source": [
    "from tkinter import *\n",
    "import tkinter.ttk as ttk\n",
    "\n",
    "print('코드 실행 중..🛸')\n",
    "window = Tk()\n",
    "window.title(\"Layout_pack\")\n",
    "window.geometry(\"480x320\") \n",
    "\n",
    "B1 = Button(window, text=\"Left\").pack(side=\"left\")\n",
    "B2 = Button(window, text=\"Right\").pack(side=\"right\")\n",
    "B3 = Button(window, text=\"Top\").pack(side=\"top\")\n",
    "B4 = Button(window, text=\"Bottom\").pack(side=\"bottom\")\n",
    "\n",
    "window.mainloop()\n",
    "print('완료!')"
   ]
  },
  {
   "cell_type": "code",
   "execution_count": 4,
   "metadata": {
    "ExecuteTime": {
     "end_time": "2020-08-12T09:03:16.852102Z",
     "start_time": "2020-08-12T09:03:14.974723Z"
    }
   },
   "outputs": [
    {
     "name": "stdout",
     "output_type": "stream",
     "text": [
      "코드 실행 중..🛸\n",
      "완료!\n"
     ]
    }
   ],
   "source": [
    "# padding 추가\n",
    "from tkinter import *\n",
    "import tkinter.ttk as ttk\n",
    "\n",
    "print('코드 실행 중..🛸')\n",
    "window = Tk()\n",
    "window.title(\"Layout_pack\")\n",
    "window.geometry(\"480x320\") \n",
    "\n",
    "B1 = Button(window, text=\"Left\").pack(side=\"left\", padx=20, pady=20)\n",
    "B2 = Button(window, text=\"Right\").pack(side=\"right\", padx=20, pady=20)\n",
    "B3 = Button(window, text=\"Top\").pack(side=\"top\", padx=20, pady=20)\n",
    "B4 = Button(window, text=\"Bottom\").pack(side=\"bottom\", padx=20, pady=20)\n",
    "\n",
    "window.mainloop()\n",
    "print('완료!')"
   ]
  },
  {
   "cell_type": "code",
   "execution_count": 2,
   "metadata": {
    "ExecuteTime": {
     "end_time": "2020-08-12T09:07:05.167890Z",
     "start_time": "2020-08-12T09:07:03.548877Z"
    }
   },
   "outputs": [
    {
     "name": "stdout",
     "output_type": "stream",
     "text": [
      "코드 실행 중..🛸\n",
      "완료!\n"
     ]
    }
   ],
   "source": [
    "# place 좌표 인듯.\n",
    "from tkinter import *\n",
    "import tkinter.ttk as ttk\n",
    "\n",
    "print('코드 실행 중..🛸')\n",
    "window = Tk()\n",
    "window.title(\"Layout_place\")\n",
    "window.geometry(\"480x320\") \n",
    "\n",
    "Label(window, text=\"First\").place(x=10,y=50)\n",
    "Label(window, text=\"Second\").place(x=10,y=80)\n",
    "\n",
    "e1 = Entry(window)\n",
    "e2 = Entry(window)\n",
    "e1.place(x=80,y=50)\n",
    "e2.place(x=80,y=80)\n",
    "\n",
    "window.mainloop()\n",
    "print('완료!')\n"
   ]
  },
  {
   "cell_type": "markdown",
   "metadata": {},
   "source": [
    "## 구글번역기 라이브러리 활용"
   ]
  },
  {
   "cell_type": "code",
   "execution_count": 1,
   "metadata": {
    "ExecuteTime": {
     "end_time": "2020-08-12T09:33:19.039611Z",
     "start_time": "2020-08-12T09:33:16.672711Z"
    }
   },
   "outputs": [
    {
     "name": "stdout",
     "output_type": "stream",
     "text": [
      "코드 실행 중..🛸\n",
      "완료!\n"
     ]
    }
   ],
   "source": [
    "from tkinter import *\n",
    "import tkinter.ttk as ttk\n",
    "from googletrans import Translator\n",
    "\n",
    "print('코드 실행 중..🛸')\n",
    "window = Tk()\n",
    "window.title(\"나의 구글 번역기\")\n",
    "window.geometry(\"1024x512\")\n",
    "\n",
    "# 라벨 생성\n",
    "L1 = Label(window, text=\"번역 전\")\n",
    "L2 = Label(window, text=\"번역 후\")\n",
    "L1.grid(row=0, column=0)\n",
    "L2.grid(row=0, column=2)\n",
    "\n",
    "\n",
    "# 콤보박스 생성\n",
    "CB = ttk.Combobox(window)\n",
    "CB['values']=(\"en\",\"ko\",\"ja\")\n",
    "CB.current(0)\n",
    "CB.grid(row=0, column=1)\n",
    "\n",
    "# 텍스트 박스 생성\n",
    "T1 = Text(window)\n",
    "T2 = Text(window)\n",
    "\n",
    "T1.grid(row =1, column =0, padx=20, pady=10)\n",
    "T2.grid(row =1, column =2, padx=20, pady=10)\n",
    "\n",
    "\n",
    "# 번역기 함수\n",
    "def translate(input_str, lang='en'):\n",
    "    translator = Translator()\n",
    "    result = translator.translate(input_str, dest=lang)\n",
    "    return result.text\n",
    "\n",
    "# 버튼클릭 콜백 함수    \n",
    "def btnClick():\n",
    "  \n",
    "  b_str = T1.get(1.0, \"end\")# t1 텍스트 조회\n",
    "  cb_value = CB.get()\n",
    "  \n",
    "  a_str = translate(b_str, lang= cb_value) # 번역기 돌리고 값 받기\n",
    "  \n",
    "  T2.delete(1.0, \"end\")# t2 비우기\n",
    "  T2.insert(\"end\", a_str) # t2 번역한 텍스트 주입\n",
    "  \n",
    "\n",
    "# 버튼 생성    \n",
    "tBtn = ttk.Button(window, text=\"번역\", command = btnClick)\n",
    "tBtn.grid(row=1, column=1)\n",
    "\n",
    "window.mainloop()\n",
    "print('완료!')"
   ]
  },
  {
   "cell_type": "code",
   "execution_count": null,
   "metadata": {},
   "outputs": [],
   "source": []
  },
  {
   "cell_type": "code",
   "execution_count": null,
   "metadata": {},
   "outputs": [],
   "source": []
  }
 ],
 "metadata": {
  "kernelspec": {
   "display_name": "Python 3",
   "language": "python",
   "name": "python3"
  },
  "language_info": {
   "codemirror_mode": {
    "name": "ipython",
    "version": 3
   },
   "file_extension": ".py",
   "mimetype": "text/x-python",
   "name": "python",
   "nbconvert_exporter": "python",
   "pygments_lexer": "ipython3",
   "version": "3.7.6"
  },
  "toc": {
   "base_numbering": 1,
   "nav_menu": {},
   "number_sections": true,
   "sideBar": true,
   "skip_h1_title": false,
   "title_cell": "Table of Contents",
   "title_sidebar": "Contents",
   "toc_cell": false,
   "toc_position": {},
   "toc_section_display": true,
   "toc_window_display": true
  },
  "varInspector": {
   "cols": {
    "lenName": 16,
    "lenType": 16,
    "lenVar": 40
   },
   "kernels_config": {
    "python": {
     "delete_cmd_postfix": "",
     "delete_cmd_prefix": "del ",
     "library": "var_list.py",
     "varRefreshCmd": "print(var_dic_list())"
    },
    "r": {
     "delete_cmd_postfix": ") ",
     "delete_cmd_prefix": "rm(",
     "library": "var_list.r",
     "varRefreshCmd": "cat(var_dic_list()) "
    }
   },
   "types_to_exclude": [
    "module",
    "function",
    "builtin_function_or_method",
    "instance",
    "_Feature"
   ],
   "window_display": false
  }
 },
 "nbformat": 4,
 "nbformat_minor": 4
}
