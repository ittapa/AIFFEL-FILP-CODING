{
 "cells": [
  {
   "cell_type": "code",
   "execution_count": 1,
   "metadata": {
    "ExecuteTime": {
     "end_time": "2020-08-19T06:49:29.210771Z",
     "start_time": "2020-08-19T06:49:28.938216Z"
    }
   },
   "outputs": [
    {
     "name": "stdout",
     "output_type": "stream",
     "text": [
      "            국가명        환율\n",
      "0         미국USD  1,181.50\n",
      "1         유럽EUR  1,410.77\n",
      "2         일본JPY  1,119.53\n",
      "3         중국CNY    170.92\n",
      "4           국제금  1,999.40\n",
      "5         유가WTI     42.89\n",
      "6         달러인덱스     92.25\n",
      "7     남아프리카 ZAR     68.33\n",
      "8      노르웨이 NOK    133.63\n",
      "9      뉴질랜드 NZD    782.09\n",
      "10       대만 TWD     40.19\n",
      "11      덴마크 DKK    189.45\n",
      "12      러시아 RUB     16.17\n",
      "13    말레이지아 MYR    282.59\n",
      "14      멕시코 MXN     53.36\n",
      "15       몽골 MNT      0.41\n",
      "16       미국 USD  1,181.50\n",
      "17      바레인 BHD  3,134.12\n",
      "18    방글라데시 BDT     13.93\n",
      "19  베트남 VND 100      5.10\n",
      "20      브라질 BRL    216.10\n",
      "21     브루나이 BND    865.85\n",
      "22      사우디 SAR    315.02\n",
      "23      스웨덴 SEK    136.78\n",
      "24      스위스 CHF  1,308.63\n",
      "25     싱가포르 SGD    865.85\n",
      "26     아랍에미 AED    321.66\n",
      "27       영국 GBP  1,566.02\n",
      "28       오만 OMR  3,068.83\n",
      "29      요르단 JOD  1,666.43\n",
      "30     유럽연합 EUR  1,410.77\n",
      "31     이스라엘 ILS    347.47\n",
      "32      이집트 EGP     74.21\n",
      "33       인도 INR     15.79\n",
      "34    인도네시아 IDR      8.01\n",
      "35   일본 JPY 100  1,119.53\n",
      "36     중국원화 CNY    170.92\n",
      "37       체코 CZK     54.05\n",
      "38       칠레 CLP      1.49\n",
      "39    카자흐스탄 KZT      2.82\n",
      "40      카타르 QAR    322.04\n",
      "41      캐나다 CAD    898.04\n",
      "42     쿠웨이트 KWD  3,869.33\n",
      "43       태국 THB     37.89\n",
      "44       터키 TRY    160.12\n",
      "45     파키스탄 PKR      7.01\n",
      "46      폴란드 PLN    322.44\n",
      "47      필리핀 PHP     24.35\n",
      "48      헝가리 HUF      4.05\n",
      "49       호주 AUD    856.59\n",
      "50       홍콩 HKD    152.45\n"
     ]
    }
   ],
   "source": [
    "# 직접 해보세요 시간은 30분입니다.\n",
    "import requests\n",
    "import pandas as pd \n",
    "from bs4 import BeautifulSoup\n",
    "\n",
    "html = requests.get('https://m.stock.naver.com/marketindex/index.nhn')\n",
    "soup = BeautifulSoup(html.text, 'html.parser')\n",
    "\n",
    "#정보 담을 변수\n",
    "exc = []\n",
    "\n",
    "#상단\n",
    "\n",
    "ul1_n = soup.select('ul.international_lst > li > a > div.item_wrp .stock_item')\n",
    "ul1_v = soup.select('ul.international_lst > li > a > div.price_wrp .stock_price')\n",
    "\n",
    "\n",
    "for i in range(len(ul1_v)):\n",
    "    exc.append([ul1_n[i].string, ul1_v[i].string ])\n",
    "    \n",
    "    \n",
    "    # 하단\n",
    "\n",
    "\n",
    "ul2_n = soup.select('#marketindexLastList > li > a > div.item_wrp span.stock_item')\n",
    "ul2_v = soup.select('#marketindexLastList > li > a > div.price_wrp .stock_price')\n",
    "\n",
    "\n",
    "for i in range(len(ul2_v)):\n",
    "    exc.append([ul2_n[i].string, ul2_v[i].string ])\n",
    "    \n",
    "df = pd.DataFrame(exc, columns=[\"국가명\",\"환율\"])\n",
    "\n",
    "print(df)"
   ]
  },
  {
   "cell_type": "code",
   "execution_count": null,
   "metadata": {},
   "outputs": [],
   "source": []
  }
 ],
 "metadata": {
  "kernelspec": {
   "display_name": "Python 3",
   "language": "python",
   "name": "python3"
  },
  "language_info": {
   "codemirror_mode": {
    "name": "ipython",
    "version": 3
   },
   "file_extension": ".py",
   "mimetype": "text/x-python",
   "name": "python",
   "nbconvert_exporter": "python",
   "pygments_lexer": "ipython3",
   "version": "3.7.6"
  },
  "toc": {
   "base_numbering": 1,
   "nav_menu": {},
   "number_sections": true,
   "sideBar": true,
   "skip_h1_title": false,
   "title_cell": "Table of Contents",
   "title_sidebar": "Contents",
   "toc_cell": false,
   "toc_position": {},
   "toc_section_display": true,
   "toc_window_display": false
  },
  "varInspector": {
   "cols": {
    "lenName": 16,
    "lenType": 16,
    "lenVar": 40
   },
   "kernels_config": {
    "python": {
     "delete_cmd_postfix": "",
     "delete_cmd_prefix": "del ",
     "library": "var_list.py",
     "varRefreshCmd": "print(var_dic_list())"
    },
    "r": {
     "delete_cmd_postfix": ") ",
     "delete_cmd_prefix": "rm(",
     "library": "var_list.r",
     "varRefreshCmd": "cat(var_dic_list()) "
    }
   },
   "types_to_exclude": [
    "module",
    "function",
    "builtin_function_or_method",
    "instance",
    "_Feature"
   ],
   "window_display": false
  }
 },
 "nbformat": 4,
 "nbformat_minor": 4
}
