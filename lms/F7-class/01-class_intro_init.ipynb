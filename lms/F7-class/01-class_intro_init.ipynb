{
 "cells": [
  {
   "cell_type": "markdown",
   "metadata": {},
   "source": [
    "# CLASS\n",
    "\n",
    "\n",
    "### \n",
    "\n",
    "- lnk https://www.python.org/dev/peps/pep-0008/"
   ]
  },
  {
   "cell_type": "code",
   "execution_count": 2,
   "metadata": {},
   "outputs": [
    {
     "name": "stdout",
     "output_type": "stream",
     "text": [
      "93994004272624\n",
      "93994004272624\n",
      "139897364469392\n",
      "139897364469712\n",
      "<class 'type'>\n",
      "<class '__main__.Car'>\n"
     ]
    }
   ],
   "source": [
    "class Car:\n",
    "    pass\n",
    "\n",
    "class Car():\n",
    "    pass\n",
    "\n",
    "#id(Car)는 여러번 호출해도 같은 값이 얻어집니다. \n",
    "print(id(Car))\n",
    "print(id(Car))\n",
    "\n",
    "#id(Car())는 Car()가 호출될 때마다 다른 값이 얻어집니다. \n",
    "print(id(Car()))\n",
    "print(id(Car()))\n",
    "\n",
    "# 두 객체의 type을 살펴봅니다. \n",
    "print(type(Car))\n",
    "print(type(Car()))\n",
    "\n",
    "##Car라는 클래스는 type 유형의 객체입니다.\n",
    "## Car()가 호출될 때 Car 타입의 객체가 생성됩니다.\n"
   ]
  },
  {
   "cell_type": "markdown",
   "metadata": {},
   "source": [
    "### state attirbute 속성 / behavier method "
   ]
  },
  {
   "cell_type": "code",
   "execution_count": 4,
   "metadata": {},
   "outputs": [],
   "source": [
    "class Car:\n",
    "    color = 'red'\n",
    "    category = 'sports car'\n",
    "\n",
    "    def drive(self):\n",
    "        print(\"I'm driving\")\n",
    "\n",
    "    def accel(self, speed_up, current_speed=10):\n",
    "        self.speed_up = speed_up\n",
    "        self.current_speed = current_speed + speed_up\n",
    "        print(\"speed up\", self.speed_up, \"driving at\", self.current_speed)"
   ]
  },
  {
   "cell_type": "code",
   "execution_count": 5,
   "metadata": {},
   "outputs": [],
   "source": [
    "mycar = Car()\n",
    "#car 오브젝트 생성"
   ]
  },
  {
   "cell_type": "code",
   "execution_count": 6,
   "metadata": {},
   "outputs": [
    {
     "name": "stdout",
     "output_type": "stream",
     "text": [
      "red\n"
     ]
    }
   ],
   "source": [
    "print(mycar.color)\n",
    "# attribute 조회"
   ]
  },
  {
   "cell_type": "code",
   "execution_count": 9,
   "metadata": {},
   "outputs": [
    {
     "name": "stdout",
     "output_type": "stream",
     "text": [
      "I'm driving\n",
      "speed up 5 driving at 15\n"
     ]
    }
   ],
   "source": [
    "# 오브젝트 method 실행\n",
    "mycar.drive()\n",
    "mycar.accel(5)"
   ]
  },
  {
   "cell_type": "code",
   "execution_count": 10,
   "metadata": {},
   "outputs": [
    {
     "name": "stdout",
     "output_type": "stream",
     "text": [
      "I'm driving\n"
     ]
    }
   ],
   "source": [
    "#  클래스 함수 실행 오브젝트를 인자값으로 주고\n",
    "Car.drive(mycar)"
   ]
  },
  {
   "cell_type": "code",
   "execution_count": 12,
   "metadata": {},
   "outputs": [],
   "source": [
    "# Test class 정의\n",
    "class Test:\n",
    "    def run1(self):\n",
    "        print(\"run1\")\n",
    "\n",
    "    def run2():\n",
    "        print(\"run2\")\n",
    "\n",
    "# test type object create\n",
    "t = Test()"
   ]
  },
  {
   "cell_type": "code",
   "execution_count": 13,
   "metadata": {},
   "outputs": [
    {
     "name": "stdout",
     "output_type": "stream",
     "text": [
      "run1\n"
     ]
    }
   ],
   "source": [
    "# test method 실행\n",
    "t.run1()"
   ]
  },
  {
   "cell_type": "code",
   "execution_count": 15,
   "metadata": {},
   "outputs": [
    {
     "ename": "TypeError",
     "evalue": "run2() takes 0 positional arguments but 1 was given",
     "output_type": "error",
     "traceback": [
      "\u001b[0;31m---------------------------------------------------------------------------\u001b[0m",
      "\u001b[0;31mTypeError\u001b[0m                                 Traceback (most recent call last)",
      "\u001b[0;32m<ipython-input-15-3299b0fcd368>\u001b[0m in \u001b[0;36m<module>\u001b[0;34m\u001b[0m\n\u001b[0;32m----> 1\u001b[0;31m \u001b[0mt\u001b[0m\u001b[0;34m.\u001b[0m\u001b[0mrun2\u001b[0m\u001b[0;34m(\u001b[0m\u001b[0;34m)\u001b[0m\u001b[0;34m\u001b[0m\u001b[0;34m\u001b[0m\u001b[0m\n\u001b[0m",
      "\u001b[0;31mTypeError\u001b[0m: run2() takes 0 positional arguments but 1 was given"
     ]
    }
   ],
   "source": [
    "t.run2()"
   ]
  },
  {
   "cell_type": "code",
   "execution_count": null,
   "metadata": {},
   "outputs": [],
   "source": [
    "# method에 self를 정의 하지 않으면, 메서드 내부에서만 사용해서 참조 할 수 없음."
   ]
  },
  {
   "cell_type": "code",
   "execution_count": 21,
   "metadata": {},
   "outputs": [],
   "source": [
    "# Test2 class def\n",
    "class Test2:\n",
    "    def run1(self, a):\n",
    "        self.a = float(a) * 10\n",
    "        print(self.a)\n",
    "\n",
    "    def run2(self, b):\n",
    "        self.b = float(b) + 10\n",
    "        print(self.b)\n",
    "\n",
    "# Test2 type object crate\n",
    "t = Test2()"
   ]
  },
  {
   "cell_type": "code",
   "execution_count": 22,
   "metadata": {},
   "outputs": [
    {
     "name": "stdout",
     "output_type": "stream",
     "text": [
      "10.0\n"
     ]
    }
   ],
   "source": [
    "t.run1(1)"
   ]
  },
  {
   "cell_type": "code",
   "execution_count": 23,
   "metadata": {},
   "outputs": [
    {
     "name": "stdout",
     "output_type": "stream",
     "text": [
      "11.0\n"
     ]
    }
   ],
   "source": [
    "t.run2(1)"
   ]
  },
  {
   "cell_type": "code",
   "execution_count": 24,
   "metadata": {},
   "outputs": [
    {
     "data": {
      "text/plain": [
       "10.0"
      ]
     },
     "execution_count": 24,
     "metadata": {},
     "output_type": "execute_result"
    }
   ],
   "source": [
    "t.a"
   ]
  },
  {
   "cell_type": "markdown",
   "metadata": {},
   "source": [
    "## 생성자\n",
    "### __init__"
   ]
  },
  {
   "cell_type": "code",
   "execution_count": 25,
   "metadata": {},
   "outputs": [],
   "source": [
    "class Car:\n",
    "    color = 'red'\n",
    "    category = 'sports car'\n",
    "\n",
    "    def drive(self):\n",
    "        print(\"I'm driving\")\n",
    "\n",
    "    def accel(self, speed_up, current_speed=10):\n",
    "        self.speed_up = speed_up\n",
    "        self.current_speed = current_speed + self.speed_up\n",
    "        print(\"speed up\", self.speed_up, \"driving at\", self.current_speed)"
   ]
  },
  {
   "cell_type": "code",
   "execution_count": 27,
   "metadata": {},
   "outputs": [],
   "source": [
    "## color와 카테고리 값 초기에 정의\n"
   ]
  },
  {
   "cell_type": "code",
   "execution_count": 28,
   "metadata": {},
   "outputs": [],
   "source": [
    "class Car2:\n",
    "    def __init__(self, color, category):\n",
    "        self.color = color\n",
    "        self.category = category\n",
    "\n",
    "    def drive(self):\n",
    "        print(\"I'm driving\")\n",
    "\n",
    "    def accel(self, speed_up, current_speed=10):\n",
    "        self.speed_up = speed_up\n",
    "        self.current_speed = current_speed + self.speed_up\n",
    "        print(\"speed up\", self.speed_up, \"driving at\", self.current_speed)"
   ]
  },
  {
   "cell_type": "code",
   "execution_count": 30,
   "metadata": {},
   "outputs": [],
   "source": [
    "car2 = Car2('yellow', 'sedan')"
   ]
  },
  {
   "cell_type": "code",
   "execution_count": 31,
   "metadata": {},
   "outputs": [
    {
     "data": {
      "text/plain": [
       "'yellow'"
      ]
     },
     "execution_count": 31,
     "metadata": {},
     "output_type": "execute_result"
    }
   ],
   "source": [
    "car2.color"
   ]
  },
  {
   "cell_type": "code",
   "execution_count": 32,
   "metadata": {},
   "outputs": [
    {
     "data": {
      "text/plain": [
       "'sedan'"
      ]
     },
     "execution_count": 32,
     "metadata": {},
     "output_type": "execute_result"
    }
   ],
   "source": [
    "car2.category"
   ]
  },
  {
   "cell_type": "markdown",
   "metadata": {},
   "source": [
    "## 생성자 요약"
   ]
  },
  {
   "cell_type": "markdown",
   "metadata": {},
   "source": [
    "- __init__이라고 쓰고, \"던더(Double Under) 이닛\"이라고 발음합니다.\n",
    "- 다른 객체 지향 언어를 알고있는 독자라면 생성자라는 말을 들으면 객체 인스턴스화와 초기화 2가지 작업을 생각할 수 있습니다.\n",
    "- 그러나 파이썬의 생성자는 초기화만 수행 합니다. 그럼 객체 인스턴스화는 누가 할까요? 기억 나시나요? 네, 바로 클래스 사용시 변수 할당을 통해 이루어집니다.\n",
    "- 그리고 이 __init__처럼 앞뒤에 언더바(_)가 두개씩 있는 메소드를 매직 메소드 라고 합니다.\n",
    "- 매직 메서드에 대해 더 알아보고 싶은 분은 여기 링크를 참고해 보세요. https://rszalski.github.io/magicmethods/"
   ]
  },
  {
   "cell_type": "code",
   "execution_count": null,
   "metadata": {},
   "outputs": [],
   "source": [
    "## 키워드 인수 이용하기 lnk https://dojang.io/mod/page/view.php?id=2346"
   ]
  },
  {
   "cell_type": "code",
   "execution_count": null,
   "metadata": {},
   "outputs": [],
   "source": []
  },
  {
   "cell_type": "code",
   "execution_count": null,
   "metadata": {},
   "outputs": [],
   "source": []
  }
 ],
 "metadata": {
  "kernelspec": {
   "display_name": "Python 3",
   "language": "python",
   "name": "python3"
  },
  "language_info": {
   "codemirror_mode": {
    "name": "ipython",
    "version": 3
   },
   "file_extension": ".py",
   "mimetype": "text/x-python",
   "name": "python",
   "nbconvert_exporter": "python",
   "pygments_lexer": "ipython3",
   "version": "3.7.6"
  }
 },
 "nbformat": 4,
 "nbformat_minor": 4
}
