{
 "cells": [
  {
   "cell_type": "code",
   "execution_count": 1,
   "metadata": {},
   "outputs": [
    {
     "name": "stdout",
     "output_type": "stream",
     "text": [
      "time : 8.344650268554688e-05\n"
     ]
    }
   ],
   "source": [
    "import time\n",
    "start = time.time()  # 시작 시간 저장\n",
    "\n",
    "a = 1\n",
    "for i in range(100):\n",
    "    a += 1\n",
    " \n",
    "# 작업 코드\n",
    "print(\"time :\", time.time() - start) # 결과는 '초' 단위 입니다."
   ]
  },
  {
   "cell_type": "code",
   "execution_count": 2,
   "metadata": {},
   "outputs": [
    {
     "name": "stdout",
     "output_type": "stream",
     "text": [
      "값 :  a\n",
      "값 :  b\n",
      "값 :  c\n",
      "값 :  d\n"
     ]
    }
   ],
   "source": [
    "my_list = ['a','b','c','d']\n",
    "\n",
    "for i in my_list:\n",
    "    print(\"값 : \", i)"
   ]
  },
  {
   "cell_type": "code",
   "execution_count": 3,
   "metadata": {},
   "outputs": [
    {
     "name": "stdout",
     "output_type": "stream",
     "text": [
      "순번 :  0  , 값 :  a\n",
      "순번 :  1  , 값 :  b\n",
      "순번 :  2  , 값 :  c\n",
      "순번 :  3  , 값 :  d\n"
     ]
    }
   ],
   "source": [
    "# enumerate : \n",
    "\n",
    "my_list = ['a','b','c','d']\n",
    "\n",
    "for i, value in enumerate(my_list):\n",
    "    print(\"순번 : \", i, \" , 값 : \", value)"
   ]
  },
  {
   "cell_type": "markdown",
   "metadata": {},
   "source": [
    "#### range([start,] stop [,step]) :"
   ]
  },
  {
   "cell_type": "markdown",
   "metadata": {},
   "source": [
    "### 리스트 컴프리헨션(list Comprehension)"
   ]
  },
  {
   "cell_type": "code",
   "execution_count": 5,
   "metadata": {},
   "outputs": [
    {
     "name": "stdout",
     "output_type": "stream",
     "text": [
      "[(0, 'a'), (0, 'b'), (0, 'c'), (0, 'd'), (1, 'a'), (1, 'b'), (1, 'c'), (1, 'd')]\n"
     ]
    }
   ],
   "source": [
    "my_list = ['a','b','c','d']\n",
    "\n",
    "result_list = [(i, j) for i in range(2) for j in my_list]\n",
    "\n",
    "print(result_list)"
   ]
  },
  {
   "cell_type": "code",
   "execution_count": 6,
   "metadata": {},
   "outputs": [],
   "source": [
    "# "
   ]
  },
  {
   "cell_type": "code",
   "execution_count": 9,
   "metadata": {},
   "outputs": [
    {
     "name": "stdout",
     "output_type": "stream",
     "text": [
      ">>  8 data loaded..\n",
      "0 a\n",
      "0 b\n",
      "0 c\n",
      "0 d\n",
      "1 a\n",
      "1 b\n",
      "1 c\n",
      "1 d\n"
     ]
    }
   ],
   "source": [
    "my_list = ['a','b','c','d']\n",
    "\n",
    "# 인자로 받은 리스트를 가공해서 만든 데이터셋 리스트를 리턴하는 함수\n",
    "def get_dataset_list(my_list):\n",
    "    result_list = []\n",
    "    for i in range(2):\n",
    "        for j in my_list:\n",
    "            result_list.append((i, j))\n",
    "    print('>>  {} data loaded..'.format(len(result_list)))\n",
    "    return result_list\n",
    "\n",
    "for X, y in get_dataset_list(my_list):\n",
    "    print(X, y)"
   ]
  },
  {
   "cell_type": "markdown",
   "metadata": {},
   "source": [
    "## 제너레이터 yield"
   ]
  },
  {
   "cell_type": "code",
   "execution_count": 14,
   "metadata": {},
   "outputs": [
    {
     "name": "stdout",
     "output_type": "stream",
     "text": [
      "<class 'generator'>\n",
      "<generator object get_dataset_generator at 0x7f2521e24d50>\n",
      "0 a\n",
      ">>  1 data loaded..\n",
      "0 b\n",
      ">>  1 data loaded..\n",
      "0 c\n",
      ">>  1 data loaded..\n",
      "0 d\n",
      ">>  1 data loaded..\n",
      "1 a\n",
      ">>  1 data loaded..\n",
      "1 b\n",
      ">>  1 data loaded..\n",
      "1 c\n",
      ">>  1 data loaded..\n",
      "1 d\n",
      ">>  1 data loaded..\n"
     ]
    }
   ],
   "source": [
    "my_list = ['a','b','c','d']\n",
    "\n",
    "# 인자로 받은 리스트로부터 데이터를 하나씩 가져오는 제너레이터를 리턴하는 함수\n",
    "def get_dataset_generator(my_list):\n",
    "    result_list = []\n",
    "    for i in range(2):\n",
    "        for j in my_list:\n",
    "            yield (i, j)\n",
    "            print('>>  1 data loaded..')\n",
    "\n",
    "dataset_generator = get_dataset_generator(my_list)\n",
    "\n",
    "print(type(dataset_generator))\n",
    "print(dataset_generator)\n",
    "\n",
    "for X, y in dataset_generator:\n",
    "    print(X, y)"
   ]
  },
  {
   "cell_type": "markdown",
   "metadata": {},
   "source": [
    "### 예외처리"
   ]
  },
  {
   "cell_type": "code",
   "execution_count": 16,
   "metadata": {},
   "outputs": [
    {
     "name": "stdout",
     "output_type": "stream",
     "text": [
      "에러가 발생했습니다.\n"
     ]
    }
   ],
   "source": [
    "a = 10\n",
    "b = 0\n",
    "try:\n",
    "    #실행 코드\n",
    "    print(a/b)\n",
    "\t\t\n",
    "except:\n",
    "    #에러가 발생했을 때 처리하는 코드\n",
    "    print('에러가 발생했습니다.')"
   ]
  },
  {
   "cell_type": "code",
   "execution_count": 17,
   "metadata": {},
   "outputs": [
    {
     "name": "stdout",
     "output_type": "stream",
     "text": [
      "에러가 발생했습니다.\n",
      "값 수정 :  10.0\n"
     ]
    }
   ],
   "source": [
    "a = 10\n",
    "b = 0 \n",
    "\n",
    "try:\n",
    "    #실행 코드\n",
    "    print(a/b)\n",
    "\t\t\n",
    "except:\n",
    "    print('에러가 발생했습니다.')\n",
    "    #에러가 발생했을 때 처리하는 코드\n",
    "    b = b+1\n",
    "    print(\"값 수정 : \", a/b)"
   ]
  },
  {
   "cell_type": "markdown",
   "metadata": {},
   "source": [
    "### Multiprocessing\n",
    "\n",
    "- paralled processing \n",
    "- serial processing\n"
   ]
  },
  {
   "cell_type": "code",
   "execution_count": 22,
   "metadata": {},
   "outputs": [
    {
     "name": "stdout",
     "output_type": "stream",
     "text": [
      "finish :  p1\n",
      "finish :  p2\n",
      "finish :  p3\n",
      "finish :  p4\n",
      "time : 5.106565237045288\n"
     ]
    }
   ],
   "source": [
    "import time\n",
    "\n",
    "num_list = ['p1','p2', 'p3', 'p4']\n",
    "start = time.time()\n",
    "\n",
    "def count(name):\n",
    "    for i in range(0, 100000000):\n",
    "        a=1+2\n",
    "        \n",
    "    print(\"finish : \",name)\n",
    "\n",
    "for num in num_list:\n",
    "    count(num)\n",
    "\n",
    "print(\"time :\", time.time() - start)"
   ]
  },
  {
   "cell_type": "code",
   "execution_count": 23,
   "metadata": {},
   "outputs": [
    {
     "name": "stdout",
     "output_type": "stream",
     "text": [
      "finish :  p2\n",
      "finish :  finish : p1 p3\n",
      "\n",
      "finish :  p4\n",
      "time : 1.5105819702148438\n"
     ]
    }
   ],
   "source": [
    "import multiprocessing\n",
    "import time\n",
    "\n",
    "num_list = ['p1','p2', 'p3', 'p4']\n",
    "start = time.time()\n",
    "\n",
    "def count(name):\n",
    "    for i in range(0, 100000000):\n",
    "            a=1+2\n",
    "    print(\"finish : \",name)\n",
    "    \n",
    "\n",
    "if __name__ == '__main__':\n",
    "    pool = multiprocessing.Pool(processes = 4)\n",
    "    pool.map(count, num_list)\n",
    "    pool.close()\n",
    "    pool.join()\n",
    "\n",
    "print(\"time :\", time.time() - start)"
   ]
  },
  {
   "cell_type": "code",
   "execution_count": 29,
   "metadata": {},
   "outputs": [
    {
     "name": "stdout",
     "output_type": "stream",
     "text": [
      "finish :  p4\n",
      "finish : finish :   p2p3\n",
      "\n",
      "finish :  p1\n"
     ]
    }
   ],
   "source": [
    "import multiprocessing\n",
    "\n",
    "def count(name):\n",
    "    for i in range(0, 100000000):\n",
    "            a=1+2\n",
    "    print(\"finish : \",name)\n",
    "    \n",
    "num_list = ['p1','p2', 'p3', 'p4']\n",
    "\n",
    "if __name__ == '__main__':\n",
    "    pool = multiprocessing.Pool(processes = 4) # 병렬 처리시 4개의 프로세스로 사용\n",
    "    pool.map(count, num_list) #\n",
    "    pool.close() # 새로운작업 추가막기\n",
    "    pool.join() # 프로세스가 종료될 때까지 대기"
   ]
  },
  {
   "cell_type": "markdown",
   "metadata": {},
   "source": [
    "# functional programing"
   ]
  },
  {
   "cell_type": "code",
   "execution_count": 31,
   "metadata": {},
   "outputs": [
    {
     "name": "stdout",
     "output_type": "stream",
     "text": [
      "최댓값은  40\n",
      "최댓값은  50\n"
     ]
    }
   ],
   "source": [
    "list_data = [10, 20, 30, 40]\n",
    "list_data2 = [20, 30, 40, 50]\n",
    "\n",
    "length = len(list_data)\n",
    "max_result = list_data[0]\n",
    "for i in range(length):\n",
    "    if max_result < list_data[i]:\n",
    "        max_result = list_data[i]\n",
    "        \n",
    "print(\"최댓값은 \", max_result)\n",
    "\n",
    "length = len(list_data2)\n",
    "max_result = list_data2[0]\n",
    "for i in range(length):\n",
    "    if max_result < list_data2[i]:\n",
    "        max_result = list_data2[i]\n",
    "        \n",
    "print(\"최댓값은 \", max_result)"
   ]
  },
  {
   "cell_type": "code",
   "execution_count": 33,
   "metadata": {},
   "outputs": [
    {
     "name": "stdout",
     "output_type": "stream",
     "text": [
      "최댓값은  40\n",
      "최댓값은  50\n"
     ]
    }
   ],
   "source": [
    "list_data = [10, 20, 30, 40]\n",
    "list_data2 = [20, 30, 40, 50]\n",
    "\n",
    "def max_function(x):\n",
    "    length = len(x)\n",
    "    max_result = x[0]\n",
    "    for i in range(length):\n",
    "        if max_result < x[i]:\n",
    "            max_result = x[i]\n",
    "    return max_result\n",
    "\n",
    "print(\"최댓값은 \", max_function(list_data))\n",
    "print(\"최댓값은 \", max_function(list_data2))"
   ]
  },
  {
   "cell_type": "code",
   "execution_count": 35,
   "metadata": {},
   "outputs": [],
   "source": [
    "def empty_function():\n",
    "    pass"
   ]
  },
  {
   "cell_type": "code",
   "execution_count": 37,
   "metadata": {},
   "outputs": [
    {
     "name": "stdout",
     "output_type": "stream",
     "text": [
      "안녕!\n",
      "안녕!\n"
     ]
    }
   ],
   "source": [
    "def say_something(txt):\n",
    "    return txt\n",
    "\n",
    "def send(function, count):\n",
    "    for i in range(count):  \n",
    "        print(function)\n",
    "    \n",
    "send(say_something(\"안녕!\"), 2)"
   ]
  },
  {
   "cell_type": "code",
   "execution_count": 38,
   "metadata": {},
   "outputs": [
    {
     "name": "stdout",
     "output_type": "stream",
     "text": [
      "최솟값, 최댓값은 :  [20, 40]\n",
      "최솟값은 :  20\n",
      "최댓값은 :  40\n"
     ]
    }
   ],
   "source": [
    "list_data = [30, 20, 30, 40]\n",
    "\n",
    "def minmax_function(x_list):\n",
    "        \n",
    "    def inner_min_function(x):\n",
    "        length = len(x)\n",
    "        min_result = x[0]\n",
    "        for i in range(length):\n",
    "            if min_result > x[i]:\n",
    "                min_result = x[i]\n",
    "        return min_result\n",
    "    \n",
    "    def inner_max_function(x):\n",
    "        length = len(x)\n",
    "        max_result = x[0]\n",
    "        for i in range(length):\n",
    "            if max_result < x[i]:\n",
    "                max_result = x[i]\n",
    "        return max_result\n",
    "        \n",
    "    x_min = inner_min_function(x_list)\n",
    "    x_max = inner_max_function(x_list)\n",
    "    \n",
    "    minmax_list = [x_min, x_max]\n",
    "\n",
    "    return minmax_list\n",
    "\n",
    "print(\"최솟값, 최댓값은 : \", minmax_function(list_data))\n",
    "print(\"최솟값은 : \", minmax_function(list_data)[0])\n",
    "print(\"최댓값은 : \", minmax_function(list_data)[1])"
   ]
  },
  {
   "cell_type": "code",
   "execution_count": 39,
   "metadata": {},
   "outputs": [
    {
     "name": "stdout",
     "output_type": "stream",
     "text": [
      "최솟값은 :  20\n",
      "최댓값은 :  40\n"
     ]
    }
   ],
   "source": [
    "list_data = [30, 20, 30, 40]\n",
    "\n",
    "def minmax_function(x_list):\n",
    "        \n",
    "    def inner_min_function(x):\n",
    "        length = len(x)\n",
    "        min_result = x[0]\n",
    "        for i in range(length):\n",
    "            if min_result > x[i]:\n",
    "                min_result = x[i]\n",
    "        return min_result\n",
    "    \n",
    "    def inner_max_function(x):\n",
    "        length = len(x)\n",
    "        max_result = x[0]\n",
    "        for i in range(length):\n",
    "            if max_result < x[i]:\n",
    "                max_result = x[i]\n",
    "        return max_result\n",
    "        \n",
    "    x_min = inner_min_function(x_list)\n",
    "    x_max = inner_max_function(x_list)\n",
    "    \n",
    "    return x_min, x_max\n",
    "\n",
    "min_value, max_value = minmax_function(list_data)\n",
    "\n",
    "print(\"최솟값은 : \", min_value)\n",
    "print(\"최댓값은 : \", max_value)"
   ]
  },
  {
   "cell_type": "markdown",
   "metadata": {},
   "source": [
    "# 표현식"
   ]
  },
  {
   "cell_type": "markdown",
   "metadata": {},
   "source": [
    "람다 \n",
    "- map, reduce, filter"
   ]
  },
  {
   "cell_type": "code",
   "execution_count": 48,
   "metadata": {},
   "outputs": [],
   "source": [
    "def add(x, y):\n",
    "    return x + y"
   ]
  },
  {
   "cell_type": "code",
   "execution_count": 49,
   "metadata": {},
   "outputs": [],
   "source": [
    "def add(x, y): return x + y"
   ]
  },
  {
   "cell_type": "code",
   "execution_count": 50,
   "metadata": {},
   "outputs": [
    {
     "name": "stdout",
     "output_type": "stream",
     "text": [
      "30\n"
     ]
    }
   ],
   "source": [
    "print( (lambda x,y: x + y)(10, 20) )"
   ]
  },
  {
   "cell_type": "code",
   "execution_count": 51,
   "metadata": {},
   "outputs": [
    {
     "name": "stdout",
     "output_type": "stream",
     "text": [
      "[2, 4, 6]\n"
     ]
    }
   ],
   "source": [
    "def list_mul(x):\n",
    "     return x * 2\n",
    "\n",
    "result = list(map(list_mul, [1, 2, 3]))\n",
    "print(result)\n",
    "\n",
    "#map_res = map(list_mul, [1, 2, 3])\n",
    "#print(map_res)\n",
    "#list_map_res = list(map_res)\n",
    "#print(list_map_res)"
   ]
  },
  {
   "cell_type": "code",
   "execution_count": 52,
   "metadata": {},
   "outputs": [
    {
     "name": "stdout",
     "output_type": "stream",
     "text": [
      "[2, 4, 6]\n"
     ]
    }
   ],
   "source": [
    "result = list(map(lambda i: i * 2 , [1, 2, 3]))\n",
    "print(result)"
   ]
  },
  {
   "cell_type": "code",
   "execution_count": 53,
   "metadata": {},
   "outputs": [
    {
     "data": {
      "text/plain": [
       "10"
      ]
     },
     "execution_count": 53,
     "metadata": {},
     "output_type": "execute_result"
    }
   ],
   "source": [
    "from functools import reduce   # 파이썬 3에서는 써주셔야 해요  \n",
    "reduce(lambda x, y: x + y, [0, 1, 2, 3, 4])"
   ]
  },
  {
   "cell_type": "markdown",
   "metadata": {},
   "source": [
    "## Class / 모듈(Module) / 패키지"
   ]
  },
  {
   "cell_type": "code",
   "execution_count": 59,
   "metadata": {},
   "outputs": [],
   "source": [
    "# import 모듈이름 소문자로 구성해야함.\n",
    "import mycalculator"
   ]
  },
  {
   "cell_type": "code",
   "execution_count": 60,
   "metadata": {},
   "outputs": [
    {
     "name": "stdout",
     "output_type": "stream",
     "text": [
      "6\n"
     ]
    }
   ],
   "source": [
    "# 모듈이름.함수이름()\n",
    "print(mycalculator.add(4, 2))"
   ]
  },
  {
   "cell_type": "code",
   "execution_count": 62,
   "metadata": {},
   "outputs": [
    {
     "name": "stdout",
     "output_type": "stream",
     "text": [
      "6\n"
     ]
    }
   ],
   "source": [
    "import mycalculator as mc # alias\n",
    "print(mc.add(4,2))"
   ]
  },
  {
   "cell_type": "markdown",
   "metadata": {},
   "source": [
    "## 객체지향 프로그래밍 \n",
    "\n",
    "## 함수형 프로그래밍\n",
    "- 순수성\n",
    "- 모듈성\n",
    "- 디버깅 케스트 용이성\n",
    "\n"
   ]
  },
  {
   "cell_type": "code",
   "execution_count": null,
   "metadata": {},
   "outputs": [],
   "source": []
  },
  {
   "cell_type": "code",
   "execution_count": null,
   "metadata": {},
   "outputs": [],
   "source": []
  }
 ],
 "metadata": {
  "kernelspec": {
   "display_name": "Python 3",
   "language": "python",
   "name": "python3"
  },
  "language_info": {
   "codemirror_mode": {
    "name": "ipython",
    "version": 3
   },
   "file_extension": ".py",
   "mimetype": "text/x-python",
   "name": "python",
   "nbconvert_exporter": "python",
   "pygments_lexer": "ipython3",
   "version": "3.7.6"
  }
 },
 "nbformat": 4,
 "nbformat_minor": 4
}
